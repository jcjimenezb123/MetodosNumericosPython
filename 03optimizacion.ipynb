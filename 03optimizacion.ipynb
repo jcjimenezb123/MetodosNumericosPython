{
  "nbformat": 4,
  "nbformat_minor": 0,
  "metadata": {
    "colab": {
      "provenance": [],
      "authorship_tag": "ABX9TyPKBqiFDcEnxcnq70pzfboK",
      "include_colab_link": true
    },
    "kernelspec": {
      "name": "python3",
      "display_name": "Python 3"
    },
    "language_info": {
      "name": "python"
    }
  },
  "cells": [
    {
      "cell_type": "markdown",
      "metadata": {
        "id": "view-in-github",
        "colab_type": "text"
      },
      "source": [
        "<a href=\"https://colab.research.google.com/github/jcjimenezb123/MetodosNumericosPython/blob/master/03optimizacion.ipynb\" target=\"_parent\"><img src=\"https://colab.research.google.com/assets/colab-badge.svg\" alt=\"Open In Colab\"/></a>"
      ]
    },
    {
      "cell_type": "markdown",
      "source": [
        "El método de la sección áurea es un método de optimización que se utiliza para encontrar el mínimo o el máximo de una función unidimensional continua en un intervalo dado. Este método se basa en el concepto matemático de la proporción áurea y utiliza una estrategia de búsqueda iterativa.\n",
        "\n",
        "El método de la sección áurea se basa en dividir iterativamente el intervalo de búsqueda en proporciones áureas y seleccionar el subintervalo que contiene al mínimo o máximo buscado. A medida que se realizan más iteraciones, el intervalo de búsqueda se reduce hasta que se alcanza la precisión deseada.\n",
        "\n",
        "El método de la sección áurea es especialmente útil cuando no se dispone de información sobre la derivada de la función y se necesita encontrar el mínimo o máximo de manera eficiente. Sin embargo, cabe destacar que este método solo se aplica a funciones unidimensionales."
      ],
      "metadata": {
        "id": "FAx3j4Rmmfog"
      }
    },
    {
      "cell_type": "markdown",
      "source": [
        "el algoritmo del método de la sección áurea:\n",
        "\n",
        "1. Definir la función objetivo que deseas maximizar o minimizar.\n",
        "1. Establecer el intervalo de búsqueda [a, b] donde se encuentra el máximo o mínimo.\n",
        "1. Definir un valor de tolerancia epsilon que determine la precisión deseada del resultado.\n",
        "1. Calcular el valor de la proporción áurea: $r = (\\sqrt{5} - 1) / 2$.\n",
        "1. Calcular los puntos de división dentro del intervalo: $x_1 = a + (1 - r) * (b - a)$ y $x_2 = a + r * (b - a)$.\n",
        "1. Evaluar la función en los puntos $x_1$ y $x_2$: $f_1 = f(x_1)$ y $f_2 = f(x_2)$.\n",
        "1. Comparar los valores de $f_1$ y $f_2$ para determinar en qué subintervalo se encuentra el máximo o mínimo buscado.\n",
        "1. Si $f_1 < f_2$, actualizar el intervalo de búsqueda estableciendo $a = x_1$ y $x_1 = x_2$. Calcular un nuevo valor para $x_2$ usando $x_2 = a + r * (b - a)$.\n",
        "1. Si $f_1 > f_2$, actualizar el intervalo de búsqueda estableciendo $b = x_2$ y $x_2 = x_1$. Calcular un nuevo valor para $x_1$ usando $x_1 = a + (1 - r) * (b - a)$.\n",
        "1. Repetir los pasos 6 a 9 hasta que la diferencia entre $b$ y a sea menor que epsilon.\n",
        "1. El resultado final será el punto medio del intervalo $[a, b]$.\n",
        "\n",
        "Es importante destacar que el método de la sección áurea es aplicable tanto para encontrar el máximo como el mínimo de una función unidimensional. La diferencia radica en la comparación de los valores de la función $f_1$ y $f_2$ en el paso 7: si se busca el máximo, se utilizará la comparación $f_1 < f_2$, y si se busca el mínimo, se utilizará la comparación $f_1 > f_2$."
      ],
      "metadata": {
        "id": "79_8B_sOKuyA"
      }
    },
    {
      "cell_type": "code",
      "source": [
        "from tabulate import tabulate\n",
        "import numpy as np"
      ],
      "metadata": {
        "id": "hwkbvI--hEPO"
      },
      "execution_count": null,
      "outputs": []
    },
    {
      "cell_type": "code",
      "execution_count": 1,
      "metadata": {
        "id": "SlSuIiOih-Lt"
      },
      "outputs": [],
      "source": [
        "def seccionaurea(f, a, b, tol=1e-5):\n",
        "    phi = (np.sqrt(5) - 1) / 2\n",
        "    x1 = a + (1 - phi) * (b - a)\n",
        "    x2 = a + phi * (b - a)\n",
        "    print(phi,1-phi)\n",
        "    tabla=[]\n",
        "    titulos=['a','x1','x2','b','f(x1)','f(x2)']\n",
        "    while abs(b - a) > tol:\n",
        "        if f(x1) < f(x2):\n",
        "            a = x1 #<--- asignar el valor de x1, paso 8\n",
        "            x1 = x2\n",
        "            x2 = a + phi * (b - a)\n",
        "        else:\n",
        "            b = x2 #<--- asignar el valor de x2, paso 9\n",
        "            x2 = x1\n",
        "            x1 = a + (1 - phi) * (b - a)\n",
        "        it=[a,x1,x2,b,f(x1),f(x2)]\n",
        "        tabla.append(it)\n",
        "    print(tabulate(tabla,titulos,showindex=True))\n",
        "    return #<--- retornar el punto medio, paso 11"
      ]
    },
    {
      "cell_type": "code",
      "source": [
        "f = lambda x:2*np.sin(x)-x**2/10"
      ],
      "metadata": {
        "id": "oM1I5zIxiQea"
      },
      "execution_count": 2,
      "outputs": []
    },
    {
      "cell_type": "code",
      "source": [
        "import matplotlib.pyplot as plt\n",
        "xs = np.linspace() #<---- crear el rango de [0,4]\n",
        "plt.plot() #<--- graficar el rango\n",
        "plt.grid()\n",
        "plt.show()"
      ],
      "metadata": {
        "id": "XEowe27FpIbj"
      },
      "execution_count": null,
      "outputs": []
    },
    {
      "cell_type": "code",
      "source": [
        "max = seccionaurea(f,0,4) #<---- dar los parametros en el intervalo [0,4]\n",
        "print(max)"
      ],
      "metadata": {
        "id": "QKwKBQxtif56",
        "colab": {
          "base_uri": "https://localhost:8080/"
        },
        "outputId": "ee45548f-7ce5-40b7-ae97-8a71af27bb1c"
      },
      "execution_count": 3,
      "outputs": [
        {
          "output_type": "stream",
          "name": "stdout",
          "text": [
            "0.6180339887498949 0.3819660112501051\n",
            "           a        x1       x2        b    f(x1)    f(x2)\n",
            "--  --------  --------  -------  -------  -------  -------\n",
            " 0  0         0.944272  1.52786  2.47214  1.53098  1.76472\n",
            " 1  0.944272  1.52786   1.88854  2.47214  1.76472  1.54322\n",
            " 2  0.944272  1.30495   1.52786  1.88854  1.75945  1.76472\n",
            " 3  1.30495   1.52786   1.66563  1.88854  1.76472  1.71358\n",
            " 4  1.30495   1.44272   1.52786  1.66563  1.77547  1.76472\n",
            " 5  1.30495   1.3901    1.44272  1.52786  1.7742   1.77547\n",
            " 6  1.3901    1.44272   1.47524  1.52786  1.77547  1.77324\n",
            " 7  1.3901    1.42262   1.44272  1.47524  1.7757   1.77547\n",
            " 8  1.3901    1.4102    1.42262  1.44272  1.7754   1.7757\n",
            " 9  1.4102    1.42262   1.4303   1.44272  1.7757   1.77572\n",
            "10  1.42262   1.4303    1.43504  1.44272  1.77572  1.77566\n",
            "11  1.42262   1.42736   1.4303   1.43504  1.77573  1.77572\n",
            "12  1.42262   1.42555   1.42736  1.4303   1.77572  1.77573\n",
            "13  1.42555   1.42736   1.42848  1.4303   1.77573  1.77572\n",
            "14  1.42555   1.42667   1.42736  1.42848  1.77572  1.77573\n",
            "15  1.42667   1.42736   1.42779  1.42848  1.77573  1.77573\n",
            "16  1.42667   1.4271    1.42736  1.42779  1.77573  1.77573\n",
            "17  1.4271    1.42736   1.42753  1.42779  1.77573  1.77573\n",
            "18  1.42736   1.42753   1.42763  1.42779  1.77573  1.77573\n",
            "19  1.42736   1.42747   1.42753  1.42763  1.77573  1.77573\n",
            "20  1.42747   1.42753   1.42757  1.42763  1.77573  1.77573\n",
            "21  1.42753   1.42757   1.42759  1.42763  1.77573  1.77573\n",
            "22  1.42753   1.42755   1.42757  1.42759  1.77573  1.77573\n",
            "23  1.42753   1.42754   1.42755  1.42757  1.77573  1.77573\n",
            "24  1.42754   1.42755   1.42756  1.42757  1.77573  1.77573\n",
            "25  1.42754   1.42755   1.42755  1.42756  1.77573  1.77573\n",
            "26  1.42755   1.42755   1.42755  1.42756  1.77573  1.77573\n",
            "None\n"
          ]
        }
      ]
    },
    {
      "cell_type": "markdown",
      "source": [
        "Método de Newton"
      ],
      "metadata": {
        "id": "8GZuF36LopYW"
      }
    },
    {
      "cell_type": "code",
      "source": [
        "import sympy as sp"
      ],
      "metadata": {
        "id": "hLunpJiKioY3"
      },
      "execution_count": null,
      "outputs": []
    },
    {
      "cell_type": "code",
      "source": [
        "x = sp.Symbol('x')\n",
        "fx = 2*sp.sin(x)-x**2/10\n",
        "dfx = sp.diff() #<--- obtener la primera derivada\n",
        "dfx2 = sp.diff() #<--- obtener la segunda derivada\n",
        "print(dfx)\n",
        "print(dfx2)"
      ],
      "metadata": {
        "colab": {
          "base_uri": "https://localhost:8080/"
        },
        "id": "VYsQIs2Vm5V0",
        "outputId": "0736c602-acc6-4f8c-9b1c-6584a0080176"
      },
      "execution_count": null,
      "outputs": [
        {
          "output_type": "stream",
          "name": "stdout",
          "text": [
            "-x/5 + 2*cos(x)\n",
            "-(2*sin(x) + 1/5)\n"
          ]
        }
      ]
    },
    {
      "cell_type": "code",
      "source": [
        "from scipy.optimize import newton\n",
        "import numpy as np"
      ],
      "metadata": {
        "id": "EQyTRHPKnRaz"
      },
      "execution_count": null,
      "outputs": []
    },
    {
      "cell_type": "code",
      "source": [
        "max = newton(func=, #<--- derivada\n",
        "             x0=, #<--- valor inicial\n",
        "             fprime=) #<--- segunda derivada\n",
        "print(max)"
      ],
      "metadata": {
        "colab": {
          "base_uri": "https://localhost:8080/"
        },
        "id": "F2Nnfq8AnZ6j",
        "outputId": "10af4a95-ff5a-4602-b30a-c876f1d2f6de"
      },
      "execution_count": null,
      "outputs": [
        {
          "output_type": "stream",
          "name": "stdout",
          "text": [
            "1.4275517787645942\n"
          ]
        }
      ]
    },
    {
      "cell_type": "markdown",
      "source": [
        "Método de la secante"
      ],
      "metadata": {
        "id": "Yv4oHqdrouSE"
      }
    },
    {
      "cell_type": "code",
      "source": [
        "max = newton(func=, #<--- primera derivada\n",
        "             x0=,x1=) #<--- valores iniciales\n",
        "print(max)"
      ],
      "metadata": {
        "colab": {
          "base_uri": "https://localhost:8080/"
        },
        "id": "3zZ2iYd5oLYF",
        "outputId": "c77be4c0-c23e-47a8-d000-70ae062a65d0"
      },
      "execution_count": null,
      "outputs": [
        {
          "output_type": "stream",
          "name": "stdout",
          "text": [
            "1.4275517787645942\n"
          ]
        }
      ]
    },
    {
      "cell_type": "code",
      "source": [],
      "metadata": {
        "id": "kS5yUtX7ojao"
      },
      "execution_count": null,
      "outputs": []
    }
  ]
}