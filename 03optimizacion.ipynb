{
  "nbformat": 4,
  "nbformat_minor": 0,
  "metadata": {
    "colab": {
      "provenance": [],
      "authorship_tag": "ABX9TyN1rA9gnUelELQXUxF87o3g",
      "include_colab_link": true
    },
    "kernelspec": {
      "name": "python3",
      "display_name": "Python 3"
    },
    "language_info": {
      "name": "python"
    }
  },
  "cells": [
    {
      "cell_type": "markdown",
      "metadata": {
        "id": "view-in-github",
        "colab_type": "text"
      },
      "source": [
        "<a href=\"https://colab.research.google.com/github/jcjimenezb123/MetodosNumericosPython/blob/master/03optimizacion.ipynb\" target=\"_parent\"><img src=\"https://colab.research.google.com/assets/colab-badge.svg\" alt=\"Open In Colab\"/></a>"
      ]
    },
    {
      "cell_type": "markdown",
      "source": [
        "El método de la sección áurea es un método de optimización que se utiliza para encontrar el mínimo o el máximo de una función unidimensional continua en un intervalo dado. Este método se basa en el concepto matemático de la proporción áurea y utiliza una estrategia de búsqueda iterativa.\n",
        "\n",
        "El método de la sección áurea se basa en dividir iterativamente el intervalo de búsqueda en proporciones áureas y seleccionar el subintervalo que contiene al mínimo o máximo buscado. A medida que se realizan más iteraciones, el intervalo de búsqueda se reduce hasta que se alcanza la precisión deseada.\n",
        "\n",
        "El método de la sección áurea es especialmente útil cuando no se dispone de información sobre la derivada de la función y se necesita encontrar el mínimo o máximo de manera eficiente. Sin embargo, cabe destacar que este método solo se aplica a funciones unidimensionales."
      ],
      "metadata": {
        "id": "FAx3j4Rmmfog"
      }
    },
    {
      "cell_type": "markdown",
      "source": [
        "El algoritmo del método de la sección áurea:\n",
        "\n",
        "1. Definir la función objetivo que deseas maximizar o minimizar.\n",
        "1. Establecer el intervalo de búsqueda [a, b] donde se encuentra el máximo o mínimo.\n",
        "1. Definir un valor de tolerancia epsilon que determine la precisión deseada del resultado.\n",
        "1. Calcular el valor de la proporción áurea:\n",
        "\n",
        " $\\phi = (\\sqrt{5} - 1) / 2$\n",
        "\n",
        " $\\phi2 = \\phi^2$\n",
        "1. Calcular los puntos de división dentro del intervalo:\n",
        "$x_1 = a + \\phi^2 * (b - a)$\n",
        "\n",
        "  $x_2 = a + \\phi * (b - a)$.\n",
        "1. Evaluar la función en los puntos $x_1$ y $x_2$: $f_1 = f(x_1)$ y $f_2 = f(x_2)$.\n",
        "1. Comparar los valores de $f_1$ y $f_2$ para determinar en qué subintervalo se encuentra el máximo o mínimo buscado.\n",
        "1. Si $f_1 > f_2$, actualizar el intervalo de búsqueda estableciendo\n",
        "$b = x_2$\n",
        "\n",
        " $x_2 = x_1$.\n",
        "\n",
        " Calcular un nuevo valor para $x_1$\n",
        "\n",
        "  $x_1 = a + \\phi^2 * (b - a)$.\n",
        "\n",
        " Si no\n",
        "\n",
        " $a = x_1$\n",
        "\n",
        " $x_1 = x_2$.\n",
        "\n",
        " Calcular un nuevo valor para $x_2$\n",
        "\n",
        " $x_2 = a + \\phi^2 * (b - a)$.\n",
        "1. Repetir los pasos 6 a 8 hasta que la diferencia entre $b$ y a sea menor que epsilon.\n",
        "1. El resultado final será el punto medio del intervalo $[a, b]$.\n",
        "\n",
        "Es importante destacar que el método de la sección áurea es aplicable tanto para encontrar el máximo como el mínimo de una función unidimensional. La diferencia radica en la comparación de los valores de la función $f_1$ y $f_2$ en el paso 7: si se busca el máximo, se utilizará la comparación $f_1 < f_2$, y si se busca el mínimo, se utilizará la comparación $f_1 > f_2$."
      ],
      "metadata": {
        "id": "79_8B_sOKuyA"
      }
    },
    {
      "cell_type": "code",
      "source": [
        "from tabulate import tabulate\n",
        "import numpy as np"
      ],
      "metadata": {
        "id": "hwkbvI--hEPO"
      },
      "execution_count": 1,
      "outputs": []
    },
    {
      "cell_type": "code",
      "execution_count": null,
      "metadata": {
        "id": "SlSuIiOih-Lt"
      },
      "outputs": [],
      "source": [
        "def seccionaurea(f, a, b, tol=1e-5):\n",
        "    phi = (np.sqrt(5) - 1) / 2\n",
        "    phi2 = phi**2\n",
        "    x1 = a + phi2 * (b - a)\n",
        "    x2 = a + phi * (b - a)\n",
        "    tabla=[]\n",
        "    titulos=['a','x1','x2','b','f(x1)','f(x2)']\n",
        "    while abs(b - a) > tol:\n",
        "        if f(x1) < f(x2):\n",
        "            a = #<--- asignar el valor de x1, paso 8\n",
        "            x1 = x2\n",
        "            x2 = a + phi * (b - a)\n",
        "        else:\n",
        "            b = #<--- asignar el valor de x2, paso 9\n",
        "            x2 = x1\n",
        "            x1 = a + phi2 * (b - a)\n",
        "        it=[a,x1,x2,b,f(x1),f(x2)]\n",
        "        tabla.append(it)\n",
        "    print(tabulate(tabla,titulos,showindex=True))\n",
        "    return #<--- retornar el punto medio, paso 11"
      ]
    },
    {
      "cell_type": "code",
      "source": [
        "f = lambda x:2*np.sin(x)-x**2/10"
      ],
      "metadata": {
        "id": "oM1I5zIxiQea"
      },
      "execution_count": null,
      "outputs": []
    },
    {
      "cell_type": "code",
      "source": [
        "import matplotlib.pyplot as plt\n",
        "xs = np.linspace() #<---- crear el rango de [0,4]\n",
        "plt.plot() #<--- graficar el rango\n",
        "plt.grid()\n",
        "plt.show()"
      ],
      "metadata": {
        "id": "XEowe27FpIbj"
      },
      "execution_count": null,
      "outputs": []
    },
    {
      "cell_type": "code",
      "source": [
        "max = seccionaurea(f,) #<---- dar los parametros en el intervalo [0,4]\n",
        "print(max)"
      ],
      "metadata": {
        "id": "QKwKBQxtif56"
      },
      "execution_count": null,
      "outputs": []
    },
    {
      "cell_type": "markdown",
      "source": [
        "Método de Newton"
      ],
      "metadata": {
        "id": "8GZuF36LopYW"
      }
    },
    {
      "cell_type": "code",
      "source": [
        "import sympy as sp"
      ],
      "metadata": {
        "id": "hLunpJiKioY3"
      },
      "execution_count": null,
      "outputs": []
    },
    {
      "cell_type": "code",
      "source": [
        "x = sp.Symbol('x')\n",
        "fx = 2*sp.sin(x)-x**2/10\n",
        "dfx = sp.diff() #<--- obtener la primera derivada\n",
        "dfx2 = sp.diff() #<--- obtener la segunda derivada\n",
        "print(dfx)\n",
        "print(dfx2)"
      ],
      "metadata": {
        "colab": {
          "base_uri": "https://localhost:8080/"
        },
        "id": "VYsQIs2Vm5V0",
        "outputId": "0736c602-acc6-4f8c-9b1c-6584a0080176"
      },
      "execution_count": null,
      "outputs": [
        {
          "output_type": "stream",
          "name": "stdout",
          "text": [
            "-x/5 + 2*cos(x)\n",
            "-(2*sin(x) + 1/5)\n"
          ]
        }
      ]
    },
    {
      "cell_type": "code",
      "source": [
        "from scipy.optimize import newton\n",
        "import numpy as np"
      ],
      "metadata": {
        "id": "EQyTRHPKnRaz"
      },
      "execution_count": null,
      "outputs": []
    },
    {
      "cell_type": "code",
      "source": [
        "max = newton(func=, #<--- derivada\n",
        "             x0=, #<--- valor inicial\n",
        "             fprime=) #<--- segunda derivada\n",
        "print(max)"
      ],
      "metadata": {
        "colab": {
          "base_uri": "https://localhost:8080/"
        },
        "id": "F2Nnfq8AnZ6j",
        "outputId": "10af4a95-ff5a-4602-b30a-c876f1d2f6de"
      },
      "execution_count": null,
      "outputs": [
        {
          "output_type": "stream",
          "name": "stdout",
          "text": [
            "1.4275517787645942\n"
          ]
        }
      ]
    },
    {
      "cell_type": "markdown",
      "source": [
        "Método de la secante"
      ],
      "metadata": {
        "id": "Yv4oHqdrouSE"
      }
    },
    {
      "cell_type": "code",
      "source": [
        "max = newton(func=, #<--- primera derivada\n",
        "             x0=,x1=) #<--- valores iniciales\n",
        "print(max)"
      ],
      "metadata": {
        "colab": {
          "base_uri": "https://localhost:8080/"
        },
        "id": "3zZ2iYd5oLYF",
        "outputId": "c77be4c0-c23e-47a8-d000-70ae062a65d0"
      },
      "execution_count": null,
      "outputs": [
        {
          "output_type": "stream",
          "name": "stdout",
          "text": [
            "1.4275517787645942\n"
          ]
        }
      ]
    },
    {
      "cell_type": "code",
      "source": [],
      "metadata": {
        "id": "kS5yUtX7ojao"
      },
      "execution_count": null,
      "outputs": []
    }
  ]
}