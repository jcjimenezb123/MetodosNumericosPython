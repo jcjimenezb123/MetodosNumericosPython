{
  "nbformat": 4,
  "nbformat_minor": 0,
  "metadata": {
    "colab": {
      "provenance": [],
      "authorship_tag": "ABX9TyNpZFEiGG7317ZJuta/20hn",
      "include_colab_link": true
    },
    "kernelspec": {
      "name": "python3",
      "display_name": "Python 3"
    },
    "language_info": {
      "name": "python"
    }
  },
  "cells": [
    {
      "cell_type": "markdown",
      "metadata": {
        "id": "view-in-github",
        "colab_type": "text"
      },
      "source": [
        "<a href=\"https://colab.research.google.com/github/jcjimenezb123/MetodosNumericosPython/blob/master/03optimizacion.ipynb\" target=\"_parent\"><img src=\"https://colab.research.google.com/assets/colab-badge.svg\" alt=\"Open In Colab\"/></a>"
      ]
    },
    {
      "cell_type": "markdown",
      "source": [
        "El método de la sección áurea es un método de optimización que se utiliza para encontrar el mínimo o el máximo de una función unidimensional continua en un intervalo dado. Este método se basa en el concepto matemático de la proporción áurea y utiliza una estrategia de búsqueda iterativa.\n",
        "\n",
        "El método de la sección áurea se basa en dividir iterativamente el intervalo de búsqueda en proporciones áureas y seleccionar el subintervalo que contiene al mínimo o máximo buscado. A medida que se realizan más iteraciones, el intervalo de búsqueda se reduce hasta que se alcanza la precisión deseada.\n",
        "\n",
        "El método de la sección áurea es especialmente útil cuando no se dispone de información sobre la derivada de la función y se necesita encontrar el mínimo o máximo de manera eficiente. Sin embargo, cabe destacar que este método solo se aplica a funciones unidimensionales."
      ],
      "metadata": {
        "id": "FAx3j4Rmmfog"
      }
    },
    {
      "cell_type": "code",
      "execution_count": 20,
      "metadata": {
        "id": "SlSuIiOih-Lt"
      },
      "outputs": [],
      "source": [
        "import numpy as np\n",
        "\n",
        "def golden_section_search(function, a, b, epsilon=1e-5):\n",
        "    golden_ratio = (np.sqrt(5) - 1) / 2\n",
        "    x1 = a + (1 - golden_ratio) * (b - a)\n",
        "    x2 = a + golden_ratio * (b - a)\n",
        "\n",
        "    while abs(b - a) > epsilon:\n",
        "        if function(x1) < function(x2):\n",
        "            a = x1\n",
        "            x1 = x2\n",
        "            x2 = a + golden_ratio * (b - a)\n",
        "        else:\n",
        "            b = x2\n",
        "            x2 = x1\n",
        "            x1 = a + (1 - golden_ratio) * (b - a)\n",
        "\n",
        "    return (a + b) / 2"
      ]
    },
    {
      "cell_type": "code",
      "source": [
        "f = lambda x:2*np.sin(x)-x**2/10"
      ],
      "metadata": {
        "id": "oM1I5zIxiQea"
      },
      "execution_count": 21,
      "outputs": []
    },
    {
      "cell_type": "code",
      "source": [
        "import matplotlib.pyplot as plt\n",
        "xs = np.linspace() #<---- crear el rango\n",
        "plt.plot() <--- #graficar el rango\n",
        "plt.grid()\n",
        "plt.show()"
      ],
      "metadata": {
        "colab": {
          "base_uri": "https://localhost:8080/",
          "height": 430
        },
        "id": "XEowe27FpIbj",
        "outputId": "a5143f5d-8d4b-4fe7-c3ae-d20eaddc7ee7"
      },
      "execution_count": 23,
      "outputs": [
        {
          "output_type": "display_data",
          "data": {
            "text/plain": [
              "<Figure size 640x480 with 1 Axes>"
            ],
            "image/png": "[encoded data removed]"
          },
          "metadata": {}
        }
      ]
    },
    {
      "cell_type": "code",
      "source": [
        "max = golden_section_search() #<---- dar los parametros\n",
        "print(max)"
      ],
      "metadata": {
        "colab": {
          "base_uri": "https://localhost:8080/"
        },
        "id": "QKwKBQxtif56",
        "outputId": "f34833bf-5d57-4c48-d44a-a4fd3cf7cb01"
      },
      "execution_count": 25,
      "outputs": [
        {
          "output_type": "stream",
          "name": "stdout",
          "text": [
            "1.4275524140085705\n"
          ]
        }
      ]
    },
    {
      "cell_type": "markdown",
      "source": [
        "Método de Newton"
      ],
      "metadata": {
        "id": "8GZuF36LopYW"
      }
    },
    {
      "cell_type": "code",
      "source": [
        "import sympy as sp"
      ],
      "metadata": {
        "id": "hLunpJiKioY3"
      },
      "execution_count": 8,
      "outputs": []
    },
    {
      "cell_type": "code",
      "source": [
        "x = sp.Symbol('x')\n",
        "fx = 2*sp.sin(x)-x**2/10\n",
        "dfx = sp.diff() #<--- obtener la primera derivada\n",
        "dfx2 = sp.diff() #<--- obtener la segunda derivada\n",
        "print(dfx)\n",
        "print(dfx2)"
      ],
      "metadata": {
        "colab": {
          "base_uri": "https://localhost:8080/"
        },
        "id": "VYsQIs2Vm5V0",
        "outputId": "0736c602-acc6-4f8c-9b1c-6584a0080176"
      },
      "execution_count": 12,
      "outputs": [
        {
          "output_type": "stream",
          "name": "stdout",
          "text": [
            "-x/5 + 2*cos(x)\n",
            "-(2*sin(x) + 1/5)\n"
          ]
        }
      ]
    },
    {
      "cell_type": "code",
      "source": [
        "from scipy.optimize import newton\n",
        "import numpy as np"
      ],
      "metadata": {
        "id": "EQyTRHPKnRaz"
      },
      "execution_count": 14,
      "outputs": []
    },
    {
      "cell_type": "code",
      "source": [
        "max = newton(func=, #<--- derivada\n",
        "             x0=, #<--- valor inicial\n",
        "             fprime=) #<--- segunda derivada\n",
        "print(max)"
      ],
      "metadata": {
        "colab": {
          "base_uri": "https://localhost:8080/"
        },
        "id": "F2Nnfq8AnZ6j",
        "outputId": "10af4a95-ff5a-4602-b30a-c876f1d2f6de"
      },
      "execution_count": 26,
      "outputs": [
        {
          "output_type": "stream",
          "name": "stdout",
          "text": [
            "1.4275517787645942\n"
          ]
        }
      ]
    },
    {
      "cell_type": "markdown",
      "source": [
        "Método de la secante"
      ],
      "metadata": {
        "id": "Yv4oHqdrouSE"
      }
    },
    {
      "cell_type": "code",
      "source": [
        "max = newton(func=, #<--- primera derivada\n",
        "             x0=,x1=) #<--- valores iniciales\n",
        "print(max)"
      ],
      "metadata": {
        "colab": {
          "base_uri": "https://localhost:8080/"
        },
        "id": "3zZ2iYd5oLYF",
        "outputId": "c77be4c0-c23e-47a8-d000-70ae062a65d0"
      },
      "execution_count": 27,
      "outputs": [
        {
          "output_type": "stream",
          "name": "stdout",
          "text": [
            "1.4275517787645942\n"
          ]
        }
      ]
    },
    {
      "cell_type": "code",
      "source": [],
      "metadata": {
        "id": "kS5yUtX7ojao"
      },
      "execution_count": null,
      "outputs": []
    }
  ]
}