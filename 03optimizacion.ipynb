{
  "nbformat": 4,
  "nbformat_minor": 0,
  "metadata": {
    "colab": {
      "provenance": [],
      "authorship_tag": "ABX9TyMH4hVI4aK3by/YUizozCI3",
      "include_colab_link": true
    },
    "kernelspec": {
      "name": "python3",
      "display_name": "Python 3"
    },
    "language_info": {
      "name": "python"
    }
  },
  "cells": [
    {
      "cell_type": "markdown",
      "metadata": {
        "id": "view-in-github",
        "colab_type": "text"
      },
      "source": [
        "<a href=\"https://colab.research.google.com/github/jcjimenezb123/MetodosNumericosPython/blob/master/03optimizacion.ipynb\" target=\"_parent\"><img src=\"https://colab.research.google.com/assets/colab-badge.svg\" alt=\"Open In Colab\"/></a>"
      ]
    },
    {
      "cell_type": "markdown",
      "source": [
        "El método de la sección áurea es un método de optimización que se utiliza para encontrar el mínimo o el máximo de una función unidimensional continua en un intervalo dado. Este método se basa en el concepto matemático de la proporción áurea y utiliza una estrategia de búsqueda iterativa.\n",
        "\n",
        "El método de la sección áurea se basa en dividir iterativamente el intervalo de búsqueda en proporciones áureas y seleccionar el subintervalo que contiene al mínimo o máximo buscado. A medida que se realizan más iteraciones, el intervalo de búsqueda se reduce hasta que se alcanza la precisión deseada.\n",
        "\n",
        "El método de la sección áurea es especialmente útil cuando no se dispone de información sobre la derivada de la función y se necesita encontrar el mínimo o máximo de manera eficiente. Sin embargo, cabe destacar que este método solo se aplica a funciones unidimensionales."
      ],
      "metadata": {
        "id": "FAx3j4Rmmfog"
      }
    },
    {
      "cell_type": "markdown",
      "source": [
        "el algoritmo del método de la sección áurea:\n",
        "\n",
        "1. Definir la función objetivo que deseas maximizar o minimizar.\n",
        "1. Establecer el intervalo de búsqueda [a, b] donde se encuentra el máximo o mínimo.\n",
        "1. Definir un valor de tolerancia epsilon que determine la precisión deseada del resultado.\n",
        "1. Calcular el valor de la proporción áurea: $r = (\\sqrt{5} - 1) / 2$.\n",
        "1. Calcular los puntos de división dentro del intervalo: $x_1 = a + (1 - r) * (b - a)$ y $x_2 = a + r * (b - a)$.\n",
        "1. Evaluar la función en los puntos $x_1$ y $x_2$: $f_1 = f(x_1)$ y $f_2 = f(x_2)$.\n",
        "1. Comparar los valores de $f_1$ y $f_2$ para determinar en qué subintervalo se encuentra el máximo o mínimo buscado.\n",
        "1. Si $f_1 < f_2$, actualizar el intervalo de búsqueda estableciendo $a = x_1$ y $x_1 = x_2$. Calcular un nuevo valor para $x_2$ usando $x_2 = a + r * (b - a)$.\n",
        "1. Si $f_1 > f_2$, actualizar el intervalo de búsqueda estableciendo $b = x_2$ y $x_2 = x_1$. Calcular un nuevo valor para $x_1$ usando $x_1 = a + (1 - r) * (b - a)$.\n",
        "1. Repetir los pasos 6 a 9 hasta que la diferencia entre $b$ y a sea menor que epsilon.\n",
        "1. El resultado final será el punto medio del intervalo $[a, b]$.\n",
        "\n",
        "Es importante destacar que el método de la sección áurea es aplicable tanto para encontrar el máximo como el mínimo de una función unidimensional. La diferencia radica en la comparación de los valores de la función $f_1$ y $f_2$ en el paso 7: si se busca el máximo, se utilizará la comparación $f_1 < f_2$, y si se busca el mínimo, se utilizará la comparación $f_1 > f_2$."
      ],
      "metadata": {
        "id": "79_8B_sOKuyA"
      }
    },
    {
      "cell_type": "code",
      "execution_count": null,
      "metadata": {
        "id": "SlSuIiOih-Lt"
      },
      "outputs": [],
      "source": [
        "import numpy as np\n",
        "\n",
        "def golden_section_search(function, a, b, epsilon=1e-5):\n",
        "    golden_ratio = (np.sqrt(5) - 1) / 2\n",
        "    x1 = a + (1 - golden_ratio) * (b - a)\n",
        "    x2 = a + golden_ratio * (b - a)\n",
        "    print(golden_ratio,1-golden_ratio)\n",
        "    while abs(b - a) > epsilon:\n",
        "        print(f'{a:10.4f}{x1:10.4f}{x2:10.4f}{b:10.4f}{function(x1):10.4f}{function(x2):10.4}')\n",
        "        if function(x1) < function(x2):\n",
        "            a = x1\n",
        "            x1 = x2\n",
        "            x2 = a + golden_ratio * (b - a)\n",
        "        else:\n",
        "            b = x2\n",
        "            x2 = x1\n",
        "            x1 = a + (1 - golden_ratio) * (b - a)\n",
        "\n",
        "    return (a + b) / 2"
      ]
    },
    {
      "cell_type": "code",
      "source": [
        "f = lambda x:2*np.sin(x)-x**2/10"
      ],
      "metadata": {
        "id": "oM1I5zIxiQea"
      },
      "execution_count": null,
      "outputs": []
    },
    {
      "cell_type": "code",
      "source": [
        "import matplotlib.pyplot as plt\n",
        "xs = np.linspace() #<---- crear el rango\n",
        "plt.plot() #<--- graficar el rango\n",
        "plt.grid()\n",
        "plt.show()"
      ],
      "metadata": {
        "colab": {
          "base_uri": "https://localhost:8080/",
          "height": 434
        },
        "id": "XEowe27FpIbj",
        "outputId": "120e6cae-c13f-41dc-8b59-c7621fb0cff7"
      },
      "execution_count": null,
      "outputs": [
        {
          "output_type": "display_data",
          "data": {
            "text/plain": [
              "<Figure size 640x480 with 1 Axes>"
            ],
            "image/png": "[encoded data removed]"
          },
          "metadata": {}
        }
      ]
    },
    {
      "cell_type": "code",
      "source": [
        "max = golden_section_search() #<---- dar los parametros\n",
        "print(max)"
      ],
      "metadata": {
        "colab": {
          "base_uri": "https://localhost:8080/"
        },
        "id": "QKwKBQxtif56",
        "outputId": "ee6e7e6b-3134-454a-a81a-a3793b33a4f1"
      },
      "execution_count": null,
      "outputs": [
        {
          "output_type": "stream",
          "name": "stdout",
          "text": [
            "0.6180339887498949 0.3819660112501051\n",
            "    0.0000    1.5279    2.4721    4.0000    1.7647      0.63\n",
            "    0.0000    0.9443    1.5279    2.4721    1.5310     1.765\n",
            "    0.9443    1.5279    1.8885    2.4721    1.7647     1.543\n",
            "    0.9443    1.3050    1.5279    1.8885    1.7595     1.765\n",
            "    1.3050    1.5279    1.6656    1.8885    1.7647     1.714\n",
            "    1.3050    1.4427    1.5279    1.6656    1.7755     1.765\n",
            "    1.3050    1.3901    1.4427    1.5279    1.7742     1.775\n",
            "    1.3901    1.4427    1.4752    1.5279    1.7755     1.773\n",
            "    1.3901    1.4226    1.4427    1.4752    1.7757     1.775\n",
            "    1.3901    1.4102    1.4226    1.4427    1.7754     1.776\n",
            "    1.4102    1.4226    1.4303    1.4427    1.7757     1.776\n",
            "    1.4226    1.4303    1.4350    1.4427    1.7757     1.776\n",
            "    1.4226    1.4274    1.4303    1.4350    1.7757     1.776\n",
            "    1.4226    1.4256    1.4274    1.4303    1.7757     1.776\n",
            "    1.4256    1.4274    1.4285    1.4303    1.7757     1.776\n",
            "    1.4256    1.4267    1.4274    1.4285    1.7757     1.776\n",
            "    1.4267    1.4274    1.4278    1.4285    1.7757     1.776\n",
            "    1.4267    1.4271    1.4274    1.4278    1.7757     1.776\n",
            "    1.4271    1.4274    1.4275    1.4278    1.7757     1.776\n",
            "    1.4274    1.4275    1.4276    1.4278    1.7757     1.776\n",
            "    1.4274    1.4275    1.4275    1.4276    1.7757     1.776\n",
            "    1.4275    1.4275    1.4276    1.4276    1.7757     1.776\n",
            "    1.4275    1.4276    1.4276    1.4276    1.7757     1.776\n",
            "    1.4275    1.4276    1.4276    1.4276    1.7757     1.776\n",
            "    1.4275    1.4275    1.4276    1.4276    1.7757     1.776\n",
            "    1.4275    1.4276    1.4276    1.4276    1.7757     1.776\n",
            "    1.4275    1.4275    1.4276    1.4276    1.7757     1.776\n",
            "1.4275524140085705\n"
          ]
        }
      ]
    },
    {
      "cell_type": "markdown",
      "source": [
        "Método de Newton"
      ],
      "metadata": {
        "id": "8GZuF36LopYW"
      }
    },
    {
      "cell_type": "code",
      "source": [
        "import sympy as sp"
      ],
      "metadata": {
        "id": "hLunpJiKioY3"
      },
      "execution_count": null,
      "outputs": []
    },
    {
      "cell_type": "code",
      "source": [
        "x = sp.Symbol('x')\n",
        "fx = 2*sp.sin(x)-x**2/10\n",
        "dfx = sp.diff() #<--- obtener la primera derivada\n",
        "dfx2 = sp.diff() #<--- obtener la segunda derivada\n",
        "print(dfx)\n",
        "print(dfx2)"
      ],
      "metadata": {
        "colab": {
          "base_uri": "https://localhost:8080/"
        },
        "id": "VYsQIs2Vm5V0",
        "outputId": "0736c602-acc6-4f8c-9b1c-6584a0080176"
      },
      "execution_count": null,
      "outputs": [
        {
          "output_type": "stream",
          "name": "stdout",
          "text": [
            "-x/5 + 2*cos(x)\n",
            "-(2*sin(x) + 1/5)\n"
          ]
        }
      ]
    },
    {
      "cell_type": "code",
      "source": [
        "from scipy.optimize import newton\n",
        "import numpy as np"
      ],
      "metadata": {
        "id": "EQyTRHPKnRaz"
      },
      "execution_count": null,
      "outputs": []
    },
    {
      "cell_type": "code",
      "source": [
        "max = newton(func=, #<--- derivada\n",
        "             x0=, #<--- valor inicial\n",
        "             fprime=) #<--- segunda derivada\n",
        "print(max)"
      ],
      "metadata": {
        "colab": {
          "base_uri": "https://localhost:8080/"
        },
        "id": "F2Nnfq8AnZ6j",
        "outputId": "10af4a95-ff5a-4602-b30a-c876f1d2f6de"
      },
      "execution_count": null,
      "outputs": [
        {
          "output_type": "stream",
          "name": "stdout",
          "text": [
            "1.4275517787645942\n"
          ]
        }
      ]
    },
    {
      "cell_type": "markdown",
      "source": [
        "Método de la secante"
      ],
      "metadata": {
        "id": "Yv4oHqdrouSE"
      }
    },
    {
      "cell_type": "code",
      "source": [
        "max = newton(func=, #<--- primera derivada\n",
        "             x0=,x1=) #<--- valores iniciales\n",
        "print(max)"
      ],
      "metadata": {
        "colab": {
          "base_uri": "https://localhost:8080/"
        },
        "id": "3zZ2iYd5oLYF",
        "outputId": "c77be4c0-c23e-47a8-d000-70ae062a65d0"
      },
      "execution_count": null,
      "outputs": [
        {
          "output_type": "stream",
          "name": "stdout",
          "text": [
            "1.4275517787645942\n"
          ]
        }
      ]
    },
    {
      "cell_type": "code",
      "source": [],
      "metadata": {
        "id": "kS5yUtX7ojao"
      },
      "execution_count": null,
      "outputs": []
    }
  ]
}