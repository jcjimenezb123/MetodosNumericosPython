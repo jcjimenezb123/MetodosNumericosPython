{
  "nbformat": 4,
  "nbformat_minor": 0,
  "metadata": {
    "colab": {
      "name": "SistemasDeNumeracion.ipynb",
      "provenance": [],
      "collapsed_sections": [],
      "toc_visible": true,
      "authorship_tag": "ABX9TyOPOGNb7lQne5DoBKq/y2B1",
      "include_colab_link": true
    },
    "kernelspec": {
      "name": "python3",
      "display_name": "Python 3"
    }
  },
  "cells": [
    {
      "cell_type": "markdown",
      "metadata": {
        "id": "view-in-github",
        "colab_type": "text"
      },
      "source": [
        "<a href=\"https://colab.research.google.com/github/jcjimenezb123/MetodosNumericosPython/blob/master/SistemasDeNumeracion.ipynb\" target=\"_parent\"><img src=\"https://colab.research.google.com/assets/colab-badge.svg\" alt=\"Open In Colab\"/></a>"
      ]
    },
    {
      "cell_type": "markdown",
      "metadata": {
        "id": "QdBRtBaWpgBk"
      },
      "source": [
        "#Sistemas de numeración"
      ]
    },
    {
      "cell_type": "markdown",
      "metadata": {
        "id": "y01DrDs3pyHU"
      },
      "source": [
        "##Convertir Decimal a Binario"
      ]
    },
    {
      "cell_type": "code",
      "metadata": {
        "id": "F9cjWGgTnQk0",
        "outputId": "b7d75f69-07f3-4600-9f7b-5bcc6bf04ac7",
        "colab": {
          "base_uri": "https://localhost:8080/",
          "height": 35
        }
      },
      "source": [
        "bin(255)"
      ],
      "execution_count": 6,
      "outputs": [
        {
          "output_type": "execute_result",
          "data": {
            "application/vnd.google.colaboratory.intrinsic+json": {
              "type": "string"
            },
            "text/plain": [
              "'0b11111111'"
            ]
          },
          "metadata": {
            "tags": []
          },
          "execution_count": 6
        }
      ]
    },
    {
      "cell_type": "markdown",
      "metadata": {
        "id": "efdj4YWLq3De"
      },
      "source": [
        "##Convertir Decimal a Octal"
      ]
    },
    {
      "cell_type": "code",
      "metadata": {
        "id": "TFo14TU7pOkJ",
        "outputId": "fdf2e8ae-f5eb-43f4-a7dd-c80d8a5316dd",
        "colab": {
          "base_uri": "https://localhost:8080/",
          "height": 35
        }
      },
      "source": [
        "oct(255)"
      ],
      "execution_count": 7,
      "outputs": [
        {
          "output_type": "execute_result",
          "data": {
            "application/vnd.google.colaboratory.intrinsic+json": {
              "type": "string"
            },
            "text/plain": [
              "'0o377'"
            ]
          },
          "metadata": {
            "tags": []
          },
          "execution_count": 7
        }
      ]
    },
    {
      "cell_type": "markdown",
      "metadata": {
        "id": "sA31nFf7rFFu"
      },
      "source": [
        "##Convertir Decimal a Hexadecimal"
      ]
    },
    {
      "cell_type": "code",
      "metadata": {
        "id": "9Ae8_0bRq-RQ",
        "outputId": "a3ecad69-608a-4f07-b0b9-5478077e09af",
        "colab": {
          "base_uri": "https://localhost:8080/",
          "height": 35
        }
      },
      "source": [
        "hex(255)"
      ],
      "execution_count": 8,
      "outputs": [
        {
          "output_type": "execute_result",
          "data": {
            "application/vnd.google.colaboratory.intrinsic+json": {
              "type": "string"
            },
            "text/plain": [
              "'0xff'"
            ]
          },
          "metadata": {
            "tags": []
          },
          "execution_count": 8
        }
      ]
    },
    {
      "cell_type": "markdown",
      "metadata": {
        "id": "aR5APxW6rXjy"
      },
      "source": [
        "##Convertir Binario a Decimal"
      ]
    },
    {
      "cell_type": "code",
      "metadata": {
        "id": "ASyai_9hrML5",
        "outputId": "0876c416-17f5-488c-ff1e-501e9b4c9a6b",
        "colab": {
          "base_uri": "https://localhost:8080/",
          "height": 34
        }
      },
      "source": [
        "int('10001',2)"
      ],
      "execution_count": 9,
      "outputs": [
        {
          "output_type": "execute_result",
          "data": {
            "text/plain": [
              "17"
            ]
          },
          "metadata": {
            "tags": []
          },
          "execution_count": 9
        }
      ]
    },
    {
      "cell_type": "markdown",
      "metadata": {
        "id": "skZIfFOnsEts"
      },
      "source": [
        "##Convertir Octal a Decimal"
      ]
    },
    {
      "cell_type": "code",
      "metadata": {
        "id": "r7V2pecwro42",
        "outputId": "2d962a8c-d74f-4892-8f5a-fe489488dcf1",
        "colab": {
          "base_uri": "https://localhost:8080/",
          "height": 34
        }
      },
      "source": [
        "int('123',8)"
      ],
      "execution_count": 10,
      "outputs": [
        {
          "output_type": "execute_result",
          "data": {
            "text/plain": [
              "83"
            ]
          },
          "metadata": {
            "tags": []
          },
          "execution_count": 10
        }
      ]
    },
    {
      "cell_type": "markdown",
      "metadata": {
        "id": "ZaeQwuCmsZhH"
      },
      "source": [
        "##Convertir Hexadecimal a Decimal"
      ]
    },
    {
      "cell_type": "code",
      "metadata": {
        "id": "-jvZZqNzsTYY",
        "outputId": "cda2cb5c-6264-4207-ea7f-1257a2b265bb",
        "colab": {
          "base_uri": "https://localhost:8080/",
          "height": 34
        }
      },
      "source": [
        "int('af1b',16)"
      ],
      "execution_count": 11,
      "outputs": [
        {
          "output_type": "execute_result",
          "data": {
            "text/plain": [
              "44827"
            ]
          },
          "metadata": {
            "tags": []
          },
          "execution_count": 11
        }
      ]
    },
    {
      "cell_type": "code",
      "metadata": {
        "id": "x85T-oi7sjFu"
      },
      "source": [
        ""
      ],
      "execution_count": null,
      "outputs": []
    }
  ]
}