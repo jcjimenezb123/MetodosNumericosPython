{
  "nbformat": 4,
  "nbformat_minor": 0,
  "metadata": {
    "colab": {
      "provenance": [],
      "collapsed_sections": [],
      "authorship_tag": "ABX9TyMKE/f9eE3JKTT+S6sHNNrC",
      "include_colab_link": true
    },
    "kernelspec": {
      "name": "python3",
      "display_name": "Python 3"
    },
    "language_info": {
      "name": "python"
    }
  },
  "cells": [
    {
      "cell_type": "markdown",
      "metadata": {
        "id": "view-in-github",
        "colab_type": "text"
      },
      "source": [
        "<a href=\"https://colab.research.google.com/github/jcjimenezb123/MetodosNumericosPython/blob/master/sel_tarea.ipynb\" target=\"_parent\"><img src=\"https://colab.research.google.com/assets/colab-badge.svg\" alt=\"Open In Colab\"/></a>"
      ]
    },
    {
      "cell_type": "markdown",
      "source": [
        "#Problema 1"
      ],
      "metadata": {
        "id": "FrLfXa00PTSn"
      }
    },
    {
      "cell_type": "markdown",
      "source": [
        "![image.png](data:image/png;base64,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)"
      ],
      "metadata": {
        "id": "V8vSA5gZFEKP"
      }
    },
    {
      "cell_type": "markdown",
      "source": [
        "En la figura anterior se muestra la concentración de cloruro en cada uno de los grandes lagos, se necesitan cinco ecuaciones de balance de masa (flujo x concentración)  para representar el sistema. En el lago superior, la masa que entra es\n",
        "\n",
        "$\n",
        "180\n",
        "$\n",
        "\n",
        "y la masa que sale es\n",
        "\n",
        "$Q_{SH}c_s $\n",
        "\n",
        "Como el sistema se encuentra en estado estacionario, los flujos de entrada y de salida\n",
        "deben ser iguales:\n",
        "\n",
        "$\n",
        "180 = Q_{SH}c_s\n",
        "$\n",
        "\n",
        "\n",
        "\n",
        "o, sustituyendo los valores de la figura,\n",
        "\n",
        "$\n",
        "67c_s = 180\n",
        "$\n",
        "\n",
        "Realice los balances de masa para los otros lagos y obtenga el sistema de ecuaciones lineales. Utilize un método numérico para determinar la concentración de cloruro en cada uno de los Grandes Lagos."
      ],
      "metadata": {
        "id": "WdzEPx_cEVH7"
      }
    },
    {
      "cell_type": "code",
      "execution_count": null,
      "metadata": {
        "id": "S5CHMeNMBBFo"
      },
      "outputs": [],
      "source": [
        "#haga los impor necesarios\n"
      ]
    },
    {
      "cell_type": "code",
      "source": [
        "#defina la matriz de coeficientes y el vector de constantes\n"
      ],
      "metadata": {
        "id": "iwkU0CJcBtTb"
      },
      "execution_count": null,
      "outputs": []
    },
    {
      "cell_type": "code",
      "source": [
        "#resuelva el sistema\n"
      ],
      "metadata": {
        "id": "VmCRrnuCCNKr"
      },
      "execution_count": null,
      "outputs": []
    },
    {
      "cell_type": "code",
      "source": [
        "#reporte los resultados\n"
      ],
      "metadata": {
        "id": "mfDNfrGOOh2G"
      },
      "execution_count": null,
      "outputs": []
    },
    {
      "cell_type": "markdown",
      "source": [
        "#Problema 2"
      ],
      "metadata": {
        "id": "xmB_gIPRPWsY"
      }
    },
    {
      "cell_type": "markdown",
      "source": [
        "Balancear la siguiente reacción química usando el método de Gauss-Jordan\n",
        "\n",
        "$$\n",
        "[Cr(N_2H_4CO)_6]_4[Cr(CN)_6]_3 + KMnO_4 + H_2SO_4 -> K_2Cr_2O_7 + MnSO_4 + CO_2 + KNO_3 +\n",
        "K_2SO_4 + H_2O\n",
        "$$"
      ],
      "metadata": {
        "id": "DNEONK_XuKgT"
      }
    },
    {
      "cell_type": "code",
      "source": [
        "#haga los impor necesarios"
      ],
      "metadata": {
        "id": "N1pCayOru7DQ"
      },
      "execution_count": null,
      "outputs": []
    },
    {
      "cell_type": "code",
      "source": [
        "#defina la matriz de coeficientes y el vector de constantes"
      ],
      "metadata": {
        "id": "8oOwhehwPiHj"
      },
      "execution_count": null,
      "outputs": []
    },
    {
      "cell_type": "code",
      "source": [
        "#resuelva el sistema"
      ],
      "metadata": {
        "id": "3eLoya0uPki8"
      },
      "execution_count": null,
      "outputs": []
    },
    {
      "cell_type": "code",
      "source": [
        "#reporte los resultados"
      ],
      "metadata": {
        "id": "RkkkHxN8Pmkm"
      },
      "execution_count": null,
      "outputs": []
    }
  ]
}