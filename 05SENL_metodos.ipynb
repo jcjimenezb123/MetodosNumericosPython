{
  "nbformat": 4,
  "nbformat_minor": 0,
  "metadata": {
    "colab": {
      "provenance": [],
      "authorship_tag": "ABX9TyOgH6Nmt39pkn+9Z1dNzST2",
      "include_colab_link": true
    },
    "kernelspec": {
      "name": "python3",
      "display_name": "Python 3"
    },
    "language_info": {
      "name": "python"
    }
  },
  "cells": [
    {
      "cell_type": "markdown",
      "metadata": {
        "id": "view-in-github",
        "colab_type": "text"
      },
      "source": [
        "<a href=\"https://colab.research.google.com/github/jcjimenezb123/MetodosNumericosPython/blob/master/05SENL_metodos.ipynb\" target=\"_parent\"><img src=\"https://colab.research.google.com/assets/colab-badge.svg\" alt=\"Open In Colab\"/></a>"
      ]
    },
    {
      "cell_type": "markdown",
      "source": [
        "Resuelva el siguiente sistema de ecuaciones\n",
        "no lineales, utilizando el método de punto fijo multivariable:\n",
        "\n",
        "$$\n",
        "3x_1-cos(x_2x_3)-\\frac{1}{2}=0\\\\\n",
        "x_1^2-81(x_2+0.1)^2+sin(x_3)+1.06=0\\\\\n",
        "e^{-x_1x_2}+20x_3+\\frac{10\\pi -3}{3}=0\n",
        "$$\n",
        "\n",
        "Primero se despeja xi de la i-ésima ecuación de la siguiente forma\n",
        "\n",
        "$$\n",
        "x_1=\\frac{1}{3}cos(x_2x_3)+\\frac{1}{6}\\\\\n",
        "x_2=\\frac{1}{9}\\sqrt{x_1^2+sin(x_3)+1.06}-0.1\\\\\n",
        "x_3=-\\frac{1}{20}e^{-x_1x_2}-\\frac{10\\pi -3}{60}\n",
        "$$"
      ],
      "metadata": {
        "id": "AG4tmhIXOSBe"
      }
    },
    {
      "cell_type": "code",
      "execution_count": null,
      "metadata": {
        "id": "NxQTwzH_J1l1"
      },
      "outputs": [],
      "source": [
        "import numpy as np"
      ]
    },
    {
      "cell_type": "code",
      "source": [
        "def pfm(g,x,imax=100,tol=1e-8):\n",
        "  cumple=False\n",
        "  k=0\n",
        "  while (not cumple and k<imax):\n",
        "    x0=x.copy()\n",
        "    x=g(x0)\n",
        "\n",
        "    norma=np.linalg.norm(x-x0)\n",
        "    print(x,norma)\n",
        "    cumple=norma<tol\n",
        "    k+=1\n",
        "  if k<imax:\n",
        "    return x\n",
        "  else:\n",
        "    print('No converge')"
      ],
      "metadata": {
        "id": "NMMRiJ4XKGv4"
      },
      "execution_count": null,
      "outputs": []
    },
    {
      "cell_type": "code",
      "source": [
        "def g(x):\n",
        "  x1,x2,x3=x\n",
        "  g1= #<--- primera ecuacion\n",
        "  g2= #<--- segunda ecuacion\n",
        "  g3= #<--- tercera ecuacion\n",
        "  return np.array([g1,g2,g3])"
      ],
      "metadata": {
        "id": "i9PX-o46KPA-"
      },
      "execution_count": null,
      "outputs": []
    },
    {
      "cell_type": "code",
      "source": [
        "x=np.array([]) #<--- valores iniciales\n",
        "\n",
        "sol=pfm(g,x,imax=200,tol=1e-10)\n",
        "sol"
      ],
      "metadata": {
        "id": "LHrpOD-oMAWh"
      },
      "execution_count": null,
      "outputs": []
    },
    {
      "cell_type": "code",
      "source": [
        "def g(x):\n",
        "  x1,x2,x3=x\n",
        "  #<--- asignar a las variables x1, x2, x3 para actualizar su valor\n",
        "  =np.cos(x2*x3)/3+1/6\n",
        "  =np.sqrt(x1**2+np.sin(x3)+1.06)/9-0.1\n",
        "  =-np.exp(-x1*x2)/20-(10*np.pi-3)/60\n",
        "  return np.array([x1,x2,x3])"
      ],
      "metadata": {
        "id": "244yYVZioN7l"
      },
      "execution_count": null,
      "outputs": []
    },
    {
      "cell_type": "code",
      "source": [
        "x=np.array([]) #<--- valores iniciales\n",
        "\n",
        "sol=pfm(g,x,imax=200,tol=1e-10)\n",
        "sol"
      ],
      "metadata": {
        "id": "Pj5b_UiroqcO"
      },
      "execution_count": null,
      "outputs": []
    },
    {
      "cell_type": "markdown",
      "source": [
        "Resuelva el siguiente sistema de ecuaciones no lineales, utilizando el m\\'etodo de Newton-Raphson multivariable\n",
        "\n",
        "$$\n",
        "f_1(x_1,x_2)=2x_1-x_2-e^{-x_1}=0\\\\\n",
        "f_2(x_1,x_2)=-x_1+2x_2-e^{-x_2}=0\n",
        "$$\n",
        "\n",
        "Obtenemos el Jacobiano del sistema:\n",
        "\n",
        "$$\n",
        "\\begin{pmatrix}\n",
        "\\frac{\\partial f_1}{\\partial x_1}=2 + e^{-x_1} & \\frac{\\partial f_1}{\\partial x_2}=-1\\\\\n",
        "\\frac{\\partial f_2}{\\partial x_1}=-1 & \\frac{\\partial f_2}{\\partial x_2} =2 + e^{-x_2}\\\\\n",
        "\\end{pmatrix}\n",
        "$$"
      ],
      "metadata": {
        "id": "skR7zUFnPhfT"
      }
    },
    {
      "cell_type": "code",
      "source": [
        "import numpy as np\n",
        "\n",
        "def newtonRaphsonMV(F,J,x,imax =100,tol=1e-8):\n",
        "  cumple = False\n",
        "  k=0\n",
        "  while ( not cumple and k< imax ):\n",
        "    deltax =np.linalg.solve(J(x),-F(x))\n",
        "    x = x + deltax\n",
        "    print ( f' iteracion :{k} - > {x} ')\n",
        "    cumple =np.linalg.norm(F(x)) <= tol\n",
        "    k +=1\n",
        "  if k< imax :\n",
        "    return x\n",
        "  else:\n",
        "    raise ValueError ( 'La funcion no converge ')"
      ],
      "metadata": {
        "id": "tdcz1oi5MG2X"
      },
      "execution_count": null,
      "outputs": []
    },
    {
      "cell_type": "code",
      "source": [
        "def f(x):\n",
        "  x1,x2=x\n",
        "  return np.array([2*x1-x2-np.exp(-x1),\\\n",
        "                   -x1 + 2*x2 - np. exp (-x2) ])"
      ],
      "metadata": {
        "id": "vCuTVj-ZMU2y"
      },
      "execution_count": null,
      "outputs": []
    },
    {
      "cell_type": "code",
      "source": [
        "def j(x):\n",
        "  x1,x2=x\n",
        "  return np.array([[2 + np.exp(-x1),-1],\\\n",
        "                   [-1, 2 + np.exp (-x2) ]])"
      ],
      "metadata": {
        "id": "-UzK562bMVpJ"
      },
      "execution_count": null,
      "outputs": []
    },
    {
      "cell_type": "code",
      "source": [
        "x0=np.array([]) #<--- valores iniciales -5, -5\n",
        "raiz = newtonRaphsonMV(f,j,x0)\n",
        "raiz"
      ],
      "metadata": {
        "id": "JSGKSlECMZQg"
      },
      "execution_count": null,
      "outputs": []
    },
    {
      "cell_type": "code",
      "source": [
        "from scipy.optimize import newton,newton_krylov,anderson,broyden1,broyden2,diagbroyden"
      ],
      "metadata": {
        "id": "VTN7steNMs5E"
      },
      "execution_count": null,
      "outputs": []
    },
    {
      "cell_type": "code",
      "source": [
        "sol=newton(f,x0)\n",
        "sol"
      ],
      "metadata": {
        "id": "PuKk2kIoM1Oa"
      },
      "execution_count": null,
      "outputs": []
    },
    {
      "cell_type": "code",
      "source": [
        "sol=newton_krylov(f,x0)\n",
        "sol"
      ],
      "metadata": {
        "id": "_GawfjjMNAfD"
      },
      "execution_count": null,
      "outputs": []
    },
    {
      "cell_type": "code",
      "source": [
        "sol=anderson(f,x0)\n",
        "sol"
      ],
      "metadata": {
        "id": "kp5v_zQYNlHd"
      },
      "execution_count": null,
      "outputs": []
    },
    {
      "cell_type": "code",
      "source": [
        "sol=broyden1(f,x0)\n",
        "sol"
      ],
      "metadata": {
        "id": "9vWvpCXZNoDo"
      },
      "execution_count": null,
      "outputs": []
    },
    {
      "cell_type": "code",
      "source": [
        "sol=broyden2(f,x0)\n",
        "sol"
      ],
      "metadata": {
        "id": "QkX9izY_OFF1"
      },
      "execution_count": null,
      "outputs": []
    },
    {
      "cell_type": "code",
      "source": [
        "sol=diagbroyden(f,x0)\n",
        "sol"
      ],
      "metadata": {
        "id": "DmOE-5HrOGaw"
      },
      "execution_count": null,
      "outputs": []
    }
  ]
}