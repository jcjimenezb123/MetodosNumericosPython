{
  "nbformat": 4,
  "nbformat_minor": 0,
  "metadata": {
    "colab": {
      "name": "ENL_Ejemplos.ipynb",
      "provenance": [],
      "authorship_tag": "ABX9TyOlpwtuKbbQ393RNtRMKTzG",
      "include_colab_link": true
    },
    "kernelspec": {
      "name": "python3",
      "display_name": "Python 3"
    },
    "language_info": {
      "name": "python"
    }
  },
  "cells": [
    {
      "cell_type": "markdown",
      "metadata": {
        "id": "view-in-github",
        "colab_type": "text"
      },
      "source": [
        "<a href=\"https://colab.research.google.com/github/jcjimenezb123/MetodosNumericosPython/blob/master/ENL_Ejemplos.ipynb\" target=\"_parent\"><img src=\"https://colab.research.google.com/assets/colab-badge.svg\" alt=\"Open In Colab\"/></a>"
      ]
    },
    {
      "cell_type": "markdown",
      "source": [
        "Calcular la temperatura del punto de burbuja $T$ de una mezcla que contiene 0.3 mol de benceno $x_B$ y 0.7\n",
        "mol de tolueno $x_T$ a una presión $P$ de 3 atm. La presión de vapor $P_{sat_i}$ de cada componente como\n",
        "función de la temperatura puede representarse por medio de la ecuación de Antoine\n",
        "\n",
        "$$\n",
        "P_{sat_i}=10^{A_i-\\frac{B_i}{C_i+T}}\n",
        "$$\n",
        "\n",
        "Donde $A_i$, $B_i$ y $C_i$ son los parámetros de Antoine para cada componente $i$, y $T$ es la temperatura.\n",
        "\n",
        "La temperatura del punto de burbuja puede ser calculada resolviendo la siguiente ecuación\n",
        "\n",
        "$$\n",
        "P=x_BP_{sat_B}+x_BP_{sat_T}\n",
        "$$\n",
        "\n",
        "Datos (para mmHg y C)\n",
        "\n",
        "Constante|Benceno|Tolueno\n",
        "---|---|---\n",
        "A|6.8799|6.9509\n",
        "B|1196.7600|1342.3100\n",
        "C|219.1610|219.1870\n",
        "\n",
        "Use un método cerrado y un método abierto para resolver la ecuación no lineal. Usted debe proponer los valores iniciales y la tolerancia."
      ],
      "metadata": {
        "id": "tAPGCoB5ErpD"
      }
    },
    {
      "cell_type": "code",
      "execution_count": null,
      "metadata": {
        "id": "Lb7QylNbEgz8"
      },
      "outputs": [],
      "source": [
        "#importar las bibliotecas necesarias\n"
      ]
    },
    {
      "cell_type": "code",
      "source": [
        "#definir la ecuación a resolver\n"
      ],
      "metadata": {
        "id": "ouZvrb2QHD6u"
      },
      "execution_count": null,
      "outputs": []
    },
    {
      "cell_type": "code",
      "source": [
        "#Graficar la ecuación\n"
      ],
      "metadata": {
        "id": "nrhYgQA-IYtu"
      },
      "execution_count": null,
      "outputs": []
    },
    {
      "cell_type": "code",
      "source": [
        "#aplicar los metodos"
      ],
      "metadata": {
        "id": "YFv7dF3ZLuv3"
      },
      "execution_count": null,
      "outputs": []
    },
    {
      "cell_type": "markdown",
      "source": [
        "Considere una mezcla de tres componentes, en la cual la presión de vapor de cada componente puede ser expresada con la siguiente ecuación de Antoine\n",
        "\n",
        "$$\n",
        "log(P_{i})={A_i+\\frac{B_i}{C_i+T}}\n",
        "$$\n",
        "\n",
        "Donde $T$ representa la temperatura (C) y $P_i$\n",
        "denota la presión de vapor saturado (mmHg). Los coeficientes de Antoine de cada componente se muestran en la siguiente tabla\n",
        "\n",
        "Componente |$A_i$| $B_i$| $C_i$\n",
        "---|---|---|---\n",
        "1| 6.70565|-1,211.033| 220.790\n",
        "2| 6.95464|-1,344.800| 219.482\n",
        "3| 7.89750|-1,474.080 |229.130\n",
        "\n",
        "Calcule el punto de ebullición a 1 atm de presión para cada condición de composición:\n",
        "\n",
        "Condición|$x_1$| $x_2$ |$x_3$\n",
        "---|---|---|---|\n",
        "1| 0.26 |0.38| 0.36\n",
        "2| 0.36 |0.19| 0.45\n",
        "\n",
        "De acuerdo a la ley de Raoult\n",
        "\n",
        "$$\n",
        "P=\\sum_{i=1}^nx_iP_i\n",
        "$$\n"
      ],
      "metadata": {
        "id": "sHiYxxVNUp80"
      }
    },
    {
      "cell_type": "code",
      "source": [
        ""
      ],
      "metadata": {
        "id": "QBGDT4L0bcYd"
      },
      "execution_count": null,
      "outputs": []
    },
    {
      "cell_type": "markdown",
      "source": [
        "Por un canal trapezoidal fluye agua a una tasa de Q = 20\n",
        "$m^3/s$. La profundidad crítica $y$ para dicho canal satisface la\n",
        "ecuación\n",
        "\n",
        "$$\n",
        "0= 1 − \\frac{Q^2}{gA^3_c}B\n",
        "$$\n",
        "\n",
        "donde g = 9.81$m/s^2$, $A_c$ = área de la sección transversal ($m^2$), y\n",
        "$B$ = ancho del canal en la superficie (m). Para este caso, el ancho\n",
        "y el área de la sección transversal se relacionan con la profundidad $y$ por medio de\n",
        "\n",
        "\n",
        "$B = 3 + y$ y $A_c= 3y +\\frac{y^2}{2}$\n",
        "\n",
        "Resuelva para la profundidad crítica con el uso de los métodos secante y Muller"
      ],
      "metadata": {
        "id": "qbDagKIMbqgJ"
      }
    },
    {
      "cell_type": "code",
      "source": [
        ""
      ],
      "metadata": {
        "id": "VqRszgCpeybN"
      },
      "execution_count": null,
      "outputs": []
    },
    {
      "cell_type": "markdown",
      "source": [
        "En el análisis de sistemas de control, se desarrollan funciones\n",
        "de transferencia que relacionan en forma matemática la dinámica\n",
        "de la entrada de un sistema con su salida. La función de\n",
        "transferencia para un sistema de posicionamiento robotizado está\n",
        "dada por:\n",
        "\n",
        "$$\n",
        "G(s)=\\frac{C(s)}{N(s)}=\\frac{s^3+12.5s^2+50.5s+66}{s^4+19s^3+122s^2+296s+192}\n",
        "$$\n",
        "\n",
        "donde $G(s)$ = ganancia del sistema, \n",
        "\n",
        "$C(s)$ = salida del sistema,\n",
        "\n",
        "\n",
        "$N(s)$ = entrada del sistema y \n",
        "\n",
        "$s$ = frecuencia compleja de la transformada\n",
        "de Laplace. \n",
        "\n",
        "Utilice métodos numéricos para obtener\n",
        "las raíces del numerador y el denominador, y factorícelas en la\n",
        "forma siguiente:\n",
        "\n",
        "$$\n",
        "G(s)=\\frac{(s+a_1)(s+a_2)(s+a_3)}{(s+b_1)(s+b_2)(s+b_3)(s+b_4)}\n",
        "$$\n",
        "\n",
        "donde $a_i$ y $b_i$ = las raíces del numerador y el denominador, respectivamente."
      ],
      "metadata": {
        "id": "asuJ0EPFiJjW"
      }
    },
    {
      "cell_type": "code",
      "source": [
        ""
      ],
      "metadata": {
        "id": "Ij5eMEDBfR6H"
      },
      "execution_count": null,
      "outputs": []
    },
    {
      "cell_type": "markdown",
      "source": [
        "La siguiente ecuación permite calcular la concentración de\n",
        "un químico en un reactor donde se tiene una mezcla completa:\n",
        "\n",
        "$$\n",
        "c = c_{ent}(1 – e^{–0.04t}) + c_{0}e^{–0.04t}\n",
        "$$\n",
        "\n",
        "Si la concentración inicial es $c_0 = 5$ y la concentración de entrada\n",
        "es $c_{ent} = 12$, calcule el tiempo requerido para que $c$ sea el 85%\n",
        "de $c_{ent}$."
      ],
      "metadata": {
        "id": "rUNa66tzfFlO"
      }
    },
    {
      "cell_type": "code",
      "source": [
        ""
      ],
      "metadata": {
        "id": "ye6Y7_gpfksz"
      },
      "execution_count": null,
      "outputs": []
    },
    {
      "cell_type": "markdown",
      "source": [
        "Una reacción química reversible\n",
        "\n",
        "$$2A + B \\leftrightarrow C$$\n",
        "\n",
        "se caracteriza por la relación de equilibrio\n",
        "$$\n",
        "K=\\frac{C_c}{C_a^2C_b}\n",
        "$$\n",
        "\n",
        "donde la nomenclatura $C_n$ representa la concentración del componente\n",
        "N. Suponga que se define una variable $x$ que representa\n",
        "el número de moles de $C$ producido. La conservación de la masa\n",
        "se utiliza para reformular la relación de equilibrio como\n",
        "\n",
        "$$\n",
        "K=\\frac{C_{c0}+x}{(C_{a0}-2x)^2(C_{b0}-x)}\n",
        "$$\n",
        "\n",
        "donde el subíndice 0 indica la concentración inicial de cada componente.\n",
        "Si $K = 0.016$, $C_{a0} = 42$, $C_{b0} = 28$ y $C_{c0} = 4$, calcule $x$."
      ],
      "metadata": {
        "id": "Eq2oMIYIgSgH"
      }
    },
    {
      "cell_type": "code",
      "source": [
        ""
      ],
      "metadata": {
        "id": "RIZDI3dEhtNO"
      },
      "execution_count": null,
      "outputs": []
    },
    {
      "cell_type": "markdown",
      "source": [
        "El volumen V de un líquido contenido en un tanque horizontal\n",
        "cilíndrico de radio r y longitud L está relacionado con la\n",
        "profundidad del líquido h por\n",
        "\n",
        "$$\n",
        "V=\\left[ r^2 cos^{-1}\\left( \\frac{r-h}{r}\\right)-(r-h)\\sqrt{2rh-h^2}\\right]L\n",
        "$$\n",
        "\n",
        "Determine h para r = 2 m, L = 5 m y V = 8.5 $m^3$."
      ],
      "metadata": {
        "id": "Ldiin2NdeVXE"
      }
    },
    {
      "cell_type": "code",
      "source": [
        ""
      ],
      "metadata": {
        "id": "EqwZEfEWgiEi"
      },
      "execution_count": null,
      "outputs": []
    },
    {
      "cell_type": "markdown",
      "source": [
        "En una sección de tubo, la caída de presión se calcula así:\n",
        "\n",
        "$$\n",
        "\\Delta p=f\\frac{L\\rho V^2}{2D}\n",
        "$$\n",
        "\n",
        "donde Δp = caída de presión (Pa), f = factor de fricción, L =\n",
        "longitud del tubo (m), $\\rho$ = densidad ($kg/m^3$), V = velocidad (m/s),\n",
        "y D = diámetro (m). Para el flujo turbulento, la ecuación de\n",
        "Colebrook proporciona un medio para calcular el factor de fricción,\n",
        "\n",
        "$$\n",
        "\\frac{1}{\\sqrt{f}}=-2.0Log\\left( \\frac{ϵ}{3.7D}+\\frac{2.51}{Re\\sqrt{f}}\\right)\n",
        "$$\n",
        "\n",
        "donde ϵ = rugosidad (m), y Re = número de Reynolds,\n",
        "\n",
        "$$\n",
        "Re=\\frac{ρVD}{μ}\n",
        "$$\n",
        "\n",
        "donde μ = viscosidad dinámica (N · s/$m^2$).\n",
        "\n",
        "a) Determine Δp para un tramo horizontal de tubo liso de\n",
        "0.2 m de longitud, dadas ρ = 1.23 kg/$m^3$, μ = 1.79 × 10$^{–5}$\n",
        "N · s/m2, D = 0.005 m, V = 40 m/s, y ϵ = 0.0015 mm. Utilice\n",
        "un método numérico para determinar el factor de fricción.\n",
        "Obsérvese que los tubos lisos tienen Re < 105, un valor\n",
        "inicial apropiado se obtiene con el uso de la fórmula de\n",
        "Blasius, f = 0.316/Re0.25.\n",
        "\n",
        "b) Repita el cálculo pero para un tubo de acero comercial más\n",
        "rugoso (ϵ = 0.045 mm)."
      ],
      "metadata": {
        "id": "Gr1nwt2Egise"
      }
    },
    {
      "cell_type": "code",
      "source": [
        ""
      ],
      "metadata": {
        "id": "HzX0VogcigjQ"
      },
      "execution_count": null,
      "outputs": []
    },
    {
      "cell_type": "markdown",
      "source": [
        "La concentración de bacterias contaminantes c en un lago\n",
        "disminuye de acuerdo con la ecuación\n",
        "\n",
        "$$\n",
        "c = 75e^{–1.5t} + 20e^{–0.075t}\n",
        "$$\n",
        "\n",
        "Determine el tiempo que se requiere para que la concentración\n",
        "de bacterias se reduzca a 15 con el uso de \n",
        "\n",
        "a) el método gráfico, y\n",
        "\n",
        "b) el método de Newton-Raphson"
      ],
      "metadata": {
        "id": "VTip5E91k9qD"
      }
    },
    {
      "cell_type": "code",
      "source": [
        ""
      ],
      "metadata": {
        "id": "bRrxESKhlJjk"
      },
      "execution_count": null,
      "outputs": []
    }
  ]
}