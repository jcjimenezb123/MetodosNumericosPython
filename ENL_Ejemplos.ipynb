{
  "nbformat": 4,
  "nbformat_minor": 0,
  "metadata": {
    "colab": {
      "name": "ENL_Ejemplos.ipynb",
      "provenance": [],
      "authorship_tag": "ABX9TyMkExM49cTvggQhh+KTP7y2",
      "include_colab_link": true
    },
    "kernelspec": {
      "name": "python3",
      "display_name": "Python 3"
    },
    "language_info": {
      "name": "python"
    }
  },
  "cells": [
    {
      "cell_type": "markdown",
      "metadata": {
        "id": "view-in-github",
        "colab_type": "text"
      },
      "source": [
        "<a href=\"https://colab.research.google.com/github/jcjimenezb123/MetodosNumericosPython/blob/master/ENL_Ejemplos.ipynb\" target=\"_parent\"><img src=\"https://colab.research.google.com/assets/colab-badge.svg\" alt=\"Open In Colab\"/></a>"
      ]
    },
    {
      "cell_type": "markdown",
      "source": [
        "Calcular la temperatura del punto de burbuja $T$ de una mezcla que contiene 0.3 mol de benceno $x_B$ y 0.7\n",
        "mol de tolueno $x_T$ a una presión $P$ de 3 atm. La presión de vapor $P_{sat_i}$ de cada componente como\n",
        "función de la temperatura puede representarse por medio de la ecuación de Antoine\n",
        "\n",
        "$$\n",
        "P_{sat_i}=10^{A_i-\\frac{B_i}{C_i+T}}\n",
        "$$\n",
        "\n",
        "Donde $A_i$, $B_i$ y $C_i$ son los parámetros de Antoine para cada componente $i$, y $T$ es la temperatura.\n",
        "\n",
        "La temperatura del punto de burbuja puede ser calculada resolviendo la siguiente ecuación\n",
        "\n",
        "$$\n",
        "P=x_BP_{sat_B}+x_BP_{sat_T}\n",
        "$$\n",
        "\n",
        "Datos (para mmHg y C)\n",
        "\n",
        "Constante|Benceno|Tolueno\n",
        "---|---|---\n",
        "A|6.8799|6.9509\n",
        "B|1196.7600|1342.3100\n",
        "C|219.1610|219.1870\n",
        "\n",
        "Use un método cerrado y un método abierto para resolver la ecuación no lineal. Usted debe proponer los valores iniciales y la tolerancia."
      ],
      "metadata": {
        "id": "tAPGCoB5ErpD"
      }
    },
    {
      "cell_type": "code",
      "execution_count": 47,
      "metadata": {
        "id": "Lb7QylNbEgz8"
      },
      "outputs": [],
      "source": [
        "#importar las bibliotecas necesarias\n"
      ]
    },
    {
      "cell_type": "code",
      "source": [
        "#definir la ecuación a resolver\n"
      ],
      "metadata": {
        "id": "ouZvrb2QHD6u"
      },
      "execution_count": 36,
      "outputs": []
    },
    {
      "cell_type": "code",
      "source": [
        "#Graficar la ecuación\n"
      ],
      "metadata": {
        "id": "nrhYgQA-IYtu"
      },
      "execution_count": null,
      "outputs": []
    },
    {
      "cell_type": "code",
      "source": [
        "#aplicar los metodos"
      ],
      "metadata": {
        "id": "YFv7dF3ZLuv3"
      },
      "execution_count": null,
      "outputs": []
    },
    {
      "cell_type": "markdown",
      "source": [
        "Considere una mezcla de tres componentes, en la cual la presión de vapor de cada componente puede ser expresada con la siguiente ecuación de Antoine\n",
        "\n",
        "$$\n",
        "log(P_{i})={A_i+\\frac{B_i}{C_i+T}}\n",
        "$$\n",
        "\n",
        "Donde $T$ representa la temperatura (C) y $P_i$\n",
        "denota la presión de vapor saturado (mmHg). Los coeficientes de Antoine de cada componente se muestran en la siguiente tabla\n",
        "\n",
        "Componente |$A_i$| $B_i$| $C_i$\n",
        "---|---|---|---\n",
        "1| 6.70565|-1,211.033| 220.790\n",
        "2| 6.95464|-1,344.800| 219.482\n",
        "3| 7.89750|-1,474.080 |229.130\n",
        "\n",
        "Calcule el punto de ebullición a 1 atm de presión para cada condición de composición:\n",
        "\n",
        "Condición|$x_1$| $x_2$ |$x_3$\n",
        "---|---|---|---|\n",
        "1| 0.26 |0.38| 0.36\n",
        "2| 0.36 |0.19| 0.45\n",
        "\n",
        "De acuerdo a la ley de Raoult\n",
        "\n",
        "$$\n",
        "P=\\sum_{i=1}^nx_iP_i\n",
        "$$\n"
      ],
      "metadata": {
        "id": "sHiYxxVNUp80"
      }
    },
    {
      "cell_type": "code",
      "source": [
        ""
      ],
      "metadata": {
        "id": "QBGDT4L0bcYd"
      },
      "execution_count": null,
      "outputs": []
    },
    {
      "cell_type": "markdown",
      "source": [
        "Por un canal trapezoidal fluye agua a una tasa de Q = 20\n",
        "$m^3/s$. La profundidad crítica y para dicho canal satisface la\n",
        "ecuación\n",
        "\n",
        "$$\n",
        "0= 1 − \\frac{Q^2}{gA^3_c}B\n",
        "$$\n",
        "\n",
        "donde g = 9.81$m/s^2$, $A_c$ = área de la sección transversal ($m^2$), y\n",
        "$B$ = ancho del canal en la superficie (m). Para este caso, el ancho\n",
        "y el área de la sección transversal se relacionan con la profundidad $y$ por medio de\n",
        "\n",
        "\n",
        "$B = 3 + y$ y $A_c= 3y +\\frac{y^2}{2}$\n",
        "\n",
        "Resuelva para la profundidad crítica con el uso de los métodos secante y Muller"
      ],
      "metadata": {
        "id": "qbDagKIMbqgJ"
      }
    },
    {
      "cell_type": "code",
      "source": [
        ""
      ],
      "metadata": {
        "id": "VqRszgCpeybN"
      },
      "execution_count": null,
      "outputs": []
    },
    {
      "cell_type": "markdown",
      "source": [
        "En el análisis de sistemas de control, se desarrollan funciones\n",
        "de transferencia que relacionan en forma matemática la dinámica\n",
        "de la entrada de un sistema con su salida. La función de\n",
        "transferencia para un sistema de posicionamiento robotizado está\n",
        "dada por:\n",
        "\n",
        "$$\n",
        "G(s)=\\frac{C(s)}{N(s)}=\\frac{s^3+12.5s^2+50.5s+66}{s^4+19s^3+122s^2+296s+192}\n",
        "$$\n",
        "\n",
        "donde $G(s)$ = ganancia del sistema, \n",
        "\n",
        "$C(s)$ = salida del sistema,\n",
        "\n",
        "\n",
        "$N(s)$ = entrada del sistema y \n",
        "\n",
        "$s$ = frecuencia compleja de la transformada\n",
        "de Laplace. \n",
        "\n",
        "Utilice métodos numéricos para obtener\n",
        "las raíces del numerador y el denominador, y factorícelas en la\n",
        "forma siguiente:\n",
        "\n",
        "$$\n",
        "G(s)=\\frac{(s+a_1)(s+a_2)(s+a_3)}{(s+b_1)(s+b_2)(s+b_3)(s+b_4)}\n",
        "$$\n",
        "\n",
        "donde $a_i$ y $b_i$ = las raíces del numerador y el denominador, respectivamente."
      ],
      "metadata": {
        "id": "asuJ0EPFiJjW"
      }
    },
    {
      "cell_type": "code",
      "source": [
        ""
      ],
      "metadata": {
        "id": "Ij5eMEDBfR6H"
      },
      "execution_count": null,
      "outputs": []
    }
  ]
}