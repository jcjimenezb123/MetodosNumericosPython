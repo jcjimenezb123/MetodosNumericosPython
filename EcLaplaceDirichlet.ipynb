{
  "nbformat": 4,
  "nbformat_minor": 0,
  "metadata": {
    "colab": {
      "provenance": [],
      "authorship_tag": "ABX9TyM6JbszsVkaAOW+d4AuzcNZ",
      "include_colab_link": true
    },
    "kernelspec": {
      "name": "python3",
      "display_name": "Python 3"
    },
    "language_info": {
      "name": "python"
    }
  },
  "cells": [
    {
      "cell_type": "markdown",
      "metadata": {
        "id": "view-in-github",
        "colab_type": "text"
      },
      "source": [
        "<a href=\"https://colab.research.google.com/github/jcjimenezb123/MetodosNumericosPython/blob/master/EcLaplaceDirichlet.ipynb\" target=\"_parent\"><img src=\"https://colab.research.google.com/assets/colab-badge.svg\" alt=\"Open In Colab\"/></a>"
      ]
    },
    {
      "cell_type": "code",
      "execution_count": null,
      "metadata": {
        "id": "rSJwhpvXc3ZZ"
      },
      "outputs": [],
      "source": [
        "# Solución de la ecuación de Laplace usando el método de diferencias finitas\n",
        "import numpy as np\n",
        "import matplotlib.pyplot as plt\n",
        "# Just load seaborn & set theme and the chart looks better:\n",
        "import seaborn as sns\n",
        "sns.set_theme()\n",
        "\n",
        "# número máximo de iteraciones, tolerancia\n",
        "maxIter = 1000\n",
        "tol = 1e-7\n",
        "\n",
        "# dimensiones y delta\n",
        "lenX = lenY = 20 #suponemos una placa cuadrada\n",
        "delta = 1\n",
        "\n",
        "# Condiciones de Dirichlet\n",
        "Ttop = 180\n",
        "Tbottom = 50\n",
        "Tleft = 80\n",
        "Tright = 0\n",
        "\n",
        "# valor inicial al interior de la placa\n",
        "Tguess = 0.25 * (Ttop + Tbottom + Tleft + Tright)\n",
        "\n",
        "# colores de intepolación\n",
        "colorinterpolation = 50\n",
        "colourMap = plt.cm.jet #you can try: colourMap = plt.cm.coolwarm\n",
        "\n",
        "# crear la regilla\n",
        "X, Y = np.meshgrid(np.arange(0, lenX), np.arange(0, lenY))\n",
        "\n",
        "# inicializa los nodos de la región de estudio\n",
        "T = np.empty((lenX, lenY))\n",
        "T.fill(Tguess)\n",
        "\n",
        "# Coloca los valores de las fronteras\n",
        "T[(lenY-1):, :] = Ttop\n",
        "T[:1, :] = Tbottom\n",
        "T[:, (lenX-1):] = Tright\n",
        "T[:, :1] = Tleft\n",
        "\n",
        "# Iteraciones asumiendo que converge en el número máximo de iteraciones\n",
        "print(\"Calculando...\")\n",
        "sigue = True\n",
        "iteration = 0\n",
        "while sigue and iteration<1000:\n",
        "  iteration +=1\n",
        "  sigue = False\n",
        "  for i in range(1, lenX-1, delta):\n",
        "    for j in range(1, lenY-1, delta):\n",
        "      anterior = T[i,j]\n",
        "      T[i, j] = 0.25 * (T[i+1][j] + T[i-1][j] +\\\n",
        "                        T[i][j+1] + T[i][j-1])\n",
        "      if ~sigue:\n",
        "        sigue = abs(anterior - T[i,j]) > tol\n",
        "\n",
        "print(f\"Terminado en la iteracion {iteration}!\")\n",
        "\n",
        "# se crea la gráfica\n",
        "plt.title(\"Temperatura\")\n",
        "plt.contourf(X, Y, T, colorinterpolation, cmap=colourMap)\n",
        "\n",
        "# Colorbar\n",
        "plt.colorbar()\n",
        "\n",
        "# muestra la gráfica\n",
        "plt.show()"
      ]
    }
  ]
}