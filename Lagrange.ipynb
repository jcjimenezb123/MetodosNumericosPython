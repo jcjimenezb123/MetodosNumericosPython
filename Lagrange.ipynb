{
  "nbformat": 4,
  "nbformat_minor": 0,
  "metadata": {
    "colab": {
      "name": "Lagrange.ipynb",
      "provenance": [],
      "authorship_tag": "ABX9TyMpA6QWt5w5QCZr1yu3DStx",
      "include_colab_link": true
    },
    "kernelspec": {
      "name": "python3",
      "display_name": "Python 3"
    }
  },
  "cells": [
    {
      "cell_type": "markdown",
      "metadata": {
        "id": "view-in-github",
        "colab_type": "text"
      },
      "source": [
        "<a href=\"https://colab.research.google.com/github/jcjimenezb123/MetodosNumericosPython/blob/master/Lagrange.ipynb\" target=\"_parent\"><img src=\"https://colab.research.google.com/assets/colab-badge.svg\" alt=\"Open In Colab\"/></a>"
      ]
    },
    {
      "cell_type": "code",
      "metadata": {
        "id": "1BPE7OjL2Vrv",
        "colab_type": "code",
        "colab": {}
      },
      "source": [
        "import numpy as np\n",
        "from scipy import interpolate\n",
        "import matplotlib\n",
        "import matplotlib.pyplot as plt"
      ],
      "execution_count": 1,
      "outputs": []
    },
    {
      "cell_type": "code",
      "metadata": {
        "id": "umT0vvUE2u6g",
        "colab_type": "code",
        "colab": {}
      },
      "source": [
        "x=np.array([1,4,8,15,18])\n",
        "y=np.array([1.1,1.5,12.1,15.3,15.9])"
      ],
      "execution_count": 2,
      "outputs": []
    },
    {
      "cell_type": "code",
      "metadata": {
        "id": "WKvcvPqk3QqR",
        "colab_type": "code",
        "colab": {}
      },
      "source": [
        "xs=np.linspace(np.min(x),np.max(x),100)\n",
        "\n",
        "inter=interpolate.lagrange(x,y)\n",
        "ys=inter(xs)"
      ],
      "execution_count": 3,
      "outputs": []
    },
    {
      "cell_type": "code",
      "metadata": {
        "id": "jLEhy8nP30zX",
        "colab_type": "code",
        "colab": {
          "base_uri": "https://localhost:8080/",
          "height": 34
        },
        "outputId": "873e1787-e763-4f56-dd8e-84921ed30d2c"
      },
      "source": [
        "dia=6\n",
        "profundidad=inter(dia)\n",
        "print(profundidad)"
      ],
      "execution_count": 6,
      "outputs": [
        {
          "output_type": "stream",
          "text": [
            "6.714296627742003\n"
          ],
          "name": "stdout"
        }
      ]
    },
    {
      "cell_type": "code",
      "metadata": {
        "id": "qcftmoAL3mid",
        "colab_type": "code",
        "colab": {
          "base_uri": "https://localhost:8080/",
          "height": 295
        },
        "outputId": "7feb4c8d-43f4-4f8a-9ee1-385d8edb40e9"
      },
      "source": [
        "fig = plt.figure()\n",
        "plt.plot(xs,ys,'-',label='Lagrange')\n",
        "plt.plot(x,y,'.',label='Datos')\n",
        "plt.plot(dia,profundidad,'s',label='Interpolacion')\n",
        "plt.legend()\n",
        "plt.title('Interpolacion de Lagrange')\n",
        "plt.xlabel('Dia')\n",
        "plt.ylabel('Profundidad')\n",
        "plt.grid()\n",
        "plt.show()\n",
        "fig.savefig(\"graficaInterpLagrange.png\", bbox_inches='tight', transparent=True)"
      ],
      "execution_count": 12,
      "outputs": [
        {
          "output_type": "display_data",
          "data": {
            "image/png": "[encoded data removed]",
            "text/plain": [
              "<Figure size 432x288 with 1 Axes>"
            ]
          },
          "metadata": {
            "tags": [],
            "needs_background": "light"
          }
        }
      ]
    }
  ]
}