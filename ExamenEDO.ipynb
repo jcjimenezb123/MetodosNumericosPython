{
  "nbformat": 4,
  "nbformat_minor": 0,
  "metadata": {
    "colab": {
      "name": "ExamenEDO.ipynb",
      "provenance": [],
      "collapsed_sections": [],
      "include_colab_link": true
    },
    "kernelspec": {
      "name": "python3",
      "display_name": "Python 3"
    }
  },
  "cells": [
    {
      "cell_type": "markdown",
      "metadata": {
        "id": "view-in-github",
        "colab_type": "text"
      },
      "source": [
        "<a href=\"https://colab.research.google.com/github/jcjimenezb123/MetodosNumericosPython/blob/master/ExamenEDO.ipynb\" target=\"_parent\"><img src=\"https://colab.research.google.com/assets/colab-badge.svg\" alt=\"Open In Colab\"/></a>"
      ]
    },
    {
      "cell_type": "markdown",
      "metadata": {
        "id": "pbGgXpQAAqbG"
      },
      "source": [
        "#Métodos Numéricos\n",
        "\n",
        "#Examen - Ecuaciones Diferenciales Ordinarias\n",
        "\n",
        "![UNAM](https://drive.google.com/uc?export=view&id=1GATLSo6jWPCg6vd4M3_aK5bbXRm9a_4K)\n",
        "---\n",
        "\n",
        "Nombre: ***$\\color{blue}{\\text{ Mi nombre } }$***\n",
        "\n",
        "Num. Cuenta: ***$\\color{blue}{ 000000 }$***\n",
        "\n",
        "---\n"
      ]
    },
    {
      "cell_type": "markdown",
      "metadata": {
        "id": "bcZ94LSDDFLM"
      },
      "source": [
        "##Problema\n",
        "\n",
        "Un tanque cilíndrico de 5m de diámetro y 11m de largo, asilado con asbesto, se carga con un líquido que está a 220°F, el cual se deja reposar durante 5 días. A partir de los datos de diseño del tanque, las propiedades térmicas y físicas del líquido, y el valor de la temperatura ambiente, se encuentra la ecuación\n",
        "\n",
        "$$\n",
        "\\frac{dT}{dt}=0.615+0.175cos\\left(\\frac{\\pi t}{12}\\right)-0.0114T\n",
        "$$ \n",
        "\n",
        "que relaciona la temperatura T del líquido (en °C) con el tiempo t en horas, la ecuación $cos$ debe ser en radianes. ¿Cuál es la temperatura final del líquido?\n"
      ]
    },
    {
      "cell_type": "code",
      "metadata": {
        "id": "Vers7tCBcRgo"
      },
      "source": [
        "#Haga los import necesarios\n"
      ],
      "execution_count": null,
      "outputs": []
    },
    {
      "cell_type": "markdown",
      "metadata": {
        "id": "y6oY0rPsTvIB"
      },
      "source": [
        "1. Defina la ecuación que se debe resolver"
      ]
    },
    {
      "cell_type": "code",
      "metadata": {
        "id": "sxEebX00Aoba"
      },
      "source": [
        "def f(t,T): \n",
        "  return #defina aquí la ecuación en función de t y T"
      ],
      "execution_count": null,
      "outputs": []
    },
    {
      "cell_type": "markdown",
      "metadata": {
        "id": "UZp3jMv-T1aA"
      },
      "source": [
        "2. Use el método de **Runge-Kutta de 4to orden** para obtener los valores de $t$ y $T$"
      ]
    },
    {
      "cell_type": "code",
      "metadata": {
        "id": "bmNbWSZaUBOk"
      },
      "source": [
        ""
      ],
      "execution_count": null,
      "outputs": []
    },
    {
      "cell_type": "markdown",
      "metadata": {
        "id": "SF1L9WZgT8oh"
      },
      "source": [
        "3. Grafique los valores de $t$ vs $T$"
      ]
    },
    {
      "cell_type": "code",
      "metadata": {
        "id": "bzWmMcCLSvmP"
      },
      "source": [
        ""
      ],
      "execution_count": null,
      "outputs": []
    },
    {
      "cell_type": "markdown",
      "metadata": {
        "id": "hXbSDvn_UGQy"
      },
      "source": [
        "4. Reporte la solución "
      ]
    }
  ]
}