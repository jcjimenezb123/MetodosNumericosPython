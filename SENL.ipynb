{
  "nbformat": 4,
  "nbformat_minor": 0,
  "metadata": {
    "colab": {
      "name": "SENL.ipynb",
      "provenance": [],
      "authorship_tag": "ABX9TyNYcXzd3DzXrEPMBm0nxKNk",
      "include_colab_link": true
    },
    "kernelspec": {
      "name": "python3",
      "display_name": "Python 3"
    },
    "language_info": {
      "name": "python"
    }
  },
  "cells": [
    {
      "cell_type": "markdown",
      "metadata": {
        "id": "view-in-github",
        "colab_type": "text"
      },
      "source": [
        "<a href=\"https://colab.research.google.com/github/jcjimenezb123/MetodosNumericosPython/blob/master/SENL.ipynb\" target=\"_parent\"><img src=\"https://colab.research.google.com/assets/colab-badge.svg\" alt=\"Open In Colab\"/></a>"
      ]
    },
    {
      "cell_type": "code",
      "metadata": {
        "id": "U6Gmd_8koIj-"
      },
      "source": [
        "import numpy as np"
      ],
      "execution_count": 1,
      "outputs": []
    },
    {
      "cell_type": "code",
      "metadata": {
        "id": "gjJl-Kebm1-S"
      },
      "source": [
        "def pfm(g,x,imax=100,tol=1e-8):\n",
        "  cumple=False\n",
        "  k=0\n",
        "  while (not cumple and k<imax):\n",
        "    x0=x.copy()\n",
        "    x=g(x0)\n",
        "    norma=np.linalg.norm(x-x0)\n",
        "    cumple=norma<tol\n",
        "    k+=1\n",
        "\n",
        "  return x"
      ],
      "execution_count": 4,
      "outputs": []
    },
    {
      "cell_type": "code",
      "metadata": {
        "id": "y95sjUw4pL2Q"
      },
      "source": [
        "def g(x):\n",
        "  x1,x2,x3=x\n",
        "  g1=np.cos(x2*x3)/3+1/6\n",
        "  g2=np.sqrt(x1**2+np.sin(x3)+1.06)/9-0.1\n",
        "  g3=-np.exp(-x1*x2)/20+(10*np.pi-3)/60\n",
        "  return np.array([g1,g2,g3])"
      ],
      "execution_count": 5,
      "outputs": []
    },
    {
      "cell_type": "code",
      "metadata": {
        "colab": {
          "base_uri": "https://localhost:8080/"
        },
        "id": "hltvgQBorGz9",
        "outputId": "e1accc70-96d2-464b-f3a4-f7c7ae556e6f"
      },
      "source": [
        "x=np.array([0,0,0])\n",
        "\n",
        "sol=pfm(g,x,tol=1e-10)\n",
        "sol"
      ],
      "execution_count": 6,
      "outputs": [
        {
          "output_type": "execute_result",
          "data": {
            "text/plain": [
              "array([0.49993692, 0.04580608, 0.42473077])"
            ]
          },
          "metadata": {},
          "execution_count": 6
        }
      ]
    }
  ]
}