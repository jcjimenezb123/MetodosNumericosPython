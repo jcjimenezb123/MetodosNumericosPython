{
  "nbformat": 4,
  "nbformat_minor": 0,
  "metadata": {
    "colab": {
      "name": "Lagrange.ipynb",
      "provenance": [],
      "collapsed_sections": [],
      "authorship_tag": "ABX9TyMr17xkmAW82K36o2zUfLGR",
      "include_colab_link": true
    },
    "kernelspec": {
      "name": "python3",
      "display_name": "Python 3"
    }
  },
  "cells": [
    {
      "cell_type": "markdown",
      "metadata": {
        "id": "view-in-github",
        "colab_type": "text"
      },
      "source": [
        "<a href=\"https://colab.research.google.com/github/jcjimenezb123/MetodosNumericosPython/blob/master/LagrangeEjemplo.ipynb\" target=\"_parent\"><img src=\"https://colab.research.google.com/assets/colab-badge.svg\" alt=\"Open In Colab\"/></a>"
      ]
    },
    {
      "cell_type": "markdown",
      "metadata": {
        "id": "so-_Oo7RZD_9"
      },
      "source": [
        "En temporada de lluvias se toma la profundidad del agua en una presa, obteniendo los siguientes datos:\r\n",
        "\r\n",
        "$$\r\n",
        "\\begin{array}{l|c|c|c|c|c|c}\r\n",
        "\\text{dia}&1& 4& 8& 13& 18\\\\\r\n",
        "\\hline\r\n",
        "\\text{nivel}&1.1& 1.5& 12.8& 15.3& 15.5\r\n",
        "\\end{array}\r\n",
        "$$\r\n",
        "\r\n",
        "Calcular la profundidad del agua en el día 3."
      ]
    },
    {
      "cell_type": "code",
      "metadata": {
        "id": "tC1oH9MpY2vC"
      },
      "source": [
        "import numpy as np\r\n",
        "from scipy.interpolate import lagrange\r\n",
        "import matplotlib.pyplot as plt"
      ],
      "execution_count": null,
      "outputs": []
    },
    {
      "cell_type": "code",
      "metadata": {
        "id": "sey6TyHPZvYo"
      },
      "source": [
        "x=np.array([1,4,8,13])\r\n",
        "y=np.array([1.1,1.5,12.8,15.3])"
      ],
      "execution_count": null,
      "outputs": []
    },
    {
      "cell_type": "code",
      "metadata": {
        "colab": {
          "base_uri": "https://localhost:8080/"
        },
        "id": "M5ISzApqaKDD",
        "outputId": "b0e84fdd-f26b-45b7-f217-087a00fbf213"
      },
      "source": [
        "polinomio=lagrange(x,y)\r\n",
        "xi=3\r\n",
        "yi=polinomio(xi)\r\n",
        "print(yi)"
      ],
      "execution_count": null,
      "outputs": [
        {
          "output_type": "stream",
          "text": [
            "0.061904761904761685\n"
          ],
          "name": "stdout"
        }
      ]
    },
    {
      "cell_type": "code",
      "metadata": {
        "id": "-ydkxB3Nc6q3"
      },
      "source": [
        "xs=np.linspace(x.min(),x.max())\r\n",
        "ys=polinomio(xs)"
      ],
      "execution_count": null,
      "outputs": []
    },
    {
      "cell_type": "code",
      "metadata": {
        "colab": {
          "base_uri": "https://localhost:8080/",
          "height": 295
        },
        "id": "yUwXZrFVbPop",
        "outputId": "e37eb721-af4f-4d6e-91ab-a5c6822c39f2"
      },
      "source": [
        "plt.plot(x,y,'o')\r\n",
        "plt.plot(xi,yi,'sr')\r\n",
        "plt.plot(xs,ys,':')\r\n",
        "plt.title('Nivel del agua en una presa')\r\n",
        "plt.xlabel('Dia')\r\n",
        "plt.ylabel('Nivel')\r\n",
        "plt.grid()\r\n",
        "plt.legend(['Datos','Interpolacion','Lagrange'])\r\n",
        "plt.show()"
      ],
      "execution_count": null,
      "outputs": [
        {
          "output_type": "display_data",
          "data": {
            "image/png": "[encoded data removed]",
            "text/plain": [
              "<Figure size 432x288 with 1 Axes>"
            ]
          },
          "metadata": {
            "tags": [],
            "needs_background": "light"
          }
        }
      ]
    }
  ]
}