{
  "nbformat": 4,
  "nbformat_minor": 0,
  "metadata": {
    "colab": {
      "provenance": [],
      "authorship_tag": "ABX9TyNpFNPItcsx0SiQKa3TKrU0",
      "include_colab_link": true
    },
    "kernelspec": {
      "name": "python3",
      "display_name": "Python 3"
    },
    "language_info": {
      "name": "python"
    }
  },
  "cells": [
    {
      "cell_type": "markdown",
      "metadata": {
        "id": "view-in-github",
        "colab_type": "text"
      },
      "source": [
        "<a href=\"https://colab.research.google.com/github/jcjimenezb123/MetodosNumericosPython/blob/master/integralesNCtarea.ipynb\" target=\"_parent\"><img src=\"https://colab.research.google.com/assets/colab-badge.svg\" alt=\"Open In Colab\"/></a>"
      ]
    },
    {
      "cell_type": "markdown",
      "source": [
        "La longitud de un intercambiador de calor de tubos concéntricos, cuando se usa vapor saturado a temperatura $T_s$ para calentar un fluido, está dada por\n",
        "\n",
        "$$\n",
        "L = \\frac{m}{D\\pi}\\int_{T_1}^{T_2}\\frac{Cp}{h(T_s-T)}dT\n",
        "$$\n",
        "\n",
        "donde $h=\\frac{0.023k}{D}\\left(\\frac{4m}{\\pi D \\mu} \\right)^{0.8}\\left( \\frac{\\mu Cp}{k}\\right)^{0.33}$, $m$ es la masa, $k$ es la conductividad térmica, $\\mu$ es la viscosidad $Cp$ la capacidad calorífica a presión contante, todas del fluido frio.\n",
        "\n",
        "Para un fluido cuyas propiedades están dadas por\n",
        "\n",
        "$$\n",
        "Cp(T)=0.53+0.0006T-6.25\\times 10^{-6}T^2 \\frac{BTU}{lb}{}^{\\circ}F\n",
        "$$\n",
        "\n",
        "$$\n",
        "\\mu(T)=30+0.09T-0.00095T^2 \\frac{lb}{ft\\cdot hr}\n",
        "$$\n",
        "\n",
        "$$\n",
        "k=0.153\\frac{BTU}{hr\\cdot ft ⋅ {}^{\\circ}F}\n",
        "$$\n",
        "\n",
        "Cuál será la longitud necesaria de los tubos para calentar este fluido de $20$ a $60^{\\circ}F$\n",
        "\n",
        "$$\\mu=1500\\cdot lb$$\n",
        "\n",
        "$$T_s=320^{\\circ}F$$\n",
        "\n",
        "$$D=0.25\\cdot ft$$\n",
        "\n",
        "use los métodos compuestos de los trapecios y Simpson$\\frac{1}{3}$"
      ],
      "metadata": {
        "id": "idzuV5Io1o3b"
      }
    },
    {
      "cell_type": "code",
      "execution_count": null,
      "metadata": {
        "id": "RazVPzzB1oCg"
      },
      "outputs": [],
      "source": []
    }
  ]
}