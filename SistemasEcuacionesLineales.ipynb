{
  "nbformat": 4,
  "nbformat_minor": 0,
  "metadata": {
    "colab": {
      "name": "SistemasEcuacionesLineales.ipynb",
      "provenance": [],
      "authorship_tag": "ABX9TyP767F2uo7LvPGDhZX6pq3R",
      "include_colab_link": true
    },
    "kernelspec": {
      "name": "python3",
      "display_name": "Python 3"
    }
  },
  "cells": [
    {
      "cell_type": "markdown",
      "metadata": {
        "id": "view-in-github",
        "colab_type": "text"
      },
      "source": [
        "<a href=\"https://colab.research.google.com/github/jcjimenezb123/MetodosNumericosPython/blob/master/SistemasEcuacionesLineales.ipynb\" target=\"_parent\"><img src=\"https://colab.research.google.com/assets/colab-badge.svg\" alt=\"Open In Colab\"/></a>"
      ]
    },
    {
      "cell_type": "markdown",
      "metadata": {
        "id": "0EwHszXftyY9"
      },
      "source": [
        "#Sistemas de ecuaciones lineales"
      ]
    },
    {
      "cell_type": "markdown",
      "metadata": {
        "id": "mA_ssoRGnIsn"
      },
      "source": [
        "##Métodos Directos"
      ]
    },
    {
      "cell_type": "markdown",
      "metadata": {
        "id": "H-vNCZo7uB16"
      },
      "source": [
        "Resolver el siguiente sistema lineal\n",
        "\n",
        "$$\n",
        "\\begin{array}{ccccccc}\n",
        "x&+&y&+&z&=&6\\\\\n",
        "&&2y&+&5z&=&-4\\\\\n",
        "2x&+&5y&-&z&=&27\\\\\n",
        "\\end{array}\n",
        "$$"
      ]
    },
    {
      "cell_type": "code",
      "metadata": {
        "id": "9ftPQjewrN3m"
      },
      "source": [
        "import numpy as np\n",
        "import scipy as sp"
      ],
      "execution_count": null,
      "outputs": []
    },
    {
      "cell_type": "code",
      "metadata": {
        "id": "L7gX-ZbzuzG-"
      },
      "source": [
        "#se crea la matriz de coeficientes del sistema a resolver\n",
        "A=np.array([[1,1,1],\n",
        "            [0,2,5],\n",
        "            [2,5,-1]])\n",
        "#se crea el vector de los terminos independientes\n",
        "b=np.array([[6,-4,27]])"
      ],
      "execution_count": null,
      "outputs": []
    },
    {
      "cell_type": "code",
      "metadata": {
        "id": "BPzTtOgQabdQ",
        "outputId": "912aa9de-08a7-43f0-e21e-06628f1c5f5e",
        "colab": {
          "base_uri": "https://localhost:8080/"
        }
      },
      "source": [
        "A"
      ],
      "execution_count": null,
      "outputs": [
        {
          "output_type": "execute_result",
          "data": {
            "text/plain": [
              "array([[ 1,  1,  1,  6],\n",
              "       [ 0,  2,  5, -4],\n",
              "       [ 2,  5, -1, 27]])"
            ]
          },
          "metadata": {},
          "execution_count": 13
        }
      ]
    },
    {
      "cell_type": "code",
      "metadata": {
        "id": "2Vma6bL2voK5"
      },
      "source": [
        "Ab=np.concatenate((A,b.T),axis=1) #se crea la matriz extendida concatenando el vector b como una columna (axis=1)\n",
        "n=np.size(A,axis=1) #regresa el numero de columnas de A, es decir, el numero de incognitas"
      ],
      "execution_count": null,
      "outputs": []
    },
    {
      "cell_type": "code",
      "metadata": {
        "id": "SFcoyAIda3m5",
        "outputId": "d45f622a-5ad2-4fa9-d595-6ff822f705e4",
        "colab": {
          "base_uri": "https://localhost:8080/"
        }
      },
      "source": [
        "Ab"
      ],
      "execution_count": null,
      "outputs": [
        {
          "output_type": "execute_result",
          "data": {
            "text/plain": [
              "3"
            ]
          },
          "metadata": {},
          "execution_count": 7
        }
      ]
    },
    {
      "cell_type": "markdown",
      "metadata": {
        "id": "744pa6CuxYvB"
      },
      "source": [
        "Validar si tiene solucion unica por el teorema de **Rouche-Frobenius**"
      ]
    },
    {
      "cell_type": "code",
      "metadata": {
        "id": "JQYXkPBkbJ8e",
        "outputId": "344b507d-3fe3-454d-cb7f-b102664a5600",
        "colab": {
          "base_uri": "https://localhost:8080/"
        }
      },
      "source": [
        "np.linalg.matrix_rank(Ab)"
      ],
      "execution_count": null,
      "outputs": [
        {
          "output_type": "execute_result",
          "data": {
            "text/plain": [
              "3"
            ]
          },
          "metadata": {},
          "execution_count": 9
        }
      ]
    },
    {
      "cell_type": "code",
      "metadata": {
        "colab": {
          "base_uri": "https://localhost:8080/"
        },
        "id": "44vbAfUAxX10",
        "outputId": "6ce9957a-9d3c-4e33-9091-65d81877e2eb"
      },
      "source": [
        "solucion_unica = np.linalg.matrix_rank(A)==np.linalg.matrix_rank(Ab)==n\n",
        "solucion_unica"
      ],
      "execution_count": null,
      "outputs": [
        {
          "output_type": "execute_result",
          "data": {
            "text/plain": [
              "True"
            ]
          },
          "metadata": {},
          "execution_count": 10
        }
      ]
    },
    {
      "cell_type": "markdown",
      "metadata": {
        "id": "Ew88NEqKycrL"
      },
      "source": [
        "Resolver el sistema usando el metodo de **Gauss-Jordan**"
      ]
    },
    {
      "cell_type": "code",
      "metadata": {
        "id": "NymFHM90wBNz"
      },
      "source": [
        "import sympy as sy"
      ],
      "execution_count": null,
      "outputs": []
    },
    {
      "cell_type": "code",
      "metadata": {
        "colab": {
          "base_uri": "https://localhost:8080/",
          "height": 78
        },
        "id": "z-BmDVqOynle",
        "outputId": "134e9ace-e014-4fb3-eb8c-cb8c2671309a"
      },
      "source": [
        "reduccion,_=sy.Matrix(Ab).rref() #rref (row reduced echelon form), es decir, el metodo de Gauss-Jordan\n",
        "reduccion"
      ],
      "execution_count": null,
      "outputs": [
        {
          "output_type": "execute_result",
          "data": {
            "text/latex": "$\\displaystyle \\left[\\begin{matrix}1 & 0 & 0 & 5\\\\0 & 1 & 0 & 3\\\\0 & 0 & 1 & -2\\end{matrix}\\right]$",
            "text/plain": [
              "Matrix([\n",
              "[1, 0, 0,  5],\n",
              "[0, 1, 0,  3],\n",
              "[0, 0, 1, -2]])"
            ]
          },
          "metadata": {},
          "execution_count": 15
        }
      ]
    },
    {
      "cell_type": "markdown",
      "metadata": {
        "id": "WYossKoJzaJZ"
      },
      "source": [
        "por lo tanto el conjunto solucion es\n",
        "\n",
        "* $x=5$\n",
        "* $y=3$\n",
        "* $z=-2$"
      ]
    },
    {
      "cell_type": "markdown",
      "metadata": {
        "id": "Ck4IpeR6zwKm"
      },
      "source": [
        "Aplicando el metodo de **inversa-multiplicacion**"
      ]
    },
    {
      "cell_type": "code",
      "metadata": {
        "colab": {
          "base_uri": "https://localhost:8080/"
        },
        "id": "M9Z5wB4qzJf-",
        "outputId": "fcaf4c00-9631-42be-ef51-20bcb12137ab"
      },
      "source": [
        "#se obtiene la inversa de la matriz de coeficientes A\n",
        "Ainv=np.linalg.inv(A)\n",
        "Ainv"
      ],
      "execution_count": null,
      "outputs": [
        {
          "output_type": "execute_result",
          "data": {
            "text/plain": [
              "array([[ 1.28571429, -0.28571429, -0.14285714],\n",
              "       [-0.47619048,  0.14285714,  0.23809524],\n",
              "       [ 0.19047619,  0.14285714, -0.0952381 ]])"
            ]
          },
          "metadata": {},
          "execution_count": 16
        }
      ]
    },
    {
      "cell_type": "code",
      "metadata": {
        "colab": {
          "base_uri": "https://localhost:8080/"
        },
        "id": "l2hsJItu0IBX",
        "outputId": "a09ae7e4-af5a-4895-ef37-15c9b0332ef0"
      },
      "source": [
        "x=Ainv.dot(b.T) #se multiplica la inversa de A por el vector b\n",
        "x"
      ],
      "execution_count": null,
      "outputs": [
        {
          "output_type": "execute_result",
          "data": {
            "text/plain": [
              "array([[ 5.],\n",
              "       [ 3.],\n",
              "       [-2.]])"
            ]
          },
          "metadata": {},
          "execution_count": 18
        }
      ]
    },
    {
      "cell_type": "markdown",
      "metadata": {
        "id": "ARLIlHYM0tv4"
      },
      "source": [
        "Aplicando la regla de **Cramer**"
      ]
    },
    {
      "cell_type": "code",
      "metadata": {
        "colab": {
          "base_uri": "https://localhost:8080/"
        },
        "id": "VQ7gXW1Y0aTI",
        "outputId": "9e630880-e8cf-4a53-db6c-7edd0e36e081"
      },
      "source": [
        "DetA=np.linalg.det(A)\n",
        "x=np.empty(n)\n",
        "\n",
        "for i in range(n):\n",
        "  Ax=A.copy()\n",
        "  Ax[:,i]=b.copy()\n",
        "  DetAx=np.linalg.det(Ax)\n",
        "  x[i]=DetAx/DetA\n",
        "\n",
        "print(x)"
      ],
      "execution_count": null,
      "outputs": [
        {
          "output_type": "stream",
          "name": "stdout",
          "text": [
            "[ 5.  3. -2.]\n"
          ]
        }
      ]
    },
    {
      "cell_type": "markdown",
      "metadata": {
        "id": "psqDN5Jx5EmP"
      },
      "source": [
        "Se aplica la funcion **solve** de numpy"
      ]
    },
    {
      "cell_type": "code",
      "metadata": {
        "colab": {
          "base_uri": "https://localhost:8080/"
        },
        "id": "ItYKJ8lZ1GpZ",
        "outputId": "70ab628f-f4a9-4efb-e1e7-469db3e5afd3"
      },
      "source": [
        "x=np.linalg.solve(A,b.T)\n",
        "x"
      ],
      "execution_count": null,
      "outputs": [
        {
          "output_type": "execute_result",
          "data": {
            "text/plain": [
              "array([[ 5.],\n",
              "       [ 3.],\n",
              "       [-2.]])"
            ]
          },
          "metadata": {
            "tags": []
          },
          "execution_count": 21
        }
      ]
    },
    {
      "cell_type": "markdown",
      "metadata": {
        "id": "gXOXKsd-5pOj"
      },
      "source": [
        "##Sistemas homogeneos $Ax=0$"
      ]
    },
    {
      "cell_type": "markdown",
      "metadata": {
        "id": "ZsosAB9z5uJP"
      },
      "source": [
        "Balancear la siguiente ecuación química\n",
        "\n",
        "$$\n",
        "x_1Pb(N_3)_2 + x_2Cr(MnO_4)_2 \\rightarrow x_3Cr_2O_3 + x_4MnO_2 + x_5Pb_3O_4 + x_6NO\n",
        "$$\n",
        "\n",
        "Balance por elemento\n",
        "\n",
        "* $Pb: x_1 = 3x_5 \\Rightarrow x1–3x_5 = 0$\n",
        "* $N: 6x_1 = x_6 \\Rightarrow 6x_1 -x_6 = 0$\n",
        "* $Cr: x_2 = 2x_3 \\Rightarrow x_2–2x_3 = 0$\n",
        "* $Mn: 2x_2 = x_4 \\Rightarrow 2x_2–x_4 = 0$\n",
        "* $O: 8x_2 = 3x_3 +2x_4 +4x_5 +x_6 \\Rightarrow 8x_2 -3x_3 -2x_4 -4x_5 -x_6 = 0$\n",
        "\n",
        "El sistema de ecuaciones lineales es\n",
        "\n",
        "$$\n",
        "\\begin{pmatrix}\n",
        "1& 0& 0& 0& -3& 0\\\\\n",
        "6& 0& 0& 0& 0& -1\\\\\n",
        "0& 1& -2& 0& 0& 0\\\\\n",
        "0& 2& 0& -1& 0& 0\\\\\n",
        "0& 8& -3& -2& -4& -1\n",
        "\\end{pmatrix}\n",
        "$$"
      ]
    },
    {
      "cell_type": "code",
      "metadata": {
        "id": "tISmJkAF5SjW"
      },
      "source": [
        "import numpy as np\n",
        "A=np.array([[1 , 0, 0, 0,-3, 0 ],\n",
        "            [ 6 , 0, 0, 0, 0,-1 ],\n",
        "            [ 0 , 1,-2, 0, 0, 0 ],\n",
        "            [ 0 , 2, 0,-1, 0, 0 ],\n",
        "            [ 0 , 8,-3,-2,-4,-1 ]])\n",
        "\n",
        "b=np.array([[0 ,0 ,0 ,0 ,0]])"
      ],
      "execution_count": null,
      "outputs": []
    },
    {
      "cell_type": "code",
      "metadata": {
        "id": "p2WZzTUW6_MU"
      },
      "source": [
        "Ab=np.concatenate((A,b.T),axis=1)\n",
        "n=np.size(A,axis=1)"
      ],
      "execution_count": null,
      "outputs": []
    },
    {
      "cell_type": "code",
      "metadata": {
        "id": "WCANam0teQP3",
        "outputId": "9712dfc3-29dd-41c4-9fca-3cad022bc82d",
        "colab": {
          "base_uri": "https://localhost:8080/"
        }
      },
      "source": [
        "Ab"
      ],
      "execution_count": null,
      "outputs": [
        {
          "output_type": "execute_result",
          "data": {
            "text/plain": [
              "array([[ 1,  0,  0,  0, -3,  0,  0],\n",
              "       [ 6,  0,  0,  0,  0, -1,  0],\n",
              "       [ 0,  1, -2,  0,  0,  0,  0],\n",
              "       [ 0,  2,  0, -1,  0,  0,  0],\n",
              "       [ 0,  8, -3, -2, -4, -1,  0]])"
            ]
          },
          "metadata": {},
          "execution_count": 23
        }
      ]
    },
    {
      "cell_type": "code",
      "metadata": {
        "colab": {
          "base_uri": "https://localhost:8080/"
        },
        "id": "U5jYgn_a7ORm",
        "outputId": "83aea608-54d3-487c-cb50-3b78cb39235f"
      },
      "source": [
        "solucion_unica = np.linalg.matrix_rank(A)==np.linalg.matrix_rank(Ab)==n\n",
        "solucion_unica"
      ],
      "execution_count": null,
      "outputs": [
        {
          "output_type": "execute_result",
          "data": {
            "text/plain": [
              "False"
            ]
          },
          "metadata": {},
          "execution_count": 24
        }
      ]
    },
    {
      "cell_type": "code",
      "metadata": {
        "colab": {
          "base_uri": "https://localhost:8080/"
        },
        "id": "voAoZSaD7gWd",
        "outputId": "92d0f368-901a-4a54-c892-7e1fcdb39ba9"
      },
      "source": [
        "solucion_multiple = np.linalg.matrix_rank(A)==np.linalg.matrix_rank(Ab)<n\n",
        "solucion_multiple"
      ],
      "execution_count": null,
      "outputs": [
        {
          "output_type": "execute_result",
          "data": {
            "text/plain": [
              "True"
            ]
          },
          "metadata": {},
          "execution_count": 25
        }
      ]
    },
    {
      "cell_type": "code",
      "metadata": {
        "colab": {
          "base_uri": "https://localhost:8080/",
          "height": 119
        },
        "id": "DImStTN_7vJS",
        "outputId": "e834b484-d194-4f9e-d118-d0ba7f0fefac"
      },
      "source": [
        "import sympy as sy\n",
        "\n",
        "reduccion,_=sy.Matrix(Ab).rref()\n",
        "reduccion"
      ],
      "execution_count": null,
      "outputs": [
        {
          "output_type": "execute_result",
          "data": {
            "text/latex": "$\\displaystyle \\left[\\begin{matrix}1 & 0 & 0 & 0 & 0 & - \\frac{1}{6} & 0\\\\0 & 1 & 0 & 0 & 0 & - \\frac{22}{45} & 0\\\\0 & 0 & 1 & 0 & 0 & - \\frac{11}{45} & 0\\\\0 & 0 & 0 & 1 & 0 & - \\frac{44}{45} & 0\\\\0 & 0 & 0 & 0 & 1 & - \\frac{1}{18} & 0\\end{matrix}\\right]$",
            "text/plain": [
              "Matrix([\n",
              "[1, 0, 0, 0, 0,   -1/6, 0],\n",
              "[0, 1, 0, 0, 0, -22/45, 0],\n",
              "[0, 0, 1, 0, 0, -11/45, 0],\n",
              "[0, 0, 0, 1, 0, -44/45, 0],\n",
              "[0, 0, 0, 0, 1,  -1/18, 0]])"
            ]
          },
          "metadata": {},
          "execution_count": 26
        }
      ]
    },
    {
      "cell_type": "markdown",
      "metadata": {
        "id": "9iAt0B3884J4"
      },
      "source": [
        "Por lo tanto el sistema tiene multiples soluciones y guarda las siguientes proporciones\n",
        "\n",
        "* $x_1=1/6x_6$\n",
        "* $x_2=22/45x_6$\n",
        "* $x_3=11/45x_6$\n",
        "* $x_4=44/45x_6$\n",
        "* $x_5=1/18x_6$\n",
        "\n",
        "el conjunto solucion queda expresado como\n",
        "\n",
        "$$\n",
        "(1/6x_6,22/45x_6,11/45x_6,44/45x_6,1/18x_6,x_6)\n",
        "$$\n",
        "\n",
        "para resolver el problema del balanceo de la reaccion quimica se debe buscar un valor de $x_6$ de tal manera que los valores del resto de las incognitas sea un entero.\n",
        "\n",
        "por ejemplo $x_6=90$\n",
        "\n"
      ]
    },
    {
      "cell_type": "code",
      "metadata": {
        "colab": {
          "base_uri": "https://localhost:8080/"
        },
        "id": "_7t9Xcts8B4H",
        "outputId": "6330dd43-0937-4f3d-9db2-4fa106052a65"
      },
      "source": [
        "x6=90\n",
        "x1=-x6*reduccion[0,-2]\n",
        "x2=-x6*reduccion[1,-2]\n",
        "x3=-x6*reduccion[2,-2]\n",
        "x4=-x6*reduccion[3,-2]\n",
        "x5=-x6*reduccion[4,-2]\n",
        "\n",
        "print(x1,x2,x3,x4,x5,x6)"
      ],
      "execution_count": null,
      "outputs": [
        {
          "output_type": "stream",
          "name": "stdout",
          "text": [
            "15 44 22 88 5 90\n"
          ]
        }
      ]
    },
    {
      "cell_type": "markdown",
      "metadata": {
        "id": "1zrDaTzo_KZr"
      },
      "source": [
        "Por lo tanto la reaccion balanceada es\n",
        "\n",
        "$$\n",
        "15Pb(N_3)_2 + 44Cr(MnO_4)_2 \\rightarrow 22Cr_2O_3 + 88MnO_2 + 5Pb_3O_4 + 90NO\n",
        "$$"
      ]
    },
    {
      "cell_type": "markdown",
      "metadata": {
        "id": "Hm0uifKvm-kB"
      },
      "source": [
        "##Metodos iterativos"
      ]
    },
    {
      "cell_type": "markdown",
      "metadata": {
        "id": "4kf91Fe5lAOJ"
      },
      "source": [
        "En el metodo de Jacobi se descompone la matriz de coeficientes $A$ en dos matrices, una se compone de los elementos de la diagonal $D_{i,i}=A_{i,i}$. La matriz $D$ no debe tener elementos cero, si fuera asi se deben intercambiar los renglones para evitar el caso. La otra matriz es el resto de los elementos, es decir los elementos que no son la diagonal $R_{i,j}=A_{i,j}$ de tal manera que $A=D+R$.\n",
        "\n",
        "\\begin{array}\n",
        "A&A=&\n",
        "\\begin{pmatrix}\n",
        "A_{1,1} & A_{1,2} & \\cdots & A_{1,n}\\\\\n",
        "A_{2,1} & A_{2,2} & \\cdots & A_{2,n}\\\\\n",
        "\\vdots & \\vdots & \\ddots & \\vdots\\\\\n",
        "A_{n,1} & A_{n,2} & \\cdots & A_{n,n}\\\\\n",
        "\\end{pmatrix}\n",
        "&D&=&\n",
        "\\begin{pmatrix}\n",
        "A_{1,1} &0 & \\cdots & 0\\\\\n",
        "0 & A_{2,2} & \\cdots & 0\\\\\n",
        "\\vdots & \\vdots & \\ddots & \\vdots\\\\\n",
        "0 & 0 & \\cdots & A_{n,n}\\\\\n",
        "\\end{pmatrix}\n",
        "$\\\\\n",
        " & \\\\\n",
        "R&=&\n",
        "\\begin{pmatrix}\n",
        "0 & A_{1,2} & \\cdots & A_{1,n}\\\\\n",
        "A_{2,1} & 0 & \\cdots & A_{2,n}\\\\\n",
        "\\vdots & \\vdots & \\ddots & \\vdots\\\\\n",
        "A_{n,1} & A_{n,2} & \\cdots & 0\\\\\n",
        "\\end{pmatrix}\n",
        "\\end{array}\n",
        "\n",
        "Por lo tanto, la ecuacion que describe un sistema de ecuaciones lineales $Ax=b$ ahora se expresa como $[D+R]x=b$.\n",
        "\n",
        "\\begin{equation*}\n",
        "\\begin{split}\n",
        "Dx+Rx&=b\\\\\n",
        "Dx&=b-Rx\\\\\n",
        "D^{-1}Dx&=D^{-1}(b-Rx)\\\\\n",
        "x&=D^{-1}(b-Rx)\n",
        "\\end{split}\n",
        "\\end{equation*}\n",
        "\n",
        "Ecuacion iterativa de Jacobi\n",
        "$$\n",
        "x^{(k+1)}=D^{-1}\\left( b-Rx^{(k)} \\right)\n",
        "$$\n",
        "\n",
        "La ecuacion iterativa de Jacobi se inicia con valores supuestos $x^{(k)}$ y la ecuacion iterativa obtiene los siguientes valores $x^{(k+1)}$. El proceso se repite hasta que la diferencia absoluta entre $x^{(k+1)}$ y $x^{(k)}$ sea minima.\n"
      ]
    },
    {
      "cell_type": "markdown",
      "metadata": {
        "id": "vI_l159PneiI"
      },
      "source": [
        "En una columna de 5 platos, se requiere absorber benceno contenido en una corriente de gas V, con aceite L que circula a contracorriente del gas. Considerese que el benceno transferido no altera sustancialmente el numero de moles de V y L fluyendo a contracorriente, que relacion de equilibrio esta dada por la ley de Henry ($y = mx$) y que la columna opera a regimen permanente. Calcule la composicion en cada plato.\n",
        "\n",
        "\\begin{array}\n",
        "xDatos:&V = 100 & moles/min\\\\\n",
        " & L = 500 & moles/min\\\\\n",
        " & y_0 = 0.09 & \\text{fraccion molar de benceno en V}\\\\\n",
        " & x_0 = 0.0 & \\text{fraccion de benceno en L (el aceite entra por el domo sin benceno)}\\\\\n",
        " & m = 0.12\n",
        "\\end{array}\n",
        "\n",
        "Sistema\n",
        "\n",
        "\\begin{pmatrix}\n",
        "-512x_5 & 12x_4 & 0 & 0 & 0 & 0\\\\\n",
        "500x_5 & -512x_4 & 12x_3 & 0 & 0 & 0\\\\\n",
        "0 & 500x_4 & -512x_3 & 12x_2 & 0 & 0\\\\\n",
        "0 & 0 & 500x_3 & -512x_2 & 12x_1 & 0\\\\\n",
        "0 & 0 & 0 & -500x_2 & 512x_1 & 9\\\\\n",
        "\\end{pmatrix}"
      ]
    },
    {
      "cell_type": "code",
      "metadata": {
        "id": "LvMmmm4i_xYP"
      },
      "source": [
        "import numpy as np #Se importa la biblioteca de numpy para hacer las operaciones de vectores\n",
        "\n",
        "def jacobi(A,b,x,imax =100,tol=1e-8) :\n",
        "  '''\n",
        "  El metodo de Jacobi es un metodo iterativo para resolver sistemas de ecuaciones\n",
        "  lineales. Es recomendable que el sistema sea diagonalmente dominante\n",
        "  Argumentos:\n",
        "  ---\n",
        "  A es la matriz de coeficientes\n",
        "  b es el vector de constantes\n",
        "  x es el vector inicial\n",
        "  imax es el numero maximo de iteraciones\n",
        "  tol es la tolerancia\n",
        "  Devuelve el consunto solucion\n",
        "  '''\n",
        "  D=np.diag(A) #se obtiene la matriz D que es la diagonal de A\n",
        "  R=A-np.diagflat(D) #se obtiene la matriz R con el resto de D\n",
        "  cumple = False\n",
        "  k=0\n",
        "  #se hace el ciclo para iterar hasta que se cumpla el criterio de convergencia\n",
        "  while (not cumple and k< imax):\n",
        "     xk1 =(b-np.dot(R,x))/D #se aplica la ecuacion iterativa de Jacobi\n",
        "     norma =np.linalg.norm(x- xk1 ) #se calcula la norma euclidea\n",
        "     print (' iteracion :{} - >{} norma {} '.format(k,x,norma)) #se muestra cada iteracion\n",
        "     cumple =norma < tol #se valida el criterio de convergencia\n",
        "     x= xk1.copy() #se toma el valor calculado para la sig iteracion\n",
        "     k +=1 #cuenta las iteraciones\n",
        "\n",
        "  if k< imax :\n",
        "    return x #retorna el conjunto solucion\n",
        "  else :\n",
        "    raise ValueError ( 'El sistema no converge ')"
      ],
      "execution_count": null,
      "outputs": []
    },
    {
      "cell_type": "code",
      "metadata": {
        "colab": {
          "base_uri": "https://localhost:8080/"
        },
        "id": "6u4I-6clpG_M",
        "outputId": "18bf718e-ea42-4112-a88d-83aefadcfbb4"
      },
      "source": [
        "#se crea la matriz de coeficientes del sistema\n",
        "A = np.array([[ -512 ,12 ,0 ,0 ,0] ,\n",
        "                [500 , -512 ,12 ,0 ,0] ,\n",
        "                [0 ,500 , -512 ,12 ,0] ,\n",
        "                [0 ,0 ,500 , -512 ,12] ,\n",
        "                [0 ,0 ,0 , -500 ,512]])\n",
        "#se crea el vector de las constantes del sistema\n",
        "b = np.array([0 ,0 ,0 ,0 ,9])\n",
        "#se crea el vector inicial\n",
        "x = np.array([0 ,0 ,0 ,0 ,0])\n",
        "#se llama al metodo de jacobi\n",
        "x= jacobi(A,b,x)\n",
        "print('\\n\\nSolucion : ',x)"
      ],
      "execution_count": null,
      "outputs": [
        {
          "output_type": "stream",
          "name": "stdout",
          "text": [
            " iteracion :0 - >[0 0 0 0 0] norma 0.017578125 \n",
            " iteracion :1 - >[-0.         -0.         -0.         -0.          0.01757812] norma 0.0004119873046875 \n",
            " iteracion :2 - >[-0.         -0.         -0.          0.00041199  0.01757812] norma 0.00040244720698264793 \n",
            " iteracion :3 - >[-0.00000000e+00 -0.00000000e+00  9.65595245e-06  4.11987305e-04\n",
            "  1.79804564e-02] norma 1.8860639955397488e-05 \n",
            " iteracion :4 - >[-0.00000000e+00  2.26311386e-07  9.65595245e-06  4.30846587e-04\n",
            "  1.79804564e-02] norma 1.842919899944634e-05 \n",
            " iteracion :5 - >[5.30417310e-09 2.26311386e-07 1.03189741e-05 4.30846587e-04\n",
            " 1.79988736e-02] norma 1.0793356680990857e-06 \n",
            " iteracion :6 - >[5.30417310e-09 2.47030812e-07 1.03189741e-05 4.31925724e-04\n",
            " 1.79988736e-02] norma 1.0548275284568573e-06 \n",
            " iteracion :7 - >[5.78978465e-09 2.47030812e-07 1.03645002e-05 4.31925724e-04\n",
            " 1.79999275e-02] norma 6.917571784739033e-08 \n",
            " iteracion :8 - >[5.78978465e-09 2.48572059e-07 1.03645002e-05 4.31994882e-04\n",
            " 1.79999275e-02] norma 6.760995881613473e-08 \n",
            " iteracion :9 - >[5.82590764e-09 2.48572059e-07 1.03676262e-05 4.31994882e-04\n",
            " 1.79999950e-02] norma 4.6369458180272845e-09 \n",
            "\n",
            "\n",
            "Solucion :  [5.82590764e-09 2.48680602e-07 1.03676262e-05 4.31999518e-04\n",
            " 1.79999950e-02]\n"
          ]
        }
      ]
    },
    {
      "cell_type": "code",
      "metadata": {
        "id": "H7Kna_vmp09g"
      },
      "source": [
        "def gaussSeidel(A,b,x, imax =100 , tol =1e-8) :\n",
        "  '''\n",
        "  El metodo de Gauss Seidel es un metodo iterativo para resolver sistemas de ecuaciones\n",
        "  lineales. Es recomendable que el sistema sea diagonalmente dominante\n",
        "  Argumentos:\n",
        "  ---\n",
        "  A es la matriz de coeficientes\n",
        "  b es el vector de constantes\n",
        "  x es el vector inicial\n",
        "  imax es el numero maximo de iteraciones\n",
        "  tol es la tolerancia\n",
        "  Devuelve el conjunto solucion\n",
        "  '''\n",
        "  L=np.tril(A) #se obtiene la matriz triangular inferior\n",
        "  U=A-L #se obtiene la matriz triangular superior\n",
        "  Linv =np.linalg.inv(L) #se obtiene la inversa de L\n",
        "  cumple = False\n",
        "  k=0\n",
        "  #se hacen las iteraciones hasta cumplir con el criterio de convergencia\n",
        "  while (not cumple and k< imax):\n",
        "    xk1 =np.dot(Linv,b-np.dot(U,x)) #se aplica la ecuacion iterativa de Gauss Seidel\n",
        "    norma =np.linalg.norm(x- xk1) #se obtiene la norma euclidea\n",
        "    print (' iteracion :{} - >{} norma {} '.format(k,x, norma )) #se muestra cada iteracion\n",
        "    cumple =norma < tol #se valida el criterio de convergencia\n",
        "    x= xk1.copy() #se usa el valor obtenido para la sig iteracion\n",
        "    k +=1 #se cuentan las iteraciones\n",
        " \n",
        "  if k< imax :\n",
        "    return x #retorna el conjunto solucion\n",
        "  else :\n",
        "    raise ValueError( 'El sistema no converge ')"
      ],
      "execution_count": null,
      "outputs": []
    },
    {
      "cell_type": "code",
      "metadata": {
        "colab": {
          "base_uri": "https://localhost:8080/"
        },
        "id": "5DF6mE2fqMFq",
        "outputId": "7a914062-d778-49d4-bdf0-33630220c6c0"
      },
      "source": [
        "A = np. array ([[ -512 ,12 ,0 ,0 ,0] ,\n",
        "                [500 , -512 ,12 ,0 ,0] ,\n",
        "                [0 ,500 , -512 ,12 ,0] ,\n",
        "                [0 ,0 ,500 , -512 ,12] ,\n",
        "                [0 ,0 ,0 , -500 ,512]])\n",
        "b = np. array ([0 ,0 ,0 ,0 ,9])\n",
        "x = np. array ([0 ,0 ,0 ,0 ,0])\n",
        "x= gaussSeidel (A,b,x)\n",
        "print ( '\\n\\nSolucion : ',x)"
      ],
      "execution_count": null,
      "outputs": [
        {
          "output_type": "stream",
          "name": "stdout",
          "text": [
            " iteracion :0 - >[0 0 0 0 0] norma 0.017578125 \n",
            " iteracion :1 - >[0.         0.         0.         0.         0.01757812] norma 0.000575850723898146 \n",
            " iteracion :2 - >[0.         0.         0.         0.00041199 0.01798046] norma 2.8073220164515078e-05 \n",
            " iteracion :3 - >[0.00000000e+00 0.00000000e+00 9.65595245e-06 4.30846587e-04\n",
            " 1.79988736e-02] norma 1.663111234926709e-06 \n",
            " iteracion :4 - >[0.00000000e+00 2.26311386e-07 1.03189741e-05 4.31925724e-04\n",
            " 1.79999275e-02] norma 1.0896921936203857e-07 \n",
            " iteracion :5 - >[5.30417310e-09 2.47030812e-07 1.03645002e-05 4.31994882e-04\n",
            " 1.79999950e-02] norma 7.373382462926921e-09 \n",
            "\n",
            "\n",
            "Solucion :  [5.78978465e-09 2.48572059e-07 1.03676262e-05 4.31999518e-04\n",
            " 1.79999995e-02]\n"
          ]
        }
      ]
    },
    {
      "cell_type": "code",
      "metadata": {
        "id": "y8onhOZ2qSAv"
      },
      "source": [
        "def sor(A,b,x,w=1,imax =100,tol=1e-8) :\n",
        "  '''\n",
        "  El metodo SOR es un metodo iterativo para resolver sistemas de ecuaciones\n",
        "  lineales. Se utiliza el factor w para hacer la relajacion\n",
        "  Argumentos:\n",
        "  ---\n",
        "  A es la matriz de coeficientes\n",
        "  b es el vector de constantes\n",
        "  x es el vector inicial\n",
        "  w es el facor de relajacion \n",
        "  0<w<1 sub relajacion para hacer convergente el sistema\n",
        "  1<w<2 sobre relajacion para acelerar la convergencia\n",
        "  imax es el numero maximo de iteraciones\n",
        "  tol es la tolerancia\n",
        "  Devuelve el conjunto solucion\n",
        "  '''\n",
        "  cumple = False\n",
        "  n=A.shape[0]\n",
        "  k=0\n",
        "  #se hace el ciclo de las iteraciones\n",
        "  while ( not cumple and k< imax ):\n",
        "    xk1 = np.zeros(n)\n",
        "    for i in range(n):\n",
        "      s1 = np.dot(A[i ,:i], xk1 [:i]) #primer suma\n",
        "      s2 = np.dot(A[i,i+1:], x[i +1:]) #segunda suma\n",
        "      xk1[i] = (b[i]-s1 -s2)/A[i, i]*w+(1 -w)*x[i] #se aplica la ecuacion iterativa de SOR\n",
        " \n",
        "    norma =np.linalg.norm(x- xk1 ) #se calcula la norma euclidea\n",
        "    print (' iteracion :{} - >{} norma {} '.format(k,xk1,norma)) #se muestra cada iteracion\n",
        "    cumple =norma < tol #se valida el criterio de convergencia\n",
        "    x= xk1 #se usa el valor calculado para la sig iteracion\n",
        "    k +=1 #se cuentan las iteraciones\n",
        "\n",
        "  if k< imax :\n",
        "    return x #retorna el conjunto solucion\n",
        "  else :\n",
        "    raise ValueError( 'El sistema no converge ')"
      ],
      "execution_count": null,
      "outputs": []
    },
    {
      "cell_type": "code",
      "metadata": {
        "colab": {
          "base_uri": "https://localhost:8080/"
        },
        "id": "rgv3dEZOq6Ep",
        "outputId": "8f984051-73ac-4fe1-b7bb-7636b6ca8c22"
      },
      "source": [
        "A = np. array ([[ -512 ,12 ,0 ,0 ,0] ,\n",
        "                [500 , -512 ,12 ,0 ,0] ,\n",
        "                [0 ,500 , -512 ,12 ,0] ,\n",
        "                [0 ,0 ,500 , -512 ,12] ,\n",
        "                [0 ,0 ,0 , -500 ,512]])\n",
        "b = np. array ([0 ,0 ,0 ,0 ,9])\n",
        "x = np. array ([0 ,0 ,0 ,0 ,0])\n",
        "\n",
        "w =1.1\n",
        "x= sor(A,b,x,w)\n",
        "print ( '\\n\\nSolucion : ',x)"
      ],
      "execution_count": null,
      "outputs": [
        {
          "output_type": "stream",
          "name": "stdout",
          "text": [
            " iteracion :0 - >[-0.         -0.         -0.         -0.          0.01933594] norma 0.0193359375 \n",
            " iteracion :1 - >[0.         0.         0.         0.0004985  0.01793785] norma 0.0014843060791567123 \n",
            " iteracion :2 - >[-0.00000000e+00 -0.00000000e+00  1.28520727e-05  4.26415586e-04\n",
            "  1.80002164e-02] norma 9.618722250697878e-05 \n",
            " iteracion :3 - >[0.00000000e+00 3.31342500e-07 1.00642539e-05 4.32237732e-04\n",
            " 1.80002337e-02] norma 6.463698824444121e-06 \n",
            " iteracion :4 - >[8.54242382e-09 2.35511227e-07 1.03901942e-05 4.32006094e-04\n",
            " 1.79999832e-02] norma 4.815903680254931e-07 \n",
            " iteracion :5 - >[5.21753144e-09 2.49925842e-07 1.03671127e-05 4.31998004e-04\n",
            " 1.79999995e-02] norma 3.2937161890614256e-08 \n",
            " iteracion :6 - >[5.92164747e-09 2.48645685e-07 1.03678371e-05 4.32000013e-04\n",
            " 1.80000001e-02] norma 2.639718926897102e-09 \n",
            "\n",
            "\n",
            "Solucion :  [5.92164747e-09 2.48645685e-07 1.03678371e-05 4.32000013e-04\n",
            " 1.80000001e-02]\n"
          ]
        }
      ]
    }
  ]
}