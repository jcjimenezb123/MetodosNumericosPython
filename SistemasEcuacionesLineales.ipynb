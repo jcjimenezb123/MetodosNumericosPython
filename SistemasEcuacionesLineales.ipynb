{
  "nbformat": 4,
  "nbformat_minor": 0,
  "metadata": {
    "colab": {
      "name": "SistemasEcuacionesLineales.ipynb",
      "provenance": [],
      "authorship_tag": "ABX9TyP6KHuQ5b8ROeBTdccTOOuh",
      "include_colab_link": true
    },
    "kernelspec": {
      "name": "python3",
      "display_name": "Python 3"
    }
  },
  "cells": [
    {
      "cell_type": "markdown",
      "metadata": {
        "id": "view-in-github",
        "colab_type": "text"
      },
      "source": [
        "<a href=\"https://colab.research.google.com/github/jcjimenezb123/MetodosNumericosPython/blob/master/SistemasEcuacionesLineales.ipynb\" target=\"_parent\"><img src=\"https://colab.research.google.com/assets/colab-badge.svg\" alt=\"Open In Colab\"/></a>"
      ]
    },
    {
      "cell_type": "markdown",
      "metadata": {
        "id": "0EwHszXftyY9"
      },
      "source": [
        "#Sistemas de ecuaciones lineales\r\n",
        "\r\n",
        "##Métodos Directos"
      ]
    },
    {
      "cell_type": "markdown",
      "metadata": {
        "id": "H-vNCZo7uB16"
      },
      "source": [
        "Resolver el siguiente sistema lineal\r\n",
        "\r\n",
        "$$\r\n",
        "\\begin{array}{ccccccc}\r\n",
        "x&+&y&+&z&=&6\\\\\r\n",
        "&&2y&+&5z&=&-4\\\\\r\n",
        "2x&+&5y&-&z&=&27\\\\\r\n",
        "\\end{array}\r\n",
        "$$"
      ]
    },
    {
      "cell_type": "code",
      "metadata": {
        "id": "9ftPQjewrN3m"
      },
      "source": [
        "import numpy as np\r\n",
        "import scipy as sp"
      ],
      "execution_count": 1,
      "outputs": []
    },
    {
      "cell_type": "code",
      "metadata": {
        "id": "L7gX-ZbzuzG-"
      },
      "source": [
        "#se crea la matriz de coeficientes del sistema a resolver\r\n",
        "A=np.array([[1,1,1],\r\n",
        "            [0,2,5],\r\n",
        "            [2,5,-1]])\r\n",
        "#se crea el vector de los terminos independientes\r\n",
        "b=np.array([[6,-4,27]])"
      ],
      "execution_count": 2,
      "outputs": []
    },
    {
      "cell_type": "code",
      "metadata": {
        "colab": {
          "base_uri": "https://localhost:8080/"
        },
        "id": "2Vma6bL2voK5",
        "outputId": "36d19b82-31cd-414f-bfbe-1210cf3cd38d"
      },
      "source": [
        "Ab=np.concatenate((A,b.T),axis=1) #se crea la matriz extendida concatenando el vector b como una columna (axis=1)\r\n",
        "n=np.size(A,axis=1) #regresa el numero de columnas de A, es decir, el numero de incognitas"
      ],
      "execution_count": 9,
      "outputs": [
        {
          "output_type": "execute_result",
          "data": {
            "text/plain": [
              "3"
            ]
          },
          "metadata": {
            "tags": []
          },
          "execution_count": 9
        }
      ]
    },
    {
      "cell_type": "markdown",
      "metadata": {
        "id": "744pa6CuxYvB"
      },
      "source": [
        "Validar si tiene solucion unica por el teorema de **Rouche-Frobenius**"
      ]
    },
    {
      "cell_type": "code",
      "metadata": {
        "colab": {
          "base_uri": "https://localhost:8080/"
        },
        "id": "44vbAfUAxX10",
        "outputId": "9009bb31-5589-4ad1-c079-98dad103f9df"
      },
      "source": [
        "solucion_unica = np.linalg.matrix_rank(A)==np.linalg.matrix_rank(Ab)==n\r\n",
        "solucion_unica"
      ],
      "execution_count": 10,
      "outputs": [
        {
          "output_type": "execute_result",
          "data": {
            "text/plain": [
              "True"
            ]
          },
          "metadata": {
            "tags": []
          },
          "execution_count": 10
        }
      ]
    },
    {
      "cell_type": "markdown",
      "metadata": {
        "id": "Ew88NEqKycrL"
      },
      "source": [
        "Resolver el sistema usando el metodo de **Gauss-Jordan**"
      ]
    },
    {
      "cell_type": "code",
      "metadata": {
        "id": "NymFHM90wBNz"
      },
      "source": [
        "import sympy as sy"
      ],
      "execution_count": 11,
      "outputs": []
    },
    {
      "cell_type": "code",
      "metadata": {
        "colab": {
          "base_uri": "https://localhost:8080/"
        },
        "id": "z-BmDVqOynle",
        "outputId": "0f3278f8-7201-449a-e1d1-3a50cfb8868a"
      },
      "source": [
        "reduccion,_=sy.Matrix(Ab).rref() #rref (row reduced echelon form), es decir, el metodo de Gauss-Jordan\r\n",
        "reduccion[:,n]"
      ],
      "execution_count": 13,
      "outputs": [
        {
          "output_type": "execute_result",
          "data": {
            "text/plain": [
              "Matrix([\n",
              "[ 5],\n",
              "[ 3],\n",
              "[-2]])"
            ]
          },
          "metadata": {
            "tags": []
          },
          "execution_count": 13
        }
      ]
    },
    {
      "cell_type": "markdown",
      "metadata": {
        "id": "WYossKoJzaJZ"
      },
      "source": [
        "por lo tanto el conjunto solucion es\r\n",
        "\r\n",
        "* $x=5$\r\n",
        "* $y=3$\r\n",
        "* $z=-2$"
      ]
    },
    {
      "cell_type": "markdown",
      "metadata": {
        "id": "Ck4IpeR6zwKm"
      },
      "source": [
        "Aplicando el metodo de **inversa-multiplicacion**"
      ]
    },
    {
      "cell_type": "code",
      "metadata": {
        "colab": {
          "base_uri": "https://localhost:8080/"
        },
        "id": "M9Z5wB4qzJf-",
        "outputId": "0c4113a1-ae2a-4fae-a4a0-4d586dc05dc1"
      },
      "source": [
        "#se obtiene la inversa de la matriz de coeficientes A\r\n",
        "Ainv=np.linalg.inv(A)\r\n",
        "Ainv"
      ],
      "execution_count": 14,
      "outputs": [
        {
          "output_type": "execute_result",
          "data": {
            "text/plain": [
              "array([[ 1.28571429, -0.28571429, -0.14285714],\n",
              "       [-0.47619048,  0.14285714,  0.23809524],\n",
              "       [ 0.19047619,  0.14285714, -0.0952381 ]])"
            ]
          },
          "metadata": {
            "tags": []
          },
          "execution_count": 14
        }
      ]
    },
    {
      "cell_type": "code",
      "metadata": {
        "colab": {
          "base_uri": "https://localhost:8080/"
        },
        "id": "l2hsJItu0IBX",
        "outputId": "074b6a9c-eb11-4da0-8138-928e05eba271"
      },
      "source": [
        "x=Ainv.dot(b.T) #se multiplica la inversa de A por el vector b\r\n",
        "x"
      ],
      "execution_count": 16,
      "outputs": [
        {
          "output_type": "execute_result",
          "data": {
            "text/plain": [
              "array([[ 5.],\n",
              "       [ 3.],\n",
              "       [-2.]])"
            ]
          },
          "metadata": {
            "tags": []
          },
          "execution_count": 16
        }
      ]
    },
    {
      "cell_type": "markdown",
      "metadata": {
        "id": "ARLIlHYM0tv4"
      },
      "source": [
        "Aplicando la regla de **Cramer**"
      ]
    },
    {
      "cell_type": "code",
      "metadata": {
        "colab": {
          "base_uri": "https://localhost:8080/"
        },
        "id": "VQ7gXW1Y0aTI",
        "outputId": "6ee33e03-1bb8-42fc-b6cc-eec2d1f0c957"
      },
      "source": [
        "DetA=np.linalg.det(A)\r\n",
        "x=np.empty(n)\r\n",
        "\r\n",
        "for i in range(n):\r\n",
        "  Ax=A.copy()\r\n",
        "  Ax[:,i]=b.copy()\r\n",
        "  DetAx=np.linalg.det(Ax)\r\n",
        "  x[i]=DetAx/DetA\r\n",
        "\r\n",
        "print(x)"
      ],
      "execution_count": 20,
      "outputs": [
        {
          "output_type": "stream",
          "text": [
            "[ 5.  3. -2.]\n"
          ],
          "name": "stdout"
        }
      ]
    },
    {
      "cell_type": "markdown",
      "metadata": {
        "id": "psqDN5Jx5EmP"
      },
      "source": [
        "Se aplica la funcion **solve** de numpy"
      ]
    },
    {
      "cell_type": "code",
      "metadata": {
        "colab": {
          "base_uri": "https://localhost:8080/"
        },
        "id": "ItYKJ8lZ1GpZ",
        "outputId": "70ab628f-f4a9-4efb-e1e7-469db3e5afd3"
      },
      "source": [
        "x=np.linalg.solve(A,b.T)\r\n",
        "x"
      ],
      "execution_count": 21,
      "outputs": [
        {
          "output_type": "execute_result",
          "data": {
            "text/plain": [
              "array([[ 5.],\n",
              "       [ 3.],\n",
              "       [-2.]])"
            ]
          },
          "metadata": {
            "tags": []
          },
          "execution_count": 21
        }
      ]
    },
    {
      "cell_type": "markdown",
      "metadata": {
        "id": "gXOXKsd-5pOj"
      },
      "source": [
        "#Sistemas homogeneos $Ax=0$"
      ]
    },
    {
      "cell_type": "markdown",
      "metadata": {
        "id": "ZsosAB9z5uJP"
      },
      "source": [
        "Balancear la siguiente ecuación química\r\n",
        "\r\n",
        "$$\r\n",
        "x_1Pb(N_3)_2 + x_2Cr(MnO_4)_2 \\rightarrow x_3Cr_2O_3 + x_4MnO_2 + x_5Pb_3O_4 + x_6NO\r\n",
        "$$\r\n",
        "\r\n",
        "Balance por elemento\r\n",
        "\r\n",
        "* $Pb: x_1 = 3x_5 \\Rightarrow x1–3x_5 = 0$\r\n",
        "* $N: 6x_1 = x_6 \\Rightarrow 6x_1 -x_6 = 0$\r\n",
        "* $Cr: x_2 = 2x_3 \\Rightarrow x_2–2x_3 = 0$\r\n",
        "* $Mn: 2x_2 = x_4 \\Rightarrow 2x_2–x_4 = 0$\r\n",
        "* $O: 8x_2 = 3x_3 +2x_4 +4x_5 +x_6 \\Rightarrow 8x_2 -3x_3 -2x_4 -4x_5 -x_6 = 0$\r\n",
        "\r\n",
        "El sistema de ecuaciones lineales es\r\n",
        "\r\n",
        "$$\r\n",
        "\\begin{pmatrix}\r\n",
        "1& 0& 0& 0& -3& 0\\\\\r\n",
        "6& 0& 0& 0& 0& -1\\\\\r\n",
        "0& 1& -2& 0& 0& 0\\\\\r\n",
        "0& 2& 0& -1& 0& 0\\\\\r\n",
        "0& 8& -3& -2& -4& -1\r\n",
        "\\end{pmatrix}\r\n",
        "$$"
      ]
    },
    {
      "cell_type": "code",
      "metadata": {
        "id": "tISmJkAF5SjW"
      },
      "source": [
        "import numpy as np\r\n",
        "A=np.array([[1 , 0, 0, 0,-3, 0 ],\r\n",
        "            [ 6 , 0, 0, 0, 0,-1 ],\r\n",
        "            [ 0 , 1,-2, 0, 0, 0 ],\r\n",
        "            [ 0 , 2, 0,-1, 0, 0 ],\r\n",
        "            [ 0 , 8,-3,-2,-4,-1 ]])\r\n",
        "\r\n",
        "b=np.array([[0 ,0 ,0 ,0 ,0]])"
      ],
      "execution_count": 2,
      "outputs": []
    },
    {
      "cell_type": "code",
      "metadata": {
        "id": "p2WZzTUW6_MU"
      },
      "source": [
        "Ab=np.concatenate((A,b.T),axis=1)\r\n",
        "n=np.size(A,axis=1)"
      ],
      "execution_count": 3,
      "outputs": []
    },
    {
      "cell_type": "code",
      "metadata": {
        "colab": {
          "base_uri": "https://localhost:8080/"
        },
        "id": "U5jYgn_a7ORm",
        "outputId": "d4ec9512-94e9-442f-8909-06469a39eb12"
      },
      "source": [
        "solucion_unica = np.linalg.matrix_rank(A)==np.linalg.matrix_rank(Ab)==n\r\n",
        "solucion_unica"
      ],
      "execution_count": 4,
      "outputs": [
        {
          "output_type": "execute_result",
          "data": {
            "text/plain": [
              "False"
            ]
          },
          "metadata": {
            "tags": []
          },
          "execution_count": 4
        }
      ]
    },
    {
      "cell_type": "code",
      "metadata": {
        "colab": {
          "base_uri": "https://localhost:8080/"
        },
        "id": "voAoZSaD7gWd",
        "outputId": "f18de7a4-5585-47cf-e5f7-f99970d44a94"
      },
      "source": [
        "solucion_multiple = np.linalg.matrix_rank(A)==np.linalg.matrix_rank(Ab)<n\r\n",
        "solucion_multiple"
      ],
      "execution_count": 5,
      "outputs": [
        {
          "output_type": "execute_result",
          "data": {
            "text/plain": [
              "True"
            ]
          },
          "metadata": {
            "tags": []
          },
          "execution_count": 5
        }
      ]
    },
    {
      "cell_type": "code",
      "metadata": {
        "colab": {
          "base_uri": "https://localhost:8080/"
        },
        "id": "DImStTN_7vJS",
        "outputId": "a1120588-08d8-4a0d-f945-af011259b073"
      },
      "source": [
        "import sympy as sy\r\n",
        "\r\n",
        "reduccion,_=sy.Matrix(Ab).rref()\r\n",
        "reduccion"
      ],
      "execution_count": 6,
      "outputs": [
        {
          "output_type": "execute_result",
          "data": {
            "text/plain": [
              "Matrix([\n",
              "[1, 0, 0, 0, 0,   -1/6, 0],\n",
              "[0, 1, 0, 0, 0, -22/45, 0],\n",
              "[0, 0, 1, 0, 0, -11/45, 0],\n",
              "[0, 0, 0, 1, 0, -44/45, 0],\n",
              "[0, 0, 0, 0, 1,  -1/18, 0]])"
            ]
          },
          "metadata": {
            "tags": []
          },
          "execution_count": 6
        }
      ]
    },
    {
      "cell_type": "markdown",
      "metadata": {
        "id": "9iAt0B3884J4"
      },
      "source": [
        "Por lo tanto el sistema tiene multiples soluciones y guarda las siguientes proporciones\r\n",
        "\r\n",
        "* $x_1=1/6x_6$\r\n",
        "* $x_2=22/45x_6$\r\n",
        "* $x_3=11/45x_6$\r\n",
        "* $x_4=44/45x_6$\r\n",
        "* $x_5=1/18x_6$\r\n",
        "\r\n",
        "el conjunto solucion queda expresado como\r\n",
        "\r\n",
        "$$\r\n",
        "(1/6x_6,22/45x_6,11/45x_6,44/45x_6,1/18x_6,x_6)\r\n",
        "$$\r\n",
        "\r\n",
        "para resolver el problema del balanceo de la reaccion quimica se debe buscar un valor de $x_6$ de tal manera que los valores del resto de las incognitas sea un entero.\r\n",
        "\r\n",
        "por ejemplo $x_6=90$\r\n",
        "\r\n"
      ]
    },
    {
      "cell_type": "code",
      "metadata": {
        "colab": {
          "base_uri": "https://localhost:8080/"
        },
        "id": "_7t9Xcts8B4H",
        "outputId": "ca802961-e4c6-45eb-dc61-fca56a21d25e"
      },
      "source": [
        "x6=90\r\n",
        "x1=-x6*reduccion[0,-2]\r\n",
        "x2=-x6*reduccion[1,-2]\r\n",
        "x3=-x6*reduccion[2,-2]\r\n",
        "x4=-x6*reduccion[3,-2]\r\n",
        "x5=-x6*reduccion[4,-2]\r\n",
        "\r\n",
        "print(x1,x2,x3,x4,x5,x6)"
      ],
      "execution_count": 13,
      "outputs": [
        {
          "output_type": "stream",
          "text": [
            "15 44 22 88 5 90\n"
          ],
          "name": "stdout"
        }
      ]
    },
    {
      "cell_type": "markdown",
      "metadata": {
        "id": "1zrDaTzo_KZr"
      },
      "source": [
        "Por lo tanto la reaccion balanceada es\r\n",
        "\r\n",
        "$$\r\n",
        "15Pb(N_3)_2 + 44Cr(MnO_4)_2 \\rightarrow 22Cr_2O_3 + 88MnO_2 + 5Pb_3O_4 + 90NO\r\n",
        "$$"
      ]
    },
    {
      "cell_type": "code",
      "metadata": {
        "id": "LvMmmm4i_xYP"
      },
      "source": [
        ""
      ],
      "execution_count": null,
      "outputs": []
    }
  ]
}