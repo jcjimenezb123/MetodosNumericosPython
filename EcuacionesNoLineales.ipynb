{
  "nbformat": 4,
  "nbformat_minor": 0,
  "metadata": {
    "colab": {
      "name": "EcuacionesNoLineales.ipynb",
      "provenance": [],
      "collapsed_sections": [],
      "authorship_tag": "ABX9TyMaYdyhp40LsRE2EiUEACSE",
      "include_colab_link": true
    },
    "kernelspec": {
      "name": "python3",
      "display_name": "Python 3"
    },
    "language_info": {
      "name": "python"
    }
  },
  "cells": [
    {
      "cell_type": "markdown",
      "metadata": {
        "id": "view-in-github",
        "colab_type": "text"
      },
      "source": [
        "<a href=\"https://colab.research.google.com/github/jcjimenezb123/MetodosNumericosPython/blob/master/EcuacionesNoLineales.ipynb\" target=\"_parent\"><img src=\"https://colab.research.google.com/assets/colab-badge.svg\" alt=\"Open In Colab\"/></a>"
      ]
    },
    {
      "cell_type": "markdown",
      "metadata": {
        "id": "vOL29YWD3w2Q"
      },
      "source": [
        "#Ecuaciones no lineales\n",
        "\n",
        "Desarrollo de métodos para resolver ecuaciones no lineales"
      ]
    },
    {
      "cell_type": "code",
      "metadata": {
        "id": "70dWO-Aq3ChB"
      },
      "source": [
        "import numpy as np\n",
        "import pandas as pd\n",
        "\n",
        "import plotly.express as px\n",
        "import plotly.graph_objs as go"
      ],
      "execution_count": 2,
      "outputs": []
    },
    {
      "cell_type": "markdown",
      "metadata": {
        "id": "PU7I3QAk4Zso"
      },
      "source": [
        "**Problema**: Encontrar la raíz cuadrada de 2\n",
        "\n",
        "$$\n",
        "\\sqrt{2}=x\\\\\n",
        "2=x^2\\\\\n",
        "f(x)=x^2-2=0\n",
        "$$"
      ]
    },
    {
      "cell_type": "code",
      "metadata": {
        "id": "BNWawRYf3pRg"
      },
      "source": [
        "f=lambda x:x**2-2"
      ],
      "execution_count": null,
      "outputs": []
    },
    {
      "cell_type": "code",
      "metadata": {
        "colab": {
          "base_uri": "https://localhost:8080/",
          "height": 542
        },
        "id": "Segu6ebE3rvJ",
        "outputId": "adcb0641-ee3e-42ca-aed3-fcdf25bee0fa"
      },
      "source": [
        "x=np.linspace(-2,2)\n",
        "\n",
        "traza1=go.Scatter(x=x,y=f(x),mode='lines',name='$x^2-2$',\n",
        "                  line=dict(color='salmon'))\n",
        "\n",
        "data=[traza1]\n",
        "\n",
        "layout=go.Layout(title='$x^2-2$',\n",
        "                 xaxis=dict(title='x'),\n",
        "                 yaxis=dict(title='y'))\n",
        "\n",
        "fig=go.Figure(data=data,layout=layout)\n",
        "fig.show()"
      ],
      "execution_count": null,
      "outputs": [
        {
          "output_type": "display_data",
          "data": {
            "text/html": [
              "<html>\n",
              "<head><meta charset=\"utf-8\" /></head>\n",
              "<body>\n",
              "    <div>\n",
              "            <script src=\"https://cdnjs.cloudflare.com/ajax/libs/mathjax/2.7.5/MathJax.js?config=TeX-AMS-MML_SVG\"></script><script type=\"text/javascript\">if (window.MathJax) {MathJax.Hub.Config({SVG: {font: \"STIX-Web\"}});}</script>\n",
              "                <script type=\"text/javascript\">window.PlotlyConfig = {MathJaxConfig: 'local'};</script>\n",
              "        <script src=\"https://cdn.plot.ly/plotly-latest.min.js\"></script>    \n",
              "            <div id=\"f06b335b-da00-4dd1-b683-8be117dcd6f7\" class=\"plotly-graph-div\" style=\"height:525px; width:100%;\"></div>\n",
              "            <script type=\"text/javascript\">\n",
              "                \n",
              "                    window.PLOTLYENV=window.PLOTLYENV || {};\n",
              "                    \n",
              "                if (document.getElementById(\"f06b335b-da00-4dd1-b683-8be117dcd6f7\")) {\n",
              "                    Plotly.newPlot(\n",
              "                        'f06b335b-da00-4dd1-b683-8be117dcd6f7',\n",
              "                        [{\"line\": {\"color\": \"salmon\"}, \"mode\": \"lines\", \"name\": \"$x^2-2$\", \"type\": \"scatter\", \"x\": [-2.0, -1.9183673469387754, -1.836734693877551, -1.7551020408163265, -1.6734693877551021, -1.5918367346938775, -1.510204081632653, -1.4285714285714286, -1.3469387755102042, -1.2653061224489797, -1.183673469387755, -1.1020408163265307, -1.0204081632653061, -0.9387755102040818, -0.8571428571428572, -0.7755102040816328, -0.6938775510204083, -0.6122448979591837, -0.5306122448979593, -0.44897959183673475, -0.3673469387755104, -0.2857142857142858, -0.20408163265306145, -0.12244897959183687, -0.04081632653061229, 0.04081632653061229, 0.12244897959183643, 0.204081632653061, 0.2857142857142856, 0.36734693877551017, 0.4489795918367343, 0.5306122448979589, 0.6122448979591835, 0.693877551020408, 0.7755102040816326, 0.8571428571428568, 0.9387755102040813, 1.020408163265306, 1.1020408163265305, 1.1836734693877546, 1.2653061224489792, 1.3469387755102038, 1.4285714285714284, 1.510204081632653, 1.591836734693877, 1.6734693877551017, 1.7551020408163263, 1.8367346938775508, 1.9183673469387754, 2.0], \"y\": [2.0, 1.6801332778009161, 1.3735943356934612, 1.080383173677634, 0.8004997917534364, 0.5339441899208661, 0.28071636817992474, 0.04081632653061229, -0.18575593502707166, -0.3990004164931278, -0.5989171178675552, -0.7855060391503537, -0.9587671803415243, -1.1187005414410658, -1.2653061224489794, -1.3985839233652642, -1.5185339441899206, -1.6251561849229488, -1.718450645564348, -1.798417326114119, -1.8650562265722614, -1.9183673469387754, -1.958350687213661, -1.9850062473969179, -1.9983340274885464, -1.9983340274885464, -1.985006247396918, -1.9583506872136611, -1.9183673469387756, -1.8650562265722617, -1.7984173261141194, -1.7184506455643485, -1.625156184922949, -1.518533944189921, -1.3985839233652646, -1.26530612244898, -1.1187005414410667, -0.9587671803415247, -0.7855060391503543, -0.5989171178675563, -0.3990004164931289, -0.18575593502707277, 0.040816326530611846, 0.28071636817992474, 0.5339441899208648, 0.8004997917534347, 1.0803831736776335, 1.3735943356934603, 1.6801332778009161, 2.0]}],\n",
              "                        {\"template\": {\"data\": {\"bar\": [{\"error_x\": {\"color\": \"#2a3f5f\"}, \"error_y\": {\"color\": \"#2a3f5f\"}, \"marker\": {\"line\": {\"color\": \"#E5ECF6\", \"width\": 0.5}}, \"type\": \"bar\"}], \"barpolar\": [{\"marker\": {\"line\": {\"color\": \"#E5ECF6\", \"width\": 0.5}}, \"type\": \"barpolar\"}], \"carpet\": [{\"aaxis\": {\"endlinecolor\": \"#2a3f5f\", \"gridcolor\": \"white\", \"linecolor\": \"white\", \"minorgridcolor\": \"white\", \"startlinecolor\": \"#2a3f5f\"}, \"baxis\": {\"endlinecolor\": \"#2a3f5f\", \"gridcolor\": \"white\", \"linecolor\": \"white\", \"minorgridcolor\": \"white\", \"startlinecolor\": \"#2a3f5f\"}, \"type\": \"carpet\"}], \"choropleth\": [{\"colorbar\": {\"outlinewidth\": 0, \"ticks\": \"\"}, \"type\": \"choropleth\"}], \"contour\": [{\"colorbar\": {\"outlinewidth\": 0, \"ticks\": \"\"}, \"colorscale\": [[0.0, \"#0d0887\"], [0.1111111111111111, \"#46039f\"], [0.2222222222222222, \"#7201a8\"], [0.3333333333333333, \"#9c179e\"], [0.4444444444444444, \"#bd3786\"], [0.5555555555555556, \"#d8576b\"], [0.6666666666666666, \"#ed7953\"], [0.7777777777777778, \"#fb9f3a\"], [0.8888888888888888, \"#fdca26\"], [1.0, \"#f0f921\"]], \"type\": \"contour\"}], \"contourcarpet\": [{\"colorbar\": {\"outlinewidth\": 0, \"ticks\": \"\"}, \"type\": \"contourcarpet\"}], \"heatmap\": [{\"colorbar\": {\"outlinewidth\": 0, \"ticks\": \"\"}, \"colorscale\": [[0.0, \"#0d0887\"], [0.1111111111111111, \"#46039f\"], [0.2222222222222222, \"#7201a8\"], [0.3333333333333333, \"#9c179e\"], [0.4444444444444444, \"#bd3786\"], [0.5555555555555556, \"#d8576b\"], [0.6666666666666666, \"#ed7953\"], [0.7777777777777778, \"#fb9f3a\"], [0.8888888888888888, \"#fdca26\"], [1.0, \"#f0f921\"]], \"type\": \"heatmap\"}], \"heatmapgl\": [{\"colorbar\": {\"outlinewidth\": 0, \"ticks\": \"\"}, \"colorscale\": [[0.0, \"#0d0887\"], [0.1111111111111111, \"#46039f\"], [0.2222222222222222, \"#7201a8\"], [0.3333333333333333, \"#9c179e\"], [0.4444444444444444, \"#bd3786\"], [0.5555555555555556, \"#d8576b\"], [0.6666666666666666, \"#ed7953\"], [0.7777777777777778, \"#fb9f3a\"], [0.8888888888888888, \"#fdca26\"], [1.0, \"#f0f921\"]], \"type\": \"heatmapgl\"}], \"histogram\": [{\"marker\": {\"colorbar\": {\"outlinewidth\": 0, \"ticks\": \"\"}}, \"type\": \"histogram\"}], \"histogram2d\": [{\"colorbar\": {\"outlinewidth\": 0, \"ticks\": \"\"}, \"colorscale\": [[0.0, \"#0d0887\"], [0.1111111111111111, \"#46039f\"], [0.2222222222222222, \"#7201a8\"], [0.3333333333333333, \"#9c179e\"], [0.4444444444444444, \"#bd3786\"], [0.5555555555555556, \"#d8576b\"], [0.6666666666666666, \"#ed7953\"], [0.7777777777777778, \"#fb9f3a\"], [0.8888888888888888, \"#fdca26\"], [1.0, \"#f0f921\"]], \"type\": \"histogram2d\"}], \"histogram2dcontour\": [{\"colorbar\": {\"outlinewidth\": 0, \"ticks\": \"\"}, \"colorscale\": [[0.0, \"#0d0887\"], [0.1111111111111111, \"#46039f\"], [0.2222222222222222, \"#7201a8\"], [0.3333333333333333, \"#9c179e\"], [0.4444444444444444, \"#bd3786\"], [0.5555555555555556, \"#d8576b\"], [0.6666666666666666, \"#ed7953\"], [0.7777777777777778, \"#fb9f3a\"], [0.8888888888888888, \"#fdca26\"], [1.0, \"#f0f921\"]], \"type\": \"histogram2dcontour\"}], \"mesh3d\": [{\"colorbar\": {\"outlinewidth\": 0, \"ticks\": \"\"}, \"type\": \"mesh3d\"}], \"parcoords\": [{\"line\": {\"colorbar\": {\"outlinewidth\": 0, \"ticks\": \"\"}}, \"type\": \"parcoords\"}], \"pie\": [{\"automargin\": true, \"type\": \"pie\"}], \"scatter\": [{\"marker\": {\"colorbar\": {\"outlinewidth\": 0, \"ticks\": \"\"}}, \"type\": \"scatter\"}], \"scatter3d\": [{\"line\": {\"colorbar\": {\"outlinewidth\": 0, \"ticks\": \"\"}}, \"marker\": {\"colorbar\": {\"outlinewidth\": 0, \"ticks\": \"\"}}, \"type\": \"scatter3d\"}], \"scattercarpet\": [{\"marker\": {\"colorbar\": {\"outlinewidth\": 0, \"ticks\": \"\"}}, \"type\": \"scattercarpet\"}], \"scattergeo\": [{\"marker\": {\"colorbar\": {\"outlinewidth\": 0, \"ticks\": \"\"}}, \"type\": \"scattergeo\"}], \"scattergl\": [{\"marker\": {\"colorbar\": {\"outlinewidth\": 0, \"ticks\": \"\"}}, \"type\": \"scattergl\"}], \"scattermapbox\": [{\"marker\": {\"colorbar\": {\"outlinewidth\": 0, \"ticks\": \"\"}}, \"type\": \"scattermapbox\"}], \"scatterpolar\": [{\"marker\": {\"colorbar\": {\"outlinewidth\": 0, \"ticks\": \"\"}}, \"type\": \"scatterpolar\"}], \"scatterpolargl\": [{\"marker\": {\"colorbar\": {\"outlinewidth\": 0, \"ticks\": \"\"}}, \"type\": \"scatterpolargl\"}], \"scatterternary\": [{\"marker\": {\"colorbar\": {\"outlinewidth\": 0, \"ticks\": \"\"}}, \"type\": \"scatterternary\"}], \"surface\": [{\"colorbar\": {\"outlinewidth\": 0, \"ticks\": \"\"}, \"colorscale\": [[0.0, \"#0d0887\"], [0.1111111111111111, \"#46039f\"], [0.2222222222222222, \"#7201a8\"], [0.3333333333333333, \"#9c179e\"], [0.4444444444444444, \"#bd3786\"], [0.5555555555555556, \"#d8576b\"], [0.6666666666666666, \"#ed7953\"], [0.7777777777777778, \"#fb9f3a\"], [0.8888888888888888, \"#fdca26\"], [1.0, \"#f0f921\"]], \"type\": \"surface\"}], \"table\": [{\"cells\": {\"fill\": {\"color\": \"#EBF0F8\"}, \"line\": {\"color\": \"white\"}}, \"header\": {\"fill\": {\"color\": \"#C8D4E3\"}, \"line\": {\"color\": \"white\"}}, \"type\": \"table\"}]}, \"layout\": {\"annotationdefaults\": {\"arrowcolor\": \"#2a3f5f\", \"arrowhead\": 0, \"arrowwidth\": 1}, \"coloraxis\": {\"colorbar\": {\"outlinewidth\": 0, \"ticks\": \"\"}}, \"colorscale\": {\"diverging\": [[0, \"#8e0152\"], [0.1, \"#c51b7d\"], [0.2, \"#de77ae\"], [0.3, \"#f1b6da\"], [0.4, \"#fde0ef\"], [0.5, \"#f7f7f7\"], [0.6, \"#e6f5d0\"], [0.7, \"#b8e186\"], [0.8, \"#7fbc41\"], [0.9, \"#4d9221\"], [1, \"#276419\"]], \"sequential\": [[0.0, \"#0d0887\"], [0.1111111111111111, \"#46039f\"], [0.2222222222222222, \"#7201a8\"], [0.3333333333333333, \"#9c179e\"], [0.4444444444444444, \"#bd3786\"], [0.5555555555555556, \"#d8576b\"], [0.6666666666666666, \"#ed7953\"], [0.7777777777777778, \"#fb9f3a\"], [0.8888888888888888, \"#fdca26\"], [1.0, \"#f0f921\"]], \"sequentialminus\": [[0.0, \"#0d0887\"], [0.1111111111111111, \"#46039f\"], [0.2222222222222222, \"#7201a8\"], [0.3333333333333333, \"#9c179e\"], [0.4444444444444444, \"#bd3786\"], [0.5555555555555556, \"#d8576b\"], [0.6666666666666666, \"#ed7953\"], [0.7777777777777778, \"#fb9f3a\"], [0.8888888888888888, \"#fdca26\"], [1.0, \"#f0f921\"]]}, \"colorway\": [\"#636efa\", \"#EF553B\", \"#00cc96\", \"#ab63fa\", \"#FFA15A\", \"#19d3f3\", \"#FF6692\", \"#B6E880\", \"#FF97FF\", \"#FECB52\"], \"font\": {\"color\": \"#2a3f5f\"}, \"geo\": {\"bgcolor\": \"white\", \"lakecolor\": \"white\", \"landcolor\": \"#E5ECF6\", \"showlakes\": true, \"showland\": true, \"subunitcolor\": \"white\"}, \"hoverlabel\": {\"align\": \"left\"}, \"hovermode\": \"closest\", \"mapbox\": {\"style\": \"light\"}, \"paper_bgcolor\": \"white\", \"plot_bgcolor\": \"#E5ECF6\", \"polar\": {\"angularaxis\": {\"gridcolor\": \"white\", \"linecolor\": \"white\", \"ticks\": \"\"}, \"bgcolor\": \"#E5ECF6\", \"radialaxis\": {\"gridcolor\": \"white\", \"linecolor\": \"white\", \"ticks\": \"\"}}, \"scene\": {\"xaxis\": {\"backgroundcolor\": \"#E5ECF6\", \"gridcolor\": \"white\", \"gridwidth\": 2, \"linecolor\": \"white\", \"showbackground\": true, \"ticks\": \"\", \"zerolinecolor\": \"white\"}, \"yaxis\": {\"backgroundcolor\": \"#E5ECF6\", \"gridcolor\": \"white\", \"gridwidth\": 2, \"linecolor\": \"white\", \"showbackground\": true, \"ticks\": \"\", \"zerolinecolor\": \"white\"}, \"zaxis\": {\"backgroundcolor\": \"#E5ECF6\", \"gridcolor\": \"white\", \"gridwidth\": 2, \"linecolor\": \"white\", \"showbackground\": true, \"ticks\": \"\", \"zerolinecolor\": \"white\"}}, \"shapedefaults\": {\"line\": {\"color\": \"#2a3f5f\"}}, \"ternary\": {\"aaxis\": {\"gridcolor\": \"white\", \"linecolor\": \"white\", \"ticks\": \"\"}, \"baxis\": {\"gridcolor\": \"white\", \"linecolor\": \"white\", \"ticks\": \"\"}, \"bgcolor\": \"#E5ECF6\", \"caxis\": {\"gridcolor\": \"white\", \"linecolor\": \"white\", \"ticks\": \"\"}}, \"title\": {\"x\": 0.05}, \"xaxis\": {\"automargin\": true, \"gridcolor\": \"white\", \"linecolor\": \"white\", \"ticks\": \"\", \"title\": {\"standoff\": 15}, \"zerolinecolor\": \"white\", \"zerolinewidth\": 2}, \"yaxis\": {\"automargin\": true, \"gridcolor\": \"white\", \"linecolor\": \"white\", \"ticks\": \"\", \"title\": {\"standoff\": 15}, \"zerolinecolor\": \"white\", \"zerolinewidth\": 2}}}, \"title\": {\"text\": \"$x^2-2$\"}, \"xaxis\": {\"title\": {\"text\": \"x\"}}, \"yaxis\": {\"title\": {\"text\": \"y\"}}},\n",
              "                        {\"responsive\": true}\n",
              "                    ).then(function(){\n",
              "                            \n",
              "var gd = document.getElementById('f06b335b-da00-4dd1-b683-8be117dcd6f7');\n",
              "var x = new MutationObserver(function (mutations, observer) {{\n",
              "        var display = window.getComputedStyle(gd).display;\n",
              "        if (!display || display === 'none') {{\n",
              "            console.log([gd, 'removed!']);\n",
              "            Plotly.purge(gd);\n",
              "            observer.disconnect();\n",
              "        }}\n",
              "}});\n",
              "\n",
              "// Listen for the removal of the full notebook cells\n",
              "var notebookContainer = gd.closest('#notebook-container');\n",
              "if (notebookContainer) {{\n",
              "    x.observe(notebookContainer, {childList: true});\n",
              "}}\n",
              "\n",
              "// Listen for the clearing of the current output cell\n",
              "var outputEl = gd.closest('.output');\n",
              "if (outputEl) {{\n",
              "    x.observe(outputEl, {childList: true});\n",
              "}}\n",
              "\n",
              "                        })\n",
              "                };\n",
              "                \n",
              "            </script>\n",
              "        </div>\n",
              "</body>\n",
              "</html>"
            ]
          },
          "metadata": {}
        }
      ]
    },
    {
      "cell_type": "markdown",
      "metadata": {
        "id": "9FawkpFv4lqh"
      },
      "source": [
        "##Método de Bisección"
      ]
    },
    {
      "cell_type": "code",
      "metadata": {
        "colab": {
          "base_uri": "https://localhost:8080/"
        },
        "id": "0WuxbAlT3Jn0",
        "outputId": "fa156f77-a72a-4a34-9c98-38907e05f20a"
      },
      "source": [
        "from scipy.optimize import bisect\n",
        "\n",
        "r=bisect(f,1,2,rtol=1e-5)\n",
        "print(r)"
      ],
      "execution_count": null,
      "outputs": [
        {
          "output_type": "stream",
          "name": "stdout",
          "text": [
            "1.4142074584960938\n"
          ]
        }
      ]
    },
    {
      "cell_type": "markdown",
      "metadata": {
        "id": "T1aX9X2P6FUq"
      },
      "source": [
        "##Método de la Regla Falsa"
      ]
    },
    {
      "cell_type": "code",
      "metadata": {
        "id": "Nbfe8Q-35ojl"
      },
      "source": [
        "#Definición de la función para el método de la Regla Falsa\n",
        "def reglafalsa(f,x0,x1,tol=1e-5):\n",
        "  '''\n",
        "  El metodo de la *Regla Falsa* es un método cerrado para resolver ecuaciones no lineales\n",
        "  los argumentos son:\n",
        "  Entrada\n",
        "  -------\n",
        "       f : Ecuación a resolver expresada en la forma f(x)=0\n",
        "  x0, x1 : Puntos que encierran la raiz f(x0)*f(x1)<0\n",
        "     tol : Tolerancia (valor por defecto 1e-5)\n",
        "  Salida\n",
        "  ------\n",
        "      x : Raíz de la ecuación\n",
        "  tabla : Tabla de iteraciones\n",
        "  '''\n",
        "  #validación del rango que encierra la raíz\n",
        "  if f(x0)*f(x1)>0:\n",
        "    raise Exception('')  # <------- Escriba el mensaje de error\n",
        "  x=x0 #valor inicial\n",
        "  #encabezado de la tabla de iteracioens\n",
        "  tabla=pd.DataFrame(columns=['x0','x','x1','f(x0)','f(x)','f(x1)'])\n",
        "  #valida el criterio de convergencia\n",
        "  while np.abs(f(x))>tol:\n",
        "    x= # <----- Escriba el calculo de x, método de Regla Falsa\n",
        "    #inserta la iteración a la tabla\n",
        "    tabla=tabla.append({'x0':x0,'x':x,'x1':x1,\n",
        "                        'f(x0)':f(x0),'f(x)':f(x),'f(x1)':f(x1)},\n",
        "                       ignore_index=True)\n",
        "    #valida si la raíz se encuentra en el intervalo [x0,x]\n",
        "    if f(x0)*f(x)<0:\n",
        "      x1=  # <------ Esciba el valor de x\n",
        "    #valida si la raíz se encuentra en el intervalo [x,x1]\n",
        "    else:\n",
        "      x0=  # <------- Escriba el valor de x\n",
        "  #retorna la raíz y la tabla de iteraciones\n",
        "  return x,tabla"
      ],
      "execution_count": null,
      "outputs": []
    },
    {
      "cell_type": "code",
      "metadata": {
        "colab": {
          "base_uri": "https://localhost:8080/"
        },
        "id": "EZdyOb4z5TjC",
        "outputId": "dc266849-f81d-4f1d-cb4d-3aad1bcdf46f"
      },
      "source": [
        "help(reglafalsa)"
      ],
      "execution_count": null,
      "outputs": [
        {
          "output_type": "stream",
          "name": "stdout",
          "text": [
            "Help on function reglafalsa in module __main__:\n",
            "\n",
            "reglafalsa(f, x0, x1, tol=1e-05)\n",
            "    El metodo de la *Regla Falsa* es un método cerrado para resolver ecuaciones no lineales\n",
            "    los argumentos son:\n",
            "    Entrada\n",
            "    -------\n",
            "         f : Ecuación a resolver expresada en la forma f(x)=0\n",
            "    x0, x1 : Puntos que encierran la raiz f(x0)*f(x1)<0\n",
            "       tol : Tolerancia (valor por defecto 1e-5)\n",
            "    Salida\n",
            "    ------\n",
            "        x : Raíz de la ecuación\n",
            "    tabla : Tabla de iteraciones\n",
            "\n"
          ]
        }
      ]
    },
    {
      "cell_type": "markdown",
      "metadata": {
        "id": "HwJxCUyw6tAI"
      },
      "source": [
        "**Problema**: Calcular la altura del agua en un tanque esférico que contenga $1000 l$ si el radio del tanque es $R=10$\n",
        "\n",
        "$$\n",
        "V=\\pi h^2\\left( \\frac{3R-h}{3}\\right)\\\\\n",
        "1000=\\pi h^2\\left( \\frac{30-h}{3}\\right)\\\\\n",
        "f(h)=\\pi h^2\\left( \\frac{30-h}{3}\\right)-1000=0\n",
        "$$"
      ]
    },
    {
      "cell_type": "code",
      "metadata": {
        "id": "XxQjZgwa8KGF"
      },
      "source": [
        "#definir la función a resolver\n",
        "f=lambda h:    # <------ Escriba la ecuacion a resolver"
      ],
      "execution_count": null,
      "outputs": []
    },
    {
      "cell_type": "code",
      "metadata": {
        "id": "El-V5iad8Oel",
        "colab": {
          "base_uri": "https://localhost:8080/",
          "height": 542
        },
        "outputId": "f33be627-566a-453c-f51b-77efc06314c1"
      },
      "source": [
        "#Graficar la función para identificar el comportamiento y ubicar los puntos iniciales\n",
        "x=np.linspace(0,20)\n",
        "\n",
        "traza1=go.Scatter(x=,y=,# <------ Escriba los parametros para x y\n",
        "                  mode='lines+markers',name='$x^2-2$',\n",
        "                  line=dict(color='salmon'))\n",
        "\n",
        "data=[traza1]\n",
        "\n",
        "layout=go.Layout(title='Llenado de tanque',\n",
        "                 xaxis=dict(title='h'),\n",
        "                 yaxis=dict(title='y'))\n",
        "\n",
        "fig=go.Figure(data=data,layout=layout)\n",
        "fig.show()"
      ],
      "execution_count": null,
      "outputs": [
        {
          "output_type": "display_data",
          "data": {
            "text/html": [
              "<html>\n",
              "<head><meta charset=\"utf-8\" /></head>\n",
              "<body>\n",
              "    <div>\n",
              "            <script src=\"https://cdnjs.cloudflare.com/ajax/libs/mathjax/2.7.5/MathJax.js?config=TeX-AMS-MML_SVG\"></script><script type=\"text/javascript\">if (window.MathJax) {MathJax.Hub.Config({SVG: {font: \"STIX-Web\"}});}</script>\n",
              "                <script type=\"text/javascript\">window.PlotlyConfig = {MathJaxConfig: 'local'};</script>\n",
              "        <script src=\"https://cdn.plot.ly/plotly-latest.min.js\"></script>    \n",
              "            <div id=\"659c74df-c9d6-4bde-b629-c046e784efe8\" class=\"plotly-graph-div\" style=\"height:525px; width:100%;\"></div>\n",
              "            <script type=\"text/javascript\">\n",
              "                \n",
              "                    window.PLOTLYENV=window.PLOTLYENV || {};\n",
              "                    \n",
              "                if (document.getElementById(\"659c74df-c9d6-4bde-b629-c046e784efe8\")) {\n",
              "                    Plotly.newPlot(\n",
              "                        '659c74df-c9d6-4bde-b629-c046e784efe8',\n",
              "                        [{\"line\": {\"color\": \"salmon\"}, \"mode\": \"lines+markers\", \"name\": \"$x^2-2$\", \"type\": \"scatter\", \"x\": [0.0, 0.40816326530612246, 0.8163265306122449, 1.2244897959183674, 1.6326530612244898, 2.0408163265306123, 2.4489795918367347, 2.857142857142857, 3.2653061224489797, 3.673469387755102, 4.081632653061225, 4.4897959183673475, 4.8979591836734695, 5.3061224489795915, 5.714285714285714, 6.122448979591837, 6.530612244897959, 6.938775510204081, 7.346938775510204, 7.755102040816327, 8.16326530612245, 8.571428571428571, 8.979591836734695, 9.387755102040817, 9.795918367346939, 10.204081632653061, 10.612244897959183, 11.020408163265307, 11.428571428571429, 11.83673469387755, 12.244897959183675, 12.653061224489797, 13.061224489795919, 13.46938775510204, 13.877551020408163, 14.285714285714286, 14.693877551020408, 15.10204081632653, 15.510204081632654, 15.918367346938776, 16.3265306122449, 16.73469387755102, 17.142857142857142, 17.551020408163264, 17.95918367346939, 18.367346938775512, 18.775510204081634, 19.183673469387756, 19.591836734693878, 20.0], \"y\": [-1000.0, -994.83740125548, -979.6344380561006, -954.8183599531324, -920.8164164978458, -878.0558572415117, -826.9639317354006, -767.967889530783, -701.4949801789296, -627.9724532311111, -547.8275582385982, -461.48754475266117, -369.3796623245711, -271.9311605055981, -169.5692888470129, -62.72129690008626, 48.185565783911215, 162.72404965370856, 280.46690515803584, 400.9868827456223, 523.8567328651968, 648.649205965489, 774.9370524952292, 902.2930229031454, 1030.2898676379666, 1158.500337148424, 1286.497181883246, 1413.8531522911621, 1540.1409988209016, 1664.9334719211934, 1787.8033220407688, 1908.3232996283555, 2026.0661551326825, 2140.60463900248, 2251.511501686477, 2358.3594936334034, 2460.7213652919886, 2558.169867110962, 2650.277749539053, 2736.617763024989, 2816.762658017502, 2890.2851849653202, 2956.758094317174, 3015.754136521791, 3066.8460620279025, 3109.606621284237, 3143.608564739524, 3168.4246428424913, 3183.6276060418704, 3188.790204786391]}],\n",
              "                        {\"template\": {\"data\": {\"bar\": [{\"error_x\": {\"color\": \"#2a3f5f\"}, \"error_y\": {\"color\": \"#2a3f5f\"}, \"marker\": {\"line\": {\"color\": \"#E5ECF6\", \"width\": 0.5}}, \"type\": \"bar\"}], \"barpolar\": [{\"marker\": {\"line\": {\"color\": \"#E5ECF6\", \"width\": 0.5}}, \"type\": \"barpolar\"}], \"carpet\": [{\"aaxis\": {\"endlinecolor\": \"#2a3f5f\", \"gridcolor\": \"white\", \"linecolor\": \"white\", \"minorgridcolor\": \"white\", \"startlinecolor\": \"#2a3f5f\"}, \"baxis\": {\"endlinecolor\": \"#2a3f5f\", \"gridcolor\": \"white\", \"linecolor\": \"white\", \"minorgridcolor\": \"white\", \"startlinecolor\": \"#2a3f5f\"}, \"type\": \"carpet\"}], \"choropleth\": [{\"colorbar\": {\"outlinewidth\": 0, \"ticks\": \"\"}, \"type\": \"choropleth\"}], \"contour\": [{\"colorbar\": {\"outlinewidth\": 0, \"ticks\": \"\"}, \"colorscale\": [[0.0, \"#0d0887\"], [0.1111111111111111, \"#46039f\"], [0.2222222222222222, \"#7201a8\"], [0.3333333333333333, \"#9c179e\"], [0.4444444444444444, \"#bd3786\"], [0.5555555555555556, \"#d8576b\"], [0.6666666666666666, \"#ed7953\"], [0.7777777777777778, \"#fb9f3a\"], [0.8888888888888888, \"#fdca26\"], [1.0, \"#f0f921\"]], \"type\": \"contour\"}], \"contourcarpet\": [{\"colorbar\": {\"outlinewidth\": 0, \"ticks\": \"\"}, \"type\": \"contourcarpet\"}], \"heatmap\": [{\"colorbar\": {\"outlinewidth\": 0, \"ticks\": \"\"}, \"colorscale\": [[0.0, \"#0d0887\"], [0.1111111111111111, \"#46039f\"], [0.2222222222222222, \"#7201a8\"], [0.3333333333333333, \"#9c179e\"], [0.4444444444444444, \"#bd3786\"], [0.5555555555555556, \"#d8576b\"], [0.6666666666666666, \"#ed7953\"], [0.7777777777777778, \"#fb9f3a\"], [0.8888888888888888, \"#fdca26\"], [1.0, \"#f0f921\"]], \"type\": \"heatmap\"}], \"heatmapgl\": [{\"colorbar\": {\"outlinewidth\": 0, \"ticks\": \"\"}, \"colorscale\": [[0.0, \"#0d0887\"], [0.1111111111111111, \"#46039f\"], [0.2222222222222222, \"#7201a8\"], [0.3333333333333333, \"#9c179e\"], [0.4444444444444444, \"#bd3786\"], [0.5555555555555556, \"#d8576b\"], [0.6666666666666666, \"#ed7953\"], [0.7777777777777778, \"#fb9f3a\"], [0.8888888888888888, \"#fdca26\"], [1.0, \"#f0f921\"]], \"type\": \"heatmapgl\"}], \"histogram\": [{\"marker\": {\"colorbar\": {\"outlinewidth\": 0, \"ticks\": \"\"}}, \"type\": \"histogram\"}], \"histogram2d\": [{\"colorbar\": {\"outlinewidth\": 0, \"ticks\": \"\"}, \"colorscale\": [[0.0, \"#0d0887\"], [0.1111111111111111, \"#46039f\"], [0.2222222222222222, \"#7201a8\"], [0.3333333333333333, \"#9c179e\"], [0.4444444444444444, \"#bd3786\"], [0.5555555555555556, \"#d8576b\"], [0.6666666666666666, \"#ed7953\"], [0.7777777777777778, \"#fb9f3a\"], [0.8888888888888888, \"#fdca26\"], [1.0, \"#f0f921\"]], \"type\": \"histogram2d\"}], \"histogram2dcontour\": [{\"colorbar\": {\"outlinewidth\": 0, \"ticks\": \"\"}, \"colorscale\": [[0.0, \"#0d0887\"], [0.1111111111111111, \"#46039f\"], [0.2222222222222222, \"#7201a8\"], [0.3333333333333333, \"#9c179e\"], [0.4444444444444444, \"#bd3786\"], [0.5555555555555556, \"#d8576b\"], [0.6666666666666666, \"#ed7953\"], [0.7777777777777778, \"#fb9f3a\"], [0.8888888888888888, \"#fdca26\"], [1.0, \"#f0f921\"]], \"type\": \"histogram2dcontour\"}], \"mesh3d\": [{\"colorbar\": {\"outlinewidth\": 0, \"ticks\": \"\"}, \"type\": \"mesh3d\"}], \"parcoords\": [{\"line\": {\"colorbar\": {\"outlinewidth\": 0, \"ticks\": \"\"}}, \"type\": \"parcoords\"}], \"pie\": [{\"automargin\": true, \"type\": \"pie\"}], \"scatter\": [{\"marker\": {\"colorbar\": {\"outlinewidth\": 0, \"ticks\": \"\"}}, \"type\": \"scatter\"}], \"scatter3d\": [{\"line\": {\"colorbar\": {\"outlinewidth\": 0, \"ticks\": \"\"}}, \"marker\": {\"colorbar\": {\"outlinewidth\": 0, \"ticks\": \"\"}}, \"type\": \"scatter3d\"}], \"scattercarpet\": [{\"marker\": {\"colorbar\": {\"outlinewidth\": 0, \"ticks\": \"\"}}, \"type\": \"scattercarpet\"}], \"scattergeo\": [{\"marker\": {\"colorbar\": {\"outlinewidth\": 0, \"ticks\": \"\"}}, \"type\": \"scattergeo\"}], \"scattergl\": [{\"marker\": {\"colorbar\": {\"outlinewidth\": 0, \"ticks\": \"\"}}, \"type\": \"scattergl\"}], \"scattermapbox\": [{\"marker\": {\"colorbar\": {\"outlinewidth\": 0, \"ticks\": \"\"}}, \"type\": \"scattermapbox\"}], \"scatterpolar\": [{\"marker\": {\"colorbar\": {\"outlinewidth\": 0, \"ticks\": \"\"}}, \"type\": \"scatterpolar\"}], \"scatterpolargl\": [{\"marker\": {\"colorbar\": {\"outlinewidth\": 0, \"ticks\": \"\"}}, \"type\": \"scatterpolargl\"}], \"scatterternary\": [{\"marker\": {\"colorbar\": {\"outlinewidth\": 0, \"ticks\": \"\"}}, \"type\": \"scatterternary\"}], \"surface\": [{\"colorbar\": {\"outlinewidth\": 0, \"ticks\": \"\"}, \"colorscale\": [[0.0, \"#0d0887\"], [0.1111111111111111, \"#46039f\"], [0.2222222222222222, \"#7201a8\"], [0.3333333333333333, \"#9c179e\"], [0.4444444444444444, \"#bd3786\"], [0.5555555555555556, \"#d8576b\"], [0.6666666666666666, \"#ed7953\"], [0.7777777777777778, \"#fb9f3a\"], [0.8888888888888888, \"#fdca26\"], [1.0, \"#f0f921\"]], \"type\": \"surface\"}], \"table\": [{\"cells\": {\"fill\": {\"color\": \"#EBF0F8\"}, \"line\": {\"color\": \"white\"}}, \"header\": {\"fill\": {\"color\": \"#C8D4E3\"}, \"line\": {\"color\": \"white\"}}, \"type\": \"table\"}]}, \"layout\": {\"annotationdefaults\": {\"arrowcolor\": \"#2a3f5f\", \"arrowhead\": 0, \"arrowwidth\": 1}, \"coloraxis\": {\"colorbar\": {\"outlinewidth\": 0, \"ticks\": \"\"}}, \"colorscale\": {\"diverging\": [[0, \"#8e0152\"], [0.1, \"#c51b7d\"], [0.2, \"#de77ae\"], [0.3, \"#f1b6da\"], [0.4, \"#fde0ef\"], [0.5, \"#f7f7f7\"], [0.6, \"#e6f5d0\"], [0.7, \"#b8e186\"], [0.8, \"#7fbc41\"], [0.9, \"#4d9221\"], [1, \"#276419\"]], \"sequential\": [[0.0, \"#0d0887\"], [0.1111111111111111, \"#46039f\"], [0.2222222222222222, \"#7201a8\"], [0.3333333333333333, \"#9c179e\"], [0.4444444444444444, \"#bd3786\"], [0.5555555555555556, \"#d8576b\"], [0.6666666666666666, \"#ed7953\"], [0.7777777777777778, \"#fb9f3a\"], [0.8888888888888888, \"#fdca26\"], [1.0, \"#f0f921\"]], \"sequentialminus\": [[0.0, \"#0d0887\"], [0.1111111111111111, \"#46039f\"], [0.2222222222222222, \"#7201a8\"], [0.3333333333333333, \"#9c179e\"], [0.4444444444444444, \"#bd3786\"], [0.5555555555555556, \"#d8576b\"], [0.6666666666666666, \"#ed7953\"], [0.7777777777777778, \"#fb9f3a\"], [0.8888888888888888, \"#fdca26\"], [1.0, \"#f0f921\"]]}, \"colorway\": [\"#636efa\", \"#EF553B\", \"#00cc96\", \"#ab63fa\", \"#FFA15A\", \"#19d3f3\", \"#FF6692\", \"#B6E880\", \"#FF97FF\", \"#FECB52\"], \"font\": {\"color\": \"#2a3f5f\"}, \"geo\": {\"bgcolor\": \"white\", \"lakecolor\": \"white\", \"landcolor\": \"#E5ECF6\", \"showlakes\": true, \"showland\": true, \"subunitcolor\": \"white\"}, \"hoverlabel\": {\"align\": \"left\"}, \"hovermode\": \"closest\", \"mapbox\": {\"style\": \"light\"}, \"paper_bgcolor\": \"white\", \"plot_bgcolor\": \"#E5ECF6\", \"polar\": {\"angularaxis\": {\"gridcolor\": \"white\", \"linecolor\": \"white\", \"ticks\": \"\"}, \"bgcolor\": \"#E5ECF6\", \"radialaxis\": {\"gridcolor\": \"white\", \"linecolor\": \"white\", \"ticks\": \"\"}}, \"scene\": {\"xaxis\": {\"backgroundcolor\": \"#E5ECF6\", \"gridcolor\": \"white\", \"gridwidth\": 2, \"linecolor\": \"white\", \"showbackground\": true, \"ticks\": \"\", \"zerolinecolor\": \"white\"}, \"yaxis\": {\"backgroundcolor\": \"#E5ECF6\", \"gridcolor\": \"white\", \"gridwidth\": 2, \"linecolor\": \"white\", \"showbackground\": true, \"ticks\": \"\", \"zerolinecolor\": \"white\"}, \"zaxis\": {\"backgroundcolor\": \"#E5ECF6\", \"gridcolor\": \"white\", \"gridwidth\": 2, \"linecolor\": \"white\", \"showbackground\": true, \"ticks\": \"\", \"zerolinecolor\": \"white\"}}, \"shapedefaults\": {\"line\": {\"color\": \"#2a3f5f\"}}, \"ternary\": {\"aaxis\": {\"gridcolor\": \"white\", \"linecolor\": \"white\", \"ticks\": \"\"}, \"baxis\": {\"gridcolor\": \"white\", \"linecolor\": \"white\", \"ticks\": \"\"}, \"bgcolor\": \"#E5ECF6\", \"caxis\": {\"gridcolor\": \"white\", \"linecolor\": \"white\", \"ticks\": \"\"}}, \"title\": {\"x\": 0.05}, \"xaxis\": {\"automargin\": true, \"gridcolor\": \"white\", \"linecolor\": \"white\", \"ticks\": \"\", \"title\": {\"standoff\": 15}, \"zerolinecolor\": \"white\", \"zerolinewidth\": 2}, \"yaxis\": {\"automargin\": true, \"gridcolor\": \"white\", \"linecolor\": \"white\", \"ticks\": \"\", \"title\": {\"standoff\": 15}, \"zerolinecolor\": \"white\", \"zerolinewidth\": 2}}}, \"title\": {\"text\": \"Llenado de tanque\"}, \"xaxis\": {\"title\": {\"text\": \"h\"}}, \"yaxis\": {\"title\": {\"text\": \"y\"}}},\n",
              "                        {\"responsive\": true}\n",
              "                    ).then(function(){\n",
              "                            \n",
              "var gd = document.getElementById('659c74df-c9d6-4bde-b629-c046e784efe8');\n",
              "var x = new MutationObserver(function (mutations, observer) {{\n",
              "        var display = window.getComputedStyle(gd).display;\n",
              "        if (!display || display === 'none') {{\n",
              "            console.log([gd, 'removed!']);\n",
              "            Plotly.purge(gd);\n",
              "            observer.disconnect();\n",
              "        }}\n",
              "}});\n",
              "\n",
              "// Listen for the removal of the full notebook cells\n",
              "var notebookContainer = gd.closest('#notebook-container');\n",
              "if (notebookContainer) {{\n",
              "    x.observe(notebookContainer, {childList: true});\n",
              "}}\n",
              "\n",
              "// Listen for the clearing of the current output cell\n",
              "var outputEl = gd.closest('.output');\n",
              "if (outputEl) {{\n",
              "    x.observe(outputEl, {childList: true});\n",
              "}}\n",
              "\n",
              "                        })\n",
              "                };\n",
              "                \n",
              "            </script>\n",
              "        </div>\n",
              "</body>\n",
              "</html>"
            ]
          },
          "metadata": {}
        }
      ]
    },
    {
      "cell_type": "code",
      "metadata": {
        "id": "-1UDccqK8SGk",
        "colab": {
          "base_uri": "https://localhost:8080/",
          "height": 255
        },
        "outputId": "40253828-68a2-4b26-84d5-585fbf2a86cd"
      },
      "source": [
        "#Hacer la llamada a la función\n",
        "h,t=reglafalsa()\n",
        "print(h)\n",
        "t"
      ],
      "execution_count": null,
      "outputs": [
        {
          "output_type": "stream",
          "name": "stdout",
          "text": [
            "6.355008054423839\n"
          ]
        },
        {
          "output_type": "execute_result",
          "data": {
            "text/html": [
              "<div>\n",
              "<style scoped>\n",
              "    .dataframe tbody tr th:only-of-type {\n",
              "        vertical-align: middle;\n",
              "    }\n",
              "\n",
              "    .dataframe tbody tr th {\n",
              "        vertical-align: top;\n",
              "    }\n",
              "\n",
              "    .dataframe thead th {\n",
              "        text-align: right;\n",
              "    }\n",
              "</style>\n",
              "<table border=\"1\" class=\"dataframe\">\n",
              "  <thead>\n",
              "    <tr style=\"text-align: right;\">\n",
              "      <th></th>\n",
              "      <th>x0</th>\n",
              "      <th>x</th>\n",
              "      <th>x1</th>\n",
              "      <th>f(x0)</th>\n",
              "      <th>f(x)</th>\n",
              "      <th>f(x1)</th>\n",
              "    </tr>\n",
              "  </thead>\n",
              "  <tbody>\n",
              "    <tr>\n",
              "      <th>0</th>\n",
              "      <td>5.000000</td>\n",
              "      <td>6.287530</td>\n",
              "      <td>7.5</td>\n",
              "      <td>-345.501531</td>\n",
              "      <td>-18.329822</td>\n",
              "      <td>325.359401</td>\n",
              "    </tr>\n",
              "    <tr>\n",
              "      <th>1</th>\n",
              "      <td>6.287530</td>\n",
              "      <td>6.352194</td>\n",
              "      <td>7.5</td>\n",
              "      <td>-18.329822</td>\n",
              "      <td>-0.766389</td>\n",
              "      <td>325.359401</td>\n",
              "    </tr>\n",
              "    <tr>\n",
              "      <th>2</th>\n",
              "      <td>6.352194</td>\n",
              "      <td>6.354892</td>\n",
              "      <td>7.5</td>\n",
              "      <td>-0.766389</td>\n",
              "      <td>-0.031675</td>\n",
              "      <td>325.359401</td>\n",
              "    </tr>\n",
              "    <tr>\n",
              "      <th>3</th>\n",
              "      <td>6.354892</td>\n",
              "      <td>6.355003</td>\n",
              "      <td>7.5</td>\n",
              "      <td>-0.031675</td>\n",
              "      <td>-0.001309</td>\n",
              "      <td>325.359401</td>\n",
              "    </tr>\n",
              "    <tr>\n",
              "      <th>4</th>\n",
              "      <td>6.355003</td>\n",
              "      <td>6.355008</td>\n",
              "      <td>7.5</td>\n",
              "      <td>-0.001309</td>\n",
              "      <td>-0.000054</td>\n",
              "      <td>325.359401</td>\n",
              "    </tr>\n",
              "    <tr>\n",
              "      <th>5</th>\n",
              "      <td>6.355008</td>\n",
              "      <td>6.355008</td>\n",
              "      <td>7.5</td>\n",
              "      <td>-0.000054</td>\n",
              "      <td>-0.000002</td>\n",
              "      <td>325.359401</td>\n",
              "    </tr>\n",
              "  </tbody>\n",
              "</table>\n",
              "</div>"
            ],
            "text/plain": [
              "         x0         x   x1       f(x0)       f(x)       f(x1)\n",
              "0  5.000000  6.287530  7.5 -345.501531 -18.329822  325.359401\n",
              "1  6.287530  6.352194  7.5  -18.329822  -0.766389  325.359401\n",
              "2  6.352194  6.354892  7.5   -0.766389  -0.031675  325.359401\n",
              "3  6.354892  6.355003  7.5   -0.031675  -0.001309  325.359401\n",
              "4  6.355003  6.355008  7.5   -0.001309  -0.000054  325.359401\n",
              "5  6.355008  6.355008  7.5   -0.000054  -0.000002  325.359401"
            ]
          },
          "metadata": {},
          "execution_count": 19
        }
      ]
    },
    {
      "cell_type": "markdown",
      "metadata": {
        "id": "_x1tXGJN9OfQ"
      },
      "source": [
        "##Newton-Raphson"
      ]
    },
    {
      "cell_type": "markdown",
      "metadata": {
        "id": "xT0RgYyL-rN4"
      },
      "source": [
        "Fluye aire a una temperatura de 25 C y\n",
        "1 atm a través de un tubo de 4 mm de diámetro a una velocidad promedio de 50 m/s. La\n",
        "rugosidad es de $\\epsilon= 0.0015mm$ y $Re=13743$. Calcular el factor de fricción usando la ecuación\n",
        "de Colebrook.\n",
        "$$\n",
        "\\frac{1}{\\sqrt{f}}=\n",
        "-2.0log\\left(\\frac{\\epsilon/D}{3.7}\n",
        "+\n",
        "\\frac{2.51}{Re\\sqrt{f}}\n",
        "\\right)\\\\\n",
        "F(f)=\\frac{1}{\\sqrt{f}}+2.0log\\left(\\frac{\\epsilon/D}{3.7}\n",
        "+\n",
        "\\frac{2.51}{Re\\sqrt{f}}\n",
        "\\right)\\\\\n",
        "F'(f)=\\frac{-1}{2\\sqrt{f^3}}-\\frac{2.51}{Re\\sqrt{f^3}\\frac{2.51}{Re\\sqrt{f}}+\\frac{\\epsilon /D}{3.7}}\n",
        "$$"
      ]
    },
    {
      "cell_type": "code",
      "metadata": {
        "id": "zWR7KhaTBkQi"
      },
      "source": [
        "#definir la función a resolver\n",
        "e=0.0015\n",
        "D=4\n",
        "Re=13743\n",
        "F=lambda f: 1/np.sqrt(f)+2*np.log10(e/D/3.7+2.51/(Re*np.sqrt(f)))\n"
      ],
      "execution_count": null,
      "outputs": []
    },
    {
      "cell_type": "code",
      "metadata": {
        "id": "QthQ2l9NCQg1"
      },
      "source": [
        "#definir la derivada\n",
        "dF=lambda f: -1/(2*f**(3/2))-2.51/(Re*f**(3/2)*(2.51/(Re*np.sqrt(f))+0.27027027027*e/D))"
      ],
      "execution_count": null,
      "outputs": []
    },
    {
      "cell_type": "code",
      "metadata": {
        "id": "aokQIHfeutdW",
        "colab": {
          "base_uri": "https://localhost:8080/",
          "height": 542
        },
        "outputId": "d38d9e4c-7296-41da-8045-8cc30516d418"
      },
      "source": [
        "#Graficar la función para identificar el comportamiento y ubicar los puntos iniciales\n",
        "x=np.linspace()  # <------ escriba los limites para x\n",
        "\n",
        "traza1=go.Scatter(x=,y=, # <------ escriba los valores para x y\n",
        "                  mode='lines+markers',name='$x^2-2$',\n",
        "                  line=dict(color='salmon'))\n",
        "\n",
        "data=[traza1]\n",
        "\n",
        "layout=go.Layout(title='Factor de friccion',\n",
        "                 xaxis=dict(title='f'),\n",
        "                 yaxis=dict(title='F'))\n",
        "\n",
        "fig=go.Figure(data=data,layout=layout)\n",
        "fig.show()\n"
      ],
      "execution_count": null,
      "outputs": [
        {
          "output_type": "display_data",
          "data": {
            "text/html": [
              "<html>\n",
              "<head><meta charset=\"utf-8\" /></head>\n",
              "<body>\n",
              "    <div>\n",
              "            <script src=\"https://cdnjs.cloudflare.com/ajax/libs/mathjax/2.7.5/MathJax.js?config=TeX-AMS-MML_SVG\"></script><script type=\"text/javascript\">if (window.MathJax) {MathJax.Hub.Config({SVG: {font: \"STIX-Web\"}});}</script>\n",
              "                <script type=\"text/javascript\">window.PlotlyConfig = {MathJaxConfig: 'local'};</script>\n",
              "        <script src=\"https://cdn.plot.ly/plotly-latest.min.js\"></script>    \n",
              "            <div id=\"cea8b0cb-a90c-472a-9926-e4cbd725577d\" class=\"plotly-graph-div\" style=\"height:525px; width:100%;\"></div>\n",
              "            <script type=\"text/javascript\">\n",
              "                \n",
              "                    window.PLOTLYENV=window.PLOTLYENV || {};\n",
              "                    \n",
              "                if (document.getElementById(\"cea8b0cb-a90c-472a-9926-e4cbd725577d\")) {\n",
              "                    Plotly.newPlot(\n",
              "                        'cea8b0cb-a90c-472a-9926-e4cbd725577d',\n",
              "                        [{\"line\": {\"color\": \"salmon\"}, \"mode\": \"lines+markers\", \"name\": \"$x^2-2$\", \"type\": \"scatter\", \"x\": [0.001, 0.005061224489795919, 0.009122448979591836, 0.013183673469387758, 0.017244897959183676, 0.021306122448979593, 0.025367346938775515, 0.029428571428571432, 0.03348979591836735, 0.03755102040816327, 0.041612244897959186, 0.04567346938775511, 0.04973469387755103, 0.05379591836734694, 0.057857142857142864, 0.06191836734693878, 0.0659795918367347, 0.07004081632653061, 0.07410204081632654, 0.07816326530612246, 0.08222448979591837, 0.0862857142857143, 0.09034693877551021, 0.09440816326530613, 0.09846938775510206, 0.10253061224489797, 0.10659183673469388, 0.1106530612244898, 0.11471428571428573, 0.11877551020408164, 0.12283673469387756, 0.12689795918367347, 0.1309591836734694, 0.13502040816326533, 0.13908163265306123, 0.14314285714285716, 0.14720408163265308, 0.15126530612244898, 0.1553265306122449, 0.15938775510204084, 0.16344897959183674, 0.16751020408163267, 0.1715714285714286, 0.1756326530612245, 0.17969387755102043, 0.18375510204081635, 0.18781632653061225, 0.19187755102040818, 0.1959387755102041, 0.2], \"y\": [27.161071097731785, 8.908898370856669, 5.077873445700802, 3.166070675614984, 1.9626165985421045, 1.113234563482389, 0.4710688847518387, -0.037313943770421965, -0.45330125749066763, -0.802254319028104, -1.100708135834756, -1.3599721594600016, -1.5880826368842378, -1.790930602032848, -1.9729478933488043, -2.1375424325911068, -2.2873844250475392, -2.4246003443597797, -2.5509079092539766, -2.6677121762433478, -2.7761753424377646, -2.8772683657855147, -2.9718097537021264, -3.0604951312821824, -3.143920075332956, -3.2225979570800365, -3.2969740354128927, -3.367436698842234, -3.434326514680831, -3.4979435743323815, -3.5585535018553522, -3.616392404515899, -3.6716709790065662, -3.7245779386633036, -3.775282890711443, -3.823938765052779, -3.870683875059884, -3.9156436746138334, -3.9589322630072683, -4.0006536794585426, -4.040903021196383, -4.079767412895517, -4.117326850309825, -4.153654936986648, -4.188819529745116, -4.222883306002313, -4.255904263910204, -4.287936164527036, -4.319028923814187, -4.349228961064146]}],\n",
              "                        {\"template\": {\"data\": {\"bar\": [{\"error_x\": {\"color\": \"#2a3f5f\"}, \"error_y\": {\"color\": \"#2a3f5f\"}, \"marker\": {\"line\": {\"color\": \"#E5ECF6\", \"width\": 0.5}}, \"type\": \"bar\"}], \"barpolar\": [{\"marker\": {\"line\": {\"color\": \"#E5ECF6\", \"width\": 0.5}}, \"type\": \"barpolar\"}], \"carpet\": [{\"aaxis\": {\"endlinecolor\": \"#2a3f5f\", \"gridcolor\": \"white\", \"linecolor\": \"white\", \"minorgridcolor\": \"white\", \"startlinecolor\": \"#2a3f5f\"}, \"baxis\": {\"endlinecolor\": \"#2a3f5f\", \"gridcolor\": \"white\", \"linecolor\": \"white\", \"minorgridcolor\": \"white\", \"startlinecolor\": \"#2a3f5f\"}, \"type\": \"carpet\"}], \"choropleth\": [{\"colorbar\": {\"outlinewidth\": 0, \"ticks\": \"\"}, \"type\": \"choropleth\"}], \"contour\": [{\"colorbar\": {\"outlinewidth\": 0, \"ticks\": \"\"}, \"colorscale\": [[0.0, \"#0d0887\"], [0.1111111111111111, \"#46039f\"], [0.2222222222222222, \"#7201a8\"], [0.3333333333333333, \"#9c179e\"], [0.4444444444444444, \"#bd3786\"], [0.5555555555555556, \"#d8576b\"], [0.6666666666666666, \"#ed7953\"], [0.7777777777777778, \"#fb9f3a\"], [0.8888888888888888, \"#fdca26\"], [1.0, \"#f0f921\"]], \"type\": \"contour\"}], \"contourcarpet\": [{\"colorbar\": {\"outlinewidth\": 0, \"ticks\": \"\"}, \"type\": \"contourcarpet\"}], \"heatmap\": [{\"colorbar\": {\"outlinewidth\": 0, \"ticks\": \"\"}, \"colorscale\": [[0.0, \"#0d0887\"], [0.1111111111111111, \"#46039f\"], [0.2222222222222222, \"#7201a8\"], [0.3333333333333333, \"#9c179e\"], [0.4444444444444444, \"#bd3786\"], [0.5555555555555556, \"#d8576b\"], [0.6666666666666666, \"#ed7953\"], [0.7777777777777778, \"#fb9f3a\"], [0.8888888888888888, \"#fdca26\"], [1.0, \"#f0f921\"]], \"type\": \"heatmap\"}], \"heatmapgl\": [{\"colorbar\": {\"outlinewidth\": 0, \"ticks\": \"\"}, \"colorscale\": [[0.0, \"#0d0887\"], [0.1111111111111111, \"#46039f\"], [0.2222222222222222, \"#7201a8\"], [0.3333333333333333, \"#9c179e\"], [0.4444444444444444, \"#bd3786\"], [0.5555555555555556, \"#d8576b\"], [0.6666666666666666, \"#ed7953\"], [0.7777777777777778, \"#fb9f3a\"], [0.8888888888888888, \"#fdca26\"], [1.0, \"#f0f921\"]], \"type\": \"heatmapgl\"}], \"histogram\": [{\"marker\": {\"colorbar\": {\"outlinewidth\": 0, \"ticks\": \"\"}}, \"type\": \"histogram\"}], \"histogram2d\": [{\"colorbar\": {\"outlinewidth\": 0, \"ticks\": \"\"}, \"colorscale\": [[0.0, \"#0d0887\"], [0.1111111111111111, \"#46039f\"], [0.2222222222222222, \"#7201a8\"], [0.3333333333333333, \"#9c179e\"], [0.4444444444444444, \"#bd3786\"], [0.5555555555555556, \"#d8576b\"], [0.6666666666666666, \"#ed7953\"], [0.7777777777777778, \"#fb9f3a\"], [0.8888888888888888, \"#fdca26\"], [1.0, \"#f0f921\"]], \"type\": \"histogram2d\"}], \"histogram2dcontour\": [{\"colorbar\": {\"outlinewidth\": 0, \"ticks\": \"\"}, \"colorscale\": [[0.0, \"#0d0887\"], [0.1111111111111111, \"#46039f\"], [0.2222222222222222, \"#7201a8\"], [0.3333333333333333, \"#9c179e\"], [0.4444444444444444, \"#bd3786\"], [0.5555555555555556, \"#d8576b\"], [0.6666666666666666, \"#ed7953\"], [0.7777777777777778, \"#fb9f3a\"], [0.8888888888888888, \"#fdca26\"], [1.0, \"#f0f921\"]], \"type\": \"histogram2dcontour\"}], \"mesh3d\": [{\"colorbar\": {\"outlinewidth\": 0, \"ticks\": \"\"}, \"type\": \"mesh3d\"}], \"parcoords\": [{\"line\": {\"colorbar\": {\"outlinewidth\": 0, \"ticks\": \"\"}}, \"type\": \"parcoords\"}], \"pie\": [{\"automargin\": true, \"type\": \"pie\"}], \"scatter\": [{\"marker\": {\"colorbar\": {\"outlinewidth\": 0, \"ticks\": \"\"}}, \"type\": \"scatter\"}], \"scatter3d\": [{\"line\": {\"colorbar\": {\"outlinewidth\": 0, \"ticks\": \"\"}}, \"marker\": {\"colorbar\": {\"outlinewidth\": 0, \"ticks\": \"\"}}, \"type\": \"scatter3d\"}], \"scattercarpet\": [{\"marker\": {\"colorbar\": {\"outlinewidth\": 0, \"ticks\": \"\"}}, \"type\": \"scattercarpet\"}], \"scattergeo\": [{\"marker\": {\"colorbar\": {\"outlinewidth\": 0, \"ticks\": \"\"}}, \"type\": \"scattergeo\"}], \"scattergl\": [{\"marker\": {\"colorbar\": {\"outlinewidth\": 0, \"ticks\": \"\"}}, \"type\": \"scattergl\"}], \"scattermapbox\": [{\"marker\": {\"colorbar\": {\"outlinewidth\": 0, \"ticks\": \"\"}}, \"type\": \"scattermapbox\"}], \"scatterpolar\": [{\"marker\": {\"colorbar\": {\"outlinewidth\": 0, \"ticks\": \"\"}}, \"type\": \"scatterpolar\"}], \"scatterpolargl\": [{\"marker\": {\"colorbar\": {\"outlinewidth\": 0, \"ticks\": \"\"}}, \"type\": \"scatterpolargl\"}], \"scatterternary\": [{\"marker\": {\"colorbar\": {\"outlinewidth\": 0, \"ticks\": \"\"}}, \"type\": \"scatterternary\"}], \"surface\": [{\"colorbar\": {\"outlinewidth\": 0, \"ticks\": \"\"}, \"colorscale\": [[0.0, \"#0d0887\"], [0.1111111111111111, \"#46039f\"], [0.2222222222222222, \"#7201a8\"], [0.3333333333333333, \"#9c179e\"], [0.4444444444444444, \"#bd3786\"], [0.5555555555555556, \"#d8576b\"], [0.6666666666666666, \"#ed7953\"], [0.7777777777777778, \"#fb9f3a\"], [0.8888888888888888, \"#fdca26\"], [1.0, \"#f0f921\"]], \"type\": \"surface\"}], \"table\": [{\"cells\": {\"fill\": {\"color\": \"#EBF0F8\"}, \"line\": {\"color\": \"white\"}}, \"header\": {\"fill\": {\"color\": \"#C8D4E3\"}, \"line\": {\"color\": \"white\"}}, \"type\": \"table\"}]}, \"layout\": {\"annotationdefaults\": {\"arrowcolor\": \"#2a3f5f\", \"arrowhead\": 0, \"arrowwidth\": 1}, \"coloraxis\": {\"colorbar\": {\"outlinewidth\": 0, \"ticks\": \"\"}}, \"colorscale\": {\"diverging\": [[0, \"#8e0152\"], [0.1, \"#c51b7d\"], [0.2, \"#de77ae\"], [0.3, \"#f1b6da\"], [0.4, \"#fde0ef\"], [0.5, \"#f7f7f7\"], [0.6, \"#e6f5d0\"], [0.7, \"#b8e186\"], [0.8, \"#7fbc41\"], [0.9, \"#4d9221\"], [1, \"#276419\"]], \"sequential\": [[0.0, \"#0d0887\"], [0.1111111111111111, \"#46039f\"], [0.2222222222222222, \"#7201a8\"], [0.3333333333333333, \"#9c179e\"], [0.4444444444444444, \"#bd3786\"], [0.5555555555555556, \"#d8576b\"], [0.6666666666666666, \"#ed7953\"], [0.7777777777777778, \"#fb9f3a\"], [0.8888888888888888, \"#fdca26\"], [1.0, \"#f0f921\"]], \"sequentialminus\": [[0.0, \"#0d0887\"], [0.1111111111111111, \"#46039f\"], [0.2222222222222222, \"#7201a8\"], [0.3333333333333333, \"#9c179e\"], [0.4444444444444444, \"#bd3786\"], [0.5555555555555556, \"#d8576b\"], [0.6666666666666666, \"#ed7953\"], [0.7777777777777778, \"#fb9f3a\"], [0.8888888888888888, \"#fdca26\"], [1.0, \"#f0f921\"]]}, \"colorway\": [\"#636efa\", \"#EF553B\", \"#00cc96\", \"#ab63fa\", \"#FFA15A\", \"#19d3f3\", \"#FF6692\", \"#B6E880\", \"#FF97FF\", \"#FECB52\"], \"font\": {\"color\": \"#2a3f5f\"}, \"geo\": {\"bgcolor\": \"white\", \"lakecolor\": \"white\", \"landcolor\": \"#E5ECF6\", \"showlakes\": true, \"showland\": true, \"subunitcolor\": \"white\"}, \"hoverlabel\": {\"align\": \"left\"}, \"hovermode\": \"closest\", \"mapbox\": {\"style\": \"light\"}, \"paper_bgcolor\": \"white\", \"plot_bgcolor\": \"#E5ECF6\", \"polar\": {\"angularaxis\": {\"gridcolor\": \"white\", \"linecolor\": \"white\", \"ticks\": \"\"}, \"bgcolor\": \"#E5ECF6\", \"radialaxis\": {\"gridcolor\": \"white\", \"linecolor\": \"white\", \"ticks\": \"\"}}, \"scene\": {\"xaxis\": {\"backgroundcolor\": \"#E5ECF6\", \"gridcolor\": \"white\", \"gridwidth\": 2, \"linecolor\": \"white\", \"showbackground\": true, \"ticks\": \"\", \"zerolinecolor\": \"white\"}, \"yaxis\": {\"backgroundcolor\": \"#E5ECF6\", \"gridcolor\": \"white\", \"gridwidth\": 2, \"linecolor\": \"white\", \"showbackground\": true, \"ticks\": \"\", \"zerolinecolor\": \"white\"}, \"zaxis\": {\"backgroundcolor\": \"#E5ECF6\", \"gridcolor\": \"white\", \"gridwidth\": 2, \"linecolor\": \"white\", \"showbackground\": true, \"ticks\": \"\", \"zerolinecolor\": \"white\"}}, \"shapedefaults\": {\"line\": {\"color\": \"#2a3f5f\"}}, \"ternary\": {\"aaxis\": {\"gridcolor\": \"white\", \"linecolor\": \"white\", \"ticks\": \"\"}, \"baxis\": {\"gridcolor\": \"white\", \"linecolor\": \"white\", \"ticks\": \"\"}, \"bgcolor\": \"#E5ECF6\", \"caxis\": {\"gridcolor\": \"white\", \"linecolor\": \"white\", \"ticks\": \"\"}}, \"title\": {\"x\": 0.05}, \"xaxis\": {\"automargin\": true, \"gridcolor\": \"white\", \"linecolor\": \"white\", \"ticks\": \"\", \"title\": {\"standoff\": 15}, \"zerolinecolor\": \"white\", \"zerolinewidth\": 2}, \"yaxis\": {\"automargin\": true, \"gridcolor\": \"white\", \"linecolor\": \"white\", \"ticks\": \"\", \"title\": {\"standoff\": 15}, \"zerolinecolor\": \"white\", \"zerolinewidth\": 2}}}, \"title\": {\"text\": \"Factor de friccion\"}, \"xaxis\": {\"title\": {\"text\": \"f\"}}, \"yaxis\": {\"title\": {\"text\": \"F\"}}},\n",
              "                        {\"responsive\": true}\n",
              "                    ).then(function(){\n",
              "                            \n",
              "var gd = document.getElementById('cea8b0cb-a90c-472a-9926-e4cbd725577d');\n",
              "var x = new MutationObserver(function (mutations, observer) {{\n",
              "        var display = window.getComputedStyle(gd).display;\n",
              "        if (!display || display === 'none') {{\n",
              "            console.log([gd, 'removed!']);\n",
              "            Plotly.purge(gd);\n",
              "            observer.disconnect();\n",
              "        }}\n",
              "}});\n",
              "\n",
              "// Listen for the removal of the full notebook cells\n",
              "var notebookContainer = gd.closest('#notebook-container');\n",
              "if (notebookContainer) {{\n",
              "    x.observe(notebookContainer, {childList: true});\n",
              "}}\n",
              "\n",
              "// Listen for the clearing of the current output cell\n",
              "var outputEl = gd.closest('.output');\n",
              "if (outputEl) {{\n",
              "    x.observe(outputEl, {childList: true});\n",
              "}}\n",
              "\n",
              "                        })\n",
              "                };\n",
              "                \n",
              "            </script>\n",
              "        </div>\n",
              "</body>\n",
              "</html>"
            ]
          },
          "metadata": {}
        }
      ]
    },
    {
      "cell_type": "code",
      "metadata": {
        "id": "c3b8UP2Ruokh",
        "colab": {
          "base_uri": "https://localhost:8080/"
        },
        "outputId": "f63c8655-5ee5-49f5-d007-df5b07342ee9"
      },
      "source": [
        "#Hacer la llamada a la función\n",
        "from scipy.optimize import newton\n",
        "\n",
        "r=newton(F,0.005,dF)\n",
        "print(r)\n"
      ],
      "execution_count": null,
      "outputs": [
        {
          "output_type": "stream",
          "name": "stdout",
          "text": [
            "0.02909962040151198\n"
          ]
        }
      ]
    },
    {
      "cell_type": "markdown",
      "metadata": {
        "id": "XOYLbtBW9U1N"
      },
      "source": [
        "##Secante"
      ]
    },
    {
      "cell_type": "code",
      "metadata": {
        "id": "FDqc5FDtvXQD",
        "colab": {
          "base_uri": "https://localhost:8080/"
        },
        "outputId": "4f5d2423-a0a3-4068-ff47-c684bbac1cd0"
      },
      "source": [
        "#Hacer la llamada a la función\n",
        "r=newton(F,0.005)\n",
        "print(r)"
      ],
      "execution_count": null,
      "outputs": [
        {
          "output_type": "stream",
          "name": "stdout",
          "text": [
            "0.029099621182750716\n"
          ]
        }
      ]
    },
    {
      "cell_type": "markdown",
      "metadata": {
        "id": "PTwIMk_U9YJ-"
      },
      "source": [
        "##Muller"
      ]
    },
    {
      "cell_type": "code",
      "metadata": {
        "id": "wXMDbclGvgaG"
      },
      "source": [
        "#Definición de la función para el método de Muller\n",
        "def muller(f,x0,x1,x2,tol=1e-5):\n",
        "  tabla=pd.DataFrame(columns=['x0','x1','x2','x3','f(x0)','f(x1)','f(x2)','f(x3)'])\n",
        "  x3=x0\n",
        "  while np.abs(f(x3))>tol:\n",
        "    d1=(f(x1)-f(x0))/(x1-x0)\n",
        "    d2=(f(x2)-f(x1))/(x2-x1)\n",
        "    d3=(d2-d1)/(x2-x0)\n",
        "    a=d3\n",
        "    b=d1-a*(x0+x1)\n",
        "    c=f(x0)+x0*(a*x1-d1)\n",
        "    den1=-b+np.sqrt(b**2-4*a*c+0j)\n",
        "    den2=-b-np.sqrt(b**2-4*a*c+0j)\n",
        "    if np.abs(den1)>np.abs(den2):\n",
        "      x3=   # <------- escriba el calculo de x3\n",
        "    else:\n",
        "      x3=2*c/den2\n",
        "    tabla=tabla.append({'x0':x0,'x1':x1,'x2':x2,'x3':x3,\n",
        "                        'f(x0)':f(x0),'f(x1)':f(x1),'f(x2)':f(x2),'f(x3)':f(x3)},\n",
        "                       ignore_index=True)\n",
        "    x0= # <-------- Escriba el valor para x0\n",
        "    x1=x2\n",
        "    x2= # <-------- Escriba el valor para x2\n",
        "  return x3,tabla\n"
      ],
      "execution_count": null,
      "outputs": []
    },
    {
      "cell_type": "markdown",
      "metadata": {
        "id": "PH94lCsUvvlE"
      },
      "source": [
        "**Problema**: Calcular el volumen de $2 moles$ de $CO_2$ a una presión de $10 atm$ y $300K$, usando la ecuación de Van der Waals\n",
        "\n",
        "$$\n",
        "\\left(P+\\frac{an^2}{V^2}\\right) (V-nb) = nRT\n",
        "$$\n",
        "\n",
        "Donde $a = 3.592$, $b = 0.04267$, $n = 2$, $R = 0.082$, $T = 300$ y $P = 10$."
      ]
    },
    {
      "cell_type": "code",
      "metadata": {
        "id": "KP0ja8uL8Xr2"
      },
      "source": [
        "n=2\n",
        "R =0.082\n",
        "a =3.592\n",
        "b =0.04267\n",
        "T =300\n",
        "P =10\n",
        "f=lambda v: # <--------- Escriba la definicion para f"
      ],
      "execution_count": null,
      "outputs": []
    },
    {
      "cell_type": "code",
      "metadata": {
        "id": "yzYqYU2dxL10",
        "colab": {
          "base_uri": "https://localhost:8080/",
          "height": 542
        },
        "outputId": "88c5c20d-9dd7-422e-90ca-fb57cc0a2bd9"
      },
      "source": [
        "#Graficar la función para identificar el comportamiento y ubicar los puntos iniciales\n",
        "x=np.linspace()  # <------ Escriba los limites para x\n",
        "\n",
        "traza1=go.Scatter(x=,y=,  # <------- Escriba los valores para x y\n",
        "                  mode='lines+markers',name='',\n",
        "                  line=dict(color='salmon'))\n",
        "\n",
        "data=[traza1]\n",
        "\n",
        "layout=go.Layout(title='Presion de gas real',\n",
        "                 xaxis=dict(title='v'),\n",
        "                 yaxis=dict(title='y'))\n",
        "\n",
        "fig=go.Figure(data=data,layout=layout)\n",
        "fig.show()"
      ],
      "execution_count": null,
      "outputs": [
        {
          "output_type": "display_data",
          "data": {
            "text/html": [
              "<html>\n",
              "<head><meta charset=\"utf-8\" /></head>\n",
              "<body>\n",
              "    <div>\n",
              "            <script src=\"https://cdnjs.cloudflare.com/ajax/libs/mathjax/2.7.5/MathJax.js?config=TeX-AMS-MML_SVG\"></script><script type=\"text/javascript\">if (window.MathJax) {MathJax.Hub.Config({SVG: {font: \"STIX-Web\"}});}</script>\n",
              "                <script type=\"text/javascript\">window.PlotlyConfig = {MathJaxConfig: 'local'};</script>\n",
              "        <script src=\"https://cdn.plot.ly/plotly-latest.min.js\"></script>    \n",
              "            <div id=\"aa36d4a9-f451-4e78-95aa-4978c67b4eca\" class=\"plotly-graph-div\" style=\"height:525px; width:100%;\"></div>\n",
              "            <script type=\"text/javascript\">\n",
              "                \n",
              "                    window.PLOTLYENV=window.PLOTLYENV || {};\n",
              "                    \n",
              "                if (document.getElementById(\"aa36d4a9-f451-4e78-95aa-4978c67b4eca\")) {\n",
              "                    Plotly.newPlot(\n",
              "                        'aa36d4a9-f451-4e78-95aa-4978c67b4eca',\n",
              "                        [{\"line\": {\"color\": \"salmon\"}, \"mode\": \"lines+markers\", \"name\": \"\", \"type\": \"scatter\", \"x\": [0.2, 0.3183673469387755, 0.43673469387755104, 0.5551020408163265, 0.673469387755102, 0.7918367346938775, 0.9102040816326531, 1.0285714285714285, 1.146938775510204, 1.2653061224489794, 1.383673469387755, 1.5020408163265304, 1.620408163265306, 1.7387755102040814, 1.857142857142857, 1.9755102040816324, 2.093877551020408, 2.2122448979591836, 2.330612244897959, 2.4489795918367347, 2.5673469387755103, 2.6857142857142855, 2.804081632653061, 2.9224489795918367, 3.0408163265306123, 3.159183673469388, 3.277551020408163, 3.3959183673469386, 3.5142857142857142, 3.63265306122449, 3.751020408163265, 3.8693877551020406, 3.987755102040816, 4.106122448979591, 4.224489795918367, 4.3428571428571425, 4.461224489795918, 4.579591836734694, 4.697959183673469, 4.816326530612245, 4.9346938775510205, 5.053061224489796, 5.171428571428571, 5.289795918367346, 5.408163265306122, 5.526530612244898, 5.644897959183673, 5.763265306122449, 5.881632653061224, 6.0], \"y\": [-6.867528000000007, -13.836866788337424, -19.215919541091726, -22.598119283013208, -24.687821322742828, -25.945467378536833, -26.64592133710507, -26.957787776014115, -26.988865290426766, -26.81085866445922, -26.473157342634494, -26.010822068658136, -25.44939857423868, -24.807924876182202, -24.100871374606935, -23.339428693628047, -22.53238448937034, -21.686734034419413, -20.80811407565382, -19.901116751988212, -18.96952047105124, -18.0164622438078, -17.044568065088335, -16.056052774007668, -15.05279740552492, -14.036409731076745, -13.008272097232407, -11.969579563471257, -10.921370557056932, -9.864551702270944, -8.799918075000207, -7.7281698360258275, -6.64992597602464, -5.5657357405990595, -4.476088179422142, -3.381420169074012, -2.2821231866648404, -1.1785490553290217, -0.07101483908153483, 1.0401929696329262, 2.154814853308295, 3.2726151686506313, 4.393379463804948, 5.5169121492751145, 6.64303446932152, 7.771582729576167, 8.90240674391007, 10.035368469557746, 11.170340804411033, 12.307206524444439]}],\n",
              "                        {\"template\": {\"data\": {\"bar\": [{\"error_x\": {\"color\": \"#2a3f5f\"}, \"error_y\": {\"color\": \"#2a3f5f\"}, \"marker\": {\"line\": {\"color\": \"#E5ECF6\", \"width\": 0.5}}, \"type\": \"bar\"}], \"barpolar\": [{\"marker\": {\"line\": {\"color\": \"#E5ECF6\", \"width\": 0.5}}, \"type\": \"barpolar\"}], \"carpet\": [{\"aaxis\": {\"endlinecolor\": \"#2a3f5f\", \"gridcolor\": \"white\", \"linecolor\": \"white\", \"minorgridcolor\": \"white\", \"startlinecolor\": \"#2a3f5f\"}, \"baxis\": {\"endlinecolor\": \"#2a3f5f\", \"gridcolor\": \"white\", \"linecolor\": \"white\", \"minorgridcolor\": \"white\", \"startlinecolor\": \"#2a3f5f\"}, \"type\": \"carpet\"}], \"choropleth\": [{\"colorbar\": {\"outlinewidth\": 0, \"ticks\": \"\"}, \"type\": \"choropleth\"}], \"contour\": [{\"colorbar\": {\"outlinewidth\": 0, \"ticks\": \"\"}, \"colorscale\": [[0.0, \"#0d0887\"], [0.1111111111111111, \"#46039f\"], [0.2222222222222222, \"#7201a8\"], [0.3333333333333333, \"#9c179e\"], [0.4444444444444444, \"#bd3786\"], [0.5555555555555556, \"#d8576b\"], [0.6666666666666666, \"#ed7953\"], [0.7777777777777778, \"#fb9f3a\"], [0.8888888888888888, \"#fdca26\"], [1.0, \"#f0f921\"]], \"type\": \"contour\"}], \"contourcarpet\": [{\"colorbar\": {\"outlinewidth\": 0, \"ticks\": \"\"}, \"type\": \"contourcarpet\"}], \"heatmap\": [{\"colorbar\": {\"outlinewidth\": 0, \"ticks\": \"\"}, \"colorscale\": [[0.0, \"#0d0887\"], [0.1111111111111111, \"#46039f\"], [0.2222222222222222, \"#7201a8\"], [0.3333333333333333, \"#9c179e\"], [0.4444444444444444, \"#bd3786\"], [0.5555555555555556, \"#d8576b\"], [0.6666666666666666, \"#ed7953\"], [0.7777777777777778, \"#fb9f3a\"], [0.8888888888888888, \"#fdca26\"], [1.0, \"#f0f921\"]], \"type\": \"heatmap\"}], \"heatmapgl\": [{\"colorbar\": {\"outlinewidth\": 0, \"ticks\": \"\"}, \"colorscale\": [[0.0, \"#0d0887\"], [0.1111111111111111, \"#46039f\"], [0.2222222222222222, \"#7201a8\"], [0.3333333333333333, \"#9c179e\"], [0.4444444444444444, \"#bd3786\"], [0.5555555555555556, \"#d8576b\"], [0.6666666666666666, \"#ed7953\"], [0.7777777777777778, \"#fb9f3a\"], [0.8888888888888888, \"#fdca26\"], [1.0, \"#f0f921\"]], \"type\": \"heatmapgl\"}], \"histogram\": [{\"marker\": {\"colorbar\": {\"outlinewidth\": 0, \"ticks\": \"\"}}, \"type\": \"histogram\"}], \"histogram2d\": [{\"colorbar\": {\"outlinewidth\": 0, \"ticks\": \"\"}, \"colorscale\": [[0.0, \"#0d0887\"], [0.1111111111111111, \"#46039f\"], [0.2222222222222222, \"#7201a8\"], [0.3333333333333333, \"#9c179e\"], [0.4444444444444444, \"#bd3786\"], [0.5555555555555556, \"#d8576b\"], [0.6666666666666666, \"#ed7953\"], [0.7777777777777778, \"#fb9f3a\"], [0.8888888888888888, \"#fdca26\"], [1.0, \"#f0f921\"]], \"type\": \"histogram2d\"}], \"histogram2dcontour\": [{\"colorbar\": {\"outlinewidth\": 0, \"ticks\": \"\"}, \"colorscale\": [[0.0, \"#0d0887\"], [0.1111111111111111, \"#46039f\"], [0.2222222222222222, \"#7201a8\"], [0.3333333333333333, \"#9c179e\"], [0.4444444444444444, \"#bd3786\"], [0.5555555555555556, \"#d8576b\"], [0.6666666666666666, \"#ed7953\"], [0.7777777777777778, \"#fb9f3a\"], [0.8888888888888888, \"#fdca26\"], [1.0, \"#f0f921\"]], \"type\": \"histogram2dcontour\"}], \"mesh3d\": [{\"colorbar\": {\"outlinewidth\": 0, \"ticks\": \"\"}, \"type\": \"mesh3d\"}], \"parcoords\": [{\"line\": {\"colorbar\": {\"outlinewidth\": 0, \"ticks\": \"\"}}, \"type\": \"parcoords\"}], \"pie\": [{\"automargin\": true, \"type\": \"pie\"}], \"scatter\": [{\"marker\": {\"colorbar\": {\"outlinewidth\": 0, \"ticks\": \"\"}}, \"type\": \"scatter\"}], \"scatter3d\": [{\"line\": {\"colorbar\": {\"outlinewidth\": 0, \"ticks\": \"\"}}, \"marker\": {\"colorbar\": {\"outlinewidth\": 0, \"ticks\": \"\"}}, \"type\": \"scatter3d\"}], \"scattercarpet\": [{\"marker\": {\"colorbar\": {\"outlinewidth\": 0, \"ticks\": \"\"}}, \"type\": \"scattercarpet\"}], \"scattergeo\": [{\"marker\": {\"colorbar\": {\"outlinewidth\": 0, \"ticks\": \"\"}}, \"type\": \"scattergeo\"}], \"scattergl\": [{\"marker\": {\"colorbar\": {\"outlinewidth\": 0, \"ticks\": \"\"}}, \"type\": \"scattergl\"}], \"scattermapbox\": [{\"marker\": {\"colorbar\": {\"outlinewidth\": 0, \"ticks\": \"\"}}, \"type\": \"scattermapbox\"}], \"scatterpolar\": [{\"marker\": {\"colorbar\": {\"outlinewidth\": 0, \"ticks\": \"\"}}, \"type\": \"scatterpolar\"}], \"scatterpolargl\": [{\"marker\": {\"colorbar\": {\"outlinewidth\": 0, \"ticks\": \"\"}}, \"type\": \"scatterpolargl\"}], \"scatterternary\": [{\"marker\": {\"colorbar\": {\"outlinewidth\": 0, \"ticks\": \"\"}}, \"type\": \"scatterternary\"}], \"surface\": [{\"colorbar\": {\"outlinewidth\": 0, \"ticks\": \"\"}, \"colorscale\": [[0.0, \"#0d0887\"], [0.1111111111111111, \"#46039f\"], [0.2222222222222222, \"#7201a8\"], [0.3333333333333333, \"#9c179e\"], [0.4444444444444444, \"#bd3786\"], [0.5555555555555556, \"#d8576b\"], [0.6666666666666666, \"#ed7953\"], [0.7777777777777778, \"#fb9f3a\"], [0.8888888888888888, \"#fdca26\"], [1.0, \"#f0f921\"]], \"type\": \"surface\"}], \"table\": [{\"cells\": {\"fill\": {\"color\": \"#EBF0F8\"}, \"line\": {\"color\": \"white\"}}, \"header\": {\"fill\": {\"color\": \"#C8D4E3\"}, \"line\": {\"color\": \"white\"}}, \"type\": \"table\"}]}, \"layout\": {\"annotationdefaults\": {\"arrowcolor\": \"#2a3f5f\", \"arrowhead\": 0, \"arrowwidth\": 1}, \"coloraxis\": {\"colorbar\": {\"outlinewidth\": 0, \"ticks\": \"\"}}, \"colorscale\": {\"diverging\": [[0, \"#8e0152\"], [0.1, \"#c51b7d\"], [0.2, \"#de77ae\"], [0.3, \"#f1b6da\"], [0.4, \"#fde0ef\"], [0.5, \"#f7f7f7\"], [0.6, \"#e6f5d0\"], [0.7, \"#b8e186\"], [0.8, \"#7fbc41\"], [0.9, \"#4d9221\"], [1, \"#276419\"]], \"sequential\": [[0.0, \"#0d0887\"], [0.1111111111111111, \"#46039f\"], [0.2222222222222222, \"#7201a8\"], [0.3333333333333333, \"#9c179e\"], [0.4444444444444444, \"#bd3786\"], [0.5555555555555556, \"#d8576b\"], [0.6666666666666666, \"#ed7953\"], [0.7777777777777778, \"#fb9f3a\"], [0.8888888888888888, \"#fdca26\"], [1.0, \"#f0f921\"]], \"sequentialminus\": [[0.0, \"#0d0887\"], [0.1111111111111111, \"#46039f\"], [0.2222222222222222, \"#7201a8\"], [0.3333333333333333, \"#9c179e\"], [0.4444444444444444, \"#bd3786\"], [0.5555555555555556, \"#d8576b\"], [0.6666666666666666, \"#ed7953\"], [0.7777777777777778, \"#fb9f3a\"], [0.8888888888888888, \"#fdca26\"], [1.0, \"#f0f921\"]]}, \"colorway\": [\"#636efa\", \"#EF553B\", \"#00cc96\", \"#ab63fa\", \"#FFA15A\", \"#19d3f3\", \"#FF6692\", \"#B6E880\", \"#FF97FF\", \"#FECB52\"], \"font\": {\"color\": \"#2a3f5f\"}, \"geo\": {\"bgcolor\": \"white\", \"lakecolor\": \"white\", \"landcolor\": \"#E5ECF6\", \"showlakes\": true, \"showland\": true, \"subunitcolor\": \"white\"}, \"hoverlabel\": {\"align\": \"left\"}, \"hovermode\": \"closest\", \"mapbox\": {\"style\": \"light\"}, \"paper_bgcolor\": \"white\", \"plot_bgcolor\": \"#E5ECF6\", \"polar\": {\"angularaxis\": {\"gridcolor\": \"white\", \"linecolor\": \"white\", \"ticks\": \"\"}, \"bgcolor\": \"#E5ECF6\", \"radialaxis\": {\"gridcolor\": \"white\", \"linecolor\": \"white\", \"ticks\": \"\"}}, \"scene\": {\"xaxis\": {\"backgroundcolor\": \"#E5ECF6\", \"gridcolor\": \"white\", \"gridwidth\": 2, \"linecolor\": \"white\", \"showbackground\": true, \"ticks\": \"\", \"zerolinecolor\": \"white\"}, \"yaxis\": {\"backgroundcolor\": \"#E5ECF6\", \"gridcolor\": \"white\", \"gridwidth\": 2, \"linecolor\": \"white\", \"showbackground\": true, \"ticks\": \"\", \"zerolinecolor\": \"white\"}, \"zaxis\": {\"backgroundcolor\": \"#E5ECF6\", \"gridcolor\": \"white\", \"gridwidth\": 2, \"linecolor\": \"white\", \"showbackground\": true, \"ticks\": \"\", \"zerolinecolor\": \"white\"}}, \"shapedefaults\": {\"line\": {\"color\": \"#2a3f5f\"}}, \"ternary\": {\"aaxis\": {\"gridcolor\": \"white\", \"linecolor\": \"white\", \"ticks\": \"\"}, \"baxis\": {\"gridcolor\": \"white\", \"linecolor\": \"white\", \"ticks\": \"\"}, \"bgcolor\": \"#E5ECF6\", \"caxis\": {\"gridcolor\": \"white\", \"linecolor\": \"white\", \"ticks\": \"\"}}, \"title\": {\"x\": 0.05}, \"xaxis\": {\"automargin\": true, \"gridcolor\": \"white\", \"linecolor\": \"white\", \"ticks\": \"\", \"title\": {\"standoff\": 15}, \"zerolinecolor\": \"white\", \"zerolinewidth\": 2}, \"yaxis\": {\"automargin\": true, \"gridcolor\": \"white\", \"linecolor\": \"white\", \"ticks\": \"\", \"title\": {\"standoff\": 15}, \"zerolinecolor\": \"white\", \"zerolinewidth\": 2}}}, \"title\": {\"text\": \"Presion de gas real\"}, \"xaxis\": {\"title\": {\"text\": \"v\"}}, \"yaxis\": {\"title\": {\"text\": \"y\"}}},\n",
              "                        {\"responsive\": true}\n",
              "                    ).then(function(){\n",
              "                            \n",
              "var gd = document.getElementById('aa36d4a9-f451-4e78-95aa-4978c67b4eca');\n",
              "var x = new MutationObserver(function (mutations, observer) {{\n",
              "        var display = window.getComputedStyle(gd).display;\n",
              "        if (!display || display === 'none') {{\n",
              "            console.log([gd, 'removed!']);\n",
              "            Plotly.purge(gd);\n",
              "            observer.disconnect();\n",
              "        }}\n",
              "}});\n",
              "\n",
              "// Listen for the removal of the full notebook cells\n",
              "var notebookContainer = gd.closest('#notebook-container');\n",
              "if (notebookContainer) {{\n",
              "    x.observe(notebookContainer, {childList: true});\n",
              "}}\n",
              "\n",
              "// Listen for the clearing of the current output cell\n",
              "var outputEl = gd.closest('.output');\n",
              "if (outputEl) {{\n",
              "    x.observe(outputEl, {childList: true});\n",
              "}}\n",
              "\n",
              "                        })\n",
              "                };\n",
              "                \n",
              "            </script>\n",
              "        </div>\n",
              "</body>\n",
              "</html>"
            ]
          },
          "metadata": {}
        }
      ]
    },
    {
      "cell_type": "code",
      "metadata": {
        "id": "EkknozVyxOtd",
        "colab": {
          "base_uri": "https://localhost:8080/",
          "height": 309
        },
        "outputId": "fcc7585b-7806-4b5d-8387-8b0cf23f4274"
      },
      "source": [
        "#Hacer la llamada a la función\n",
        "r,t=muller()  # <------ Escriba los parametros para el metodo de muller\n",
        "print(r)\n",
        "t"
      ],
      "execution_count": null,
      "outputs": [
        {
          "output_type": "stream",
          "name": "stdout",
          "text": [
            "(4.705535193345068-0j)\n"
          ]
        },
        {
          "output_type": "execute_result",
          "data": {
            "text/html": [
              "<div>\n",
              "<style scoped>\n",
              "    .dataframe tbody tr th:only-of-type {\n",
              "        vertical-align: middle;\n",
              "    }\n",
              "\n",
              "    .dataframe tbody tr th {\n",
              "        vertical-align: top;\n",
              "    }\n",
              "\n",
              "    .dataframe thead th {\n",
              "        text-align: right;\n",
              "    }\n",
              "</style>\n",
              "<table border=\"1\" class=\"dataframe\">\n",
              "  <thead>\n",
              "    <tr style=\"text-align: right;\">\n",
              "      <th></th>\n",
              "      <th>x0</th>\n",
              "      <th>x1</th>\n",
              "      <th>x2</th>\n",
              "      <th>x3</th>\n",
              "      <th>f(x0)</th>\n",
              "      <th>f(x1)</th>\n",
              "      <th>f(x2)</th>\n",
              "      <th>f(x3)</th>\n",
              "    </tr>\n",
              "  </thead>\n",
              "  <tbody>\n",
              "    <tr>\n",
              "      <th>0</th>\n",
              "      <td>(1+0j)</td>\n",
              "      <td>(2+0j)</td>\n",
              "      <td>(3+0j)</td>\n",
              "      <td>(-3.0992804037579686+0j)</td>\n",
              "      <td>(-26.91156512+0j)</td>\n",
              "      <td>(-23.17594128+0j)</td>\n",
              "      <td>(-15.400307235555559+0j)</td>\n",
              "      <td>(-85.80977075263823+0j)</td>\n",
              "    </tr>\n",
              "    <tr>\n",
              "      <th>1</th>\n",
              "      <td>(2+0j)</td>\n",
              "      <td>(3+0j)</td>\n",
              "      <td>(-3.0992804037579686+0j)</td>\n",
              "      <td>(6.409118893383086-0j)</td>\n",
              "      <td>(-23.17594128+0j)</td>\n",
              "      <td>(-15.400307235555559+0j)</td>\n",
              "      <td>(-85.80977075263823+0j)</td>\n",
              "      <td>(16.24974420063677+0j)</td>\n",
              "    </tr>\n",
              "    <tr>\n",
              "      <th>2</th>\n",
              "      <td>(3+0j)</td>\n",
              "      <td>(-3.0992804037579686+0j)</td>\n",
              "      <td>(6.409118893383086-0j)</td>\n",
              "      <td>(4.5847940713729285-0j)</td>\n",
              "      <td>(-15.400307235555559+0j)</td>\n",
              "      <td>(-85.80977075263823+0j)</td>\n",
              "      <td>(16.24974420063677+0j)</td>\n",
              "      <td>(-1.1299540224306028+0j)</td>\n",
              "    </tr>\n",
              "    <tr>\n",
              "      <th>3</th>\n",
              "      <td>(-3.0992804037579686+0j)</td>\n",
              "      <td>(6.409118893383086-0j)</td>\n",
              "      <td>(4.5847940713729285-0j)</td>\n",
              "      <td>(4.700153402841636-0j)</td>\n",
              "      <td>(-85.80977075263823+0j)</td>\n",
              "      <td>(16.24974420063677+0j)</td>\n",
              "      <td>(-1.1299540224306028+0j)</td>\n",
              "      <td>(-0.05044854752944872+0j)</td>\n",
              "    </tr>\n",
              "    <tr>\n",
              "      <th>4</th>\n",
              "      <td>(6.409118893383086-0j)</td>\n",
              "      <td>(4.5847940713729285-0j)</td>\n",
              "      <td>(4.700153402841636-0j)</td>\n",
              "      <td>(4.705537627027886-0j)</td>\n",
              "      <td>(16.24974420063677+0j)</td>\n",
              "      <td>(-1.1299540224306028+0j)</td>\n",
              "      <td>(-0.05044854752944872+0j)</td>\n",
              "      <td>(2.2814936215809212e-05+0j)</td>\n",
              "    </tr>\n",
              "    <tr>\n",
              "      <th>5</th>\n",
              "      <td>(4.5847940713729285-0j)</td>\n",
              "      <td>(4.700153402841636-0j)</td>\n",
              "      <td>(4.705537627027886-0j)</td>\n",
              "      <td>(4.705535193345068-0j)</td>\n",
              "      <td>(-1.1299540224306028+0j)</td>\n",
              "      <td>(-0.05044854752944872+0j)</td>\n",
              "      <td>(2.2814936215809212e-05+0j)</td>\n",
              "      <td>(4.4146020172775025e-11+0j)</td>\n",
              "    </tr>\n",
              "  </tbody>\n",
              "</table>\n",
              "</div>"
            ],
            "text/plain": [
              "                         x0  ...                        f(x3)\n",
              "0                    (1+0j)  ...      (-85.80977075263823+0j)\n",
              "1                    (2+0j)  ...       (16.24974420063677+0j)\n",
              "2                    (3+0j)  ...     (-1.1299540224306028+0j)\n",
              "3  (-3.0992804037579686+0j)  ...    (-0.05044854752944872+0j)\n",
              "4    (6.409118893383086-0j)  ...  (2.2814936215809212e-05+0j)\n",
              "5   (4.5847940713729285-0j)  ...  (4.4146020172775025e-11+0j)\n",
              "\n",
              "[6 rows x 8 columns]"
            ]
          },
          "metadata": {},
          "execution_count": 43
        }
      ]
    },
    {
      "cell_type": "markdown",
      "metadata": {
        "id": "59qcgIwm9ePI"
      },
      "source": [
        "##Punto fijo"
      ]
    },
    {
      "cell_type": "code",
      "metadata": {
        "id": "-mUsAa-W9hio"
      },
      "source": [
        "#Definición de la función para el método de Punto Fijo\n",
        "def puntofijo(x,g,tol=1e-5):\n",
        "  tabla=pd.DataFrame(columns=['x','g(x)'])\n",
        "  while np.abs(x-g(x))>tol:\n",
        "    x=g(x)\n",
        "    tabla=tabla.append({'x':x,\n",
        "                        'g(x)':g(x)},\n",
        "                       ignore_index=True)\n",
        "    \n",
        "  return x,tabla"
      ],
      "execution_count": null,
      "outputs": []
    },
    {
      "cell_type": "markdown",
      "metadata": {
        "id": "27tKOeHWxkzv"
      },
      "source": [
        "**Problema**: Calcular el volumen de $2 moles$ de $CO_2$ a una presión de $10 atm$ y $300K$, usando la ecuación de Van der Waals\n",
        "\n",
        "$$\n",
        "\\left(P+\\frac{an^2}{V^2}\\right) (V-nb) = nRT\n",
        "$$\n",
        "\n",
        "Donde $a = 3.592$, $b = 0.04267$, $n = 2$, $R = 0.082$, $T = 300$ y $P = 10$.\n",
        "\n",
        "Despejando $V$\n",
        "\n",
        "$$\n",
        "V=\\frac{nRT}{\\left(P+\\frac{an^2}{V^2}\\right)}+nb\n",
        "$$\n"
      ]
    },
    {
      "cell_type": "code",
      "metadata": {
        "id": "UVJ6v0zKx2v7"
      },
      "source": [
        "#definir la función a resolver\n",
        "\n",
        "n=2\n",
        "R =0.082\n",
        "a =3.592\n",
        "b =0.04267\n",
        "T =300\n",
        "P =10\n",
        "g=lambda v:  # <------ Escriba la definicion para g(v)"
      ],
      "execution_count": 4,
      "outputs": []
    },
    {
      "cell_type": "code",
      "metadata": {
        "id": "JsUGRbaOx7Eb",
        "colab": {
          "base_uri": "https://localhost:8080/",
          "height": 542
        },
        "outputId": "d093dea5-99a4-4839-a9d1-cae708af837a"
      },
      "source": [
        "#Graficar la función para identificar el comportamiento y ubicar los puntos iniciales\n",
        "x=np.linspace(.2,6)\n",
        "\n",
        "traza1=go.Scatter(x=,y=, # <----- Escriba los parametros para x y\n",
        "                  mode='lines+markers',name='x',\n",
        "                  line=dict(color='salmon'))\n",
        "\n",
        "traza2=go.Scatter(x=,y=, # <------- Escriba los paramteros para x y\n",
        "                  mode='lines+markers',name='g(x)',\n",
        "                  line=dict(color='royalblue'))\n",
        "\n",
        "data=[traza1,traza2]\n",
        "\n",
        "layout=go.Layout(title='Presion de gas real',\n",
        "                 xaxis=dict(title='x'),\n",
        "                 yaxis=dict(title='y'))\n",
        "\n",
        "fig=go.Figure(data=data,layout=layout)\n",
        "fig.show()"
      ],
      "execution_count": 7,
      "outputs": [
        {
          "output_type": "display_data",
          "data": {
            "text/html": [
              "<html>\n",
              "<head><meta charset=\"utf-8\" /></head>\n",
              "<body>\n",
              "    <div>\n",
              "            <script src=\"https://cdnjs.cloudflare.com/ajax/libs/mathjax/2.7.5/MathJax.js?config=TeX-AMS-MML_SVG\"></script><script type=\"text/javascript\">if (window.MathJax) {MathJax.Hub.Config({SVG: {font: \"STIX-Web\"}});}</script>\n",
              "                <script type=\"text/javascript\">window.PlotlyConfig = {MathJaxConfig: 'local'};</script>\n",
              "        <script src=\"https://cdn.plot.ly/plotly-latest.min.js\"></script>    \n",
              "            <div id=\"445f1d3a-3e9f-4998-a271-b01cb0e4c7ec\" class=\"plotly-graph-div\" style=\"height:525px; width:100%;\"></div>\n",
              "            <script type=\"text/javascript\">\n",
              "                \n",
              "                    window.PLOTLYENV=window.PLOTLYENV || {};\n",
              "                    \n",
              "                if (document.getElementById(\"445f1d3a-3e9f-4998-a271-b01cb0e4c7ec\")) {\n",
              "                    Plotly.newPlot(\n",
              "                        '445f1d3a-3e9f-4998-a271-b01cb0e4c7ec',\n",
              "                        [{\"line\": {\"color\": \"salmon\"}, \"mode\": \"lines+markers\", \"name\": \"x\", \"type\": \"scatter\", \"x\": [0.2, 0.3183673469387755, 0.43673469387755104, 0.5551020408163265, 0.673469387755102, 0.7918367346938775, 0.9102040816326531, 1.0285714285714285, 1.146938775510204, 1.2653061224489794, 1.383673469387755, 1.5020408163265304, 1.620408163265306, 1.7387755102040814, 1.857142857142857, 1.9755102040816324, 2.093877551020408, 2.2122448979591836, 2.330612244897959, 2.4489795918367347, 2.5673469387755103, 2.6857142857142855, 2.804081632653061, 2.9224489795918367, 3.0408163265306123, 3.159183673469388, 3.277551020408163, 3.3959183673469386, 3.5142857142857142, 3.63265306122449, 3.751020408163265, 3.8693877551020406, 3.987755102040816, 4.106122448979591, 4.224489795918367, 4.3428571428571425, 4.461224489795918, 4.579591836734694, 4.697959183673469, 4.816326530612245, 4.9346938775510205, 5.053061224489796, 5.171428571428571, 5.289795918367346, 5.408163265306122, 5.526530612244898, 5.644897959183673, 5.763265306122449, 5.881632653061224, 6.0], \"y\": [0.2, 0.3183673469387755, 0.43673469387755104, 0.5551020408163265, 0.673469387755102, 0.7918367346938775, 0.9102040816326531, 1.0285714285714285, 1.146938775510204, 1.2653061224489794, 1.383673469387755, 1.5020408163265304, 1.620408163265306, 1.7387755102040814, 1.857142857142857, 1.9755102040816324, 2.093877551020408, 2.2122448979591836, 2.330612244897959, 2.4489795918367347, 2.5673469387755103, 2.6857142857142855, 2.804081632653061, 2.9224489795918367, 3.0408163265306123, 3.159183673469388, 3.277551020408163, 3.3959183673469386, 3.5142857142857142, 3.63265306122449, 3.751020408163265, 3.8693877551020406, 3.987755102040816, 4.106122448979591, 4.224489795918367, 4.3428571428571425, 4.461224489795918, 4.579591836734694, 4.697959183673469, 4.816326530612245, 4.9346938775510205, 5.053061224489796, 5.171428571428571, 5.289795918367346, 5.408163265306122, 5.526530612244898, 5.644897959183673, 5.763265306122449, 5.881632653061224, 6.0]}, {\"line\": {\"color\": \"royalblue\"}, \"mode\": \"lines+markers\", \"name\": \"g(x)\", \"type\": \"scatter\", \"x\": [0.2, 0.3183673469387755, 0.43673469387755104, 0.5551020408163265, 0.673469387755102, 0.7918367346938775, 0.9102040816326531, 1.0285714285714285, 1.146938775510204, 1.2653061224489794, 1.383673469387755, 1.5020408163265304, 1.620408163265306, 1.7387755102040814, 1.857142857142857, 1.9755102040816324, 2.093877551020408, 2.2122448979591836, 2.330612244897959, 2.4489795918367347, 2.5673469387755103, 2.6857142857142855, 2.804081632653061, 2.9224489795918367, 3.0408163265306123, 3.159183673469388, 3.277551020408163, 3.3959183673469386, 3.5142857142857142, 3.63265306122449, 3.751020408163265, 3.8693877551020406, 3.987755102040816, 4.106122448979591, 4.224489795918367, 4.3428571428571425, 4.461224489795918, 4.579591836734694, 4.697959183673469, 4.816326530612245, 4.9346938775510205, 5.053061224489796, 5.171428571428571, 5.289795918367346, 5.408163265306122, 5.526530612244898, 5.644897959183673, 5.763265306122449, 5.881632653061224, 6.0], \"y\": [0.21860110509209105, 0.40954615562443086, 0.6619332679666039, 0.9541617443740649, 1.2658130317341525, 1.5800868483996435, 1.8847179937946468, 2.171777527813408, 2.436892968277216, 2.67830827664997, 2.8960254813453563, 3.0911248695472033, 3.265274363713996, 3.420399714645066, 3.558476532845008, 3.6814080427002915, 3.7909599295664282, 3.8887314661568104, 3.9761486184670547, 4.054469708254625, 4.1247976364830015, 4.188094981087346, 4.2451997897017515, 4.296840846418548, 4.343651785950893, 4.386183786942601, 4.42491678467381, 4.460269258485051, 4.492606707245155, 4.522248950198005, 4.549476394981669, 4.57453540842322, 4.597642914261067, 4.618990328415364, 4.638746928628374, 4.65706274220482, 4.674071023667459, 4.6898903835798755, 4.704626620584695, 4.7183743007801375, 4.731218121789008, 4.74323409312536, 4.7544905596001055, 4.76504909040169, 4.774965253028322, 4.784289288334797, 4.793066700503787, 4.8013387736851865, 4.809143025305688, 4.816513604581589]}],\n",
              "                        {\"template\": {\"data\": {\"bar\": [{\"error_x\": {\"color\": \"#2a3f5f\"}, \"error_y\": {\"color\": \"#2a3f5f\"}, \"marker\": {\"line\": {\"color\": \"#E5ECF6\", \"width\": 0.5}}, \"type\": \"bar\"}], \"barpolar\": [{\"marker\": {\"line\": {\"color\": \"#E5ECF6\", \"width\": 0.5}}, \"type\": \"barpolar\"}], \"carpet\": [{\"aaxis\": {\"endlinecolor\": \"#2a3f5f\", \"gridcolor\": \"white\", \"linecolor\": \"white\", \"minorgridcolor\": \"white\", \"startlinecolor\": \"#2a3f5f\"}, \"baxis\": {\"endlinecolor\": \"#2a3f5f\", \"gridcolor\": \"white\", \"linecolor\": \"white\", \"minorgridcolor\": \"white\", \"startlinecolor\": \"#2a3f5f\"}, \"type\": \"carpet\"}], \"choropleth\": [{\"colorbar\": {\"outlinewidth\": 0, \"ticks\": \"\"}, \"type\": \"choropleth\"}], \"contour\": [{\"colorbar\": {\"outlinewidth\": 0, \"ticks\": \"\"}, \"colorscale\": [[0.0, \"#0d0887\"], [0.1111111111111111, \"#46039f\"], [0.2222222222222222, \"#7201a8\"], [0.3333333333333333, \"#9c179e\"], [0.4444444444444444, \"#bd3786\"], [0.5555555555555556, \"#d8576b\"], [0.6666666666666666, \"#ed7953\"], [0.7777777777777778, \"#fb9f3a\"], [0.8888888888888888, \"#fdca26\"], [1.0, \"#f0f921\"]], \"type\": \"contour\"}], \"contourcarpet\": [{\"colorbar\": {\"outlinewidth\": 0, \"ticks\": \"\"}, \"type\": \"contourcarpet\"}], \"heatmap\": [{\"colorbar\": {\"outlinewidth\": 0, \"ticks\": \"\"}, \"colorscale\": [[0.0, \"#0d0887\"], [0.1111111111111111, \"#46039f\"], [0.2222222222222222, \"#7201a8\"], [0.3333333333333333, \"#9c179e\"], [0.4444444444444444, \"#bd3786\"], [0.5555555555555556, \"#d8576b\"], [0.6666666666666666, \"#ed7953\"], [0.7777777777777778, \"#fb9f3a\"], [0.8888888888888888, \"#fdca26\"], [1.0, \"#f0f921\"]], \"type\": \"heatmap\"}], \"heatmapgl\": [{\"colorbar\": {\"outlinewidth\": 0, \"ticks\": \"\"}, \"colorscale\": [[0.0, \"#0d0887\"], [0.1111111111111111, \"#46039f\"], [0.2222222222222222, \"#7201a8\"], [0.3333333333333333, \"#9c179e\"], [0.4444444444444444, \"#bd3786\"], [0.5555555555555556, \"#d8576b\"], [0.6666666666666666, \"#ed7953\"], [0.7777777777777778, \"#fb9f3a\"], [0.8888888888888888, \"#fdca26\"], [1.0, \"#f0f921\"]], \"type\": \"heatmapgl\"}], \"histogram\": [{\"marker\": {\"colorbar\": {\"outlinewidth\": 0, \"ticks\": \"\"}}, \"type\": \"histogram\"}], \"histogram2d\": [{\"colorbar\": {\"outlinewidth\": 0, \"ticks\": \"\"}, \"colorscale\": [[0.0, \"#0d0887\"], [0.1111111111111111, \"#46039f\"], [0.2222222222222222, \"#7201a8\"], [0.3333333333333333, \"#9c179e\"], [0.4444444444444444, \"#bd3786\"], [0.5555555555555556, \"#d8576b\"], [0.6666666666666666, \"#ed7953\"], [0.7777777777777778, \"#fb9f3a\"], [0.8888888888888888, \"#fdca26\"], [1.0, \"#f0f921\"]], \"type\": \"histogram2d\"}], \"histogram2dcontour\": [{\"colorbar\": {\"outlinewidth\": 0, \"ticks\": \"\"}, \"colorscale\": [[0.0, \"#0d0887\"], [0.1111111111111111, \"#46039f\"], [0.2222222222222222, \"#7201a8\"], [0.3333333333333333, \"#9c179e\"], [0.4444444444444444, \"#bd3786\"], [0.5555555555555556, \"#d8576b\"], [0.6666666666666666, \"#ed7953\"], [0.7777777777777778, \"#fb9f3a\"], [0.8888888888888888, \"#fdca26\"], [1.0, \"#f0f921\"]], \"type\": \"histogram2dcontour\"}], \"mesh3d\": [{\"colorbar\": {\"outlinewidth\": 0, \"ticks\": \"\"}, \"type\": \"mesh3d\"}], \"parcoords\": [{\"line\": {\"colorbar\": {\"outlinewidth\": 0, \"ticks\": \"\"}}, \"type\": \"parcoords\"}], \"pie\": [{\"automargin\": true, \"type\": \"pie\"}], \"scatter\": [{\"marker\": {\"colorbar\": {\"outlinewidth\": 0, \"ticks\": \"\"}}, \"type\": \"scatter\"}], \"scatter3d\": [{\"line\": {\"colorbar\": {\"outlinewidth\": 0, \"ticks\": \"\"}}, \"marker\": {\"colorbar\": {\"outlinewidth\": 0, \"ticks\": \"\"}}, \"type\": \"scatter3d\"}], \"scattercarpet\": [{\"marker\": {\"colorbar\": {\"outlinewidth\": 0, \"ticks\": \"\"}}, \"type\": \"scattercarpet\"}], \"scattergeo\": [{\"marker\": {\"colorbar\": {\"outlinewidth\": 0, \"ticks\": \"\"}}, \"type\": \"scattergeo\"}], \"scattergl\": [{\"marker\": {\"colorbar\": {\"outlinewidth\": 0, \"ticks\": \"\"}}, \"type\": \"scattergl\"}], \"scattermapbox\": [{\"marker\": {\"colorbar\": {\"outlinewidth\": 0, \"ticks\": \"\"}}, \"type\": \"scattermapbox\"}], \"scatterpolar\": [{\"marker\": {\"colorbar\": {\"outlinewidth\": 0, \"ticks\": \"\"}}, \"type\": \"scatterpolar\"}], \"scatterpolargl\": [{\"marker\": {\"colorbar\": {\"outlinewidth\": 0, \"ticks\": \"\"}}, \"type\": \"scatterpolargl\"}], \"scatterternary\": [{\"marker\": {\"colorbar\": {\"outlinewidth\": 0, \"ticks\": \"\"}}, \"type\": \"scatterternary\"}], \"surface\": [{\"colorbar\": {\"outlinewidth\": 0, \"ticks\": \"\"}, \"colorscale\": [[0.0, \"#0d0887\"], [0.1111111111111111, \"#46039f\"], [0.2222222222222222, \"#7201a8\"], [0.3333333333333333, \"#9c179e\"], [0.4444444444444444, \"#bd3786\"], [0.5555555555555556, \"#d8576b\"], [0.6666666666666666, \"#ed7953\"], [0.7777777777777778, \"#fb9f3a\"], [0.8888888888888888, \"#fdca26\"], [1.0, \"#f0f921\"]], \"type\": \"surface\"}], \"table\": [{\"cells\": {\"fill\": {\"color\": \"#EBF0F8\"}, \"line\": {\"color\": \"white\"}}, \"header\": {\"fill\": {\"color\": \"#C8D4E3\"}, \"line\": {\"color\": \"white\"}}, \"type\": \"table\"}]}, \"layout\": {\"annotationdefaults\": {\"arrowcolor\": \"#2a3f5f\", \"arrowhead\": 0, \"arrowwidth\": 1}, \"coloraxis\": {\"colorbar\": {\"outlinewidth\": 0, \"ticks\": \"\"}}, \"colorscale\": {\"diverging\": [[0, \"#8e0152\"], [0.1, \"#c51b7d\"], [0.2, \"#de77ae\"], [0.3, \"#f1b6da\"], [0.4, \"#fde0ef\"], [0.5, \"#f7f7f7\"], [0.6, \"#e6f5d0\"], [0.7, \"#b8e186\"], [0.8, \"#7fbc41\"], [0.9, \"#4d9221\"], [1, \"#276419\"]], \"sequential\": [[0.0, \"#0d0887\"], [0.1111111111111111, \"#46039f\"], [0.2222222222222222, \"#7201a8\"], [0.3333333333333333, \"#9c179e\"], [0.4444444444444444, \"#bd3786\"], [0.5555555555555556, \"#d8576b\"], [0.6666666666666666, \"#ed7953\"], [0.7777777777777778, \"#fb9f3a\"], [0.8888888888888888, \"#fdca26\"], [1.0, \"#f0f921\"]], \"sequentialminus\": [[0.0, \"#0d0887\"], [0.1111111111111111, \"#46039f\"], [0.2222222222222222, \"#7201a8\"], [0.3333333333333333, \"#9c179e\"], [0.4444444444444444, \"#bd3786\"], [0.5555555555555556, \"#d8576b\"], [0.6666666666666666, \"#ed7953\"], [0.7777777777777778, \"#fb9f3a\"], [0.8888888888888888, \"#fdca26\"], [1.0, \"#f0f921\"]]}, \"colorway\": [\"#636efa\", \"#EF553B\", \"#00cc96\", \"#ab63fa\", \"#FFA15A\", \"#19d3f3\", \"#FF6692\", \"#B6E880\", \"#FF97FF\", \"#FECB52\"], \"font\": {\"color\": \"#2a3f5f\"}, \"geo\": {\"bgcolor\": \"white\", \"lakecolor\": \"white\", \"landcolor\": \"#E5ECF6\", \"showlakes\": true, \"showland\": true, \"subunitcolor\": \"white\"}, \"hoverlabel\": {\"align\": \"left\"}, \"hovermode\": \"closest\", \"mapbox\": {\"style\": \"light\"}, \"paper_bgcolor\": \"white\", \"plot_bgcolor\": \"#E5ECF6\", \"polar\": {\"angularaxis\": {\"gridcolor\": \"white\", \"linecolor\": \"white\", \"ticks\": \"\"}, \"bgcolor\": \"#E5ECF6\", \"radialaxis\": {\"gridcolor\": \"white\", \"linecolor\": \"white\", \"ticks\": \"\"}}, \"scene\": {\"xaxis\": {\"backgroundcolor\": \"#E5ECF6\", \"gridcolor\": \"white\", \"gridwidth\": 2, \"linecolor\": \"white\", \"showbackground\": true, \"ticks\": \"\", \"zerolinecolor\": \"white\"}, \"yaxis\": {\"backgroundcolor\": \"#E5ECF6\", \"gridcolor\": \"white\", \"gridwidth\": 2, \"linecolor\": \"white\", \"showbackground\": true, \"ticks\": \"\", \"zerolinecolor\": \"white\"}, \"zaxis\": {\"backgroundcolor\": \"#E5ECF6\", \"gridcolor\": \"white\", \"gridwidth\": 2, \"linecolor\": \"white\", \"showbackground\": true, \"ticks\": \"\", \"zerolinecolor\": \"white\"}}, \"shapedefaults\": {\"line\": {\"color\": \"#2a3f5f\"}}, \"ternary\": {\"aaxis\": {\"gridcolor\": \"white\", \"linecolor\": \"white\", \"ticks\": \"\"}, \"baxis\": {\"gridcolor\": \"white\", \"linecolor\": \"white\", \"ticks\": \"\"}, \"bgcolor\": \"#E5ECF6\", \"caxis\": {\"gridcolor\": \"white\", \"linecolor\": \"white\", \"ticks\": \"\"}}, \"title\": {\"x\": 0.05}, \"xaxis\": {\"automargin\": true, \"gridcolor\": \"white\", \"linecolor\": \"white\", \"ticks\": \"\", \"title\": {\"standoff\": 15}, \"zerolinecolor\": \"white\", \"zerolinewidth\": 2}, \"yaxis\": {\"automargin\": true, \"gridcolor\": \"white\", \"linecolor\": \"white\", \"ticks\": \"\", \"title\": {\"standoff\": 15}, \"zerolinecolor\": \"white\", \"zerolinewidth\": 2}}}, \"title\": {\"text\": \"Presion de gas real\"}, \"xaxis\": {\"title\": {\"text\": \"x\"}}, \"yaxis\": {\"title\": {\"text\": \"y\"}}},\n",
              "                        {\"responsive\": true}\n",
              "                    ).then(function(){\n",
              "                            \n",
              "var gd = document.getElementById('445f1d3a-3e9f-4998-a271-b01cb0e4c7ec');\n",
              "var x = new MutationObserver(function (mutations, observer) {{\n",
              "        var display = window.getComputedStyle(gd).display;\n",
              "        if (!display || display === 'none') {{\n",
              "            console.log([gd, 'removed!']);\n",
              "            Plotly.purge(gd);\n",
              "            observer.disconnect();\n",
              "        }}\n",
              "}});\n",
              "\n",
              "// Listen for the removal of the full notebook cells\n",
              "var notebookContainer = gd.closest('#notebook-container');\n",
              "if (notebookContainer) {{\n",
              "    x.observe(notebookContainer, {childList: true});\n",
              "}}\n",
              "\n",
              "// Listen for the clearing of the current output cell\n",
              "var outputEl = gd.closest('.output');\n",
              "if (outputEl) {{\n",
              "    x.observe(outputEl, {childList: true});\n",
              "}}\n",
              "\n",
              "                        })\n",
              "                };\n",
              "                \n",
              "            </script>\n",
              "        </div>\n",
              "</body>\n",
              "</html>"
            ]
          },
          "metadata": {}
        }
      ]
    },
    {
      "cell_type": "code",
      "metadata": {
        "id": "r4AHgWY7x-SM",
        "colab": {
          "base_uri": "https://localhost:8080/",
          "height": 255
        },
        "outputId": "4a8d6d32-8728-4317-98be-dee6f712631e"
      },
      "source": [
        "#Hacer la llamada a la función\n",
        "xr,tabla=puntofijo()  # <------- Escriba los parametros para el metodo del punto fijo\n",
        "print(xr)\n",
        "tabla"
      ],
      "execution_count": null,
      "outputs": [
        {
          "output_type": "stream",
          "name": "stdout",
          "text": [
            "4.705532508404432\n"
          ]
        },
        {
          "output_type": "execute_result",
          "data": {
            "text/html": [
              "<div>\n",
              "<style scoped>\n",
              "    .dataframe tbody tr th:only-of-type {\n",
              "        vertical-align: middle;\n",
              "    }\n",
              "\n",
              "    .dataframe tbody tr th {\n",
              "        vertical-align: top;\n",
              "    }\n",
              "\n",
              "    .dataframe thead th {\n",
              "        text-align: right;\n",
              "    }\n",
              "</style>\n",
              "<table border=\"1\" class=\"dataframe\">\n",
              "  <thead>\n",
              "    <tr style=\"text-align: right;\">\n",
              "      <th></th>\n",
              "      <th>x</th>\n",
              "      <th>g(x)</th>\n",
              "    </tr>\n",
              "  </thead>\n",
              "  <tbody>\n",
              "    <tr>\n",
              "      <th>0</th>\n",
              "      <td>4.599930</td>\n",
              "      <td>4.692497</td>\n",
              "    </tr>\n",
              "    <tr>\n",
              "      <th>1</th>\n",
              "      <td>4.692497</td>\n",
              "      <td>4.703969</td>\n",
              "    </tr>\n",
              "    <tr>\n",
              "      <th>2</th>\n",
              "      <td>4.703969</td>\n",
              "      <td>4.705348</td>\n",
              "    </tr>\n",
              "    <tr>\n",
              "      <th>3</th>\n",
              "      <td>4.705348</td>\n",
              "      <td>4.705513</td>\n",
              "    </tr>\n",
              "    <tr>\n",
              "      <th>4</th>\n",
              "      <td>4.705513</td>\n",
              "      <td>4.705533</td>\n",
              "    </tr>\n",
              "    <tr>\n",
              "      <th>5</th>\n",
              "      <td>4.705533</td>\n",
              "      <td>4.705535</td>\n",
              "    </tr>\n",
              "  </tbody>\n",
              "</table>\n",
              "</div>"
            ],
            "text/plain": [
              "          x      g(x)\n",
              "0  4.599930  4.692497\n",
              "1  4.692497  4.703969\n",
              "2  4.703969  4.705348\n",
              "3  4.705348  4.705513\n",
              "4  4.705513  4.705533\n",
              "5  4.705533  4.705535"
            ]
          },
          "metadata": {},
          "execution_count": 39
        }
      ]
    },
    {
      "cell_type": "markdown",
      "metadata": {
        "id": "rXjdoAlx7LEe"
      },
      "source": [
        "##Metodos de anderson, broyden1, broyden2, diagbroyden y newton_krylov"
      ]
    },
    {
      "cell_type": "code",
      "metadata": {
        "id": "nsRO3FB93BlA"
      },
      "source": [
        "from scipy.optimize import anderson,broyden1,broyden2,diagbroyden,newton_krylov"
      ],
      "execution_count": 21,
      "outputs": []
    },
    {
      "cell_type": "code",
      "metadata": {
        "id": "QyifXFhA4SFG"
      },
      "source": [
        "f=lambda x:x**2-2"
      ],
      "execution_count": 9,
      "outputs": []
    },
    {
      "cell_type": "code",
      "metadata": {
        "colab": {
          "base_uri": "https://localhost:8080/"
        },
        "id": "Er7J9xw44V3B",
        "outputId": "d2098673-2386-490a-ff5f-a83863c9d953"
      },
      "source": [
        "r=anderson(f,1)\n",
        "print(r)"
      ],
      "execution_count": 23,
      "outputs": [
        {
          "output_type": "stream",
          "name": "stdout",
          "text": [
            "1.4142144316493963\n"
          ]
        }
      ]
    },
    {
      "cell_type": "code",
      "metadata": {
        "colab": {
          "base_uri": "https://localhost:8080/"
        },
        "id": "u4mUG7ek4eis",
        "outputId": "51debb29-8934-4f2e-fa32-138f50c66147"
      },
      "source": [
        "r=broyden1(f,1)\n",
        "print(r)"
      ],
      "execution_count": 18,
      "outputs": [
        {
          "output_type": "stream",
          "name": "stdout",
          "text": [
            "1.4142124241008873\n"
          ]
        }
      ]
    },
    {
      "cell_type": "code",
      "metadata": {
        "colab": {
          "base_uri": "https://localhost:8080/"
        },
        "id": "YFn5VQBA5xNC",
        "outputId": "29940ce8-d8ab-440e-ec2a-4b63084f3ceb"
      },
      "source": [
        "r=broyden2(f,1)\n",
        "print(r)"
      ],
      "execution_count": 19,
      "outputs": [
        {
          "output_type": "stream",
          "name": "stdout",
          "text": [
            "1.4142124241008873\n"
          ]
        }
      ]
    },
    {
      "cell_type": "code",
      "metadata": {
        "colab": {
          "base_uri": "https://localhost:8080/"
        },
        "id": "WZiyPBWt6JVN",
        "outputId": "b12f88b6-87c7-43c5-8454-feea91a97547"
      },
      "source": [
        "r=diagbroyden(f,1)\n",
        "print(r)"
      ],
      "execution_count": 22,
      "outputs": [
        {
          "output_type": "stream",
          "name": "stdout",
          "text": [
            "1.4142124241008873\n"
          ]
        }
      ]
    },
    {
      "cell_type": "code",
      "metadata": {
        "colab": {
          "base_uri": "https://localhost:8080/"
        },
        "id": "_Iu9YJIO519C",
        "outputId": "363435a7-9588-462f-8fce-1550544a2a70"
      },
      "source": [
        "r=newton_krylov(f,1)\n",
        "print(r)"
      ],
      "execution_count": 20,
      "outputs": [
        {
          "output_type": "stream",
          "name": "stdout",
          "text": [
            "1.4142156862798667\n"
          ]
        }
      ]
    },
    {
      "cell_type": "markdown",
      "metadata": {
        "id": "bMXlTyvn7ERR"
      },
      "source": [
        "##Raices complejas"
      ]
    },
    {
      "cell_type": "code",
      "metadata": {
        "id": "ibfT24Oh6afq"
      },
      "source": [
        "f=lambda x:x**2+4"
      ],
      "execution_count": 25,
      "outputs": []
    },
    {
      "cell_type": "code",
      "metadata": {
        "colab": {
          "base_uri": "https://localhost:8080/"
        },
        "id": "AZitczAW6ZtT",
        "outputId": "76231973-d132-4882-e801-de593fc82e31"
      },
      "source": [
        "r=anderson(f,1j)\n",
        "print(r)"
      ],
      "execution_count": 28,
      "outputs": [
        {
          "output_type": "stream",
          "name": "stdout",
          "text": [
            "(4.777800844585532e-08+1.9999999574699123j)\n"
          ]
        }
      ]
    },
    {
      "cell_type": "code",
      "metadata": {
        "colab": {
          "base_uri": "https://localhost:8080/"
        },
        "id": "_OE5Td9_6uWZ",
        "outputId": "81c21607-5ff1-4d95-efda-f3d36cdbfd5f"
      },
      "source": [
        "r=broyden1(f,1j)\n",
        "print(r)"
      ],
      "execution_count": 29,
      "outputs": [
        {
          "output_type": "stream",
          "name": "stdout",
          "text": [
            "(1.2954015526017915e-09+2.0000000004298144j)\n"
          ]
        }
      ]
    },
    {
      "cell_type": "code",
      "metadata": {
        "colab": {
          "base_uri": "https://localhost:8080/"
        },
        "id": "3LD1d5Po6xlv",
        "outputId": "5aa38adb-cff9-445e-d784-3ddfc253468f"
      },
      "source": [
        "r=broyden2(f,1j)\n",
        "print(r)"
      ],
      "execution_count": 30,
      "outputs": [
        {
          "output_type": "stream",
          "name": "stdout",
          "text": [
            "(1.2954015526034856e-09+2.0000000004298144j)\n"
          ]
        }
      ]
    },
    {
      "cell_type": "code",
      "metadata": {
        "id": "-KyNA84s7fft",
        "outputId": "b4cce7c7-b148-4e42-e42e-b1615113c7c5",
        "colab": {
          "base_uri": "https://localhost:8080/"
        }
      },
      "source": [
        "from scipy.optimize import newton\n",
        "\n",
        "df=lambda x:2*x\n",
        "\n",
        "r=newton(f,1j,df)\n",
        "print(r)"
      ],
      "execution_count": 35,
      "outputs": [
        {
          "output_type": "stream",
          "name": "stdout",
          "text": [
            "2j\n"
          ]
        }
      ]
    }
  ]
}