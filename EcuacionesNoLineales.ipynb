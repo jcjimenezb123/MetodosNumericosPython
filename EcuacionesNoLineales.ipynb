{
  "nbformat": 4,
  "nbformat_minor": 0,
  "metadata": {
    "colab": {
      "name": "EcuacionesNoLineales.ipynb",
      "provenance": [],
      "collapsed_sections": [],
      "authorship_tag": "ABX9TyPBoeU507SYfe7u5ZkDju0A",
      "include_colab_link": true
    },
    "kernelspec": {
      "name": "python3",
      "display_name": "Python 3"
    },
    "language_info": {
      "name": "python"
    }
  },
  "cells": [
    {
      "cell_type": "markdown",
      "metadata": {
        "id": "view-in-github",
        "colab_type": "text"
      },
      "source": [
        "<a href=\"https://colab.research.google.com/github/jcjimenezb123/MetodosNumericosPython/blob/master/EcuacionesNoLineales.ipynb\" target=\"_parent\"><img src=\"https://colab.research.google.com/assets/colab-badge.svg\" alt=\"Open In Colab\"/></a>"
      ]
    },
    {
      "cell_type": "markdown",
      "metadata": {
        "id": "vOL29YWD3w2Q"
      },
      "source": [
        "#Métodos numéricos\n",
        "\n",
        "Desarrollo de métodos para resolver ecuaciones no lineales"
      ]
    },
    {
      "cell_type": "code",
      "metadata": {
        "id": "a2jcugs-jSie"
      },
      "source": [
        "#import de bibliotecas necesarias\n",
        "import numpy as np #importa la bilbioteca para crear arreglos\n",
        "import pandas as pd #importa la biblioteca para crear las tablas de iteraciones"
      ],
      "execution_count": 1,
      "outputs": []
    },
    {
      "cell_type": "markdown",
      "metadata": {
        "id": "3RbdXNIp3-by"
      },
      "source": [
        "##Bisección"
      ]
    },
    {
      "cell_type": "markdown",
      "metadata": {
        "id": "LbrJUMO-4Dnl"
      },
      "source": [
        "Definición de la función del método de **Bisección**"
      ]
    },
    {
      "cell_type": "code",
      "metadata": {
        "id": "yjQ9DvM_3v29"
      },
      "source": [
        "#Esciba el código del método de Bisección\n",
        "def biseccion(f,x0,x1,tol=1e-5):\n",
        "  '''\n",
        "  El método de Bisección es un método cerrado para resolver ecuaciones no lineales\n",
        "  los argumentos son:\n",
        "\n",
        "  entrada\n",
        "  -------\n",
        "       f : ecuación a resolver expresada en la forma f(x)=0\n",
        "  x0, x1 : puntos que encierran la raiz f(x0)*f(x1)<0\n",
        "     tol : tolerancia (valor por defecto 1e-5)\n",
        "\n",
        "  salida\n",
        "  ------\n",
        "      x : raíz de la ecuación\n",
        "   tabla: tabla de iteraciones\n",
        "  '''\n",
        "  #se valida que la funcion cambia de signo\n",
        "  if f(x0)*f(x1)>0:\n",
        "    raise Exception('Rango invalido, no cruza el eje x!!')\n",
        "  x=x0 #valor inical de x\n",
        "  #se construye los encabezados de la tabla de iteraciones\n",
        "  tabla=pd.DataFrame(columns=['x0','x','x1','f(x0)','f(x)','f(x1)'])\n",
        "  #se hacen las iteraciones en busqueda de la raiz\n",
        "  while np.abs(f(x))>tol:\n",
        "    x=(x0+x1)/2 #se calcula la mitad del intervalo metodo de la biseccion\n",
        "    #se inserta un nuevo renglon a la tabla de iteraciones\n",
        "    tabla=tabla.append({'x0':x0,'x':x,'x1':x1,\n",
        "                        'f(x0)':f(x0),'f(x)':f(x),'f(x1)':f(x1)},\n",
        "                       ignore_index=True)\n",
        "    #se valida donde se encuentra la raiz\n",
        "    if f(x0)*f(x)<0:\n",
        "      #esta en el primer subintervalo [x0,x]\n",
        "      x1=x\n",
        "    else:\n",
        "      #esta en el segundo subintervalo [x,x1]\n",
        "      x0=x\n",
        "  #se retorna el resultado de la raiz y la tabla de iteraciones\n",
        "  return x,tabla"
      ],
      "execution_count": 2,
      "outputs": []
    },
    {
      "cell_type": "code",
      "metadata": {
        "id": "rjX9yGbB9sXl",
        "outputId": "2361d903-b081-469a-fa73-afc1555a1c4f",
        "colab": {
          "base_uri": "https://localhost:8080/"
        }
      },
      "source": [
        "#Ayuda de la función\n",
        "help (biseccion)"
      ],
      "execution_count": 4,
      "outputs": [
        {
          "output_type": "stream",
          "text": [
            "Help on function biseccion in module __main__:\n",
            "\n",
            "biseccion(f, x0, x1, tol=1e-05)\n",
            "    El método de Bisección es un método cerrado para resolver ecuaciones no lineales\n",
            "    los argumentos son:\n",
            "    \n",
            "    entrada\n",
            "    -------\n",
            "         f : ecuación a resolver expresada en la forma f(x)=0\n",
            "    x0, x1 : puntos que encierran la raiz f(x0)*f(x1)<0\n",
            "       tol : tolerancia (valor por defecto 1e-5)\n",
            "    \n",
            "    salida\n",
            "    ------\n",
            "        x : raíz de la ecuación\n",
            "     tabla: tabla de iteraciones\n",
            "\n"
          ],
          "name": "stdout"
        }
      ]
    },
    {
      "cell_type": "markdown",
      "metadata": {
        "id": "PU7I3QAk4Zso"
      },
      "source": [
        "**Problema**: Encontrar la raíz cuadrada de 2 usando el método de **Bisección**\n",
        "\n",
        "$$\n",
        "\\sqrt{2}=x\\\\\n",
        "2=x^2\\\\\n",
        "f(x)=x^2-2=0\n",
        "$$"
      ]
    },
    {
      "cell_type": "code",
      "metadata": {
        "id": "CE1ttST24WEH"
      },
      "source": [
        "#definir la función a resolver\n",
        "def f(x):\n",
        "  return x**2-2\n"
      ],
      "execution_count": 5,
      "outputs": []
    },
    {
      "cell_type": "code",
      "metadata": {
        "id": "pv7hO8ec48Ye",
        "outputId": "d327c2be-668d-460f-d777-8b79be98b0d1",
        "colab": {
          "base_uri": "https://localhost:8080/",
          "height": 265
        }
      },
      "source": [
        "#Graficar la función para identificar el comportamiento y ubicar los puntos iniciales\n",
        "import matplotlib.pyplot as plt #biblioteca pra graficar\n",
        "x=np.linspace(-2.5,2.5) #se crea el vector x\n",
        "y=f(x) #se crea el vector y con la evaluacion de la funcion\n",
        "plt.plot(x,y) #construye la grafica\n",
        "plt.grid() #dibuja la rejilla\n",
        "plt.show() #muestra la grafica\n"
      ],
      "execution_count": 7,
      "outputs": [
        {
          "output_type": "display_data",
          "data": {
            "image/png": "[encoded data removed]",
            "text/plain": [
              "<Figure size 432x288 with 1 Axes>"
            ]
          },
          "metadata": {
            "tags": [],
            "needs_background": "light"
          }
        }
      ]
    },
    {
      "cell_type": "code",
      "metadata": {
        "id": "VYulT2YA5E27",
        "outputId": "a236da79-ff08-4f28-b866-8c505c88b2fd",
        "colab": {
          "base_uri": "https://localhost:8080/"
        }
      },
      "source": [
        "#Hacer la llamada a la función\n",
        "raiz,iteraciones=biseccion(f,-2,-1,0.001)\n",
        "print(raiz)\n",
        "print(iteraciones)"
      ],
      "execution_count": 11,
      "outputs": [
        {
          "output_type": "stream",
          "text": [
            "-1.4140625\n",
            "         x0         x       x1     f(x0)      f(x)     f(x1)\n",
            "0 -2.000000 -1.500000 -1.00000  2.000000  0.250000 -1.000000\n",
            "1 -1.500000 -1.250000 -1.00000  0.250000 -0.437500 -1.000000\n",
            "2 -1.500000 -1.375000 -1.25000  0.250000 -0.109375 -0.437500\n",
            "3 -1.500000 -1.437500 -1.37500  0.250000  0.066406 -0.109375\n",
            "4 -1.437500 -1.406250 -1.37500  0.066406 -0.022461 -0.109375\n",
            "5 -1.437500 -1.421875 -1.40625  0.066406  0.021729 -0.022461\n",
            "6 -1.421875 -1.414062 -1.40625  0.021729 -0.000427 -0.022461\n"
          ],
          "name": "stdout"
        }
      ]
    },
    {
      "cell_type": "markdown",
      "metadata": {
        "id": "AhhjGGVy5jLb"
      },
      "source": [
        "**Problema**: Encontrar la raíz cúbica de 5 usando el método de **Bisección**\n",
        "\n",
        "$$\n",
        "\\sqrt[3]{5}=x\\\\\n",
        "5=x^3\\\\\n",
        "f(x)=x^3-5=0\n",
        "$$"
      ]
    },
    {
      "cell_type": "code",
      "metadata": {
        "id": "QMvRq4cBy8eI"
      },
      "source": [
        "#definir la función a resolver\n",
        "def f(x):\n",
        "  return x**3-5"
      ],
      "execution_count": 12,
      "outputs": []
    },
    {
      "cell_type": "code",
      "metadata": {
        "id": "VYWyL4jizQrO",
        "outputId": "3d00f695-9990-4d6d-b6a9-c12a30c70131",
        "colab": {
          "base_uri": "https://localhost:8080/",
          "height": 265
        }
      },
      "source": [
        "#Graficar la función para identificar el comportamiento y ubicar los puntos iniciales\n",
        "import matplotlib.pyplot as plt #biblioteca pra graficar\n",
        "x=np.linspace(-2.5,2.5) #se crea el vector x\n",
        "y=f(x) #se crea el vector y con la evaluacion de la funcion\n",
        "plt.plot(x,y) #construye la grafica\n",
        "plt.grid() #dibuja la rejilla\n",
        "plt.show() #muestra la grafica"
      ],
      "execution_count": 13,
      "outputs": [
        {
          "output_type": "display_data",
          "data": {
            "image/png": "[encoded data removed]",
            "text/plain": [
              "<Figure size 432x288 with 1 Axes>"
            ]
          },
          "metadata": {
            "tags": [],
            "needs_background": "light"
          }
        }
      ]
    },
    {
      "cell_type": "code",
      "metadata": {
        "id": "__vyqW9AztRD",
        "outputId": "eaa70ec5-78a1-4ff2-b776-440376ab3211",
        "colab": {
          "base_uri": "https://localhost:8080/"
        }
      },
      "source": [
        "#Hacer la llamada a la función\n",
        "raiz,iteraciones=biseccion(f,1,2,0.0001)\n",
        "print(raiz)\n",
        "print(iteraciones)"
      ],
      "execution_count": 14,
      "outputs": [
        {
          "output_type": "stream",
          "text": [
            "1.7099761962890625\n",
            "          x0         x        x1     f(x0)      f(x)     f(x1)\n",
            "0   1.000000  1.500000  2.000000 -4.000000 -1.625000  3.000000\n",
            "1   1.500000  1.750000  2.000000 -1.625000  0.359375  3.000000\n",
            "2   1.500000  1.625000  1.750000 -1.625000 -0.708984  0.359375\n",
            "3   1.625000  1.687500  1.750000 -0.708984 -0.194580  0.359375\n",
            "4   1.687500  1.718750  1.750000 -0.194580  0.077362  0.359375\n",
            "5   1.687500  1.703125  1.718750 -0.194580 -0.059856  0.077362\n",
            "6   1.703125  1.710938  1.718750 -0.059856  0.008440  0.077362\n",
            "7   1.703125  1.707031  1.710938 -0.059856 -0.025787  0.008440\n",
            "8   1.707031  1.708984  1.710938 -0.025787 -0.008693  0.008440\n",
            "9   1.708984  1.709961  1.710938 -0.008693 -0.000132  0.008440\n",
            "10  1.709961  1.710449  1.710938 -0.000132  0.004153  0.008440\n",
            "11  1.709961  1.710205  1.710449 -0.000132  0.002010  0.004153\n",
            "12  1.709961  1.710083  1.710205 -0.000132  0.000939  0.002010\n",
            "13  1.709961  1.710022  1.710083 -0.000132  0.000404  0.000939\n",
            "14  1.709961  1.709991  1.710022 -0.000132  0.000136  0.000404\n",
            "15  1.709961  1.709976  1.709991 -0.000132  0.000002  0.000136\n"
          ],
          "name": "stdout"
        }
      ]
    },
    {
      "cell_type": "markdown",
      "metadata": {
        "id": "T1aX9X2P6FUq"
      },
      "source": [
        "##Regla Falsa"
      ]
    },
    {
      "cell_type": "code",
      "metadata": {
        "id": "Nbfe8Q-35ojl"
      },
      "source": [
        "#Definición de la función para el método de la Regla Falsa\n",
        "def reglaFalsa(f,x0,x1,tol=1e-5):\n",
        "  '''\n",
        "  El método de la regla falsa es un método cerrado para resolver ecuaciones no lineales\n",
        "  los argumentos son:\n",
        "\n",
        "  entrada\n",
        "  -------\n",
        "       f : ecuación a resolver expresada en la forma f(x)=0\n",
        "  x0, x1 : puntos que encierran la raiz f(x0)*f(x1)<0\n",
        "     tol : tolerancia (valor por defecto 1e-5)\n",
        "\n",
        "  salida\n",
        "  ------\n",
        "      x : raíz de la ecuación\n",
        "   tabla: tabla de iteraciones\n",
        "  '''\n",
        "  #se valida que la funcion cambia de signo\n",
        "  if f(x0)*f(x1)>0:\n",
        "    raise Exception('Rango invalido, no cruza el eje x!!')\n",
        "  x=x0 #valor inical de x\n",
        "  #se construye los encabezados de la tabla de iteraciones\n",
        "  tabla=pd.DataFrame(columns=['x0','x','x1','f(x0)','f(x)','f(x1)'])\n",
        "  #se hacen las iteraciones en busqueda de la raiz\n",
        "  while np.abs(f(x))>tol:\n",
        "    x=(x0*f(x1)-x1*f(x0))/(f(x1)-f(x0)) #se calcula x para la regla falsa\n",
        "    #se inserta un nuevo renglon a la tabla de iteraciones\n",
        "    tabla=tabla.append({'x0':x0,'x':x,'x1':x1,\n",
        "                        'f(x0)':f(x0),'f(x)':f(x),'f(x1)':f(x1)},\n",
        "                       ignore_index=True)\n",
        "    #se valida donde se encuentra la raiz\n",
        "    if f(x0)*f(x)<0:\n",
        "      #esta en el primer subintervalo [x0,x]\n",
        "      x1=x\n",
        "    else:\n",
        "      #esta en el segundo subintervalo [x,x1]\n",
        "      x0=x\n",
        "  #se retorna el resultado de la raiz y la tabla de iteraciones\n",
        "  return x,tabla\n"
      ],
      "execution_count": 15,
      "outputs": []
    },
    {
      "cell_type": "markdown",
      "metadata": {
        "id": "HwJxCUyw6tAI"
      },
      "source": [
        "**Problema**: Calcular la altura del agua en un tanque esférico que contenga $1000 l$ si el radio del tanque es $R=10$\n",
        "\n",
        "$$\n",
        "V=\\pi h^2\\left( \\frac{3R-h}{3}\\right)\\\\\n",
        "1000=\\pi h^2\\left( \\frac{30-h}{3}\\right)\\\\\n",
        "f(h)=\\pi h^2\\left( \\frac{30-h}{3}\\right)-1000=0\n",
        "$$"
      ]
    },
    {
      "cell_type": "code",
      "metadata": {
        "id": "XxQjZgwa8KGF"
      },
      "source": [
        "#definir la función a resolver\n",
        "def f(h):\n",
        "  return np.pi*h**2*(30-h)/3-1000\n"
      ],
      "execution_count": 16,
      "outputs": []
    },
    {
      "cell_type": "code",
      "metadata": {
        "id": "El-V5iad8Oel",
        "outputId": "18f17c26-726a-4c0e-ad98-1ceee2a723c1",
        "colab": {
          "base_uri": "https://localhost:8080/",
          "height": 265
        }
      },
      "source": [
        "#Graficar la función para identificar el comportamiento y ubicar los puntos iniciales\n",
        "import matplotlib.pyplot as plt #biblioteca pra graficar\n",
        "x=np.linspace(0,20) #se crea el vector x\n",
        "y=f(x) #se crea el vector y con la evaluacion de la funcion\n",
        "plt.plot(x,y) #construye la grafica\n",
        "plt.grid() #dibuja la rejilla\n",
        "plt.show() #muestra la grafica\n"
      ],
      "execution_count": 17,
      "outputs": [
        {
          "output_type": "display_data",
          "data": {
            "image/png": "[encoded data removed]",
            "text/plain": [
              "<Figure size 432x288 with 1 Axes>"
            ]
          },
          "metadata": {
            "tags": [],
            "needs_background": "light"
          }
        }
      ]
    },
    {
      "cell_type": "code",
      "metadata": {
        "id": "-1UDccqK8SGk",
        "outputId": "9b553faa-38d6-4eb7-d07f-fa0b5f4d296a",
        "colab": {
          "base_uri": "https://localhost:8080/"
        }
      },
      "source": [
        "#Hacer la llamada a la función\n",
        "raiz,tabla=reglaFalsa(f,5,7.5)\n",
        "print(raiz)\n",
        "print(tabla)"
      ],
      "execution_count": 18,
      "outputs": [
        {
          "output_type": "stream",
          "text": [
            "6.355008054423839\n",
            "         x0         x   x1       f(x0)       f(x)       f(x1)\n",
            "0  5.000000  6.287530  7.5 -345.501531 -18.329822  325.359401\n",
            "1  6.287530  6.352194  7.5  -18.329822  -0.766389  325.359401\n",
            "2  6.352194  6.354892  7.5   -0.766389  -0.031675  325.359401\n",
            "3  6.354892  6.355003  7.5   -0.031675  -0.001309  325.359401\n",
            "4  6.355003  6.355008  7.5   -0.001309  -0.000054  325.359401\n",
            "5  6.355008  6.355008  7.5   -0.000054  -0.000002  325.359401\n"
          ],
          "name": "stdout"
        }
      ]
    },
    {
      "cell_type": "markdown",
      "metadata": {
        "id": "_x1tXGJN9OfQ"
      },
      "source": [
        "##Newton-Raphson"
      ]
    },
    {
      "cell_type": "code",
      "metadata": {
        "id": "jasgclkU9TPs"
      },
      "source": [
        "#Definición de la función para el método de Newton-Raphson\n",
        "\n"
      ],
      "execution_count": null,
      "outputs": []
    },
    {
      "cell_type": "markdown",
      "metadata": {
        "id": "xT0RgYyL-rN4"
      },
      "source": [
        "Fluye aire a una temperatura de 25 C y\n",
        "1 atm a través de un tubo de 4 mm de diámetro a una velocidad promedio de 50 m/s. La\n",
        "rugosidad es de $\\epsilon= 0.0015mm$ y $Re=13743$. Calcular el factor de fricción usando la ecuación\n",
        "de Colebrook.\n",
        "$$\n",
        "\\frac{1}{\\sqrt{f}}=\n",
        "-2.0log\\left(\\frac{\\epsilon/D}{3.7}\n",
        "+\n",
        "\\frac{2.51}{Re\\sqrt{f}}\n",
        "\\right)\\\\\n",
        "F(f)=\\frac{1}{\\sqrt{f}}+2.0log\\left(\\frac{\\epsilon/D}{3.7}\n",
        "+\n",
        "\\frac{2.51}{Re\\sqrt{f}}\n",
        "\\right)\\\\\n",
        "F'(f)=\\frac{-1}{2\\sqrt{f^3}}-\\frac{2.51}{Re\\sqrt{f^3}\\frac{2.51}{Re\\sqrt{f}}+\\frac{\\epsilon /D}{3.7}}\n",
        "$$"
      ]
    },
    {
      "cell_type": "code",
      "metadata": {
        "id": "zWR7KhaTBkQi"
      },
      "source": [
        "#definir la función a resolver\n",
        "\n"
      ],
      "execution_count": null,
      "outputs": []
    },
    {
      "cell_type": "code",
      "metadata": {
        "id": "aokQIHfeutdW"
      },
      "source": [
        "#Graficar la función para identificar el comportamiento y ubicar los puntos iniciales\n",
        "\n"
      ],
      "execution_count": null,
      "outputs": []
    },
    {
      "cell_type": "code",
      "metadata": {
        "id": "c3b8UP2Ruokh"
      },
      "source": [
        "#Hacer la llamada a la función\n",
        "\n"
      ],
      "execution_count": null,
      "outputs": []
    },
    {
      "cell_type": "markdown",
      "metadata": {
        "id": "XOYLbtBW9U1N"
      },
      "source": [
        "##Secante"
      ]
    },
    {
      "cell_type": "code",
      "metadata": {
        "id": "ylLArfoM9W8w"
      },
      "source": [
        "#Definición de la función para el método de Secante\n",
        "\n"
      ],
      "execution_count": null,
      "outputs": []
    },
    {
      "cell_type": "markdown",
      "metadata": {
        "id": "TdfgbYquvEjl"
      },
      "source": [
        "**Problema**: Fluye aire a una temperatura de 25 C y\n",
        "1 atm a través de un tubo de 4 mm de diámetro a una velocidad promedio de 50 m/s. La\n",
        "rugosidad es de $\\epsilon= 0.0015mm$ y $Re=13743$. Calcular el factor de fricción usando la ecuación\n",
        "de Colebrook.\n",
        "$$\n",
        "\\frac{1}{\\sqrt{f}}=\n",
        "-2.0log\\left(\\frac{\\epsilon/D}{3.7}\n",
        "+\n",
        "\\frac{2.51}{Re\\sqrt{f}}\n",
        "\\right)\\\\\n",
        "F(f)=\\frac{1}{\\sqrt{f}}+2.0log\\left(\\frac{\\epsilon/D}{3.7}\n",
        "+\n",
        "\\frac{2.51}{Re\\sqrt{f}}\n",
        "\\right)\n",
        "$$"
      ]
    },
    {
      "cell_type": "code",
      "metadata": {
        "id": "26_hOktuvQvS"
      },
      "source": [
        "#definir la función a resolver\n",
        "\n"
      ],
      "execution_count": null,
      "outputs": []
    },
    {
      "cell_type": "code",
      "metadata": {
        "id": "zG40Maz6vUEe"
      },
      "source": [
        "#Graficar la función para identificar el comportamiento y ubicar los puntos iniciales\n",
        "\n"
      ],
      "execution_count": null,
      "outputs": []
    },
    {
      "cell_type": "code",
      "metadata": {
        "id": "FDqc5FDtvXQD"
      },
      "source": [
        "#Hacer la llamada a la función\n"
      ],
      "execution_count": null,
      "outputs": []
    },
    {
      "cell_type": "markdown",
      "metadata": {
        "id": "PTwIMk_U9YJ-"
      },
      "source": [
        "##Muller"
      ]
    },
    {
      "cell_type": "code",
      "metadata": {
        "id": "wXMDbclGvgaG"
      },
      "source": [
        "#Definición de la función para el método de Muller\n",
        "\n"
      ],
      "execution_count": null,
      "outputs": []
    },
    {
      "cell_type": "markdown",
      "metadata": {
        "id": "PH94lCsUvvlE"
      },
      "source": [
        "**Problema**: Calcular el volumen de $2 moles$ de $CO_2$ a una presión de $10 atm$ y $300K$, usando la ecuación de Van der Waals\n",
        "\n",
        "$$\n",
        "\\left(P+\\frac{an^2}{V^2}\\right) (V-nb) = nRT\n",
        "$$\n",
        "\n",
        "Donde $a = 3.592$, $b = 0.04267$, $n = 2$, $R = 0.082$, $T = 300$ y $P = 10$."
      ]
    },
    {
      "cell_type": "code",
      "metadata": {
        "id": "tdVwvSt09dWs"
      },
      "source": [
        "#definir la función a resolver\n",
        "\n"
      ],
      "execution_count": null,
      "outputs": []
    },
    {
      "cell_type": "code",
      "metadata": {
        "id": "yzYqYU2dxL10"
      },
      "source": [
        "#Graficar la función para identificar el comportamiento y ubicar los puntos iniciales\n",
        "\n"
      ],
      "execution_count": null,
      "outputs": []
    },
    {
      "cell_type": "code",
      "metadata": {
        "id": "EkknozVyxOtd"
      },
      "source": [
        "#Hacer la llamada a la función\n"
      ],
      "execution_count": null,
      "outputs": []
    },
    {
      "cell_type": "markdown",
      "metadata": {
        "id": "59qcgIwm9ePI"
      },
      "source": [
        "##Punto fijo"
      ]
    },
    {
      "cell_type": "code",
      "metadata": {
        "id": "-mUsAa-W9hio"
      },
      "source": [
        "#Definición de la función para el método de Punto Fijo\n"
      ],
      "execution_count": null,
      "outputs": []
    },
    {
      "cell_type": "markdown",
      "metadata": {
        "id": "27tKOeHWxkzv"
      },
      "source": [
        "**Problema**: Calcular el volumen de $2 moles$ de $CO_2$ a una presión de $10 atm$ y $300K$, usando la ecuación de Van der Waals\n",
        "\n",
        "$$\n",
        "\\left(P+\\frac{an^2}{V^2}\\right) (V-nb) = nRT\n",
        "$$\n",
        "\n",
        "Donde $a = 3.592$, $b = 0.04267$, $n = 2$, $R = 0.082$, $T = 300$ y $P = 10$."
      ]
    },
    {
      "cell_type": "code",
      "metadata": {
        "id": "UVJ6v0zKx2v7"
      },
      "source": [
        "#definir la función a resolver\n",
        "\n"
      ],
      "execution_count": null,
      "outputs": []
    },
    {
      "cell_type": "code",
      "metadata": {
        "id": "JsUGRbaOx7Eb"
      },
      "source": [
        "#Graficar la función para identificar el comportamiento y ubicar los puntos iniciales\n",
        "\n"
      ],
      "execution_count": null,
      "outputs": []
    },
    {
      "cell_type": "code",
      "metadata": {
        "id": "r4AHgWY7x-SM"
      },
      "source": [
        "#Hacer la llamada a la función\n"
      ],
      "execution_count": null,
      "outputs": []
    }
  ]
}