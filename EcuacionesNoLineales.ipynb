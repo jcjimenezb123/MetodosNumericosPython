{
  "nbformat": 4,
  "nbformat_minor": 0,
  "metadata": {
    "colab": {
      "name": "EcuacionesNoLineales.ipynb",
      "provenance": [],
      "collapsed_sections": [],
      "authorship_tag": "ABX9TyPVme4kAM1MFQbU95CNqX2k",
      "include_colab_link": true
    },
    "kernelspec": {
      "name": "python3",
      "display_name": "Python 3"
    },
    "language_info": {
      "name": "python"
    }
  },
  "cells": [
    {
      "cell_type": "markdown",
      "metadata": {
        "id": "view-in-github",
        "colab_type": "text"
      },
      "source": [
        "<a href=\"https://colab.research.google.com/github/jcjimenezb123/MetodosNumericosPython/blob/master/EcuacionesNoLineales.ipynb\" target=\"_parent\"><img src=\"https://colab.research.google.com/assets/colab-badge.svg\" alt=\"Open In Colab\"/></a>"
      ]
    },
    {
      "cell_type": "markdown",
      "metadata": {
        "id": "vOL29YWD3w2Q"
      },
      "source": [
        "#Métodos numéricos\n",
        "\n",
        "Desarrollo de métodos para resolver ecuaciones no lineales"
      ]
    },
    {
      "cell_type": "code",
      "metadata": {
        "id": "a2jcugs-jSie"
      },
      "source": [
        "#import de bibliotecas necesarias\n",
        "import numpy as np\n",
        "import pandas as pd\n",
        "import matplotlib.pyplot as plt"
      ],
      "execution_count": 1,
      "outputs": []
    },
    {
      "cell_type": "markdown",
      "metadata": {
        "id": "3RbdXNIp3-by"
      },
      "source": [
        "##Bisección"
      ]
    },
    {
      "cell_type": "markdown",
      "metadata": {
        "id": "LbrJUMO-4Dnl"
      },
      "source": [
        "Definición de la función del método de **Bisección**"
      ]
    },
    {
      "cell_type": "code",
      "metadata": {
        "id": "yjQ9DvM_3v29"
      },
      "source": [
        "#Esciba el código del método de Bisección\n",
        "def biseccion(f,x0,x1,tol=1e-5):\n",
        "  '''\n",
        "  El metodo de Bisección es un método cerrado para resolver ecuaciones no lineales\n",
        "  los argumentos son:\n",
        "  Entrada\n",
        "  -------\n",
        "       f : Ecuación a resolver expresada en la forma f(x)=0\n",
        "  x0, x1 : Puntos que encierran la raiz f(x0)*f(x1)<0\n",
        "     tol : Tolerancia (valor por defecto 1e-5)\n",
        "  Salida\n",
        "  ------\n",
        "      x : Raíz de la ecuación\n",
        "  tabla : Tabla de iteraciones\n",
        "  '''\n",
        "  #validación del rango que encierra la raíz\n",
        "  if f(x0)*f(x1)>0:\n",
        "    raise Exception('Rango invalido, no cruza el eje x!!')\n",
        "  x=x0 #valor inicial\n",
        "  #encabezado de la tabla de iteracioens\n",
        "  tabla=pd.DataFrame(columns=['x0','x','x1','f(x0)','f(x)','f(x1)'])\n",
        "  #valida el criterio de convergencia\n",
        "  while np.abs(f(x))>tol:\n",
        "    x=(x0+x1)/2 #divide el rango a la mitad, método de Bisección\n",
        "    #inserta la iteración a la tabla\n",
        "    tabla=tabla.append({'x0':x0,'x':x,'x1':x1,\n",
        "                        'f(x0)':f(x0),'f(x)':f(x),'f(x1)':f(x1)},\n",
        "                       ignore_index=True)\n",
        "    #valida si la raíz se encuentra en el intervalo [x0,x]\n",
        "    if f(x0)*f(x)<0:\n",
        "      x1=x\n",
        "    #valida si la raíz se encuentra en el intervalo [x,x1]\n",
        "    else:\n",
        "      x0=x\n",
        "  #retorna la raíz y la tabla de iteraciones\n",
        "  return x,tabla"
      ],
      "execution_count": 2,
      "outputs": []
    },
    {
      "cell_type": "code",
      "metadata": {
        "id": "rjX9yGbB9sXl",
        "colab": {
          "base_uri": "https://localhost:8080/"
        },
        "outputId": "9c26ff25-5e64-48e9-db49-b8430113f904"
      },
      "source": [
        "#Ayuda de la función\n",
        "help(biseccion)"
      ],
      "execution_count": 3,
      "outputs": [
        {
          "output_type": "stream",
          "text": [
            "Help on function biseccion in module __main__:\n",
            "\n",
            "biseccion(f, x0, x1, tol=1e-05)\n",
            "    El metodo de Bisección es un método cerrado para resolver ecuaciones no lineales\n",
            "    los argumentos son:\n",
            "    Entrada\n",
            "    -------\n",
            "         f : Ecuación a resolver expresada en la forma f(x)=0\n",
            "    x0, x1 : Puntos que encierran la raiz f(x0)*f(x1)<0\n",
            "       tol : Tolerancia (valor por defecto 1e-5)\n",
            "    Salida\n",
            "    ------\n",
            "        x : Raíz de la ecuación\n",
            "    tabla : Tabla de iteraciones\n",
            "\n"
          ],
          "name": "stdout"
        }
      ]
    },
    {
      "cell_type": "markdown",
      "metadata": {
        "id": "PU7I3QAk4Zso"
      },
      "source": [
        "**Problema**: Encontrar la raíz cuadrada de 2 usando el método de **Bisección**\n",
        "\n",
        "$$\n",
        "\\sqrt{2}=x\\\\\n",
        "2=x^2\\\\\n",
        "f(x)=x^2-2=0\n",
        "$$"
      ]
    },
    {
      "cell_type": "code",
      "metadata": {
        "id": "CE1ttST24WEH"
      },
      "source": [
        "#definir la función a resolver\n",
        "def f(x):\n",
        "  return x**2-2\n"
      ],
      "execution_count": 4,
      "outputs": []
    },
    {
      "cell_type": "code",
      "metadata": {
        "id": "pv7hO8ec48Ye",
        "colab": {
          "base_uri": "https://localhost:8080/",
          "height": 265
        },
        "outputId": "3eb88ec7-77c6-42d8-ff42-8099ed72d03b"
      },
      "source": [
        "#Graficar la función para identificar el comportamiento y ubicar los puntos iniciales\n",
        "x=np.linspace(-10,10)\n",
        "y=f(x)\n",
        "plt.plot(x,y)\n",
        "plt.grid()\n",
        "plt.show()\n"
      ],
      "execution_count": 5,
      "outputs": [
        {
          "output_type": "display_data",
          "data": {
            "image/png": "[encoded data removed]",
            "text/plain": [
              "<Figure size 432x288 with 1 Axes>"
            ]
          },
          "metadata": {
            "tags": [],
            "needs_background": "light"
          }
        }
      ]
    },
    {
      "cell_type": "code",
      "metadata": {
        "id": "VYulT2YA5E27",
        "colab": {
          "base_uri": "https://localhost:8080/",
          "height": 620
        },
        "outputId": "7cdfebcf-91c4-4f25-a677-4aa52fee3036"
      },
      "source": [
        "#Hacer la llamada a la función\n",
        "raiz,tabla=biseccion(f,0,2.5)\n",
        "print(raiz)\n",
        "tabla"
      ],
      "execution_count": 6,
      "outputs": [
        {
          "output_type": "stream",
          "text": [
            "1.4142131805419922\n"
          ],
          "name": "stdout"
        },
        {
          "output_type": "execute_result",
          "data": {
            "text/html": [
              "<div>\n",
              "<style scoped>\n",
              "    .dataframe tbody tr th:only-of-type {\n",
              "        vertical-align: middle;\n",
              "    }\n",
              "\n",
              "    .dataframe tbody tr th {\n",
              "        vertical-align: top;\n",
              "    }\n",
              "\n",
              "    .dataframe thead th {\n",
              "        text-align: right;\n",
              "    }\n",
              "</style>\n",
              "<table border=\"1\" class=\"dataframe\">\n",
              "  <thead>\n",
              "    <tr style=\"text-align: right;\">\n",
              "      <th></th>\n",
              "      <th>x0</th>\n",
              "      <th>x</th>\n",
              "      <th>x1</th>\n",
              "      <th>f(x0)</th>\n",
              "      <th>f(x)</th>\n",
              "      <th>f(x1)</th>\n",
              "    </tr>\n",
              "  </thead>\n",
              "  <tbody>\n",
              "    <tr>\n",
              "      <th>0</th>\n",
              "      <td>0.000000</td>\n",
              "      <td>1.250000</td>\n",
              "      <td>2.500000</td>\n",
              "      <td>-2.000000</td>\n",
              "      <td>-0.437500</td>\n",
              "      <td>4.250000</td>\n",
              "    </tr>\n",
              "    <tr>\n",
              "      <th>1</th>\n",
              "      <td>1.250000</td>\n",
              "      <td>1.875000</td>\n",
              "      <td>2.500000</td>\n",
              "      <td>-0.437500</td>\n",
              "      <td>1.515625</td>\n",
              "      <td>4.250000</td>\n",
              "    </tr>\n",
              "    <tr>\n",
              "      <th>2</th>\n",
              "      <td>1.250000</td>\n",
              "      <td>1.562500</td>\n",
              "      <td>1.875000</td>\n",
              "      <td>-0.437500</td>\n",
              "      <td>0.441406</td>\n",
              "      <td>1.515625</td>\n",
              "    </tr>\n",
              "    <tr>\n",
              "      <th>3</th>\n",
              "      <td>1.250000</td>\n",
              "      <td>1.406250</td>\n",
              "      <td>1.562500</td>\n",
              "      <td>-0.437500</td>\n",
              "      <td>-0.022461</td>\n",
              "      <td>0.441406</td>\n",
              "    </tr>\n",
              "    <tr>\n",
              "      <th>4</th>\n",
              "      <td>1.406250</td>\n",
              "      <td>1.484375</td>\n",
              "      <td>1.562500</td>\n",
              "      <td>-0.022461</td>\n",
              "      <td>0.203369</td>\n",
              "      <td>0.441406</td>\n",
              "    </tr>\n",
              "    <tr>\n",
              "      <th>5</th>\n",
              "      <td>1.406250</td>\n",
              "      <td>1.445312</td>\n",
              "      <td>1.484375</td>\n",
              "      <td>-0.022461</td>\n",
              "      <td>0.088928</td>\n",
              "      <td>0.203369</td>\n",
              "    </tr>\n",
              "    <tr>\n",
              "      <th>6</th>\n",
              "      <td>1.406250</td>\n",
              "      <td>1.425781</td>\n",
              "      <td>1.445312</td>\n",
              "      <td>-0.022461</td>\n",
              "      <td>0.032852</td>\n",
              "      <td>0.088928</td>\n",
              "    </tr>\n",
              "    <tr>\n",
              "      <th>7</th>\n",
              "      <td>1.406250</td>\n",
              "      <td>1.416016</td>\n",
              "      <td>1.425781</td>\n",
              "      <td>-0.022461</td>\n",
              "      <td>0.005100</td>\n",
              "      <td>0.032852</td>\n",
              "    </tr>\n",
              "    <tr>\n",
              "      <th>8</th>\n",
              "      <td>1.406250</td>\n",
              "      <td>1.411133</td>\n",
              "      <td>1.416016</td>\n",
              "      <td>-0.022461</td>\n",
              "      <td>-0.008704</td>\n",
              "      <td>0.005100</td>\n",
              "    </tr>\n",
              "    <tr>\n",
              "      <th>9</th>\n",
              "      <td>1.411133</td>\n",
              "      <td>1.413574</td>\n",
              "      <td>1.416016</td>\n",
              "      <td>-0.008704</td>\n",
              "      <td>-0.001808</td>\n",
              "      <td>0.005100</td>\n",
              "    </tr>\n",
              "    <tr>\n",
              "      <th>10</th>\n",
              "      <td>1.413574</td>\n",
              "      <td>1.414795</td>\n",
              "      <td>1.416016</td>\n",
              "      <td>-0.001808</td>\n",
              "      <td>0.001645</td>\n",
              "      <td>0.005100</td>\n",
              "    </tr>\n",
              "    <tr>\n",
              "      <th>11</th>\n",
              "      <td>1.413574</td>\n",
              "      <td>1.414185</td>\n",
              "      <td>1.414795</td>\n",
              "      <td>-0.001808</td>\n",
              "      <td>-0.000082</td>\n",
              "      <td>0.001645</td>\n",
              "    </tr>\n",
              "    <tr>\n",
              "      <th>12</th>\n",
              "      <td>1.414185</td>\n",
              "      <td>1.414490</td>\n",
              "      <td>1.414795</td>\n",
              "      <td>-0.000082</td>\n",
              "      <td>0.000781</td>\n",
              "      <td>0.001645</td>\n",
              "    </tr>\n",
              "    <tr>\n",
              "      <th>13</th>\n",
              "      <td>1.414185</td>\n",
              "      <td>1.414337</td>\n",
              "      <td>1.414490</td>\n",
              "      <td>-0.000082</td>\n",
              "      <td>0.000350</td>\n",
              "      <td>0.000781</td>\n",
              "    </tr>\n",
              "    <tr>\n",
              "      <th>14</th>\n",
              "      <td>1.414185</td>\n",
              "      <td>1.414261</td>\n",
              "      <td>1.414337</td>\n",
              "      <td>-0.000082</td>\n",
              "      <td>0.000134</td>\n",
              "      <td>0.000350</td>\n",
              "    </tr>\n",
              "    <tr>\n",
              "      <th>15</th>\n",
              "      <td>1.414185</td>\n",
              "      <td>1.414223</td>\n",
              "      <td>1.414261</td>\n",
              "      <td>-0.000082</td>\n",
              "      <td>0.000026</td>\n",
              "      <td>0.000134</td>\n",
              "    </tr>\n",
              "    <tr>\n",
              "      <th>16</th>\n",
              "      <td>1.414185</td>\n",
              "      <td>1.414204</td>\n",
              "      <td>1.414223</td>\n",
              "      <td>-0.000082</td>\n",
              "      <td>-0.000028</td>\n",
              "      <td>0.000026</td>\n",
              "    </tr>\n",
              "    <tr>\n",
              "      <th>17</th>\n",
              "      <td>1.414204</td>\n",
              "      <td>1.414213</td>\n",
              "      <td>1.414223</td>\n",
              "      <td>-0.000028</td>\n",
              "      <td>-0.000001</td>\n",
              "      <td>0.000026</td>\n",
              "    </tr>\n",
              "  </tbody>\n",
              "</table>\n",
              "</div>"
            ],
            "text/plain": [
              "          x0         x        x1     f(x0)      f(x)     f(x1)\n",
              "0   0.000000  1.250000  2.500000 -2.000000 -0.437500  4.250000\n",
              "1   1.250000  1.875000  2.500000 -0.437500  1.515625  4.250000\n",
              "2   1.250000  1.562500  1.875000 -0.437500  0.441406  1.515625\n",
              "3   1.250000  1.406250  1.562500 -0.437500 -0.022461  0.441406\n",
              "4   1.406250  1.484375  1.562500 -0.022461  0.203369  0.441406\n",
              "5   1.406250  1.445312  1.484375 -0.022461  0.088928  0.203369\n",
              "6   1.406250  1.425781  1.445312 -0.022461  0.032852  0.088928\n",
              "7   1.406250  1.416016  1.425781 -0.022461  0.005100  0.032852\n",
              "8   1.406250  1.411133  1.416016 -0.022461 -0.008704  0.005100\n",
              "9   1.411133  1.413574  1.416016 -0.008704 -0.001808  0.005100\n",
              "10  1.413574  1.414795  1.416016 -0.001808  0.001645  0.005100\n",
              "11  1.413574  1.414185  1.414795 -0.001808 -0.000082  0.001645\n",
              "12  1.414185  1.414490  1.414795 -0.000082  0.000781  0.001645\n",
              "13  1.414185  1.414337  1.414490 -0.000082  0.000350  0.000781\n",
              "14  1.414185  1.414261  1.414337 -0.000082  0.000134  0.000350\n",
              "15  1.414185  1.414223  1.414261 -0.000082  0.000026  0.000134\n",
              "16  1.414185  1.414204  1.414223 -0.000082 -0.000028  0.000026\n",
              "17  1.414204  1.414213  1.414223 -0.000028 -0.000001  0.000026"
            ]
          },
          "metadata": {
            "tags": []
          },
          "execution_count": 6
        }
      ]
    },
    {
      "cell_type": "markdown",
      "metadata": {
        "id": "AhhjGGVy5jLb"
      },
      "source": [
        "**Problema**: Encontrar la raíz cúbica de 5 usando el método de **Bisección**\n",
        "\n",
        "$$\n",
        "\\sqrt[3]{5}=x\\\\\n",
        "5=x^3\\\\\n",
        "f(x)=x^3-5=0\n",
        "$$"
      ]
    },
    {
      "cell_type": "code",
      "metadata": {
        "id": "QMvRq4cBy8eI"
      },
      "source": [
        "#definir la función a resolver\n",
        "def f(x):\n",
        "  return x**3-5"
      ],
      "execution_count": 7,
      "outputs": []
    },
    {
      "cell_type": "code",
      "metadata": {
        "id": "VYWyL4jizQrO",
        "colab": {
          "base_uri": "https://localhost:8080/",
          "height": 265
        },
        "outputId": "d5f1f8ce-c492-49e7-9d49-e9b8854ff53a"
      },
      "source": [
        "#Graficar la función para identificar el comportamiento y ubicar los puntos iniciales\n",
        "x=np.linspace(0,2)\n",
        "y=f(x)\n",
        "plt.plot(x,y)\n",
        "plt.grid()\n",
        "plt.show()"
      ],
      "execution_count": 8,
      "outputs": [
        {
          "output_type": "display_data",
          "data": {
            "image/png": "[encoded data removed]",
            "text/plain": [
              "<Figure size 432x288 with 1 Axes>"
            ]
          },
          "metadata": {
            "tags": [],
            "needs_background": "light"
          }
        }
      ]
    },
    {
      "cell_type": "code",
      "metadata": {
        "id": "__vyqW9AztRD",
        "colab": {
          "base_uri": "https://localhost:8080/",
          "height": 497
        },
        "outputId": "6db01e1b-b78e-4506-99e7-f9c8e7a36d12"
      },
      "source": [
        "#Hacer la llamada a la función\n",
        "r,t=biseccion(f,1.5,1.75)\n",
        "print(r)\n",
        "t"
      ],
      "execution_count": 9,
      "outputs": [
        {
          "output_type": "stream",
          "text": [
            "1.7099761962890625\n"
          ],
          "name": "stdout"
        },
        {
          "output_type": "execute_result",
          "data": {
            "text/html": [
              "<div>\n",
              "<style scoped>\n",
              "    .dataframe tbody tr th:only-of-type {\n",
              "        vertical-align: middle;\n",
              "    }\n",
              "\n",
              "    .dataframe tbody tr th {\n",
              "        vertical-align: top;\n",
              "    }\n",
              "\n",
              "    .dataframe thead th {\n",
              "        text-align: right;\n",
              "    }\n",
              "</style>\n",
              "<table border=\"1\" class=\"dataframe\">\n",
              "  <thead>\n",
              "    <tr style=\"text-align: right;\">\n",
              "      <th></th>\n",
              "      <th>x0</th>\n",
              "      <th>x</th>\n",
              "      <th>x1</th>\n",
              "      <th>f(x0)</th>\n",
              "      <th>f(x)</th>\n",
              "      <th>f(x1)</th>\n",
              "    </tr>\n",
              "  </thead>\n",
              "  <tbody>\n",
              "    <tr>\n",
              "      <th>0</th>\n",
              "      <td>1.500000</td>\n",
              "      <td>1.625000</td>\n",
              "      <td>1.750000</td>\n",
              "      <td>-1.625000</td>\n",
              "      <td>-0.708984</td>\n",
              "      <td>0.359375</td>\n",
              "    </tr>\n",
              "    <tr>\n",
              "      <th>1</th>\n",
              "      <td>1.625000</td>\n",
              "      <td>1.687500</td>\n",
              "      <td>1.750000</td>\n",
              "      <td>-0.708984</td>\n",
              "      <td>-0.194580</td>\n",
              "      <td>0.359375</td>\n",
              "    </tr>\n",
              "    <tr>\n",
              "      <th>2</th>\n",
              "      <td>1.687500</td>\n",
              "      <td>1.718750</td>\n",
              "      <td>1.750000</td>\n",
              "      <td>-0.194580</td>\n",
              "      <td>0.077362</td>\n",
              "      <td>0.359375</td>\n",
              "    </tr>\n",
              "    <tr>\n",
              "      <th>3</th>\n",
              "      <td>1.687500</td>\n",
              "      <td>1.703125</td>\n",
              "      <td>1.718750</td>\n",
              "      <td>-0.194580</td>\n",
              "      <td>-0.059856</td>\n",
              "      <td>0.077362</td>\n",
              "    </tr>\n",
              "    <tr>\n",
              "      <th>4</th>\n",
              "      <td>1.703125</td>\n",
              "      <td>1.710938</td>\n",
              "      <td>1.718750</td>\n",
              "      <td>-0.059856</td>\n",
              "      <td>0.008440</td>\n",
              "      <td>0.077362</td>\n",
              "    </tr>\n",
              "    <tr>\n",
              "      <th>5</th>\n",
              "      <td>1.703125</td>\n",
              "      <td>1.707031</td>\n",
              "      <td>1.710938</td>\n",
              "      <td>-0.059856</td>\n",
              "      <td>-0.025787</td>\n",
              "      <td>0.008440</td>\n",
              "    </tr>\n",
              "    <tr>\n",
              "      <th>6</th>\n",
              "      <td>1.707031</td>\n",
              "      <td>1.708984</td>\n",
              "      <td>1.710938</td>\n",
              "      <td>-0.025787</td>\n",
              "      <td>-0.008693</td>\n",
              "      <td>0.008440</td>\n",
              "    </tr>\n",
              "    <tr>\n",
              "      <th>7</th>\n",
              "      <td>1.708984</td>\n",
              "      <td>1.709961</td>\n",
              "      <td>1.710938</td>\n",
              "      <td>-0.008693</td>\n",
              "      <td>-0.000132</td>\n",
              "      <td>0.008440</td>\n",
              "    </tr>\n",
              "    <tr>\n",
              "      <th>8</th>\n",
              "      <td>1.709961</td>\n",
              "      <td>1.710449</td>\n",
              "      <td>1.710938</td>\n",
              "      <td>-0.000132</td>\n",
              "      <td>0.004153</td>\n",
              "      <td>0.008440</td>\n",
              "    </tr>\n",
              "    <tr>\n",
              "      <th>9</th>\n",
              "      <td>1.709961</td>\n",
              "      <td>1.710205</td>\n",
              "      <td>1.710449</td>\n",
              "      <td>-0.000132</td>\n",
              "      <td>0.002010</td>\n",
              "      <td>0.004153</td>\n",
              "    </tr>\n",
              "    <tr>\n",
              "      <th>10</th>\n",
              "      <td>1.709961</td>\n",
              "      <td>1.710083</td>\n",
              "      <td>1.710205</td>\n",
              "      <td>-0.000132</td>\n",
              "      <td>0.000939</td>\n",
              "      <td>0.002010</td>\n",
              "    </tr>\n",
              "    <tr>\n",
              "      <th>11</th>\n",
              "      <td>1.709961</td>\n",
              "      <td>1.710022</td>\n",
              "      <td>1.710083</td>\n",
              "      <td>-0.000132</td>\n",
              "      <td>0.000404</td>\n",
              "      <td>0.000939</td>\n",
              "    </tr>\n",
              "    <tr>\n",
              "      <th>12</th>\n",
              "      <td>1.709961</td>\n",
              "      <td>1.709991</td>\n",
              "      <td>1.710022</td>\n",
              "      <td>-0.000132</td>\n",
              "      <td>0.000136</td>\n",
              "      <td>0.000404</td>\n",
              "    </tr>\n",
              "    <tr>\n",
              "      <th>13</th>\n",
              "      <td>1.709961</td>\n",
              "      <td>1.709976</td>\n",
              "      <td>1.709991</td>\n",
              "      <td>-0.000132</td>\n",
              "      <td>0.000002</td>\n",
              "      <td>0.000136</td>\n",
              "    </tr>\n",
              "  </tbody>\n",
              "</table>\n",
              "</div>"
            ],
            "text/plain": [
              "          x0         x        x1     f(x0)      f(x)     f(x1)\n",
              "0   1.500000  1.625000  1.750000 -1.625000 -0.708984  0.359375\n",
              "1   1.625000  1.687500  1.750000 -0.708984 -0.194580  0.359375\n",
              "2   1.687500  1.718750  1.750000 -0.194580  0.077362  0.359375\n",
              "3   1.687500  1.703125  1.718750 -0.194580 -0.059856  0.077362\n",
              "4   1.703125  1.710938  1.718750 -0.059856  0.008440  0.077362\n",
              "5   1.703125  1.707031  1.710938 -0.059856 -0.025787  0.008440\n",
              "6   1.707031  1.708984  1.710938 -0.025787 -0.008693  0.008440\n",
              "7   1.708984  1.709961  1.710938 -0.008693 -0.000132  0.008440\n",
              "8   1.709961  1.710449  1.710938 -0.000132  0.004153  0.008440\n",
              "9   1.709961  1.710205  1.710449 -0.000132  0.002010  0.004153\n",
              "10  1.709961  1.710083  1.710205 -0.000132  0.000939  0.002010\n",
              "11  1.709961  1.710022  1.710083 -0.000132  0.000404  0.000939\n",
              "12  1.709961  1.709991  1.710022 -0.000132  0.000136  0.000404\n",
              "13  1.709961  1.709976  1.709991 -0.000132  0.000002  0.000136"
            ]
          },
          "metadata": {
            "tags": []
          },
          "execution_count": 9
        }
      ]
    },
    {
      "cell_type": "markdown",
      "metadata": {
        "id": "T1aX9X2P6FUq"
      },
      "source": [
        "##Regla Falsa"
      ]
    },
    {
      "cell_type": "code",
      "metadata": {
        "id": "Nbfe8Q-35ojl"
      },
      "source": [
        "#Definición de la función para el método de la Regla Falsa\n",
        "def reglafalsa(f,x0,x1,tol=1e-5):\n",
        "  '''\n",
        "  El metodo de la *Regla Falsa* es un método cerrado para resolver ecuaciones no lineales\n",
        "  los argumentos son:\n",
        "  Entrada\n",
        "  -------\n",
        "       f : Ecuación a resolver expresada en la forma f(x)=0\n",
        "  x0, x1 : Puntos que encierran la raiz f(x0)*f(x1)<0\n",
        "     tol : Tolerancia (valor por defecto 1e-5)\n",
        "  Salida\n",
        "  ------\n",
        "      x : Raíz de la ecuación\n",
        "  tabla : Tabla de iteraciones\n",
        "  '''\n",
        "  #validación del rango que encierra la raíz\n",
        "  if f(x0)*f(x1)>0:\n",
        "    raise Exception('Rango invalido, no cruza el eje x!!')\n",
        "  x=x0 #valor inicial\n",
        "  #encabezado de la tabla de iteracioens\n",
        "  tabla=pd.DataFrame(columns=['x0','x','x1','f(x0)','f(x)','f(x1)'])\n",
        "  #valida el criterio de convergencia\n",
        "  while np.abs(f(x))>tol:\n",
        "    x=(x0*f(x1)-x1*f(x0))/(f(x1)-f(x0)) #calcula x, método de Regla Falsa\n",
        "    #inserta la iteración a la tabla\n",
        "    tabla=tabla.append({'x0':x0,'x':x,'x1':x1,\n",
        "                        'f(x0)':f(x0),'f(x)':f(x),'f(x1)':f(x1)},\n",
        "                       ignore_index=True)\n",
        "    #valida si la raíz se encuentra en el intervalo [x0,x]\n",
        "    if f(x0)*f(x)<0:\n",
        "      x1=x\n",
        "    #valida si la raíz se encuentra en el intervalo [x,x1]\n",
        "    else:\n",
        "      x0=x\n",
        "  #retorna la raíz y la tabla de iteraciones\n",
        "  return x,tabla"
      ],
      "execution_count": 10,
      "outputs": []
    },
    {
      "cell_type": "markdown",
      "metadata": {
        "id": "HwJxCUyw6tAI"
      },
      "source": [
        "**Problema**: Calcular la altura del agua en un tanque esférico que contenga $1000 l$ si el radio del tanque es $R=10$\n",
        "\n",
        "$$\n",
        "V=\\pi h^2\\left( \\frac{3R-h}{3}\\right)\\\\\n",
        "1000=\\pi h^2\\left( \\frac{30-h}{3}\\right)\\\\\n",
        "f(h)=\\pi h^2\\left( \\frac{30-h}{3}\\right)-1000=0\n",
        "$$"
      ]
    },
    {
      "cell_type": "code",
      "metadata": {
        "id": "XxQjZgwa8KGF"
      },
      "source": [
        "#definir la función a resolver\n",
        "def f(h):\n",
        "  return np.pi*h**2*(30-h)/3-1000\n"
      ],
      "execution_count": 11,
      "outputs": []
    },
    {
      "cell_type": "code",
      "metadata": {
        "id": "El-V5iad8Oel",
        "colab": {
          "base_uri": "https://localhost:8080/",
          "height": 265
        },
        "outputId": "0b6f1663-a1d1-4861-f8e8-1c8c18ac2d88"
      },
      "source": [
        "#Graficar la función para identificar el comportamiento y ubicar los puntos iniciales\n",
        "x=np.linspace(0,20)\n",
        "y=f(x)\n",
        "plt.plot(x,y)\n",
        "plt.grid()\n",
        "plt.show()\n"
      ],
      "execution_count": 12,
      "outputs": [
        {
          "output_type": "display_data",
          "data": {
            "image/png": "[encoded data removed]",
            "text/plain": [
              "<Figure size 432x288 with 1 Axes>"
            ]
          },
          "metadata": {
            "tags": [],
            "needs_background": "light"
          }
        }
      ]
    },
    {
      "cell_type": "code",
      "metadata": {
        "id": "-1UDccqK8SGk",
        "colab": {
          "base_uri": "https://localhost:8080/",
          "height": 250
        },
        "outputId": "a249c939-bba1-4129-801b-073e071aee7d"
      },
      "source": [
        "#Hacer la llamada a la función\n",
        "h,t=reglafalsa(f,5,7.5)\n",
        "print(h)\n",
        "t"
      ],
      "execution_count": 13,
      "outputs": [
        {
          "output_type": "stream",
          "text": [
            "6.355008054423839\n"
          ],
          "name": "stdout"
        },
        {
          "output_type": "execute_result",
          "data": {
            "text/html": [
              "<div>\n",
              "<style scoped>\n",
              "    .dataframe tbody tr th:only-of-type {\n",
              "        vertical-align: middle;\n",
              "    }\n",
              "\n",
              "    .dataframe tbody tr th {\n",
              "        vertical-align: top;\n",
              "    }\n",
              "\n",
              "    .dataframe thead th {\n",
              "        text-align: right;\n",
              "    }\n",
              "</style>\n",
              "<table border=\"1\" class=\"dataframe\">\n",
              "  <thead>\n",
              "    <tr style=\"text-align: right;\">\n",
              "      <th></th>\n",
              "      <th>x0</th>\n",
              "      <th>x</th>\n",
              "      <th>x1</th>\n",
              "      <th>f(x0)</th>\n",
              "      <th>f(x)</th>\n",
              "      <th>f(x1)</th>\n",
              "    </tr>\n",
              "  </thead>\n",
              "  <tbody>\n",
              "    <tr>\n",
              "      <th>0</th>\n",
              "      <td>5.000000</td>\n",
              "      <td>6.287530</td>\n",
              "      <td>7.5</td>\n",
              "      <td>-345.501531</td>\n",
              "      <td>-18.329822</td>\n",
              "      <td>325.359401</td>\n",
              "    </tr>\n",
              "    <tr>\n",
              "      <th>1</th>\n",
              "      <td>6.287530</td>\n",
              "      <td>6.352194</td>\n",
              "      <td>7.5</td>\n",
              "      <td>-18.329822</td>\n",
              "      <td>-0.766389</td>\n",
              "      <td>325.359401</td>\n",
              "    </tr>\n",
              "    <tr>\n",
              "      <th>2</th>\n",
              "      <td>6.352194</td>\n",
              "      <td>6.354892</td>\n",
              "      <td>7.5</td>\n",
              "      <td>-0.766389</td>\n",
              "      <td>-0.031675</td>\n",
              "      <td>325.359401</td>\n",
              "    </tr>\n",
              "    <tr>\n",
              "      <th>3</th>\n",
              "      <td>6.354892</td>\n",
              "      <td>6.355003</td>\n",
              "      <td>7.5</td>\n",
              "      <td>-0.031675</td>\n",
              "      <td>-0.001309</td>\n",
              "      <td>325.359401</td>\n",
              "    </tr>\n",
              "    <tr>\n",
              "      <th>4</th>\n",
              "      <td>6.355003</td>\n",
              "      <td>6.355008</td>\n",
              "      <td>7.5</td>\n",
              "      <td>-0.001309</td>\n",
              "      <td>-0.000054</td>\n",
              "      <td>325.359401</td>\n",
              "    </tr>\n",
              "    <tr>\n",
              "      <th>5</th>\n",
              "      <td>6.355008</td>\n",
              "      <td>6.355008</td>\n",
              "      <td>7.5</td>\n",
              "      <td>-0.000054</td>\n",
              "      <td>-0.000002</td>\n",
              "      <td>325.359401</td>\n",
              "    </tr>\n",
              "  </tbody>\n",
              "</table>\n",
              "</div>"
            ],
            "text/plain": [
              "         x0         x   x1       f(x0)       f(x)       f(x1)\n",
              "0  5.000000  6.287530  7.5 -345.501531 -18.329822  325.359401\n",
              "1  6.287530  6.352194  7.5  -18.329822  -0.766389  325.359401\n",
              "2  6.352194  6.354892  7.5   -0.766389  -0.031675  325.359401\n",
              "3  6.354892  6.355003  7.5   -0.031675  -0.001309  325.359401\n",
              "4  6.355003  6.355008  7.5   -0.001309  -0.000054  325.359401\n",
              "5  6.355008  6.355008  7.5   -0.000054  -0.000002  325.359401"
            ]
          },
          "metadata": {
            "tags": []
          },
          "execution_count": 13
        }
      ]
    },
    {
      "cell_type": "markdown",
      "metadata": {
        "id": "_x1tXGJN9OfQ"
      },
      "source": [
        "##Newton-Raphson"
      ]
    },
    {
      "cell_type": "code",
      "metadata": {
        "id": "jasgclkU9TPs"
      },
      "source": [
        "#Definición de la función para el método de Newton-Raphson\n",
        "\n"
      ],
      "execution_count": null,
      "outputs": []
    },
    {
      "cell_type": "markdown",
      "metadata": {
        "id": "xT0RgYyL-rN4"
      },
      "source": [
        "Fluye aire a una temperatura de 25 C y\n",
        "1 atm a través de un tubo de 4 mm de diámetro a una velocidad promedio de 50 m/s. La\n",
        "rugosidad es de $\\epsilon= 0.0015mm$ y $Re=13743$. Calcular el factor de fricción usando la ecuación\n",
        "de Colebrook.\n",
        "$$\n",
        "\\frac{1}{\\sqrt{f}}=\n",
        "-2.0log\\left(\\frac{\\epsilon/D}{3.7}\n",
        "+\n",
        "\\frac{2.51}{Re\\sqrt{f}}\n",
        "\\right)\\\\\n",
        "F(f)=\\frac{1}{\\sqrt{f}}+2.0log\\left(\\frac{\\epsilon/D}{3.7}\n",
        "+\n",
        "\\frac{2.51}{Re\\sqrt{f}}\n",
        "\\right)\\\\\n",
        "F'(f)=\\frac{-1}{2\\sqrt{f^3}}-\\frac{2.51}{Re\\sqrt{f^3}\\frac{2.51}{Re\\sqrt{f}}+\\frac{\\epsilon /D}{3.7}}\n",
        "$$"
      ]
    },
    {
      "cell_type": "code",
      "metadata": {
        "id": "zWR7KhaTBkQi"
      },
      "source": [
        "#definir la función a resolver\n",
        "\n"
      ],
      "execution_count": null,
      "outputs": []
    },
    {
      "cell_type": "code",
      "metadata": {
        "id": "aokQIHfeutdW"
      },
      "source": [
        "#Graficar la función para identificar el comportamiento y ubicar los puntos iniciales\n",
        "\n"
      ],
      "execution_count": null,
      "outputs": []
    },
    {
      "cell_type": "code",
      "metadata": {
        "id": "c3b8UP2Ruokh"
      },
      "source": [
        "#Hacer la llamada a la función\n",
        "\n"
      ],
      "execution_count": null,
      "outputs": []
    },
    {
      "cell_type": "markdown",
      "metadata": {
        "id": "XOYLbtBW9U1N"
      },
      "source": [
        "##Secante"
      ]
    },
    {
      "cell_type": "code",
      "metadata": {
        "id": "ylLArfoM9W8w"
      },
      "source": [
        "#Definición de la función para el método de Secante\n",
        "\n"
      ],
      "execution_count": null,
      "outputs": []
    },
    {
      "cell_type": "markdown",
      "metadata": {
        "id": "TdfgbYquvEjl"
      },
      "source": [
        "**Problema**: Fluye aire a una temperatura de 25 C y\n",
        "1 atm a través de un tubo de 4 mm de diámetro a una velocidad promedio de 50 m/s. La\n",
        "rugosidad es de $\\epsilon= 0.0015mm$ y $Re=13743$. Calcular el factor de fricción usando la ecuación\n",
        "de Colebrook.\n",
        "$$\n",
        "\\frac{1}{\\sqrt{f}}=\n",
        "-2.0log\\left(\\frac{\\epsilon/D}{3.7}\n",
        "+\n",
        "\\frac{2.51}{Re\\sqrt{f}}\n",
        "\\right)\\\\\n",
        "F(f)=\\frac{1}{\\sqrt{f}}+2.0log\\left(\\frac{\\epsilon/D}{3.7}\n",
        "+\n",
        "\\frac{2.51}{Re\\sqrt{f}}\n",
        "\\right)\n",
        "$$"
      ]
    },
    {
      "cell_type": "code",
      "metadata": {
        "id": "26_hOktuvQvS"
      },
      "source": [
        "#definir la función a resolver\n",
        "\n"
      ],
      "execution_count": null,
      "outputs": []
    },
    {
      "cell_type": "code",
      "metadata": {
        "id": "zG40Maz6vUEe"
      },
      "source": [
        "#Graficar la función para identificar el comportamiento y ubicar los puntos iniciales\n",
        "\n"
      ],
      "execution_count": null,
      "outputs": []
    },
    {
      "cell_type": "code",
      "metadata": {
        "id": "FDqc5FDtvXQD"
      },
      "source": [
        "#Hacer la llamada a la función\n"
      ],
      "execution_count": null,
      "outputs": []
    },
    {
      "cell_type": "markdown",
      "metadata": {
        "id": "PTwIMk_U9YJ-"
      },
      "source": [
        "##Muller"
      ]
    },
    {
      "cell_type": "code",
      "metadata": {
        "id": "wXMDbclGvgaG"
      },
      "source": [
        "#Definición de la función para el método de Muller\n",
        "\n"
      ],
      "execution_count": null,
      "outputs": []
    },
    {
      "cell_type": "markdown",
      "metadata": {
        "id": "PH94lCsUvvlE"
      },
      "source": [
        "**Problema**: Calcular el volumen de $2 moles$ de $CO_2$ a una presión de $10 atm$ y $300K$, usando la ecuación de Van der Waals\n",
        "\n",
        "$$\n",
        "\\left(P+\\frac{an^2}{V^2}\\right) (V-nb) = nRT\n",
        "$$\n",
        "\n",
        "Donde $a = 3.592$, $b = 0.04267$, $n = 2$, $R = 0.082$, $T = 300$ y $P = 10$."
      ]
    },
    {
      "cell_type": "code",
      "metadata": {
        "id": "tdVwvSt09dWs"
      },
      "source": [
        "#definir la función a resolver\n",
        "\n"
      ],
      "execution_count": null,
      "outputs": []
    },
    {
      "cell_type": "code",
      "metadata": {
        "id": "yzYqYU2dxL10"
      },
      "source": [
        "#Graficar la función para identificar el comportamiento y ubicar los puntos iniciales\n",
        "\n"
      ],
      "execution_count": null,
      "outputs": []
    },
    {
      "cell_type": "code",
      "metadata": {
        "id": "EkknozVyxOtd"
      },
      "source": [
        "#Hacer la llamada a la función\n"
      ],
      "execution_count": null,
      "outputs": []
    },
    {
      "cell_type": "markdown",
      "metadata": {
        "id": "59qcgIwm9ePI"
      },
      "source": [
        "##Punto fijo"
      ]
    },
    {
      "cell_type": "code",
      "metadata": {
        "id": "-mUsAa-W9hio"
      },
      "source": [
        "#Definición de la función para el método de Punto Fijo\n"
      ],
      "execution_count": null,
      "outputs": []
    },
    {
      "cell_type": "markdown",
      "metadata": {
        "id": "27tKOeHWxkzv"
      },
      "source": [
        "**Problema**: Calcular el volumen de $2 moles$ de $CO_2$ a una presión de $10 atm$ y $300K$, usando la ecuación de Van der Waals\n",
        "\n",
        "$$\n",
        "\\left(P+\\frac{an^2}{V^2}\\right) (V-nb) = nRT\n",
        "$$\n",
        "\n",
        "Donde $a = 3.592$, $b = 0.04267$, $n = 2$, $R = 0.082$, $T = 300$ y $P = 10$."
      ]
    },
    {
      "cell_type": "code",
      "metadata": {
        "id": "UVJ6v0zKx2v7"
      },
      "source": [
        "#definir la función a resolver\n",
        "\n"
      ],
      "execution_count": null,
      "outputs": []
    },
    {
      "cell_type": "code",
      "metadata": {
        "id": "JsUGRbaOx7Eb"
      },
      "source": [
        "#Graficar la función para identificar el comportamiento y ubicar los puntos iniciales\n",
        "\n"
      ],
      "execution_count": null,
      "outputs": []
    },
    {
      "cell_type": "code",
      "metadata": {
        "id": "r4AHgWY7x-SM"
      },
      "source": [
        "#Hacer la llamada a la función\n"
      ],
      "execution_count": null,
      "outputs": []
    }
  ]
}