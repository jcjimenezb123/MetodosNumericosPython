{
  "nbformat": 4,
  "nbformat_minor": 0,
  "metadata": {
    "colab": {
      "name": "EcuacionesNoLineales.ipynb",
      "provenance": [],
      "collapsed_sections": [],
      "authorship_tag": "ABX9TyNt+cBezSy4rWBWLDGE5ppc",
      "include_colab_link": true
    },
    "kernelspec": {
      "name": "python3",
      "display_name": "Python 3"
    },
    "language_info": {
      "name": "python"
    }
  },
  "cells": [
    {
      "cell_type": "markdown",
      "metadata": {
        "id": "view-in-github",
        "colab_type": "text"
      },
      "source": [
        "<a href=\"https://colab.research.google.com/github/jcjimenezb123/MetodosNumericosPython/blob/master/EcuacionesNoLineales.ipynb\" target=\"_parent\"><img src=\"https://colab.research.google.com/assets/colab-badge.svg\" alt=\"Open In Colab\"/></a>"
      ]
    },
    {
      "cell_type": "markdown",
      "metadata": {
        "id": "vOL29YWD3w2Q"
      },
      "source": [
        "#Métodos numéricos\n",
        "\n",
        "Desarrollo de métodos para resolver ecuaciones no lineales"
      ]
    },
    {
      "cell_type": "code",
      "metadata": {
        "id": "a2jcugs-jSie"
      },
      "source": [
        "#import de bibliotecas necesarias\n"
      ],
      "execution_count": null,
      "outputs": []
    },
    {
      "cell_type": "markdown",
      "metadata": {
        "id": "3RbdXNIp3-by"
      },
      "source": [
        "##Bisección"
      ]
    },
    {
      "cell_type": "markdown",
      "metadata": {
        "id": "LbrJUMO-4Dnl"
      },
      "source": [
        "Definición de la función del método de **Bisección**"
      ]
    },
    {
      "cell_type": "code",
      "metadata": {
        "id": "yjQ9DvM_3v29"
      },
      "source": [
        "#Esciba el código del método de Bisección\n"
      ],
      "execution_count": null,
      "outputs": []
    },
    {
      "cell_type": "code",
      "metadata": {
        "id": "rjX9yGbB9sXl"
      },
      "source": [
        "#Ayuda de la función\n"
      ],
      "execution_count": null,
      "outputs": []
    },
    {
      "cell_type": "markdown",
      "metadata": {
        "id": "PU7I3QAk4Zso"
      },
      "source": [
        "**Problema**: Encontrar la raíz cuadrada de 2 usando el método de **Bisección**\n",
        "\n",
        "$$\n",
        "\\sqrt{2}=x\\\\\n",
        "2=x^2\\\\\n",
        "f(x)=x^2-2=0\n",
        "$$"
      ]
    },
    {
      "cell_type": "code",
      "metadata": {
        "id": "CE1ttST24WEH"
      },
      "source": [
        "#definir la función a resolver\n",
        "\n"
      ],
      "execution_count": null,
      "outputs": []
    },
    {
      "cell_type": "code",
      "metadata": {
        "id": "pv7hO8ec48Ye"
      },
      "source": [
        "#Graficar la función para identificar el comportamiento y ubicar los puntos iniciales\n",
        "\n"
      ],
      "execution_count": null,
      "outputs": []
    },
    {
      "cell_type": "code",
      "metadata": {
        "id": "VYulT2YA5E27"
      },
      "source": [
        "#Hacer la llamada a la función\n"
      ],
      "execution_count": null,
      "outputs": []
    },
    {
      "cell_type": "markdown",
      "metadata": {
        "id": "AhhjGGVy5jLb"
      },
      "source": [
        "**Problema**: Encontrar la raíz cúbica de 5 usando el método de **Bisección**\n",
        "\n",
        "$$\n",
        "\n",
        "$$"
      ]
    },
    {
      "cell_type": "code",
      "metadata": {
        "id": "QMvRq4cBy8eI"
      },
      "source": [
        "#definir la función a resolver\n"
      ],
      "execution_count": null,
      "outputs": []
    },
    {
      "cell_type": "code",
      "metadata": {
        "id": "VYWyL4jizQrO"
      },
      "source": [
        "#Graficar la función para identificar el comportamiento y ubicar los puntos iniciales\n"
      ],
      "execution_count": null,
      "outputs": []
    },
    {
      "cell_type": "code",
      "metadata": {
        "id": "__vyqW9AztRD"
      },
      "source": [
        "#Hacer la llamada a la función\n"
      ],
      "execution_count": null,
      "outputs": []
    },
    {
      "cell_type": "markdown",
      "metadata": {
        "id": "T1aX9X2P6FUq"
      },
      "source": [
        "##Regla Falsa"
      ]
    },
    {
      "cell_type": "code",
      "metadata": {
        "id": "Nbfe8Q-35ojl"
      },
      "source": [
        "#Definición de la función para el método de la Regla Falsa\n"
      ],
      "execution_count": null,
      "outputs": []
    },
    {
      "cell_type": "markdown",
      "metadata": {
        "id": "HwJxCUyw6tAI"
      },
      "source": [
        "**Problema**: Calcular la altura del agua en un tanque esférico que contenga $1000 l$ si el radio del tanque es $R=10$\n",
        "\n",
        "$$\n",
        "V=\\pi h^2\\left( \\frac{3R-h}{3}\\right)\\\\\n",
        "1000=\\pi h^2\\left( \\frac{30-h}{3}\\right)\\\\\n",
        "f(h)=\\pi h^2\\left( \\frac{30-h}{3}\\right)-1000=0\n",
        "$$"
      ]
    },
    {
      "cell_type": "code",
      "metadata": {
        "id": "XxQjZgwa8KGF"
      },
      "source": [
        "#definir la función a resolver\n",
        "\n"
      ],
      "execution_count": null,
      "outputs": []
    },
    {
      "cell_type": "code",
      "metadata": {
        "id": "El-V5iad8Oel"
      },
      "source": [
        "#Graficar la función para identificar el comportamiento y ubicar los puntos iniciales\n",
        "\n"
      ],
      "execution_count": null,
      "outputs": []
    },
    {
      "cell_type": "code",
      "metadata": {
        "id": "-1UDccqK8SGk"
      },
      "source": [
        "#Hacer la llamada a la función\n"
      ],
      "execution_count": null,
      "outputs": []
    },
    {
      "cell_type": "markdown",
      "metadata": {
        "id": "_x1tXGJN9OfQ"
      },
      "source": [
        "##Newton-Raphson"
      ]
    },
    {
      "cell_type": "code",
      "metadata": {
        "id": "jasgclkU9TPs"
      },
      "source": [
        "#Definición de la función para el método de Newton-Raphson\n",
        "\n"
      ],
      "execution_count": null,
      "outputs": []
    },
    {
      "cell_type": "markdown",
      "metadata": {
        "id": "xT0RgYyL-rN4"
      },
      "source": [
        "Fluye aire a una temperatura de 25 C y\n",
        "1 atm a través de un tubo de 4 mm de diámetro a una velocidad promedio de 50 m/s. La\n",
        "rugosidad es de $\\epsilon= 0.0015mm$ y $Re=13743$. Calcular el factor de fricción usando la ecuación\n",
        "de Colebrook.\n",
        "$$\n",
        "\\frac{1}{\\sqrt{f}}=\n",
        "-2.0log\\left(\\frac{\\epsilon/D}{3.7}\n",
        "+\n",
        "\\frac{2.51}{Re\\sqrt{f}}\n",
        "\\right)\\\\\n",
        "F(f)=\\frac{1}{\\sqrt{f}}+2.0log\\left(\\frac{\\epsilon/D}{3.7}\n",
        "+\n",
        "\\frac{2.51}{Re\\sqrt{f}}\n",
        "\\right)\\\\\n",
        "F'(f)=\\frac{-1}{2\\sqrt{f^3}}-\\frac{2.51}{Re\\sqrt{f^3}\\frac{2.51}{Re\\sqrt{f}}+\\frac{\\epsilon /D}{3.7}}\n",
        "$$"
      ]
    },
    {
      "cell_type": "code",
      "metadata": {
        "id": "zWR7KhaTBkQi"
      },
      "source": [
        "#definir la función a resolver\n",
        "\n"
      ],
      "execution_count": null,
      "outputs": []
    },
    {
      "cell_type": "code",
      "metadata": {
        "id": "aokQIHfeutdW"
      },
      "source": [
        "#Graficar la función para identificar el comportamiento y ubicar los puntos iniciales\n",
        "\n"
      ],
      "execution_count": null,
      "outputs": []
    },
    {
      "cell_type": "code",
      "metadata": {
        "id": "c3b8UP2Ruokh"
      },
      "source": [
        "#Hacer la llamada a la función\n",
        "\n"
      ],
      "execution_count": null,
      "outputs": []
    },
    {
      "cell_type": "markdown",
      "metadata": {
        "id": "XOYLbtBW9U1N"
      },
      "source": [
        "##Secante"
      ]
    },
    {
      "cell_type": "code",
      "metadata": {
        "id": "ylLArfoM9W8w"
      },
      "source": [
        "#Definición de la función para el método de Secante\n",
        "\n"
      ],
      "execution_count": null,
      "outputs": []
    },
    {
      "cell_type": "markdown",
      "metadata": {
        "id": "TdfgbYquvEjl"
      },
      "source": [
        "**Problema**: Fluye aire a una temperatura de 25 C y\n",
        "1 atm a través de un tubo de 4 mm de diámetro a una velocidad promedio de 50 m/s. La\n",
        "rugosidad es de $\\epsilon= 0.0015mm$ y $Re=13743$. Calcular el factor de fricción usando la ecuación\n",
        "de Colebrook.\n",
        "$$\n",
        "\\frac{1}{\\sqrt{f}}=\n",
        "-2.0log\\left(\\frac{\\epsilon/D}{3.7}\n",
        "+\n",
        "\\frac{2.51}{Re\\sqrt{f}}\n",
        "\\right)\\\\\n",
        "F(f)=\\frac{1}{\\sqrt{f}}+2.0log\\left(\\frac{\\epsilon/D}{3.7}\n",
        "+\n",
        "\\frac{2.51}{Re\\sqrt{f}}\n",
        "\\right)\n",
        "$$"
      ]
    },
    {
      "cell_type": "code",
      "metadata": {
        "id": "26_hOktuvQvS"
      },
      "source": [
        "#definir la función a resolver\n",
        "\n"
      ],
      "execution_count": null,
      "outputs": []
    },
    {
      "cell_type": "code",
      "metadata": {
        "id": "zG40Maz6vUEe"
      },
      "source": [
        "#Graficar la función para identificar el comportamiento y ubicar los puntos iniciales\n",
        "\n"
      ],
      "execution_count": null,
      "outputs": []
    },
    {
      "cell_type": "code",
      "metadata": {
        "id": "FDqc5FDtvXQD"
      },
      "source": [
        "#Hacer la llamada a la función\n"
      ],
      "execution_count": null,
      "outputs": []
    },
    {
      "cell_type": "markdown",
      "metadata": {
        "id": "PTwIMk_U9YJ-"
      },
      "source": [
        "##Muller"
      ]
    },
    {
      "cell_type": "code",
      "metadata": {
        "id": "wXMDbclGvgaG"
      },
      "source": [
        "#Definición de la función para el método de Muller\n",
        "\n"
      ],
      "execution_count": null,
      "outputs": []
    },
    {
      "cell_type": "markdown",
      "metadata": {
        "id": "PH94lCsUvvlE"
      },
      "source": [
        "**Problema**: Calcular el volumen de $2 moles$ de $CO_2$ a una presión de $10 atm$ y $300K$, usando la ecuación de Van der Waals\n",
        "\n",
        "$$\n",
        "\\left(P+\\frac{an^2}{V^2}\\right) (V-nb) = nRT\n",
        "$$\n",
        "\n",
        "Donde $a = 3.592$, $b = 0.04267$, $n = 2$, $R = 0.082$, $T = 300$ y $P = 10$."
      ]
    },
    {
      "cell_type": "code",
      "metadata": {
        "id": "tdVwvSt09dWs"
      },
      "source": [
        "#definir la función a resolver\n",
        "\n"
      ],
      "execution_count": null,
      "outputs": []
    },
    {
      "cell_type": "code",
      "metadata": {
        "id": "yzYqYU2dxL10"
      },
      "source": [
        "#Graficar la función para identificar el comportamiento y ubicar los puntos iniciales\n",
        "\n"
      ],
      "execution_count": null,
      "outputs": []
    },
    {
      "cell_type": "code",
      "metadata": {
        "id": "EkknozVyxOtd"
      },
      "source": [
        "#Hacer la llamada a la función\n"
      ],
      "execution_count": null,
      "outputs": []
    },
    {
      "cell_type": "markdown",
      "metadata": {
        "id": "59qcgIwm9ePI"
      },
      "source": [
        "##Punto fijo"
      ]
    },
    {
      "cell_type": "code",
      "metadata": {
        "id": "-mUsAa-W9hio"
      },
      "source": [
        "#Definición de la función para el método de Punto Fijo\n"
      ],
      "execution_count": null,
      "outputs": []
    },
    {
      "cell_type": "markdown",
      "metadata": {
        "id": "27tKOeHWxkzv"
      },
      "source": [
        "**Problema**: Calcular el volumen de $2 moles$ de $CO_2$ a una presión de $10 atm$ y $300K$, usando la ecuación de Van der Waals\n",
        "\n",
        "$$\n",
        "\\left(P+\\frac{an^2}{V^2}\\right) (V-nb) = nRT\n",
        "$$\n",
        "\n",
        "Donde $a = 3.592$, $b = 0.04267$, $n = 2$, $R = 0.082$, $T = 300$ y $P = 10$."
      ]
    },
    {
      "cell_type": "code",
      "metadata": {
        "id": "UVJ6v0zKx2v7"
      },
      "source": [
        "#definir la función a resolver\n",
        "\n"
      ],
      "execution_count": null,
      "outputs": []
    },
    {
      "cell_type": "code",
      "metadata": {
        "id": "JsUGRbaOx7Eb"
      },
      "source": [
        "#Graficar la función para identificar el comportamiento y ubicar los puntos iniciales\n",
        "\n"
      ],
      "execution_count": null,
      "outputs": []
    },
    {
      "cell_type": "code",
      "metadata": {
        "id": "r4AHgWY7x-SM"
      },
      "source": [
        "#Hacer la llamada a la función\n"
      ],
      "execution_count": null,
      "outputs": []
    }
  ]
}