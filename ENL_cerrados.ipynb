{
  "nbformat": 4,
  "nbformat_minor": 0,
  "metadata": {
    "colab": {
      "name": "ENL_cerrados.ipynb",
      "provenance": [],
      "collapsed_sections": [],
      "authorship_tag": "ABX9TyNyFwMy4IjmFOysSQEKnvuT",
      "include_colab_link": true
    },
    "kernelspec": {
      "name": "python3",
      "display_name": "Python 3"
    }
  },
  "cells": [
    {
      "cell_type": "markdown",
      "metadata": {
        "id": "view-in-github",
        "colab_type": "text"
      },
      "source": [
        "<a href=\"https://colab.research.google.com/github/jcjimenezb123/MetodosNumericosPython/blob/master/ENL_cerrados.ipynb\" target=\"_parent\"><img src=\"https://colab.research.google.com/assets/colab-badge.svg\" alt=\"Open In Colab\"/></a>"
      ]
    },
    {
      "cell_type": "code",
      "metadata": {
        "id": "sPGTzJ4X-C4D"
      },
      "source": [
        "import numpy as np\n",
        "import pandas as pd"
      ],
      "execution_count": null,
      "outputs": []
    },
    {
      "cell_type": "markdown",
      "metadata": {
        "id": "j8KejAAk5QrH"
      },
      "source": [
        "#Metodos Cerrados"
      ]
    },
    {
      "cell_type": "markdown",
      "metadata": {
        "id": "2zR9Cubt49Gi"
      },
      "source": [
        "##Metodo de Biseccion"
      ]
    },
    {
      "cell_type": "code",
      "metadata": {
        "id": "OeoYL3Ep-Plk"
      },
      "source": [
        "def biseccion(f,x0,x1,tol=1e-5):\n",
        "  '''\n",
        "  El metodo de Biseccion es un metodo cerrado para resolver ecuaciones no lineales\n",
        "  los argumentos son:\n",
        "       f : ecuacion a resolver expresada en la forma f(x)=0\n",
        "  x0, x1 : puntos que encierran la raiz f(x0)*f(x1)<0\n",
        "     tol : tolerancia (valor por defecto 1e-5)\n",
        "  '''\n",
        "  if f(x0)*f(x1)>0:\n",
        "    raise Exception('Rango invalido, no cruza el eje x!!')\n",
        "  x=x0\n",
        "  tabla=pd.DataFrame(columns=['x0','x','x1','f(x0)','f(x)','f(x1)'])\n",
        "  while np.abs(f(x))>tol:\n",
        "    x=(x0+x1)/2\n",
        "    tabla=tabla.append({'x0':x0,'x':x,'x1':x1,\n",
        "                        'f(x0)':f(x0),'f(x)':f(x),'f(x1)':f(x1)},\n",
        "                       ignore_index=True)\n",
        "    if f(x0)*f(x)<0:\n",
        "      x1=x\n",
        "    else:\n",
        "      x0=x\n",
        "\n",
        "  return x,tabla"
      ],
      "execution_count": null,
      "outputs": []
    },
    {
      "cell_type": "code",
      "metadata": {
        "id": "Nm2M3RUH2W3N",
        "colab": {
          "base_uri": "https://localhost:8080/"
        },
        "outputId": "e9b438ef-d03e-4763-b9e8-c60040aa17e7"
      },
      "source": [
        "help(biseccion)"
      ],
      "execution_count": null,
      "outputs": [
        {
          "output_type": "stream",
          "text": [
            "Help on function biseccion in module __main__:\n",
            "\n",
            "biseccion(f, x0, x1, tol=1e-05)\n",
            "    El metodo de Biseccion es un metodo cerrado para resolver ecuaciones no lineales\n",
            "    los argumentos son:\n",
            "         f : ecuacion a resolver expresada en la forma f(x)=0\n",
            "    x0, x1 : puntos que encierran la raiz f(x0)*f(x1)<0\n",
            "       tol : tolerancia (valor por defecto 1e-5)\n",
            "\n"
          ],
          "name": "stdout"
        }
      ]
    },
    {
      "cell_type": "markdown",
      "metadata": {
        "id": "-2Ljcu9O5A1f"
      },
      "source": [
        "##Metodo de la Regla Falsa\n",
        "Se debe modificar para calcular x"
      ]
    },
    {
      "cell_type": "code",
      "metadata": {
        "id": "t1XdKpVHM6Cd"
      },
      "source": [
        "def reglafalsa(f,x0,x1,tol=1e-5):\n",
        "  if f(x0)*f(x1)>0:\n",
        "    raise Exception('Rango invalido, no cruza el eje x!!')\n",
        "  x=x0\n",
        "  tabla=pd.DataFrame(columns=['x0','x','x1','f(x0)','f(x)','f(x1)'])\n",
        "  while np.abs(f(x))>tol:\n",
        "    x= 0#Escriban aqui la ecuacion para calcular x\n",
        "    tabla=tabla.append({'x0':x0,'x':x,'x1':x1,\n",
        "                        'f(x0)':f(x0),'f(x)':f(x),'f(x1)':f(x1)},\n",
        "                       ignore_index=True)\n",
        "    if f(x0)*f(x)<0:\n",
        "      x1=x\n",
        "    else:\n",
        "      x0=x\n",
        "\n",
        "  return x,tabla"
      ],
      "execution_count": null,
      "outputs": []
    },
    {
      "cell_type": "markdown",
      "metadata": {
        "id": "tZcM2sdV5ZAp"
      },
      "source": [
        "#Metodos Abiertos"
      ]
    },
    {
      "cell_type": "markdown",
      "metadata": {
        "id": "5BiK8WrO5Kif"
      },
      "source": [
        "##Metodo de Newton - Raphson"
      ]
    },
    {
      "cell_type": "code",
      "metadata": {
        "id": "1tyuyuO0Nr_k"
      },
      "source": [
        "def nr(f,df,x,tol=1e-5):\n",
        "  tabla=pd.DataFrame(columns=['x','f(x)','df(x)'])\n",
        "  while np.abs(f(x))>tol:\n",
        "    x=x-f(x)/df(x)\n",
        "    tabla=tabla.append({'x':x,\n",
        "                        'f(x)':f(x),\n",
        "                        'df(x)':df(x)},\n",
        "                       ignore_index=True)\n",
        "    \n",
        "  return x,tabla"
      ],
      "execution_count": null,
      "outputs": []
    },
    {
      "cell_type": "markdown",
      "metadata": {
        "id": "Q0Qmms5A5kuh"
      },
      "source": [
        "##Metodo de la Secante\n",
        "Se debe modificar para calcular x"
      ]
    },
    {
      "cell_type": "code",
      "metadata": {
        "id": "n3oCvlscO9YS"
      },
      "source": [
        "def secante(f,x0,x1,tol=1e-5):\n",
        "  x=x0\n",
        "  tabla=pd.DataFrame(columns=['x0','x1','x','f(x0)','f(x1)','f(x)'])\n",
        "  while np.abs(f(x))>tol:\n",
        "    x=0 #Escriban aqui la ecuacion para calcular x\n",
        "    tabla=tabla.append({'x0':x0,'x1':x1,'x':x,\n",
        "                        'f(x0)':f(x0),'f(x1)':f(x1),'f(x)':f(x)},\n",
        "                       ignore_index=True)\n",
        "    x0=x1\n",
        "    x1=x\n",
        "\n",
        "  return x,tabla"
      ],
      "execution_count": null,
      "outputs": []
    },
    {
      "cell_type": "markdown",
      "metadata": {
        "id": "bHI4qs4u5qj1"
      },
      "source": [
        "##Metodo de Muller"
      ]
    },
    {
      "cell_type": "code",
      "metadata": {
        "id": "f3kjqMY-RSfD"
      },
      "source": [
        "def muller(f,x0,x1,x2,tol=1e-5):\n",
        "  tabla=pd.DataFrame(columns=['x0','x1','x2','x3','f(x0)','f(x1)','f(x2)','f(x3)'])\n",
        "  x3=x0\n",
        "  while np.abs(f(x3))>tol:\n",
        "    d1=(f(x1)-f(x0))/(x1-x0)\n",
        "    d2=(f(x2)-f(x1))/(x2-x1)\n",
        "    d3=(d2-d1)/(x2-x0)\n",
        "    a=d3\n",
        "    b=d1-a*(x0+x1)\n",
        "    c=f(x0)+x0*(a*x1-d1)\n",
        "    den1=-b+np.sqrt(b**2-4*a*c+0j)\n",
        "    den2=-b-np.sqrt(b**2-4*a*c+0j)\n",
        "    if np.abs(den1)>np.abs(den2):\n",
        "      x3=2*c/den1\n",
        "    else:\n",
        "      x3=2*c/den2\n",
        "    tabla=tabla.append({'x0':x0,'x1':x1,'x2':x2,'x3':x3,\n",
        "                        'f(x0)':f(x0),'f(x1)':f(x1),'f(x2)':f(x2),'f(x3)':f(x3)},\n",
        "                       ignore_index=True)\n",
        "    x0=x1\n",
        "    x1=x2\n",
        "    x2=x3\n",
        "  return x3,tabla"
      ],
      "execution_count": null,
      "outputs": []
    },
    {
      "cell_type": "markdown",
      "metadata": {
        "id": "Xw0ZdHhL5uez"
      },
      "source": [
        "##Metodo del Punto fijo"
      ]
    },
    {
      "cell_type": "code",
      "metadata": {
        "id": "CI_0uFSIkz8I"
      },
      "source": [
        "def puntofijo(x,g,tol=1e-5):\n",
        "  tabla=pd.DataFrame(columns=['x','g(x)'])\n",
        "  while np.abs(x-g(x))>tol:\n",
        "    x=g(x)\n",
        "    tabla=tabla.append({'x':x,\n",
        "                        'g(x)':g(x)},\n",
        "                       ignore_index=True)\n",
        "    \n",
        "  return x,tabla"
      ],
      "execution_count": null,
      "outputs": []
    },
    {
      "cell_type": "markdown",
      "metadata": {
        "id": "h_eTqqkK5xme"
      },
      "source": [
        "##Metodo de Wegstein"
      ]
    },
    {
      "cell_type": "code",
      "metadata": {
        "id": "__Dq1pBDm5Qo"
      },
      "source": [
        "def wegstein(x0,g,tol=1e-5):\n",
        "  tabla=pd.DataFrame(columns=['x3','g(x3)'])\n",
        "  x1=g(x0)\n",
        "  x2=g(x1)\n",
        "  x3=x2\n",
        "  while np.abs(x3-g(x3))>tol:\n",
        "    x3 =( x1*g(x2)-x2*g(x1))/(x1 -g(x1)-x2+g(x2))\n",
        "    tabla=tabla.append({'x3':x3,\n",
        "                        'g(x3)':g(x3)},\n",
        "                       ignore_index=True)\n",
        "    x1=x2\n",
        "    x2=x3\n",
        "  return x3,tabla"
      ],
      "execution_count": null,
      "outputs": []
    },
    {
      "cell_type": "markdown",
      "metadata": {
        "id": "ijPo6Bdg55Jk"
      },
      "source": [
        "##Ejemplos"
      ]
    },
    {
      "cell_type": "markdown",
      "metadata": {
        "id": "9MnB9SRX6S_G"
      },
      "source": [
        "1. Primero se define la funcion a resolver, recuerde que debe estar en la forma $f(x)=0$"
      ]
    },
    {
      "cell_type": "code",
      "metadata": {
        "id": "d_aEB3SOAG3D"
      },
      "source": [
        "def f(x):\n",
        "  return x**2-2"
      ],
      "execution_count": 1,
      "outputs": []
    },
    {
      "cell_type": "markdown",
      "metadata": {
        "id": "UgiUcTyg7NHa"
      },
      "source": [
        "2. Se grafica para observar el comportamiento de la funcion"
      ]
    },
    {
      "cell_type": "code",
      "metadata": {
        "colab": {
          "base_uri": "https://localhost:8080/",
          "height": 265
        },
        "id": "0NAqJjHX7MY3",
        "outputId": "7d9d5f44-0a8b-4de9-d2fe-219e5f44b3ca"
      },
      "source": [
        "import matplotlib.pyplot as plt\n",
        "x=np.linspace(-10,10)\n",
        "y=f(x)\n",
        "plt.plot(x,y)\n",
        "plt.grid()\n",
        "plt.show()"
      ],
      "execution_count": null,
      "outputs": [
        {
          "output_type": "display_data",
          "data": {
            "image/png": "[encoded data removed]",
            "text/plain": [
              "<Figure size 432x288 with 1 Axes>"
            ]
          },
          "metadata": {
            "tags": [],
            "needs_background": "light"
          }
        }
      ]
    },
    {
      "cell_type": "markdown",
      "metadata": {
        "id": "S227NOGI6igX"
      },
      "source": [
        "3. Se aplica el metodo numerico para obtener la raiz de la ecuacion pasandole los parametros que requiere"
      ]
    },
    {
      "cell_type": "code",
      "metadata": {
        "colab": {
          "base_uri": "https://localhost:8080/",
          "height": 546
        },
        "id": "LEESHaqS6zN6",
        "outputId": "d27f858c-c2cd-42a3-a4f9-3635da218ff4"
      },
      "source": [
        "xr,tabla=biseccion(f,0,2)\n",
        "print(xr)\n",
        "tabla"
      ],
      "execution_count": null,
      "outputs": [
        {
          "output_type": "stream",
          "text": [
            "1.414215087890625\n"
          ],
          "name": "stdout"
        },
        {
          "output_type": "execute_result",
          "data": {
            "text/html": [
              "<div>\n",
              "<style scoped>\n",
              "    .dataframe tbody tr th:only-of-type {\n",
              "        vertical-align: middle;\n",
              "    }\n",
              "\n",
              "    .dataframe tbody tr th {\n",
              "        vertical-align: top;\n",
              "    }\n",
              "\n",
              "    .dataframe thead th {\n",
              "        text-align: right;\n",
              "    }\n",
              "</style>\n",
              "<table border=\"1\" class=\"dataframe\">\n",
              "  <thead>\n",
              "    <tr style=\"text-align: right;\">\n",
              "      <th></th>\n",
              "      <th>x0</th>\n",
              "      <th>x</th>\n",
              "      <th>x1</th>\n",
              "      <th>f(x0)</th>\n",
              "      <th>f(x)</th>\n",
              "      <th>f(x1)</th>\n",
              "    </tr>\n",
              "  </thead>\n",
              "  <tbody>\n",
              "    <tr>\n",
              "      <th>0</th>\n",
              "      <td>0.000000</td>\n",
              "      <td>1.000000</td>\n",
              "      <td>2.000000</td>\n",
              "      <td>-2.000000</td>\n",
              "      <td>-1.000000</td>\n",
              "      <td>2.000000</td>\n",
              "    </tr>\n",
              "    <tr>\n",
              "      <th>1</th>\n",
              "      <td>1.000000</td>\n",
              "      <td>1.500000</td>\n",
              "      <td>2.000000</td>\n",
              "      <td>-1.000000</td>\n",
              "      <td>0.250000</td>\n",
              "      <td>2.000000</td>\n",
              "    </tr>\n",
              "    <tr>\n",
              "      <th>2</th>\n",
              "      <td>1.000000</td>\n",
              "      <td>1.250000</td>\n",
              "      <td>1.500000</td>\n",
              "      <td>-1.000000</td>\n",
              "      <td>-0.437500</td>\n",
              "      <td>0.250000</td>\n",
              "    </tr>\n",
              "    <tr>\n",
              "      <th>3</th>\n",
              "      <td>1.250000</td>\n",
              "      <td>1.375000</td>\n",
              "      <td>1.500000</td>\n",
              "      <td>-0.437500</td>\n",
              "      <td>-0.109375</td>\n",
              "      <td>0.250000</td>\n",
              "    </tr>\n",
              "    <tr>\n",
              "      <th>4</th>\n",
              "      <td>1.375000</td>\n",
              "      <td>1.437500</td>\n",
              "      <td>1.500000</td>\n",
              "      <td>-0.109375</td>\n",
              "      <td>0.066406</td>\n",
              "      <td>0.250000</td>\n",
              "    </tr>\n",
              "    <tr>\n",
              "      <th>5</th>\n",
              "      <td>1.375000</td>\n",
              "      <td>1.406250</td>\n",
              "      <td>1.437500</td>\n",
              "      <td>-0.109375</td>\n",
              "      <td>-0.022461</td>\n",
              "      <td>0.066406</td>\n",
              "    </tr>\n",
              "    <tr>\n",
              "      <th>6</th>\n",
              "      <td>1.406250</td>\n",
              "      <td>1.421875</td>\n",
              "      <td>1.437500</td>\n",
              "      <td>-0.022461</td>\n",
              "      <td>0.021729</td>\n",
              "      <td>0.066406</td>\n",
              "    </tr>\n",
              "    <tr>\n",
              "      <th>7</th>\n",
              "      <td>1.406250</td>\n",
              "      <td>1.414062</td>\n",
              "      <td>1.421875</td>\n",
              "      <td>-0.022461</td>\n",
              "      <td>-0.000427</td>\n",
              "      <td>0.021729</td>\n",
              "    </tr>\n",
              "    <tr>\n",
              "      <th>8</th>\n",
              "      <td>1.414062</td>\n",
              "      <td>1.417969</td>\n",
              "      <td>1.421875</td>\n",
              "      <td>-0.000427</td>\n",
              "      <td>0.010635</td>\n",
              "      <td>0.021729</td>\n",
              "    </tr>\n",
              "    <tr>\n",
              "      <th>9</th>\n",
              "      <td>1.414062</td>\n",
              "      <td>1.416016</td>\n",
              "      <td>1.417969</td>\n",
              "      <td>-0.000427</td>\n",
              "      <td>0.005100</td>\n",
              "      <td>0.010635</td>\n",
              "    </tr>\n",
              "    <tr>\n",
              "      <th>10</th>\n",
              "      <td>1.414062</td>\n",
              "      <td>1.415039</td>\n",
              "      <td>1.416016</td>\n",
              "      <td>-0.000427</td>\n",
              "      <td>0.002336</td>\n",
              "      <td>0.005100</td>\n",
              "    </tr>\n",
              "    <tr>\n",
              "      <th>11</th>\n",
              "      <td>1.414062</td>\n",
              "      <td>1.414551</td>\n",
              "      <td>1.415039</td>\n",
              "      <td>-0.000427</td>\n",
              "      <td>0.000954</td>\n",
              "      <td>0.002336</td>\n",
              "    </tr>\n",
              "    <tr>\n",
              "      <th>12</th>\n",
              "      <td>1.414062</td>\n",
              "      <td>1.414307</td>\n",
              "      <td>1.414551</td>\n",
              "      <td>-0.000427</td>\n",
              "      <td>0.000263</td>\n",
              "      <td>0.000954</td>\n",
              "    </tr>\n",
              "    <tr>\n",
              "      <th>13</th>\n",
              "      <td>1.414062</td>\n",
              "      <td>1.414185</td>\n",
              "      <td>1.414307</td>\n",
              "      <td>-0.000427</td>\n",
              "      <td>-0.000082</td>\n",
              "      <td>0.000263</td>\n",
              "    </tr>\n",
              "    <tr>\n",
              "      <th>14</th>\n",
              "      <td>1.414185</td>\n",
              "      <td>1.414246</td>\n",
              "      <td>1.414307</td>\n",
              "      <td>-0.000082</td>\n",
              "      <td>0.000091</td>\n",
              "      <td>0.000263</td>\n",
              "    </tr>\n",
              "    <tr>\n",
              "      <th>15</th>\n",
              "      <td>1.414185</td>\n",
              "      <td>1.414215</td>\n",
              "      <td>1.414246</td>\n",
              "      <td>-0.000082</td>\n",
              "      <td>0.000004</td>\n",
              "      <td>0.000091</td>\n",
              "    </tr>\n",
              "  </tbody>\n",
              "</table>\n",
              "</div>"
            ],
            "text/plain": [
              "          x0         x        x1     f(x0)      f(x)     f(x1)\n",
              "0   0.000000  1.000000  2.000000 -2.000000 -1.000000  2.000000\n",
              "1   1.000000  1.500000  2.000000 -1.000000  0.250000  2.000000\n",
              "2   1.000000  1.250000  1.500000 -1.000000 -0.437500  0.250000\n",
              "3   1.250000  1.375000  1.500000 -0.437500 -0.109375  0.250000\n",
              "4   1.375000  1.437500  1.500000 -0.109375  0.066406  0.250000\n",
              "5   1.375000  1.406250  1.437500 -0.109375 -0.022461  0.066406\n",
              "6   1.406250  1.421875  1.437500 -0.022461  0.021729  0.066406\n",
              "7   1.406250  1.414062  1.421875 -0.022461 -0.000427  0.021729\n",
              "8   1.414062  1.417969  1.421875 -0.000427  0.010635  0.021729\n",
              "9   1.414062  1.416016  1.417969 -0.000427  0.005100  0.010635\n",
              "10  1.414062  1.415039  1.416016 -0.000427  0.002336  0.005100\n",
              "11  1.414062  1.414551  1.415039 -0.000427  0.000954  0.002336\n",
              "12  1.414062  1.414307  1.414551 -0.000427  0.000263  0.000954\n",
              "13  1.414062  1.414185  1.414307 -0.000427 -0.000082  0.000263\n",
              "14  1.414185  1.414246  1.414307 -0.000082  0.000091  0.000263\n",
              "15  1.414185  1.414215  1.414246 -0.000082  0.000004  0.000091"
            ]
          },
          "metadata": {
            "tags": []
          },
          "execution_count": 11
        }
      ]
    },
    {
      "cell_type": "code",
      "metadata": {
        "id": "srZBYbKfrUVh",
        "outputId": "63f48c2a-8344-44de-cfe5-e78d4908512f",
        "colab": {
          "base_uri": "https://localhost:8080/"
        }
      },
      "source": [
        "from scipy import optimize\n",
        "\n",
        "r=optimize.bisect(f,1,2)\n",
        "print('Raiz ',r)"
      ],
      "execution_count": 7,
      "outputs": [
        {
          "output_type": "stream",
          "text": [
            "Raiz  1.4142135623715149\n"
          ],
          "name": "stdout"
        }
      ]
    },
    {
      "cell_type": "markdown",
      "metadata": {
        "id": "s7pPQJ2s74Nn"
      },
      "source": [
        "4. Se grafica el resultado"
      ]
    },
    {
      "cell_type": "code",
      "metadata": {
        "colab": {
          "base_uri": "https://localhost:8080/",
          "height": 265
        },
        "id": "yE0JZeJR79-v",
        "outputId": "6bbe5f25-7674-468b-8427-91cae8c6229b"
      },
      "source": [
        "x=np.linspace(-3,3)\n",
        "y=f(x)\n",
        "plt.plot(x,y,xr,f(xr),'or')\n",
        "plt.text(xr,f(xr),'<- Raiz '+str(xr))\n",
        "plt.grid()\n",
        "plt.show()"
      ],
      "execution_count": null,
      "outputs": [
        {
          "output_type": "display_data",
          "data": {
            "image/png": "[encoded data removed]",
            "text/plain": [
              "<Figure size 432x288 with 1 Axes>"
            ]
          },
          "metadata": {
            "tags": [],
            "needs_background": "light"
          }
        }
      ]
    },
    {
      "cell_type": "code",
      "metadata": {
        "id": "XYOGmF70OWlf"
      },
      "source": [
        "def df(x):\n",
        "  return 2*x"
      ],
      "execution_count": null,
      "outputs": []
    },
    {
      "cell_type": "code",
      "metadata": {
        "id": "SlEZiNPdp1PP",
        "colab": {
          "base_uri": "https://localhost:8080/",
          "height": 156
        },
        "outputId": "de253607-6112-40a6-8671-3c21bfb89bb1"
      },
      "source": [
        "xr,tabla=nr(f,df,1)\n",
        "print(xr)\n",
        "tabla"
      ],
      "execution_count": null,
      "outputs": [
        {
          "output_type": "stream",
          "text": [
            "1.4142156862745099\n"
          ],
          "name": "stdout"
        },
        {
          "output_type": "execute_result",
          "data": {
            "text/html": [
              "<div>\n",
              "<style scoped>\n",
              "    .dataframe tbody tr th:only-of-type {\n",
              "        vertical-align: middle;\n",
              "    }\n",
              "\n",
              "    .dataframe tbody tr th {\n",
              "        vertical-align: top;\n",
              "    }\n",
              "\n",
              "    .dataframe thead th {\n",
              "        text-align: right;\n",
              "    }\n",
              "</style>\n",
              "<table border=\"1\" class=\"dataframe\">\n",
              "  <thead>\n",
              "    <tr style=\"text-align: right;\">\n",
              "      <th></th>\n",
              "      <th>x</th>\n",
              "      <th>f(x)</th>\n",
              "      <th>df(x)</th>\n",
              "    </tr>\n",
              "  </thead>\n",
              "  <tbody>\n",
              "    <tr>\n",
              "      <th>0</th>\n",
              "      <td>1.500000</td>\n",
              "      <td>0.250000</td>\n",
              "      <td>3.000000</td>\n",
              "    </tr>\n",
              "    <tr>\n",
              "      <th>1</th>\n",
              "      <td>1.416667</td>\n",
              "      <td>0.006944</td>\n",
              "      <td>2.833333</td>\n",
              "    </tr>\n",
              "    <tr>\n",
              "      <th>2</th>\n",
              "      <td>1.414216</td>\n",
              "      <td>0.000006</td>\n",
              "      <td>2.828431</td>\n",
              "    </tr>\n",
              "  </tbody>\n",
              "</table>\n",
              "</div>"
            ],
            "text/plain": [
              "          x      f(x)     df(x)\n",
              "0  1.500000  0.250000  3.000000\n",
              "1  1.416667  0.006944  2.833333\n",
              "2  1.414216  0.000006  2.828431"
            ]
          },
          "metadata": {
            "tags": []
          },
          "execution_count": 19
        }
      ]
    },
    {
      "cell_type": "code",
      "metadata": {
        "id": "ZKxQeyLdszJh",
        "outputId": "971851b8-93b3-49cb-a3b4-061ff31e63eb",
        "colab": {
          "base_uri": "https://localhost:8080/"
        }
      },
      "source": [
        "from scipy import optimize\n",
        "import sympy as sp\n",
        "\n",
        "r=optimize.newton(f,1,lambda x:2*x)\n",
        "print(r)"
      ],
      "execution_count": 26,
      "outputs": [
        {
          "output_type": "stream",
          "text": [
            "1.4142135623730951\n"
          ],
          "name": "stdout"
        }
      ]
    },
    {
      "cell_type": "code",
      "metadata": {
        "id": "9UZE0DOLObVw",
        "colab": {
          "base_uri": "https://localhost:8080/",
          "height": 96
        },
        "outputId": "2c55863f-e420-439b-ee85-a13315d7b242"
      },
      "source": [
        "raiz,tabla=muller(f,0,1,2)\n",
        "print(raiz)\n",
        "tabla"
      ],
      "execution_count": null,
      "outputs": [
        {
          "output_type": "stream",
          "text": [
            "(1.414213562373095-0j)\n"
          ],
          "name": "stdout"
        },
        {
          "output_type": "execute_result",
          "data": {
            "text/html": [
              "<div>\n",
              "<style scoped>\n",
              "    .dataframe tbody tr th:only-of-type {\n",
              "        vertical-align: middle;\n",
              "    }\n",
              "\n",
              "    .dataframe tbody tr th {\n",
              "        vertical-align: top;\n",
              "    }\n",
              "\n",
              "    .dataframe thead th {\n",
              "        text-align: right;\n",
              "    }\n",
              "</style>\n",
              "<table border=\"1\" class=\"dataframe\">\n",
              "  <thead>\n",
              "    <tr style=\"text-align: right;\">\n",
              "      <th></th>\n",
              "      <th>x0</th>\n",
              "      <th>x1</th>\n",
              "      <th>x2</th>\n",
              "      <th>x3</th>\n",
              "      <th>f(x0)</th>\n",
              "      <th>f(x1)</th>\n",
              "      <th>f(x2)</th>\n",
              "      <th>f(x3)</th>\n",
              "    </tr>\n",
              "  </thead>\n",
              "  <tbody>\n",
              "    <tr>\n",
              "      <th>0</th>\n",
              "      <td>0j</td>\n",
              "      <td>(1+0j)</td>\n",
              "      <td>(2+0j)</td>\n",
              "      <td>(1.414213562373095-0j)</td>\n",
              "      <td>(-2+0j)</td>\n",
              "      <td>(-1+0j)</td>\n",
              "      <td>(2+0j)</td>\n",
              "      <td>(-4.440892098500626e-16-0j)</td>\n",
              "    </tr>\n",
              "  </tbody>\n",
              "</table>\n",
              "</div>"
            ],
            "text/plain": [
              "   x0      x1      x2  ...    f(x1)   f(x2)                        f(x3)\n",
              "0  0j  (1+0j)  (2+0j)  ...  (-1+0j)  (2+0j)  (-4.440892098500626e-16-0j)\n",
              "\n",
              "[1 rows x 8 columns]"
            ]
          },
          "metadata": {
            "tags": []
          },
          "execution_count": 20
        }
      ]
    },
    {
      "cell_type": "code",
      "metadata": {
        "id": "a_K2m085l-D1"
      },
      "source": [
        "def g(v):\n",
        " n=2\n",
        " R =0.082\n",
        " a =3.592\n",
        " b =0.04267\n",
        " T =300\n",
        " P =10\n",
        " return n*R*T/(P+n **2* a/v **2) +n*b"
      ],
      "execution_count": null,
      "outputs": []
    },
    {
      "cell_type": "code",
      "metadata": {
        "id": "jLNbd28-mD3V",
        "colab": {
          "base_uri": "https://localhost:8080/",
          "height": 276
        },
        "outputId": "b58b0113-e716-4816-dec1-a2ed4b4ceaac"
      },
      "source": [
        "xr,tabla=puntofijo(2,g)\n",
        "print(xr)\n",
        "tabla"
      ],
      "execution_count": null,
      "outputs": [
        {
          "output_type": "stream",
          "text": [
            "4.7055308745064055\n"
          ],
          "name": "stdout"
        },
        {
          "output_type": "execute_result",
          "data": {
            "text/html": [
              "<div>\n",
              "<style scoped>\n",
              "    .dataframe tbody tr th:only-of-type {\n",
              "        vertical-align: middle;\n",
              "    }\n",
              "\n",
              "    .dataframe tbody tr th {\n",
              "        vertical-align: top;\n",
              "    }\n",
              "\n",
              "    .dataframe thead th {\n",
              "        text-align: right;\n",
              "    }\n",
              "</style>\n",
              "<table border=\"1\" class=\"dataframe\">\n",
              "  <thead>\n",
              "    <tr style=\"text-align: right;\">\n",
              "      <th></th>\n",
              "      <th>x</th>\n",
              "      <th>g(x)</th>\n",
              "    </tr>\n",
              "  </thead>\n",
              "  <tbody>\n",
              "    <tr>\n",
              "      <th>0</th>\n",
              "      <td>3.705116</td>\n",
              "      <td>4.539188</td>\n",
              "    </tr>\n",
              "    <tr>\n",
              "      <th>1</th>\n",
              "      <td>4.539188</td>\n",
              "      <td>4.684617</td>\n",
              "    </tr>\n",
              "    <tr>\n",
              "      <th>2</th>\n",
              "      <td>4.684617</td>\n",
              "      <td>4.703017</td>\n",
              "    </tr>\n",
              "    <tr>\n",
              "      <th>3</th>\n",
              "      <td>4.703017</td>\n",
              "      <td>4.705234</td>\n",
              "    </tr>\n",
              "    <tr>\n",
              "      <th>4</th>\n",
              "      <td>4.705234</td>\n",
              "      <td>4.705499</td>\n",
              "    </tr>\n",
              "    <tr>\n",
              "      <th>5</th>\n",
              "      <td>4.705499</td>\n",
              "      <td>4.705531</td>\n",
              "    </tr>\n",
              "    <tr>\n",
              "      <th>6</th>\n",
              "      <td>4.705531</td>\n",
              "      <td>4.705535</td>\n",
              "    </tr>\n",
              "  </tbody>\n",
              "</table>\n",
              "</div>"
            ],
            "text/plain": [
              "          x      g(x)\n",
              "0  3.705116  4.539188\n",
              "1  4.539188  4.684617\n",
              "2  4.684617  4.703017\n",
              "3  4.703017  4.705234\n",
              "4  4.705234  4.705499\n",
              "5  4.705499  4.705531\n",
              "6  4.705531  4.705535"
            ]
          },
          "metadata": {
            "tags": []
          },
          "execution_count": 23
        }
      ]
    },
    {
      "cell_type": "code",
      "metadata": {
        "id": "ObP63ZhYmMrh",
        "colab": {
          "base_uri": "https://localhost:8080/",
          "height": 156
        },
        "outputId": "7a19ff7b-b70a-4953-efb8-18c5742ca36d"
      },
      "source": [
        "xr,tabla=wegstein(2,g)\n",
        "print(xr)\n",
        "tabla"
      ],
      "execution_count": null,
      "outputs": [
        {
          "output_type": "stream",
          "text": [
            "4.705535166905485\n"
          ],
          "name": "stdout"
        },
        {
          "output_type": "execute_result",
          "data": {
            "text/html": [
              "<div>\n",
              "<style scoped>\n",
              "    .dataframe tbody tr th:only-of-type {\n",
              "        vertical-align: middle;\n",
              "    }\n",
              "\n",
              "    .dataframe tbody tr th {\n",
              "        vertical-align: top;\n",
              "    }\n",
              "\n",
              "    .dataframe thead th {\n",
              "        text-align: right;\n",
              "    }\n",
              "</style>\n",
              "<table border=\"1\" class=\"dataframe\">\n",
              "  <thead>\n",
              "    <tr style=\"text-align: right;\">\n",
              "      <th></th>\n",
              "      <th>x3</th>\n",
              "      <th>g(x3)</th>\n",
              "    </tr>\n",
              "  </thead>\n",
              "  <tbody>\n",
              "    <tr>\n",
              "      <th>0</th>\n",
              "      <td>4.715330</td>\n",
              "      <td>4.706704</td>\n",
              "    </tr>\n",
              "    <tr>\n",
              "      <th>1</th>\n",
              "      <td>4.705467</td>\n",
              "      <td>4.705527</td>\n",
              "    </tr>\n",
              "    <tr>\n",
              "      <th>2</th>\n",
              "      <td>4.705535</td>\n",
              "      <td>4.705535</td>\n",
              "    </tr>\n",
              "  </tbody>\n",
              "</table>\n",
              "</div>"
            ],
            "text/plain": [
              "         x3     g(x3)\n",
              "0  4.715330  4.706704\n",
              "1  4.705467  4.705527\n",
              "2  4.705535  4.705535"
            ]
          },
          "metadata": {
            "tags": []
          },
          "execution_count": 24
        }
      ]
    },
    {
      "cell_type": "markdown",
      "metadata": {
        "id": "J0kmh4IX-KPk"
      },
      "source": [
        "Grafica de la solucion"
      ]
    },
    {
      "cell_type": "code",
      "metadata": {
        "colab": {
          "base_uri": "https://localhost:8080/",
          "height": 265
        },
        "id": "TbMgf07G99Xd",
        "outputId": "ee7d5129-20d7-40bd-e8e8-6ab9d2321711"
      },
      "source": [
        "import matplotlib.pyplot as plt\n",
        "\n",
        "x=np.linspace(0.1,6)\n",
        "y=g(x)\n",
        "\n",
        "plt.plot(x,y,'-',x,x,'--',xr,g(xr),'or')\n",
        "plt.grid()\n",
        "plt.show()"
      ],
      "execution_count": null,
      "outputs": [
        {
          "output_type": "display_data",
          "data": {
            "image/png": "[encoded data removed]",
            "text/plain": [
              "<Figure size 432x288 with 1 Axes>"
            ]
          },
          "metadata": {
            "tags": [],
            "needs_background": "light"
          }
        }
      ]
    },
    {
      "cell_type": "markdown",
      "metadata": {
        "id": "XU3wo9WR_Nb6"
      },
      "source": [
        "#Raices complejas"
      ]
    },
    {
      "cell_type": "markdown",
      "metadata": {
        "id": "OgZlmIZl_Q9K"
      },
      "source": [
        "trabajemos con la ecuacion $f(x)=x^2+2$ donde su raiz es $2i$"
      ]
    },
    {
      "cell_type": "code",
      "metadata": {
        "id": "EphH4GyA_yiX"
      },
      "source": [
        "#se define la funcion\n",
        "def f(x):\n",
        "  return x**2+2\n",
        "\n",
        "#se define la derivada\n",
        "def df(x):\n",
        "  return 2*x"
      ],
      "execution_count": null,
      "outputs": []
    },
    {
      "cell_type": "code",
      "metadata": {
        "colab": {
          "base_uri": "https://localhost:8080/",
          "height": 156
        },
        "id": "nrbz0MiD-3c_",
        "outputId": "19df73cc-776f-47eb-8065-5ad2d7c2d35b"
      },
      "source": [
        "xr,tabla=nr(f,df,1j) #Se debe dar un valor inicial complejo, por ejemplo 0+1i\n",
        "print(xr)\n",
        "tabla"
      ],
      "execution_count": null,
      "outputs": [
        {
          "output_type": "stream",
          "text": [
            "1.4142156862745099j\n"
          ],
          "name": "stdout"
        },
        {
          "output_type": "execute_result",
          "data": {
            "text/html": [
              "<div>\n",
              "<style scoped>\n",
              "    .dataframe tbody tr th:only-of-type {\n",
              "        vertical-align: middle;\n",
              "    }\n",
              "\n",
              "    .dataframe tbody tr th {\n",
              "        vertical-align: top;\n",
              "    }\n",
              "\n",
              "    .dataframe thead th {\n",
              "        text-align: right;\n",
              "    }\n",
              "</style>\n",
              "<table border=\"1\" class=\"dataframe\">\n",
              "  <thead>\n",
              "    <tr style=\"text-align: right;\">\n",
              "      <th></th>\n",
              "      <th>x</th>\n",
              "      <th>f(x)</th>\n",
              "      <th>df(x)</th>\n",
              "    </tr>\n",
              "  </thead>\n",
              "  <tbody>\n",
              "    <tr>\n",
              "      <th>0</th>\n",
              "      <td>1.5j</td>\n",
              "      <td>(-0.25+0j)</td>\n",
              "      <td>3j</td>\n",
              "    </tr>\n",
              "    <tr>\n",
              "      <th>1</th>\n",
              "      <td>1.4166666666666667j</td>\n",
              "      <td>(-0.006944444444444642+0j)</td>\n",
              "      <td>2.8333333333333335j</td>\n",
              "    </tr>\n",
              "    <tr>\n",
              "      <th>2</th>\n",
              "      <td>1.4142156862745099j</td>\n",
              "      <td>(-6.007304882871267e-06+0j)</td>\n",
              "      <td>2.8284313725490198j</td>\n",
              "    </tr>\n",
              "  </tbody>\n",
              "</table>\n",
              "</div>"
            ],
            "text/plain": [
              "                     x                         f(x)                df(x)\n",
              "0                 1.5j                   (-0.25+0j)                   3j\n",
              "1  1.4166666666666667j   (-0.006944444444444642+0j)  2.8333333333333335j\n",
              "2  1.4142156862745099j  (-6.007304882871267e-06+0j)  2.8284313725490198j"
            ]
          },
          "metadata": {
            "tags": []
          },
          "execution_count": 29
        }
      ]
    },
    {
      "cell_type": "code",
      "metadata": {
        "colab": {
          "base_uri": "https://localhost:8080/",
          "height": 96
        },
        "id": "3KxDJBAsAJYx",
        "outputId": "f991cda7-b8b5-4d7f-b9d1-ca55aa897ac2"
      },
      "source": [
        "xr,tabla=muller(f,0,1,2) #se pueden dar valores iniciales reales\n",
        "print(xr)\n",
        "tabla"
      ],
      "execution_count": null,
      "outputs": [
        {
          "output_type": "stream",
          "text": [
            "(-0+1.414213562373095j)\n"
          ],
          "name": "stdout"
        },
        {
          "output_type": "execute_result",
          "data": {
            "text/html": [
              "<div>\n",
              "<style scoped>\n",
              "    .dataframe tbody tr th:only-of-type {\n",
              "        vertical-align: middle;\n",
              "    }\n",
              "\n",
              "    .dataframe tbody tr th {\n",
              "        vertical-align: top;\n",
              "    }\n",
              "\n",
              "    .dataframe thead th {\n",
              "        text-align: right;\n",
              "    }\n",
              "</style>\n",
              "<table border=\"1\" class=\"dataframe\">\n",
              "  <thead>\n",
              "    <tr style=\"text-align: right;\">\n",
              "      <th></th>\n",
              "      <th>x0</th>\n",
              "      <th>x1</th>\n",
              "      <th>x2</th>\n",
              "      <th>x3</th>\n",
              "      <th>f(x0)</th>\n",
              "      <th>f(x1)</th>\n",
              "      <th>f(x2)</th>\n",
              "      <th>f(x3)</th>\n",
              "    </tr>\n",
              "  </thead>\n",
              "  <tbody>\n",
              "    <tr>\n",
              "      <th>0</th>\n",
              "      <td>0j</td>\n",
              "      <td>(1+0j)</td>\n",
              "      <td>(2+0j)</td>\n",
              "      <td>(-0+1.414213562373095j)</td>\n",
              "      <td>(2+0j)</td>\n",
              "      <td>(3+0j)</td>\n",
              "      <td>(6+0j)</td>\n",
              "      <td>(4.440892098500626e-16+0j)</td>\n",
              "    </tr>\n",
              "  </tbody>\n",
              "</table>\n",
              "</div>"
            ],
            "text/plain": [
              "   x0      x1      x2  ...   f(x1)   f(x2)                       f(x3)\n",
              "0  0j  (1+0j)  (2+0j)  ...  (3+0j)  (6+0j)  (4.440892098500626e-16+0j)\n",
              "\n",
              "[1 rows x 8 columns]"
            ]
          },
          "metadata": {
            "tags": []
          },
          "execution_count": 31
        }
      ]
    },
    {
      "cell_type": "code",
      "metadata": {
        "id": "NQhHpgjnAOK5"
      },
      "source": [
        ""
      ],
      "execution_count": null,
      "outputs": []
    }
  ]
}