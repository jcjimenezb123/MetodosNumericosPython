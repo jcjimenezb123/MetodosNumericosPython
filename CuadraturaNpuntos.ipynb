{
  "nbformat": 4,
  "nbformat_minor": 0,
  "metadata": {
    "colab": {
      "name": "CuadraturaNpuntos.ipynb",
      "provenance": [],
      "collapsed_sections": [],
      "authorship_tag": "ABX9TyOmX6GMpJ0Ol+vxBpaWeTL2",
      "include_colab_link": true
    },
    "kernelspec": {
      "name": "python3",
      "display_name": "Python 3"
    }
  },
  "cells": [
    {
      "cell_type": "markdown",
      "metadata": {
        "id": "view-in-github",
        "colab_type": "text"
      },
      "source": [
        "<a href=\"https://colab.research.google.com/github/jcjimenezb123/MetodosNumericosPython/blob/master/CuadraturaNpuntos.ipynb\" target=\"_parent\"><img src=\"https://colab.research.google.com/assets/colab-badge.svg\" alt=\"Open In Colab\"/></a>"
      ]
    },
    {
      "cell_type": "code",
      "metadata": {
        "id": "sRrorNW4sTXU"
      },
      "source": [
        "import numpy as np"
      ],
      "execution_count": null,
      "outputs": []
    },
    {
      "cell_type": "code",
      "metadata": {
        "id": "hAirZBhgm_FB"
      },
      "source": [
        "def cuadraturaNp(f,a,b,n):\r\n",
        "  w=np. array ([[1.,1.],\r\n",
        "                [0.55555556 ,0.88888889 ,0.55555556] ,\r\n",
        "                [0.3478548 ,0.6521452 ,0.6521452 ,0.3478548] ,\r\n",
        "                [0.2369269 ,0.4786287 ,0.5688889 ,0.4786287 ,0.2369269] ,\r\n",
        "                [0.1713245 ,0.3607616 ,0.4679139 ,0.4679139 ,0.3607616 ,0.1713245]])\r\n",
        "\r\n",
        "  z=np. array ([[ -0.577350269 ,0.577350269] ,\r\n",
        "                [ -0.774596669 ,0 ,0.774596669] ,\r\n",
        "                [ -0.861136312 , -0.339981044 ,0.339981044 ,0.861136312] ,\r\n",
        "                [ -0.906179846 , -0.538469310 ,0 ,0.538469310 ,0.906179846] ,\r\n",
        "                [ -0.932469514 , -0.661209386 , -0.238619186 ,0.238619186 ,0.661209386 ,0.932469514]])\r\n",
        "  s=0\r\n",
        "  for i in range(n):\r\n",
        "    s=s+w[n-2][i]*f((b-a)/2*z[n-2][i]+(a+b)/2)\r\n",
        "  \r\n",
        "  return (b-a)/2*s"
      ],
      "execution_count": null,
      "outputs": []
    },
    {
      "cell_type": "code",
      "metadata": {
        "id": "wP9BjbdNrqTW"
      },
      "source": [
        "def Cp(T):\r\n",
        "  return 2.41+0.057195*T-4.3e-6*T**2"
      ],
      "execution_count": null,
      "outputs": []
    },
    {
      "cell_type": "code",
      "metadata": {
        "colab": {
          "base_uri": "https://localhost:8080/"
        },
        "id": "_t0LXK7Nr6jj",
        "outputId": "5975ad80-a472-4ad3-cc4c-bf7fefa1c82b"
      },
      "source": [
        "integral=cuadraturaNp(Cp,300,600,6)\r\n",
        "integral"
      ],
      "execution_count": null,
      "outputs": [
        {
          "output_type": "stream",
          "text": [
            "/usr/local/lib/python3.6/dist-packages/ipykernel_launcher.py:6: VisibleDeprecationWarning: Creating an ndarray from ragged nested sequences (which is a list-or-tuple of lists-or-tuples-or ndarrays with different lengths or shapes) is deprecated. If you meant to do this, you must specify 'dtype=object' when creating the ndarray\n",
            "  \n",
            "/usr/local/lib/python3.6/dist-packages/ipykernel_launcher.py:12: VisibleDeprecationWarning: Creating an ndarray from ragged nested sequences (which is a list-or-tuple of lists-or-tuples-or ndarrays with different lengths or shapes) is deprecated. If you meant to do this, you must specify 'dtype=object' when creating the ndarray\n",
            "  if sys.path[0] == '':\n"
          ],
          "name": "stderr"
        },
        {
          "output_type": "execute_result",
          "data": {
            "text/plain": [
              "8173.424999531678"
            ]
          },
          "metadata": {
            "tags": []
          },
          "execution_count": 15
        }
      ]
    },
    {
      "cell_type": "code",
      "metadata": {
        "id": "3ktrZDM1sPZl"
      },
      "source": [
        "from scipy.integrate import quadrature"
      ],
      "execution_count": null,
      "outputs": []
    },
    {
      "cell_type": "code",
      "metadata": {
        "colab": {
          "base_uri": "https://localhost:8080/"
        },
        "id": "HCgkKJYHs-J7",
        "outputId": "a2076751-e2c8-414d-afd5-7217fce26bd6"
      },
      "source": [
        "integral = quadrature(Cp,300,600)\r\n",
        "integral"
      ],
      "execution_count": null,
      "outputs": [
        {
          "output_type": "execute_result",
          "data": {
            "text/plain": [
              "(8173.424999999999, 0.0)"
            ]
          },
          "metadata": {
            "tags": []
          },
          "execution_count": 11
        }
      ]
    },
    {
      "cell_type": "markdown",
      "metadata": {
        "id": "c0NGwucUuBbS"
      },
      "source": [
        "#Integrales multiples"
      ]
    },
    {
      "cell_type": "markdown",
      "metadata": {
        "id": "WmapeXPluFiG"
      },
      "source": [
        "calcular la siguiente integral doble\r\n",
        "\r\n",
        "$$\r\n",
        "\\int_{x_1=-5}^{x_2=5}\\int_{y_1=-5}^{y_2=5}sin(\\sqrt{x^2+y^2})dydx\r\n",
        "$$"
      ]
    },
    {
      "cell_type": "code",
      "metadata": {
        "id": "jHVuF1hqtLv-"
      },
      "source": [
        "def f(y,x):\r\n",
        "  return np.sin(np.sqrt(x**2+y**2))"
      ],
      "execution_count": null,
      "outputs": []
    },
    {
      "cell_type": "code",
      "metadata": {
        "id": "eG_PiPyHvGAn"
      },
      "source": [
        "from scipy.integrate import dblquad"
      ],
      "execution_count": null,
      "outputs": []
    },
    {
      "cell_type": "code",
      "metadata": {
        "colab": {
          "base_uri": "https://localhost:8080/"
        },
        "id": "fAWWjoEFvPe9",
        "outputId": "d1be1a9c-7bb0-404d-a978-e8a793b40ac1"
      },
      "source": [
        "x1=-5\r\n",
        "x2=5\r\n",
        "y1=-5\r\n",
        "y2=5\r\n",
        "integral=dblquad(f,x1,x2,lambda y:y1,lambda y:y2)\r\n",
        "integral"
      ],
      "execution_count": null,
      "outputs": [
        {
          "output_type": "execute_result",
          "data": {
            "text/plain": [
              "(-26.768989141374988, 3.6946931091779225e-07)"
            ]
          },
          "metadata": {
            "tags": []
          },
          "execution_count": 18
        }
      ]
    },
    {
      "cell_type": "markdown",
      "metadata": {
        "id": "-S5RU8JpwRPw"
      },
      "source": [
        "Obtener la integral triple de \r\n",
        "\r\n",
        "$$\r\n",
        "\\int_{z_1=0}^{z_2=1}\\int_{y_1=0}^{y_2=1}\\int_{x_1=0}^{x_2=2}x^2e^{-x^2}e^{-0.5yz/x}dxdydz\r\n",
        "$$"
      ]
    },
    {
      "cell_type": "code",
      "metadata": {
        "id": "s2c9GzABvr_9"
      },
      "source": [
        "def f(x,y,z):\r\n",
        "  return x**2*np.exp(-x**2)*np.exp(-0.5*y*z/x)"
      ],
      "execution_count": null,
      "outputs": []
    },
    {
      "cell_type": "code",
      "metadata": {
        "colab": {
          "base_uri": "https://localhost:8080/"
        },
        "id": "Ab2ZVIBkx8WG",
        "outputId": "08a7c1a2-533f-4ee3-9f7c-c0943342e342"
      },
      "source": [
        "from scipy.integrate import tplquad\r\n",
        "x1=0\r\n",
        "x2=2\r\n",
        "y1=lambda x:0\r\n",
        "y2=lambda x:1\r\n",
        "z1=lambda x,y:0\r\n",
        "z2=lambda x,y,:1\r\n",
        "\r\n",
        "integral=tplquad(f,x1,x2,y1,y2,z1,z2)\r\n",
        "integral"
      ],
      "execution_count": null,
      "outputs": [
        {
          "output_type": "execute_result",
          "data": {
            "text/plain": [
              "(0.2705334762387924, 1.476845442481828e-08)"
            ]
          },
          "metadata": {
            "tags": []
          },
          "execution_count": 20
        }
      ]
    },
    {
      "cell_type": "code",
      "metadata": {
        "id": "eM99Ntq9yxYU"
      },
      "source": [
        ""
      ],
      "execution_count": null,
      "outputs": []
    }
  ]
}