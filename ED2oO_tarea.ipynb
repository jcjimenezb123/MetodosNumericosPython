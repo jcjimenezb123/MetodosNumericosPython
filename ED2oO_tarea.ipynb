{
  "nbformat": 4,
  "nbformat_minor": 0,
  "metadata": {
    "colab": {
      "name": "ED2oO_tarea.ipynb",
      "provenance": [],
      "authorship_tag": "ABX9TyN8EZ7OjmTpSdA1uHpr3Fif",
      "include_colab_link": true
    },
    "kernelspec": {
      "name": "python3",
      "display_name": "Python 3"
    },
    "language_info": {
      "name": "python"
    }
  },
  "cells": [
    {
      "cell_type": "markdown",
      "metadata": {
        "id": "view-in-github",
        "colab_type": "text"
      },
      "source": [
        "<a href=\"https://colab.research.google.com/github/jcjimenezb123/MetodosNumericosPython/blob/master/ED2oO_tarea.ipynb\" target=\"_parent\"><img src=\"https://colab.research.google.com/assets/colab-badge.svg\" alt=\"Open In Colab\"/></a>"
      ]
    },
    {
      "cell_type": "markdown",
      "source": [
        "Descomposición de $SH_2$ en una partícula esférica\n",
        "---\n",
        "\n",
        "Se pretende descomponer el sulfuro de hidrógeno en sus elementos. Para ello\n",
        "se dispone de un sistema en el que se difunde $SH_2$ dentro de las partículas\n",
        "esféricas de un catalizador poroso de sílica/alúmina. El sistema se caracteriza\n",
        "por la ley de Fick, que aplicada a un sistema con una reacción de primer orden,\n",
        "como es el caso, tiene la forma\n",
        "\n",
        "$$\n",
        "D_e\\frac{d^2C_A}{dx^2}-kC_A=0\n",
        "$$\n",
        "\n",
        "donde $D_e$ representa la difusividad efectiva, $C_A$ la concentración de $SH_2$, $k$ la constante de velocidad de reacción y $x$ la distancia desde el centro de la partícula.\n",
        "\n",
        "![particula.PNG](data:image/png;base64,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)\n",
        "\n",
        "Las condiciones de contorno de la ecuación anterior son:\n",
        "\n",
        "1º. La concentración de $SH_2$ en la superficie del catalizador es conocida, e igual a 10 $mol/m^3$.\n",
        "\n",
        "2º. La concentración de $SH_2$ en el centro de la partícula es igual a 7 $mol/m^3$.\n",
        "\n",
        "Se desea determinar el perfil de concentración de $SH_2$ a lo largo de la partícula.\n",
        "\n",
        "|- - - - - - - - - - - -Datos- - - - - - - - - - - -|\n",
        "|---|\n",
        "|$D_e=5m^2/s$|\n",
        "|$k=1m^{-1}$|\n",
        "|Radio de la partícula 2mm|\n"
      ],
      "metadata": {
        "id": "SsSXp09AjF27"
      }
    },
    {
      "cell_type": "markdown",
      "source": [
        "Resolver por el método del disparo.\n",
        "\n",
        "Sugerencia: suponga el primer disparo con el valor de la derivada de 0 y el segundo disparo con el valor de 1."
      ],
      "metadata": {
        "id": "S1kfq6b2lnQQ"
      }
    },
    {
      "cell_type": "code",
      "execution_count": null,
      "metadata": {
        "id": "WEcdUlUrjDuL"
      },
      "outputs": [],
      "source": [
        ""
      ]
    },
    {
      "cell_type": "markdown",
      "source": [
        "Resolver por el método de diferencias finitas"
      ],
      "metadata": {
        "id": "wil_O9BBsT4E"
      }
    },
    {
      "cell_type": "code",
      "source": [
        ""
      ],
      "metadata": {
        "id": "KGv4JK1EsYuK"
      },
      "execution_count": null,
      "outputs": []
    },
    {
      "cell_type": "markdown",
      "source": [
        "Compare ambos resultados y diga cuál es más congruente con el contexto del problema"
      ],
      "metadata": {
        "id": "TELxrUfqscuL"
      }
    },
    {
      "cell_type": "code",
      "source": [
        ""
      ],
      "metadata": {
        "id": "NmbDa0A6spQw"
      },
      "execution_count": null,
      "outputs": []
    }
  ]
}