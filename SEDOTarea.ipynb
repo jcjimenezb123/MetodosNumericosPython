{
  "nbformat": 4,
  "nbformat_minor": 0,
  "metadata": {
    "colab": {
      "provenance": [],
      "authorship_tag": "ABX9TyOpsnCgexuxXStKM4HaR21J",
      "include_colab_link": true
    },
    "kernelspec": {
      "name": "python3",
      "display_name": "Python 3"
    },
    "language_info": {
      "name": "python"
    }
  },
  "cells": [
    {
      "cell_type": "markdown",
      "metadata": {
        "id": "view-in-github",
        "colab_type": "text"
      },
      "source": [
        "<a href=\"https://colab.research.google.com/github/jcjimenezb123/MetodosNumericosPython/blob/master/SEDOTarea.ipynb\" target=\"_parent\"><img src=\"https://colab.research.google.com/assets/colab-badge.svg\" alt=\"Open In Colab\"/></a>"
      ]
    },
    {
      "cell_type": "markdown",
      "source": [
        "Se tiene un intercambiador de calor de tubos concentricos en contracorriente y sin cambio de fase.Las ecuaciones que describen el intercambiador de calor en ciertas condiciones de operación son:\n",
        "\n",
        "$$\n",
        "\\frac{dT_B}{dx}=0.03(T_S-T_B)\\\\\n",
        "\\frac{dT_S}{dx}=0.04(T_S-T_B)\n",
        "$$\n",
        "\n",
        "Calcular $T_{B1}$ y $T_{S0}$ si el intercambiador de calor tiene una longitud de $3.XXXXm$\n",
        "\n",
        "$$\n",
        "T_{S1}=100.XXXX\\\\\n",
        "T_{B0}=20\n",
        "$$\n",
        "\n",
        "Donde XXXX son los últimos 4 dígitos de tu número de cuenta."
      ],
      "metadata": {
        "id": "Gw4qUHWFJuN7"
      }
    },
    {
      "cell_type": "code",
      "execution_count": null,
      "metadata": {
        "id": "iei2eK__JtS1"
      },
      "outputs": [],
      "source": []
    }
  ]
}