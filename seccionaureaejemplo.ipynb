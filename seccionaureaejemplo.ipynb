{
  "nbformat": 4,
  "nbformat_minor": 0,
  "metadata": {
    "colab": {
      "provenance": [],
      "authorship_tag": "ABX9TyPQqmLuXdRCqpuf3Kc2s0z2",
      "include_colab_link": true
    },
    "kernelspec": {
      "name": "python3",
      "display_name": "Python 3"
    },
    "language_info": {
      "name": "python"
    }
  },
  "cells": [
    {
      "cell_type": "markdown",
      "metadata": {
        "id": "view-in-github",
        "colab_type": "text"
      },
      "source": [
        "<a href=\"https://colab.research.google.com/github/jcjimenezb123/MetodosNumericosPython/blob/master/seccionaureaejemplo.ipynb\" target=\"_parent\"><img src=\"https://colab.research.google.com/assets/colab-badge.svg\" alt=\"Open In Colab\"/></a>"
      ]
    },
    {
      "cell_type": "code",
      "execution_count": 1,
      "metadata": {
        "id": "qxYJh_AkC7mt"
      },
      "outputs": [],
      "source": [
        "from tabulate import tabulate\n",
        "import numpy as np"
      ]
    },
    {
      "cell_type": "code",
      "source": [
        "def seccionaurea(f, a, b, tol=1e-5):\n",
        "    phi = (np.sqrt(5) - 1) / 2\n",
        "    phi2 = phi**2\n",
        "    x1 = a + phi2 * (b - a)\n",
        "    x2 = a + phi * (b - a)\n",
        "    tabla=[]\n",
        "    titulos=['a','x1','x2','b','f(x1)','f(x2)']\n",
        "    while abs(b - a) > tol:\n",
        "        it=[a,x1,x2,b,f(x1),f(x2)]\n",
        "        tabla.append(it)\n",
        "        if f(x1) > f(x2):\n",
        "            b = x2 #<--- asignar el valor de x2, paso 8\n",
        "            x2 = x1\n",
        "            x1 = a + phi2 * (b - a)\n",
        "        else:\n",
        "            a = x1 #<--- asignar el valor de x1, paso 8\n",
        "            x1 = x2\n",
        "            x2 = a + phi * (b - a)\n",
        "\n",
        "    print(tabulate(tabla,titulos,showindex=True))\n",
        "    return (a+b)/2 #<--- retornar el punto medio, paso 11"
      ],
      "metadata": {
        "id": "_z2mUlG9DD1Z"
      },
      "execution_count": 2,
      "outputs": []
    },
    {
      "cell_type": "markdown",
      "source": [
        "Un objeto se puede proyectar hacia arriba a una velocidad\n",
        "específica. Si está sujeto a arrastre lineal, su altura como función del\n",
        "tiempo se puede calcular como\n",
        "\n",
        "$$\n",
        "z = z_0 + \\frac{m}{c}\\left(v_0 + \\frac{mg}{c}\\right) \\left(1 - e^{-(c/m)t}\\right) - \\frac{mg}{c}t\n",
        "$$\n",
        "\n",
        "donde z = altura (m) sobre la superficie terrestre (definida como\n",
        "z = 0), z0 = altura inicial (m), m = masa (kg), c = coeficiente lineal\n",
        "de arrastre (kg/s), u0 = velocidad inicial, m/s y t = tiempo (s).\n",
        "Observe que, para esta formulación, la velocidad positiva se considera en dirección ascendente. Dados los siguientes valores de\n",
        "parámetros: g = 9.81 m/s2, z0 = 100 m, u0 = 55 m/s, m = 80 kg y\n",
        "c = 15 kg/s, se puede usar la ecuación para calcular la altura del\n",
        "saltador. Determine el tiempo y la altura de la elevación máxima"
      ],
      "metadata": {
        "id": "2BXRe5-0GRP3"
      }
    },
    {
      "cell_type": "code",
      "source": [
        "z0 = 100\n",
        "v0 = 55\n",
        "m = 80\n",
        "c = 15\n",
        "g = 9.81\n",
        "\n",
        "f = lambda t:z0 + m/c*(v0+m*g/c)*(1-np.exp(-c/m*t)) - m*g/c*t"
      ],
      "metadata": {
        "id": "pfPvdRlmDH4U"
      },
      "execution_count": 3,
      "outputs": []
    },
    {
      "cell_type": "code",
      "source": [
        "import matplotlib.pyplot as plt\n",
        "\n",
        "ts = np.linspace(0,9)\n",
        "\n",
        "plt.plot(ts,f(ts))\n",
        "plt.grid()\n",
        "plt.show()"
      ],
      "metadata": {
        "colab": {
          "base_uri": "https://localhost:8080/",
          "height": 430
        },
        "id": "-psLJmWsEMjS",
        "outputId": "2811e736-af01-45ab-e5cf-5529cda203bb"
      },
      "execution_count": 5,
      "outputs": [
        {
          "output_type": "display_data",
          "data": {
            "text/plain": [
              "<Figure size 640x480 with 1 Axes>"
            ],
            "image/png": "[encoded data removed]"
          },
          "metadata": {}
        }
      ]
    },
    {
      "cell_type": "code",
      "source": [
        "topt = seccionaurea(f,0,8)\n",
        "print(f'tiempo optimo {topt}, altura maxima {f(topt)}')"
      ],
      "metadata": {
        "colab": {
          "base_uri": "https://localhost:8080/"
        },
        "id": "5FlMJPYzErhc",
        "outputId": "59e139ac-61e3-43cc-ebcc-8caf75c3e632"
      },
      "execution_count": 6,
      "outputs": [
        {
          "output_type": "stream",
          "name": "stdout",
          "text": [
            "          a       x1       x2        b    f(x1)    f(x2)\n",
            "--  -------  -------  -------  -------  -------  -------\n",
            " 0  0        3.05573  4.94427  8        189.759  187.19\n",
            " 1  0        1.88854  3.05573  4.94427  171.871  189.759\n",
            " 2  1.88854  3.05573  3.77709  4.94427  189.759  192.846\n",
            " 3  3.05573  3.77709  4.22291  4.94427  192.846  192.128\n",
            " 4  3.05573  3.50155  3.77709  4.22291  192.315  192.846\n",
            " 5  3.50155  3.77709  3.94738  4.22291  192.846  192.796\n",
            " 6  3.50155  3.67184  3.77709  3.94738  192.734  192.846\n",
            " 7  3.67184  3.77709  3.84213  3.94738  192.846  192.86\n",
            " 8  3.77709  3.84213  3.88233  3.94738  192.86   192.848\n",
            " 9  3.77709  3.81729  3.84213  3.88233  192.86   192.86\n",
            "10  3.81729  3.84213  3.85749  3.88233  192.86   192.858\n",
            "11  3.81729  3.83264  3.84213  3.85749  192.861  192.86\n",
            "12  3.81729  3.82678  3.83264  3.84213  192.861  192.861\n",
            "13  3.82678  3.83264  3.83627  3.84213  192.861  192.861\n",
            "14  3.82678  3.8304   3.83264  3.83627  192.861  192.861\n",
            "15  3.8304   3.83264  3.83403  3.83627  192.861  192.861\n",
            "16  3.8304   3.83179  3.83264  3.83403  192.861  192.861\n",
            "17  3.8304   3.83126  3.83179  3.83264  192.861  192.861\n",
            "18  3.83126  3.83179  3.83211  3.83264  192.861  192.861\n",
            "19  3.83126  3.83158  3.83179  3.83211  192.861  192.861\n",
            "20  3.83126  3.83146  3.83158  3.83179  192.861  192.861\n",
            "21  3.83146  3.83158  3.83166  3.83179  192.861  192.861\n",
            "22  3.83158  3.83166  3.83171  3.83179  192.861  192.861\n",
            "23  3.83158  3.83163  3.83166  3.83171  192.861  192.861\n",
            "24  3.83163  3.83166  3.83168  3.83171  192.861  192.861\n",
            "25  3.83163  3.83165  3.83166  3.83168  192.861  192.861\n",
            "26  3.83165  3.83166  3.83167  3.83168  192.861  192.861\n",
            "27  3.83165  3.83166  3.83166  3.83167  192.861  192.861\n",
            "28  3.83166  3.83166  3.83166  3.83167  192.861  192.861\n",
            "tiempo optimo 3.8316612861371526, altura maxima 192.86086304462685\n"
          ]
        }
      ]
    }
  ]
}