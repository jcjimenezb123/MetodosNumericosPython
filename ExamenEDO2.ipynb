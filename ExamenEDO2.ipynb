{
  "nbformat": 4,
  "nbformat_minor": 0,
  "metadata": {
    "colab": {
      "name": "ExamenEDO2.ipynb",
      "provenance": [],
      "collapsed_sections": [],
      "include_colab_link": true
    },
    "kernelspec": {
      "name": "python3",
      "display_name": "Python 3"
    }
  },
  "cells": [
    {
      "cell_type": "markdown",
      "metadata": {
        "id": "view-in-github",
        "colab_type": "text"
      },
      "source": [
        "<a href=\"https://colab.research.google.com/github/jcjimenezb123/MetodosNumericosPython/blob/master/ExamenEDO2.ipynb\" target=\"_parent\"><img src=\"https://colab.research.google.com/assets/colab-badge.svg\" alt=\"Open In Colab\"/></a>"
      ]
    },
    {
      "cell_type": "markdown",
      "metadata": {
        "id": "pbGgXpQAAqbG"
      },
      "source": [
        "#Métodos Numéricos\n",
        "\n",
        "#Examen - Sistemas de Ecuaciones Diferenciales Ordinarias\n",
        "\n",
        "![UNAM](https://drive.google.com/uc?export=view&id=1GATLSo6jWPCg6vd4M3_aK5bbXRm9a_4K)\n",
        "---\n",
        "\n",
        "Nombre: ***$\\color{blue}{\\text{ Mi nombre } }$***\n",
        "\n",
        "Num. Cuenta: ***$\\color{blue}{ 000000 }$***\n",
        "\n",
        "---\n"
      ]
    },
    {
      "cell_type": "markdown",
      "metadata": {
        "id": "bcZ94LSDDFLM"
      },
      "source": [
        "##Problema\n",
        "\n",
        "Se tiene un arreglo de 3 tanques conectados entre si como se muestra. En el inicio el tanque $T_1$ contiene una solución de salmuera con $150Kg$ de sal en un volumen de $1000 litros$, el tanque $T_2$ contiene una solución de salmuera con $200Kg$ en un volumen de $1000 litros$, y el tanque $T_3$ contiene una solución de salmuera de $125 Kg$ en un volumen de $1000 litros$, si se hace entrar un flujo de agua salina a razón de $100 litros/min$ con una concentración de $0.18Kg/litro$, cuál es la concentración de cada tanque pasados $30 min$?\n",
        "\n",
        "Cambio de concentración en el tanque $T_1$\n",
        "\n",
        "$$\n",
        "\\frac{dy_1}{dt}=100\\frac{lt}{min}0.18\\frac{kg}{min}-100\\frac{lt}{min}y_1\\frac{kg}{min}\\\\\n",
        "\\frac{dy_1}{dt}=0.018-0.1y_1 \\quad y_1(0)=0.15\n",
        "$$\n",
        "\n",
        "Cambio de concentración en el tanque $T_2$\n",
        "\n",
        "$$\n",
        "\\frac{dy_2}{dt}=100\\frac{lt}{min}y_1\\frac{kg}{min}-100\\frac{lt}{min}y_2\\frac{kg}{min}\\\\\n",
        "\\frac{dy_2}{dt}=0.1(y_1-y_2) \\quad y_2(0)=0.2\n",
        "$$\n",
        "\n",
        "Cambio de concentración en el tanque $T_3$\n",
        "\n",
        "$$\n",
        "\\frac{dy_3}{dt}=100\\frac{lt}{min}y_2\\frac{kg}{min}-100\\frac{lt}{min}y_3\\frac{kg}{min}\\\\\n",
        "\\frac{dy_3}{dt}=0.1(y_2-y_3) \\quad y_1(0)=0.125\n",
        "$$\n",
        "\n",
        "Como podemos observar, la variación de la concentración en el tanque $T_2$ depende de la variación en el tanque $T_1$, a su vez, la concentración del tanque $T_3$ depende de la variación en el tanque $T_2$.\n",
        "\n",
        "Dada esta dependencia se requiere calcular primero la concentración del tanque $T_1$ en el siguiente instante para calcular la concentración en el tanque $T_2$ y luego calcular la concentración en el tanque $T_3$."
      ]
    },
    {
      "cell_type": "code",
      "metadata": {
        "id": "Vers7tCBcRgo"
      },
      "source": [
        "#Haga los import necesarios\n"
      ],
      "execution_count": null,
      "outputs": []
    },
    {
      "cell_type": "markdown",
      "metadata": {
        "id": "y6oY0rPsTvIB"
      },
      "source": [
        "1. Defina la ecuación que se debe resolver"
      ]
    },
    {
      "cell_type": "code",
      "metadata": {
        "id": "sxEebX00Aoba"
      },
      "source": [
        "def sistema(C,t): \n",
        "  return #defina aquí el sistema de EDO"
      ],
      "execution_count": null,
      "outputs": []
    },
    {
      "cell_type": "markdown",
      "metadata": {
        "id": "UZp3jMv-T1aA"
      },
      "source": [
        "2. Use la función **odeint** para obtener los valores de las concentraciones"
      ]
    },
    {
      "cell_type": "code",
      "metadata": {
        "id": "bmNbWSZaUBOk"
      },
      "source": [
        ""
      ],
      "execution_count": null,
      "outputs": []
    },
    {
      "cell_type": "markdown",
      "metadata": {
        "id": "SF1L9WZgT8oh"
      },
      "source": [
        "3. Grafique los valores de $C$ vs $t$"
      ]
    },
    {
      "cell_type": "code",
      "metadata": {
        "id": "bzWmMcCLSvmP"
      },
      "source": [
        ""
      ],
      "execution_count": null,
      "outputs": []
    },
    {
      "cell_type": "markdown",
      "metadata": {
        "id": "hXbSDvn_UGQy"
      },
      "source": [
        "4. Reporte la solución "
      ]
    }
  ]
}