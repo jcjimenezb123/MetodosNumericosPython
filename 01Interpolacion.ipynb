{
  "nbformat": 4,
  "nbformat_minor": 0,
  "metadata": {
    "colab": {
      "provenance": [],
      "authorship_tag": "ABX9TyM8TYz9fC/Edfv+QbPw4tMn",
      "include_colab_link": true
    },
    "kernelspec": {
      "name": "python3",
      "display_name": "Python 3"
    }
  },
  "cells": [
    {
      "cell_type": "markdown",
      "metadata": {
        "id": "view-in-github",
        "colab_type": "text"
      },
      "source": [
        "<a href=\"https://colab.research.google.com/github/jcjimenezb123/MetodosNumericosPython/blob/master/01Interpolacion.ipynb\" target=\"_parent\"><img src=\"https://colab.research.google.com/assets/colab-badge.svg\" alt=\"Open In Colab\"/></a>"
      ]
    },
    {
      "cell_type": "markdown",
      "metadata": {
        "id": "S48UfcmM3koz"
      },
      "source": [
        "##Interpolación Lineal"
      ]
    },
    {
      "cell_type": "markdown",
      "metadata": {
        "id": "08HaXxGR3t4K"
      },
      "source": [
        "La medición de la densidad del carbonato de potasio a distintas concentraciones a temperatura constante genera los siguientes datos.\n",
        "\n",
        "$$\n",
        "\\begin{array}{l|c|c|c|c|c|c}\n",
        "\\text{Concentración}&4.1& 12.2& 20.3& 28.2& 38.1& 45.2\\\\\n",
        "\\hline\n",
        "\\text{Densidad}&1.0276& 1.1013& 1.1801& 1.2652& 1.3480& 1.4120\n",
        "\\end{array}\n",
        "$$\n",
        "\n",
        "Obtener la densidad del Carbonato de Potasio a una concentración de 15%."
      ]
    },
    {
      "cell_type": "code",
      "metadata": {
        "id": "Ih5hOxt43eBL"
      },
      "source": [
        "import numpy as np #crear arreglos de datos, algebra lineal.\n",
        "from scipy import interpolate #metodos de interpolacion\n",
        "import matplotlib.pyplot as plt #graficar"
      ],
      "execution_count": null,
      "outputs": []
    },
    {
      "cell_type": "code",
      "metadata": {
        "id": "LYzaV_hD5Dua"
      },
      "source": [
        "x=np.array([4.1,12.2,20.3,28.2,38.1,45.2]) #variable independiente\n",
        "y=np.array([1.0276,1.1013,1.1801,1.2652,1.3480,1.4120]) #variable dependiente"
      ],
      "execution_count": null,
      "outputs": []
    },
    {
      "cell_type": "code",
      "metadata": {
        "id": "wcEJajaC5fGp"
      },
      "source": [
        "xi= #<---- dato a interpolar\n",
        "p=interpolate.interp1d() #<--- interpolacion lineal\n",
        "yi= #<---- interpolacion\n",
        "print(yi)"
      ],
      "execution_count": null,
      "outputs": []
    },
    {
      "cell_type": "code",
      "metadata": {
        "id": "ug6btT4Q55KY"
      },
      "source": [
        "plt.plot(x,y,'o:g') #<---- dato interpolado\n",
        "plt.grid()\n",
        "plt.title('Densidad del carbonaro de potasio',fontsize=16)\n",
        "plt.xlabel('Concentracion')\n",
        "plt.ylabel('Densidad')\n",
        "plt.text(xi,yi,' interpolacion '+str(yi))\n",
        "plt.show()"
      ],
      "execution_count": null,
      "outputs": []
    },
    {
      "cell_type": "markdown",
      "metadata": {
        "id": "qHtGnHfj8TWa"
      },
      "source": [
        "##Interpolación de Lagrange"
      ]
    },
    {
      "cell_type": "markdown",
      "metadata": {
        "id": "FkOANN2c8aGc"
      },
      "source": [
        "En temporada de lluvias se toma la profundidad del agua en una presa, obteniendo los siguientes datos:\n",
        "\n",
        "$$\n",
        "\\begin{array}{l|c|c|c|c|c|c}\n",
        "\\text{Dia}&1& 4& 8& 13& 18\\\\\n",
        "\\hline\n",
        "\\text{Profundidad}&1.1& 1.5& 12.8& 15.3& 15.5\n",
        "\\end{array}\n",
        "$$\n",
        "\n",
        "Calcular la profundidad del agua en el día 3."
      ]
    },
    {
      "cell_type": "code",
      "metadata": {
        "id": "ARxpUs1j6fp-"
      },
      "source": [
        "import numpy as np #crear arreglos, algebra lineal.\n",
        "from scipy.interpolate import lagrange #metodo de lagrange\n",
        "import matplotlib.pyplot as plt #graficar"
      ],
      "execution_count": null,
      "outputs": []
    },
    {
      "cell_type": "code",
      "metadata": {
        "id": "aCfaHANG9Tvy"
      },
      "source": [
        "x=np.array([1,4,8,13,18]) #variable independiente\n",
        "y=np.array([1.1,1.5,12.8,15.3,15.5]) #variable dependiente"
      ],
      "execution_count": null,
      "outputs": []
    },
    {
      "cell_type": "code",
      "metadata": {
        "id": "at7Aoddx9hYC"
      },
      "source": [
        "p=lagrange() #<--- polinomio de lagrange\n",
        "xi= #<----- dato a interpolar\n",
        "yi= #<----- interpolacion\n",
        "print(yi)\n",
        "print(p)"
      ],
      "execution_count": null,
      "outputs": []
    },
    {
      "cell_type": "code",
      "metadata": {
        "id": "t04p3zTe-8o6"
      },
      "source": [
        "xs=np.linspace() #<---- vector desde el minimo al maximo\n",
        "ys= #<---- interpolacion del vector\n",
        "\n",
        "plt.plot(x,y,'o',xi,yi,'sr',xs,ys,'--')\n",
        "plt.legend(['Datos','Interpolacion','Lagrange'])\n",
        "plt.xlabel('Dia')\n",
        "plt.ylabel('Profundidad')\n",
        "plt.title('Profundidad en una presa')\n",
        "plt.grid()\n",
        "plt.show()"
      ],
      "execution_count": null,
      "outputs": []
    },
    {
      "cell_type": "markdown",
      "metadata": {
        "id": "CptjvXmSFXWP"
      },
      "source": [
        "##Interpolación Spline cúbico"
      ]
    },
    {
      "cell_type": "markdown",
      "metadata": {
        "id": "oZR0Dml3FrP3"
      },
      "source": [
        "Usar la interpolación de Spline Cúbico en el problema de Runge.\n",
        "\n",
        "Usemos la función\n",
        "$$\n",
        "f(x)=e^{-(5x)^2}+x\n",
        "$$\n",
        "\n",
        "en el intervalo $x\\in[-1,1]$"
      ]
    },
    {
      "cell_type": "code",
      "metadata": {
        "id": "e_KagY3iDI3W"
      },
      "source": [
        "import numpy as np\n",
        "from scipy import interpolate\n",
        "from scipy.interpolate import lagrange\n",
        "import matplotlib.pyplot as plt"
      ],
      "execution_count": 1,
      "outputs": []
    },
    {
      "cell_type": "code",
      "metadata": {
        "id": "nVyyvW8VGj0w"
      },
      "source": [
        "x=np.linspace(-1,1,15)\n",
        "y=np.exp(-(5*x)**2) + x #1/(1+25*x**2)"
      ],
      "execution_count": 15,
      "outputs": []
    },
    {
      "cell_type": "code",
      "source": [
        "pol=lagrange() #<---- polinomio de lagrange\n",
        "xs =np.linspace() #<--- definir el vector\n",
        "ypol= #<---- interpolacion"
      ],
      "metadata": {
        "id": "UvZeuKHyq--O"
      },
      "execution_count": 16,
      "outputs": []
    },
    {
      "cell_type": "code",
      "metadata": {
        "id": "s-ECy_iQHBN8"
      },
      "source": [
        "plt.plot(x,y,'o',xs,ypol,'--')\n",
        "plt.grid()\n",
        "plt.legend(['Data','Lagrange'])\n",
        "plt.xlabel('x')\n",
        "plt.ylabel('y')\n",
        "plt.ylim([-2,2])\n",
        "plt.title('Runge phenomenon')\n",
        "plt.show()"
      ],
      "execution_count": null,
      "outputs": []
    },
    {
      "cell_type": "code",
      "metadata": {
        "id": "zWiPhbHRW6lA"
      },
      "source": [
        "sc=interpolate.interp1d(x,y,kind='cubic') #<---- polinomio de interpolacion cubica\n",
        "\n",
        "ysc= #<---- interpolacion"
      ],
      "execution_count": 18,
      "outputs": []
    },
    {
      "cell_type": "code",
      "source": [
        "plt.plot(x,y,'o',xs,ypol,'--') #<--- agregar spline cubico\n",
        "plt.grid()\n",
        "plt.legend(['Data','Lagrange','Spline cubic'])\n",
        "plt.xlabel('x')\n",
        "plt.ylabel('y')\n",
        "plt.ylim([-2,2])\n",
        "plt.title('Runge phenomenon')\n",
        "plt.show()"
      ],
      "metadata": {
        "id": "iyavkaFcXm1x"
      },
      "execution_count": null,
      "outputs": []
    }
  ]
}