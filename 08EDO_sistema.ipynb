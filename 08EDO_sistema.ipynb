{
  "nbformat": 4,
  "nbformat_minor": 0,
  "metadata": {
    "colab": {
      "provenance": [],
      "authorship_tag": "ABX9TyPqxQOrb3HLqWWYDAAFrrZ+",
      "include_colab_link": true
    },
    "kernelspec": {
      "name": "python3",
      "display_name": "Python 3"
    }
  },
  "cells": [
    {
      "cell_type": "markdown",
      "metadata": {
        "id": "view-in-github",
        "colab_type": "text"
      },
      "source": [
        "<a href=\"https://colab.research.google.com/github/jcjimenezb123/MetodosNumericosPython/blob/master/08EDO_sistema.ipynb\" target=\"_parent\"><img src=\"https://colab.research.google.com/assets/colab-badge.svg\" alt=\"Open In Colab\"/></a>"
      ]
    },
    {
      "cell_type": "markdown",
      "metadata": {
        "id": "E3Ku2_AKf3HZ"
      },
      "source": [
        "El meta-Xyleno se produce en un reactor de flujo de pistón a $1500R$ y $35atm$ a partir de Mesitileno. Ocurren dos reacciones en éste reactor\n",
        "\n",
        "$$\n",
        "Mesitileno (M) + Hidrógeno (H) \\stackrel{k_1}{\\longrightarrow}  Meta-Xyleno (X) + Metano\\\\\n",
        "Meta-Xyleno (X) + Hidrógeno (H) \\stackrel{k_2}{\\longrightarrow}  Tolueno (T) + Metano\n",
        "$$\n",
        "\n",
        "La segunda reacción no es deseable porque convierte el meta-Xyleno a Tolueno. El siguiente sistema se obtiene del balance\n",
        "\n",
        "$$\n",
        "\\frac{dC_H}{dt}=-k_1C_H^{0.5}C_M-k_2C_H^{0.5}C_X\\\\\n",
        "\\frac{dC_M}{dt}=-k_1C_H^{0.5}C_M\\\\\n",
        "\\frac{dC_X}{dt}=k_1C_H^{0.5}C_M-k_2C_H^{0.5}C_X\n",
        "$$\n",
        "\n",
        "Donde $k_1$ es la constante de la reacción 1, $k_2$ es la constante de la reacción 2, $C_H$,$C_M$ y\n",
        "$C_X$ son las concentraciones de hidrógeno, mesitileno y meta-Xyleno en un $t$ específico en el\n",
        "reactor. Las concentraciones de hidrógeno y mesitileno en la entrada del reactor son $0.021$ y\n",
        "$0.0105$ $lbmol/ft^3$ y $k_1 = 55.2 ft^3/lbmol 0.5/hr$ $k_2 = 30.2 ft^3/lbmol 0.5/hr$.\n",
        "\n",
        "Graficar la concentración de hidrógeno, mesitileno, meta-Xyleno como una función de $t$ de $0$ a $0.5 hr$.\n",
        "Determine el $t$ óptimo en el reactor de flujo de pistón para obtener la máxima cantidad de producto.\n"
      ]
    },
    {
      "cell_type": "code",
      "metadata": {
        "id": "V8IjQiMTWqzl"
      },
      "source": [
        "from scipy.integrate import odeint\n",
        "import numpy as np\n",
        "import matplotlib.pyplot as plt"
      ],
      "execution_count": 1,
      "outputs": []
    },
    {
      "cell_type": "code",
      "metadata": {
        "id": "rgUfoiUvW4Bp"
      },
      "source": [
        "# Sistema de ecuaciones diferenciales\n",
        "def f(C,t):\n",
        "  k1 =55.2\n",
        "  k2 =\n",
        "  #C [0] concentracion de Hidrogeno\n",
        "  #C [1] concentracion de Mesitileno\n",
        "  #C [2] concentracion de Meta - Xylen\n",
        "  dch =-k1*C [0]**0.5* C[1] - k2*C [0]**0.5* C [2] # Hidrogeno\n",
        "  dcm = # Mesitileno\n",
        "  dcx =k1*C [0]**0.5* C[1] - k2*C [0]**0.5* C [2] #Meta - Xylen\n",
        "  return [dch ,dcm , dcx ]"
      ],
      "execution_count": 2,
      "outputs": []
    },
    {
      "cell_type": "code",
      "metadata": {
        "id": "V7ObKW7CXGJ1"
      },
      "source": [
        "x0 =0 # valor inicial de tiempo\n",
        "#y0 =[ Hidrogeno Mesitileno Meta - Xylen ]\n",
        "y0 =[ , ,] # condiciones iniciales de\n",
        "x1 = # valor final del tiempo\n",
        "tiempo =np.linspace (x0,x1)\n",
        "# llamada a la funcion odeint\n",
        "sol = odeint(f,y0,tiempo )\n",
        "sol"
      ],
      "execution_count": null,
      "outputs": []
    },
    {
      "cell_type": "code",
      "metadata": {
        "id": "gKPY09nDeULx"
      },
      "source": [
        "pmax,idx = np.max(sol[:,2]),np.argmax(sol[:,2])\n",
        "t=tiempo[idx]\n",
        "print('tiempo =',t,'hr\\nproducto maximo = ',pmax,'lbmol')"
      ],
      "execution_count": null,
      "outputs": []
    },
    {
      "cell_type": "code",
      "metadata": {
        "id": "U6gKWQiDXWJ-"
      },
      "source": [
        "fig,ax=plt.subplots(1,figsize=(12,6))\n",
        "ax.minorticks_on()\n",
        "plt.plot(tiempo,sol[:,0],label = '$Hidrogeno (H)$')\n",
        "plt.plot(tiempo,sol[:,1],label = '$Mesitileno (M)$')\n",
        "plt.plot(tiempo,sol[:,2],label = '$Meta - Xileno (X)$')\n",
        "plt.legend(fancybox=True,shadow=True,loc='upper left')\n",
        "plt.grid(which='major',linestyle='-.',linewidth=0.5,color='red')\n",
        "plt.grid(which='minor',linestyle='--',linewidth=0.5,color='gray')\n",
        "plt.title('Producción de Meta-Xileno',fontsize=18)\n",
        "plt.xlabel('tiempo [hr]')\n",
        "plt.ylabel('producto [lbmol]')\n",
        "\n",
        "inner_ax = fig.add_axes([0.55, 0.5, 0.33, 0.33]) # x, y, width, height\n",
        "inner_ax.plot(tiempo,sol[:,2],'o-.',color='green')\n",
        "inner_ax.set(title='Acercamiento', xlim=(0.1800, 0.21),ylim=( 0.005055, 0.005067))\n",
        "inner_ax.grid(linestyle='--')\n",
        "\n",
        "plt.show()"
      ],
      "execution_count": null,
      "outputs": []
    },
    {
      "cell_type": "markdown",
      "source": [
        "#Atractor de Lorenz"
      ],
      "metadata": {
        "id": "Z1B0EQoKPodj"
      }
    },
    {
      "cell_type": "markdown",
      "source": [
        "El atractor de Lorenz es un concepto introducido por Edward Lorenz en 1963. Se trata de un sistema dinámico determinista tridimensional no lineal derivado de las ecuaciones simplificadas de rollos de convección que se producen en las ecuaciones dinámicas de la atmósfera terrestre.\n",
        "\n",
        "Para ciertos valores de los parámetros a, b, c, el sistema exhibe un comportamiento caótico y muestra lo que actualmente se llama un atractor extraño; esto fue probado por Warwick Tucker en 2002.\n",
        "\n",
        "El sistema de Lorenz es un conjunto de tres ecuaciones diferenciales ordinarias acopladas\n",
        "que representan la conveccion de fluidos atmosfericos en tres dimensiones:\n",
        "\n",
        "$$\n",
        "\\frac{dx}{dt}=a(y-x)\\\\\n",
        "\\frac{dy}{dt}=x(b-z)-y\\\\\n",
        "\\frac{dz}{dt}=xy-cz\n",
        "$$\n",
        "\n",
        "donde a es llamado el número de Prandtl y b se llama el número de Rayleigh y c es una constante de proporcionalidad. Con $(x,y,z) \\in R$\n",
        "\n",
        "a,b,c>0, pero es usualmente a=10, c=8/3 y b es variado. El sistema exhibe un comportamiento caótico para b=28 pero muestra órbitas periódicas para otros valores de b; para valores de b ≥ 28 el sistema es caotico.\n",
        "\n",
        "El sistema de Lorenz tiene un importante desarrollo historico en la mecanica de fluidos atmosfericos, y sirve de paradigma para otros estudios aplicados a dinamicas caoticas.\n",
        "\n",
        "La forma de mariposa del atractor de Lorenz puede haber inspirado el nombre del efecto mariposa en la teoría del caos."
      ],
      "metadata": {
        "id": "EDBWHMAePSh7"
      }
    },
    {
      "cell_type": "code",
      "metadata": {
        "id": "eI3pAVZVIkdW"
      },
      "source": [
        "def f(X,t):\n",
        "  x,y,z=X\n",
        "  a=\n",
        "  b=\n",
        "  c=\n",
        "  dxdt=a*(y-x)\n",
        "  dydt=x*(b-z)-y\n",
        "  dzdt=x*y-c*z\n",
        "\n",
        "  return np.array([dxdt,dydt,dzdt])"
      ],
      "execution_count": 6,
      "outputs": []
    },
    {
      "cell_type": "code",
      "source": [
        "tiempo=np.linspace(0,40,4000)\n",
        "y0=[1.,1.,1.]\n",
        "Y=odeint(f,y0,tiempo)\n",
        "Y"
      ],
      "metadata": {
        "id": "MMTeE-zDPevB"
      },
      "execution_count": null,
      "outputs": []
    },
    {
      "cell_type": "code",
      "source": [
        "import plotly.express as px\n",
        "\n",
        "fig = px.line_3d(x=Y[:,0], y=Y[:,1], z=Y[:,2])\n",
        "fig.show()"
      ],
      "metadata": {
        "id": "QtJbzZZiPiYm"
      },
      "execution_count": null,
      "outputs": []
    }
  ]
}