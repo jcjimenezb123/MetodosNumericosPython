{
  "nbformat": 4,
  "nbformat_minor": 0,
  "metadata": {
    "colab": {
      "provenance": [],
      "authorship_tag": "ABX9TyNKEUoyJwR/HP2x8ujQ6iR1",
      "include_colab_link": true
    },
    "kernelspec": {
      "name": "python3",
      "display_name": "Python 3"
    },
    "language_info": {
      "name": "python"
    }
  },
  "cells": [
    {
      "cell_type": "markdown",
      "metadata": {
        "id": "view-in-github",
        "colab_type": "text"
      },
      "source": [
        "<a href=\"https://colab.research.google.com/github/jcjimenezb123/MetodosNumericosPython/blob/master/10EDP_Elipticas.ipynb\" target=\"_parent\"><img src=\"https://colab.research.google.com/assets/colab-badge.svg\" alt=\"Open In Colab\"/></a>"
      ]
    },
    {
      "cell_type": "code",
      "metadata": {
        "id": "Zl_KU-Yd-mW5"
      },
      "source": [
        "import numpy as np"
      ],
      "execution_count": null,
      "outputs": []
    },
    {
      "cell_type": "code",
      "metadata": {
        "id": "Bm0nNdTL-tNr"
      },
      "source": [
        "#matriz de coeficientes con las condiciones de Dirichlet\n",
        "A=np.array([[ -4 , 1, 0, 1, 0, 0, 0, 0, 0] ,\\\n",
        " [1, -4, 1, 0, 1, 0, 0, 0, 0] ,\\\n",
        " [0, 1, -4, 0, 0, 1, 0, 0, 0] ,\\\n",
        " [1, 0, 0, -4, 1, 0, 1, 0, 0] ,\\\n",
        " [0, 1, 0, 1, -4, 1, 0, 1, 0] ,\\\n",
        " [0, 0, 1, 0, 1, -4, 0, 0, 1] ,\\\n",
        " [0, 0, 0, 1, 0, 0, -4, 1, 0] ,\\\n",
        " [0, 0, 0, 0, 1, 0, 1, -4, 1] ,\\\n",
        " [0, 0, 0, 0, 0, 1, 0, 1, -4]])\n",
        "\n",
        "#vector de constantes\n",
        "b=np.array([ -100 , -20 , -20 , -80 ,0 ,0 , -260 , -180 , -180])"
      ],
      "execution_count": null,
      "outputs": []
    },
    {
      "cell_type": "code",
      "metadata": {
        "id": "VlT7wYPJ-6_F"
      },
      "source": [
        "T=np.linalg.solve(A,b) #resolver el sistema\n",
        "T=T.reshape() #<--- re arreglar el vector solucion en una matriz 3x3 para indicar la temperatura en cada nodo\n",
        "T"
      ],
      "execution_count": null,
      "outputs": []
    },
    {
      "cell_type": "code",
      "metadata": {
        "id": "mE9RWx4E_orW"
      },
      "source": [
        "import matplotlib.pyplot as plt\n",
        "\n",
        "X,Y=np.meshgrid(np.arange(),np.arange()) #crea la rejilla 1,4 porque son 3 valores\n",
        "fig,ax=plt.subplots(figsize=(12,8)) #define el tamano de la grafica\n",
        "CS=ax.contour(X,Y,T,20) #crea la grafica\n",
        "ax.clabel(CS,inline=1,fontsize=12) #configura las etiquetas de cada linea\n",
        "fig.colorbar(CS,shrink=0.8,extend='both') #coloca la barra de valores\n",
        "ax.set_title('Laplace con condiciones de Dirichlet');"
      ],
      "execution_count": null,
      "outputs": []
    },
    {
      "cell_type": "code",
      "source": [
        "import plotly.graph_objects as go\n",
        "\n",
        "fig = go.Figure(data=[go.Surface(z=T,opacity=0.7)]) #grafica los datos de la matriz\n",
        "fig.update_traces(contours_z=dict(show=True, usecolormap=True,\n",
        "                                  project_z=True))\n",
        "fig.update_layout(title='EDP Eliptica')\n",
        "\n",
        "fig.show()"
      ],
      "metadata": {
        "id": "yZa5j5QkyXiT"
      },
      "execution_count": null,
      "outputs": []
    },
    {
      "cell_type": "code",
      "metadata": {
        "id": "c61nrAWXAil3"
      },
      "source": [
        "#se crea la matriz de coeficientes con las condiciones de Neumann y Dirichlet\n",
        "A=np. array ([[ -4 , 1, 0, 2, 0, 0, 0, 0, 0, 0, 0, 0] ,\\\n",
        " [1, -4, 1, 0, 2, 0, 0, 0, 0, 0, 0, 0] ,\\\n",
        " [0, 1, -4, 0, 0, 2, 0, 0, 0, 0, 0, 0] ,\\\n",
        " [1, 0, 0, -4, 1, 0, 1, 0, 0, 0, 0, 0] ,\\\n",
        " [0, 1, 0, 1, -4, 1, 0, 1, 0, 0, 0, 0] ,\\\n",
        " [0, 0, 1, 0, 1, -4, 0, 0, 1, 0, 0, 0] ,\\\n",
        " [0, 0, 0, 1, 0, 0, -4, 1, 0, 1, 0, 0] ,\\\n",
        " [0, 0, 0, 0, 1, 0, 1, -4, 1, 0, 1, 0] ,\\\n",
        " [0, 0, 0, 0, 0, 1, 0, 1, -4, 0, 0, 1] ,\\\n",
        " [0, 0, 0, 0, 0, 0, 1, 0, 0, -4, 1, 0] ,\\\n",
        " [0, 0, 0, 0, 0, 0, 0, 1, 0, 1, -4, 1] ,\\\n",
        " [0, 0, 0, 0, 0, 0, 0, 0, 1, 0, 1, -4]])\n",
        "\n",
        "#vector de constantes\n",
        "b=np.array([-80 ,0 ,0 , -80 ,0 ,0 , -80 ,0 ,0 , -260 , -180 , -180])"
      ],
      "execution_count": null,
      "outputs": []
    },
    {
      "cell_type": "code",
      "metadata": {
        "id": "5JQOQrUXRVnF"
      },
      "source": [
        "T=np.linalg.solve(A,b) #se resuelve el sistema\n",
        "T=T.reshape() #<--- re arreglar el vector solucion en un matriz de 4x3\n",
        "T"
      ],
      "execution_count": null,
      "outputs": []
    },
    {
      "cell_type": "code",
      "metadata": {
        "id": "XJI761PUSO9N"
      },
      "source": [
        "import matplotlib.pyplot as plt\n",
        "\n",
        "X,Y=np.meshgrid(np.arange(),np.arange()) #se crea la rejilla una de 1,4 y la otra 1,5 porque son mas incognias por la condicion de Neumann\n",
        "fig,ax=plt.subplots(figsize=(12,8))\n",
        "CS=ax.contour(X,Y,T,20)\n",
        "ax.clabel(CS,inline=1,fontsize=12)\n",
        "fig.colorbar(CS,shrink=0.8,extend='both')\n",
        "ax.set_title('Laplace con condiciones de Dirichlet y Neumann');"
      ],
      "execution_count": null,
      "outputs": []
    },
    {
      "cell_type": "code",
      "source": [
        "import plotly.graph_objects as go\n",
        "\n",
        "fig = go.Figure(data=[go.Surface(z=T,opacity=0.7)])\n",
        "fig.update_traces(contours_z=dict(show=True, usecolormap=True,\n",
        "                                  project_z=True))\n",
        "fig.update_layout(title='EDP Eliptica')\n",
        "\n",
        "fig.show()"
      ],
      "metadata": {
        "id": "RQgxr2d9zH9v"
      },
      "execution_count": null,
      "outputs": []
    }
  ]
}