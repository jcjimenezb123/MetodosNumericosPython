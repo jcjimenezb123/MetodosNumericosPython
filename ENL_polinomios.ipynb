{
  "nbformat": 4,
  "nbformat_minor": 0,
  "metadata": {
    "colab": {
      "name": "ENL_polinomios.ipynb",
      "provenance": [],
      "authorship_tag": "ABX9TyNomsbXFdVSo+YBJFoTZEHA",
      "include_colab_link": true
    },
    "kernelspec": {
      "name": "python3",
      "display_name": "Python 3"
    },
    "language_info": {
      "name": "python"
    }
  },
  "cells": [
    {
      "cell_type": "markdown",
      "metadata": {
        "id": "view-in-github",
        "colab_type": "text"
      },
      "source": [
        "<a href=\"https://colab.research.google.com/github/jcjimenezb123/MetodosNumericosPython/blob/master/ENL_polinomios.ipynb\" target=\"_parent\"><img src=\"https://colab.research.google.com/assets/colab-badge.svg\" alt=\"Open In Colab\"/></a>"
      ]
    },
    {
      "cell_type": "code",
      "execution_count": 2,
      "metadata": {
        "id": "sqer-P4fHHC2"
      },
      "outputs": [],
      "source": [
        "from scipy.optimize import newton"
      ]
    },
    {
      "cell_type": "code",
      "source": [
        "p=lambda x:(50-2*x)*(30-2*x)*x-3000\n",
        "r1=newton(p,0)\n",
        "print(r1)"
      ],
      "metadata": {
        "colab": {
          "base_uri": "https://localhost:8080/"
        },
        "id": "scL0LuhjHNgn",
        "outputId": "12153e49-7bac-4e4a-ea46-c0463598201c"
      },
      "execution_count": 20,
      "outputs": [
        {
          "output_type": "stream",
          "name": "stdout",
          "text": [
            "2.7525512860841075\n"
          ]
        }
      ]
    },
    {
      "cell_type": "code",
      "source": [
        "q=lambda x:p(x)/(x-r1)\n",
        "r2=newton(q,0)\n",
        "print(r2)"
      ],
      "metadata": {
        "colab": {
          "base_uri": "https://localhost:8080/"
        },
        "id": "YUZ8ZqSkI-7o",
        "outputId": "22def20a-1690-4630-d5b3-bab4c0afaa2e"
      },
      "execution_count": 21,
      "outputs": [
        {
          "output_type": "stream",
          "name": "stdout",
          "text": [
            "9.999999999999973\n"
          ]
        }
      ]
    },
    {
      "cell_type": "code",
      "source": [
        "s=lambda x:q(x)/(x-r2)\n",
        "r3=newton(s,0)\n",
        "print(r3)"
      ],
      "metadata": {
        "colab": {
          "base_uri": "https://localhost:8080/"
        },
        "id": "siBFTRMcJYyd",
        "outputId": "48b8c4c4-ecf8-464a-dafe-9f86275afe69"
      },
      "execution_count": 22,
      "outputs": [
        {
          "output_type": "stream",
          "name": "stdout",
          "text": [
            "27.247448713915887\n"
          ]
        }
      ]
    },
    {
      "cell_type": "code",
      "source": [
        "from sympy import symbols, expand\n",
        "\n",
        "x = symbols('x') \n",
        "print(expand((50-2*x)*(30-2*x)*x-3000))"
      ],
      "metadata": {
        "colab": {
          "base_uri": "https://localhost:8080/"
        },
        "id": "rcM849HDbxP7",
        "outputId": "5ed69798-20a8-45be-b2a7-5e8908f37b42"
      },
      "execution_count": 27,
      "outputs": [
        {
          "output_type": "stream",
          "name": "stdout",
          "text": [
            "4*x**3 - 160*x**2 + 1500*x - 3000\n"
          ]
        }
      ]
    },
    {
      "cell_type": "code",
      "source": [
        "import numpy as np\n",
        "\n",
        "coef=[4,-160,1500,-3000]\n",
        "print(np.roots(coef))"
      ],
      "metadata": {
        "colab": {
          "base_uri": "https://localhost:8080/"
        },
        "id": "BxojcVbfcOA0",
        "outputId": "fada8870-0129-4355-eb09-63301fec1cd4"
      },
      "execution_count": 28,
      "outputs": [
        {
          "output_type": "stream",
          "name": "stdout",
          "text": [
            "[27.24744871 10.          2.75255129]\n"
          ]
        }
      ]
    }
  ]
}