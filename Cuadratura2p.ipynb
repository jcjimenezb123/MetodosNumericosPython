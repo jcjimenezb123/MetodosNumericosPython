{
  "nbformat": 4,
  "nbformat_minor": 0,
  "metadata": {
    "colab": {
      "name": "Cuadratura2p.ipynb",
      "provenance": [],
      "collapsed_sections": [],
      "authorship_tag": "ABX9TyOyb6WE3UuB6iEcXzroPQoD",
      "include_colab_link": true
    },
    "kernelspec": {
      "name": "python3",
      "display_name": "Python 3"
    }
  },
  "cells": [
    {
      "cell_type": "markdown",
      "metadata": {
        "id": "view-in-github",
        "colab_type": "text"
      },
      "source": [
        "<a href=\"https://colab.research.google.com/github/jcjimenezb123/MetodosNumericosPython/blob/master/Cuadratura2p.ipynb\" target=\"_parent\"><img src=\"https://colab.research.google.com/assets/colab-badge.svg\" alt=\"Open In Colab\"/></a>"
      ]
    },
    {
      "cell_type": "code",
      "metadata": {
        "id": "wgrDCX6TikEE"
      },
      "source": [
        "import numpy as np\r\n",
        "\r\n",
        "def cuadratura2p(f,a,b):\r\n",
        "  x1=(b-a)/2*(-1/np.sqrt(3))+(a+b)/2\r\n",
        "  x2=(b-a)/2*(1/np.sqrt(3))+(a+b)/2\r\n",
        "  return (b-a)/2*(f(x1)+f(x2))"
      ],
      "execution_count": null,
      "outputs": []
    },
    {
      "cell_type": "code",
      "metadata": {
        "id": "jxrz34U1jb09"
      },
      "source": [
        "def f(x):\r\n",
        "  return np.exp(x)*np.sin(x)/(1+x**2)"
      ],
      "execution_count": null,
      "outputs": []
    },
    {
      "cell_type": "code",
      "metadata": {
        "colab": {
          "base_uri": "https://localhost:8080/"
        },
        "id": "mPu6Cd2OjrWU",
        "outputId": "3bbb31af-f3fb-4c1a-971c-f43329389d99"
      },
      "source": [
        "integral=cuadratura2p(f,0,3)\r\n",
        "integral"
      ],
      "execution_count": null,
      "outputs": [
        {
          "output_type": "execute_result",
          "data": {
            "text/plain": [
              "2.8906480004893247"
            ]
          },
          "metadata": {
            "tags": []
          },
          "execution_count": 3
        }
      ]
    },
    {
      "cell_type": "code",
      "metadata": {
        "id": "EZABrIIrkC1i"
      },
      "source": [
        "def f2(x):\r\n",
        "  return np.exp(x**2)"
      ],
      "execution_count": null,
      "outputs": []
    },
    {
      "cell_type": "code",
      "metadata": {
        "colab": {
          "base_uri": "https://localhost:8080/"
        },
        "id": "th_oe5BkjwRK",
        "outputId": "24457f5c-1f27-4da3-af48-9a5cb314558c"
      },
      "source": [
        "integral2=cuadratura2p(f2,0,1)\r\n",
        "integral2"
      ],
      "execution_count": null,
      "outputs": [
        {
          "output_type": "execute_result",
          "data": {
            "text/plain": [
              "1.4541678892391303"
            ]
          },
          "metadata": {
            "tags": []
          },
          "execution_count": 5
        }
      ]
    },
    {
      "cell_type": "code",
      "metadata": {
        "id": "FG2XyjeykL6l"
      },
      "source": [
        ""
      ],
      "execution_count": null,
      "outputs": []
    }
  ]
}