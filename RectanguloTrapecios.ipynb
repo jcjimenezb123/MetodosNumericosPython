{
  "nbformat": 4,
  "nbformat_minor": 0,
  "metadata": {
    "colab": {
      "name": "RectanguloTrapecios.ipynb",
      "provenance": [],
      "authorship_tag": "ABX9TyNW0Wc/iIN6Qa0FAocFUo8N",
      "include_colab_link": true
    },
    "kernelspec": {
      "name": "python3",
      "display_name": "Python 3"
    }
  },
  "cells": [
    {
      "cell_type": "markdown",
      "metadata": {
        "id": "view-in-github",
        "colab_type": "text"
      },
      "source": [
        "<a href=\"https://colab.research.google.com/github/jcjimenezb123/MetodosNumericosPython/blob/master/RectanguloTrapecios.ipynb\" target=\"_parent\"><img src=\"https://colab.research.google.com/assets/colab-badge.svg\" alt=\"Open In Colab\"/></a>"
      ]
    },
    {
      "cell_type": "markdown",
      "metadata": {
        "id": "KZ_YHcjODMts"
      },
      "source": [
        "Calcular la integral de la siguiente funcion\r\n",
        "\r\n",
        "$$\r\n",
        "\\int_0^1e^{x^2}dx\\approx(1-0)f(0)\r\n",
        "$$"
      ]
    },
    {
      "cell_type": "code",
      "metadata": {
        "id": "cMVh6SEKEFws"
      },
      "source": [
        "import numpy as np"
      ],
      "execution_count": 1,
      "outputs": []
    },
    {
      "cell_type": "code",
      "metadata": {
        "id": "vr6HX49mDKZr"
      },
      "source": [
        "def f(x):\r\n",
        "  return np.exp(x**2)"
      ],
      "execution_count": 3,
      "outputs": []
    },
    {
      "cell_type": "code",
      "metadata": {
        "colab": {
          "base_uri": "https://localhost:8080/"
        },
        "id": "vmR0-FK6EMlA",
        "outputId": "66beac5d-98a8-40b6-c6ef-eeec58f203af"
      },
      "source": [
        "a,b=0,1\r\n",
        "n=2\r\n",
        "h=(b-a)/n\r\n",
        "integral=h*(f(0)+f(0.5))\r\n",
        "integral"
      ],
      "execution_count": 6,
      "outputs": [
        {
          "output_type": "execute_result",
          "data": {
            "text/plain": [
              "1.1420127083438707"
            ]
          },
          "metadata": {
            "tags": []
          },
          "execution_count": 6
        }
      ]
    },
    {
      "cell_type": "code",
      "metadata": {
        "colab": {
          "base_uri": "https://localhost:8080/",
          "height": 265
        },
        "id": "utAQ0o8iEkXk",
        "outputId": "7207bcb4-bd4a-4444-c06c-c4c0609411d4"
      },
      "source": [
        "import matplotlib.pyplot as plt\r\n",
        "a,b=0,1\r\n",
        "xs=np.linspace(a,b)\r\n",
        "plt.plot(xs,f(xs))\r\n",
        "plt.show()"
      ],
      "execution_count": 5,
      "outputs": [
        {
          "output_type": "display_data",
          "data": {
            "image/png": "[encoded data removed]",
            "text/plain": [
              "<Figure size 432x288 with 1 Axes>"
            ]
          },
          "metadata": {
            "tags": [],
            "needs_background": "light"
          }
        }
      ]
    },
    {
      "cell_type": "code",
      "metadata": {
        "id": "AmkMaflaFDcQ"
      },
      "source": [
        "def reglaRectangulos(f,a,b,n):\r\n",
        "  h=(b-a)/n\r\n",
        "  xs=np.linspace(a,b,n+1)\r\n",
        "  ys=f(xs)\r\n",
        "  return h*sum(ys[:n])"
      ],
      "execution_count": 7,
      "outputs": []
    },
    {
      "cell_type": "code",
      "metadata": {
        "colab": {
          "base_uri": "https://localhost:8080/"
        },
        "id": "t1HZvX5OHoz7",
        "outputId": "a9c6cba7-0ea7-4341-90c8-f107a642f918"
      },
      "source": [
        "integral = reglaRectangulos(f,0,1,2000)\r\n",
        "integral"
      ],
      "execution_count": 19,
      "outputs": [
        {
          "output_type": "execute_result",
          "data": {
            "text/plain": [
              "1.462222288711805"
            ]
          },
          "metadata": {
            "tags": []
          },
          "execution_count": 19
        }
      ]
    },
    {
      "cell_type": "markdown",
      "metadata": {
        "id": "XrSTynv5K4m4"
      },
      "source": [
        "Usando la regla de los trapecios simpe"
      ]
    },
    {
      "cell_type": "code",
      "metadata": {
        "colab": {
          "base_uri": "https://localhost:8080/"
        },
        "id": "I8aeItKMH3UH",
        "outputId": "f7a10fc7-0e0d-4798-c864-43b2bc57c756"
      },
      "source": [
        "integral=(b-a)*(f(a)+f(b))/2\r\n",
        "integral"
      ],
      "execution_count": 21,
      "outputs": [
        {
          "output_type": "execute_result",
          "data": {
            "text/plain": [
              "1.8591409142295225"
            ]
          },
          "metadata": {
            "tags": []
          },
          "execution_count": 21
        }
      ]
    },
    {
      "cell_type": "code",
      "metadata": {
        "id": "feFhHerWLCv3"
      },
      "source": [
        "def reglaTrapecios(f,a,b,n):\r\n",
        "  h=(b-a)/n\r\n",
        "  xs=np.linspace(a,b,n+1)\r\n",
        "  ys=f(xs)\r\n",
        "  return h/2*(ys[0]+2*sum(ys[1:n])+ys[n])"
      ],
      "execution_count": 35,
      "outputs": []
    },
    {
      "cell_type": "code",
      "metadata": {
        "colab": {
          "base_uri": "https://localhost:8080/"
        },
        "id": "m4ezMwdPNBJ1",
        "outputId": "c39ccf23-26fd-4110-b474-85f58c56c552"
      },
      "source": [
        "integral=reglaTrapecios(f,0,1,10)\r\n",
        "integral"
      ],
      "execution_count": 36,
      "outputs": [
        {
          "output_type": "execute_result",
          "data": {
            "text/plain": [
              "1.4671746927387985"
            ]
          },
          "metadata": {
            "tags": []
          },
          "execution_count": 36
        }
      ]
    },
    {
      "cell_type": "markdown",
      "metadata": {
        "id": "7MzeCyP7SFV-"
      },
      "source": [
        "La cantidad de masa transportada por una tubería en un periodo de tiempo se calcula con la ecuación\r\n",
        "\r\n",
        "$$\r\n",
        "M=\\int_2^8(9+4cos^2(0.4t))(5e^{0.5t}+2e^{0.15t})dt\r\n",
        "$$"
      ]
    },
    {
      "cell_type": "code",
      "metadata": {
        "id": "xUHprZMUNIKB"
      },
      "source": [
        "def f(t):\r\n",
        "  return (9+4*np.cos(0.4*t)**2)*(5*np.exp(0.5*t)+2*np.exp(0.15*t))"
      ],
      "execution_count": 37,
      "outputs": []
    },
    {
      "cell_type": "code",
      "metadata": {
        "colab": {
          "base_uri": "https://localhost:8080/"
        },
        "id": "zdio8J1zTJCm",
        "outputId": "e44f8986-0676-4178-c37b-0f00cf96f43e"
      },
      "source": [
        "masa=reglaRectangulos(f,2,8,10)\r\n",
        "masa"
      ],
      "execution_count": 40,
      "outputs": [
        {
          "output_type": "execute_result",
          "data": {
            "text/plain": [
              "5346.488904102593"
            ]
          },
          "metadata": {
            "tags": []
          },
          "execution_count": 40
        }
      ]
    },
    {
      "cell_type": "code",
      "metadata": {
        "colab": {
          "base_uri": "https://localhost:8080/"
        },
        "id": "96daPLWgTwqE",
        "outputId": "e7c319f4-8dfb-46a8-bb8d-0c3a0f923580"
      },
      "source": [
        "masa=reglaTrapecios(f,2,8,40)\r\n",
        "masa"
      ],
      "execution_count": 46,
      "outputs": [
        {
          "output_type": "execute_result",
          "data": {
            "text/plain": [
              "6335.143806834599"
            ]
          },
          "metadata": {
            "tags": []
          },
          "execution_count": 46
        }
      ]
    },
    {
      "cell_type": "code",
      "metadata": {
        "colab": {
          "base_uri": "https://localhost:8080/",
          "height": 265
        },
        "id": "yGSIWiFpTRCW",
        "outputId": "a990281b-5d9e-4e59-9710-55f570285158"
      },
      "source": [
        "ts=np.linspace(2,8)\r\n",
        "m=f(ts)\r\n",
        "plt.plot(ts,m)\r\n",
        "plt.show()"
      ],
      "execution_count": 41,
      "outputs": [
        {
          "output_type": "display_data",
          "data": {
            "image/png": "[encoded data removed]",
            "text/plain": [
              "<Figure size 432x288 with 1 Axes>"
            ]
          },
          "metadata": {
            "tags": [],
            "needs_background": "light"
          }
        }
      ]
    },
    {
      "cell_type": "code",
      "metadata": {
        "id": "e7lK0C3HTl_M"
      },
      "source": [
        ""
      ],
      "execution_count": null,
      "outputs": []
    }
  ]
}