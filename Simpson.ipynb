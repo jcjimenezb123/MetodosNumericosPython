{
  "nbformat": 4,
  "nbformat_minor": 0,
  "metadata": {
    "colab": {
      "name": "Simpson.ipynb",
      "provenance": [],
      "authorship_tag": "ABX9TyMQ5Hci7vwAD31VIvweQWUX",
      "include_colab_link": true
    },
    "kernelspec": {
      "name": "python3",
      "display_name": "Python 3"
    }
  },
  "cells": [
    {
      "cell_type": "markdown",
      "metadata": {
        "id": "view-in-github",
        "colab_type": "text"
      },
      "source": [
        "<a href=\"https://colab.research.google.com/github/jcjimenezb123/MetodosNumericosPython/blob/master/Simpson.ipynb\" target=\"_parent\"><img src=\"https://colab.research.google.com/assets/colab-badge.svg\" alt=\"Open In Colab\"/></a>"
      ]
    },
    {
      "cell_type": "markdown",
      "metadata": {
        "id": "NCP0T6WJSOSd"
      },
      "source": [
        "#Regla de Simpson $\\frac{1}{3}$"
      ]
    },
    {
      "cell_type": "code",
      "metadata": {
        "id": "fYZIoDeWSNN_"
      },
      "source": [
        "import numpy as np\r\n",
        "def simpson13(f,a,b,n):\r\n",
        "  h=(b-a)/n\r\n",
        "  xs=np.linspace(a,b,n+1)\r\n",
        "  ys=f(xs)\r\n",
        "  return h/3*(ys[0]+4*sum(ys[1:n:2])+2*sum(ys[2:n-1:2])+ys[n])"
      ],
      "execution_count": null,
      "outputs": []
    },
    {
      "cell_type": "code",
      "metadata": {
        "id": "jiqqgS2ZYzV8"
      },
      "source": [
        "def simpson38(f,a,b,n):\r\n",
        "  h=(b-a)/n\r\n",
        "  xs=np.linspace(a,b,n+1)\r\n",
        "  ys=f(xs)\r\n",
        "  return 3/8*h*(ys[0]+3*sum(ys[1:n-1:3])+3*sum(ys[2:n:3])+2*sum(ys[3:n-2:3])+ys[n])"
      ],
      "execution_count": null,
      "outputs": []
    },
    {
      "cell_type": "markdown",
      "metadata": {
        "id": "9ZWjAMF9UqRs"
      },
      "source": [
        "La cantidad de masa transportada por una tubería en un periodo de tiempo se calcula con la ecuación\r\n",
        "\r\n",
        "$$\r\n",
        "M=\\int_2^8(9+4cos^2(0.4t))(5e^{0.5t}+2e^{0.15t})dt\r\n",
        "$$"
      ]
    },
    {
      "cell_type": "code",
      "metadata": {
        "id": "cs5OOqtqUBrm"
      },
      "source": [
        "def f(t):\r\n",
        "  return (9+4*np.cos(0.4*t)**2)*(5*np.exp(0.5*t)+2*np.exp(0.15*t))"
      ],
      "execution_count": null,
      "outputs": []
    },
    {
      "cell_type": "code",
      "metadata": {
        "colab": {
          "base_uri": "https://localhost:8080/"
        },
        "id": "I5eIv4tzUxYz",
        "outputId": "4fb08094-5fc8-4c70-a481-58ea98bcf81b"
      },
      "source": [
        "masa=simpson13(f,2,8,10)\r\n",
        "masa"
      ],
      "execution_count": null,
      "outputs": [
        {
          "output_type": "execute_result",
          "data": {
            "text/plain": [
              "6331.908995408527"
            ]
          },
          "metadata": {
            "tags": []
          },
          "execution_count": 5
        }
      ]
    },
    {
      "cell_type": "code",
      "metadata": {
        "colab": {
          "base_uri": "https://localhost:8080/"
        },
        "id": "1M9GT744aNfP",
        "outputId": "d86a0e44-9088-44d2-89ac-c6971c704e86"
      },
      "source": [
        "masa = simpson38(f,2,8,12)\r\n",
        "masa"
      ],
      "execution_count": null,
      "outputs": [
        {
          "output_type": "execute_result",
          "data": {
            "text/plain": [
              "6331.898909056074"
            ]
          },
          "metadata": {
            "tags": []
          },
          "execution_count": 19
        }
      ]
    },
    {
      "cell_type": "code",
      "metadata": {
        "colab": {
          "base_uri": "https://localhost:8080/",
          "height": 295
        },
        "id": "0qpcgJ3CXMDq",
        "outputId": "847e3d7c-c7be-46fa-a6a9-d60d7705a2b9"
      },
      "source": [
        "grafica_integral(f,2,8,4,2,['Masa transportada por una tuberia','tiempo','Q(t)c(t)']);"
      ],
      "execution_count": null,
      "outputs": [
        {
          "output_type": "display_data",
          "data": {
            "image/png": "[encoded data removed]",
            "text/plain": [
              "<Figure size 432x288 with 1 Axes>"
            ]
          },
          "metadata": {
            "tags": [],
            "needs_background": "light"
          }
        }
      ]
    },
    {
      "cell_type": "code",
      "metadata": {
        "id": "0GQU5m3IU-6s"
      },
      "source": [
        "import matplotlib.pyplot as plt\r\n",
        "from matplotlib.patches import Polygon\r\n",
        "from scipy.interpolate import lagrange\r\n",
        "from numpy import random\r\n",
        "\r\n",
        "def grafica_integral(f,a,b,n,tipo,titulos):\r\n",
        "  x = np.linspace (a, b)\r\n",
        "  y = f(x)\r\n",
        "  fig,ax = plt.subplots ()\r\n",
        "  ax.plot(x, y, 'b', linewidth =1.7)\r\n",
        "  ax.set_ylim(bottom=0)\r\n",
        "\r\n",
        "  ciclo=range(n)\r\n",
        "  h=(b-a)/n\r\n",
        "  if tipo==2:\r\n",
        "    x0,x1,x2=a,a+h,a+2*h\r\n",
        "    ciclo=range(0,n,2)\r\n",
        "  elif tipo==3:\r\n",
        "    x0,x1,x2,x3=a,a+h,a+2*h,a+3*h\r\n",
        "    ciclo=range(0,n,3)\r\n",
        "  ix = np.linspace (a,b,n+1)\r\n",
        "  iy = f(ix)\r\n",
        "  patterns =( '/','x','/','\\\\','O','.','o','*','\\\\','/','-','x','+',' ')\r\n",
        "  colores = ('lightsalmon','orangered','none','purple','aqua','teal','beige','gold')\r\n",
        "  \r\n",
        "  for i in ciclo:\r\n",
        "    if tipo==0:\r\n",
        "      verts = [( ix[i], 0) , (ix[i],iy[i]) ,(ix[i+1] , iy[i]) , (ix[i+1] , 0)]\r\n",
        "    elif tipo==1:\r\n",
        "      verts = [( ix[i], 0) , (ix[i],iy[i]) ,(ix[i+1] , iy[i+1]) , (ix[i+1] , 0)]\r\n",
        "    elif tipo==2:\r\n",
        "      xx=np.array([x0,x1,x2])\r\n",
        "      yy=np.array([f(x0),f(x1),f(x2)])\r\n",
        "      pol=lagrange(xx,yy)\r\n",
        "      ix=np.linspace(x0,x2)\r\n",
        "      iy=pol(ix)\r\n",
        "      verts=[(x0,0),*zip(ix,iy),(x2,0)]\r\n",
        "      x0,x1,x2=x2,x2+h,x2+2*h\r\n",
        "    elif tipo==3:\r\n",
        "      xx=np.array([x0,x1,x2,x3])\r\n",
        "      yy=np.array([f(x0),f(x1),f(x2),f(x3)])\r\n",
        "      pol=lagrange(xx,yy)\r\n",
        "      ix=np.linspace(x0,x3)\r\n",
        "      iy=pol(ix)\r\n",
        "      verts=[(x0,0),*zip(ix,iy),(x3,0)]\r\n",
        "      x0,x1,x2,x3=x3,x3+h,x3+2*h,x3+3*h\r\n",
        "      \r\n",
        "    poly = Polygon(verts , facecolor = random.choice(colores), edgecolor = '0.6',hatch = random.choice(patterns))\r\n",
        "    ax.add_patch( poly )\r\n",
        "      \r\n",
        " \r\n",
        "  plt.title(titulos[0])\r\n",
        "  plt.xlabel(titulos[1])\r\n",
        "  plt.ylabel(titulos[2])\r\n",
        "  return plt"
      ],
      "execution_count": null,
      "outputs": []
    }
  ]
}