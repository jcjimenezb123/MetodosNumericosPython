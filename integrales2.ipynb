{
  "nbformat": 4,
  "nbformat_minor": 0,
  "metadata": {
    "colab": {
      "name": "integrales2.ipynb",
      "provenance": [],
      "collapsed_sections": [],
      "authorship_tag": "ABX9TyMyoWGvxLM8a5KFXEo8KF4/",
      "include_colab_link": true
    },
    "kernelspec": {
      "name": "python3",
      "display_name": "Python 3"
    }
  },
  "cells": [
    {
      "cell_type": "markdown",
      "metadata": {
        "id": "view-in-github",
        "colab_type": "text"
      },
      "source": [
        "<a href=\"https://colab.research.google.com/github/jcjimenezb123/MetodosNumericosPython/blob/master/integrales2.ipynb\" target=\"_parent\"><img src=\"https://colab.research.google.com/assets/colab-badge.svg\" alt=\"Open In Colab\"/></a>"
      ]
    },
    {
      "cell_type": "code",
      "metadata": {
        "id": "6wH0Flxralka"
      },
      "source": [
        "import numpy as np\n",
        "\n",
        "def integrales(f,a,b,n,metodo='trap'):\n",
        "  if n<=0:\n",
        "    raise ValueError(f'n={n} no es valido')\n",
        "  if metodo=='s13' and n%2>0:\n",
        "    raise ValueError(f'n={n} no es par')\n",
        "  if metodo=='s38' and n%3>0:\n",
        "    raise ValueError(f'n={n} no es multiplo de 3')\n",
        "\n",
        "  h=(b-a)/n\n",
        "  x=np.linspace(a,b,n+1)\n",
        "  fx=f(x)\n",
        "  if metodo=='trap':\n",
        "    inte=h/2*(fx[0]+2*sum(fx[1:n])+fx[n])\n",
        "  elif metodo=='s13':\n",
        "    inte=h/3*(fx[0]+4*sum(fx[1:n:2])+2*sum(fx[2:n-1:2])+fx[n])\n",
        "  elif metodo=='s38':\n",
        "    inte=3*h/8*(fx[0]+3*sum(fx[1:n-1:3])+3*sum(fx[2:n:3])+2*sum(fx[3:n-2:3])+fx[n])\n",
        "\n",
        "  return inte"
      ],
      "execution_count": 8,
      "outputs": []
    },
    {
      "cell_type": "code",
      "metadata": {
        "id": "NnsgzoRsalZ6"
      },
      "source": [
        "f=lambda x:(9+4*np.cos(0.4*x)**2)*(5*np.exp(-0.5*x)+2*np.exp(0.15*x))"
      ],
      "execution_count": 9,
      "outputs": []
    },
    {
      "cell_type": "code",
      "metadata": {
        "id": "mecNUErXalIC",
        "outputId": "6563c40c-aa4d-485b-b4fa-b558b1631ea5",
        "colab": {
          "base_uri": "https://localhost:8080/"
        }
      },
      "source": [
        "a=2\n",
        "b=8\n",
        "n=12\n",
        "i=integrales(f,a,b,n,'s13')\n",
        "i"
      ],
      "execution_count": 10,
      "outputs": [
        {
          "output_type": "execute_result",
          "data": {
            "text/plain": [
              "322.34748952044373"
            ]
          },
          "metadata": {},
          "execution_count": 10
        }
      ]
    },
    {
      "cell_type": "markdown",
      "metadata": {
        "id": "IxCtNsoG0sHb"
      },
      "source": [
        "Calcular la integral de los siguientes datos\n",
        "\n",
        "\n",
        "$$\n",
        "\\begin{array}{c|c|c|c|c|c|c}\n",
        "x&1&2&5&6&7&9\\\\\n",
        "\\hline\n",
        "y&10&4&11&12&15&12\n",
        "\\end{array}\n",
        "$$"
      ]
    },
    {
      "cell_type": "code",
      "metadata": {
        "id": "7mez8nWE0oam"
      },
      "source": [
        "import numpy as np\n",
        "from scipy.integrate import trapz,simps"
      ],
      "execution_count": 11,
      "outputs": []
    },
    {
      "cell_type": "code",
      "metadata": {
        "id": "gLbuUErv1q7s"
      },
      "source": [
        "x=np.array([1,2,5,6,7,9])\n",
        "y=np.array([10,4,11,12,15,12])"
      ],
      "execution_count": 12,
      "outputs": []
    },
    {
      "cell_type": "code",
      "metadata": {
        "id": "9TkHIaH22BJU",
        "outputId": "f3bafee5-e299-49eb-af09-4768dadbc607",
        "colab": {
          "base_uri": "https://localhost:8080/"
        }
      },
      "source": [
        "trapecios=trapz(y,x)\n",
        "simpson=simps(y,x)\n",
        "\n",
        "print(trapecios,simpson)"
      ],
      "execution_count": 14,
      "outputs": [
        {
          "output_type": "stream",
          "name": "stdout",
          "text": [
            "81.5 78.375\n"
          ]
        }
      ]
    },
    {
      "cell_type": "code",
      "metadata": {
        "id": "R1piisSXdG-E",
        "outputId": "1437c61c-9764-4ef0-a190-281c76bd0305",
        "colab": {
          "base_uri": "https://localhost:8080/"
        }
      },
      "source": [
        "from scipy.integrate import quad\n",
        "\n",
        "f=lambda x:np.exp(x)*np.sin(x)/(1+x**2)\n",
        "quad(f,0,3)"
      ],
      "execution_count": 15,
      "outputs": [
        {
          "output_type": "execute_result",
          "data": {
            "text/plain": [
              "(2.881637273055187, 1.0168452249154393e-08)"
            ]
          },
          "metadata": {},
          "execution_count": 15
        }
      ]
    },
    {
      "cell_type": "markdown",
      "metadata": {
        "id": "_7q_6-c636a9"
      },
      "source": [
        "calcular la siguiente integral impropia\n",
        "\n",
        "$$\n",
        "\\int_0^{\\infty}\\frac{e^{-x}}{\\sqrt{x}}dx\n",
        "$$"
      ]
    },
    {
      "cell_type": "code",
      "metadata": {
        "id": "oYwww-NT2c53"
      },
      "source": [
        "from scipy.integrate import quad"
      ],
      "execution_count": null,
      "outputs": []
    },
    {
      "cell_type": "code",
      "metadata": {
        "id": "LzKUsUUF5h1e"
      },
      "source": [
        "def f(x):\n",
        "  return np.exp(-x)/np.sqrt(x)"
      ],
      "execution_count": null,
      "outputs": []
    },
    {
      "cell_type": "code",
      "metadata": {
        "colab": {
          "base_uri": "https://localhost:8080/"
        },
        "id": "HRglS6xB5vFk",
        "outputId": "acdf826e-787b-4ff2-fd73-bb7a6e67ca00"
      },
      "source": [
        "integral=quad(f,0,np.Infinity)\n",
        "integral"
      ],
      "execution_count": null,
      "outputs": [
        {
          "output_type": "execute_result",
          "data": {
            "text/plain": [
              "(1.7724538509051053, 9.585621185692617e-11)"
            ]
          },
          "metadata": {
            "tags": []
          },
          "execution_count": 7
        }
      ]
    },
    {
      "cell_type": "markdown",
      "metadata": {
        "id": "QkoCNqfb6Wqj"
      },
      "source": [
        "Calcular la siguiente integral\n",
        "\n",
        "$$\n",
        "\\int_{-\\infty}^{\\infty}\\frac{1}{1+x^2}dx\n",
        "$$"
      ]
    },
    {
      "cell_type": "code",
      "metadata": {
        "id": "R4isn7Nm5_6a"
      },
      "source": [
        "def f(x):\n",
        "  return 1/(1+x**2)"
      ],
      "execution_count": null,
      "outputs": []
    },
    {
      "cell_type": "code",
      "metadata": {
        "colab": {
          "base_uri": "https://localhost:8080/"
        },
        "id": "iGooYJNH8J0w",
        "outputId": "e4960c28-51ee-4dbb-ce66-3aaf6446237b"
      },
      "source": [
        "integral=quad(f,-np.Infinity,np.Infinity)\n",
        "integral"
      ],
      "execution_count": null,
      "outputs": [
        {
          "output_type": "execute_result",
          "data": {
            "text/plain": [
              "(3.141592653589793, 5.155583041103855e-10)"
            ]
          },
          "metadata": {
            "tags": []
          },
          "execution_count": 9
        }
      ]
    },
    {
      "cell_type": "markdown",
      "metadata": {
        "id": "g9gJQeeD93pX"
      },
      "source": [
        "calcular la integral de\n",
        "\n",
        "$$\n",
        "\\int_0^1\\frac{1}{\\sqrt{x}}dx\n",
        "$$"
      ]
    },
    {
      "cell_type": "code",
      "metadata": {
        "id": "rPe00vSc8Sz4"
      },
      "source": [
        "def f(x):\n",
        "  return 1/np.sqrt(x)"
      ],
      "execution_count": null,
      "outputs": []
    },
    {
      "cell_type": "code",
      "metadata": {
        "colab": {
          "base_uri": "https://localhost:8080/"
        },
        "id": "hzPIPRnO-Rvi",
        "outputId": "6b50c87b-1dd2-493c-9e60-3fd063e19fe1"
      },
      "source": [
        "integral=quad(f,0,1)\n",
        "integral"
      ],
      "execution_count": null,
      "outputs": [
        {
          "output_type": "execute_result",
          "data": {
            "text/plain": [
              "(1.9999999999999984, 5.773159728050814e-15)"
            ]
          },
          "metadata": {
            "tags": []
          },
          "execution_count": 11
        }
      ]
    },
    {
      "cell_type": "markdown",
      "metadata": {
        "id": "ZfFGx5Fob-cR"
      },
      "source": [
        "calcular la siguiente integral doble\n",
        "\n",
        "$$\n",
        "\\int_{x_1=-5}^{x_2=5}\\int_{y_1=-5}^{y_2=5}sin(\\sqrt{x^2+y^2})dydx\n",
        "$$"
      ]
    },
    {
      "cell_type": "code",
      "metadata": {
        "id": "TMk2XQ-r-VzF"
      },
      "source": [
        "import numpy as np\n",
        "def f(y,x):\n",
        "  return np.sin(np.sqrt(x**2+y**2))"
      ],
      "execution_count": 4,
      "outputs": []
    },
    {
      "cell_type": "code",
      "metadata": {
        "id": "rgqZXohxcDme"
      },
      "source": [
        "from scipy.integrate import dblquad"
      ],
      "execution_count": 2,
      "outputs": []
    },
    {
      "cell_type": "code",
      "metadata": {
        "id": "fqu7KpJMcGwi",
        "outputId": "3161ce7d-579d-426c-9c56-130c526601e3",
        "colab": {
          "base_uri": "https://localhost:8080/"
        }
      },
      "source": [
        "x1=-5\n",
        "x2=5\n",
        "y1=-5\n",
        "y2=5\n",
        "integral=dblquad(f,x1,x2,lambda y:y1,lambda y:y2)\n",
        "integral"
      ],
      "execution_count": 5,
      "outputs": [
        {
          "output_type": "execute_result",
          "data": {
            "text/plain": [
              "(-26.768989141374988, 3.6946931091779225e-07)"
            ]
          },
          "metadata": {},
          "execution_count": 5
        }
      ]
    },
    {
      "cell_type": "markdown",
      "metadata": {
        "id": "-YYAoolWcXcC"
      },
      "source": [
        "Obtener la integral triple de \n",
        "\n",
        "$$\n",
        "\\int_{z_1=0}^{z_2=1}\\int_{y_1=0}^{y_2=1}\\int_{x_1=0}^{x_2=2}x^2e^{-x^2}e^{-0.5yz/x}dxdydz\n",
        "$$"
      ]
    },
    {
      "cell_type": "code",
      "metadata": {
        "id": "pqnCnBQ5cJxy"
      },
      "source": [
        "def f(x,y,z):\n",
        "  return x**2*np.exp(-x**2)*np.exp(-0.5*y*z/x)"
      ],
      "execution_count": 6,
      "outputs": []
    },
    {
      "cell_type": "code",
      "metadata": {
        "id": "LVw4csuqcbDq",
        "outputId": "fd211a8b-cf18-42fc-bab7-3d739c4ed704",
        "colab": {
          "base_uri": "https://localhost:8080/"
        }
      },
      "source": [
        "from scipy.integrate import tplquad\n",
        "x1=0\n",
        "x2=2\n",
        "y1=lambda x:0\n",
        "y2=lambda x:1\n",
        "z1=lambda x,y:0\n",
        "z2=lambda x,y,:1\n",
        "\n",
        "integral=tplquad(f,x1,x2,y1,y2,z1,z2)\n",
        "integral"
      ],
      "execution_count": 7,
      "outputs": [
        {
          "output_type": "execute_result",
          "data": {
            "text/plain": [
              "(0.2705334762387924, 1.476845442481828e-08)"
            ]
          },
          "metadata": {},
          "execution_count": 7
        }
      ]
    }
  ]
}