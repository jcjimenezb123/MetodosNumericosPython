{
  "nbformat": 4,
  "nbformat_minor": 0,
  "metadata": {
    "colab": {
      "name": "integrales2.ipynb",
      "provenance": [],
      "collapsed_sections": [],
      "authorship_tag": "ABX9TyNlLkgyEtxNSk1EFuMqUlQ7",
      "include_colab_link": true
    },
    "kernelspec": {
      "name": "python3",
      "display_name": "Python 3"
    }
  },
  "cells": [
    {
      "cell_type": "markdown",
      "metadata": {
        "id": "view-in-github",
        "colab_type": "text"
      },
      "source": [
        "<a href=\"https://colab.research.google.com/github/jcjimenezb123/MetodosNumericosPython/blob/master/integrales2.ipynb\" target=\"_parent\"><img src=\"https://colab.research.google.com/assets/colab-badge.svg\" alt=\"Open In Colab\"/></a>"
      ]
    },
    {
      "cell_type": "markdown",
      "metadata": {
        "id": "IxCtNsoG0sHb"
      },
      "source": [
        "Calcular la integral de los siguientes datos\r\n",
        "\r\n",
        "\r\n",
        "$$\r\n",
        "\\begin{array}{c|c|c|c|c|c|c}\r\n",
        "x&1&2&5&6&7&9\\\\\r\n",
        "\\hline\r\n",
        "y&10&4&11&12&15&12\r\n",
        "\\end{array}\r\n",
        "$$"
      ]
    },
    {
      "cell_type": "code",
      "metadata": {
        "id": "7mez8nWE0oam"
      },
      "source": [
        "import numpy as np\r\n",
        "from scipy.integrate import trapz,simps"
      ],
      "execution_count": null,
      "outputs": []
    },
    {
      "cell_type": "code",
      "metadata": {
        "id": "gLbuUErv1q7s"
      },
      "source": [
        "x=np.array([1,2,5,6,7,9])\r\n",
        "y=np.array([10,4,11,12,15,12])"
      ],
      "execution_count": null,
      "outputs": []
    },
    {
      "cell_type": "code",
      "metadata": {
        "id": "9TkHIaH22BJU"
      },
      "source": [
        "trapecios=trapz(y,x)\r\n",
        "simpson=simps(y,x)"
      ],
      "execution_count": null,
      "outputs": []
    },
    {
      "cell_type": "code",
      "metadata": {
        "colab": {
          "base_uri": "https://localhost:8080/"
        },
        "id": "LSuGeCCX2Zd2",
        "outputId": "3af35297-bb39-4e71-b862-1577717a44a9"
      },
      "source": [
        "print(trapecios,simpson)"
      ],
      "execution_count": null,
      "outputs": [
        {
          "output_type": "stream",
          "text": [
            "81.5 78.375\n"
          ],
          "name": "stdout"
        }
      ]
    },
    {
      "cell_type": "markdown",
      "metadata": {
        "id": "_7q_6-c636a9"
      },
      "source": [
        "calcular la siguiente integral impropia\r\n",
        "\r\n",
        "$$\r\n",
        "\\int_0^{\\infty}\\frac{e^{-x}}{\\sqrt{x}}dx\r\n",
        "$$"
      ]
    },
    {
      "cell_type": "code",
      "metadata": {
        "id": "oYwww-NT2c53"
      },
      "source": [
        "from scipy.integrate import quad"
      ],
      "execution_count": null,
      "outputs": []
    },
    {
      "cell_type": "code",
      "metadata": {
        "id": "LzKUsUUF5h1e"
      },
      "source": [
        "def f(x):\r\n",
        "  return np.exp(-x)/np.sqrt(x)"
      ],
      "execution_count": null,
      "outputs": []
    },
    {
      "cell_type": "code",
      "metadata": {
        "colab": {
          "base_uri": "https://localhost:8080/"
        },
        "id": "HRglS6xB5vFk",
        "outputId": "acdf826e-787b-4ff2-fd73-bb7a6e67ca00"
      },
      "source": [
        "integral=quad(f,0,np.Infinity)\r\n",
        "integral"
      ],
      "execution_count": null,
      "outputs": [
        {
          "output_type": "execute_result",
          "data": {
            "text/plain": [
              "(1.7724538509051053, 9.585621185692617e-11)"
            ]
          },
          "metadata": {
            "tags": []
          },
          "execution_count": 7
        }
      ]
    },
    {
      "cell_type": "markdown",
      "metadata": {
        "id": "QkoCNqfb6Wqj"
      },
      "source": [
        "Calcular la siguiente integral\r\n",
        "\r\n",
        "$$\r\n",
        "\\int_{-\\infty}^{\\infty}\\frac{1}{1+x^2}dx\r\n",
        "$$"
      ]
    },
    {
      "cell_type": "code",
      "metadata": {
        "id": "R4isn7Nm5_6a"
      },
      "source": [
        "def f(x):\r\n",
        "  return 1/(1+x**2)"
      ],
      "execution_count": null,
      "outputs": []
    },
    {
      "cell_type": "code",
      "metadata": {
        "colab": {
          "base_uri": "https://localhost:8080/"
        },
        "id": "iGooYJNH8J0w",
        "outputId": "e4960c28-51ee-4dbb-ce66-3aaf6446237b"
      },
      "source": [
        "integral=quad(f,-np.Infinity,np.Infinity)\r\n",
        "integral"
      ],
      "execution_count": null,
      "outputs": [
        {
          "output_type": "execute_result",
          "data": {
            "text/plain": [
              "(3.141592653589793, 5.155583041103855e-10)"
            ]
          },
          "metadata": {
            "tags": []
          },
          "execution_count": 9
        }
      ]
    },
    {
      "cell_type": "markdown",
      "metadata": {
        "id": "g9gJQeeD93pX"
      },
      "source": [
        "calcular la integral de\r\n",
        "\r\n",
        "$$\r\n",
        "\\int_0^1\\frac{1}{\\sqrt{x}}dx\r\n",
        "$$"
      ]
    },
    {
      "cell_type": "code",
      "metadata": {
        "id": "rPe00vSc8Sz4"
      },
      "source": [
        "def f(x):\r\n",
        "  return 1/np.sqrt(x)"
      ],
      "execution_count": null,
      "outputs": []
    },
    {
      "cell_type": "code",
      "metadata": {
        "colab": {
          "base_uri": "https://localhost:8080/"
        },
        "id": "hzPIPRnO-Rvi",
        "outputId": "6b50c87b-1dd2-493c-9e60-3fd063e19fe1"
      },
      "source": [
        "integral=quad(f,0,1)\r\n",
        "integral"
      ],
      "execution_count": null,
      "outputs": [
        {
          "output_type": "execute_result",
          "data": {
            "text/plain": [
              "(1.9999999999999984, 5.773159728050814e-15)"
            ]
          },
          "metadata": {
            "tags": []
          },
          "execution_count": 11
        }
      ]
    },
    {
      "cell_type": "code",
      "metadata": {
        "id": "TMk2XQ-r-VzF"
      },
      "source": [
        ""
      ],
      "execution_count": null,
      "outputs": []
    }
  ]
}