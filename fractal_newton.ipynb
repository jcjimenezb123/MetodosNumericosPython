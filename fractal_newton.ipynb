{
  "nbformat": 4,
  "nbformat_minor": 0,
  "metadata": {
    "colab": {
      "provenance": [],
      "authorship_tag": "ABX9TyNzqX4X+Fb5Vp2ZbkG3AzUs",
      "include_colab_link": true
    },
    "kernelspec": {
      "name": "python3",
      "display_name": "Python 3"
    },
    "language_info": {
      "name": "python"
    }
  },
  "cells": [
    {
      "cell_type": "markdown",
      "metadata": {
        "id": "view-in-github",
        "colab_type": "text"
      },
      "source": [
        "<a href=\"https://colab.research.google.com/github/jcjimenezb123/MetodosNumericosPython/blob/master/fractal_newton.ipynb\" target=\"_parent\"><img src=\"https://colab.research.google.com/assets/colab-badge.svg\" alt=\"Open In Colab\"/></a>"
      ]
    },
    {
      "cell_type": "markdown",
      "source": [
        "El método de Newton-Raphson es un método abierto para resolver ecuaciones no lineales. Resolver se entiende como encontrar los valores de x donde la función f(x) es cero\n",
        "$$\n",
        "f(x)=0\n",
        "$$\n",
        "El valor particular de x donde la función es cero se conoce como raíz.\n",
        "\n",
        "El método de Newton-Raphson se deriva de la serie de Taylor, donde se aproxima una función por medio de la serie y esa serie se iguala a cero, para encontrar la aproximación a la raíz se despeja de la serie truncada de primer orden\n",
        "\n",
        "$$\n",
        "0=f(x)=f(x_0)+f'(x_0)(x-x_0)+...\n",
        "$$\n",
        "\n",
        "Donde $x_0$ es un valor inicial con la que se hace la primer aproximación y $f'(x)$ es la derivada de $f(x)$.\n",
        "El programa es sencillo:"
      ],
      "metadata": {
        "id": "_4EX3kS8iLaA"
      }
    },
    {
      "cell_type": "code",
      "execution_count": 2,
      "metadata": {
        "id": "wTEZSlTOgaYg"
      },
      "outputs": [],
      "source": [
        "def nr(f,df,x0,maxit=100,tol=1e-6):\n",
        "  k=0 #valor inicial de iteraciones\n",
        "  x=x0 \n",
        "  while k<maxit:#mientras las iteraciones sean menor a la maxima\n",
        "    x = x - f(x)/df(x) #aplica el metodo de Newton\n",
        "    k = k + 1 #incrementa la iteracion\n",
        "    if abs(f(x))<tol: #verifica el criterio de convergencia\n",
        "        return x, #<---------- retorna la raiz y las iteraciones\n",
        "  return x, #<---------- retorna la raiz y las iteraciones"
      ]
    },
    {
      "cell_type": "markdown",
      "source": [
        "Donde *maxit* es el número máximo de iteraciones en el ciclo, *k* es el contador de iteraciones, *tol* es el valor máximo que puede tener la función para aceptarse como la raíz de $f(x)$. Ambos valores son arbitrarios y se dan de acuerdo al problema que se quiere resolver.\n",
        "\n",
        "Por ejemplo, si se quiere saber la raíz de la siguiente función\n",
        "\n",
        "$$\n",
        "f(x)=x^2-2\n",
        "$$\n",
        "\n",
        "obtenemos su derivada que es\n",
        "\n",
        "$$\n",
        "f'(x)=2x\n",
        "$$\n",
        "\n",
        "Podemos dar un valor inicial por ejemplo $x_0=1$, un valor máximo de iteraciones $= 100$ y una tolerancia $= 1e-5$. \n",
        "\n",
        "Ejecutamos el programa de Newton-Raphson para encontrar la raíz"
      ],
      "metadata": {
        "id": "9vz7c5UOi4gU"
      }
    },
    {
      "cell_type": "code",
      "source": [
        "f  = lambda x: #<---- defina la funcion\n",
        "df = lambda x: #<---- defina su derivada\n",
        "x0       = #valor inicial\n",
        "niter    = #numero maximo de iteraciones\n",
        "tol      = #tolerancia\n",
        "\n",
        "raiz,k=nr(f,df,x0,niter,tol) #se llama el metodo y devuelve la raiz y las iteraciones\n",
        "print(raiz,) #<---- mostrar la raiz encontrada y el numero de iteraciones"
      ],
      "metadata": {
        "colab": {
          "base_uri": "https://localhost:8080/"
        },
        "id": "esFbjm9ChMaD",
        "outputId": "929fc9a6-c326-4c3a-b3f7-9c99344903e2"
      },
      "execution_count": 14,
      "outputs": [
        {
          "output_type": "stream",
          "name": "stdout",
          "text": [
            "1.4142156862745099 3\n"
          ]
        }
      ]
    },
    {
      "cell_type": "markdown",
      "source": [
        "El resultado es raiz$=1.4142$ en $3$ iteraciones. Si cambiamos el valor inicial por ejemplo $x_0=0.5$ obtenemos"
      ],
      "metadata": {
        "id": "bCJ6a1fXjrRz"
      }
    },
    {
      "cell_type": "code",
      "source": [
        "x0       = #<---- cambie el valor inicial\n",
        "\n",
        "raiz,k=nr(f,df,x0,niter,tol)\n",
        "print(raiz,k)"
      ],
      "metadata": {
        "colab": {
          "base_uri": "https://localhost:8080/"
        },
        "id": "EKdsJaxCh2li",
        "outputId": "e1690b7a-5982-4b3a-d05f-edcfe4e07b13"
      },
      "execution_count": 4,
      "outputs": [
        {
          "output_type": "stream",
          "name": "stdout",
          "text": [
            "1.4142135625249321 5\n"
          ]
        }
      ]
    },
    {
      "cell_type": "markdown",
      "source": [
        "Observamos que llegamos al mismo resultado de la raíz pero con $5$ iteraciones, ahora probemos con otro valor de $x_0=0.1$"
      ],
      "metadata": {
        "id": "kZPOKPUbj1Eo"
      }
    },
    {
      "cell_type": "code",
      "source": [
        "x0       = #<----- cambie el valor inicial\n",
        "\n",
        "raiz,k=nr(f,df,x0,niter,tol)\n",
        "print(raiz,k)"
      ],
      "metadata": {
        "colab": {
          "base_uri": "https://localhost:8080/"
        },
        "id": "x3Ua91Z5j8NX",
        "outputId": "64fb2e3e-1dc7-4495-d2de-f5aac8d0d5b0"
      },
      "execution_count": 5,
      "outputs": [
        {
          "output_type": "stream",
          "name": "stdout",
          "text": [
            "1.4142136001158032 7\n"
          ]
        }
      ]
    },
    {
      "cell_type": "markdown",
      "source": [
        "Sigue obteniendo el resultado pero ahora en $7$ iteraciones, hagamos otra prueba, ahora con $x_0=0.001$"
      ],
      "metadata": {
        "id": "a5eF-hjQkBSm"
      }
    },
    {
      "cell_type": "code",
      "source": [
        "x0       = #<---- cambie el valor inicial\n",
        "\n",
        "raiz,k=nr(f,df,x0,niter,tol)\n",
        "print(raiz,k)"
      ],
      "metadata": {
        "colab": {
          "base_uri": "https://localhost:8080/"
        },
        "id": "cP4eMi2qkAuS",
        "outputId": "a218a113-f2f9-4203-e8ef-e941a4960162"
      },
      "execution_count": 6,
      "outputs": [
        {
          "output_type": "stream",
          "name": "stdout",
          "text": [
            "1.4142135626178514 14\n"
          ]
        }
      ]
    },
    {
      "cell_type": "markdown",
      "source": [
        "Observamos que igualmente llega al resultado pero ahora le toma $14$ iteraciones, notamos que si el valor inicial se acerca a 0 entonces le toma más iteraciones llegar a la raíz, note que no es posible que $x_0=0$ porque la derivada es cero y el valor de x se indetermina y no es posible obtener la raíz."
      ],
      "metadata": {
        "id": "1FYppOh6kQUF"
      }
    },
    {
      "cell_type": "code",
      "source": [
        "x0       = #<---- cambie el valor inicial\n",
        "\n",
        "raiz,k=nr(f,df,x0,niter,tol)\n",
        "print(raiz,k)"
      ],
      "metadata": {
        "colab": {
          "base_uri": "https://localhost:8080/"
        },
        "id": "Gq6kPDrZkUZF",
        "outputId": "280979a3-d0d2-401e-88d0-450340712212"
      },
      "execution_count": 13,
      "outputs": [
        {
          "output_type": "stream",
          "name": "stdout",
          "text": [
            "1.4142135623974939 54\n"
          ]
        }
      ]
    },
    {
      "cell_type": "markdown",
      "source": [
        "Podemos pensar que existen valores de $x_0$ donde es más fácil encontrar la raíz y existen otros donde encontrar la raíz es un poco más tardado o puede divergir.\n",
        "\n",
        "Seamos un poco curiosos y aberigüemos qué comportamiento tiene el método de Newton-Raphson para otros valores iniciales. Si hacemos un proceso donde cambiemos el valor inicial de $x_0$ en el intervalo $[-2, 2]$ y obtenemos el número de iteraciones $k$ que le toma llegar a la raíz en cada caso y grafiquemos esos resultados para observar el comportamiento"
      ],
      "metadata": {
        "id": "tqlYp343lCrT"
      }
    },
    {
      "cell_type": "code",
      "source": [
        "import numpy as np\n",
        "import matplotlib.pyplot as plt\n",
        "\n",
        "n=100\n",
        "rangox=[, ] #<---- asigne los valores del intervalo\n",
        "xs=np.linspace(rangox[0],rangox[1],n)\n",
        "ks=np.zeros(n)\n",
        "xr=np.zeros(n)\n",
        "for j in range(n):\n",
        "    x0=xs[j]\n",
        "    xr[j],ks[j]=nr(f,df,x0,niter,tol)\n",
        "\n",
        "plt.plot(xs,ks,xs,xr)\n",
        "plt.title('Newton-Raphson para f(x)=x^2-2')\n",
        "plt.xlabel('x inicial')\n",
        "plt.ylabel('iteraciones')\n",
        "plt.grid()\n"
      ],
      "metadata": {
        "id": "DZXFSVZtlJ6q"
      },
      "execution_count": null,
      "outputs": []
    },
    {
      "cell_type": "markdown",
      "source": [
        "Observamos dos mínimos cercanos a $-1.4142$ y $1.4142$, esto nos indica que se requieren menos iteraciones en valores cercanos a estos puntos.\n",
        "Será el mismo comportamiento para otras funciones?\n",
        "\n",
        "Cambiemos ahora la función a:\n",
        "\n",
        "$$\n",
        "f(x)=x^3-1\n",
        "$$\n",
        "$$\n",
        "f'(x)=3x^2\n",
        "$$"
      ],
      "metadata": {
        "id": "kE7ds4LinVD4"
      }
    },
    {
      "cell_type": "code",
      "source": [
        "f  = lambda #<----- defina la funcion\n",
        "df = lambda #<----- defina su derivada\n",
        "niter = 50\n",
        "tol = 1e-5\n",
        "import numpy as np\n",
        "import matplotlib.pyplot as plt\n",
        "\n",
        "n=100\n",
        "rangox=[-2, 2]\n",
        "xs=np.linspace(rangox[0],rangox[1],n)\n",
        "ks=np.zeros(n)\n",
        "xr=np.zeros(n)\n",
        "for j in range(n):\n",
        "    x0=xs[j]\n",
        "    xr[j],ks[j]=nr(f,df,x0,niter,tol)\n",
        "\n",
        "plt.plot(xs,ks,xs,xr)\n",
        "plt.title('Newton-Raphson para f(x)=x^3-1')\n",
        "plt.xlabel('x inicial')\n",
        "plt.ylabel('iteraciones')\n",
        "plt.grid()"
      ],
      "metadata": {
        "id": "LYMz_nddn5D6"
      },
      "execution_count": null,
      "outputs": []
    },
    {
      "cell_type": "markdown",
      "source": [
        "A diferencia de la función cuadrática anterior, ésta función cúbica tiene 3 raíces, una es real y las otras dos son complejas. El método de Newton-Raphson es capaz de encontrar raíces complejas, solo que el valor inicial $x_0$ debe ser un valor complejo. Entonces vamos a crear un valor complejo variariando tanto el valor real como el imaginario para crear un *lienzo* con los ejes **real-imaginario**"
      ],
      "metadata": {
        "id": "UNQ2fQUSoZMF"
      }
    },
    {
      "cell_type": "markdown",
      "source": [
        "Para poder graficar tanto el valor real como el imaginario y además el número de iteraciones, tendremos que usar una gráfica en tres dimensiones donde el plano x-y es el valor complejo y el eje z son las iteraciones."
      ],
      "metadata": {
        "id": "8JWXHWcXph-T"
      }
    },
    {
      "cell_type": "code",
      "source": [
        "import numpy as np\n",
        "import cmath\n",
        "import matplotlib.pyplot as plt\n",
        "from mpl_toolkits import mplot3d\n",
        "\n",
        "n=60\n",
        "lienzo = np.zeros((n,n))\n",
        "rangox=[-2, 2]\n",
        "rangoy=[-2, 2]\n",
        "xs=np.linspace(rangox[0],rangox[1],n) #valores reales\n",
        "ys=np.linspace(rangoy[0],rangoy[1],n) #valores imaginarios\n",
        "[x, y] = np.meshgrid(xs, ys) #combinaciones de cada valor\n",
        "\n",
        "ks=np.zeros(n)\n",
        "for i in range(n):\n",
        "  for j in range(n):\n",
        "    x0=complex(x[i,j],y[i,j]) #se crea el valor complejo\n",
        "    [xr,ks]=nr(f,df,x0)\n",
        "    lienzo[i,j]=  #<--- crea el lienzo para cada nodo coloca el numero de iteraciones\n",
        "\n",
        "fig = plt.figure()\n",
        "ax = plt.axes(projection='3d')\n",
        "\n",
        "ax.plot_surface(x, y, lienzo,cmap='viridis', edgecolor='none')\n",
        "ax.set_title('Newton-Raphon f(x)=x^3-1')\n",
        "ax.set_xlabel('Parte real')\n",
        "ax.set_ylabel('Parte imaginaria')\n",
        "ax.set_zlabel('Iteraciones')\n",
        "plt.show()"
      ],
      "metadata": {
        "id": "zRo03F4KpjIS"
      },
      "execution_count": null,
      "outputs": []
    },
    {
      "cell_type": "markdown",
      "source": [
        "Observamos zonas de rapida convergencia son las más bajas y zonas de lenta convergencia que son las más altas. Ahora cambiemos la representación gráfica y en lugar que sea una gráfica en tres dimensiones la vamos a crear en 2 dimensiones donde x es la parte real, y es la parte imaginaria y el número de iteraciones es el color del punto"
      ],
      "metadata": {
        "id": "UAS947EFa2K-"
      }
    },
    {
      "cell_type": "code",
      "source": [
        "import numpy as np\n",
        "import cmath\n",
        "import matplotlib.pyplot as plt\n",
        "\n",
        "n=900\n",
        "lienzo = np.zeros((n,n))\n",
        "rangox=[-2, 2]\n",
        "rangoy=[-2, 2]\n",
        "xs=np.linspace(rangox[0],rangox[1],n) #valores reales\n",
        "ys=np.linspace(rangoy[0],rangoy[1],n) #valores imaginarios\n",
        "[x, y] = np.meshgrid(xs, ys) #combinaciones de cada valor\n",
        "\n",
        "ks=np.zeros(n)\n",
        "for i in range(n):\n",
        "  for j in range(n):\n",
        "    x0=complex(x[i,j],y[i,j]) #se crea el valor complejo\n",
        "    [xr,ks]=nr(f,df,x0)\n",
        "    lienzo[i,j]=ks\n",
        "\n",
        "fig,ax=plt.subplots(1,1)\n",
        "cp = ax.contourf(x, y, ) #<---- graficar el lienzo\n",
        "\n",
        "plt.show()"
      ],
      "metadata": {
        "id": "r3NxvxuOPg8U"
      },
      "execution_count": null,
      "outputs": []
    },
    {
      "cell_type": "markdown",
      "source": [
        "A éste gráfico se le conoce como el Fractal de Newton-Raphson. Probemos ahora con la siguiente función"
      ],
      "metadata": {
        "id": "4if6MVJib7Av"
      }
    },
    {
      "cell_type": "code",
      "source": [
        "import numpy as np\n",
        "import cmath\n",
        "\n",
        "n=1000\n",
        "lienzo = np.zeros((n,n))\n",
        "rangox=[-2, 2]\n",
        "rangoy=[-2, 2]\n",
        "xs=np.linspace(rangox[0],rangox[1],n) #valores reales\n",
        "ys=np.linspace(rangoy[0],rangoy[1],n) #valores imaginarios\n",
        "[x, y] = np.meshgrid(xs, ys) #combinaciones de cada valor\n",
        "\n",
        "from PIL import Image\n",
        "image = Image.new(mode='L', size=(n, n))\n",
        "\n",
        "for i in range(n):\n",
        "  for j in range(n):\n",
        "    x0=complex(x[i,j],y[i,j]) #se crea el valor complejo\n",
        "    [xr,ks]=nr(f,df,x0)\n",
        "    image.putpixel((i, j), *15) #<---- dibujar el lienzo\n",
        "\n",
        "image.show()"
      ],
      "metadata": {
        "id": "ZzUwzLnxZQ1m"
      },
      "execution_count": null,
      "outputs": []
    },
    {
      "cell_type": "code",
      "source": [
        "import numpy as np\n",
        "import cmath\n",
        "\n",
        "n=1000\n",
        "lienzo = np.zeros((n,n))\n",
        "rangox=[-2, 2]\n",
        "rangoy=[-2, 2]\n",
        "xs=np.linspace(rangox[0],rangox[1],n) #valores reales\n",
        "ys=np.linspace(rangoy[0],rangoy[1],n) #valores imaginarios\n",
        "[x, y] = np.meshgrid(xs, ys) #combinaciones de cada valor\n",
        "\n",
        "from PIL import Image\n",
        "image = Image.new(mode='RGB', size=(n, n))\n",
        "\n",
        "f = lambda x:x**6+x**3-1\n",
        "df = lambda x:6*x**5+3*x**2\n",
        "\n",
        "for i in range(n):\n",
        "  for j in range(n):\n",
        "    x0=complex(x[i,j],y[i,j]) #se crea el valor complejo\n",
        "    [xr,ks]=nr(f,df,x0)\n",
        "    image.putpixel((i, j), *25555) #<---- colocar el numero de iteraciones\n",
        "\n",
        "image.show()"
      ],
      "metadata": {
        "id": "GzY5_nauRqyK"
      },
      "execution_count": null,
      "outputs": []
    }
  ]
}