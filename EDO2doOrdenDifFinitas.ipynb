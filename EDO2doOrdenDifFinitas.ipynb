{
  "nbformat": 4,
  "nbformat_minor": 0,
  "metadata": {
    "colab": {
      "name": "EDO2doOrdenDifFinitas.ipynb",
      "provenance": [],
      "collapsed_sections": [],
      "authorship_tag": "ABX9TyOCI/jVzlv4qdF1bS+d8dus",
      "include_colab_link": true
    },
    "kernelspec": {
      "name": "python3",
      "display_name": "Python 3"
    }
  },
  "cells": [
    {
      "cell_type": "markdown",
      "metadata": {
        "id": "view-in-github",
        "colab_type": "text"
      },
      "source": [
        "<a href=\"https://colab.research.google.com/github/jcjimenezb123/MetodosNumericosPython/blob/master/EDO2doOrdenDifFinitas.ipynb\" target=\"_parent\"><img src=\"https://colab.research.google.com/assets/colab-badge.svg\" alt=\"Open In Colab\"/></a>"
      ]
    },
    {
      "cell_type": "code",
      "metadata": {
        "id": "8PZk1Nt0wrPY"
      },
      "source": [
        "import numpy as np\r\n",
        "import matplotlib.pyplot as plt"
      ],
      "execution_count": null,
      "outputs": []
    },
    {
      "cell_type": "code",
      "metadata": {
        "id": "D-ReNRJZw0D2"
      },
      "source": [
        "Tx0=50 #temperatura del extremo izquierdo x0\r\n",
        "Txn=200 #temperatura del extremo derecho xn\r\n",
        "Ta=25 #temperatura ambiente\r\n",
        "alfa=0.02 #factor de dispersion de calor\r\n",
        "L=10 #longitud de la barra\r\n",
        "n=21 #numero de nodos incluyendo el nodo inicial\r\n",
        "h=L/(n-1) #tamano del incrmento"
      ],
      "execution_count": null,
      "outputs": []
    },
    {
      "cell_type": "code",
      "metadata": {
        "colab": {
          "base_uri": "https://localhost:8080/"
        },
        "id": "UknW2Vmtx4wa",
        "outputId": "5b6ee632-f092-415e-832b-57b284c52503"
      },
      "source": [
        "barra=np.linspace(0,L,n) #longitud de la barra con n nodos\r\n",
        "barra"
      ],
      "execution_count": null,
      "outputs": [
        {
          "output_type": "execute_result",
          "data": {
            "text/plain": [
              "array([ 0. ,  0.5,  1. ,  1.5,  2. ,  2.5,  3. ,  3.5,  4. ,  4.5,  5. ,\n",
              "        5.5,  6. ,  6.5,  7. ,  7.5,  8. ,  8.5,  9. ,  9.5, 10. ])"
            ]
          },
          "metadata": {
            "tags": []
          },
          "execution_count": 20
        }
      ]
    },
    {
      "cell_type": "code",
      "metadata": {
        "id": "BLlGmj6-yRRt"
      },
      "source": [
        "A=np.zeros((n-2,n-2))\r\n",
        "b=np.zeros(n-2)\r\n",
        "for i in range(n-2):\r\n",
        "  if i==0: #primer renglon de la matriz A y del vector b\r\n",
        "    A[i,i]=alfa+2/h**2\r\n",
        "    A[i,i+1]=-1/h**2\r\n",
        "    b[i]=Tx0/h**2+alfa*Ta\r\n",
        "  elif i==n-3: #ultimo renglon de la matriz A y del vector b\r\n",
        "    A[i,i]=alfa+2/h**2\r\n",
        "    A[i,i-1]=-1/h**2\r\n",
        "    b[i]=Txn/h**2+alfa*Ta\r\n",
        "  else: #renglones intermedios\r\n",
        "    A[i,i-1]=-1/h**2\r\n",
        "    A[i,i]=alfa+2/h**2\r\n",
        "    A[i,i+1]=-1/h**2\r\n",
        "    b[i]=alfa*Ta\r\n"
      ],
      "execution_count": null,
      "outputs": []
    },
    {
      "cell_type": "code",
      "metadata": {
        "colab": {
          "base_uri": "https://localhost:8080/"
        },
        "id": "3p3xeKfezIb3",
        "outputId": "836b5e6a-ce6f-46d8-c723-538ed1a06f5f"
      },
      "source": [
        "Txi=np.linalg.solve(A,b)\r\n",
        "Txi"
      ],
      "execution_count": null,
      "outputs": [
        {
          "output_type": "execute_result",
          "data": {
            "text/plain": [
              "array([ 54.4721716 ,  59.09170406,  63.88169503,  68.86609449,\n",
              "        74.06982441,  79.51890346,  85.24057702,  91.26345347,\n",
              "        97.61764719, 104.33492914, 111.44888574, 118.99508676,\n",
              "       127.01126322, 135.537496  , 144.61641626, 154.2934186 ,\n",
              "       164.61688803, 175.6384419 , 187.41318798])"
            ]
          },
          "metadata": {
            "tags": []
          },
          "execution_count": 22
        }
      ]
    },
    {
      "cell_type": "code",
      "metadata": {
        "colab": {
          "base_uri": "https://localhost:8080/"
        },
        "id": "u4UYuo_72gBH",
        "outputId": "3183bccd-d0de-428d-f1c8-c0eca04c1ac5"
      },
      "source": [
        "T=np.concatenate(([Tx0],Txi,[Txn]))\r\n",
        "T"
      ],
      "execution_count": null,
      "outputs": [
        {
          "output_type": "execute_result",
          "data": {
            "text/plain": [
              "array([ 50.        ,  54.4721716 ,  59.09170406,  63.88169503,\n",
              "        68.86609449,  74.06982441,  79.51890346,  85.24057702,\n",
              "        91.26345347,  97.61764719, 104.33492914, 111.44888574,\n",
              "       118.99508676, 127.01126322, 135.537496  , 144.61641626,\n",
              "       154.2934186 , 164.61688803, 175.6384419 , 187.41318798,\n",
              "       200.        ])"
            ]
          },
          "metadata": {
            "tags": []
          },
          "execution_count": 23
        }
      ]
    },
    {
      "cell_type": "code",
      "metadata": {
        "colab": {
          "base_uri": "https://localhost:8080/",
          "height": 299
        },
        "id": "AO6DizbY4A6U",
        "outputId": "bcca500c-8575-4eb6-a612-f1c905beca6f"
      },
      "source": [
        "plt.plot(barra,T,'o--')\r\n",
        "plt.xlabel('Longitud de la barra')\r\n",
        "plt.ylabel('Temperatura')\r\n",
        "plt.title('Temperatura de una barra metalica',fontsize=18)\r\n",
        "plt.grid()\r\n",
        "plt.show()"
      ],
      "execution_count": null,
      "outputs": [
        {
          "output_type": "display_data",
          "data": {
            "image/png": "[encoded data removed]",
            "text/plain": [
              "<Figure size 432x288 with 1 Axes>"
            ]
          },
          "metadata": {
            "tags": [],
            "needs_background": "light"
          }
        }
      ]
    },
    {
      "cell_type": "code",
      "metadata": {
        "id": "gyApjvtz4HzS"
      },
      "source": [
        ""
      ],
      "execution_count": null,
      "outputs": []
    }
  ]
}