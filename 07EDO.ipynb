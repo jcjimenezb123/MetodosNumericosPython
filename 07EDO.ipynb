{
  "nbformat": 4,
  "nbformat_minor": 0,
  "metadata": {
    "colab": {
      "provenance": [],
      "authorship_tag": "ABX9TyPSAaOH+vccyIlUqWqpSM/S",
      "include_colab_link": true
    },
    "kernelspec": {
      "name": "python3",
      "display_name": "Python 3"
    },
    "language_info": {
      "name": "python"
    }
  },
  "cells": [
    {
      "cell_type": "markdown",
      "metadata": {
        "id": "view-in-github",
        "colab_type": "text"
      },
      "source": [
        "<a href=\"https://colab.research.google.com/github/jcjimenezb123/MetodosNumericosPython/blob/master/07EDO.ipynb\" target=\"_parent\"><img src=\"https://colab.research.google.com/assets/colab-badge.svg\" alt=\"Open In Colab\"/></a>"
      ]
    },
    {
      "cell_type": "code",
      "metadata": {
        "id": "lmILtMYuCXlS"
      },
      "source": [
        "from scipy.integrate import odeint\n",
        "import numpy as np\n",
        "import plotly.express as px"
      ],
      "execution_count": null,
      "outputs": []
    },
    {
      "cell_type": "code",
      "source": [
        "def f(C,t):\n",
        "  return #<--- ecuacion diferencial\n",
        "\n",
        "tiempo = np.linspace(0,30,10)\n",
        "C0 = #<--- concentracion inicial\n",
        "con = odeint() #<--- parametros, EDO, valor inicial, vector tiempo\n",
        "con"
      ],
      "metadata": {
        "id": "gMduZxgqQpQb"
      },
      "execution_count": null,
      "outputs": []
    },
    {
      "cell_type": "code",
      "source": [
        "px.scatter(x=tiempo,y=con[:,0])"
      ],
      "metadata": {
        "id": "-ET5uDcRNb62"
      },
      "execution_count": null,
      "outputs": []
    },
    {
      "cell_type": "markdown",
      "metadata": {
        "id": "ECFWPCLyZTGi"
      },
      "source": [
        "La tasa de enfriamiento de un cuerpo se expresa como\n",
        "\n",
        "$$\n",
        "\\frac{dT}{dt}=-k(T-T_a)\n",
        "$$\n",
        "\n",
        "donde T es la temperatura del cuerpo, Ta es la temperatura del medio\n",
        "circundante y k es la constante de proporcionalidad. Así, esta ecuación\n",
        "especifica que la tasa de enfriamiento es proporcional a la diferencia de la\n",
        "temperatura del cuerpo y del ambiente circundante. Si una bola de metal se\n",
        "calienta a 90C y se sumerge en agua que se mantiene a un valor constante de\n",
        "Ta = 20C, use cualquiera de los métodos (Euler, Euler modificado, Runge-Kutta\n",
        "4to orden) para calcular el tiempo que toma que la bola se enfríe a 40C, si k\n",
        "= 0.25"
      ]
    },
    {
      "cell_type": "code",
      "metadata": {
        "id": "gD5BqBLxCcTW"
      },
      "source": [
        "def f(T,t):\n",
        "    return -0.25*(T-20)"
      ],
      "execution_count": null,
      "outputs": []
    },
    {
      "cell_type": "code",
      "metadata": {
        "id": "PgWZBFqNFlLu"
      },
      "source": [
        "t0 =0 # valor inicial de tiempo\n",
        "t1 =10 # valor final del tiempo\n",
        "T0 =[90] # condiciones iniciales de\n",
        "\n",
        "tiempo =np.linspace (t0,t1,11) #11 es para 10 pasos\n",
        "# llamada a la funcion odeint\n",
        "sol = odeint(f,T0,tiempo )\n",
        "sol"
      ],
      "execution_count": null,
      "outputs": []
    },
    {
      "cell_type": "code",
      "metadata": {
        "id": "uPHl8uqea0Jb"
      },
      "source": [
        "px.scatter(x=tiempo,y=sol[:,0])"
      ],
      "execution_count": null,
      "outputs": []
    }
  ]
}