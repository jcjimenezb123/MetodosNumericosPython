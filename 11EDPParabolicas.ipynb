{
  "nbformat": 4,
  "nbformat_minor": 0,
  "metadata": {
    "colab": {
      "provenance": [],
      "authorship_tag": "ABX9TyNCX3J2eueIzKuIJjuaTWIN",
      "include_colab_link": true
    },
    "kernelspec": {
      "name": "python3",
      "display_name": "Python 3"
    },
    "language_info": {
      "name": "python"
    }
  },
  "cells": [
    {
      "cell_type": "markdown",
      "metadata": {
        "id": "view-in-github",
        "colab_type": "text"
      },
      "source": [
        "<a href=\"https://colab.research.google.com/github/jcjimenezb123/MetodosNumericosPython/blob/master/11EDPParabolicas.ipynb\" target=\"_parent\"><img src=\"https://colab.research.google.com/assets/colab-badge.svg\" alt=\"Open In Colab\"/></a>"
      ]
    },
    {
      "cell_type": "code",
      "metadata": {
        "id": "mDp0fbBtESWH"
      },
      "source": [
        "import numpy as np\n",
        "import matplotlib.pyplot as plt"
      ],
      "execution_count": null,
      "outputs": []
    },
    {
      "cell_type": "markdown",
      "metadata": {
        "id": "6sQ18pe-nG7m"
      },
      "source": [
        "#Metodo explicito"
      ]
    },
    {
      "cell_type": "code",
      "metadata": {
        "id": "raGLLn74DqxH"
      },
      "source": [
        "L=10\n",
        "dx=2\n",
        "dt=0.1\n",
        "alfa=0.835\n",
        "lamda=alfa*dt/dx**2\n",
        "Tx0=100\n",
        "Tx10=50\n",
        "\n",
        "n=300\n",
        "m=L//dx\n",
        "\n",
        "u=np.zeros((m+1,n))\n",
        "u[0,]=Tx0\n",
        "u[m,]=Tx10\n",
        "u"
      ],
      "execution_count": null,
      "outputs": []
    },
    {
      "cell_type": "code",
      "metadata": {
        "id": "MheLswFAEpWm"
      },
      "source": [
        "for tj in range(n-1):\n",
        "  for xi in range(1,m):\n",
        "    u[xi,tj+1]=(1-2*lamda)*u[xi,tj]+lamda*(u[xi+1,tj]+u[xi-1,tj])\n",
        "\n",
        "u[:,:4]"
      ],
      "execution_count": null,
      "outputs": []
    },
    {
      "cell_type": "code",
      "metadata": {
        "id": "rb9sxBz1HNmp"
      },
      "source": [
        "plt.plot(np.linspace(0,L,m+1),u);"
      ],
      "execution_count": null,
      "outputs": []
    },
    {
      "cell_type": "code",
      "source": [
        "import plotly.graph_objects as go\n",
        "\n",
        "fig = go.Figure(data=[go.Surface(z=u,opacity=0.7)])\n",
        "fig.update_traces(contours_x=dict(show=True, usecolormap=True,\n",
        "                                  project_x=True))\n",
        "fig.update_layout(title='EDP Parabolica')\n",
        "\n",
        "fig.show()"
      ],
      "metadata": {
        "id": "cWxa9B3iw1Kw"
      },
      "execution_count": null,
      "outputs": []
    },
    {
      "cell_type": "markdown",
      "metadata": {
        "id": "SSU0_x_CnKwa"
      },
      "source": [
        "#Metodo implicito simple"
      ]
    },
    {
      "cell_type": "code",
      "metadata": {
        "id": "TbrhYjCaHbOL"
      },
      "source": [
        "L=10\n",
        "dx=2\n",
        "dt=0.1\n",
        "alfa=0.835\n",
        "lamda=alfa*dt/dx**2\n",
        "T0=0\n",
        "Tx0=100\n",
        "Tx10=50"
      ],
      "execution_count": null,
      "outputs": []
    },
    {
      "cell_type": "code",
      "metadata": {
        "id": "pj_StLzCnRse"
      },
      "source": [
        "n=200\n",
        "m=L//dx-1\n",
        "u=np.zeros((m+2,n))\n",
        "u[0,]=Tx0\n",
        "u[m+1,]=Tx10\n",
        "u[1:m,0]=T0\n",
        "u"
      ],
      "execution_count": null,
      "outputs": []
    },
    {
      "cell_type": "code",
      "source": [
        "A=np.diag([-lamda]*(m-1),-1) + np.diag([1+2*lamda]*m) + np.diag([-lamda]*(m-1),1)\n",
        "A"
      ],
      "metadata": {
        "id": "vMmlfQSgzE06"
      },
      "execution_count": null,
      "outputs": []
    },
    {
      "cell_type": "code",
      "metadata": {
        "id": "Fiutc5mHpOQ9"
      },
      "source": [
        "b=np.zeros(m)\n",
        "#ciclo del tiempo\n",
        "for j in range(n-1):\n",
        "  b=u[1:m+1,j].copy()\n",
        "  b[0]=b[0]+lamda*u[0,j+1]\n",
        "  b[-1]=b[-1]+lamda*u[-1,j+1]\n",
        "\n",
        "  #solucions del sistema\n",
        "  sol=np.linalg.solve(A,b)\n",
        "\n",
        "  #asinga los resultados\n",
        "  u[1:m+1,j+1]=sol\n",
        "\n",
        "u[:,:3]"
      ],
      "execution_count": null,
      "outputs": []
    },
    {
      "cell_type": "code",
      "metadata": {
        "id": "xzE9rNe8qahx"
      },
      "source": [
        "plt.plot(np.linspace(0,L,m+2),u[:,:]);"
      ],
      "execution_count": null,
      "outputs": []
    },
    {
      "cell_type": "code",
      "source": [
        "import plotly.graph_objects as go\n",
        "\n",
        "fig = go.Figure(data=[go.Surface(z=u,opacity=0.7)])\n",
        "fig.update_traces(contours_x=dict(show=True, usecolormap=True,\n",
        "                                  project_x=True))\n",
        "fig.update_layout(title='EDP Parabolica')\n",
        "\n",
        "fig.show()"
      ],
      "metadata": {
        "id": "aMcMvivPwEId"
      },
      "execution_count": null,
      "outputs": []
    }
  ]
}