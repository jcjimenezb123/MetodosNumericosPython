{
  "nbformat": 4,
  "nbformat_minor": 0,
  "metadata": {
    "colab": {
      "name": "EDO2orden.ipynb",
      "provenance": [],
      "collapsed_sections": [],
      "authorship_tag": "ABX9TyNfrkxIPJH543eb2OZinGep",
      "include_colab_link": true
    },
    "kernelspec": {
      "name": "python3",
      "display_name": "Python 3"
    }
  },
  "cells": [
    {
      "cell_type": "markdown",
      "metadata": {
        "id": "view-in-github",
        "colab_type": "text"
      },
      "source": [
        "<a href=\"https://colab.research.google.com/github/jcjimenezb123/MetodosNumericosPython/blob/master/EDO2orden.ipynb\" target=\"_parent\"><img src=\"https://colab.research.google.com/assets/colab-badge.svg\" alt=\"Open In Colab\"/></a>"
      ]
    },
    {
      "cell_type": "markdown",
      "metadata": {
        "id": "9l5wtSlHhEb-"
      },
      "source": [
        "Una barra de metal está a una temperatura $T_1=50$ en un extremo y $T_2=200$ en el otro con los siguientes datos:\r\n",
        "\r\n",
        "* $L = 10m$ Longitud de la barra\r\n",
        "* $\\alpha = 0.01m^{-2}$ Factor de dispersión de calor\r\n",
        "* $Ta = 25°C$ Temperatura ambiente\r\n",
        "* $T(x_0=0) = 50°C$ Temperatura de la barra en el extremo izquierdo\r\n",
        "* $T(x_1=L) = 200°C$ Temperatura de la barra en el extremo derecho\r\n",
        "\r\n",
        "**Solución** Convertir la ecuación de segundo orden en un sistema de ecuaciones de primer orden\r\n",
        "\r\n",
        "$$\r\n",
        "\\frac{dT}{dx}=\\mu \\\\\r\n",
        "\\frac{d^2T}{dx^2}=\\frac{d\\mu}{dx}=\\alpha(T -T_a)\r\n",
        "$$\r\n",
        "\r\n",
        "Esto es un sistema de ecuaciones ordinarias, con los valores iniciales $T(x_1 = 0) = 50$ para\r\n",
        "la segunda ecuación y $\\mu(x_1 = 0) =?$ un valor que debemos suponer para obtener un primer\r\n",
        "resultado para $T(x_2 = L)$, si no es el valor esperado entonces se hace otra suposición."
      ]
    },
    {
      "cell_type": "code",
      "metadata": {
        "id": "ynd8H8z8hCFe"
      },
      "source": [
        "import numpy as np\r\n",
        "from scipy.integrate import odeint\r\n",
        "import matplotlib.pyplot as plt"
      ],
      "execution_count": 1,
      "outputs": []
    },
    {
      "cell_type": "code",
      "metadata": {
        "id": "l_anxiVYpeFJ"
      },
      "source": [
        "def f(U, y):\r\n",
        "  u1 , u2 = U\r\n",
        "  alfa = 0.01\r\n",
        "  Ta = 25\r\n",
        "  du_dy = u2\r\n",
        "  du2_dy2 = alfa*(u1 -Ta)\r\n",
        "  return [du_dy, du2_dy2]"
      ],
      "execution_count": 2,
      "outputs": []
    },
    {
      "cell_type": "code",
      "metadata": {
        "colab": {
          "base_uri": "https://localhost:8080/"
        },
        "id": "PSmI-RHRp04L",
        "outputId": "8a6e4d12-e925-4253-e39a-ce6c82d37041"
      },
      "source": [
        "L = 10 # Longitud de la barra\r\n",
        "Tx1 = 50 # temperatura en el extremo x1 =0\r\n",
        "Tx2 = 200 # temperatura en el extremo x2=L\r\n",
        "dT1 = 10 # Valor supuesto de la derivada\r\n",
        "barra = np.linspace (0, L) # Vector de la longitud de la barra\r\n",
        "# Solucion del sistema\r\n",
        "tiro1 = odeint(f,[Tx1,dT1], barra )\r\n",
        "print('Primer tiro')\r\n",
        "print('Temperatura en el extremo x2=L : {} '.format(tiro1[-1,0]))"
      ],
      "execution_count": 12,
      "outputs": [
        {
          "output_type": "stream",
          "text": [
            "Primer tiro\n",
            "Temperatura en el extremo x2=L : 181.09713828684858 \n"
          ],
          "name": "stdout"
        }
      ]
    },
    {
      "cell_type": "code",
      "metadata": {
        "colab": {
          "base_uri": "https://localhost:8080/"
        },
        "id": "kcOSaWVNq1H2",
        "outputId": "49849ca3-a3f7-4a4f-d97a-be2dc3daa7e6"
      },
      "source": [
        "dT2 = 20 # Valor supuesto de la derivada\r\n",
        "# Solucion del sistema\r\n",
        "tiro2 = odeint(f,[Tx1,dT2],barra)\r\n",
        "print('Segundo tiro')\r\n",
        "print('Temperatura en el extremo x2=L : {} '.format(tiro2[-1,0]))"
      ],
      "execution_count": 13,
      "outputs": [
        {
          "output_type": "stream",
          "text": [
            "Segundo tiro\n",
            "Temperatura en el extremo x2=L : 298.6172583809675 \n"
          ],
          "name": "stdout"
        }
      ]
    },
    {
      "cell_type": "code",
      "metadata": {
        "id": "WmDMTcAdrWTL"
      },
      "source": [
        "from scipy.interpolate import interp1d"
      ],
      "execution_count": 14,
      "outputs": []
    },
    {
      "cell_type": "code",
      "metadata": {
        "id": "iw71jmaltgDt"
      },
      "source": [
        "pol=interp1d([tiro1[-1,0],tiro2[-1,0]],\r\n",
        "             [dT1,dT2])"
      ],
      "execution_count": 18,
      "outputs": []
    },
    {
      "cell_type": "code",
      "metadata": {
        "colab": {
          "base_uri": "https://localhost:8080/"
        },
        "id": "av9DCiRYt5Aa",
        "outputId": "02b73b88-aef5-479e-8a37-1ba6d57724f5"
      },
      "source": [
        "dT3=pol(Tx2)\r\n",
        "dT3"
      ],
      "execution_count": 21,
      "outputs": [
        {
          "output_type": "execute_result",
          "data": {
            "text/plain": [
              "array(11.60847876)"
            ]
          },
          "metadata": {
            "tags": []
          },
          "execution_count": 21
        }
      ]
    },
    {
      "cell_type": "code",
      "metadata": {
        "colab": {
          "base_uri": "https://localhost:8080/"
        },
        "id": "koug_PdSuKVQ",
        "outputId": "c1ecabd0-e4ac-484e-f659-4f3a4886ae8c"
      },
      "source": [
        "tiro3 = odeint(f,[Tx1,dT3],barra)\r\n",
        "print('Tercer tiro')\r\n",
        "print('Temperatura en el extremo x2=L : {} '.format(tiro3[-1,0]))"
      ],
      "execution_count": 22,
      "outputs": [
        {
          "output_type": "stream",
          "text": [
            "Tercer tiro\n",
            "Temperatura en el extremo x2=L : 199.99999991834952 \n"
          ],
          "name": "stdout"
        }
      ]
    },
    {
      "cell_type": "code",
      "metadata": {
        "colab": {
          "base_uri": "https://localhost:8080/",
          "height": 265
        },
        "id": "Q4vlDgPYu85J",
        "outputId": "75d578bc-7a63-47f9-bd71-2f93948fcb97"
      },
      "source": [
        "plt.plot(barra,tiro1[:,0],'--',label='Primer tiro')\r\n",
        "plt.plot(barra,tiro2[:,0],'--',label='Segundo tiro')\r\n",
        "plt.plot(barra,tiro3[:,0],'-',label='Tercer tiro')\r\n",
        "plt.legend()\r\n",
        "plt.grid()\r\n",
        "plt.show()"
      ],
      "execution_count": 26,
      "outputs": [
        {
          "output_type": "display_data",
          "data": {
            "image/png": "[encoded data removed]",
            "text/plain": [
              "<Figure size 432x288 with 1 Axes>"
            ]
          },
          "metadata": {
            "tags": [],
            "needs_background": "light"
          }
        }
      ]
    },
    {
      "cell_type": "code",
      "metadata": {
        "id": "D1aKC6mdvOw3"
      },
      "source": [
        ""
      ],
      "execution_count": null,
      "outputs": []
    }
  ]
}