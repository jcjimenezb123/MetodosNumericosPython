{
  "nbformat": 4,
  "nbformat_minor": 0,
  "metadata": {
    "colab": {
      "provenance": [],
      "collapsed_sections": [],
      "authorship_tag": "ABX9TyP07t6/vjSh3liRHJ95xMKG",
      "include_colab_link": true
    },
    "kernelspec": {
      "name": "python3",
      "display_name": "Python 3"
    }
  },
  "cells": [
    {
      "cell_type": "markdown",
      "metadata": {
        "id": "view-in-github",
        "colab_type": "text"
      },
      "source": [
        "<a href=\"https://colab.research.google.com/github/jcjimenezb123/MetodosNumericosPython/blob/master/ExamenENLG1.ipynb\" target=\"_parent\"><img src=\"https://colab.research.google.com/assets/colab-badge.svg\" alt=\"Open In Colab\"/></a>"
      ]
    },
    {
      "cell_type": "markdown",
      "metadata": {
        "id": "pbGgXpQAAqbG"
      },
      "source": [
        "#Métodos Numéricos\n",
        "\n",
        "#Examen - Ecuaciones no lineales\n",
        "\n",
        "![UNAM](https://drive.google.com/uc?export=view&id=1GATLSo6jWPCg6vd4M3_aK5bbXRm9a_4K)\n",
        "---\n",
        "\n",
        "Nombre: ***$\\color{blue}{\\text{ Mi nombre } }$***\n",
        "\n",
        "Num. Cuenta: ***$\\color{blue}{ 123456789 }$***\n",
        "\n",
        "---\n"
      ]
    },
    {
      "cell_type": "markdown",
      "metadata": {
        "id": "3ldHEN7_CKOX"
      },
      "source": [
        "##Teoria\n",
        "Reponda **Veradero** o **Falso**\n",
        "\n",
        "1.\tLa multiplicación $f(x_0)*f(x_1)>0$ asegura un cambio de signo en $[x_0,x_1]$ ***$\\color{red}{ Respuesta }$***\n",
        "1.\tLa Tolerancia es el valor mínimo que puede tomar $f(x)$ para considerar $x$ como una raíz ***$\\color{red}{ Respuesta }$***\n",
        "1.\tEl método de Bisección es un método cerrado que divide el rango $[x_0,x_1]$ exactamente a la mitad ***$\\color{red}{ Respuesta }$***\n",
        "1.\tLa multiplicación $f(x_0)*f(x)<0$ asegura un cambio de signo en $[x_0,x]$ ***$\\color{red}{ Respuesta }$***\n",
        "1.\tEl método de la Falsa Posición encuentra el siguiente valor de x mediante una interpolación lineal ***$\\color{red}{ Respuesta }$***\n"
      ]
    },
    {
      "cell_type": "markdown",
      "metadata": {
        "id": "bcZ94LSDDFLM"
      },
      "source": [
        "##Problema 1\n",
        "\n",
        "Una reacción química reversible\n",
        "\n",
        "$$2A + B \\leftrightarrow C$$\n",
        "\n",
        "se caracteriza por la relación de equilibrio\n",
        "$$\n",
        "K=\\frac{C_c}{C_a^2C_b}\n",
        "$$\n",
        "\n",
        "donde la nomenclatura $C_n$ representa la concentración del componente\n",
        "N. Suponga que se define una variable $x$ que representa\n",
        "el número de moles de $C$ producido. La conservación de la masa\n",
        "se utiliza para reformular la relación de equilibrio como\n",
        "\n",
        "$$\n",
        "K=\\frac{C_{c0}+x}{(C_{a0}-2x)^2(C_{b0}-x)}\n",
        "$$\n",
        "\n",
        "donde el subíndice 0 indica la concentración inicial de cada componente.\n",
        "Si $K = 0.016$, $C_{a0} = 42$, $C_{b0} = 28$ y $C_{c0} = 4$, calcule $x$."
      ]
    },
    {
      "cell_type": "code",
      "metadata": {
        "id": "Vers7tCBcRgo"
      },
      "source": [
        "#Haga los import necesarios\n"
      ],
      "execution_count": null,
      "outputs": []
    },
    {
      "cell_type": "markdown",
      "metadata": {
        "id": "y6oY0rPsTvIB"
      },
      "source": [
        "1. Defina la ecuación que se debe resolver"
      ]
    },
    {
      "cell_type": "code",
      "metadata": {
        "id": "sxEebX00Aoba"
      },
      "source": [
        "#defina aqui la ecuacion a resolver\n"
      ],
      "execution_count": null,
      "outputs": []
    },
    {
      "cell_type": "markdown",
      "metadata": {
        "id": "SF1L9WZgT8oh"
      },
      "source": [
        "2. Grafique la función para determinar los valores iniciales"
      ]
    },
    {
      "cell_type": "code",
      "metadata": {
        "id": "bmNbWSZaUBOk"
      },
      "source": [],
      "execution_count": null,
      "outputs": []
    },
    {
      "cell_type": "markdown",
      "metadata": {
        "id": "UZp3jMv-T1aA"
      },
      "source": [
        "3. Use el método de **Regla Falsa** para resolver el problema"
      ]
    },
    {
      "cell_type": "code",
      "metadata": {
        "id": "fqSuydnGT7ZU"
      },
      "source": [],
      "execution_count": null,
      "outputs": []
    },
    {
      "cell_type": "markdown",
      "metadata": {
        "id": "hXbSDvn_UGQy"
      },
      "source": [
        "4. Reporte la solución"
      ]
    },
    {
      "cell_type": "code",
      "metadata": {
        "id": "Z99ha9ojUKCw"
      },
      "source": [],
      "execution_count": null,
      "outputs": []
    },
    {
      "cell_type": "markdown",
      "metadata": {
        "id": "WCuS8sD1VWrU"
      },
      "source": [
        "##Problema 2"
      ]
    },
    {
      "cell_type": "markdown",
      "metadata": {
        "id": "o29YAw53VaIS"
      },
      "source": [
        "El número áureo (también llamado número de oro, número de Dios, razón áurea, razón dorada, media áurea, proporción áurea y divina proporción) es un número irracional, representado por la letra griega φ (phi) (en minúscula) o Φ (Phi) (en mayúscula) en honor al escultor griego Fidias.\n",
        "\n",
        "\n",
        "El número áureo es el valor numérico de la proporción que guardan entre sí dos segmentos de recta $a$ y $b$ ($a$ más largo que $b$), que cumplen la siguiente relación:\n",
        "\n",
        "La longitud total, suma de los dos segmentos $a$ y $b$, es al segmento mayor $a$, lo que este segmento $a$ es al menor $b$.\n",
        "\n",
        "$$\n",
        "\\frac{a+b}{a}=\\frac{a}{b}\n",
        "$$\n",
        "\n",
        "Siendo el valor del número áureo $\\phi$ el cociente $\\phi=a/b$.\n",
        "\n",
        "$$\n",
        "\\frac{a+b}{a}=\\frac{a}{b}\n",
        "$$\n",
        "\n",
        "$$\n",
        "1+\\frac{b}{a}=\\frac{a}{b}\n",
        "$$\n",
        "\n",
        "$$\n",
        "1+\\phi^{-1}=\\phi\n",
        "$$\n",
        "\n",
        "si multiplicamos por $\\phi$\n",
        "\n",
        "$$\n",
        "\\phi+1=\\phi^{2}\n",
        "$$\n",
        "\n",
        "$$\n",
        "\\phi^2-\\phi-1=0\n",
        "$$\n",
        "\n",
        "encuentre el valor del número aureo $\\phi$. Use el método de la ___Secante___ para encontrar la primer raíz y el método de ___Newton-Raphson___ para encontrar la segunda raíz.\n",
        "Use una tolerancia de $0.00001$\n"
      ]
    },
    {
      "cell_type": "markdown",
      "metadata": {
        "id": "4Qru-cqcZkH7"
      },
      "source": [
        "1. Defina la ecuación que se debe resolver"
      ]
    },
    {
      "cell_type": "code",
      "metadata": {
        "id": "8Z-TrK2aVZa_"
      },
      "source": [
        "#defina la ecuación a resolver"
      ],
      "execution_count": null,
      "outputs": []
    },
    {
      "cell_type": "markdown",
      "metadata": {
        "id": "H8QEuHwLaJ5X"
      },
      "source": [
        "2. Grafique la función para determinar los valores iniciales"
      ]
    },
    {
      "cell_type": "code",
      "metadata": {
        "id": "B9eHub4naKqH"
      },
      "source": [],
      "execution_count": null,
      "outputs": []
    },
    {
      "cell_type": "markdown",
      "metadata": {
        "id": "Wli-PPyKaPum"
      },
      "source": [
        "3. Use el método de la **Secante** y **Newton-Raphson** para resolver el problema"
      ]
    },
    {
      "cell_type": "code",
      "metadata": {
        "id": "3_b1BNisaTIT"
      },
      "source": [],
      "execution_count": null,
      "outputs": []
    },
    {
      "cell_type": "markdown",
      "metadata": {
        "id": "x8XBeLOcaYOo"
      },
      "source": [
        "4. Reporte la solución"
      ]
    },
    {
      "cell_type": "code",
      "metadata": {
        "id": "Tk4a1Q8nacW-"
      },
      "source": [],
      "execution_count": null,
      "outputs": []
    }
  ]
}