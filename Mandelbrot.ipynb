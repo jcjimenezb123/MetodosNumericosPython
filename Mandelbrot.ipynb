{
  "nbformat": 4,
  "nbformat_minor": 0,
  "metadata": {
    "colab": {
      "provenance": [],
      "authorship_tag": "ABX9TyMp8IKiNB/ttH9tmtIVp3Z8",
      "include_colab_link": true
    },
    "kernelspec": {
      "name": "python3",
      "display_name": "Python 3"
    },
    "language_info": {
      "name": "python"
    }
  },
  "cells": [
    {
      "cell_type": "markdown",
      "metadata": {
        "id": "view-in-github",
        "colab_type": "text"
      },
      "source": [
        "<a href=\"https://colab.research.google.com/github/jcjimenezb123/MetodosNumericosPython/blob/master/Mandelbrot.ipynb\" target=\"_parent\"><img src=\"https://colab.research.google.com/assets/colab-badge.svg\" alt=\"Open In Colab\"/></a>"
      ]
    },
    {
      "cell_type": "markdown",
      "source": [
        "El conjunto de Mandelbrot es un conjunto de puntos en el plano complejo que exhibe una estructura fractal fascinante. Fue descubierto por el matemático Benoît Mandelbrot en 1978 y se ha convertido en uno de los objetos matemáticos más estudiados y reconocibles.\n",
        "\n",
        "El conjunto de Mandelbrot se define mediante la iteración de una fórmula matemática simple en el plano complejo. Para cada punto $c$ en el plano complejo, se realiza la siguiente iteración:\n",
        "$$\n",
        "Z_{n+1} = Z_n^2 + c\n",
        "$$\n",
        "Aquí, $Z_n$ representa el valor enésimo de la secuencia, y $Z_0$ se establece en $c$, el punto que estamos probando en el plano complejo. Si esta secuencia converge hacia un valor finito, entonces se considera que el punto $c$ está dentro del conjunto de Mandelbrot. Si la secuencia diverge hacia el infinito, entonces se considera que el punto está fuera del conjunto.\n",
        "\n",
        "Sin embargo, para determinar si la secuencia diverge o converge, se establece un límite de iteraciones. Si después de un número determinado de iteraciones la secuencia no ha divergido hacia el infinito, se considera que el punto $c$ está dentro del conjunto de Mandelbrot. De lo contrario, si la secuencia diverge antes de alcanzar el límite de iteraciones, se considera que el punto está fuera del conjunto.\n",
        "\n",
        "El conjunto de Mandelbrot se forma trazando todos los puntos $c$ en el plano complejo y coloreando cada punto según si está dentro o fuera del conjunto. La región del plano complejo que pertenece al conjunto se colorea generalmente en negro, y las regiones externas se pueden colorear en diferentes tonos según la rapidez con la que la secuencia diverge.\n",
        "\n",
        "El conjunto de Mandelbrot exhibe una estructura fractal, lo que significa que muestra patrones repetitivos a diferentes escalas de magnificación. La forma característica del conjunto incluye una estructura principal con varios filamentos y estructuras similares que se repiten a diferentes niveles de zoom.\n",
        "\n",
        "El algoritmo del conjunto de Mandelbrot es el siguiente:\n",
        "\n",
        "1. Selecciona un punto $c$ en el plano complejo. Este punto representa las coordenadas $(a, b)$, donde $a$ es la parte real y $b$ es la parte imaginaria.\n",
        "\n",
        "1. Inicializa $Z_0$ en $0$, es decir, $Z_0 = 0$.\n",
        "\n",
        "1. Realiza iteraciones usando la siguiente fórmula: $Z_{n+1} = Z_n^2 + c$.\n",
        "\n",
        "1. Repite el paso 3 un número determinado de veces o hasta que se alcance una condición de escape. La condición de escape generalmente se establece en $|Z_n| > 2$, lo que significa que la secuencia está divergiendo hacia el infinito.\n",
        "\n",
        "1. Si la secuencia diverge antes de alcanzar el límite de iteraciones, entonces el punto c se considera fuera del conjunto de Mandelbrot. En este caso, se puede asignar un color a ese punto según la rapidez con la que la secuencia diverge.\n",
        "\n",
        "1. Si la secuencia no diverge y alcanza el límite de iteraciones, entonces el punto c se considera dentro del conjunto de Mandelbrot. En este caso, se puede asignar un color predeterminado, generalmente negro, a ese punto.\n",
        "\n",
        "1. Repite los pasos 1 al 6 para cada punto $c$ en el plano complejo.\n",
        "\n",
        "A continuación un ejemplo numérico utilizando un punto $c = (-0.5, 0.5)$:\n",
        "\n",
        "1. Seleccionamos el punto $c = (-0.5, 0.5)$.\n",
        "\n",
        "1. Inicializamos $Z_0$ en $0$: $Z_0 = 0$.\n",
        "\n",
        "1. Realizamos iteraciones usando la fórmula: $Z_{n+1} = Z_n^2 + c$."
      ],
      "metadata": {
        "id": "SzNRzYC-VbYo"
      }
    },
    {
      "cell_type": "code",
      "source": [
        "c= #<--- valor seleccionado. Punto 1\n",
        "z= #<--- valor inicial. Punto 2\n",
        "\n",
        "#iteraciones. Punto 3\n",
        "z=z**2+c;print(z)\n",
        "z=z**2+c;print(z)\n",
        "z=z**2+c;print(z)\n",
        "z=z**2+c;print(z)\n",
        "z=z**2+c;print(z)\n",
        "z=z**2+c;print(z)\n",
        "z=z**2+c;print(z)\n",
        "z=z**2+c;print(z)\n",
        "z=z**2+c;print(z)\n",
        "z=z**2+c;print(z)\n",
        "z=z**2+c;print(z)\n",
        "z=z**2+c;print(z)\n",
        "z=z**2+c;print(z)\n",
        "z=z**2+c;print(z)\n",
        "z=z**2+c;print(z)\n",
        "z=z**2+c;print(z)"
      ],
      "metadata": {
        "id": "R5xScAQxHX_A"
      },
      "execution_count": null,
      "outputs": []
    },
    {
      "cell_type": "markdown",
      "source": [
        "Supongamos que hemos establecido un límite de iteraciones en 100. Si después de 100 iteraciones la secuencia no ha divergido, entonces consideramos el punto $c = (-0.5, 0.5)$ como dentro del conjunto de Mandelbrot y le asignamos el color predeterminado.\n",
        "\n",
        "En este ejemplo, el punto $c = (-0.5, 0.5)$ se encuentra dentro del conjunto de Mandelbrot, ya que la secuencia no divergió hacia el infinito después de 100 iteraciones. Sin embargo, el conjunto de Mandelbrot es mucho más interesante cuando se traza en todo el plano complejo, lo que revela su estructura fractal y los detalles fascinantes que contiene.\n",
        "\n",
        "Consideremos el punto $c = (2, 0)$:\n",
        "\n",
        "1. Seleccionamos el punto $c = (2, 0)$.\n",
        "\n",
        "1. Inicializamos $Z_0$ en $0$: $Z_0 = 0$.\n",
        "\n",
        "1. Realizamos iteraciones usando la fórmula: $Z_{n+1} = Z_n^2 + c$.\n",
        "\n"
      ],
      "metadata": {
        "id": "D_LatZh5Itxo"
      }
    },
    {
      "cell_type": "code",
      "source": [
        "c= #<--- valor seleccionado. Punto 1\n",
        "z= #<--- valor inicial. Punto 2\n",
        "\n",
        "#iteraciones. Punto 3\n",
        "z=z**2+c;print(z)\n",
        "z=z**2+c;print(z)\n",
        "z=z**2+c;print(z)\n",
        "z=z**2+c;print(z)\n",
        "z=z**2+c;print(z)\n",
        "z=z**2+c;print(z)"
      ],
      "metadata": {
        "id": "EBxtSg1NGvvc"
      },
      "execution_count": null,
      "outputs": []
    },
    {
      "cell_type": "markdown",
      "source": [
        "Observamos que en cada iteración, el valor real de la secuencia $Z_n$ sigue creciendo sin límite, mientras que la parte imaginaria permanece en $0$.\n",
        "\n",
        "Dado que el valor real de la secuencia $Z_n$ crece infinitamente en cada iteración, concluimos que el punto $c = (2, 0)$ no está dentro del conjunto de Mandelbrot. La secuencia diverge hacia el infinito y, por lo tanto, el punto está fuera del conjunto.\n",
        "\n",
        "El conjunto de Mandelbrot ha capturado la imaginación de muchas personas debido a su belleza visual y su complejidad matemática. Se ha utilizado en arte, diseño y gráficos por computadora, y también ha sido objeto de investigación matemática en el campo de los sistemas dinámicos y la teoría del caos.\n",
        "\n",
        "\n",
        "[Conjunto de Mandelbrot](https://complex-analysis.com/contenido/conjunto_de_mandelbrot.html)\n",
        "\n",
        "[Video conjunto de Mandelbrot](https://www.youtube.com/watch?v=1uT67l5STEw)"
      ],
      "metadata": {
        "id": "uM32lSa8I8wg"
      }
    },
    {
      "cell_type": "code",
      "source": [
        "from PIL import Image\n",
        "\n",
        "# Dimensiones de la imagen\n",
        "width = 800\n",
        "height = 800\n",
        "\n",
        "# Rango en el plano complejo\n",
        "real_range = (-2.0, 1.0)\n",
        "imaginary_range = (-1.5, 1.5)\n",
        "\n",
        "# Crear una nueva imagen\n",
        "image = Image.new('RGB', (width, height), 'white')\n",
        "pixels = image.load()\n",
        "\n",
        "# Iterar sobre cada píxel en la imagen\n",
        "for x in range(width):\n",
        "    for y in range(height):\n",
        "        # Convertir las coordenadas del píxel al plano complejo\n",
        "        real = real_range[0] + (x / width) * (real_range[1] - real_range[0])\n",
        "        imaginary = imaginary_range[0] + (y / height) * (imaginary_range[1] - imaginary_range[0])\n",
        "\n",
        "        # Inicializar Z_0 en 0\n",
        "        z_real = 0.0\n",
        "        z_imaginary = 0.0\n",
        "\n",
        "        # Iteraciones para determinar si el punto está dentro del conjunto de Mandelbrot\n",
        "        max_iterations = 100\n",
        "        iteration = 0\n",
        "        while (z_real * z_real + z_imaginary * z_imaginary) < 4 and iteration < max_iterations:\n",
        "            # Fórmula de iteración de Mandelbrot\n",
        "            z_real, z_imaginary = z_real * z_real - z_imaginary * z_imaginary + real, 2 * z_real * z_imaginary + imaginary\n",
        "            iteration += 1\n",
        "\n",
        "        # Asignar color al píxel según la rapidez de divergencia\n",
        "        color = (iteration % 8 * 64, iteration % 16 * 32, iteration % 32 * 16)\n",
        "        pixels[x, y] = color\n",
        "\n",
        "# Guardar la imagen resultante\n",
        "image.show()\n",
        "image.save('mandelbrot.png')\n"
      ],
      "metadata": {
        "id": "3dHNoxnq41Jo"
      },
      "execution_count": null,
      "outputs": []
    },
    {
      "cell_type": "markdown",
      "source": [
        "El conjunto de Julia es otro conjunto fractal en el plano complejo, que está estrechamente relacionado con el conjunto de Mandelbrot. Fue nombrado en honor al matemático francés Gaston Julia, quien lo estudió por primera vez en el principio del siglo XX.\n",
        "\n",
        "El conjunto de Julia se crea de manera similar al conjunto de Mandelbrot, pero en lugar de variar el punto c en la iteración $Z_{n+1} = Z_n^2 + c$, en el conjunto de Julia se fija el valor de $c$ y se varía el punto $Z_0$ en el plano complejo. El conjunto de Julia se define como el conjunto de puntos $Z_0$ que no divergen hacia el infinito después de un número determinado de iteraciones.\n",
        "\n",
        "Formalmente, dado un valor fijo de $c$ en el plano complejo, se realiza la siguiente iteración:\n",
        "$$\n",
        "Z_{n+1} = Z_n^2 + c\n",
        "$$\n",
        "Al igual que con el conjunto de Mandelbrot, si después de un número determinado de iteraciones la secuencia $Z_n$ no ha divergido hacia el infinito, entonces se considera que el punto $Z_0$ está dentro del conjunto de Julia. De lo contrario, si la secuencia $Z_n$ diverge antes de alcanzar el límite de iteraciones, el punto $Z_0$ se considera fuera del conjunto.\n",
        "\n",
        "Una característica interesante del conjunto de Julia es que hay una infinidad de conjuntos de Julia, cada uno asociado con un valor diferente de $c$ en el plano complejo. La forma y estructura del conjunto de Julia varían según el valor de $c$. Al igual que con el conjunto de Mandelbrot, el conjunto de Julia exhibe estructuras fractales y detalles complejos a diferentes escalas de magnificación."
      ],
      "metadata": {
        "id": "3YR4idJlvnTk"
      }
    },
    {
      "cell_type": "code",
      "source": [
        "c = complex(-0.8, 0.156)\n",
        "z = -0.5+0.5j\n",
        "#iteraciones. Punto 3\n",
        "z=z**2+c;print(z)\n",
        "z=z**2+c;print(z)\n",
        "z=z**2+c;print(z)\n",
        "z=z**2+c;print(z)\n",
        "z=z**2+c;print(z)\n",
        "z=z**2+c;print(z)"
      ],
      "metadata": {
        "id": "h_wZpcXbw3Yw"
      },
      "execution_count": null,
      "outputs": []
    },
    {
      "cell_type": "code",
      "source": [
        "c = complex(-0.8, 0.156)\n",
        "z = 2+0j\n",
        "#iteraciones. Punto 3\n",
        "z=z**2+c;print(z)\n",
        "z=z**2+c;print(z)\n",
        "z=z**2+c;print(z)\n",
        "z=z**2+c;print(z)\n",
        "z=z**2+c;print(z)\n",
        "z=z**2+c;print(z)"
      ],
      "metadata": {
        "id": "dxE5-TcNxnXR"
      },
      "execution_count": null,
      "outputs": []
    },
    {
      "cell_type": "markdown",
      "source": [
        "[Conjunto de Julia](https://complex-analysis.com/contenido/conjunto_de_julia.html)\n",
        "\n",
        "[Video conjunto de Julia](https://www.youtube.com/watch?v=wjWa7iUuq1A)"
      ],
      "metadata": {
        "id": "NO8OG5Z5xxAx"
      }
    },
    {
      "cell_type": "code",
      "source": [
        "from PIL import Image\n",
        "\n",
        "# Función para determinar si un punto Z_0 está dentro del conjunto de Julia\n",
        "def esta_en_conjunto_julia(Z0, c, max_iter):\n",
        "    Z = Z0\n",
        "    for i in range(max_iter):\n",
        "        if abs(Z) > 2.0:\n",
        "            return i  # Devolvemos el número de iteraciones antes de que la secuencia diverja\n",
        "        Z = Z * Z + c\n",
        "    return max_iter  # Si no diverge, devolvemos el número máximo de iteraciones\n",
        "\n",
        "# Dimensiones de la imagen y rango en el plano complejo\n",
        "width, height = 800, 800\n",
        "real_range = (-1.5, 1.5)\n",
        "imaginary_range = (-1.5, 1.5)\n",
        "\n",
        "# Crear una nueva imagen\n",
        "image = Image.new('RGB', (width, height), 'black')\n",
        "pixels = image.load()\n",
        "\n",
        "# Iterar sobre cada píxel en la imagen y determinar si está en el conjunto de Julia\n",
        "for x in range(width):\n",
        "    for y in range(height):\n",
        "        real = real_range[0] + (x / width) * (real_range[1] - real_range[0])\n",
        "        imaginary = imaginary_range[0] + (y / height) * (imaginary_range[1] - imaginary_range[0])\n",
        "        Z0 = complex(real, imaginary)\n",
        "        c = complex(-0.8, 0.156)\n",
        "        max_iter = 100\n",
        "\n",
        "        # Determinar si el punto está dentro o fuera del conjunto y obtener la rapidez de divergencia\n",
        "        iterations = esta_en_conjunto_julia(Z0, c, max_iter)\n",
        "\n",
        "        # Asignar color al píxel según la rapidez de divergencia\n",
        "        color = (iterations % 8 * 64, iterations % 16 * 32, iterations % 32 * 16)\n",
        "        pixels[x, y] = color\n",
        "\n",
        "# Mostrar la imagen del conjunto de Julia\n",
        "image.show()\n",
        "image.save('julia.png')"
      ],
      "metadata": {
        "id": "vOu6vFXVt2Tf"
      },
      "execution_count": null,
      "outputs": []
    },
    {
      "cell_type": "markdown",
      "source": [
        "[Estructuras oculatas en los fractales de Mandelbrot y Julia](https://www.youtube.com/watch?v=vfteiiTfE0c)"
      ],
      "metadata": {
        "id": "wOnrwKf4ceW1"
      }
    },
    {
      "cell_type": "code",
      "source": [],
      "metadata": {
        "id": "qwHLDMm4cllZ"
      },
      "execution_count": null,
      "outputs": []
    }
  ]
}