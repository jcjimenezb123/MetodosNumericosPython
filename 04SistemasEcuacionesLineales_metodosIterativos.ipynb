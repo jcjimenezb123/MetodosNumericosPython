{
  "nbformat": 4,
  "nbformat_minor": 0,
  "metadata": {
    "colab": {
      "provenance": [],
      "authorship_tag": "ABX9TyM3EQHHS+Dp9xoqDvfzJpO6",
      "include_colab_link": true
    },
    "kernelspec": {
      "name": "python3",
      "display_name": "Python 3"
    }
  },
  "cells": [
    {
      "cell_type": "markdown",
      "metadata": {
        "id": "view-in-github",
        "colab_type": "text"
      },
      "source": [
        "<a href=\"https://colab.research.google.com/github/jcjimenezb123/MetodosNumericosPython/blob/master/04SistemasEcuacionesLineales_metodosIterativos.ipynb\" target=\"_parent\"><img src=\"https://colab.research.google.com/assets/colab-badge.svg\" alt=\"Open In Colab\"/></a>"
      ]
    },
    {
      "cell_type": "markdown",
      "metadata": {
        "id": "0EwHszXftyY9"
      },
      "source": [
        "#Sistemas de ecuaciones lineales"
      ]
    },
    {
      "cell_type": "markdown",
      "metadata": {
        "id": "Hm0uifKvm-kB"
      },
      "source": [
        "##Metodos iterativos"
      ]
    },
    {
      "cell_type": "markdown",
      "metadata": {
        "id": "4kf91Fe5lAOJ"
      },
      "source": [
        "En el metodo de Jacobi se descompone la matriz de coeficientes $A$ en dos matrices, una se compone de los elementos de la diagonal $D_{i,i}=A_{i,i}$. La matriz $D$ no debe tener elementos cero, si fuera asi se deben intercambiar los renglones para evitar el caso. La otra matriz es el resto de los elementos, es decir los elementos que no son la diagonal $R_{i,j}=A_{i,j}$ de tal manera que $A=D+R$.\n",
        "\n",
        "\\begin{array}\n",
        "A&A=&\n",
        "\\begin{pmatrix}\n",
        "A_{1,1} & A_{1,2} & \\cdots & A_{1,n}\\\\\n",
        "A_{2,1} & A_{2,2} & \\cdots & A_{2,n}\\\\\n",
        "\\vdots & \\vdots & \\ddots & \\vdots\\\\\n",
        "A_{n,1} & A_{n,2} & \\cdots & A_{n,n}\\\\\n",
        "\\end{pmatrix}\n",
        "&D&=&\n",
        "\\begin{pmatrix}\n",
        "A_{1,1} &0 & \\cdots & 0\\\\\n",
        "0 & A_{2,2} & \\cdots & 0\\\\\n",
        "\\vdots & \\vdots & \\ddots & \\vdots\\\\\n",
        "0 & 0 & \\cdots & A_{n,n}\\\\\n",
        "\\end{pmatrix}\n",
        "\\\\\n",
        "R&=&\n",
        "\\begin{pmatrix}\n",
        "0 & A_{1,2} & \\cdots & A_{1,n}\\\\\n",
        "A_{2,1} & 0 & \\cdots & A_{2,n}\\\\\n",
        "\\vdots & \\vdots & \\ddots & \\vdots\\\\\n",
        "A_{n,1} & A_{n,2} & \\cdots & 0\\\\\n",
        "\\end{pmatrix}\n",
        "\\end{array}\n",
        "\n",
        "Por lo tanto, la ecuacion que describe un sistema de ecuaciones lineales $Ax=b$ ahora se expresa como $[D+R]x=b$.\n",
        "\n",
        "\\begin{equation*}\n",
        "\\begin{split}\n",
        "Dx+Rx&=b\\\\\n",
        "Dx&=b-Rx\\\\\n",
        "D^{-1}Dx&=D^{-1}(b-Rx)\\\\\n",
        "x&=D^{-1}(b-Rx)\n",
        "\\end{split}\n",
        "\\end{equation*}\n",
        "\n",
        "Ecuacion iterativa de Jacobi\n",
        "$$\n",
        "x^{(k+1)}=D^{-1}\\left( b-Rx^{(k)} \\right)\n",
        "$$\n",
        "\n",
        "La ecuacion iterativa de Jacobi se inicia con valores supuestos $x^{(k)}$ y la ecuacion iterativa obtiene los siguientes valores $x^{(k+1)}$. El proceso se repite hasta que la diferencia absoluta entre $x^{(k+1)}$ y $x^{(k)}$ sea minima.\n"
      ]
    },
    {
      "cell_type": "code",
      "metadata": {
        "id": "LvMmmm4i_xYP"
      },
      "source": [
        "import numpy as np #Se importa la biblioteca de numpy para hacer las operaciones de vectores\n",
        "\n",
        "def jacobi(A,b,x,imax =100,tol=1e-8) :\n",
        "  '''\n",
        "  El metodo de Jacobi es un metodo iterativo para resolver sistemas de ecuaciones\n",
        "  lineales. Es recomendable que el sistema sea diagonalmente dominante\n",
        "  Argumentos:\n",
        "  ---\n",
        "  A es la matriz de coeficientes\n",
        "  b es el vector de constantes\n",
        "  x es el vector inicial\n",
        "  imax es el numero maximo de iteraciones\n",
        "  tol es la tolerancia\n",
        "  Devuelve el consunto solucion\n",
        "  '''\n",
        "  D=np.diag(A) #se obtiene la matriz D que es la diagonal de A\n",
        "  R=A-np.diagflat(D) #se obtiene la matriz R con el resto de D\n",
        "  cumple = False\n",
        "  k=0\n",
        "  #se hace el ciclo para iterar hasta que se cumpla el criterio de convergencia\n",
        "  while (not cumple and k< imax):\n",
        "     xk1 =(b-np.dot(R,x))/D #se aplica la ecuacion iterativa de Jacobi\n",
        "     norma =np.linalg.norm(x- xk1 ) #se calcula la norma euclidea\n",
        "     print (' iteracion :{} - >{} norma {} '.format(k,x,norma)) #se muestra cada iteracion\n",
        "     cumple =norma < tol #se valida el criterio de convergencia\n",
        "     x= xk1.copy() #se toma el valor calculado para la sig iteracion\n",
        "     k +=1 #cuenta las iteraciones\n",
        "\n",
        "  if k< imax :\n",
        "    return x #retorna el conjunto solucion\n",
        "  else :\n",
        "    raise ValueError ( 'El sistema no converge ')"
      ],
      "execution_count": null,
      "outputs": []
    },
    {
      "cell_type": "markdown",
      "metadata": {
        "id": "vI_l159PneiI"
      },
      "source": [
        "Resolver el siguiente sistema\n",
        "\n",
        "\\begin{pmatrix}\n",
        "10x_1 & + x_2 & +2x_3 & = 3\\\\\n",
        "4x_1 & + 6x_2 & - x_3 & = 9\\\\\n",
        "-2x_1 & + 3x_2 & 8x_3 & = 51\\\\\n",
        "\\end{pmatrix}"
      ]
    },
    {
      "cell_type": "code",
      "metadata": {
        "id": "6u4I-6clpG_M"
      },
      "source": [
        "#se crea la matriz de coeficientes del sistema\n",
        "A = np.array([[ 10 ,1 ,2] ,\n",
        "                [4 , 6 ,-1] ,\n",
        "                [-2 ,3 , 8]])\n",
        "#se crea el vector de las constantes del sistema\n",
        "b = np.array([3 ,9 ,51])\n",
        "#se crea el vector inicial\n",
        "x = np.array([])  #<--- valores iniciales\n",
        "#se llama al metodo de jacobi\n",
        "x= jacobi(A,b,x)\n",
        "print('\\n\\nSolucion : ',x)"
      ],
      "execution_count": null,
      "outputs": []
    },
    {
      "cell_type": "code",
      "metadata": {
        "id": "H7Kna_vmp09g"
      },
      "source": [
        "def gaussSeidel(A,b,x, imax =100 , tol =1e-8) :\n",
        "  '''\n",
        "  El metodo de Gauss Seidel es un metodo iterativo para resolver sistemas de ecuaciones\n",
        "  lineales. Es recomendable que el sistema sea diagonalmente dominante\n",
        "  Argumentos:\n",
        "  ---\n",
        "  A es la matriz de coeficientes\n",
        "  b es el vector de constantes\n",
        "  x es el vector inicial\n",
        "  imax es el numero maximo de iteraciones\n",
        "  tol es la tolerancia\n",
        "  Devuelve el conjunto solucion\n",
        "  '''\n",
        "  L=np.tril(A) #se obtiene la matriz triangular inferior\n",
        "  U=A-L #se obtiene la matriz triangular superior\n",
        "  Linv =np.linalg.inv(L) #se obtiene la inversa de L\n",
        "  cumple = False\n",
        "  k=0\n",
        "  #se hacen las iteraciones hasta cumplir con el criterio de convergencia\n",
        "  while (not cumple and k< imax):\n",
        "    xk1 =np.dot(Linv,b-np.dot(U,x)) #se aplica la ecuacion iterativa de Gauss Seidel\n",
        "    norma =np.linalg.norm(x- xk1) #se obtiene la norma euclidea\n",
        "    print (' iteracion :{} - >{} norma {} '.format(k,x, norma )) #se muestra cada iteracion\n",
        "    cumple =norma < tol #se valida el criterio de convergencia\n",
        "    x= xk1.copy() #se usa el valor obtenido para la sig iteracion\n",
        "    k +=1 #se cuentan las iteraciones\n",
        "\n",
        "  if k< imax :\n",
        "    return x #retorna el conjunto solucion\n",
        "  else :\n",
        "    raise ValueError( 'El sistema no converge ')"
      ],
      "execution_count": null,
      "outputs": []
    },
    {
      "cell_type": "markdown",
      "metadata": {
        "id": "ICobrfNxAekE"
      },
      "source": [
        "Resolver el siguiente sistema\n",
        "\n",
        "\\begin{pmatrix}\n",
        "10x_1 & + x_2 & +2x_3 & = 3\\\\\n",
        "4x_1 & + 6x_2 & - x_3 & = 9\\\\\n",
        "-2x_1 & + 3x_2 & 8x_3 & = 51\\\\\n",
        "\\end{pmatrix}"
      ]
    },
    {
      "cell_type": "code",
      "metadata": {
        "id": "5DF6mE2fqMFq"
      },
      "source": [
        "#se crea la matriz de coeficientes del sistema\n",
        "A = np.array([[ 10 ,1 ,2] ,\n",
        "                [4 , 6 ,-1] ,\n",
        "                [-2 ,3 , 8]])\n",
        "#se crea el vector de las constantes del sistema\n",
        "b = np.array([3 ,9 ,51])\n",
        "x = np. array ([]) #<--- valores iniciales\n",
        "x= gaussSeidel (A,b,x)\n",
        "print ( '\\n\\nSolucion : ',x)"
      ],
      "execution_count": null,
      "outputs": []
    }
  ]
}