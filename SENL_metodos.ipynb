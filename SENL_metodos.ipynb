{
  "nbformat": 4,
  "nbformat_minor": 0,
  "metadata": {
    "colab": {
      "name": "SENL_metodos.ipynb",
      "provenance": [],
      "collapsed_sections": [],
      "authorship_tag": "ABX9TyP5zUhe0JYKP35Txh+ip2+f",
      "include_colab_link": true
    },
    "kernelspec": {
      "name": "python3",
      "display_name": "Python 3"
    },
    "language_info": {
      "name": "python"
    }
  },
  "cells": [
    {
      "cell_type": "markdown",
      "metadata": {
        "id": "view-in-github",
        "colab_type": "text"
      },
      "source": [
        "<a href=\"https://colab.research.google.com/github/jcjimenezb123/MetodosNumericosPython/blob/master/SENL_metodos.ipynb\" target=\"_parent\"><img src=\"https://colab.research.google.com/assets/colab-badge.svg\" alt=\"Open In Colab\"/></a>"
      ]
    },
    {
      "cell_type": "markdown",
      "source": [
        "Resuelva el siguiente sistema de ecuaciones\n",
        "no lineales, utilizando el método de punto fijo multivariable:\n",
        "\n",
        "$$\n",
        "3x_1-cos(x_2x_3)-\\frac{1}{2}=0\\\\\n",
        "x_1^2-81(x_2+0.1)^2+sin(x_3)+1.06=0\\\\\n",
        "e^{-x_1x_2}+20x_3+\\frac{10\\pi -3}{3}=0\n",
        "$$\n",
        "\n",
        "Primero se despeja xi de la i-ésima ecuación de la siguiente forma\n",
        "\n",
        "$$\n",
        "x_1=\\frac{1}{3}cos(x_2x_3)+\\frac{1}{6}\\\\\n",
        "x_2=\\frac{1}{9}\\sqrt{x_1^2+sin(x_3)+1.06}-0.1\\\\\n",
        "x_3=-\\frac{1}{20}e^{-x_1x_2}+\\frac{10\\pi -3}{60}\n",
        "$$"
      ],
      "metadata": {
        "id": "AG4tmhIXOSBe"
      }
    },
    {
      "cell_type": "code",
      "execution_count": 1,
      "metadata": {
        "id": "NxQTwzH_J1l1"
      },
      "outputs": [],
      "source": [
        "import numpy as np"
      ]
    },
    {
      "cell_type": "code",
      "source": [
        "def pfm(g,x,imax=100,tol=1e-8):\n",
        "  cumple=False\n",
        "  k=0\n",
        "  while (not cumple and k<imax):\n",
        "    x0=x.copy()\n",
        "    x=g(x0)\n",
        "    \n",
        "    norma=np.linalg.norm(x-x0)\n",
        "    print(x,norma)\n",
        "    cumple=norma<tol\n",
        "    k+=1\n",
        "  if k<imax:\n",
        "    return x\n",
        "  else:\n",
        "    print('No converge')"
      ],
      "metadata": {
        "id": "NMMRiJ4XKGv4"
      },
      "execution_count": 2,
      "outputs": []
    },
    {
      "cell_type": "code",
      "source": [
        "def g(x):\n",
        "  x1,x2,x3=x\n",
        "  g1=np.cos(x2*x3)/3+1/6\n",
        "  g2=np.sqrt(x1**2+np.sin(x3)+1.06)/9-0.1\n",
        "  g3=-np.exp(-x1*x2)/20-(10*np.pi-3)/60\n",
        "  return np.array([g1,g2,g3])"
      ],
      "metadata": {
        "id": "i9PX-o46KPA-"
      },
      "execution_count": 5,
      "outputs": []
    },
    {
      "cell_type": "code",
      "source": [
        "x=np.array([0,0,0])\n",
        "\n",
        "sol=pfm(g,x,tol=1e-10)\n",
        "sol"
      ],
      "metadata": {
        "colab": {
          "base_uri": "https://localhost:8080/"
        },
        "id": "LHrpOD-oMAWh",
        "outputId": "ac57fc92-a4e6-47d5-f19a-74072a4fbe77"
      },
      "execution_count": 6,
      "outputs": [
        {
          "output_type": "stream",
          "name": "stdout",
          "text": [
            "[ 0.5         0.01439589 -0.52359878] 0.7241290765257544\n",
            "[ 0.49999053  0.         -0.52324017] 0.014400359345972486\n",
            "[ 5.00000000e-01  1.85861736e-05 -5.23598776e-01] 0.0003592112676262878\n",
            "[ 0.5         0.         -0.52359831] 1.8591980819367472e-05\n",
            "[ 5.00000000e-01  2.48385687e-08 -5.23598776e-01] 4.65315596135859e-07\n",
            "[ 0.5         0.         -0.52359877] 2.4846329499278034e-08\n",
            "[ 5.00000000e-01  3.31957239e-11 -5.23598776e-01] 6.218508303745252e-10\n",
            "[ 0.5         0.         -0.52359878] 3.3206095956114756e-11\n"
          ]
        },
        {
          "output_type": "execute_result",
          "data": {
            "text/plain": [
              "array([ 0.5       ,  0.        , -0.52359878])"
            ]
          },
          "metadata": {},
          "execution_count": 6
        }
      ]
    },
    {
      "cell_type": "markdown",
      "source": [
        "Resuelva el siguiente sistema de ecuaciones no lineales, utilizando el m\\'etodo de Newton-Raphson multivariable\n",
        "\n",
        "$$\n",
        "f_1(x_1,x_2)=2x_1-x_2-e^{-x_1}=0\\\\\n",
        "f_2(x_1,x_2)=-x_1+2x_2-e^{-x_2}=0\n",
        "$$\n",
        "\n",
        "Obtenemos el Jacobiano del sistema:\n",
        "\n",
        "$$\n",
        "\\begin{pmatrix}\n",
        "\\frac{\\partial f_1}{\\partial x_1}=2 + e^{-x_1} & \\frac{\\partial f_1}{\\partial x_2}=-1\\\\\n",
        "\\frac{\\partial f_2}{\\partial x_1}=-1 & \\frac{\\partial f_2}{\\partial x_2} =2 + e^{-x_2}\\\\\n",
        "\\end{pmatrix}\n",
        "$$"
      ],
      "metadata": {
        "id": "skR7zUFnPhfT"
      }
    },
    {
      "cell_type": "code",
      "source": [
        "import numpy as np\n",
        "\n",
        "def newtonRaphsonMV(F,J,x,imax =100,tol=1e-8):\n",
        "  cumple = False\n",
        "  k=0\n",
        "  while ( not cumple and k< imax ):\n",
        "    deltax =np.linalg.solve(J(x),-F(x))\n",
        "    x = x + deltax\n",
        "    print ( f' iteracion :{k} - > {x} ')\n",
        "    cumple =np.linalg.norm(F(x)) <= tol\n",
        "    k +=1\n",
        "  if k< imax :\n",
        "    return x\n",
        "  else:\n",
        "    raise ValueError ( 'La funcion no converge ')"
      ],
      "metadata": {
        "id": "tdcz1oi5MG2X"
      },
      "execution_count": null,
      "outputs": []
    },
    {
      "cell_type": "code",
      "source": [
        "def f(x):\n",
        "  x1,x2=x\n",
        "  return np.array([2*x1-x2-np.exp(-x1),\\\n",
        "                   -x1 + 2*x2 - np. exp (-x2) ])"
      ],
      "metadata": {
        "id": "vCuTVj-ZMU2y"
      },
      "execution_count": null,
      "outputs": []
    },
    {
      "cell_type": "code",
      "source": [
        "def j(x):\n",
        "  x1,x2=x\n",
        "  return np.array([[2 + np.exp(-x1),-1],\\\n",
        "                   [-1, 2 + np.exp (-x2) ]])"
      ],
      "metadata": {
        "id": "-UzK562bMVpJ"
      },
      "execution_count": null,
      "outputs": []
    },
    {
      "cell_type": "code",
      "source": [
        "x0=np.array([-5.,-5.])\n",
        "raiz = newtonRaphsonMV(f,j,x0)\n",
        "raiz"
      ],
      "metadata": {
        "colab": {
          "base_uri": "https://localhost:8080/"
        },
        "id": "JSGKSlECMZQg",
        "outputId": "8cdbe514-f5d2-40ae-dc15-4bcc990b26b0"
      },
      "execution_count": null,
      "outputs": [
        {
          "output_type": "stream",
          "name": "stdout",
          "text": [
            " iteracion :0 - > [-3.9732286 -3.9732286] \n",
            " iteracion :1 - > [-2.91832728 -2.91832728] \n",
            " iteracion :2 - > [-1.82000345 -1.82000345] \n",
            " iteracion :3 - > [-0.70566754 -0.70566754] \n",
            " iteracion :4 - > [0.19703885 0.19703885] \n",
            " iteracion :5 - > [0.53974367 0.53974367] \n",
            " iteracion :6 - > [0.56700632 0.56700632] \n",
            " iteracion :7 - > [0.56714329 0.56714329] \n"
          ]
        },
        {
          "output_type": "execute_result",
          "data": {
            "text/plain": [
              "array([0.56714329, 0.56714329])"
            ]
          },
          "metadata": {},
          "execution_count": 9
        }
      ]
    },
    {
      "cell_type": "code",
      "source": [
        "from scipy.optimize import newton,newton_krylov,anderson,broyden1,broyden2,diagbroyden"
      ],
      "metadata": {
        "id": "VTN7steNMs5E"
      },
      "execution_count": null,
      "outputs": []
    },
    {
      "cell_type": "code",
      "source": [
        "sol=newton(f,x0)\n",
        "sol"
      ],
      "metadata": {
        "colab": {
          "base_uri": "https://localhost:8080/"
        },
        "id": "PuKk2kIoM1Oa",
        "outputId": "9ed1fde0-e39e-43cf-d674-b52b85f8e7e3"
      },
      "execution_count": null,
      "outputs": [
        {
          "output_type": "execute_result",
          "data": {
            "text/plain": [
              "array([0.56714329, 0.56714329])"
            ]
          },
          "metadata": {},
          "execution_count": 11
        }
      ]
    },
    {
      "cell_type": "code",
      "source": [
        "sol=newton_krylov(f,x0)\n",
        "sol"
      ],
      "metadata": {
        "colab": {
          "base_uri": "https://localhost:8080/"
        },
        "id": "_GawfjjMNAfD",
        "outputId": "5778dd01-fb3e-4382-ec3c-894defe7b4b2"
      },
      "execution_count": null,
      "outputs": [
        {
          "output_type": "execute_result",
          "data": {
            "text/plain": [
              "array([0.56714329, 0.56714329])"
            ]
          },
          "metadata": {},
          "execution_count": 14
        }
      ]
    },
    {
      "cell_type": "code",
      "source": [
        "sol=anderson(f,x0)\n",
        "sol"
      ],
      "metadata": {
        "colab": {
          "base_uri": "https://localhost:8080/"
        },
        "id": "kp5v_zQYNlHd",
        "outputId": "2930de5b-1825-422d-8c7b-54259d329ea5"
      },
      "execution_count": null,
      "outputs": [
        {
          "output_type": "execute_result",
          "data": {
            "text/plain": [
              "array([0.56714315, 0.56714315])"
            ]
          },
          "metadata": {},
          "execution_count": 16
        }
      ]
    },
    {
      "cell_type": "code",
      "source": [
        "sol=broyden1(f,x0)\n",
        "sol"
      ],
      "metadata": {
        "colab": {
          "base_uri": "https://localhost:8080/"
        },
        "id": "9vWvpCXZNoDo",
        "outputId": "d572bb90-a911-4f72-efdb-f5200ccdd8b1"
      },
      "execution_count": null,
      "outputs": [
        {
          "output_type": "execute_result",
          "data": {
            "text/plain": [
              "array([0.56714177, 0.56714177])"
            ]
          },
          "metadata": {},
          "execution_count": 21
        }
      ]
    },
    {
      "cell_type": "code",
      "source": [
        "sol=broyden2(f,x0)\n",
        "sol"
      ],
      "metadata": {
        "colab": {
          "base_uri": "https://localhost:8080/"
        },
        "id": "QkX9izY_OFF1",
        "outputId": "568c7fbd-3032-4cd4-e26e-01add251a91f"
      },
      "execution_count": null,
      "outputs": [
        {
          "output_type": "execute_result",
          "data": {
            "text/plain": [
              "array([0.56714177, 0.56714177])"
            ]
          },
          "metadata": {},
          "execution_count": 23
        }
      ]
    },
    {
      "cell_type": "code",
      "source": [
        "sol=diagbroyden(f,x0)\n",
        "sol"
      ],
      "metadata": {
        "colab": {
          "base_uri": "https://localhost:8080/"
        },
        "id": "DmOE-5HrOGaw",
        "outputId": "347728f5-26ea-44a1-a8db-e78f0697e97b"
      },
      "execution_count": null,
      "outputs": [
        {
          "output_type": "execute_result",
          "data": {
            "text/plain": [
              "array([0.56714057, 0.56714057])"
            ]
          },
          "metadata": {},
          "execution_count": 24
        }
      ]
    }
  ]
}