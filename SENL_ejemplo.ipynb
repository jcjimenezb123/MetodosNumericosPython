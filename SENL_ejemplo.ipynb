{
  "nbformat": 4,
  "nbformat_minor": 0,
  "metadata": {
    "colab": {
      "name": "SENL.ipynb",
      "provenance": [],
      "authorship_tag": "ABX9TyM73ipVd1N2Bjr0s+DpJIRN",
      "include_colab_link": true
    },
    "kernelspec": {
      "name": "python3",
      "display_name": "Python 3"
    },
    "language_info": {
      "name": "python"
    }
  },
  "cells": [
    {
      "cell_type": "markdown",
      "metadata": {
        "id": "view-in-github",
        "colab_type": "text"
      },
      "source": [
        "<a href=\"https://colab.research.google.com/github/jcjimenezb123/MetodosNumericosPython/blob/master/SENL_ejemplo.ipynb\" target=\"_parent\"><img src=\"https://colab.research.google.com/assets/colab-badge.svg\" alt=\"Open In Colab\"/></a>"
      ]
    },
    {
      "cell_type": "markdown",
      "source": [
        "Según el modelo de Wilson las expresiones\n",
        "de los coeficientes de actividad a dilución infinita $\\gamma_i^{\\infty}$ de una mezcla\n",
        "binaria están dadas por las expresiones:\n",
        "\n",
        "$$\n",
        "ln(\\gamma_1^{\\infty})=1-ln(\\Lambda_{12})-\\Lambda_{21}\\\\\n",
        "ln(\\gamma_2^{\\infty})=1-ln(\\Lambda_{21})-\\Lambda_{12}\n",
        "$$\n",
        "\n",
        "donde $\\Lambda_{12}$ y $\\Lambda_{21}$ son los parámetros binarios de la mezcla. Se desea saber con el\n",
        "modelo de Wilson el valor de los parámetros binarios en el caso de una mezcla binaria ideal en la que los coeficientes de actividad\n",
        "a dilución infinita son \n",
        "$\\gamma_1^{\\infty} = \\gamma_2^{\\infty} = 1.091$"
      ],
      "metadata": {
        "id": "tXkLYsa_53I2"
      }
    },
    {
      "cell_type": "code",
      "metadata": {
        "id": "U6Gmd_8koIj-"
      },
      "source": [
        "import numpy as np"
      ],
      "execution_count": 1,
      "outputs": []
    },
    {
      "cell_type": "code",
      "metadata": {
        "id": "gjJl-Kebm1-S"
      },
      "source": [
        "def pfm(g,x,imax=50,tol=1e-8):\n",
        "  cumple=False\n",
        "  k=0\n",
        "  while (not cumple and k<imax):\n",
        "    x0=x.copy()\n",
        "    x=g(x0)\n",
        "    \n",
        "    norma=np.linalg.norm(x-x0)\n",
        "    print(x,norma)\n",
        "    cumple=norma<tol\n",
        "    k+=1\n",
        "\n",
        "  return x"
      ],
      "execution_count": 4,
      "outputs": []
    },
    {
      "cell_type": "code",
      "metadata": {
        "id": "y95sjUw4pL2Q"
      },
      "source": [
        "def g(x):\n",
        "  x1,x2=x\n",
        "  L1=L2=1.091\n",
        "  g1=1-np.log(L2)-np.log(x2)\n",
        "  g2=1-np.log(L1)-np.log(x1)\n",
        "  return np.array([g1,g2])"
      ],
      "execution_count": 6,
      "outputs": []
    },
    {
      "cell_type": "code",
      "metadata": {
        "colab": {
          "base_uri": "https://localhost:8080/"
        },
        "id": "hltvgQBorGz9",
        "outputId": "86cf1432-d136-44da-c63f-ec1f05c3703c"
      },
      "source": [
        "x=np.array([0.956,0.956])\n",
        "\n",
        "sol=pfm(g,x,tol=1e-10)\n",
        "sol"
      ],
      "execution_count": 8,
      "outputs": [
        {
          "output_type": "stream",
          "name": "stdout",
          "text": [
            "[0.95790266 0.95790266] 0.0026907662752283395\n",
            "[0.95591441 0.95591441] 0.002811811926670553\n",
            "[0.95799219 0.95799219] 0.002938434385321792\n",
            "[0.95582094 0.95582094] 0.003070615395668053\n",
            "[0.95808998 0.95808998] 0.003208899191576829\n",
            "[0.95571888 0.95571888] 0.0033532393437253243\n",
            "[0.95819676 0.95819676] 0.003504259114081899\n",
            "[0.95560743 0.95560743] 0.0036618762049036627\n",
            "[0.95831339 0.95831339] 0.0038268057522146555\n",
            "[0.95548572 0.95548572] 0.003998920204709948\n",
            "[0.95844075 0.95844075] 0.004179041673827666\n",
            "[0.95535283 0.95535283] 0.0043669859342797554\n",
            "[0.95857985 0.95857985] 0.004563699843927649\n",
            "[0.95520771 0.95520771] 0.004768928634894364\n",
            "[0.95873176 0.95873176] 0.0049837648443076836\n",
            "[0.95504924 0.95504924] 0.00520786635056379\n",
            "[0.95889767 0.95889767] 0.00544249604969204\n",
            "[0.95487621 0.95487621] 0.0056872041210387\n",
            "[0.95907886 0.95907886] 0.00594345294138777\n",
            "[0.95468726 0.95468726] 0.006210660403629177\n",
            "[0.95927676 0.95927676] 0.006490522756341905\n",
            "[0.95448095 0.95448095] 0.006782295929735244\n",
            "[0.95949289 0.95949289] 0.007087950688052661\n",
            "[0.95425567 0.95425567] 0.007406545221222667\n",
            "[0.95972894 0.95972894] 0.0077403728761130585\n",
            "[0.95400968 0.95400968] 0.008088251012829971\n",
            "[0.95998675 0.95998675] 0.008452852443501847\n",
            "[0.95374109 0.95374109] 0.008832701849922598\n",
            "[0.96026833 0.96026833] 0.00923091886527336\n",
            "[0.95344781 0.95344781] 0.009645673156297729\n",
            "[0.96057588 0.96057588] 0.010080610979301675\n",
            "[0.95312759 0.95312759] 0.010533472094666778\n",
            "[0.96091179 0.96091179] 0.01100852397947542\n",
            "[0.95277795 0.95277795] 0.011502986573191683\n",
            "[0.96127869 0.96127869] 0.012021860764559085\n",
            "[0.9523962 0.9523962] 0.012561738785354038\n",
            "[0.96167945 0.96167945] 0.013128488052209102\n",
            "[0.95197939 0.95197939] 0.013717943707905356\n",
            "[0.96211718 0.96211718] 0.014336997707808203\n",
            "[0.95152432 0.95152432] 0.014980573023122055\n",
            "[0.96259533 0.96259533] 0.015656773782385808\n",
            "[0.95102747 0.95102747] 0.016359424977637496\n",
            "[0.96311763 0.96311763] 0.017098065803550024\n",
            "[0.95048502 0.95048502] 0.017865200741379535\n",
            "[0.96368817 0.96368817] 0.018672068918817643\n",
            "[0.94989281 0.94989281] 0.019509587887399288\n",
            "[0.96431143 0.96431143] 0.020391011552893704\n",
            "[0.94924627 0.94924627] 0.021305351677565136\n",
            "[0.9649923 0.9649923] 0.022268251310414548\n",
            "[0.94854045 0.94854045] 0.02326643491138851\n"
          ]
        },
        {
          "output_type": "execute_result",
          "data": {
            "text/plain": [
              "array([0.94854045, 0.94854045])"
            ]
          },
          "metadata": {},
          "execution_count": 8
        }
      ]
    }
  ]
}