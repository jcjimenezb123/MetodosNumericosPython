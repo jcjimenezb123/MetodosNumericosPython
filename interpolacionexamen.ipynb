{
  "nbformat": 4,
  "nbformat_minor": 0,
  "metadata": {
    "colab": {
      "provenance": [],
      "authorship_tag": "ABX9TyPW/4FL6QX8Z5UoPCH9OwxB",
      "include_colab_link": true
    },
    "kernelspec": {
      "name": "python3",
      "display_name": "Python 3"
    },
    "language_info": {
      "name": "python"
    }
  },
  "cells": [
    {
      "cell_type": "markdown",
      "metadata": {
        "id": "view-in-github",
        "colab_type": "text"
      },
      "source": [
        "<a href=\"https://colab.research.google.com/github/jcjimenezb123/MetodosNumericosPython/blob/master/interpolacionexamen.ipynb\" target=\"_parent\"><img src=\"https://colab.research.google.com/assets/colab-badge.svg\" alt=\"Open In Colab\"/></a>"
      ]
    },
    {
      "cell_type": "markdown",
      "source": [
        "Problema 1.\n",
        "---\n",
        "En una planta se bombea esencia de trementina, 60 ◦C, desde la base de una\n",
        "columna de fraccionamiento hasta un gran tanque de almacenamiento descubierto.\n",
        "La columna opera a 1,29 atmósferas . En la siguiente tabla se representan los datos\n",
        "relativos los litros por hora que puede bombear la bomba en función de la potencia\n",
        "en watios a la que es necesario que trabaje:\n",
        "\n",
        "|Q (l/h) |500| 700| 900| 1100| 1300| 1500| 1700| 1900|\n",
        "|---|---|---|---|---|---|---|---|---|\n",
        "|N (w)| 365| 361.6| 370.64| 379.68| 384.46| 395.5| 395.95 |397|\n",
        "\n",
        "  Se desea saber si la bomba será capaz de impulsar un caudal de 1000 l/h de trementina hasta el tanque de almacenamiento trabajando a un máximo de 373 w.\n",
        "\n",
        "  Use interpolación polinómica (Newton o Lagrange)."
      ],
      "metadata": {
        "id": "gPvDIyGzHpKD"
      }
    },
    {
      "cell_type": "code",
      "execution_count": null,
      "metadata": {
        "id": "QGDrT6bLHojA"
      },
      "outputs": [],
      "source": []
    },
    {
      "cell_type": "markdown",
      "source": [
        "Problema 2.\n",
        "---\n",
        "El pentóxido de dinitrógeno gaseoso puro reacciona en un reactor intermitente\n",
        "según la reacción estequiométrica\n",
        "$$\n",
        "N_2O_5\\rightarrow 2N_2O_4+O_2\n",
        "$$\n",
        "Se cuenta con la concentración de pentóxido de dinitrógeno en el tiempo en segundos:\n",
        "\n",
        "|T (s)| 0| 200| 400| 650| 1100| 1900| 2300|\n",
        "|---|---|---|---|---|---|---|---|\n",
        "|C |5.5| 5.04| 4.36| 3.45| 2.37| 1.32| 0.71|\n",
        "\n",
        "\n",
        "Si lo tenemos en el reactor un tiempo máximo de 35 minutos, ¿cuál\n",
        "es la concentración de pentóxido de dinitrógeno que queda sin reaccionar?\n",
        "\n",
        "Use interpolación spline cúbico."
      ],
      "metadata": {
        "id": "5vqLQOlWJB_L"
      }
    },
    {
      "cell_type": "code",
      "source": [],
      "metadata": {
        "id": "El5SZA7wUvjQ"
      },
      "execution_count": null,
      "outputs": []
    }
  ]
}