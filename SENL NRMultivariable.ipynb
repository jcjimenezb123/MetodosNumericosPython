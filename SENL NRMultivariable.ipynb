{
  "nbformat": 4,
  "nbformat_minor": 0,
  "metadata": {
    "colab": {
      "name": "Untitled17.ipynb",
      "provenance": [],
      "authorship_tag": "ABX9TyO3EkH6WpSpjcjJ3XPUzTrV",
      "include_colab_link": true
    },
    "kernelspec": {
      "name": "python3",
      "display_name": "Python 3"
    },
    "language_info": {
      "name": "python"
    }
  },
  "cells": [
    {
      "cell_type": "markdown",
      "metadata": {
        "id": "view-in-github",
        "colab_type": "text"
      },
      "source": [
        "<a href=\"https://colab.research.google.com/github/jcjimenezb123/MetodosNumericosPython/blob/master/SENL%20NRMultivariable.ipynb\" target=\"_parent\"><img src=\"https://colab.research.google.com/assets/colab-badge.svg\" alt=\"Open In Colab\"/></a>"
      ]
    },
    {
      "cell_type": "code",
      "metadata": {
        "id": "pIruJTQ-jHXh"
      },
      "source": [
        "import numpy as np\n",
        "\n",
        "def newtonRaphsonMV(F,J,x,imax =100,tol=1e-8):\n",
        "  cumple = False\n",
        "  k=0\n",
        "  while ( not cumple and k< imax ):\n",
        "    deltax =np.linalg.solve(J(x),-F(x))\n",
        "    x = x + deltax\n",
        "    print ( f' iteracion :{k} - > {x} ')\n",
        "    cumple =np.linalg.norm(F(x)) <= tol\n",
        "    k +=1\n",
        "  if k< imax :\n",
        "    return x\n",
        "  else:\n",
        "    raise ValueError ( 'La funcion no converge ')"
      ],
      "execution_count": 2,
      "outputs": []
    },
    {
      "cell_type": "code",
      "metadata": {
        "id": "Eu8uQ7C9j7O5"
      },
      "source": [
        "def f(x):\n",
        "  x1,x2=x\n",
        "  return np.array([2*x1-x2-np.exp(-x1),\\\n",
        "                   -x1 + 2*x2 - np. exp (-x2) ])"
      ],
      "execution_count": 3,
      "outputs": []
    },
    {
      "cell_type": "code",
      "metadata": {
        "id": "U8Vein0WkVZL"
      },
      "source": [
        "def j(x):\n",
        "  x1,x2=x\n",
        "  return np.array([[2 + np.exp(-x1),-1],\\\n",
        "                   [-1, 2 + np.exp (-x2) ]])"
      ],
      "execution_count": 4,
      "outputs": []
    },
    {
      "cell_type": "code",
      "metadata": {
        "colab": {
          "base_uri": "https://localhost:8080/"
        },
        "id": "mQEj23ljkp7h",
        "outputId": "bf5a7a0f-971e-493f-b114-71e949ebed48"
      },
      "source": [
        "x0=np.array([-5.,-5.])\n",
        "raiz = newtonRaphsonMV(f,j,x0)\n",
        "\n",
        "print ( f'f ({raiz}) ={f(raiz)} ')"
      ],
      "execution_count": 5,
      "outputs": [
        {
          "output_type": "stream",
          "text": [
            " iteracion :0 - > [-3.9732286 -3.9732286] \n",
            " iteracion :1 - > [-2.91832728 -2.91832728] \n",
            " iteracion :2 - > [-1.82000345 -1.82000345] \n",
            " iteracion :3 - > [-0.70566754 -0.70566754] \n",
            " iteracion :4 - > [0.19703885 0.19703885] \n",
            " iteracion :5 - > [0.53974367 0.53974367] \n",
            " iteracion :6 - > [0.56700632 0.56700632] \n",
            " iteracion :7 - > [0.56714329 0.56714329] \n",
            "f ([0.56714329 0.56714329]) =[-5.32062894e-09 -5.32062894e-09] \n"
          ],
          "name": "stdout"
        }
      ]
    }
  ]
}