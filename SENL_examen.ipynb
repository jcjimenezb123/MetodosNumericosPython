{
  "nbformat": 4,
  "nbformat_minor": 0,
  "metadata": {
    "colab": {
      "name": "SENL_examen.ipynb",
      "provenance": [],
      "collapsed_sections": [],
      "authorship_tag": "ABX9TyNWqjRaY0sV+J3kBXc0lsq7",
      "include_colab_link": true
    },
    "kernelspec": {
      "name": "python3",
      "display_name": "Python 3"
    },
    "language_info": {
      "name": "python"
    }
  },
  "cells": [
    {
      "cell_type": "markdown",
      "metadata": {
        "id": "view-in-github",
        "colab_type": "text"
      },
      "source": [
        "<a href=\"https://colab.research.google.com/github/jcjimenezb123/MetodosNumericosPython/blob/master/SENL_examen.ipynb\" target=\"_parent\"><img src=\"https://colab.research.google.com/assets/colab-badge.svg\" alt=\"Open In Colab\"/></a>"
      ]
    },
    {
      "cell_type": "markdown",
      "source": [
        "Según el modelo de Wilson las expresiones\n",
        "de los coeficientes de actividad a dilución infinita $\\gamma_i^{\\infty}$ de una mezcla\n",
        "binaria están dadas por las expresiones:\n",
        "\n",
        "$$\n",
        "ln(\\gamma_1^{\\infty})=1-ln(\\Lambda_{12})-\\Lambda_{21}\\\\\n",
        "ln(\\gamma_2^{\\infty})=1-ln(\\Lambda_{21})-\\Lambda_{12}\n",
        "$$\n",
        "\n",
        "donde $\\Lambda_{12}$ y $\\Lambda_{21}$ son los parámetros binarios de la mezcla. Se desea saber con el\n",
        "modelo de Wilson el valor de los parámetros binarios en el caso de una mezcla binaria ideal en la que los coeficientes de actividad\n",
        "a dilución infinita son  \n",
        "$\\gamma_1^{\\infty} = 7.2$  $\\gamma_2^{\\infty} = 2.74$\n",
        "\n",
        "Tip: Los resultados obtenidos son menores a 1"
      ],
      "metadata": {
        "id": "azT15oxWSvrf"
      }
    },
    {
      "cell_type": "code",
      "execution_count": null,
      "metadata": {
        "id": "3OMXk5VqSndn"
      },
      "outputs": [],
      "source": [
        ""
      ]
    },
    {
      "cell_type": "markdown",
      "source": [
        "Suponga el siguiente grupo de reacciones\n",
        "\n",
        "$$\n",
        "A+B→ C+D\\\\\n",
        "C+B→ X+Y\\\\\n",
        "A+X→Z\n",
        "$$\n",
        "\n",
        "Calcule las concentraciones de equilibrio de cada uno de las especies usando un método numérico,  si inicialmente se introduce una concentración de $C_{A_0}=1.5$ $C_{B_0}=1.5$\n",
        "\n",
        "Las constantes de equilibrio para el sistema son\n",
        "\n",
        "$$\n",
        "K_1=\\frac{C_CC_D}{C_AC_B}=1.06\n",
        "$$\n",
        "\n",
        "$$\n",
        "K_2=\\frac{C_XC_Y}{C_CC_B}=2.63\n",
        "$$\n",
        "\n",
        "\n",
        "$$\n",
        "K_3=\\frac{C_Z}{C_AC_X}=5\n",
        "$$\n",
        "\n",
        "Utilzar grados de avance de\n",
        "cada ecuación. Así, si $ϵ_i$ es el grado de avance de cada una de las reacciones\n",
        "se tiene que\n",
        "\n",
        "$$\n",
        "C_A=C_{A_0}-ϵ_1-ϵ_3\\\\\n",
        "C_B=C_{B_0}-ϵ_1-ϵ_2\\\\\n",
        "C_C=ϵ_1-ϵ_2\\\\\n",
        "C_D=ϵ_1\\\\\n",
        "C_X=ϵ_2-ϵ_3\\\\\n",
        "C_Y=ϵ_2\\\\\n",
        "C_Z=ϵ_3\n",
        "$$\n",
        "\n",
        "Para evitar divisiones por cero conviene pasar los términos que están\n",
        "dividiendo multiplicando y dejar el sistema de ecuaciones de la siguiente\n",
        "manera:\n",
        "\n",
        "$$\n",
        "C_CC_D-1.06C_AC_B=0\\\\\n",
        "C_XC_Y-2.63C_CC_B=0\\\\\n",
        "C_Z-5C_AC_X=0\n",
        "$$\n",
        "\n",
        "Tip: Los resultados obtenidos son menores a 1"
      ],
      "metadata": {
        "id": "3Q-KsTFjSxnW"
      }
    },
    {
      "cell_type": "code",
      "source": [
        ""
      ],
      "metadata": {
        "id": "6ZHtAaOJS9OX"
      },
      "execution_count": null,
      "outputs": []
    }
  ]
}