{
  "nbformat": 4,
  "nbformat_minor": 0,
  "metadata": {
    "colab": {
      "name": "EDO_tarea.ipynb",
      "provenance": [],
      "authorship_tag": "ABX9TyOpTQcEyK1BLqC6uRqg+CgL",
      "include_colab_link": true
    },
    "kernelspec": {
      "name": "python3",
      "display_name": "Python 3"
    },
    "language_info": {
      "name": "python"
    }
  },
  "cells": [
    {
      "cell_type": "markdown",
      "metadata": {
        "id": "view-in-github",
        "colab_type": "text"
      },
      "source": [
        "<a href=\"https://colab.research.google.com/github/jcjimenezb123/MetodosNumericosPython/blob/master/EDO_tarea.ipynb\" target=\"_parent\"><img src=\"https://colab.research.google.com/assets/colab-badge.svg\" alt=\"Open In Colab\"/></a>"
      ]
    },
    {
      "cell_type": "markdown",
      "source": [
        "La concentración de un reactivo $A$ varía con el tiempo según la siguiente ecuación\n",
        "\n",
        "$$\n",
        "\\frac{dC_A}{dt}=-9420e^{-\\frac{3500}{298}}C_A\n",
        "$$\n",
        "\n",
        "que no depende de la temperatura. Se realiza un experimento y al cabo de 25 min se encuentra en el sistema 3.4 mol/l de $A$ ¿cuál era la concentración inicial? Grafique la variación de la concentración con el tiempo."
      ],
      "metadata": {
        "id": "QHQCIceUGTUv"
      }
    },
    {
      "cell_type": "code",
      "source": [
        ""
      ],
      "metadata": {
        "id": "avzhEgeDF3T5"
      },
      "execution_count": null,
      "outputs": []
    },
    {
      "cell_type": "markdown",
      "source": [
        "La concentración de un reactivo $B$ varía con el tiempo según la siguiente ecuación \n",
        "\n",
        "$$\n",
        "\\frac{dC_B}{dt}=-5\\cdot 10^{15}e^{-\\frac{15000}{T}}C_B^2\n",
        "$$\n",
        "\n",
        "y la temperatura varía con el tiempo según la ecuación $T=298+5t$. En el sistema se inicia con una concentración de $B=7mol/l$ ¿cuál es la concentración al cabo de 25 min? Grafique la variación de $C_B$ - $t$"
      ],
      "metadata": {
        "id": "iiwrXgaGH_hV"
      }
    },
    {
      "cell_type": "code",
      "source": [
        ""
      ],
      "metadata": {
        "id": "i5VVclRUJaFc"
      },
      "execution_count": null,
      "outputs": []
    }
  ]
}