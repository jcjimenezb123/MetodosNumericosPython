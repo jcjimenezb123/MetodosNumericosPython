{
  "nbformat": 4,
  "nbformat_minor": 0,
  "metadata": {
    "colab": {
      "name": "ExamenIntegrales.ipynb",
      "provenance": [],
      "collapsed_sections": [],
      "include_colab_link": true
    },
    "kernelspec": {
      "name": "python3",
      "display_name": "Python 3"
    }
  },
  "cells": [
    {
      "cell_type": "markdown",
      "metadata": {
        "id": "view-in-github",
        "colab_type": "text"
      },
      "source": [
        "<a href=\"https://colab.research.google.com/github/jcjimenezb123/MetodosNumericosPython/blob/master/ExamenIntegrales.ipynb\" target=\"_parent\"><img src=\"https://colab.research.google.com/assets/colab-badge.svg\" alt=\"Open In Colab\"/></a>"
      ]
    },
    {
      "cell_type": "markdown",
      "metadata": {
        "id": "pbGgXpQAAqbG"
      },
      "source": [
        "#Métodos Numéricos\n",
        "\n",
        "#Examen - Ecuaciones no lineales\n",
        "\n",
        "![UNAM](https://drive.google.com/uc?export=view&id=1GATLSo6jWPCg6vd4M3_aK5bbXRm9a_4K)\n",
        "---\n",
        "\n",
        "Nombre: ***$\\color{blue}{\\text{ Mi nombre } }$***\n",
        "\n",
        "Num. Cuenta: ***$\\color{blue}{ 000000 }$***\n",
        "\n",
        "---\n"
      ]
    },
    {
      "cell_type": "markdown",
      "metadata": {
        "id": "3ldHEN7_CKOX"
      },
      "source": [
        "##Teoria\n",
        "Reponda **Veradero** o **Falso**\n",
        "\n",
        "1. Al incrementar el número de trapecios, en la Regla compuesta, da un resultado más preciso  ***$\\color{red}{ Respuesta }$***\n",
        "1. En general, las reglas de Simpson son menos precisas que la Regla de los Trapecios ***$\\color{red}{ Respuesta }$***\n",
        "1. La regla de Simpson 1/3 aproxima la integral con un polinomio de grado 2 ***$\\color{red}{ Respuesta }$***\n",
        "1. Las reglas de Simpson y Trapecios son métodos de Newton-Cotes ***$\\color{red}{ Respuesta }$***\n",
        "1. La cuadratura de Gauss-Legendre de n puntos se obtiene con la fórmula ***$\\color{red}{Respuesta}$***\n",
        "$$\n",
        "\\int_a^bf(x)dx\\approx\\frac{b-a}{2}\\sum_{i=1}^nw_i f\\left(\\frac{a+b}{2}+\\frac{b-a}{2}z_i \\right)\n",
        "$$\n",
        " \n",
        " \n"
      ]
    },
    {
      "cell_type": "markdown",
      "metadata": {
        "id": "bcZ94LSDDFLM"
      },
      "source": [
        "##Problema 1\n",
        "\n",
        "La longitud de un intercambiador de calor de tubos concéntricos, cuando se usa vapor saturado a temperatura $T_S$  para calentar un fluido, está dada por\n",
        "\n",
        "$$\n",
        "L=\\frac{m}{D\\pi}\\int_{T_0}^T\\frac{Cp}{h\\left(T_S-T\\right)}dT\n",
        "$$ \n",
        "\n",
        "Donde $h=\\frac{0.023k}{D}\\left(\\frac{4m}{\\pi D\\mu}\\right)^{0.8}\\left(\\frac{\\mu Cp}{k}\\right)^{0.33}$, $m$ es la masa, $k$ es la conductividad termica $i$, $\\mu$ es viscosidad, $Cp$ es la capacidad calor[ifica a presi[on constante, todas del fluido fr[io.\n",
        "\n",
        "Para un flujo cuyas propiedades est[an dadas por\n",
        "\n",
        "$$\n",
        "Cp(T)=0.53+0.0006T-6.25\\times 10^{-6}T^2 \\frac{BTU}{lb}F\n",
        "$$\n",
        "\n",
        "$$\n",
        "\\mu (T)=30+0.09T-0.00095T^2\\frac{lb}{ft hr}\n",
        "$$\n",
        "\n",
        "$$\n",
        "k=0.153\\frac{BTU}{hrftF}\n",
        "$$\n",
        "\n",
        "Cu[al ser[a la longitud necesaria de los tubos para calentar el fluido de $20F$ a $60F$ Use cuadratura de Gauss-Legendre para lacular la integral.\n",
        "\n",
        "$m=1500\\frac{lb}{hr}$, $T_S=320F$, $D=0.25ft$\n"
      ]
    },
    {
      "cell_type": "code",
      "metadata": {
        "id": "Vers7tCBcRgo"
      },
      "source": [
        "#Haga los import necesarios\n"
      ],
      "execution_count": null,
      "outputs": []
    },
    {
      "cell_type": "markdown",
      "metadata": {
        "id": "y6oY0rPsTvIB"
      },
      "source": [
        "1. Defina la ecuación que se debe resolver"
      ]
    },
    {
      "cell_type": "code",
      "metadata": {
        "id": "sxEebX00Aoba"
      },
      "source": [
        "def f(T): \n",
        "  #defina los valores de las constantes que se requieren\n",
        "  return #defina aqui la ecuacion en funcion de T"
      ],
      "execution_count": null,
      "outputs": []
    },
    {
      "cell_type": "markdown",
      "metadata": {
        "id": "SF1L9WZgT8oh"
      },
      "source": [
        "2. Grafique la función en los limites de integraci[on"
      ]
    },
    {
      "cell_type": "code",
      "metadata": {
        "id": "bmNbWSZaUBOk"
      },
      "source": [
        ""
      ],
      "execution_count": null,
      "outputs": []
    },
    {
      "cell_type": "markdown",
      "metadata": {
        "id": "UZp3jMv-T1aA"
      },
      "source": [
        "3. Use el método de **Cuadratura** para obtener la integral"
      ]
    },
    {
      "cell_type": "code",
      "metadata": {
        "id": "bzWmMcCLSvmP"
      },
      "source": [
        ""
      ],
      "execution_count": null,
      "outputs": []
    },
    {
      "cell_type": "markdown",
      "metadata": {
        "id": "hXbSDvn_UGQy"
      },
      "source": [
        "4. Reporte la solución "
      ]
    }
  ]
}