{
  "nbformat": 4,
  "nbformat_minor": 0,
  "metadata": {
    "colab": {
      "provenance": [],
      "authorship_tag": "ABX9TyOfnnL+4O6NN1/r+rglFp+c",
      "include_colab_link": true
    },
    "kernelspec": {
      "name": "python3",
      "display_name": "Python 3"
    },
    "language_info": {
      "name": "python"
    }
  },
  "cells": [
    {
      "cell_type": "markdown",
      "metadata": {
        "id": "view-in-github",
        "colab_type": "text"
      },
      "source": [
        "<a href=\"https://colab.research.google.com/github/jcjimenezb123/MetodosNumericosPython/blob/master/09ED2O.ipynb\" target=\"_parent\"><img src=\"https://colab.research.google.com/assets/colab-badge.svg\" alt=\"Open In Colab\"/></a>"
      ]
    },
    {
      "cell_type": "markdown",
      "metadata": {
        "id": "uybyvSNwv2be"
      },
      "source": [
        "#Método del disparo"
      ]
    },
    {
      "cell_type": "code",
      "metadata": {
        "id": "xnaWo6kH8s2u"
      },
      "source": [
        "import numpy as np\n",
        "from scipy.integrate import odeint\n",
        "import plotly.express as px"
      ],
      "execution_count": null,
      "outputs": []
    },
    {
      "cell_type": "markdown",
      "source": [
        "Sistema de ecuaciones resultado de la ecuación de 2do orden"
      ],
      "metadata": {
        "id": "r6apUBKSbMOU"
      }
    },
    {
      "cell_type": "code",
      "metadata": {
        "id": "7BvHs3IE74Ep"
      },
      "source": [
        "def f(U,L):\n",
        "  u1,u2=U\n",
        "  a=0.01\n",
        "  Ta=25\n",
        "  du1dx=u2\n",
        "  du2dx=a*(u1-Ta)\n",
        "\n",
        "  return np.array([]) #<--- retornar la ec. dif y la segunda derivada du1dx,du2dx"
      ],
      "execution_count": null,
      "outputs": []
    },
    {
      "cell_type": "code",
      "metadata": {
        "id": "B-eo9cJc8zg7"
      },
      "source": [
        "L= #<--- longitud de la barra\n",
        "Tx1= #<--- temperatura extremo izquierdo\n",
        "Tx2= #<--- temperatura extremo derecho, el médoto debería llegar a este valor.\n",
        "longitud=np.linspace(0,L)\n",
        "\n",
        "dT= #<--- suponer un primer valor, por ejemplo 10\n",
        "\n",
        "U10=odeint(f,[],longitud) #<--- calcular el primer tiro con el valor inicial de la temperatura del lado izquierdo y el valor supuesto, Tx1,dT\n",
        "U10"
      ],
      "execution_count": null,
      "outputs": []
    },
    {
      "cell_type": "code",
      "metadata": {
        "id": "lykaV3cXEJe_"
      },
      "source": [
        "px.scatter(x=longitud,y=U10[:,0]) #se grafica para observar el comportamiento"
      ],
      "execution_count": null,
      "outputs": []
    },
    {
      "cell_type": "code",
      "metadata": {
        "id": "WtqL9PQV9l-E"
      },
      "source": [
        "dT= #<--- suponer otro valor para el segundo tipo, por ejemplo 20\n",
        "\n",
        "U20=odeint(f,[],longitud) #<--- dar los valores iniciales Tx1,dT\n",
        "U20"
      ],
      "execution_count": null,
      "outputs": []
    },
    {
      "cell_type": "code",
      "metadata": {
        "id": "iEsOX8pBEP0J"
      },
      "source": [
        "fig=px.line(x=longitud,y=U10[:,0]) #grafica el primer tiro\n",
        "fig.add_scatter(x=longitud,y=U20[:,0]) #graficar el segundo tiro\n",
        "fig.show()"
      ],
      "execution_count": null,
      "outputs": []
    },
    {
      "cell_type": "code",
      "metadata": {
        "id": "lUJuX56R-ZId"
      },
      "source": [
        "dT=np.interp(200,[U10[-1,0],U20[-1,0]],[10,20]) #calcular la interpolación de ambos tiros\n",
        "dT"
      ],
      "execution_count": null,
      "outputs": []
    },
    {
      "cell_type": "code",
      "metadata": {
        "id": "DI5ZhlFC_exA"
      },
      "source": [
        "U=odeint(f,[],longitud) #<--- dar los valores iniciales Tx1,dT\n",
        "U"
      ],
      "execution_count": null,
      "outputs": []
    },
    {
      "cell_type": "code",
      "metadata": {
        "id": "p763xwsTBHhN"
      },
      "source": [
        "px.scatter(x=longitud,y=U[:,0]) #graficar el tercer tiro"
      ],
      "execution_count": null,
      "outputs": []
    },
    {
      "cell_type": "markdown",
      "metadata": {
        "id": "lMeQmhh-v-Jh"
      },
      "source": [
        "#Método de diferencias finitas"
      ]
    },
    {
      "cell_type": "code",
      "metadata": {
        "id": "7pQwEebOBOvN"
      },
      "source": [
        "a=0.01\n",
        "n=100 #numero de puntos intermedios\n",
        "L=10 #longitud de la barra\n",
        "longitud=np.linspace(0,L,n+1) #crear el vector de las particiones\n",
        "h=L/n\n",
        "Ta=25\n",
        "T0=50\n",
        "Tn=200"
      ],
      "execution_count": null,
      "outputs": []
    },
    {
      "cell_type": "code",
      "source": [
        "#crear la matriz de coeficientes tridiagonal\n",
        "A=np.diag([1]*(n-2),-1) + np.diag([-(2+a*h**2)]*(n-1)) + np.diag([1]*(n-2),1)\n",
        "A"
      ],
      "metadata": {
        "id": "Of45yFD4-ABx"
      },
      "execution_count": null,
      "outputs": []
    },
    {
      "cell_type": "code",
      "source": [
        "#crear el vector de constantes\n",
        "b=np.array([-a*h**2*Ta]*(n-1))\n",
        "#reemplazar el primero y ultimo valor\n",
        "b[0]=b[0]-T0\n",
        "b[-1]=b[-1]-Tn\n",
        "b"
      ],
      "metadata": {
        "id": "EJUXKtGb_IDY"
      },
      "execution_count": null,
      "outputs": []
    },
    {
      "cell_type": "code",
      "source": [
        "T=np.linalg.solve(A,b) #resolver el sistema para los valores intermedios\n",
        "T=np.append(T0,T) #se pone el valor de la izquierda de la barra\n",
        "T=np.append(T,Tn) #se pone el valor de la derecha de la barra\n",
        "T"
      ],
      "metadata": {
        "id": "K1fGpIgt_9g-"
      },
      "execution_count": null,
      "outputs": []
    },
    {
      "cell_type": "code",
      "metadata": {
        "id": "RrABX0sgoxPa"
      },
      "source": [
        "px.scatter(x=longitud,y=T) #graficar todos los puntos de temperatura de la barra"
      ],
      "execution_count": null,
      "outputs": []
    }
  ]
}