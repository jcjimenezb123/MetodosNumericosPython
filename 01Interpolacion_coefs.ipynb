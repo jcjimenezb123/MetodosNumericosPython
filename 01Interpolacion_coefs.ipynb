{
  "nbformat": 4,
  "nbformat_minor": 0,
  "metadata": {
    "colab": {
      "provenance": [],
      "authorship_tag": "ABX9TyM7b2zceK6JKLaKrorXrYID",
      "include_colab_link": true
    },
    "kernelspec": {
      "name": "python3",
      "display_name": "Python 3"
    },
    "language_info": {
      "name": "python"
    }
  },
  "cells": [
    {
      "cell_type": "markdown",
      "metadata": {
        "id": "view-in-github",
        "colab_type": "text"
      },
      "source": [
        "<a href=\"https://colab.research.google.com/github/jcjimenezb123/MetodosNumericosPython/blob/master/01Interpolacion_coefs.ipynb\" target=\"_parent\"><img src=\"https://colab.research.google.com/assets/colab-badge.svg\" alt=\"Open In Colab\"/></a>"
      ]
    },
    {
      "cell_type": "code",
      "execution_count": 49,
      "metadata": {
        "id": "OJHRmwQR3w6a"
      },
      "outputs": [],
      "source": [
        "import numpy as np\n",
        "from scipy.interpolate import CubicSpline,lagrange\n",
        "import matplotlib.pyplot as plt"
      ]
    },
    {
      "cell_type": "code",
      "source": [
        "x = np.linspace(0, 5, 6)\n",
        "y = x**3+2*x**2+x+1"
      ],
      "metadata": {
        "id": "vFW8XCiv4AXB"
      },
      "execution_count": 50,
      "outputs": []
    },
    {
      "cell_type": "code",
      "source": [
        "lag = lagrange(x, y)\n",
        "xi = 1.5\n",
        "yi = lag(xi)\n",
        "print(lag)\n",
        "print(lag.c)"
      ],
      "metadata": {
        "colab": {
          "base_uri": "https://localhost:8080/"
        },
        "id": "EFcBj-sqFpuL",
        "outputId": "c7a600a0-e174-4ea2-e49b-98fc746c4951"
      },
      "execution_count": 51,
      "outputs": [
        {
          "output_type": "stream",
          "name": "stdout",
          "text": [
            "            4     3     2\n",
            "-5.329e-15 x + 1 x + 2 x + 1 x + 1\n",
            "[-5.32907052e-15  1.00000000e+00  2.00000000e+00  1.00000000e+00\n",
            "  1.00000000e+00]\n"
          ]
        }
      ]
    },
    {
      "cell_type": "code",
      "source": [
        "sc = CubicSpline(x, y)\n",
        "xi = 1.5\n",
        "yi = sc(xi)\n",
        "print(sc.c.T)"
      ],
      "metadata": {
        "colab": {
          "base_uri": "https://localhost:8080/"
        },
        "id": "sXngBkdJ4Npt",
        "outputId": "1e281336-d9ee-4c9f-96d3-5ee2935630d8"
      },
      "execution_count": 52,
      "outputs": [
        {
          "output_type": "stream",
          "name": "stdout",
          "text": [
            "[[  1.   2.   1.   1.]\n",
            " [  1.   5.   8.   5.]\n",
            " [  1.   8.  21.  19.]\n",
            " [  1.  11.  40.  49.]\n",
            " [  1.  14.  65. 101.]]\n"
          ]
        }
      ]
    },
    {
      "cell_type": "code",
      "source": [
        "# Coeficientes de los polinomios por intervalo\n",
        "coefs = sc.c  # Matriz con [d_i, c_i, b_i, a_i] por intervalo\n",
        "\n",
        "# Mostrar coeficientes\n",
        "for i in range(len(x) - 1):\n",
        "    if x[i]<=xi<=x[i+1]:\n",
        "      print(f\"Intervalo [{x[i]}, {x[i+1]}]:\")\n",
        "      #El coeficiente 𝑎 es el valor de 𝑦 en el nodo izquierdo del intervalo.\n",
        "      #Los coeficientes 𝑏,𝑐,𝑑 se calculan para garantizar la suavidad en las derivadas y la continuidad en los intervalos.\n",
        "      d = coefs[0, i]\n",
        "      c = coefs[1, i]\n",
        "      b = coefs[2, i]\n",
        "      a = coefs[3, i]\n",
        "\n",
        "      yii = a + b*(xi-x[i]) + c*(xi-x[i])**2 + d*(xi-x[i])**3\n",
        "      print(f'y = {a:e} + {b:e}*(x-{x[i]}) + {c:e}*(x-{x[i]})**2 + {d:e}*(x-{x[i]})**3')\n",
        "      print(f\"xi = {xi},    yii = {yii} [{yi}]\")"
      ],
      "metadata": {
        "colab": {
          "base_uri": "https://localhost:8080/"
        },
        "id": "OU3ClYEp7TZZ",
        "outputId": "dc7bd44d-e836-4dd9-e92a-a55d6aca7512"
      },
      "execution_count": 53,
      "outputs": [
        {
          "output_type": "stream",
          "name": "stdout",
          "text": [
            "Intervalo [1.0, 2.0]:\n",
            "y = 5.000000e+00 + 8.000000e+00*(x-1.0) + 5.000000e+00*(x-1.0)**2 + 1.000000e+00*(x-1.0)**3\n",
            "xi = 1.5,    yii = 10.375 [10.375]\n"
          ]
        }
      ]
    },
    {
      "cell_type": "code",
      "source": [
        "plt.plot(x, y, 'o')\n",
        "plt.plot(xi, yi, 'o')\n",
        "plt.grid()\n",
        "plt.show()"
      ],
      "metadata": {
        "colab": {
          "base_uri": "https://localhost:8080/",
          "height": 430
        },
        "id": "VEy6cFwP4oNu",
        "outputId": "e59ed4e4-f3dd-4dc5-d78a-ab6c568420cd"
      },
      "execution_count": 54,
      "outputs": [
        {
          "output_type": "display_data",
          "data": {
            "text/plain": [
              "<Figure size 640x480 with 1 Axes>"
            ],
            "image/png": "[encoded data removed]"
          },
          "metadata": {}
        }
      ]
    }
  ]
}