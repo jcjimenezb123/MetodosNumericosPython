{
  "nbformat": 4,
  "nbformat_minor": 0,
  "metadata": {
    "colab": {
      "provenance": [],
      "authorship_tag": "ABX9TyPVOhHEdLzfe7Z2W9yA3R5+",
      "include_colab_link": true
    },
    "kernelspec": {
      "name": "python3",
      "display_name": "Python 3"
    },
    "language_info": {
      "name": "python"
    }
  },
  "cells": [
    {
      "cell_type": "markdown",
      "metadata": {
        "id": "view-in-github",
        "colab_type": "text"
      },
      "source": [
        "<a href=\"https://colab.research.google.com/github/jcjimenezb123/MetodosNumericosPython/blob/master/01Interpolacion_coefs.ipynb\" target=\"_parent\"><img src=\"https://colab.research.google.com/assets/colab-badge.svg\" alt=\"Open In Colab\"/></a>"
      ]
    },
    {
      "cell_type": "code",
      "execution_count": 1,
      "metadata": {
        "id": "OJHRmwQR3w6a"
      },
      "outputs": [],
      "source": [
        "import numpy as np\n",
        "from scipy.interpolate import CubicSpline,lagrange\n",
        "import matplotlib.pyplot as plt"
      ]
    },
    {
      "cell_type": "code",
      "source": [
        "x = np.linspace(-2, 2, 11)\n",
        "y = x**3+2*x**2+x+1\n",
        "#perturbacion = np.random.normal(0, 1, len(x))  # Perturbación aleatoria\n",
        "#y += perturbacion"
      ],
      "metadata": {
        "id": "vFW8XCiv4AXB"
      },
      "execution_count": 2,
      "outputs": []
    },
    {
      "cell_type": "code",
      "source": [
        "lag = lagrange(x, y)\n",
        "xi = 1.5\n",
        "yi = lag(xi)\n",
        "print(lag)\n",
        "print(lag.c)"
      ],
      "metadata": {
        "colab": {
          "base_uri": "https://localhost:8080/"
        },
        "id": "EFcBj-sqFpuL",
        "outputId": "a24c140d-1a34-4bd3-b5c5-ecdaee03241c"
      },
      "execution_count": 3,
      "outputs": [
        {
          "output_type": "stream",
          "name": "stdout",
          "text": [
            "            10             9             8             7             6\n",
            "-1.527e-16 x  - 1.443e-15 x + 4.247e-15 x + 4.441e-15 x - 2.021e-14 x\n",
            "              5             4     3     2\n",
            " + 3.331e-14 x - 4.308e-14 x + 1 x + 2 x + 1 x + 1\n",
            "[-1.52655666e-16 -1.44328993e-15  4.24660307e-15  4.44089210e-15\n",
            " -2.02060590e-14  3.33066907e-14 -4.30766534e-14  1.00000000e+00\n",
            "  2.00000000e+00  1.00000000e+00  1.00000000e+00]\n"
          ]
        }
      ]
    },
    {
      "cell_type": "code",
      "source": [
        "sc = CubicSpline(x, y)\n",
        "xi = 1.5\n",
        "yi = sc(xi)\n",
        "print(sc.c.T)"
      ],
      "metadata": {
        "colab": {
          "base_uri": "https://localhost:8080/"
        },
        "id": "sXngBkdJ4Npt",
        "outputId": "27a7f37f-49b3-472c-cb1e-416d5fa4cf55"
      },
      "execution_count": 4,
      "outputs": [
        {
          "output_type": "stream",
          "name": "stdout",
          "text": [
            "[[ 1.    -4.     5.    -1.   ]\n",
            " [ 1.    -2.8    2.28   0.424]\n",
            " [ 1.    -1.6    0.52   0.952]\n",
            " [ 1.    -0.4   -0.28   0.968]\n",
            " [ 1.     0.8   -0.12   0.856]\n",
            " [ 1.     2.     1.     1.   ]\n",
            " [ 1.     3.2    3.08   1.784]\n",
            " [ 1.     4.4    6.12   3.592]\n",
            " [ 1.     5.6   10.12   6.808]\n",
            " [ 1.     6.8   15.08  11.816]]\n"
          ]
        }
      ]
    },
    {
      "cell_type": "code",
      "source": [
        "# Coeficientes de los polinomios por intervalo\n",
        "coefs = sc.c  # Matriz con [d_i, c_i, b_i, a_i] por intervalo\n",
        "\n",
        "# Mostrar coeficientes\n",
        "for i in range(len(x) - 1):\n",
        "    if x[i]<=xi<=x[i+1]:\n",
        "      print(f\"Intervalo [{x[i]}, {x[i+1]}]:\")\n",
        "      #El coeficiente 𝑎 es el valor de 𝑦 en el nodo izquierdo del intervalo.\n",
        "      #Los coeficientes 𝑏,𝑐,𝑑 se calculan para garantizar la suavidad en las derivadas y la continuidad en los intervalos.\n",
        "      d = coefs[0, i]\n",
        "      c = coefs[1, i]\n",
        "      b = coefs[2, i]\n",
        "      a = coefs[3, i]\n",
        "\n",
        "      yii = a + b*(xi-x[i]) + c*(xi-x[i])**2 + d*(xi-x[i])**3\n",
        "      print(f'y = {a:e} + {b:e}*(x-{x[i]}) + {c:e}*(x-{x[i]})**2 + {d:e}*(x-{x[i]})**3')\n",
        "      print(f\"xi = {xi},    yii = {yii} [{yi}]\")"
      ],
      "metadata": {
        "colab": {
          "base_uri": "https://localhost:8080/"
        },
        "id": "OU3ClYEp7TZZ",
        "outputId": "d5ddd4f3-7dde-480a-f639-88fd520272b7"
      },
      "execution_count": 5,
      "outputs": [
        {
          "output_type": "stream",
          "name": "stdout",
          "text": [
            "Intervalo [1.2000000000000002, 1.6]:\n",
            "y = 6.808000e+00 + 1.012000e+01*(x-1.2000000000000002) + 5.600000e+00*(x-1.2000000000000002)**2 + 1.000000e+00*(x-1.2000000000000002)**3\n",
            "xi = 1.5,    yii = 10.375 [10.375]\n"
          ]
        }
      ]
    },
    {
      "cell_type": "code",
      "source": [
        "xs = np.linspace(x.min(),x.max(),100)\n",
        "plt.style.use('ggplot')#('seaborn-v0_8-dark-palette')\n",
        "plt.plot(x, y, 'o',xs, sc(xs), ':')\n",
        "plt.plot(xi, yi, 'o')\n",
        "#plt.grid()\n",
        "plt.show()"
      ],
      "metadata": {
        "colab": {
          "base_uri": "https://localhost:8080/",
          "height": 435
        },
        "id": "VEy6cFwP4oNu",
        "outputId": "4ea75c14-fa40-4d76-ca5d-d445a3580fd0"
      },
      "execution_count": 7,
      "outputs": [
        {
          "output_type": "display_data",
          "data": {
            "text/plain": [
              "<Figure size 640x480 with 1 Axes>"
            ],
            "image/png": "[encoded data removed]"
          },
          "metadata": {}
        }
      ]
    }
  ]
}