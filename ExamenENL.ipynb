{
  "nbformat": 4,
  "nbformat_minor": 0,
  "metadata": {
    "colab": {
      "name": "ExamenENL.ipynb",
      "provenance": [],
      "collapsed_sections": [],
      "authorship_tag": "ABX9TyPySUoy2R9qIlI70aaiu5RF",
      "include_colab_link": true
    },
    "kernelspec": {
      "name": "python3",
      "display_name": "Python 3"
    }
  },
  "cells": [
    {
      "cell_type": "markdown",
      "metadata": {
        "id": "view-in-github",
        "colab_type": "text"
      },
      "source": [
        "<a href=\"https://colab.research.google.com/github/jcjimenezb123/MetodosNumericosPython/blob/master/ExamenENL.ipynb\" target=\"_parent\"><img src=\"https://colab.research.google.com/assets/colab-badge.svg\" alt=\"Open In Colab\"/></a>"
      ]
    },
    {
      "cell_type": "markdown",
      "metadata": {
        "id": "pbGgXpQAAqbG"
      },
      "source": [
        "#Métodos Numéricos\n",
        "\n",
        "#Examen - Ecuaciones no lineales\n",
        "\n",
        "![UNAM](https://drive.google.com/uc?export=view&id=1GATLSo6jWPCg6vd4M3_aK5bbXRm9a_4K)\n",
        "---\n",
        "\n",
        "Nombre: ***$\\color{blue}{\\text{ Mi nombre } }$***\n",
        "\n",
        "Num. Cuenta: ***$\\color{blue}{ 123456789 }$***\n",
        "\n",
        "---\n"
      ]
    },
    {
      "cell_type": "markdown",
      "metadata": {
        "id": "3ldHEN7_CKOX"
      },
      "source": [
        "##Teoria\n",
        "Reponda **Veradero** o **Falso**\n",
        "\n",
        "1.\tLa multiplicación $f(x_0)*f(x_1)>0$ asegura un cambio de signo en $[x_0,x_1]$ ***$\\color{red}{ Respuesta }$***\n",
        "1.\tLa Tolerancia es el valor mínimo que puede tomar $f(x)$ para considerar $x$ como una raíz ***$\\color{red}{ Respuesta }$***\n",
        "1.\tEl método de Bisección es un método cerrado que divide el rango $[x_0,x_1]$ exactamente a la ***$\\color{red}{ Respuesta }$***\n",
        "1.\tLa multiplicación $f(x_0)*f(x)<0$ asegura un cambio de signo en $[x_0,x]$ ***$\\color{red}{ Respuesta }$***\n",
        "1.\tEl método de la Falsa Posición encuentra el siguiente valor de x mediante una interpolación lineal ***$\\color{red}{ Respuesta }$***\n"
      ]
    },
    {
      "cell_type": "markdown",
      "metadata": {
        "id": "bcZ94LSDDFLM"
      },
      "source": [
        "##Problema 1\n",
        "\n",
        "Calcular la temperatura del punto de burbuja $T$ de una mezcla que contiene $x_B=0.3$ mol de benceno y $x_T=0.7$ mol de tolueno a una presión $P=9.xy$ atm (donde $xy$ son los dos últimos dígitos de su numero de cuenta). La presión de vapor $P_{sat_i}$ de cada componente como función de la temperatura puede representarse por medio de la ecuación de Antoine\n",
        "\n",
        "$$\n",
        "P_{sat_i}=e^{\\left(A_i-\\frac{B_i}{T+C_i}\\right)}\n",
        "$$ \n",
        "\n",
        "Donde $A_i$, $B_i$ y $C_i$ son los parámetros de Antoine para cada componente $i$, y $T$ es la temperatura. \n",
        "\n",
        "La temperatura del punto de burbuja puede ser calculada resolviendo la siguiente ecuación\n",
        "\n",
        "$$\n",
        "P=x_BP_{sat_B}+x_TP_{sat_T}\n",
        "$$\n",
        " \n",
        "Datos: \n",
        "\n",
        "|\t|Benceno\t|Tolueno|\n",
        "|---|---|---|\n",
        "|A|\t15.90085|\t16.01066|\n",
        "|B|\t2788.507|\t3094.543|\n",
        "|C|\t220.790|\t219.377|\n",
        "\n",
        "use una tolerancia de $0.0001$"
      ]
    },
    {
      "cell_type": "code",
      "metadata": {
        "id": "Vers7tCBcRgo"
      },
      "source": [
        "#Haga los import necesarios\n"
      ],
      "execution_count": null,
      "outputs": []
    },
    {
      "cell_type": "markdown",
      "metadata": {
        "id": "y6oY0rPsTvIB"
      },
      "source": [
        "1. Defina la ecuación que se debe resolver"
      ]
    },
    {
      "cell_type": "code",
      "metadata": {
        "id": "sxEebX00Aoba"
      },
      "source": [
        "def f(T):\n",
        "  return #defina aqui la ecuacion en funcion de T"
      ],
      "execution_count": null,
      "outputs": []
    },
    {
      "cell_type": "markdown",
      "metadata": {
        "id": "SF1L9WZgT8oh"
      },
      "source": [
        "2. Grafique la función para determinar los valores iniciales"
      ]
    },
    {
      "cell_type": "code",
      "metadata": {
        "id": "bmNbWSZaUBOk"
      },
      "source": [
        ""
      ],
      "execution_count": null,
      "outputs": []
    },
    {
      "cell_type": "markdown",
      "metadata": {
        "id": "UZp3jMv-T1aA"
      },
      "source": [
        "3. Use el método de **Regla Falsa** para resolver el problema"
      ]
    },
    {
      "cell_type": "code",
      "metadata": {
        "id": "fqSuydnGT7ZU"
      },
      "source": [
        ""
      ],
      "execution_count": null,
      "outputs": []
    },
    {
      "cell_type": "markdown",
      "metadata": {
        "id": "hXbSDvn_UGQy"
      },
      "source": [
        "4. Reporte la solución y grafique"
      ]
    },
    {
      "cell_type": "code",
      "metadata": {
        "id": "Z99ha9ojUKCw"
      },
      "source": [
        ""
      ],
      "execution_count": null,
      "outputs": []
    },
    {
      "cell_type": "markdown",
      "metadata": {
        "id": "WCuS8sD1VWrU"
      },
      "source": [
        "##Problema 2"
      ]
    },
    {
      "cell_type": "markdown",
      "metadata": {
        "id": "o29YAw53VaIS"
      },
      "source": [
        "La ecuación de Redlich-Kwong esta dada por \n",
        "\n",
        "$$\n",
        "P=\\frac{RT}{v-b}-\\frac{a}{v(v+b)\\sqrt{T}}\n",
        "$$\n",
        "\n",
        "Donde \n",
        "\n",
        "R = Constante universal de los gases $0.518kJ/kgK$\n",
        "\n",
        "T = Temperatura absoluta $K$\n",
        "\n",
        "P = Presión absoluta $kPa$\n",
        "\n",
        "V = Volumen de 1kg de gas $m^3/kg$\n",
        "\n",
        " Los parámetro a y b se calculan con\n",
        "\n",
        "$$\n",
        "a=0.427\\frac{R^2T_c^{2.5}}{P_c}\n",
        "$$\n",
        "\n",
        "$$\n",
        "b=0.0866\\frac{RT_c}{P_c}\n",
        "$$\n",
        "\n",
        "Donde $Pc = 4600kPa$ y $Tc = 191K$\n",
        "\n",
        "Determinar la cantidad de metano que puede almacenar un tanque de $x.ym^3$ (donde $x.y$ son los dos ultimos digitos de su numero de cuenta mayores a cero) a una temperatura de $-40°C$ con una presión de $65000 kPa$. Use el método de la ___Secante___ para calcular v, luego determine la masa contenida en el tanque.\n",
        "\n",
        "Use una tolerancia de $0.00001$\n"
      ]
    },
    {
      "cell_type": "markdown",
      "metadata": {
        "id": "4Qru-cqcZkH7"
      },
      "source": [
        "1. Defina la ecuación que se debe resolver"
      ]
    },
    {
      "cell_type": "code",
      "metadata": {
        "id": "8Z-TrK2aVZa_"
      },
      "source": [
        "def f(v):\n",
        "  #calcule el valor de a\n",
        "  #calcule el valor de b\n",
        "  return #use el resto de los valores para retornar la ecuacion de Redlich-Kwong"
      ],
      "execution_count": null,
      "outputs": []
    },
    {
      "cell_type": "markdown",
      "metadata": {
        "id": "H8QEuHwLaJ5X"
      },
      "source": [
        "2. Grafique la función para determinar los valores iniciales"
      ]
    },
    {
      "cell_type": "code",
      "metadata": {
        "id": "B9eHub4naKqH"
      },
      "source": [
        ""
      ],
      "execution_count": null,
      "outputs": []
    },
    {
      "cell_type": "markdown",
      "metadata": {
        "id": "Wli-PPyKaPum"
      },
      "source": [
        "3. Use el método de la **Secante** para resolver el problema"
      ]
    },
    {
      "cell_type": "code",
      "metadata": {
        "id": "3_b1BNisaTIT"
      },
      "source": [
        ""
      ],
      "execution_count": null,
      "outputs": []
    },
    {
      "cell_type": "markdown",
      "metadata": {
        "id": "x8XBeLOcaYOo"
      },
      "source": [
        "4. Reporte la solución y grafique"
      ]
    },
    {
      "cell_type": "code",
      "metadata": {
        "id": "Tk4a1Q8nacW-"
      },
      "source": [
        ""
      ],
      "execution_count": null,
      "outputs": []
    }
  ]
}