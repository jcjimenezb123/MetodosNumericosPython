{
  "nbformat": 4,
  "nbformat_minor": 0,
  "metadata": {
    "colab": {
      "provenance": [],
      "authorship_tag": "ABX9TyOJcBYTAvuFPifzozOHMmIb",
      "include_colab_link": true
    },
    "kernelspec": {
      "name": "python3",
      "display_name": "Python 3"
    }
  },
  "cells": [
    {
      "cell_type": "markdown",
      "metadata": {
        "id": "view-in-github",
        "colab_type": "text"
      },
      "source": [
        "<a href=\"https://colab.research.google.com/github/jcjimenezb123/MetodosNumericosPython/blob/master/06integrales.ipynb\" target=\"_parent\"><img src=\"https://colab.research.google.com/assets/colab-badge.svg\" alt=\"Open In Colab\"/></a>"
      ]
    },
    {
      "cell_type": "code",
      "source": [
        "import numpy as np\n",
        "import matplotlib.pyplot as plt"
      ],
      "metadata": {
        "id": "2IVWtt06dKsA"
      },
      "execution_count": null,
      "outputs": []
    },
    {
      "cell_type": "markdown",
      "source": [
        "$$\n",
        "\\int_0^1e^{x^2}dx\n",
        "$$"
      ],
      "metadata": {
        "id": "13HhDrJqJGw9"
      }
    },
    {
      "cell_type": "code",
      "source": [
        "f = lambda x: np.exp(x**2) #funcion a integrar\n",
        "\n",
        "a,b = 0,1 #rango a integrar\n",
        "\n",
        "x = np.linspace(a,b)\n",
        "\n",
        "plt.plot(x,f(x),lw=3)\n",
        "plt.fill_between(x,f(x),alpha=0.3)\n",
        "plt.ylim([0,3])\n",
        "plt.grid()"
      ],
      "metadata": {
        "id": "USvEJ530dKjI"
      },
      "execution_count": null,
      "outputs": []
    },
    {
      "cell_type": "markdown",
      "source": [
        "##Rectangulos\n",
        "$$\n",
        "I = (b-a)f(a)\n",
        "$$"
      ],
      "metadata": {
        "id": "l84pQM0uj3YA"
      }
    },
    {
      "cell_type": "code",
      "source": [
        "rects = #<--- calculo del rectangulo simple (b-a)*f(a)\n",
        "print(f'rectangulos simple = {rects}')"
      ],
      "metadata": {
        "id": "yihK2atTdKS1"
      },
      "execution_count": null,
      "outputs": []
    },
    {
      "cell_type": "markdown",
      "source": [
        "$$\n",
        "I = h\\sum_{i=0}^{n-1}f(x_i)\n",
        "$$"
      ],
      "metadata": {
        "id": "0ty4uiJuBEGv"
      }
    },
    {
      "cell_type": "code",
      "source": [
        "a,b = #<--- rango de integracion\n",
        "n = #<--- numero de intervalos\n",
        "h = (b-a)/n\n",
        "x = np.linspace(a,b,n+1)\n",
        "rectc = #<--- calculo rectangulos compuesta h * sum(f(x[0:n]))\n",
        "print(f'rectangulos compuesta = {rectc} usando {n} intervalos')"
      ],
      "metadata": {
        "id": "O4o4Rm3agVc6"
      },
      "execution_count": null,
      "outputs": []
    },
    {
      "cell_type": "markdown",
      "source": [
        "##Trapecios\n",
        "\n",
        "$$\n",
        "I = (b-a)\\left(\\frac{f(a)+f(b)}{2}\\right)\n",
        "$$"
      ],
      "metadata": {
        "id": "2h5IqWAhj8-P"
      }
    },
    {
      "cell_type": "code",
      "source": [
        "traps = #<--- calculo del trapecio simple (b-a)*(f(a)+f(b))/2\n",
        "print(f'trapecios simple = {traps}')"
      ],
      "metadata": {
        "id": "SxvBkp0xi-RW"
      },
      "execution_count": null,
      "outputs": []
    },
    {
      "cell_type": "markdown",
      "source": [
        "$$\n",
        "I = \\frac{h}{2}\\left(f(x_0)+2\\sum_{i=1}^{n-1}f(x_i)+f(x_n)\\right)\n",
        "$$"
      ],
      "metadata": {
        "id": "emGGfcEuBmoj"
      }
    },
    {
      "cell_type": "code",
      "source": [
        "a,b =  #<--- rango de integracion\n",
        "n =  #<--- numero de intervalos\n",
        "h = (b-a)/n\n",
        "x = np.linspace(a,b,n+1)\n",
        "trapc = h/2 * (f(x[0]) + 2*sum(f(x[1:n])) + f(x[n]))\n",
        "print(f'trapecios compuesta = {rectc} usando {n} intervalos')"
      ],
      "metadata": {
        "id": "aAYwJruFjOJY"
      },
      "execution_count": null,
      "outputs": []
    },
    {
      "cell_type": "markdown",
      "source": [
        "##Simpson $\\frac{1}{3}$\n",
        "$$\n",
        "I = \\frac{h}{3}\\left(f(x_0)+4\\sum_{i=1,3,5...}^{n-1}f(x_i)+2\\sum_{i=2,4,6...}^{n-2}f(x_i)+f(x_n)\\right)\n",
        "$$"
      ],
      "metadata": {
        "id": "NzE_ncTqkedH"
      }
    },
    {
      "cell_type": "code",
      "source": [
        "f =\n",
        "a,b =  #<--- rango de integracion\n",
        "n =  #<--- numero de intervalos **Debe ser par**\n",
        "h = (b-a)/n\n",
        "x = np.linspace(a,b,n+1)\n",
        "simp13 = h/3*(f(x[0])+4*sum(f(x[1:n:2]))+2*sum(f(x[2:n-1:2]))+f(x[n]))\n",
        "print(f'simpson 1/3 compuesta = {simp13} usando {n} intervalos')"
      ],
      "metadata": {
        "id": "voPSDEegkhMl"
      },
      "execution_count": null,
      "outputs": []
    },
    {
      "cell_type": "markdown",
      "source": [
        "##Simpson $\\frac{3}{8}$\n",
        "\n",
        "$$\n",
        "I = \\frac{3h}{8}\\left(f(x_0)+3\\sum_{i=1,4,7...}^{n-2}f(x_i)+3\\sum_{i=2,5,8...}^{n-1}f(x_i)+2\\sum_{i=3,6,9...}^{n-3}f(x_i)+f(x_n)\\right)\n",
        "$$"
      ],
      "metadata": {
        "id": "6j0eydu4mdnz"
      }
    },
    {
      "cell_type": "code",
      "source": [
        "f =\n",
        "a,b =  #<--- rango de integracion\n",
        "n =  #<--- numero de intervalos **Debe ser multiplo de 3**\n",
        "h = (b-a)/n\n",
        "x = np.linspace(a,b,n+1)\n",
        "simp38 = 3*h/8*(f(x[0])+3*sum(f(x[1:n-1:3]))+3*sum(f(x[2:n:3]))+2*sum(f(x[3:n-2:3]))+f(x[n]))\n",
        "print(f'simpson 3/8 compuesta = {simp38} usando {n} intervalos')"
      ],
      "metadata": {
        "id": "7agcUv50lnVB"
      },
      "execution_count": null,
      "outputs": []
    },
    {
      "cell_type": "markdown",
      "source": [
        "##Integral entre dos funciones\n",
        "\n",
        "El área comprendida entre dos funciones es igual al área de la función que está situada por encima menos el área de la función que está situada por debajo.\n",
        "\n",
        "$$\n",
        "\\int_a^b\\left(f(x)-g(x)\\right)dx\n",
        "$$\n",
        "\n",
        "Calcule la integral de\n",
        "\n",
        "$$\n",
        "f(x)=sin(x)e^{x}\n",
        "$$\n",
        "$$\n",
        "g(x)=2cos(3x)^2\n",
        "$$\n",
        "\n",
        "en el intervalo $[1,3]$"
      ],
      "metadata": {
        "id": "pap-Ydp1G4Ea"
      }
    },
    {
      "cell_type": "code",
      "source": [
        "import numpy as np\n",
        "import matplotlib.pyplot as plt\n",
        "\n",
        "f = lambda x: np.sin(x)*np.exp(x) #primera funcion\n",
        "g = lambda x: 2*np.cos(3*x)**2    #segunda funcion\n",
        "\n",
        "a,b = 1,3 #rango a integrar\n",
        "\n",
        "x = np.linspace(a,b)\n",
        "\n",
        "plt.plot(x,f(x),x,g(x),lw=2) #grafica de las dos funciones\n",
        "plt.legend(['f(x)','g(x)'])\n",
        "plt.fill_between(x,f(x),g(x),alpha=0.15,color='yellow') #area entre las dos funciones\n",
        "\n",
        "plt.grid()"
      ],
      "metadata": {
        "id": "eStNroelqb2V"
      },
      "execution_count": null,
      "outputs": []
    },
    {
      "cell_type": "code",
      "source": [
        "n =   #<--- numero de intervalos **Debe ser multiplo de 3**\n",
        "h = (b-a)/n\n",
        "x = np.linspace(a,b,n+1)\n",
        "\n",
        "#integral superior\n",
        "intS = 3*h/8*(f(x[0])+3*sum(f(x[1:n-1:3]))+3*sum(f(x[2:n:3]))+2*sum(f(x[3:n-2:3]))+f(x[n]))\n",
        "print(f'integral superior = {intS}')\n",
        "\n",
        "#integral inferior\n",
        "intI = 3*h/8*(g(x[0])+3*sum(g(x[1:n-1:3]))+3*sum(g(x[2:n:3]))+2*sum(g(x[3:n-2:3]))+g(x[n]))\n",
        "print(f'integral inferior = {intI}')\n",
        "\n",
        "integral = #<--- calcular integral entre f(x) y g(x)\n",
        "print(f'integral = {integral}')"
      ],
      "metadata": {
        "id": "7n8oFhJ9EqiK"
      },
      "execution_count": null,
      "outputs": []
    },
    {
      "cell_type": "markdown",
      "metadata": {
        "id": "IxCtNsoG0sHb"
      },
      "source": [
        "Calcular la integral de los siguientes datos\n",
        "\n",
        "\n",
        "$$\n",
        "\\begin{array}{c|c|c|c|c|c|c}\n",
        "x&1&2&5&6&7&9\\\\\n",
        "\\hline\n",
        "y&10&4&11&12&15&12\n",
        "\\end{array}\n",
        "$$"
      ]
    },
    {
      "cell_type": "code",
      "metadata": {
        "id": "7mez8nWE0oam"
      },
      "source": [
        "import numpy as np\n",
        "from scipy.integrate import trapz,simps"
      ],
      "execution_count": null,
      "outputs": []
    },
    {
      "cell_type": "code",
      "metadata": {
        "id": "gLbuUErv1q7s"
      },
      "source": [
        "x=np.array([1,2,5,6,7,9])\n",
        "y=np.array([10,4,11,12,15,12])"
      ],
      "execution_count": null,
      "outputs": []
    },
    {
      "cell_type": "code",
      "metadata": {
        "id": "9TkHIaH22BJU"
      },
      "source": [
        "trapecios=trapz(y,x)\n",
        "simpson=simps(y,x)\n",
        "\n",
        "print(trapecios,simpson)"
      ],
      "execution_count": null,
      "outputs": []
    },
    {
      "cell_type": "markdown",
      "source": [
        "##Cuadratura Gaussiana"
      ],
      "metadata": {
        "id": "_3vsH2M_ITUe"
      }
    },
    {
      "cell_type": "code",
      "metadata": {
        "id": "R1piisSXdG-E"
      },
      "source": [
        "from scipy.integrate import quad\n",
        "\n",
        "f=lambda x:np.exp(x)*np.sin(x)/(1+x**2)\n",
        "quad(f,0,3)"
      ],
      "execution_count": null,
      "outputs": []
    },
    {
      "cell_type": "markdown",
      "metadata": {
        "id": "_7q_6-c636a9"
      },
      "source": [
        "calcular la siguiente integral impropia\n",
        "\n",
        "$$\n",
        "\\int_0^{\\infty}\\frac{e^{-x}}{\\sqrt{x}}dx\n",
        "$$"
      ]
    },
    {
      "cell_type": "code",
      "metadata": {
        "id": "oYwww-NT2c53"
      },
      "source": [
        "from scipy.integrate import quad"
      ],
      "execution_count": null,
      "outputs": []
    },
    {
      "cell_type": "code",
      "metadata": {
        "id": "LzKUsUUF5h1e"
      },
      "source": [
        "def f(x):\n",
        "  return np.exp(-x)/np.sqrt(x)"
      ],
      "execution_count": null,
      "outputs": []
    },
    {
      "cell_type": "code",
      "metadata": {
        "id": "HRglS6xB5vFk"
      },
      "source": [
        "integral=quad(f,0,np.Infinity)\n",
        "integral"
      ],
      "execution_count": null,
      "outputs": []
    },
    {
      "cell_type": "markdown",
      "metadata": {
        "id": "QkoCNqfb6Wqj"
      },
      "source": [
        "Calcular la siguiente integral\n",
        "\n",
        "$$\n",
        "\\int_{-\\infty}^{\\infty}\\frac{1}{1+x^2}dx\n",
        "$$"
      ]
    },
    {
      "cell_type": "code",
      "metadata": {
        "id": "R4isn7Nm5_6a"
      },
      "source": [
        "def f(x):\n",
        "  return 1/(1+x**2)"
      ],
      "execution_count": null,
      "outputs": []
    },
    {
      "cell_type": "code",
      "metadata": {
        "id": "iGooYJNH8J0w"
      },
      "source": [
        "integral=quad(f,-np.Infinity,np.Infinity)\n",
        "integral"
      ],
      "execution_count": null,
      "outputs": []
    },
    {
      "cell_type": "markdown",
      "metadata": {
        "id": "g9gJQeeD93pX"
      },
      "source": [
        "calcular la integral de\n",
        "\n",
        "$$\n",
        "\\int_0^1\\frac{1}{\\sqrt{x}}dx\n",
        "$$"
      ]
    },
    {
      "cell_type": "code",
      "metadata": {
        "id": "rPe00vSc8Sz4"
      },
      "source": [
        "def f(x):\n",
        "  return 1/np.sqrt(x)"
      ],
      "execution_count": null,
      "outputs": []
    },
    {
      "cell_type": "code",
      "metadata": {
        "id": "hzPIPRnO-Rvi"
      },
      "source": [
        "integral=quad(f,0,1)\n",
        "integral"
      ],
      "execution_count": null,
      "outputs": []
    },
    {
      "cell_type": "markdown",
      "metadata": {
        "id": "ZfFGx5Fob-cR"
      },
      "source": [
        "calcular la siguiente integral doble\n",
        "\n",
        "$$\n",
        "\\int_{x_1=-5}^{x_2=5}\\int_{y_1=-5}^{y_2=5}sin(\\sqrt{x^2+y^2})dydx\n",
        "$$"
      ]
    },
    {
      "cell_type": "code",
      "metadata": {
        "id": "TMk2XQ-r-VzF"
      },
      "source": [
        "import numpy as np\n",
        "def f(y,x):\n",
        "  return np.sin(np.sqrt(x**2+y**2))"
      ],
      "execution_count": null,
      "outputs": []
    },
    {
      "cell_type": "code",
      "metadata": {
        "id": "rgqZXohxcDme"
      },
      "source": [
        "from scipy.integrate import dblquad"
      ],
      "execution_count": null,
      "outputs": []
    },
    {
      "cell_type": "code",
      "metadata": {
        "id": "fqu7KpJMcGwi"
      },
      "source": [
        "x1=-5\n",
        "x2=5\n",
        "y1=-5\n",
        "y2=5\n",
        "integral=dblquad(f,x1,x2,lambda y:y1,lambda y:y2)\n",
        "integral"
      ],
      "execution_count": null,
      "outputs": []
    },
    {
      "cell_type": "markdown",
      "metadata": {
        "id": "-YYAoolWcXcC"
      },
      "source": [
        "Obtener la integral triple de\n",
        "\n",
        "$$\n",
        "\\int_{z_1=0}^{z_2=1}\\int_{y_1=0}^{y_2=1}\\int_{x_1=0}^{x_2=2}x^2e^{-x^2}e^{-0.5yz/x}dxdydz\n",
        "$$"
      ]
    },
    {
      "cell_type": "code",
      "metadata": {
        "id": "pqnCnBQ5cJxy"
      },
      "source": [
        "def f(x,y,z):\n",
        "  return x**2*np.exp(-x**2)*np.exp(-0.5*y*z/x)"
      ],
      "execution_count": null,
      "outputs": []
    },
    {
      "cell_type": "code",
      "metadata": {
        "id": "LVw4csuqcbDq"
      },
      "source": [
        "from scipy.integrate import tplquad\n",
        "x1=0\n",
        "x2=2\n",
        "y1=lambda x:0\n",
        "y2=lambda x:1\n",
        "z1=lambda x,y:0\n",
        "z2=lambda x,y,:1\n",
        "\n",
        "integral=tplquad(f,x1,x2,y1,y2,z1,z2)\n",
        "integral"
      ],
      "execution_count": null,
      "outputs": []
    }
  ]
}