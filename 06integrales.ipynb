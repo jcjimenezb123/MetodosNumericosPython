{
  "nbformat": 4,
  "nbformat_minor": 0,
  "metadata": {
    "colab": {
      "provenance": [],
      "authorship_tag": "ABX9TyOQBtuG7etLa09oGCtmWSQ6",
      "include_colab_link": true
    },
    "kernelspec": {
      "name": "python3",
      "display_name": "Python 3"
    }
  },
  "cells": [
    {
      "cell_type": "markdown",
      "metadata": {
        "id": "view-in-github",
        "colab_type": "text"
      },
      "source": [
        "<a href=\"https://colab.research.google.com/github/jcjimenezb123/MetodosNumericosPython/blob/master/06integrales.ipynb\" target=\"_parent\"><img src=\"https://colab.research.google.com/assets/colab-badge.svg\" alt=\"Open In Colab\"/></a>"
      ]
    },
    {
      "cell_type": "code",
      "metadata": {
        "id": "6wH0Flxralka"
      },
      "source": [
        "import numpy as np\n",
        "\n",
        "def integrales(f,a,b,n,metodo='trap'):\n",
        "  '''\n",
        "  f es la funcion a integrar\n",
        "  a,b son los limites de integracion\n",
        "  n es el numero de intervalos\n",
        "  metodo es rect, trap, s13 s38\n",
        "  '''\n",
        "  #se valida que los intervalos sean positivos\n",
        "  if n<=0:\n",
        "    raise ValueError(f'n={n} no es valido')\n",
        "  #se valida que los intervalos sean pares\n",
        "  if metodo=='s13' and n%2>0:\n",
        "    raise ValueError(f'n={n} no es par')\n",
        "  #se valida que los intervalos sea multiplo de 3\n",
        "  if metodo=='s38' and n%3>0:\n",
        "    raise ValueError(f'n={n} no es multiplo de 3')\n",
        "\n",
        "  h=(b-a)/n #se calcula el tamano del intervalo\n",
        "  x=np.linspace(a,b,n+1) #se crean los puntos intermedios\n",
        "  fx=f(x) #se calcula la funcion\n",
        "  if metodo=='trap':\n",
        "    inte=h/2*(fx[0]+2*sum(fx[1:n])+fx[n])\n",
        "  elif metodo=='s13':\n",
        "    inte=h/3*(fx[0]+4*sum(fx[1:n:2])+2*sum(fx[2:n-1:2])+fx[n])\n",
        "  elif metodo=='s38':\n",
        "    inte=3*h/8*(fx[0]+3*sum(fx[1:n-1:3])+3*sum(fx[2:n:3])+2*sum(fx[3:n-2:3])+fx[n])\n",
        "  elif metodo=='rect':\n",
        "    inte=h*sum(fx[:n])\n",
        "\n",
        "  return inte"
      ],
      "execution_count": null,
      "outputs": []
    },
    {
      "cell_type": "code",
      "metadata": {
        "id": "NnsgzoRsalZ6"
      },
      "source": [
        "f=lambda x:(9+4*np.cos(0.4*x)**2)*(5*np.exp(-0.5*x)+2*np.exp(0.15*x))"
      ],
      "execution_count": null,
      "outputs": []
    },
    {
      "cell_type": "code",
      "metadata": {
        "id": "mecNUErXalIC"
      },
      "source": [
        "a= #<--- limite inferior\n",
        "b= #<--- limite superior\n",
        "n= #<--- numero de intervalos\n",
        "i=integrales() #<--- parametros\n",
        "i"
      ],
      "execution_count": null,
      "outputs": []
    },
    {
      "cell_type": "markdown",
      "metadata": {
        "id": "IxCtNsoG0sHb"
      },
      "source": [
        "Calcular la integral de los siguientes datos\n",
        "\n",
        "\n",
        "$$\n",
        "\\begin{array}{c|c|c|c|c|c|c}\n",
        "x&1&2&5&6&7&9\\\\\n",
        "\\hline\n",
        "y&10&4&11&12&15&12\n",
        "\\end{array}\n",
        "$$"
      ]
    },
    {
      "cell_type": "code",
      "metadata": {
        "id": "7mez8nWE0oam"
      },
      "source": [
        "import numpy as np\n",
        "from scipy.integrate import trapz,simps"
      ],
      "execution_count": null,
      "outputs": []
    },
    {
      "cell_type": "code",
      "metadata": {
        "id": "gLbuUErv1q7s"
      },
      "source": [
        "x=np.array([1,2,5,6,7,9])\n",
        "y=np.array([10,4,11,12,15,12])"
      ],
      "execution_count": null,
      "outputs": []
    },
    {
      "cell_type": "code",
      "metadata": {
        "id": "9TkHIaH22BJU"
      },
      "source": [
        "trapecios=trapz(y,x)\n",
        "simpson=simps(y,x)\n",
        "\n",
        "print(trapecios,simpson)"
      ],
      "execution_count": null,
      "outputs": []
    },
    {
      "cell_type": "code",
      "metadata": {
        "id": "R1piisSXdG-E"
      },
      "source": [
        "from scipy.integrate import quad\n",
        "\n",
        "f=lambda x:np.exp(x)*np.sin(x)/(1+x**2)\n",
        "quad(f,0,3)"
      ],
      "execution_count": null,
      "outputs": []
    },
    {
      "cell_type": "markdown",
      "metadata": {
        "id": "_7q_6-c636a9"
      },
      "source": [
        "calcular la siguiente integral impropia\n",
        "\n",
        "$$\n",
        "\\int_0^{\\infty}\\frac{e^{-x}}{\\sqrt{x}}dx\n",
        "$$"
      ]
    },
    {
      "cell_type": "code",
      "metadata": {
        "id": "oYwww-NT2c53"
      },
      "source": [
        "from scipy.integrate import quad"
      ],
      "execution_count": null,
      "outputs": []
    },
    {
      "cell_type": "code",
      "metadata": {
        "id": "LzKUsUUF5h1e"
      },
      "source": [
        "def f(x):\n",
        "  return np.exp(-x)/np.sqrt(x)"
      ],
      "execution_count": null,
      "outputs": []
    },
    {
      "cell_type": "code",
      "metadata": {
        "id": "HRglS6xB5vFk"
      },
      "source": [
        "integral=quad(f,0,np.Infinity)\n",
        "integral"
      ],
      "execution_count": null,
      "outputs": []
    },
    {
      "cell_type": "markdown",
      "metadata": {
        "id": "QkoCNqfb6Wqj"
      },
      "source": [
        "Calcular la siguiente integral\n",
        "\n",
        "$$\n",
        "\\int_{-\\infty}^{\\infty}\\frac{1}{1+x^2}dx\n",
        "$$"
      ]
    },
    {
      "cell_type": "code",
      "metadata": {
        "id": "R4isn7Nm5_6a"
      },
      "source": [
        "def f(x):\n",
        "  return 1/(1+x**2)"
      ],
      "execution_count": null,
      "outputs": []
    },
    {
      "cell_type": "code",
      "metadata": {
        "id": "iGooYJNH8J0w"
      },
      "source": [
        "integral=quad(f,-np.Infinity,np.Infinity)\n",
        "integral"
      ],
      "execution_count": null,
      "outputs": []
    },
    {
      "cell_type": "markdown",
      "metadata": {
        "id": "g9gJQeeD93pX"
      },
      "source": [
        "calcular la integral de\n",
        "\n",
        "$$\n",
        "\\int_0^1\\frac{1}{\\sqrt{x}}dx\n",
        "$$"
      ]
    },
    {
      "cell_type": "code",
      "metadata": {
        "id": "rPe00vSc8Sz4"
      },
      "source": [
        "def f(x):\n",
        "  return 1/np.sqrt(x)"
      ],
      "execution_count": null,
      "outputs": []
    },
    {
      "cell_type": "code",
      "metadata": {
        "id": "hzPIPRnO-Rvi"
      },
      "source": [
        "integral=quad(f,0,1)\n",
        "integral"
      ],
      "execution_count": null,
      "outputs": []
    },
    {
      "cell_type": "markdown",
      "metadata": {
        "id": "ZfFGx5Fob-cR"
      },
      "source": [
        "calcular la siguiente integral doble\n",
        "\n",
        "$$\n",
        "\\int_{x_1=-5}^{x_2=5}\\int_{y_1=-5}^{y_2=5}sin(\\sqrt{x^2+y^2})dydx\n",
        "$$"
      ]
    },
    {
      "cell_type": "code",
      "metadata": {
        "id": "TMk2XQ-r-VzF"
      },
      "source": [
        "import numpy as np\n",
        "def f(y,x):\n",
        "  return np.sin(np.sqrt(x**2+y**2))"
      ],
      "execution_count": null,
      "outputs": []
    },
    {
      "cell_type": "code",
      "metadata": {
        "id": "rgqZXohxcDme"
      },
      "source": [
        "from scipy.integrate import dblquad"
      ],
      "execution_count": null,
      "outputs": []
    },
    {
      "cell_type": "code",
      "metadata": {
        "id": "fqu7KpJMcGwi"
      },
      "source": [
        "x1=-5\n",
        "x2=5\n",
        "y1=-5\n",
        "y2=5\n",
        "integral=dblquad(f,x1,x2,lambda y:y1,lambda y:y2)\n",
        "integral"
      ],
      "execution_count": null,
      "outputs": []
    },
    {
      "cell_type": "markdown",
      "metadata": {
        "id": "-YYAoolWcXcC"
      },
      "source": [
        "Obtener la integral triple de\n",
        "\n",
        "$$\n",
        "\\int_{z_1=0}^{z_2=1}\\int_{y_1=0}^{y_2=1}\\int_{x_1=0}^{x_2=2}x^2e^{-x^2}e^{-0.5yz/x}dxdydz\n",
        "$$"
      ]
    },
    {
      "cell_type": "code",
      "metadata": {
        "id": "pqnCnBQ5cJxy"
      },
      "source": [
        "def f(x,y,z):\n",
        "  return x**2*np.exp(-x**2)*np.exp(-0.5*y*z/x)"
      ],
      "execution_count": null,
      "outputs": []
    },
    {
      "cell_type": "code",
      "metadata": {
        "id": "LVw4csuqcbDq"
      },
      "source": [
        "from scipy.integrate import tplquad\n",
        "x1=0\n",
        "x2=2\n",
        "y1=lambda x:0\n",
        "y2=lambda x:1\n",
        "z1=lambda x,y:0\n",
        "z2=lambda x,y,:1\n",
        "\n",
        "integral=tplquad(f,x1,x2,y1,y2,z1,z2)\n",
        "integral"
      ],
      "execution_count": null,
      "outputs": []
    }
  ]
}