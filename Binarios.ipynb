{
  "nbformat": 4,
  "nbformat_minor": 0,
  "metadata": {
    "colab": {
      "name": "Binarios",
      "provenance": [],
      "authorship_tag": "ABX9TyOJFiA4TGiC4dDoOeGblUkx",
      "include_colab_link": true
    },
    "kernelspec": {
      "name": "python3",
      "display_name": "Python 3"
    }
  },
  "cells": [
    {
      "cell_type": "markdown",
      "metadata": {
        "id": "view-in-github",
        "colab_type": "text"
      },
      "source": [
        "<a href=\"https://colab.research.google.com/github/jcjimenezb123/MetodosPython/blob/master/Binarios.ipynb\" target=\"_parent\"><img src=\"https://colab.research.google.com/assets/colab-badge.svg\" alt=\"Open In Colab\"/></a>"
      ]
    },
    {
      "cell_type": "markdown",
      "metadata": {
        "id": "GJkP3j3ra2q3",
        "colab_type": "text"
      },
      "source": [
        "##Convertir un numero entero decimal a binario\n",
        "Convertir el número 26 a binario"
      ]
    },
    {
      "cell_type": "code",
      "metadata": {
        "id": "wW3BxJ0Ta1G9",
        "colab_type": "code",
        "colab": {
          "base_uri": "https://localhost:8080/",
          "height": 102
        },
        "outputId": "02cf73a9-99c7-4ee8-d80c-f1d9fbfd373d"
      },
      "source": [
        "base=2\n",
        "print(26//base,26%base)\n",
        "print(13//base,13%base)\n",
        "print(6//base,6%base)\n",
        "print(3//base,3%base)\n",
        "print(1//base,1%base)"
      ],
      "execution_count": 7,
      "outputs": [
        {
          "output_type": "stream",
          "text": [
            "13 0\n",
            "6 1\n",
            "3 0\n",
            "1 1\n",
            "0 1\n"
          ],
          "name": "stdout"
        }
      ]
    },
    {
      "cell_type": "markdown",
      "metadata": {
        "id": "nURCFJGlbxfk",
        "colab_type": "text"
      },
      "source": [
        "Comprobación"
      ]
    },
    {
      "cell_type": "code",
      "metadata": {
        "id": "SBf5mg0lbz3Q",
        "colab_type": "code",
        "colab": {
          "base_uri": "https://localhost:8080/",
          "height": 34
        },
        "outputId": "a226cb7a-6103-405a-8dc7-c9b1fe4db54f"
      },
      "source": [
        "1*base**4 + 1*base**3 + 0*base**2 + 1*base**1 + 0*base**0"
      ],
      "execution_count": 8,
      "outputs": [
        {
          "output_type": "execute_result",
          "data": {
            "text/plain": [
              "26"
            ]
          },
          "metadata": {
            "tags": []
          },
          "execution_count": 8
        }
      ]
    },
    {
      "cell_type": "markdown",
      "metadata": {
        "id": "ISoyMUcrcW42",
        "colab_type": "text"
      },
      "source": [
        "Usando la biblioteca numpy"
      ]
    },
    {
      "cell_type": "code",
      "metadata": {
        "id": "EPOxE7YCcazz",
        "colab_type": "code",
        "colab": {
          "base_uri": "https://localhost:8080/",
          "height": 35
        },
        "outputId": "c128cf5b-dd8c-414e-bce5-34c29ab19d5a"
      },
      "source": [
        "import numpy as np\n",
        "np.base_repr(26,base)"
      ],
      "execution_count": 10,
      "outputs": [
        {
          "output_type": "execute_result",
          "data": {
            "application/vnd.google.colaboratory.intrinsic+json": {
              "type": "string"
            },
            "text/plain": [
              "'11010'"
            ]
          },
          "metadata": {
            "tags": []
          },
          "execution_count": 10
        }
      ]
    }
  ]
}