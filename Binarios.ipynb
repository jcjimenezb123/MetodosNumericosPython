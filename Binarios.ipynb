{
  "nbformat": 4,
  "nbformat_minor": 0,
  "metadata": {
    "colab": {
      "name": "Binarios.ipynb",
      "provenance": [],
      "authorship_tag": "ABX9TyM6H7vUIEMfw1sbJ/dip8M1",
      "include_colab_link": true
    },
    "kernelspec": {
      "name": "python3",
      "display_name": "Python 3"
    }
  },
  "cells": [
    {
      "cell_type": "markdown",
      "metadata": {
        "id": "view-in-github",
        "colab_type": "text"
      },
      "source": [
        "<a href=\"https://colab.research.google.com/github/jcjimenezb123/MetodosPython/blob/master/Binarios.ipynb\" target=\"_parent\"><img src=\"https://colab.research.google.com/assets/colab-badge.svg\" alt=\"Open In Colab\"/></a>"
      ]
    },
    {
      "cell_type": "markdown",
      "metadata": {
        "id": "PqUc-Bk6Pe_W",
        "colab_type": "text"
      },
      "source": [
        "##Convertir el numero **26)10** a binario **?)2**"
      ]
    },
    {
      "cell_type": "code",
      "metadata": {
        "id": "GhgoGydDNt96",
        "colab_type": "code",
        "colab": {
          "base_uri": "https://localhost:8080/",
          "height": 102
        },
        "outputId": "4326fe44-08d9-4852-e0e5-303af6eafd4b"
      },
      "source": [
        "base=2\n",
        "print(26//base,26%base)\n",
        "print(13//base,13%base)\n",
        "print(6//base,6%base)\n",
        "print(3//base,3%base)\n",
        "print(1//base,1%base)"
      ],
      "execution_count": 9,
      "outputs": [
        {
          "output_type": "stream",
          "text": [
            "13 0\n",
            "6 1\n",
            "3 0\n",
            "1 1\n",
            "0 1\n"
          ],
          "name": "stdout"
        }
      ]
    },
    {
      "cell_type": "markdown",
      "metadata": {
        "id": "jHFcApXyQPia",
        "colab_type": "text"
      },
      "source": [
        "###Resultado 11010"
      ]
    },
    {
      "cell_type": "markdown",
      "metadata": {
        "id": "ktg0rLqBQbZn",
        "colab_type": "text"
      },
      "source": [
        "Vamos a usar ahora la funcion **bin** de Python"
      ]
    },
    {
      "cell_type": "code",
      "metadata": {
        "id": "mgj4u_qDPcf5",
        "colab_type": "code",
        "colab": {
          "base_uri": "https://localhost:8080/",
          "height": 35
        },
        "outputId": "63702d7c-1c9e-4b8e-ec97-0367dffe5df3"
      },
      "source": [
        "bin(26)"
      ],
      "execution_count": 10,
      "outputs": [
        {
          "output_type": "execute_result",
          "data": {
            "application/vnd.google.colaboratory.intrinsic+json": {
              "type": "string"
            },
            "text/plain": [
              "'0b11010'"
            ]
          },
          "metadata": {
            "tags": []
          },
          "execution_count": 10
        }
      ]
    }
  ]
}