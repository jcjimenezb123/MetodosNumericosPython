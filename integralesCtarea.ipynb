{
  "nbformat": 4,
  "nbformat_minor": 0,
  "metadata": {
    "colab": {
      "provenance": [],
      "authorship_tag": "ABX9TyMAoh+6eAVJgh6ju79p/xQe",
      "include_colab_link": true
    },
    "kernelspec": {
      "name": "python3",
      "display_name": "Python 3"
    },
    "language_info": {
      "name": "python"
    }
  },
  "cells": [
    {
      "cell_type": "markdown",
      "metadata": {
        "id": "view-in-github",
        "colab_type": "text"
      },
      "source": [
        "<a href=\"https://colab.research.google.com/github/jcjimenezb123/MetodosNumericosPython/blob/master/integralesCtarea.ipynb\" target=\"_parent\"><img src=\"https://colab.research.google.com/assets/colab-badge.svg\" alt=\"Open In Colab\"/></a>"
      ]
    },
    {
      "cell_type": "markdown",
      "source": [
        "Una partícula de masa $m$ se mueve a través de un fluido, sujeta a una resistemcia $R$ que es función de la velocidad $v$. La relación entre la resistencia $R$, la velocidad $v$ y el tiempo $t$ está dada por la ecuación\n",
        "\n",
        "$$t=\\int_{V_0}^{V_f}\\frac{m}{R(v)}dv$$\n",
        "\n",
        "Supóngase que $R(v)=-v\\sqrt{v+0.0001}$ para un fluido particular. Si $m=10kg$ y $V_0=10m/s$ aproxime el tiempo requerido para que la partícula reduzca su velocidad a $V_f=5m/s$ usando el método de cuadratura Gaussiana."
      ],
      "metadata": {
        "id": "24i6ox2p9i9a"
      }
    },
    {
      "cell_type": "code",
      "execution_count": null,
      "metadata": {
        "id": "e4qXdPk59iPo"
      },
      "outputs": [],
      "source": []
    }
  ]
}