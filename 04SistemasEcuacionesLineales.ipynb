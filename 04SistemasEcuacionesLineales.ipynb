{
  "nbformat": 4,
  "nbformat_minor": 0,
  "metadata": {
    "colab": {
      "provenance": [],
      "authorship_tag": "ABX9TyO4MlUtbh70TlFaC1QhVJ8M",
      "include_colab_link": true
    },
    "kernelspec": {
      "name": "python3",
      "display_name": "Python 3"
    }
  },
  "cells": [
    {
      "cell_type": "markdown",
      "metadata": {
        "id": "view-in-github",
        "colab_type": "text"
      },
      "source": [
        "<a href=\"https://colab.research.google.com/github/jcjimenezb123/MetodosNumericosPython/blob/master/04SistemasEcuacionesLineales.ipynb\" target=\"_parent\"><img src=\"https://colab.research.google.com/assets/colab-badge.svg\" alt=\"Open In Colab\"/></a>"
      ]
    },
    {
      "cell_type": "markdown",
      "metadata": {
        "id": "0EwHszXftyY9"
      },
      "source": [
        "#Sistemas de ecuaciones lineales"
      ]
    },
    {
      "cell_type": "markdown",
      "metadata": {
        "id": "mA_ssoRGnIsn"
      },
      "source": [
        "##Métodos Directos"
      ]
    },
    {
      "cell_type": "markdown",
      "metadata": {
        "id": "H-vNCZo7uB16"
      },
      "source": [
        "Resolver el siguiente sistema lineal\n",
        "\n",
        "$$\n",
        "\\begin{array}{ccccccc}\n",
        "x&+&y&+&z&=&6\\\\\n",
        "&&2y&+&5z&=&-4\\\\\n",
        "2x&+&5y&-&z&=&27\\\\\n",
        "\\end{array}\n",
        "$$"
      ]
    },
    {
      "cell_type": "code",
      "metadata": {
        "id": "9ftPQjewrN3m"
      },
      "source": [
        "import numpy as np\n",
        "import scipy as sp"
      ],
      "execution_count": null,
      "outputs": []
    },
    {
      "cell_type": "code",
      "metadata": {
        "id": "L7gX-ZbzuzG-"
      },
      "source": [
        "#se crea la matriz de coeficientes del sistema a resolver\n",
        "A=np.array([[1,1,1],\n",
        "            [0,2,5],\n",
        "            [2,5,-1]])\n",
        "#se crea el vector de los terminos independientes\n",
        "b=np.array([[]]) #<--- valores del vector b"
      ],
      "execution_count": null,
      "outputs": []
    },
    {
      "cell_type": "code",
      "metadata": {
        "id": "BPzTtOgQabdQ"
      },
      "source": [
        "A"
      ],
      "execution_count": null,
      "outputs": []
    },
    {
      "cell_type": "code",
      "metadata": {
        "id": "2Vma6bL2voK5"
      },
      "source": [
        "Ab=np.concatenate((A,b.T),axis=1) #se crea la matriz extendida concatenando el vector b como una columna (axis=1)\n",
        "n=np.size(A,axis=1) #regresa el numero de columnas de A, es decir, el numero de incognitas"
      ],
      "execution_count": null,
      "outputs": []
    },
    {
      "cell_type": "code",
      "metadata": {
        "id": "SFcoyAIda3m5"
      },
      "source": [
        "Ab"
      ],
      "execution_count": null,
      "outputs": []
    },
    {
      "cell_type": "markdown",
      "metadata": {
        "id": "744pa6CuxYvB"
      },
      "source": [
        "Validar si tiene solucion unica por el teorema de **Rouche-Frobenius**"
      ]
    },
    {
      "cell_type": "code",
      "metadata": {
        "id": "JQYXkPBkbJ8e"
      },
      "source": [
        "np.linalg.matrix_rank() #<--- rango de A y Ab"
      ],
      "execution_count": null,
      "outputs": []
    },
    {
      "cell_type": "code",
      "metadata": {
        "id": "44vbAfUAxX10"
      },
      "source": [
        "solucion_unica = np.linalg.matrix_rank(A)==np.linalg.matrix_rank(Ab)==n\n",
        "solucion_unica"
      ],
      "execution_count": null,
      "outputs": []
    },
    {
      "cell_type": "markdown",
      "metadata": {
        "id": "Ew88NEqKycrL"
      },
      "source": [
        "Resolver el sistema usando el metodo de **Gauss-Jordan**"
      ]
    },
    {
      "cell_type": "code",
      "metadata": {
        "id": "NymFHM90wBNz"
      },
      "source": [
        "import sympy as sy"
      ],
      "execution_count": null,
      "outputs": []
    },
    {
      "cell_type": "code",
      "metadata": {
        "colab": {
          "base_uri": "https://localhost:8080/",
          "height": 78
        },
        "id": "z-BmDVqOynle",
        "outputId": "134e9ace-e014-4fb3-eb8c-cb8c2671309a"
      },
      "source": [
        "reduccion,_=sy.Matrix(Ab).rref() #rref (row reduced echelon form), es decir, el metodo de Gauss-Jordan\n",
        "reduccion"
      ],
      "execution_count": null,
      "outputs": [
        {
          "output_type": "execute_result",
          "data": {
            "text/latex": "$\\displaystyle \\left[\\begin{matrix}1 & 0 & 0 & 5\\\\0 & 1 & 0 & 3\\\\0 & 0 & 1 & -2\\end{matrix}\\right]$",
            "text/plain": [
              "Matrix([\n",
              "[1, 0, 0,  5],\n",
              "[0, 1, 0,  3],\n",
              "[0, 0, 1, -2]])"
            ]
          },
          "metadata": {},
          "execution_count": 15
        }
      ]
    },
    {
      "cell_type": "markdown",
      "metadata": {
        "id": "WYossKoJzaJZ"
      },
      "source": [
        "por lo tanto el conjunto solucion es\n",
        "\n",
        "* $x=5$\n",
        "* $y=3$\n",
        "* $z=-2$"
      ]
    },
    {
      "cell_type": "markdown",
      "metadata": {
        "id": "Ck4IpeR6zwKm"
      },
      "source": [
        "Aplicando el metodo de **inversa-multiplicacion**"
      ]
    },
    {
      "cell_type": "code",
      "metadata": {
        "id": "M9Z5wB4qzJf-"
      },
      "source": [
        "#se obtiene la inversa de la matriz de coeficientes A\n",
        "Ainv=np.linalg.inv(A)\n",
        "Ainv"
      ],
      "execution_count": null,
      "outputs": []
    },
    {
      "cell_type": "code",
      "metadata": {
        "id": "l2hsJItu0IBX"
      },
      "source": [
        "x=Ainv.dot(b.T) #se multiplica la inversa de A por el vector b\n",
        "x"
      ],
      "execution_count": null,
      "outputs": []
    },
    {
      "cell_type": "markdown",
      "metadata": {
        "id": "ARLIlHYM0tv4"
      },
      "source": [
        "Aplicando la regla de **Cramer**"
      ]
    },
    {
      "cell_type": "code",
      "metadata": {
        "id": "VQ7gXW1Y0aTI"
      },
      "source": [
        "DetA=np.linalg.det(A)\n",
        "x=np.empty(n)\n",
        "\n",
        "for i in range(n):\n",
        "  Ax=A.copy()\n",
        "  Ax[:,i]=b.copy()\n",
        "  DetAx=np.linalg.det(Ax)\n",
        "  x[i]=DetAx/DetA\n",
        "\n",
        "print(x)"
      ],
      "execution_count": null,
      "outputs": []
    },
    {
      "cell_type": "markdown",
      "metadata": {
        "id": "psqDN5Jx5EmP"
      },
      "source": [
        "Se aplica la funcion **solve** de numpy"
      ]
    },
    {
      "cell_type": "code",
      "metadata": {
        "id": "ItYKJ8lZ1GpZ"
      },
      "source": [
        "x=np.linalg.solve(A,b.T)\n",
        "x"
      ],
      "execution_count": null,
      "outputs": []
    },
    {
      "cell_type": "markdown",
      "metadata": {
        "id": "gXOXKsd-5pOj"
      },
      "source": [
        "##Sistemas homogeneos $Ax=0$"
      ]
    },
    {
      "cell_type": "markdown",
      "metadata": {
        "id": "ZsosAB9z5uJP"
      },
      "source": [
        "Balancear la siguiente ecuación química\n",
        "\n",
        "$$\n",
        "x_1Pb(N_3)_2 + x_2Cr(MnO_4)_2 \\rightarrow x_3Cr_2O_3 + x_4MnO_2 + x_5Pb_3O_4 + x_6NO\n",
        "$$\n",
        "\n",
        "Balance por elemento\n",
        "\n",
        "* $Pb: x_1 = 3x_5 \\Rightarrow x1–3x_5 = 0$\n",
        "* $N: 6x_1 = x_6 \\Rightarrow 6x_1 -x_6 = 0$\n",
        "* $Cr: x_2 = 2x_3 \\Rightarrow x_2–2x_3 = 0$\n",
        "* $Mn: 2x_2 = x_4 \\Rightarrow 2x_2–x_4 = 0$\n",
        "* $O: 8x_2 = 3x_3 +2x_4 +4x_5 +x_6 \\Rightarrow 8x_2 -3x_3 -2x_4 -4x_5 -x_6 = 0$\n",
        "\n",
        "El sistema de ecuaciones lineales es\n",
        "\n",
        "$$\n",
        "\\begin{pmatrix}\n",
        "1& 0& 0& 0& -3& 0\\\\\n",
        "6& 0& 0& 0& 0& -1\\\\\n",
        "0& 1& -2& 0& 0& 0\\\\\n",
        "0& 2& 0& -1& 0& 0\\\\\n",
        "0& 8& -3& -2& -4& -1\n",
        "\\end{pmatrix}\n",
        "$$"
      ]
    },
    {
      "cell_type": "code",
      "metadata": {
        "id": "tISmJkAF5SjW"
      },
      "source": [
        "import numpy as np\n",
        "A=np.array([[1 , 0, 0, 0,-3, 0 ],\n",
        "            [ 6 , 0, 0, 0, 0,-1 ],\n",
        "            [ 0 , 1,-2, 0, 0, 0 ],\n",
        "            [ 0 , 2, 0,-1, 0, 0 ],\n",
        "            [ 0 , 8,-3,-2,-4,-1 ]])\n",
        "\n",
        "b=np.array([[0 ,0 ,0 ,0 ,0]])"
      ],
      "execution_count": null,
      "outputs": []
    },
    {
      "cell_type": "code",
      "metadata": {
        "id": "p2WZzTUW6_MU"
      },
      "source": [
        "Ab=np.concatenate((A,b.T),axis=1)\n",
        "n=np.size(A,axis=1)"
      ],
      "execution_count": null,
      "outputs": []
    },
    {
      "cell_type": "code",
      "metadata": {
        "id": "WCANam0teQP3"
      },
      "source": [
        "Ab"
      ],
      "execution_count": null,
      "outputs": []
    },
    {
      "cell_type": "code",
      "metadata": {
        "id": "U5jYgn_a7ORm"
      },
      "source": [
        "solucion_unica = np.linalg.matrix_rank(A)==np.linalg.matrix_rank(Ab)==n\n",
        "solucion_unica"
      ],
      "execution_count": null,
      "outputs": []
    },
    {
      "cell_type": "code",
      "metadata": {
        "id": "voAoZSaD7gWd"
      },
      "source": [
        "solucion_multiple = np.linalg.matrix_rank(A)==np.linalg.matrix_rank(Ab)<n\n",
        "solucion_multiple"
      ],
      "execution_count": null,
      "outputs": []
    },
    {
      "cell_type": "code",
      "metadata": {
        "id": "DImStTN_7vJS"
      },
      "source": [
        "import sympy as sy\n",
        "\n",
        "reduccion,_=sy.Matrix(Ab).rref()\n",
        "reduccion"
      ],
      "execution_count": null,
      "outputs": []
    },
    {
      "cell_type": "markdown",
      "metadata": {
        "id": "9iAt0B3884J4"
      },
      "source": [
        "Por lo tanto el sistema tiene multiples soluciones y guarda las siguientes proporciones\n",
        "\n",
        "* $x_1=1/6x_6$\n",
        "* $x_2=22/45x_6$\n",
        "* $x_3=11/45x_6$\n",
        "* $x_4=44/45x_6$\n",
        "* $x_5=1/18x_6$\n",
        "\n",
        "el conjunto solucion queda expresado como\n",
        "\n",
        "$$\n",
        "(1/6x_6,22/45x_6,11/45x_6,44/45x_6,1/18x_6,x_6)\n",
        "$$\n",
        "\n",
        "para resolver el problema del balanceo de la reaccion quimica se debe buscar un valor de $x_6$ de tal manera que los valores del resto de las incognitas sea un entero.\n",
        "\n",
        "por ejemplo $x_6=90$\n",
        "\n"
      ]
    },
    {
      "cell_type": "code",
      "metadata": {
        "id": "_7t9Xcts8B4H"
      },
      "source": [
        "x6=90\n",
        "x1=-x6*reduccion[0,-2]\n",
        "x2=-x6*reduccion[1,-2]\n",
        "x3=-x6*reduccion[2,-2]\n",
        "x4=-x6*reduccion[3,-2]\n",
        "x5=-x6*reduccion[4,-2]\n",
        "\n",
        "print(x1,x2,x3,x4,x5,x6)"
      ],
      "execution_count": null,
      "outputs": []
    },
    {
      "cell_type": "markdown",
      "metadata": {
        "id": "1zrDaTzo_KZr"
      },
      "source": [
        "Por lo tanto la reaccion balanceada es\n",
        "\n",
        "$$\n",
        "15Pb(N_3)_2 + 44Cr(MnO_4)_2 \\rightarrow 22Cr_2O_3 + 88MnO_2 + 5Pb_3O_4 + 90NO\n",
        "$$"
      ]
    },
    {
      "cell_type": "markdown",
      "metadata": {
        "id": "Hm0uifKvm-kB"
      },
      "source": [
        "##Metodos iterativos"
      ]
    },
    {
      "cell_type": "markdown",
      "metadata": {
        "id": "4kf91Fe5lAOJ"
      },
      "source": [
        "En el metodo de Jacobi se descompone la matriz de coeficientes $A$ en dos matrices, una se compone de los elementos de la diagonal $D_{i,i}=A_{i,i}$. La matriz $D$ no debe tener elementos cero, si fuera asi se deben intercambiar los renglones para evitar el caso. La otra matriz es el resto de los elementos, es decir los elementos que no son la diagonal $R_{i,j}=A_{i,j}$ de tal manera que $A=D+R$.\n",
        "\n",
        "\\begin{array}\n",
        "A&A=&\n",
        "\\begin{pmatrix}\n",
        "A_{1,1} & A_{1,2} & \\cdots & A_{1,n}\\\\\n",
        "A_{2,1} & A_{2,2} & \\cdots & A_{2,n}\\\\\n",
        "\\vdots & \\vdots & \\ddots & \\vdots\\\\\n",
        "A_{n,1} & A_{n,2} & \\cdots & A_{n,n}\\\\\n",
        "\\end{pmatrix}\n",
        "&D&=&\n",
        "\\begin{pmatrix}\n",
        "A_{1,1} &0 & \\cdots & 0\\\\\n",
        "0 & A_{2,2} & \\cdots & 0\\\\\n",
        "\\vdots & \\vdots & \\ddots & \\vdots\\\\\n",
        "0 & 0 & \\cdots & A_{n,n}\\\\\n",
        "\\end{pmatrix}\n",
        "$\\\\\n",
        " & \\\\\n",
        "R&=&\n",
        "\\begin{pmatrix}\n",
        "0 & A_{1,2} & \\cdots & A_{1,n}\\\\\n",
        "A_{2,1} & 0 & \\cdots & A_{2,n}\\\\\n",
        "\\vdots & \\vdots & \\ddots & \\vdots\\\\\n",
        "A_{n,1} & A_{n,2} & \\cdots & 0\\\\\n",
        "\\end{pmatrix}\n",
        "\\end{array}\n",
        "\n",
        "Por lo tanto, la ecuacion que describe un sistema de ecuaciones lineales $Ax=b$ ahora se expresa como $[D+R]x=b$.\n",
        "\n",
        "\\begin{equation*}\n",
        "\\begin{split}\n",
        "Dx+Rx&=b\\\\\n",
        "Dx&=b-Rx\\\\\n",
        "D^{-1}Dx&=D^{-1}(b-Rx)\\\\\n",
        "x&=D^{-1}(b-Rx)\n",
        "\\end{split}\n",
        "\\end{equation*}\n",
        "\n",
        "Ecuacion iterativa de Jacobi\n",
        "$$\n",
        "x^{(k+1)}=D^{-1}\\left( b-Rx^{(k)} \\right)\n",
        "$$\n",
        "\n",
        "La ecuacion iterativa de Jacobi se inicia con valores supuestos $x^{(k)}$ y la ecuacion iterativa obtiene los siguientes valores $x^{(k+1)}$. El proceso se repite hasta que la diferencia absoluta entre $x^{(k+1)}$ y $x^{(k)}$ sea minima.\n"
      ]
    },
    {
      "cell_type": "markdown",
      "metadata": {
        "id": "vI_l159PneiI"
      },
      "source": [
        "En una columna de 5 platos, se requiere absorber benceno contenido en una corriente de gas V, con aceite L que circula a contracorriente del gas. Considerese que el benceno transferido no altera sustancialmente el numero de moles de V y L fluyendo a contracorriente, que relacion de equilibrio esta dada por la ley de Henry ($y = mx$) y que la columna opera a regimen permanente. Calcule la composicion en cada plato.\n",
        "\n",
        "\\begin{array}\n",
        "xDatos:&V = 100 & moles/min\\\\\n",
        " & L = 500 & moles/min\\\\\n",
        " & y_0 = 0.09 & \\text{fraccion molar de benceno en V}\\\\\n",
        " & x_0 = 0.0 & \\text{fraccion de benceno en L (el aceite entra por el domo sin benceno)}\\\\\n",
        " & m = 0.12\n",
        "\\end{array}\n",
        "\n",
        "Sistema\n",
        "\n",
        "\\begin{pmatrix}\n",
        "-512x_5 & 12x_4 & 0 & 0 & 0 & 0\\\\\n",
        "500x_5 & -512x_4 & 12x_3 & 0 & 0 & 0\\\\\n",
        "0 & 500x_4 & -512x_3 & 12x_2 & 0 & 0\\\\\n",
        "0 & 0 & 500x_3 & -512x_2 & 12x_1 & 0\\\\\n",
        "0 & 0 & 0 & -500x_2 & 512x_1 & 9\\\\\n",
        "\\end{pmatrix}"
      ]
    },
    {
      "cell_type": "code",
      "metadata": {
        "id": "LvMmmm4i_xYP"
      },
      "source": [
        "import numpy as np #Se importa la biblioteca de numpy para hacer las operaciones de vectores\n",
        "\n",
        "def jacobi(A,b,x,imax =100,tol=1e-8) :\n",
        "  '''\n",
        "  El metodo de Jacobi es un metodo iterativo para resolver sistemas de ecuaciones\n",
        "  lineales. Es recomendable que el sistema sea diagonalmente dominante\n",
        "  Argumentos:\n",
        "  ---\n",
        "  A es la matriz de coeficientes\n",
        "  b es el vector de constantes\n",
        "  x es el vector inicial\n",
        "  imax es el numero maximo de iteraciones\n",
        "  tol es la tolerancia\n",
        "  Devuelve el consunto solucion\n",
        "  '''\n",
        "  D=np.diag(A) #se obtiene la matriz D que es la diagonal de A\n",
        "  R=A-np.diagflat(D) #se obtiene la matriz R con el resto de D\n",
        "  cumple = False\n",
        "  k=0\n",
        "  #se hace el ciclo para iterar hasta que se cumpla el criterio de convergencia\n",
        "  while (not cumple and k< imax):\n",
        "     xk1 =(b-np.dot(R,x))/D #se aplica la ecuacion iterativa de Jacobi\n",
        "     norma =np.linalg.norm(x- xk1 ) #se calcula la norma euclidea\n",
        "     print (' iteracion :{} - >{} norma {} '.format(k,x,norma)) #se muestra cada iteracion\n",
        "     cumple =norma < tol #se valida el criterio de convergencia\n",
        "     x= xk1.copy() #se toma el valor calculado para la sig iteracion\n",
        "     k +=1 #cuenta las iteraciones\n",
        "\n",
        "  if k< imax :\n",
        "    return x #retorna el conjunto solucion\n",
        "  else :\n",
        "    raise ValueError ( 'El sistema no converge ')"
      ],
      "execution_count": null,
      "outputs": []
    },
    {
      "cell_type": "code",
      "metadata": {
        "id": "6u4I-6clpG_M"
      },
      "source": [
        "#se crea la matriz de coeficientes del sistema\n",
        "A = np.array([[ -512 ,12 ,0 ,0 ,0] ,\n",
        "                [500 , -512 ,12 ,0 ,0] ,\n",
        "                [0 ,500 , -512 ,12 ,0] ,\n",
        "                [0 ,0 ,500 , -512 ,12] ,\n",
        "                [0 ,0 ,0 , -500 ,512]])\n",
        "#se crea el vector de las constantes del sistema\n",
        "b = np.array([0 ,0 ,0 ,0 ,9])\n",
        "#se crea el vector inicial\n",
        "x = np.array([])  #<--- valores iniciales\n",
        "#se llama al metodo de jacobi\n",
        "x= jacobi(A,b,x)\n",
        "print('\\n\\nSolucion : ',x)"
      ],
      "execution_count": null,
      "outputs": []
    },
    {
      "cell_type": "code",
      "metadata": {
        "id": "H7Kna_vmp09g"
      },
      "source": [
        "def gaussSeidel(A,b,x, imax =100 , tol =1e-8) :\n",
        "  '''\n",
        "  El metodo de Gauss Seidel es un metodo iterativo para resolver sistemas de ecuaciones\n",
        "  lineales. Es recomendable que el sistema sea diagonalmente dominante\n",
        "  Argumentos:\n",
        "  ---\n",
        "  A es la matriz de coeficientes\n",
        "  b es el vector de constantes\n",
        "  x es el vector inicial\n",
        "  imax es el numero maximo de iteraciones\n",
        "  tol es la tolerancia\n",
        "  Devuelve el conjunto solucion\n",
        "  '''\n",
        "  L=np.tril(A) #se obtiene la matriz triangular inferior\n",
        "  U=A-L #se obtiene la matriz triangular superior\n",
        "  Linv =np.linalg.inv(L) #se obtiene la inversa de L\n",
        "  cumple = False\n",
        "  k=0\n",
        "  #se hacen las iteraciones hasta cumplir con el criterio de convergencia\n",
        "  while (not cumple and k< imax):\n",
        "    xk1 =np.dot(Linv,b-np.dot(U,x)) #se aplica la ecuacion iterativa de Gauss Seidel\n",
        "    norma =np.linalg.norm(x- xk1) #se obtiene la norma euclidea\n",
        "    print (' iteracion :{} - >{} norma {} '.format(k,x, norma )) #se muestra cada iteracion\n",
        "    cumple =norma < tol #se valida el criterio de convergencia\n",
        "    x= xk1.copy() #se usa el valor obtenido para la sig iteracion\n",
        "    k +=1 #se cuentan las iteraciones\n",
        "\n",
        "  if k< imax :\n",
        "    return x #retorna el conjunto solucion\n",
        "  else :\n",
        "    raise ValueError( 'El sistema no converge ')"
      ],
      "execution_count": null,
      "outputs": []
    },
    {
      "cell_type": "code",
      "metadata": {
        "id": "5DF6mE2fqMFq"
      },
      "source": [
        "A = np. array ([[ -512 ,12 ,0 ,0 ,0] ,\n",
        "                [500 , -512 ,12 ,0 ,0] ,\n",
        "                [0 ,500 , -512 ,12 ,0] ,\n",
        "                [0 ,0 ,500 , -512 ,12] ,\n",
        "                [0 ,0 ,0 , -500 ,512]])\n",
        "b = np. array ([0 ,0 ,0 ,0 ,9])\n",
        "x = np. array ([]) #<--- valores iniciales\n",
        "x= gaussSeidel (A,b,x)\n",
        "print ( '\\n\\nSolucion : ',x)"
      ],
      "execution_count": null,
      "outputs": []
    },
    {
      "cell_type": "code",
      "metadata": {
        "id": "y8onhOZ2qSAv"
      },
      "source": [
        "def sor(A,b,x,w=1,imax =100,tol=1e-8) :\n",
        "  '''\n",
        "  El metodo SOR es un metodo iterativo para resolver sistemas de ecuaciones\n",
        "  lineales. Se utiliza el factor w para hacer la relajacion\n",
        "  Argumentos:\n",
        "  ---\n",
        "  A es la matriz de coeficientes\n",
        "  b es el vector de constantes\n",
        "  x es el vector inicial\n",
        "  w es el facor de relajacion\n",
        "  0<w<1 sub relajacion para hacer convergente el sistema\n",
        "  1<w<2 sobre relajacion para acelerar la convergencia\n",
        "  imax es el numero maximo de iteraciones\n",
        "  tol es la tolerancia\n",
        "  Devuelve el conjunto solucion\n",
        "  '''\n",
        "  cumple = False\n",
        "  n=A.shape[0]\n",
        "  k=0\n",
        "  #se hace el ciclo de las iteraciones\n",
        "  while ( not cumple and k< imax ):\n",
        "    xk1 = np.zeros(n)\n",
        "    for i in range(n):\n",
        "      s1 = np.dot(A[i ,:i], xk1 [:i]) #primer suma\n",
        "      s2 = np.dot(A[i,i+1:], x[i +1:]) #segunda suma\n",
        "      xk1[i] = (b[i]-s1 -s2)/A[i, i]*w+(1 -w)*x[i] #se aplica la ecuacion iterativa de SOR\n",
        "\n",
        "    norma =np.linalg.norm(x- xk1 ) #se calcula la norma euclidea\n",
        "    print (' iteracion :{} - >{} norma {} '.format(k,xk1,norma)) #se muestra cada iteracion\n",
        "    cumple =norma < tol #se valida el criterio de convergencia\n",
        "    x= xk1 #se usa el valor calculado para la sig iteracion\n",
        "    k +=1 #se cuentan las iteraciones\n",
        "\n",
        "  if k< imax :\n",
        "    return x #retorna el conjunto solucion\n",
        "  else :\n",
        "    raise ValueError( 'El sistema no converge ')"
      ],
      "execution_count": null,
      "outputs": []
    },
    {
      "cell_type": "code",
      "metadata": {
        "id": "rgv3dEZOq6Ep"
      },
      "source": [
        "A = np. array ([[ -512 ,12 ,0 ,0 ,0] ,\n",
        "                [500 , -512 ,12 ,0 ,0] ,\n",
        "                [0 ,500 , -512 ,12 ,0] ,\n",
        "                [0 ,0 ,500 , -512 ,12] ,\n",
        "                [0 ,0 ,0 , -500 ,512]])\n",
        "b = np. array ([0 ,0 ,0 ,0 ,9])\n",
        "x = np. array ([])  #<--- valores iniciales del vector x\n",
        "\n",
        "w =  #<--- valor del factor\n",
        "x= sor(A,b,x,w)\n",
        "print ( '\\n\\nSolucion : ',x)"
      ],
      "execution_count": null,
      "outputs": []
    }
  ]
}