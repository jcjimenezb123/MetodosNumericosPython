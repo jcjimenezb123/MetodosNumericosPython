{
  "nbformat": 4,
  "nbformat_minor": 0,
  "metadata": {
    "colab": {
      "name": "InterpolacionLineal.ipynb",
      "provenance": [],
      "authorship_tag": "ABX9TyOvzfihv3+R28rlbqm0k/ju",
      "include_colab_link": true
    },
    "kernelspec": {
      "name": "python3",
      "display_name": "Python 3"
    }
  },
  "cells": [
    {
      "cell_type": "markdown",
      "metadata": {
        "id": "view-in-github",
        "colab_type": "text"
      },
      "source": [
        "<a href=\"https://colab.research.google.com/github/jcjimenezb123/MetodosNumericosPython/blob/master/InterpolacionLineal.ipynb\" target=\"_parent\"><img src=\"https://colab.research.google.com/assets/colab-badge.svg\" alt=\"Open In Colab\"/></a>"
      ]
    },
    {
      "cell_type": "markdown",
      "metadata": {
        "id": "Te_jlCrXJfv0"
      },
      "source": [
        "#Interpolación lineal"
      ]
    },
    {
      "cell_type": "markdown",
      "metadata": {
        "id": "heH7UUQ0Jorm"
      },
      "source": [
        "La medición de la densidad del carbonato de potasio a distintas concentraciones a temperatura constante genera los siguientes datos.\r\n",
        "\r\n",
        "$$\r\n",
        "\\begin{array}{l|c|c|c|c|c|c}\r\n",
        "\\text{Concentración}&4.1& 12.2& 20.3& 28.2& 38.1& 45.2\\\\\r\n",
        "\\hline\r\n",
        "\\text{Densidad}&1.0276& 1.1013& 1.1801& 1.2652& 1.3480& 1.4120\r\n",
        "\\end{array}\r\n",
        "$$\r\n",
        "\r\n",
        "Obtener la densidad del Carbonato de Potasio a una concentración de 15%."
      ]
    },
    {
      "cell_type": "code",
      "metadata": {
        "id": "WmaYzV-PJXiZ"
      },
      "source": [
        "import numpy as np\r\n",
        "from scipy import interpolate\r\n",
        "import matplotlib.pyplot as plt"
      ],
      "execution_count": 4,
      "outputs": []
    },
    {
      "cell_type": "code",
      "metadata": {
        "id": "EBLYmkCaLmge"
      },
      "source": [
        "x=np.array([4.1,12.2,20.3,28.2,38.1,45.2])\r\n",
        "y=np.array([1.0276,1.1013,1.1801,1.2652,1.3480,1.4120])"
      ],
      "execution_count": 5,
      "outputs": []
    },
    {
      "cell_type": "code",
      "metadata": {
        "id": "D0s-owznL6wK"
      },
      "source": [
        "polinomio=interpolate.interp1d(x,y)\r\n",
        "xi=15\r\n",
        "yi=polinomio(xi)"
      ],
      "execution_count": 8,
      "outputs": []
    },
    {
      "cell_type": "code",
      "metadata": {
        "colab": {
          "base_uri": "https://localhost:8080/",
          "height": 297
        },
        "id": "WS0BX9fzM58A",
        "outputId": "275eef6e-e5b2-45ae-f5b8-aee414bd4fd1"
      },
      "source": [
        "plt.plot(x,y,'o:',xi,yi,'sr')\r\n",
        "plt.grid()\r\n",
        "plt.title('Densidad del carbonato de potasio',fontsize=16)\r\n",
        "plt.xlabel('Concentracion')\r\n",
        "plt.ylabel('Densidad')\r\n",
        "plt.text(xi,yi,' interpolacion '+str(yi))\r\n",
        "plt.show()"
      ],
      "execution_count": 12,
      "outputs": [
        {
          "output_type": "display_data",
          "data": {
            "image/png": "[encoded data removed]",
            "text/plain": [
              "<Figure size 432x288 with 1 Axes>"
            ]
          },
          "metadata": {
            "tags": [],
            "needs_background": "light"
          }
        }
      ]
    },
    {
      "cell_type": "code",
      "metadata": {
        "id": "rwmOI1zBOx72"
      },
      "source": [
        ""
      ],
      "execution_count": null,
      "outputs": []
    }
  ]
}