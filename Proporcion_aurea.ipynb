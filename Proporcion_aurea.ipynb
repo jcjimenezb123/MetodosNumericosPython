{
  "nbformat": 4,
  "nbformat_minor": 0,
  "metadata": {
    "colab": {
      "provenance": [],
      "authorship_tag": "ABX9TyP5J6vkxlyeHGh/68AahBy2",
      "include_colab_link": true
    },
    "kernelspec": {
      "name": "python3",
      "display_name": "Python 3"
    },
    "language_info": {
      "name": "python"
    }
  },
  "cells": [
    {
      "cell_type": "markdown",
      "metadata": {
        "id": "view-in-github",
        "colab_type": "text"
      },
      "source": [
        "<a href=\"https://colab.research.google.com/github/jcjimenezb123/MetodosNumericosPython/blob/master/Proporcion_aurea.ipynb\" target=\"_parent\"><img src=\"https://colab.research.google.com/assets/colab-badge.svg\" alt=\"Open In Colab\"/></a>"
      ]
    },
    {
      "cell_type": "markdown",
      "source": [
        "Proporción aurea\n",
        "---\n",
        "La proporción áurea, es un concepto matemático y estético que ha fascinado a los artistas, arquitectos y matemáticos a lo largo de la historia. Se denota generalmente por la letra griega φ (phi).\n",
        "\n",
        "La razón dorada se define en términos de una proporción entre dos segmentos, de manera que el cociente de la longitud total a la longitud del segmento más largo es igual al cociente de la longitud del segmento más largo a la longitud del segmento más corto. Matemáticamente, se puede expresar de la siguiente manera:\n",
        "$$\n",
        "(a + b) / a = a / b = φ\n",
        "$$\n",
        "Donde $a$ representa la longitud del segmento más largo, $b$ representa la longitud del segmento más corto y $φ$ es la razón dorada.\n",
        "\n",
        "|           a    | b |\n",
        "|----|---|\n",
        "|<------------------->|<------>|\n",
        "\n",
        "La ecuación anterior la podemos escribir como\n",
        "$$\n",
        "a/a + b / a = a / b = φ\n",
        "$$\n",
        "$$\n",
        "1 + 1 / φ = φ\n",
        "$$\n",
        "multiplicando por $φ$\n",
        "$$\n",
        "φ + 1 = φ^2\n",
        "$$\n",
        "\n",
        "$$\n",
        "φ^2 - φ - 1 =0\n",
        "$$\n",
        "\n",
        "aplicando la regla general para obtener $φ$\n",
        "\n",
        "$$\n",
        "φ = \\frac{\\sqrt{5}-1}{2} \\approx 0.6180339887498949\n",
        "$$"
      ],
      "metadata": {
        "id": "mKhbqJXMW-mC"
      }
    },
    {
      "cell_type": "code",
      "execution_count": 2,
      "metadata": {
        "colab": {
          "base_uri": "https://localhost:8080/"
        },
        "id": "BBMpUQ-rW-Ee",
        "outputId": "18a5f29d-8385-4e64-f92a-dd9899c4ada3"
      },
      "outputs": [
        {
          "output_type": "stream",
          "name": "stdout",
          "text": [
            "0.6180339887498949 1.6180339887498947\n"
          ]
        }
      ],
      "source": [
        "import numpy as np\n",
        "phi = (np.sqrt(5)-1)/2\n",
        "print(phi,1/phi)"
      ]
    },
    {
      "cell_type": "markdown",
      "source": [
        "[Proporcion aurea](https://ovacen.com/proporcion-aurea-que-es/)"
      ],
      "metadata": {
        "id": "OM5Kw8qDA0ar"
      }
    },
    {
      "cell_type": "markdown",
      "source": [
        "Secuencia de Fibonacci\n",
        "---\n",
        "La serie de Fibonacci es una secuencia numérica que comienza con los números 0 y 1, y luego cada número subsiguiente es la suma de los dos números anteriores. La secuencia se extiende infinitamente y se denota comúnmente como F(n), donde \"n\" es la posición en la secuencia.\n",
        "\n",
        "La serie de Fibonacci se construye de la siguiente manera:\n",
        "\n",
        "1. Los dos primeros números de la secuencia son 0 y 1: F(0) = 0 y F(1) = 1.\n",
        "\n",
        "1. A partir del tercer número en adelante, cada número en la secuencia es la suma de los dos números anteriores: F(n) = F(n-1) + F(n-2).\n",
        "\n",
        "Por lo tanto, los primeros números de la secuencia de Fibonacci son: 0, 1, 1, 2, 3, 5, 8, 13, 21, 34, 55, 89, 144, y así sucesivamente.\n",
        "\n",
        "La serie de Fibonacci tiene muchas propiedades interesantes y se encuentra en diversas áreas de las matemáticas y la naturaleza. Algunas de las propiedades notables incluyen:\n",
        "\n",
        "1. La razón entre dos números consecutivos en la serie de Fibonacci se acerca cada vez más a la razón dorada (φ ≈ 1.618033988749895) a medida que avanzamos en la secuencia. Esta relación es conocida como la aproximación de la razón dorada y es una propiedad fascinante y notable.\n",
        "\n",
        "1. La serie de Fibonacci está estrechamente relacionada con la espiral de Fibonacci, una espiral que se forma conectando arcos que tienen longitudes proporcionales a los números de Fibonacci.\n",
        "\n",
        "1. Los números de Fibonacci tienen aplicaciones en matemáticas, ciencias de la computación, biología y otras áreas. Aparecen en problemas relacionados con combinatoria, teoría de números, algoritmos y muchos otros campos.\n",
        "\n",
        "La serie de Fibonacci es un ejemplo clásico de una secuencia recursiva y ha cautivado a matemáticos y entusiastas durante siglos debido a sus patrones intrigantes y su presencia en la naturaleza y el arte."
      ],
      "metadata": {
        "id": "J906agGQL4aW"
      }
    },
    {
      "cell_type": "code",
      "source": [
        "fibonacci=[] #<--- valores iniciales de la secuencia de Fibonacci\n",
        "\n",
        "fibonacci.append(fibonacci[-2]+fibonacci[-1]);print(fibonacci)\n",
        "fibonacci.append(fibonacci[-2]+fibonacci[-1]);print(fibonacci)\n",
        "fibonacci.append(fibonacci[-2]+fibonacci[-1]);print(fibonacci)\n",
        "fibonacci.append(fibonacci[-2]+fibonacci[-1]);print(fibonacci)\n",
        "fibonacci.append(fibonacci[-2]+fibonacci[-1]);print(fibonacci)\n",
        "fibonacci.append(fibonacci[-2]+fibonacci[-1]);print(fibonacci)\n",
        "fibonacci.append(fibonacci[-2]+fibonacci[-1]);print(fibonacci)\n",
        "fibonacci.append(fibonacci[-2]+fibonacci[-1]);print(fibonacci)\n",
        "fibonacci.append(fibonacci[-2]+fibonacci[-1]);print(fibonacci)\n",
        "fibonacci.append(fibonacci[-2]+fibonacci[-1]);print(fibonacci)\n",
        "fibonacci.append(fibonacci[-2]+fibonacci[-1]);print(fibonacci)\n",
        "\n",
        "print(fibonacci[-2]/fibonacci[-1])"
      ],
      "metadata": {
        "id": "AxQ6GQEy52Tt"
      },
      "execution_count": null,
      "outputs": []
    },
    {
      "cell_type": "markdown",
      "source": [
        "[Fibonacci sequence video](https://www.youtube.com/watch?v=P0tLbl5LrJ8)\n",
        "\n",
        "[Fibonacci music](https://www.youtube.com/watch?v=IGJeGOw8TzQ)\n",
        "\n",
        "[Literalus video](https://www.youtube.com/watch?v=uOHkeH2VaE0&t=50s)"
      ],
      "metadata": {
        "id": "Gv3qfAGpIHYG"
      }
    }
  ]
}