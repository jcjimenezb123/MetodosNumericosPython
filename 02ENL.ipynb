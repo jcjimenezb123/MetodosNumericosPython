{
  "nbformat": 4,
  "nbformat_minor": 0,
  "metadata": {
    "colab": {
      "name": "ENL_cerrados.ipynb",
      "provenance": [],
      "authorship_tag": "ABX9TyM5vUc9cesx34xfetVtd066",
      "include_colab_link": true
    },
    "kernelspec": {
      "name": "python3",
      "display_name": "Python 3"
    }
  },
  "cells": [
    {
      "cell_type": "markdown",
      "metadata": {
        "id": "view-in-github",
        "colab_type": "text"
      },
      "source": [
        "<a href=\"https://colab.research.google.com/github/jcjimenezb123/MetodosNumericosPython/blob/master/02ENL.ipynb\" target=\"_parent\"><img src=\"https://colab.research.google.com/assets/colab-badge.svg\" alt=\"Open In Colab\"/></a>"
      ]
    },
    {
      "cell_type": "code",
      "metadata": {
        "id": "sPGTzJ4X-C4D"
      },
      "source": [
        "import numpy as np\n",
        "from tabulate import tabulate"
      ],
      "execution_count": null,
      "outputs": []
    },
    {
      "cell_type": "markdown",
      "metadata": {
        "id": "j8KejAAk5QrH"
      },
      "source": [
        "#Metodos Cerrados"
      ]
    },
    {
      "cell_type": "markdown",
      "metadata": {
        "id": "2zR9Cubt49Gi"
      },
      "source": [
        "##Metodo de Biseccion"
      ]
    },
    {
      "cell_type": "code",
      "metadata": {
        "id": "OeoYL3Ep-Plk"
      },
      "source": [
        "def biseccion(f,x0,x1,tol=1e-5):\n",
        "  '''\n",
        "  El metodo de Biseccion es un metodo cerrado para resolver ecuaciones no lineales\n",
        "  los argumentos son:\n",
        "       f : ecuacion a resolver expresada en la forma f(x)=0\n",
        "  x0, x1 : puntos que encierran la raiz f(x0)*f(x1)<0\n",
        "     tol : tolerancia (valor por defecto 1e-5)\n",
        "  '''\n",
        "  if f(x0)*f(x1)>0:\n",
        "    raise Exception('') #<---- escriba el mensaje de error en intervalo\n",
        "  x=x0\n",
        "  it=0\n",
        "  tabla=[]\n",
        "  columnas=['x0','x','x1','f(x0)','f(x)','f(x1)']\n",
        "  while np.abs(f(x))>tol:\n",
        "    x = #<--- escriba el calculo de x (mitad del intervalo)\n",
        "    iter = [x0,x,x1,f(x0),f(x),f(x1)]\n",
        "    tabla.append(iter)\n",
        "    it+=1\n",
        "    if f(x0)*f(x)<0:\n",
        "      x1= #<---- [x0,x->x1]\n",
        "    else:\n",
        "      x0= #<---- [x->x0,x1]\n",
        "  print(tabulate(tabla,columnas,showindex=True))\n",
        "  return x"
      ],
      "execution_count": null,
      "outputs": []
    },
    {
      "cell_type": "code",
      "metadata": {
        "id": "Nm2M3RUH2W3N"
      },
      "source": [
        "help(biseccion)"
      ],
      "execution_count": null,
      "outputs": []
    },
    {
      "cell_type": "code",
      "source": [
        "f = #<--- definir la funcion a resolver"
      ],
      "metadata": {
        "id": "2E7syQOuSUxE"
      },
      "execution_count": null,
      "outputs": []
    },
    {
      "cell_type": "code",
      "source": [
        "import plotly.express as xp\n",
        "xs=np.linspace(-10,10)\n",
        "\n",
        "fig = xp.line(x=,y=,\n",
        "              markers='line+markers',\n",
        "              labels={'x':'Eje x','y':'Eje y'},\n",
        "              title='Mi grafica') #<--- completar los parametros a graficar\n",
        "fig.show()"
      ],
      "metadata": {
        "id": "F_vAICbW104R"
      },
      "execution_count": null,
      "outputs": []
    },
    {
      "cell_type": "code",
      "source": [
        "r=  #<--- hacer la llamada a la funcion biseccion\n",
        "print(r)"
      ],
      "metadata": {
        "id": "FNDUpCCI3RGf"
      },
      "execution_count": null,
      "outputs": []
    },
    {
      "cell_type": "code",
      "source": [
        "import plotly.express as xp\n",
        "xs=np.linspace(-10,10)\n",
        "\n",
        "fig = xp.line(x=,y=,\n",
        "              markers='line+markers',\n",
        "              labels={'x':'Eje x','y':'Eje y'},\n",
        "              title='Mi grafica') #<--- completar los parametros a graficar\n",
        "fig.add_scatter(x=[],y=[],mode='lines+markers',name=\"Raiz\")\n",
        "fig.add_annotation(x=,y=,text='Raiz '+str(r),arrowhead=1,arrowsize=2)\n",
        "\n",
        "fig.show()"
      ],
      "metadata": {
        "id": "k8Y6own93Usr"
      },
      "execution_count": null,
      "outputs": []
    },
    {
      "cell_type": "code",
      "source": [
        "from scipy import optimize\n",
        "f = #<--- define la funcion\n",
        "r = optimize.bisect() #<--- llamar a la funcion bisect(f,x0,x1)\n",
        "print(r)"
      ],
      "metadata": {
        "id": "0MuRnm8NBUb2"
      },
      "execution_count": null,
      "outputs": []
    },
    {
      "cell_type": "markdown",
      "metadata": {
        "id": "-2Ljcu9O5A1f"
      },
      "source": [
        "##Metodo de la Regla Falsa\n",
        "Se debe modificar para calcular x"
      ]
    },
    {
      "cell_type": "code",
      "metadata": {
        "id": "t1XdKpVHM6Cd"
      },
      "source": [
        "def reglafalsa(f,x0,x1,tol=1e-5):\n",
        "  if f(x0)*f(x1)>0:\n",
        "    raise Exception('') #<---- escriba el mensaje de error del intervalo\n",
        "  x = x0\n",
        "  it = 0\n",
        "  tabla=[]\n",
        "  columnas=['x0','x','x1','f(x0)','f(x)','f(x1)']\n",
        "  while np.abs(f(x))>tol:\n",
        "    x= #Escriban aqui la ecuacion para calcular x\n",
        "    iter=[x0,x,x1,f(x0),f(x),f(x1)]\n",
        "    tabla.append(iter)\n",
        "    it+=1\n",
        "    if f(x0)*f(x)<0:\n",
        "      x1= #<---- [x0,x->x1]\n",
        "    else:\n",
        "      x0= #<---- [x->x0,x1]\n",
        "  print(tabulate(tabla,columnas,showindex=True))\n",
        "  return x"
      ],
      "execution_count": null,
      "outputs": []
    },
    {
      "cell_type": "code",
      "source": [
        "f = #<--- definir la funcion a resolver\n",
        "r = #<--- hacer la llamada a la funcion reglafalsa\n",
        "print(r)"
      ],
      "metadata": {
        "id": "MbwOGTmVgpLK"
      },
      "execution_count": null,
      "outputs": []
    },
    {
      "cell_type": "markdown",
      "metadata": {
        "id": "tZcM2sdV5ZAp"
      },
      "source": [
        "#Metodos Abiertos"
      ]
    },
    {
      "cell_type": "markdown",
      "metadata": {
        "id": "5BiK8WrO5Kif"
      },
      "source": [
        "##Metodo de Newton - Raphson"
      ]
    },
    {
      "cell_type": "code",
      "metadata": {
        "id": "1tyuyuO0Nr_k"
      },
      "source": [
        "def nr(f,df,x,tol=1e-5):\n",
        "  tabla = []\n",
        "  columnas=['x','f(x)','df(x)']\n",
        "  it = 0\n",
        "  while np.abs(f(x))>tol:\n",
        "    x = #<--- calculo de x\n",
        "    iter = [x,f(x),df(x)]\n",
        "    tabla.append(iter)\n",
        "    it += 1\n",
        "  print(tabulate(tabla,columnas,showindex=True))\n",
        "  return x"
      ],
      "execution_count": null,
      "outputs": []
    },
    {
      "cell_type": "code",
      "source": [
        "f = #<--- defina la funcion a resolver\n",
        "df = #<--- definir la derivada\n",
        "r = #<--- hacer la llamada al metodo de newton-raphson\n",
        "print(r)"
      ],
      "metadata": {
        "id": "H-cPy6xehgwy"
      },
      "execution_count": null,
      "outputs": []
    },
    {
      "cell_type": "code",
      "source": [
        "from scipy import optimize\n",
        "f = #<--- define la funcion\n",
        "df = #<--- define la derivada\n",
        "r = optimize.newton() #<--- llamar a la funcion newton(f,x0,df)\n",
        "print(r)"
      ],
      "metadata": {
        "id": "zgV-va40B_4B"
      },
      "execution_count": null,
      "outputs": []
    },
    {
      "cell_type": "code",
      "source": [
        "import sympy as sp\n",
        "x,y = sp.symbols('x y')\n",
        "fx = sp.exp(x)*sp.sin(x) + y\n",
        "#sp.diff(fx,y)\n",
        "#sp.integrate(fx,x)\n",
        "#sp.integrate(fx,[x,[0,1]]).evalf()\n",
        "#sp.limit(fx,x,-np.inf)"
      ],
      "metadata": {
        "id": "hHaAJwvKHjhN"
      },
      "execution_count": null,
      "outputs": []
    },
    {
      "cell_type": "markdown",
      "metadata": {
        "id": "Q0Qmms5A5kuh"
      },
      "source": [
        "##Metodo de la Secante\n",
        "Se debe modificar para calcular x"
      ]
    },
    {
      "cell_type": "code",
      "metadata": {
        "id": "n3oCvlscO9YS"
      },
      "source": [
        "def secante(f,x0,x1,tol=1e-5):\n",
        "  x = x0\n",
        "  it = 0\n",
        "  tabla=[]\n",
        "  columnas=['x0','x1','x','f(x0)','f(x1)','f(x)']\n",
        "  while np.abs(f(x))>tol:\n",
        "    x = #Escriban aqui la ecuacion para calcular x\n",
        "    iter = [x0,x1,x,f(x0),f(x1),f(x)]\n",
        "    tabla.append(iter)\n",
        "    it += 1\n",
        "    x0 = #<---- asignar el valor de x1\n",
        "    x1 = #<---- asignar el valor de x\n",
        "  print(tabulate(tabla,columnas,showindex=True))\n",
        "  return x"
      ],
      "execution_count": null,
      "outputs": []
    },
    {
      "cell_type": "code",
      "source": [
        "f =  #<--- defina la funcion a resolver\n",
        "r =  #<--- hacer la llamada al metodo de secante\n",
        "print(r)"
      ],
      "metadata": {
        "id": "rkI9SYpGje8k"
      },
      "execution_count": null,
      "outputs": []
    },
    {
      "cell_type": "code",
      "metadata": {
        "id": "f3kjqMY-RSfD"
      },
      "source": [
        "from scipy import optimize\n",
        "\n",
        "f = #<--- define la funcion\n",
        "\n",
        "r = optimize.newton() #<--- llamar a la funcion newton(f,x0=,x1=)\n",
        "print(r)"
      ],
      "execution_count": null,
      "outputs": []
    },
    {
      "cell_type": "markdown",
      "metadata": {
        "id": "Xw0ZdHhL5uez"
      },
      "source": [
        "##Metodo del Punto fijo"
      ]
    },
    {
      "cell_type": "code",
      "metadata": {
        "id": "CI_0uFSIkz8I"
      },
      "source": [
        "def puntofijo(x,g,tol=1e-5):\n",
        "  tabla=[]\n",
        "  columnas=['x','g(x)']\n",
        "  it = 0\n",
        "  while np.abs(x-g(x))>tol:\n",
        "    x= #<--- calcular x\n",
        "    iter=[x,g(x)]\n",
        "    tabla.append(iter)\n",
        "    it+=1\n",
        "  print(tabulate(tabla,columnas,showindex=True))\n",
        "  return x"
      ],
      "execution_count": null,
      "outputs": []
    },
    {
      "cell_type": "code",
      "source": [
        "f =  #<--- defina la funcion a resolver\n",
        "r =  #<--- hacer la llamada al metodo de punto fijo\n",
        "print(r)"
      ],
      "metadata": {
        "id": "JRu9PX_QjttY"
      },
      "execution_count": null,
      "outputs": []
    },
    {
      "cell_type": "markdown",
      "source": [
        "#Optimización"
      ],
      "metadata": {
        "id": "8vvlYcR7dlrz"
      }
    },
    {
      "cell_type": "markdown",
      "source": [
        "La optimización de una función se refiere al proceso de encontrar los valores máximos o mínimos de la función dentro de un cierto dominio. Estos valores máximos o mínimos se conocen como extremos de la función. Los extremos pueden ser máximos locales, mínimos locales o extremos absolutos, dependiendo de si son los valores más altos, más bajos o los más altos o bajos en todo el dominio de la función.\n",
        "\n",
        "Los ceros de una función son los puntos en los que la función se anula, es decir, donde la función toma el valor de cero. Estos ceros también se conocen como raíces de la función.\n",
        "\n",
        "En el contexto de la optimización de funciones, los extremos de una función pueden encontrarse a través de la derivación. Para encontrar los extremos locales de una función, se buscan los puntos donde la derivada de la función se anula. Esto se debe a que los extremos de una función ocurren donde su pendiente (derivada) es cero.\n",
        "\n",
        "Los métodos de Newton y de la secante pueden aplicarse a las derivadas de una función para encontrar un máximo o mínimo local. Estos métodos encuentran los ceros de la derivada, que corresponden a los extremos locales de la función.\n",
        "\n",
        "Además, el signo de la segunda derivada evaluada en un extremo indica si es un máximo o un mínimo. Si la segunda derivada es positiva en un extremo, ese extremo es un mínimo local. Si la segunda derivada es negativa en un extremo, ese extremo es un máximo local. Esto se debe a que la segunda derivada proporciona información sobre la concavidad de la función en el punto de extremo: una segunda derivada positiva indica una concavidad hacia arriba (mínimo local) y una segunda derivada negativa indica una concavidad hacia abajo (máximo local)."
      ],
      "metadata": {
        "id": "yvapv-ZMe7St"
      }
    },
    {
      "cell_type": "markdown",
      "source": [
        "Encontrar las raíces y extremos de la siguiente función en el rango [4,9]\n",
        "$$\n",
        "f(x)=e^xsin(x)\n",
        "$$"
      ],
      "metadata": {
        "id": "BMnBuTVLfRDd"
      }
    },
    {
      "cell_type": "code",
      "source": [
        "import sympy as sp\n",
        "\n",
        "x = sp.Symbol('x') #crea la variable simbolica\n",
        "fx = sp.exp(x)*sp.sin(x) #crea la funcion simbolica\n",
        "sp.plot(fx,(x,4,9)) #grafica en el rango [4,9]"
      ],
      "metadata": {
        "id": "1eGS3OnXfPmJ"
      },
      "execution_count": null,
      "outputs": []
    },
    {
      "cell_type": "code",
      "source": [
        "dfx = sp.diff() #<--- obtiene la primera derivada\n",
        "print('primera derivada ',dfx)\n",
        "\n",
        "dfx2 = sp.diff() #<--- obtiene la segunda derivada\n",
        "print('segunda derivada ',dfx2)"
      ],
      "metadata": {
        "id": "xlq_2yfriLYL"
      },
      "execution_count": null,
      "outputs": []
    },
    {
      "cell_type": "code",
      "source": [
        "from scipy import optimize\n",
        "\n",
        "#convierte las funciones simbolicas a lambda\n",
        "f = sp.lambdify(x,fx)\n",
        "df = sp.lambdify(x,dfx)\n",
        "df2 = sp.lambdify(x,dfx2)\n",
        "\n",
        "#obtiene la raiz de la funcion\n",
        "r = optimize.newton(,6,) #<--- funcion y derivada\n",
        "print(f'raiz = {r}')\n",
        "\n",
        "#obtiene un extremo con la raiz de la derivada\n",
        "extremo1 = optimize.newton(,5,) #<--- 1er derivada y 2da derivada\n",
        "print(f'{\"maximo\" if df2(extremo1)<0 else \"minimo\"} = {extremo1}')\n",
        "\n",
        "#obtiene el otro extremo cambiando el valor inicial\n",
        "extremo2 = optimize.newton(,9,) #<--- 1er derivada y 2da derivada\n",
        "print(f'{\"maximo\" if df2(extremo2)<0 else \"minimo\"} = {extremo2}')"
      ],
      "metadata": {
        "id": "f8LUYKUFietd"
      },
      "execution_count": null,
      "outputs": []
    },
    {
      "cell_type": "markdown",
      "metadata": {
        "id": "XU3wo9WR_Nb6"
      },
      "source": [
        "#Raices complejas"
      ]
    },
    {
      "cell_type": "markdown",
      "metadata": {
        "id": "OgZlmIZl_Q9K"
      },
      "source": [
        "trabajemos con la ecuacion $f(x)=x^2+2$ donde su raiz es $2i$"
      ]
    },
    {
      "cell_type": "code",
      "metadata": {
        "id": "EphH4GyA_yiX"
      },
      "source": [
        "#se define la funcion\n",
        "def f(x):\n",
        "  return x**2+2\n",
        "\n",
        "#se define la derivada\n",
        "def df(x):\n",
        "  return 2*x"
      ],
      "execution_count": null,
      "outputs": []
    },
    {
      "cell_type": "code",
      "metadata": {
        "id": "nrbz0MiD-3c_"
      },
      "source": [
        "r=nr(f,df,) #Se debe dar un valor inicial complejo, por ejemplo 0+1i\n",
        "print(r)"
      ],
      "execution_count": null,
      "outputs": []
    },
    {
      "cell_type": "code",
      "metadata": {
        "id": "3KxDJBAsAJYx"
      },
      "source": [
        "r = optimize.newton(f,,df) #dar un valor inicial complejo\n",
        "print(r)"
      ],
      "execution_count": null,
      "outputs": []
    },
    {
      "cell_type": "code",
      "metadata": {
        "id": "NQhHpgjnAOK5"
      },
      "source": [
        "r = optimize.newton(f,x0=,x1=) #dar dos valores complejos\n",
        "print(r)"
      ],
      "execution_count": null,
      "outputs": []
    }
  ]
}