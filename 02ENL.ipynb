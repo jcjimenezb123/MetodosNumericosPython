{
  "nbformat": 4,
  "nbformat_minor": 0,
  "metadata": {
    "colab": {
      "name": "ENL_cerrados.ipynb",
      "provenance": [],
      "authorship_tag": "ABX9TyOZDplLlbq0rABP3u78W3dO",
      "include_colab_link": true
    },
    "kernelspec": {
      "name": "python3",
      "display_name": "Python 3"
    }
  },
  "cells": [
    {
      "cell_type": "markdown",
      "metadata": {
        "id": "view-in-github",
        "colab_type": "text"
      },
      "source": [
        "<a href=\"https://colab.research.google.com/github/jcjimenezb123/MetodosNumericosPython/blob/master/02ENL.ipynb\" target=\"_parent\"><img src=\"https://colab.research.google.com/assets/colab-badge.svg\" alt=\"Open In Colab\"/></a>"
      ]
    },
    {
      "cell_type": "code",
      "metadata": {
        "id": "sPGTzJ4X-C4D"
      },
      "source": [
        "import numpy as np\n",
        "from tabulate import tabulate"
      ],
      "execution_count": 1,
      "outputs": []
    },
    {
      "cell_type": "markdown",
      "metadata": {
        "id": "j8KejAAk5QrH"
      },
      "source": [
        "#Metodos Cerrados"
      ]
    },
    {
      "cell_type": "markdown",
      "metadata": {
        "id": "2zR9Cubt49Gi"
      },
      "source": [
        "##Metodo de Biseccion"
      ]
    },
    {
      "cell_type": "code",
      "metadata": {
        "id": "OeoYL3Ep-Plk"
      },
      "source": [
        "def biseccion(f,x0,x1,tol=1e-5):\n",
        "  '''\n",
        "  El metodo de Biseccion es un metodo cerrado para resolver ecuaciones no lineales\n",
        "  los argumentos son:\n",
        "       f : ecuacion a resolver expresada en la forma f(x)=0\n",
        "  x0, x1 : puntos que encierran la raiz f(x0)*f(x1)<0\n",
        "     tol : tolerancia (valor por defecto 1e-5)\n",
        "  '''\n",
        "  if f(x0)*f(x1)>0:\n",
        "    raise Exception('') #<---- escriba el mensaje de error en intervalo\n",
        "  x=x0\n",
        "  it=0\n",
        "  tabla=[]\n",
        "  columnas=['x0','x','x1','f(x0)','f(x)','f(x1)']\n",
        "  while np.abs(f(x))>tol:\n",
        "    x = #<--- escriba el calculo de x (mitad del intervalo)\n",
        "    iter = [x0,x,x1,f(x0),f(x),f(x1)]\n",
        "    tabla.append(iter)\n",
        "    it+=1\n",
        "    if f(x0)*f(x)<0:\n",
        "      x1= #<---- [x0,x->x1]\n",
        "    else:\n",
        "      x0= #<---- [x->x0,x1]\n",
        "  print(tabulate(tabla,columnas,showindex=True))\n",
        "  return x"
      ],
      "execution_count": 3,
      "outputs": []
    },
    {
      "cell_type": "code",
      "metadata": {
        "id": "Nm2M3RUH2W3N"
      },
      "source": [
        "help(biseccion)"
      ],
      "execution_count": null,
      "outputs": []
    },
    {
      "cell_type": "code",
      "source": [
        "f = #<--- definir la funcion a resolver"
      ],
      "metadata": {
        "id": "2E7syQOuSUxE"
      },
      "execution_count": 4,
      "outputs": []
    },
    {
      "cell_type": "code",
      "source": [
        "import plotly.express as xp\n",
        "xs=np.linspace(-10,10)\n",
        "\n",
        "fig = xp.line(x=,y=,\n",
        "              markers='line+markers',\n",
        "              labels={'x':'Eje x','y':'Eje y'},\n",
        "              title='Mi grafica') #<--- completar los parametros a graficar\n",
        "fig.show()"
      ],
      "metadata": {
        "id": "F_vAICbW104R"
      },
      "execution_count": null,
      "outputs": []
    },
    {
      "cell_type": "code",
      "source": [
        "r=  #<--- hacer la llamada a la funcion biseccion\n",
        "print(r)"
      ],
      "metadata": {
        "id": "FNDUpCCI3RGf"
      },
      "execution_count": null,
      "outputs": []
    },
    {
      "cell_type": "code",
      "source": [
        "import plotly.express as xp\n",
        "xs=np.linspace(-10,10)\n",
        "\n",
        "fig = xp.line(x=,y=,\n",
        "              markers='line+markers',\n",
        "              labels={'x':'Eje x','y':'Eje y'},\n",
        "              title='Mi grafica') #<--- completar los parametros a graficar\n",
        "fig.add_scatter(x=[],y=[],mode='lines+markers',name=\"Raiz\")\n",
        "fig.add_annotation(x=,y=,text='Raiz '+str(r),arrowhead=1,arrowsize=2)\n",
        "\n",
        "fig.show()"
      ],
      "metadata": {
        "id": "k8Y6own93Usr"
      },
      "execution_count": null,
      "outputs": []
    },
    {
      "cell_type": "markdown",
      "metadata": {
        "id": "-2Ljcu9O5A1f"
      },
      "source": [
        "##Metodo de la Regla Falsa\n",
        "Se debe modificar para calcular x"
      ]
    },
    {
      "cell_type": "code",
      "metadata": {
        "id": "t1XdKpVHM6Cd"
      },
      "source": [
        "def reglafalsa(f,x0,x1,tol=1e-5):\n",
        "  if f(x0)*f(x1)>0:\n",
        "    raise Exception('') #<---- escriba el mensaje de error del intervalo\n",
        "  x = x0\n",
        "  it = 0\n",
        "  tabla=[]\n",
        "  columnas=['x0','x','x1','f(x0)','f(x)','f(x1)']\n",
        "  while np.abs(f(x))>tol:\n",
        "    x= #Escriban aqui la ecuacion para calcular x\n",
        "    iter=[x0,x,x1,f(x0),f(x),f(x1)]\n",
        "    tabla.append(iter)\n",
        "    it+=1\n",
        "    if f(x0)*f(x)<0:\n",
        "      x1= #<---- [x0,x->x1]\n",
        "    else:\n",
        "      x0= #<---- [x->x0,x1]\n",
        "  print(tabulate(tabla,columnas,showindex=True))\n",
        "  return x"
      ],
      "execution_count": 6,
      "outputs": []
    },
    {
      "cell_type": "code",
      "source": [
        "f = #<--- definir la funcion a resolver\n",
        "r = #<--- hacer la llamada a la funcion reglafalsa\n",
        "print(r)"
      ],
      "metadata": {
        "id": "MbwOGTmVgpLK"
      },
      "execution_count": null,
      "outputs": []
    },
    {
      "cell_type": "markdown",
      "metadata": {
        "id": "tZcM2sdV5ZAp"
      },
      "source": [
        "#Metodos Abiertos"
      ]
    },
    {
      "cell_type": "markdown",
      "metadata": {
        "id": "5BiK8WrO5Kif"
      },
      "source": [
        "##Metodo de Newton - Raphson"
      ]
    },
    {
      "cell_type": "code",
      "metadata": {
        "id": "1tyuyuO0Nr_k"
      },
      "source": [
        "from plotly.io import show\n",
        "def nr(f,df,x,tol=1e-5):\n",
        "  tabla = []\n",
        "  columnas=['x','f(x)','df(x)']\n",
        "  it = 0\n",
        "  while np.abs(f(x))>tol:\n",
        "    x = #<--- calculo de x\n",
        "    iter = [x,f(x),df(x)]\n",
        "    tabla.append(iter)\n",
        "    it += 1\n",
        "  print(tabulate(tabla,columnas,showindex=True))\n",
        "  return x"
      ],
      "execution_count": 9,
      "outputs": []
    },
    {
      "cell_type": "code",
      "source": [
        "f = #<--- defina la funcion a resolver\n",
        "df = #<--- definir la derivada\n",
        "r = #<--- hacer la llamada al metodo de newton-raphson\n",
        "print(r)"
      ],
      "metadata": {
        "id": "H-cPy6xehgwy"
      },
      "execution_count": null,
      "outputs": []
    },
    {
      "cell_type": "markdown",
      "metadata": {
        "id": "Q0Qmms5A5kuh"
      },
      "source": [
        "##Metodo de la Secante\n",
        "Se debe modificar para calcular x"
      ]
    },
    {
      "cell_type": "code",
      "metadata": {
        "id": "n3oCvlscO9YS"
      },
      "source": [
        "def secante(f,x0,x1,tol=1e-5):\n",
        "  x = x0\n",
        "  it = 0\n",
        "  tabla=[]\n",
        "  columnas=['x0','x1','x','f(x0)','f(x1)','f(x)']\n",
        "  while np.abs(f(x))>tol:\n",
        "    x = #Escriban aqui la ecuacion para calcular x\n",
        "    iter = [x0,x1,x,f(x0),f(x1),f(x)]\n",
        "    tabla.append(iter)\n",
        "    it += 1\n",
        "    x0 = #<---- asignar el valor de x1\n",
        "    x1 = #<---- asignar el valor de x\n",
        "  print(tabulate(tabla,columnas,showindex=True))\n",
        "  return x"
      ],
      "execution_count": 11,
      "outputs": []
    },
    {
      "cell_type": "code",
      "source": [
        "f =  #<--- defina la funcion a resolver\n",
        "r =  #<--- hacer la llamada al metodo de secante\n",
        "print(r)"
      ],
      "metadata": {
        "id": "rkI9SYpGje8k"
      },
      "execution_count": null,
      "outputs": []
    },
    {
      "cell_type": "markdown",
      "metadata": {
        "id": "bHI4qs4u5qj1"
      },
      "source": [
        "##Metodo de Muller"
      ]
    },
    {
      "cell_type": "code",
      "metadata": {
        "id": "f3kjqMY-RSfD"
      },
      "source": [
        "def muller(f,x0,x1,x2,tol=1e-5):\n",
        "  tabla=[]\n",
        "  columnas=['x0','x1','x2','x3','f(x0)','f(x1)','f(x2)','f(x3)']\n",
        "  x3 = x0\n",
        "  it = 0\n",
        "  while np.abs(f(x3))>tol:\n",
        "    d1 = #<--- calcular la diferencia f[x1,x0]\n",
        "    d2 = #<--- calcular la diferencia f[x2,x1]\n",
        "    d3 = #<--- calcular la segunda diferencia f[x2,x1,x0]\n",
        "    a = d3\n",
        "    b = d1-a*(x0+x1)\n",
        "    c = f(x0)+x0*(a*x1-d1)\n",
        "    den1 =-b+np.sqrt(b**2-4*a*c+0j)\n",
        "    den2 =-b-np.sqrt(b**2-4*a*c+0j)\n",
        "    if np.abs(den1)>np.abs(den2):\n",
        "      x3 = #<--- calcular x3 = 2c/den1\n",
        "    else:\n",
        "      x3 = #<--- calcular x3 = 2c/den2\n",
        "    iter = [x0,x1,x2,x3,f(x0),f(x1),f(x2),f(x3)]\n",
        "    tabla.append(iter)\n",
        "    it += 1\n",
        "    x0 = #<--- asignar x1\n",
        "    x1 = #<--- asignar x2\n",
        "    x2 = #<--- asignar x3\n",
        "  print(tabulate(tabla,columnas,showindex=True))\n",
        "  return x3"
      ],
      "execution_count": null,
      "outputs": []
    },
    {
      "cell_type": "code",
      "source": [
        "f =  #<--- defina la funcion a resolver\n",
        "r =  #<--- hacer la llamada al metodo de muller\n",
        "print(r)"
      ],
      "metadata": {
        "id": "uxg5Y_SajpTn"
      },
      "execution_count": null,
      "outputs": []
    },
    {
      "cell_type": "markdown",
      "metadata": {
        "id": "Xw0ZdHhL5uez"
      },
      "source": [
        "##Metodo del Punto fijo"
      ]
    },
    {
      "cell_type": "code",
      "metadata": {
        "id": "CI_0uFSIkz8I"
      },
      "source": [
        "def puntofijo(x,g,tol=1e-5):\n",
        "  tabla=[]\n",
        "  columnas=['x','g(x)']\n",
        "  it = 0\n",
        "  while np.abs(x-g(x))>tol:\n",
        "    x= #<--- calcular x\n",
        "    iter=[x,g(x)]\n",
        "    tabla.append(iter)\n",
        "    it+=1\n",
        "  print(tabulate(tabla,columnas,showindex=True))\n",
        "  return x"
      ],
      "execution_count": null,
      "outputs": []
    },
    {
      "cell_type": "code",
      "source": [
        "f =  #<--- defina la funcion a resolver\n",
        "r,t =  #<--- hacer la llamada al metodo de punto fijo\n",
        "print(r)\n",
        "t"
      ],
      "metadata": {
        "id": "JRu9PX_QjttY"
      },
      "execution_count": null,
      "outputs": []
    },
    {
      "cell_type": "markdown",
      "metadata": {
        "id": "h_eTqqkK5xme"
      },
      "source": [
        "##Metodo de Wegstein"
      ]
    },
    {
      "cell_type": "code",
      "metadata": {
        "id": "__Dq1pBDm5Qo"
      },
      "source": [
        "def wegstein(x0,g,tol=1e-5):\n",
        "  tabla=[]\n",
        "  columnas=['x3','g(x3)']\n",
        "  x1=g(x0)\n",
        "  x2=g(x1)\n",
        "  x3=x2\n",
        "  while np.abs(x3-g(x3))>tol:\n",
        "    x3 =( x1*g(x2)-x2*g(x1))/(x1 -g(x1)-x2+g(x2))\n",
        "    iter=[x3,g(x3)]\n",
        "    tabla.append(iter)\n",
        "    it+=1\n",
        "    x1=x2\n",
        "    x2=x3\n",
        "  print(tabulate(tabla,columnas,showindex=True))\n",
        "  return x3"
      ],
      "execution_count": null,
      "outputs": []
    },
    {
      "cell_type": "code",
      "source": [
        "f =  #<--- defina la funcion a resolver\n",
        "r =  #<--- hacer la llamada al metodo de wegstein\n",
        "print(r)"
      ],
      "metadata": {
        "id": "0ywnPEs4jyv1"
      },
      "execution_count": null,
      "outputs": []
    },
    {
      "cell_type": "markdown",
      "metadata": {
        "id": "ijPo6Bdg55Jk"
      },
      "source": [
        "##Ejemplos"
      ]
    },
    {
      "cell_type": "markdown",
      "metadata": {
        "id": "9MnB9SRX6S_G"
      },
      "source": [
        "1. Primero se define la funcion a resolver, recuerde que debe estar en la forma $f(x)=0$"
      ]
    },
    {
      "cell_type": "code",
      "metadata": {
        "id": "d_aEB3SOAG3D"
      },
      "source": [
        "def f(x):\n",
        "  return x**2-2"
      ],
      "execution_count": null,
      "outputs": []
    },
    {
      "cell_type": "markdown",
      "metadata": {
        "id": "UgiUcTyg7NHa"
      },
      "source": [
        "2. Se grafica para observar el comportamiento de la funcion"
      ]
    },
    {
      "cell_type": "code",
      "metadata": {
        "id": "0NAqJjHX7MY3"
      },
      "source": [
        "import plotly.express as xp\n",
        "x=np.linspace(-10,10)\n",
        "\n",
        "fig = xp.line(x=,y=,\n",
        "              markers='line+markers',\n",
        "              labels={'x':'Eje x','y':'Eje y'},\n",
        "              title='Mi grafica') #<--- completar los parametros a graficar\n",
        "\n",
        "fig.show()"
      ],
      "execution_count": null,
      "outputs": []
    },
    {
      "cell_type": "markdown",
      "metadata": {
        "id": "S227NOGI6igX"
      },
      "source": [
        "3. Se aplica el metodo numerico para obtener la raiz de la ecuacion pasandole los parametros que requiere"
      ]
    },
    {
      "cell_type": "code",
      "metadata": {
        "id": "LEESHaqS6zN6"
      },
      "source": [
        "xr,tabla=biseccion(f,0,2)\n",
        "print(xr)\n",
        "tabla"
      ],
      "execution_count": null,
      "outputs": []
    },
    {
      "cell_type": "code",
      "metadata": {
        "id": "srZBYbKfrUVh"
      },
      "source": [
        "from scipy import optimize\n",
        "\n",
        "r=optimize.bisect(f,1,2)\n",
        "print('Raiz ',r)"
      ],
      "execution_count": null,
      "outputs": []
    },
    {
      "cell_type": "code",
      "metadata": {
        "id": "SlEZiNPdp1PP"
      },
      "source": [
        "xr,tabla=nr() #<--- parametros de funcion\n",
        "print(xr)\n",
        "tabla"
      ],
      "execution_count": null,
      "outputs": []
    },
    {
      "cell_type": "code",
      "metadata": {
        "id": "ZKxQeyLdszJh",
        "outputId": "fd5675f3-bce8-4e45-d0a5-b2ea415241f3",
        "colab": {
          "base_uri": "https://localhost:8080/"
        }
      },
      "source": [
        "from scipy import optimize\n",
        "import sympy as sp\n",
        "\n",
        "r=optimize.newton(f,1,) #newton/raphson <--- derivada\n",
        "print(r)"
      ],
      "execution_count": null,
      "outputs": [
        {
          "output_type": "stream",
          "name": "stdout",
          "text": [
            "1.4142135623730951\n"
          ]
        }
      ]
    },
    {
      "cell_type": "code",
      "source": [
        "r = optimize.newton(f,x0=,x1=) #secante <--- valores iniciales\n",
        "print(r)"
      ],
      "metadata": {
        "colab": {
          "base_uri": "https://localhost:8080/"
        },
        "id": "mwaND_JecUdj",
        "outputId": "14b5e5b1-aab8-42eb-ced2-7a6ebe9b304c"
      },
      "execution_count": null,
      "outputs": [
        {
          "output_type": "stream",
          "name": "stdout",
          "text": [
            "1.4142135623730954\n"
          ]
        }
      ]
    },
    {
      "cell_type": "code",
      "metadata": {
        "id": "9UZE0DOLObVw"
      },
      "source": [
        "raiz,tabla=muller(f,0,1,2)\n",
        "print(raiz)\n",
        "tabla"
      ],
      "execution_count": null,
      "outputs": []
    },
    {
      "cell_type": "code",
      "metadata": {
        "id": "a_K2m085l-D1"
      },
      "source": [
        "def g(v):\n",
        " n=2\n",
        " R =0.082\n",
        " a =3.592\n",
        " b =0.04267\n",
        " T =300\n",
        " P =10\n",
        " return n*R*T/(P+n **2* a/v **2) +n*b"
      ],
      "execution_count": null,
      "outputs": []
    },
    {
      "cell_type": "code",
      "metadata": {
        "id": "jLNbd28-mD3V"
      },
      "source": [
        "xr,tabla=puntofijo(2,g)\n",
        "print(xr)\n",
        "tabla"
      ],
      "execution_count": null,
      "outputs": []
    },
    {
      "cell_type": "code",
      "metadata": {
        "id": "ObP63ZhYmMrh"
      },
      "source": [
        "xr,tabla=wegstein(2,g)\n",
        "print(xr)\n",
        "tabla"
      ],
      "execution_count": null,
      "outputs": []
    },
    {
      "cell_type": "markdown",
      "metadata": {
        "id": "J0kmh4IX-KPk"
      },
      "source": [
        "Grafica de la solucion"
      ]
    },
    {
      "cell_type": "code",
      "metadata": {
        "id": "TbMgf07G99Xd"
      },
      "source": [
        "import plotly.express as xp\n",
        "x=np.linspace(0.1,6)\n",
        "\n",
        "fig = xp.line(x=,y=,\n",
        "              markers='line+markers',\n",
        "              labels={'x':'Eje x','y':'Eje y'},\n",
        "              title='Mi grafica') #<--- completar los parametros a graficar\n",
        "fig.add_scatter(x=,y=,mode='lines+markers',name=\"equis\")\n",
        "fig.show()"
      ],
      "execution_count": null,
      "outputs": []
    },
    {
      "cell_type": "markdown",
      "metadata": {
        "id": "XU3wo9WR_Nb6"
      },
      "source": [
        "#Raices complejas"
      ]
    },
    {
      "cell_type": "markdown",
      "metadata": {
        "id": "OgZlmIZl_Q9K"
      },
      "source": [
        "trabajemos con la ecuacion $f(x)=x^2+2$ donde su raiz es $2i$"
      ]
    },
    {
      "cell_type": "code",
      "metadata": {
        "id": "EphH4GyA_yiX"
      },
      "source": [
        "#se define la funcion\n",
        "def f(x):\n",
        "  return x**2+2\n",
        "\n",
        "#se define la derivada\n",
        "def df(x):\n",
        "  return 2*x"
      ],
      "execution_count": null,
      "outputs": []
    },
    {
      "cell_type": "code",
      "metadata": {
        "id": "nrbz0MiD-3c_"
      },
      "source": [
        "xr,tabla=nr(f,df,1j) #Se debe dar un valor inicial complejo, por ejemplo 0+1i\n",
        "print(xr)\n",
        "tabla"
      ],
      "execution_count": null,
      "outputs": []
    },
    {
      "cell_type": "code",
      "metadata": {
        "id": "3KxDJBAsAJYx"
      },
      "source": [
        "xr,tabla=muller(f,0,1,2) #se pueden dar valores iniciales reales\n",
        "print(xr)\n",
        "tabla"
      ],
      "execution_count": null,
      "outputs": []
    },
    {
      "cell_type": "code",
      "metadata": {
        "id": "NQhHpgjnAOK5"
      },
      "source": [],
      "execution_count": null,
      "outputs": []
    }
  ]
}