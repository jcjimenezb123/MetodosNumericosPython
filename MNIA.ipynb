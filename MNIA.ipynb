{
  "nbformat": 4,
  "nbformat_minor": 0,
  "metadata": {
    "colab": {
      "provenance": [],
      "authorship_tag": "ABX9TyPNjRbaaZ0jn3daA9QzjOVc",
      "include_colab_link": true
    },
    "kernelspec": {
      "name": "python3",
      "display_name": "Python 3"
    },
    "language_info": {
      "name": "python"
    }
  },
  "cells": [
    {
      "cell_type": "markdown",
      "metadata": {
        "id": "view-in-github",
        "colab_type": "text"
      },
      "source": [
        "<a href=\"https://colab.research.google.com/github/jcjimenezb123/MetodosNumericosPython/blob/master/MNIA.ipynb\" target=\"_parent\"><img src=\"https://colab.research.google.com/assets/colab-badge.svg\" alt=\"Open In Colab\"/></a>"
      ]
    },
    {
      "cell_type": "code",
      "execution_count": 1,
      "metadata": {
        "id": "ZGNY94gKkeqD"
      },
      "outputs": [],
      "source": [
        "funciones = [lambda x:x**2-2,lambda x:x**3-5]"
      ]
    },
    {
      "cell_type": "code",
      "source": [
        "funciones[0](1)"
      ],
      "metadata": {
        "colab": {
          "base_uri": "https://localhost:8080/"
        },
        "id": "zNMXwBDxktJU",
        "outputId": "66c580e5-d87b-47b9-f3ce-6fa8f53a9e8e"
      },
      "execution_count": 4,
      "outputs": [
        {
          "output_type": "execute_result",
          "data": {
            "text/plain": [
              "-1"
            ]
          },
          "metadata": {},
          "execution_count": 4
        }
      ]
    },
    {
      "cell_type": "code",
      "source": [
        "# prompt: create a golden section method\n",
        "\n",
        "def golden_section_search(f, a, b, tol):\n",
        "  \"\"\"\n",
        "  Finds the minimum of a unimodal function f on the interval [a, b] using the golden section search algorithm.\n",
        "\n",
        "  Args:\n",
        "    f: The function to minimize.\n",
        "    a: The lower bound of the interval.\n",
        "    b: The upper bound of the interval.\n",
        "    tol: The tolerance for the solution.\n",
        "\n",
        "  Returns:\n",
        "    The minimum of the function f on the interval [a, b].\n",
        "  \"\"\"\n",
        "\n",
        "  phi = (1 + 5**0.5) / 2\n",
        "  c = b - (b - a) / phi\n",
        "  d = a + (b - a) / phi\n",
        "\n",
        "  while abs(b - a) > tol:\n",
        "    if f(c) < f(d):\n",
        "      b = d\n",
        "      d = c\n",
        "      c = b - (b - a) / phi\n",
        "    else:\n",
        "      a = c\n",
        "      c = d\n",
        "      d = a + (b - a) / phi\n",
        "\n",
        "  return (a + b) / 2\n"
      ],
      "metadata": {
        "id": "OfEFNld4kyvC"
      },
      "execution_count": 5,
      "outputs": []
    },
    {
      "cell_type": "code",
      "source": [
        "# prompt: give an example of using golden section search\n",
        "\n",
        "# Define the function to minimize.\n",
        "def f(x):\n",
        "  return x**2 + x -1\n",
        "\n",
        "# Set the initial interval.\n",
        "a = -2\n",
        "b = 2\n",
        "\n",
        "# Set the tolerance.\n",
        "tol = 1e-6\n",
        "\n",
        "# Find the minimum using the golden section search algorithm.\n",
        "minimum = golden_section_search(f, a, b, tol)\n",
        "\n",
        "# Print the minimum.\n",
        "print(minimum)\n"
      ],
      "metadata": {
        "colab": {
          "base_uri": "https://localhost:8080/"
        },
        "id": "j-vk_OkNlOsU",
        "outputId": "6a7aafdf-ace0-4b56-f698-4773d7ddbd6b"
      },
      "execution_count": 9,
      "outputs": [
        {
          "output_type": "stream",
          "name": "stdout",
          "text": [
            "-0.5000001418609546\n"
          ]
        }
      ]
    },
    {
      "cell_type": "code",
      "source": [
        "# prompt: plot function f using matplotlib and numpy\n",
        "\n",
        "import matplotlib.pyplot as plt\n",
        "import numpy as np\n",
        "\n",
        "# Define the function to plot.\n",
        "def f(x):\n",
        "  return x**2 + x - 1\n",
        "\n",
        "# Create a list of x-values.\n",
        "x_values = np.linspace(-3, 3, 100)\n",
        "\n",
        "# Calculate the corresponding y-values.\n",
        "y_values = f(x_values)\n",
        "\n",
        "# Plot the function.\n",
        "plt.plot(x_values, y_values)\n",
        "plt.grid()\n",
        "# Set the title and axis labels.\n",
        "plt.title(\"Plot of f(x) = x^2 + x - 1\")\n",
        "plt.xlabel(\"x\")\n",
        "plt.ylabel(\"f(x)\")\n",
        "\n",
        "# Show the plot.\n",
        "plt.show()\n"
      ],
      "metadata": {
        "colab": {
          "base_uri": "https://localhost:8080/",
          "height": 472
        },
        "id": "pGF3ptLHl1VI",
        "outputId": "b71a27a2-2eb2-4bb0-9a6a-226932d5792d"
      },
      "execution_count": 13,
      "outputs": [
        {
          "output_type": "display_data",
          "data": {
            "text/plain": [
              "<Figure size 640x480 with 1 Axes>"
            ],
            "image/png": "[encoded data removed]"
          },
          "metadata": {}
        }
      ]
    },
    {
      "cell_type": "code",
      "source": [
        "# prompt: expand Taylor series of cos(x) of 8 order using sympy\n",
        "\n",
        "import sympy\n",
        "x = sympy.Symbol('x')\n",
        "cos_series = sympy.cos(x).series(x, 0, 8).removeO()\n",
        "print(cos_series)\n"
      ],
      "metadata": {
        "colab": {
          "base_uri": "https://localhost:8080/"
        },
        "id": "oU1s9xbHr-jx",
        "outputId": "4f759ef0-c4e3-4bcb-d6c2-fbce298506da"
      },
      "execution_count": 11,
      "outputs": [
        {
          "output_type": "stream",
          "name": "stdout",
          "text": [
            "-x**6/720 + x**4/24 - x**2/2 + 1\n"
          ]
        }
      ]
    },
    {
      "cell_type": "code",
      "source": [
        "# prompt: create an example of linear interpolation using numpy.interpolate\n",
        "\n",
        "import numpy as np\n",
        "import matplotlib.pyplot as plt\n",
        "\n",
        "# Define the data points.\n",
        "x = np.array([0, 1, 2, 3])\n",
        "y = np.array([0, 1, 4, 9])\n",
        "\n",
        "# Create a linear interpolation function.\n",
        "f = np.interp(x, x, y)\n",
        "\n",
        "# Create a new set of x-values for interpolation.\n",
        "xnew = np.linspace(0, 3, 100)\n",
        "\n",
        "# Interpolate the data.\n",
        "yinterp = np.interp(xnew, x, y)\n",
        "\n",
        "# Plot the original data points and the interpolated function.\n",
        "plt.plot(x, y, 'o', xnew, yinterp, '-')\n",
        "plt.show()\n"
      ],
      "metadata": {
        "colab": {
          "base_uri": "https://localhost:8080/",
          "height": 430
        },
        "id": "nSV2SyDLut-h",
        "outputId": "4fb0c885-5eb5-42d7-c8b0-04295dde2e50"
      },
      "execution_count": 14,
      "outputs": [
        {
          "output_type": "display_data",
          "data": {
            "text/plain": [
              "<Figure size 640x480 with 1 Axes>"
            ],
            "image/png": "[encoded data removed]"
          },
          "metadata": {}
        }
      ]
    },
    {
      "cell_type": "code",
      "source": [
        "# prompt: create an exaple of using lagrange interpolation using scipy.interpolate.lagrange\n",
        "\n",
        "import matplotlib.pyplot as plt\n",
        "import numpy as np\n",
        "from scipy.interpolate import lagrange\n",
        "\n",
        "# Define the data points.\n",
        "x = np.array([0, 1, 2])\n",
        "y = np.array([1, 1, 4])\n",
        "\n",
        "# Create a Lagrange interpolating polynomial.\n",
        "p = lagrange(x, y)\n",
        "\n",
        "# Create a new set of x-values for interpolation.\n",
        "xnew = np.linspace(0, 2, 100)\n",
        "\n",
        "# Interpolate the data.\n",
        "yinterp = p(xnew)\n",
        "\n",
        "# Plot the original data points and the interpolated polynomial.\n",
        "plt.plot(x, y, 'o', xnew, yinterp, '-')\n",
        "plt.show()\n"
      ],
      "metadata": {
        "colab": {
          "base_uri": "https://localhost:8080/",
          "height": 430
        },
        "id": "KVTJe9dfvJvW",
        "outputId": "8dcbfc66-48d0-450e-e00e-9cf6fc11f535"
      },
      "execution_count": 17,
      "outputs": [
        {
          "output_type": "display_data",
          "data": {
            "text/plain": [
              "<Figure size 640x480 with 1 Axes>"
            ],
            "image/png": "[encoded data removed]"
          },
          "metadata": {}
        }
      ]
    },
    {
      "cell_type": "code",
      "source": [
        "# prompt: create an example of cubic spline interpolation using scipy.interpolate.cubicspline\n",
        "\n",
        "import numpy as np\n",
        "import matplotlib.pyplot as plt\n",
        "from scipy.interpolate import CubicSpline\n",
        "\n",
        "# Define the data points.\n",
        "x = np.array([0, 1, 2, 3, 4, 5])\n",
        "y = np.array([0, 1, 3, 8, 8, 8])\n",
        "\n",
        "# Create a cubic spline interpolation function.\n",
        "spline = CubicSpline(x, y)\n",
        "\n",
        "# Create a new set of x-values for interpolation.\n",
        "xnew = np.linspace(0, 5, 100)\n",
        "\n",
        "# Interpolate the data.\n",
        "yinterp = spline(xnew)\n",
        "\n",
        "# Plot the original data points and the interpolated spline.\n",
        "plt.plot(x, y, 'o', xnew, yinterp, '-')\n",
        "plt.show()\n"
      ],
      "metadata": {
        "colab": {
          "base_uri": "https://localhost:8080/",
          "height": 430
        },
        "id": "m_zZZ2VZwXpu",
        "outputId": "ab042270-234c-4061-a7a7-4bc85b357a93"
      },
      "execution_count": 20,
      "outputs": [
        {
          "output_type": "display_data",
          "data": {
            "text/plain": [
              "<Figure size 640x480 with 1 Axes>"
            ],
            "image/png": "[encoded data removed]"
          },
          "metadata": {}
        }
      ]
    },
    {
      "cell_type": "code",
      "source": [
        "# prompt: generate code for bisection method for solving function x**2+x-1\n",
        "\n",
        "def f(x):\n",
        "  return x**2 + x - 1\n",
        "\n",
        "def bisect(f, a, b, tol):\n",
        "  \"\"\"\n",
        "  Finds the root of a function f on the interval [a, b] using the bisection method.\n",
        "\n",
        "  Args:\n",
        "    f: The function to find the root of.\n",
        "    a: The lower bound of the interval.\n",
        "    b: The upper bound of the interval.\n",
        "    tol: The tolerance for the solution.\n",
        "\n",
        "  Returns:\n",
        "    The root of the function f on the interval [a, b].\n",
        "  \"\"\"\n",
        "\n",
        "  while abs(b - a) > tol:\n",
        "    mid = (a + b) / 2\n",
        "    if f(a) * f(mid) < 0:\n",
        "      b = mid\n",
        "    else:\n",
        "      a = mid\n",
        "\n",
        "  return (a + b) / 2\n",
        "\n",
        "# Set the initial interval.\n",
        "a = -2\n",
        "b = 2\n",
        "\n",
        "# Set the tolerance.\n",
        "tol = 1e-6\n",
        "\n",
        "# Find the root using the bisection method.\n",
        "root = bisect(f, a, b, tol)\n",
        "\n",
        "# Print the root.\n",
        "print(root)\n"
      ],
      "metadata": {
        "colab": {
          "base_uri": "https://localhost:8080/"
        },
        "id": "XoEUbXg51xPs",
        "outputId": "3bcc17c9-cbe2-4a17-8a84-15198bc4635d"
      },
      "execution_count": 21,
      "outputs": [
        {
          "output_type": "stream",
          "name": "stdout",
          "text": [
            "-1.6180338859558105\n"
          ]
        }
      ]
    },
    {
      "cell_type": "code",
      "source": [
        "# prompt: generate code for regula falsi method for solving function x**2+x-1\n",
        "\n",
        "def regula_falsi(f, a, b, tol):\n",
        "  \"\"\"\n",
        "  Finds the root of a function f on the interval [a, b] using the regula falsi method.\n",
        "\n",
        "  Args:\n",
        "    f: The function to find the root of.\n",
        "    a: The lower bound of the interval.\n",
        "    b: The upper bound of the interval.\n",
        "    tol: The tolerance for the solution.\n",
        "\n",
        "  Returns:\n",
        "    The root of the function f on the interval [a, b].\n",
        "  \"\"\"\n",
        "\n",
        "  while abs(b - a) > tol:\n",
        "    c = (a * f(b) - b * f(a)) / (f(b) - f(a))\n",
        "    if f(a) * f(c) < 0:\n",
        "      b = c\n",
        "    else:\n",
        "      a = c\n",
        "\n",
        "  return (a + b) / 2\n",
        "\n",
        "# Set the initial interval.\n",
        "a = -2\n",
        "b = -1\n",
        "\n",
        "# Set the tolerance.\n",
        "tol = 1e-6\n",
        "\n",
        "# Find the root using the regula falsi method.\n",
        "root = regula_falsi(f, a, b, tol)\n",
        "\n",
        "# Print the root.\n",
        "print(root)\n"
      ],
      "metadata": {
        "colab": {
          "base_uri": "https://localhost:8080/"
        },
        "id": "MyeMUlh02V4o",
        "outputId": "62322bab-59b4-4283-b590-9ad30e7860be"
      },
      "execution_count": 24,
      "outputs": [
        {
          "output_type": "stream",
          "name": "stdout",
          "text": [
            "-1.6180339887498945\n"
          ]
        }
      ]
    },
    {
      "cell_type": "code",
      "source": [
        "# prompt: generate code for newton raphson method for solving function x**2+x-1\n",
        "\n",
        "def f(x):\n",
        "  return x**2 + x - 1\n",
        "\n",
        "def f_prime(x):\n",
        "  return 2 * x + 1\n",
        "\n",
        "def newton_raphson(f, f_prime, x_initial, tol):\n",
        "  \"\"\"\n",
        "  Finds the root of a function f on the interval [a, b] using the Newton-Raphson method.\n",
        "\n",
        "  Args:\n",
        "    f: The function to find the root of.\n",
        "    f_prime: The derivative of the function.\n",
        "    x_initial: The initial guess for the root.\n",
        "    tol: The tolerance for the solution.\n",
        "\n",
        "  Returns:\n",
        "    The root of the function f on the interval [a, b].\n",
        "  \"\"\"\n",
        "\n",
        "  x = x_initial\n",
        "  while abs(f(x)) > tol:\n",
        "    x = x - f(x) / f_prime(x)\n",
        "\n",
        "  return x\n",
        "\n",
        "# Set the initial guess.\n",
        "x_initial = -2\n",
        "\n",
        "# Set the tolerance.\n",
        "tol = 1e-6\n",
        "\n",
        "# Find the root using the Newton-Raphson method.\n",
        "root = newton_raphson(f, f_prime, x_initial, tol)\n",
        "\n",
        "# Print the root.\n",
        "print(root)\n"
      ],
      "metadata": {
        "colab": {
          "base_uri": "https://localhost:8080/"
        },
        "id": "nVmS5hCL6iHm",
        "outputId": "a51ced0e-d7c1-4039-9e53-5c795e4703c6"
      },
      "execution_count": 25,
      "outputs": [
        {
          "output_type": "stream",
          "name": "stdout",
          "text": [
            "-1.618033988749989\n"
          ]
        }
      ]
    },
    {
      "cell_type": "code",
      "source": [
        "# prompt: generate code for secant method for solving function x**2+x-1\n",
        "\n",
        "def f(x):\n",
        "  return x**2 + x - 1\n",
        "\n",
        "def secant(f, a, b, tol):\n",
        "  \"\"\"\n",
        "  Finds the root of a function f on the interval [a, b] using the secant method.\n",
        "\n",
        "  Args:\n",
        "    f: The function to find the root of.\n",
        "    a: The lower bound of the interval.\n",
        "    b: The upper bound of the interval.\n",
        "    tol: The tolerance for the solution.\n",
        "\n",
        "  Returns:\n",
        "    The root of the function f on the interval [a, b].\n",
        "  \"\"\"\n",
        "\n",
        "  f_a = f(a)\n",
        "  f_b = f(b)\n",
        "  while abs(b - a) > tol:\n",
        "    c = (a * f_b - b * f_a) / (f_b - f_a)\n",
        "    f_c = f(c)\n",
        "    if f_a * f_c < 0:\n",
        "      b = c\n",
        "      f_b = f_c\n",
        "    else:\n",
        "      a = c\n",
        "      f_a = f_c\n",
        "\n",
        "  return (a + b) / 2\n",
        "\n",
        "# Set the initial interval.\n",
        "a = -2\n",
        "b = -1\n",
        "\n",
        "# Set the tolerance.\n",
        "tol = 1e-6\n",
        "\n",
        "# Find the root using the secant method.\n",
        "root = secant(f, a, b, tol)\n",
        "\n",
        "# Print the root.\n",
        "print(root)\n"
      ],
      "metadata": {
        "colab": {
          "base_uri": "https://localhost:8080/"
        },
        "id": "Bp0jWCeM6u_D",
        "outputId": "53cffa10-7b60-446e-a2a0-ee6cd1aa9c32"
      },
      "execution_count": 27,
      "outputs": [
        {
          "output_type": "stream",
          "name": "stdout",
          "text": [
            "-1.6180339887498945\n"
          ]
        }
      ]
    },
    {
      "cell_type": "code",
      "source": [
        "# prompt: generate code for fixed point method for solving function x**2+x-1\n",
        "\n",
        "def f(x):\n",
        "  return np.sqrt(1-x)\n",
        "\n",
        "def fixed_point(f, x_initial, tol):\n",
        "  \"\"\"\n",
        "  Finds the root of a function f on the interval [a, b] using the fixed point method.\n",
        "\n",
        "  Args:\n",
        "    f: The function to find the root of.\n",
        "    x_initial: The initial guess for the root.\n",
        "    tol: The tolerance for the solution.\n",
        "\n",
        "  Returns:\n",
        "    The root of the function f on the interval [a, b].\n",
        "  \"\"\"\n",
        "\n",
        "  x = x_initial\n",
        "  while abs(f(x) - x) > tol:\n",
        "    x = f(x)\n",
        "\n",
        "  return x\n",
        "\n",
        "# Set the initial guess.\n",
        "x_initial = -4\n",
        "\n",
        "# Set the tolerance.\n",
        "tol = 1e-6\n",
        "\n",
        "# Find the root using the fixed point method.\n",
        "root = fixed_point(f, x_initial, tol)\n",
        "\n",
        "# Print the root.\n",
        "print(root)\n"
      ],
      "metadata": {
        "colab": {
          "base_uri": "https://localhost:8080/"
        },
        "id": "UEcZv7yk7CbT",
        "outputId": "cdf0ce59-fdc9-4fe3-e7aa-6f891e7d5e9e"
      },
      "execution_count": 35,
      "outputs": [
        {
          "output_type": "stream",
          "name": "stdout",
          "text": [
            "2.23606797749979\n"
          ]
        },
        {
          "output_type": "stream",
          "name": "stderr",
          "text": [
            "<ipython-input-35-de3f9d26f924>:4: RuntimeWarning: invalid value encountered in sqrt\n",
            "  return np.sqrt(1-x)\n"
          ]
        }
      ]
    },
    {
      "cell_type": "code",
      "source": [
        "# prompt: generate code for rectangle rule to calculate integral of e**(x**2) from 0 to 1\n",
        "\n",
        "import math\n",
        "\n",
        "def f(x):\n",
        "  return math.exp(x**2)\n",
        "\n",
        "def rectangle_rule(f, a, b, n):\n",
        "  \"\"\"\n",
        "  Calculates the integral of a function f on the interval [a, b] using the rectangle rule.\n",
        "\n",
        "  Args:\n",
        "    f: The function to integrate.\n",
        "    a: The lower bound of the interval.\n",
        "    b: The upper bound of the interval.\n",
        "    n: The number of rectangles to use.\n",
        "\n",
        "  Returns:\n",
        "    The integral of the function f on the interval [a, b] using the rectangle rule.\n",
        "  \"\"\"\n",
        "\n",
        "  width = (b - a) / n\n",
        "  sum = 0\n",
        "  for i in range(n):\n",
        "    x_i = a + i * width\n",
        "    sum += f(x_i) * width\n",
        "\n",
        "  return sum\n",
        "\n",
        "# Set the interval.\n",
        "a = 0\n",
        "b = 1\n",
        "\n",
        "# Set the number of rectangles.\n",
        "n = 100\n",
        "\n",
        "# Calculate the integral.\n",
        "integral = rectangle_rule(f, a, b, n)\n",
        "\n",
        "# Print the integral.\n",
        "print(integral)\n"
      ],
      "metadata": {
        "colab": {
          "base_uri": "https://localhost:8080/"
        },
        "id": "GUvoQ0ST8MmG",
        "outputId": "e036fca1-1d69-40c0-d69e-ebec5429a736"
      },
      "execution_count": 39,
      "outputs": [
        {
          "output_type": "stream",
          "name": "stdout",
          "text": [
            "1.4541056407069772\n"
          ]
        }
      ]
    },
    {
      "cell_type": "code",
      "source": [
        "# prompt: generate code for trapezoidal method to calculate integral of e**(x**2) from 0 to 1\n",
        "\n",
        "def f(x):\n",
        "  return math.exp(x**2)\n",
        "\n",
        "def trapezoidal_rule(f, a, b, n):\n",
        "  \"\"\"\n",
        "  Calculates the integral of a function f on the interval [a, b] using the trapezoidal rule.\n",
        "\n",
        "  Args:\n",
        "    f: The function to integrate.\n",
        "    a: The lower bound of the interval.\n",
        "    b: The upper bound of the interval.\n",
        "    n: The number of trapezoids to use.\n",
        "\n",
        "  Returns:\n",
        "    The integral of the function f on the interval [a, b] using the trapezoidal rule.\n",
        "  \"\"\"\n",
        "\n",
        "  width = (b - a) / n\n",
        "  sum = 0\n",
        "  for i in range(n + 1):\n",
        "    x_i = a + i * width\n",
        "    if i == 0 or i == n:\n",
        "      weight = 1\n",
        "    else:\n",
        "      weight = 2\n",
        "    sum += weight * f(x_i)\n",
        "\n",
        "  return sum * width / 2\n",
        "\n",
        "# Set the interval.\n",
        "a = 0\n",
        "b = 1\n",
        "\n",
        "# Set the number of trapezoids.\n",
        "n = 100\n",
        "\n",
        "# Calculate the integral.\n",
        "integral = trapezoidal_rule(f, a, b, n)\n",
        "\n",
        "# Print the integral.\n",
        "print(integral)\n"
      ],
      "metadata": {
        "colab": {
          "base_uri": "https://localhost:8080/"
        },
        "id": "BdGbQ_5999cx",
        "outputId": "169d38fa-e60f-4667-b1e6-cc54ad000411"
      },
      "execution_count": 44,
      "outputs": [
        {
          "output_type": "stream",
          "name": "stdout",
          "text": [
            "1.462697049849272\n"
          ]
        }
      ]
    },
    {
      "cell_type": "code",
      "source": [
        "# prompt: generate code for simpson 1/3 rule to calculate integral of e**(x**2) from 0 to 1\n",
        "\n",
        "import math\n",
        "\n",
        "def f(x):\n",
        "  return math.exp(x**2)\n",
        "\n",
        "def simpson_rule(f, a, b, n):\n",
        "  \"\"\"\n",
        "  Calculates the integral of a function f on the interval [a, b] using the Simpson's 1/3 rule.\n",
        "\n",
        "  Args:\n",
        "    f: The function to integrate.\n",
        "    a: The lower bound of the interval.\n",
        "    b: The upper bound of the interval.\n",
        "    n: The number of subintervals to use.\n",
        "\n",
        "  Returns:\n",
        "    The integral of the function f on the interval [a, b] using the Simpson's 1/3 rule.\n",
        "  \"\"\"\n",
        "\n",
        "  width = (b - a) / n\n",
        "  sum = 0\n",
        "  for i in range(n + 1):\n",
        "    x_i = a + i * width\n",
        "    if i == 0 or i == n:\n",
        "      weight = 1\n",
        "    elif i % 2 == 1:\n",
        "      weight = 4\n",
        "    else:\n",
        "      weight = 2\n",
        "    sum += weight * f(x_i)\n",
        "\n",
        "  return sum * width / 3\n",
        "\n",
        "# Set the interval.\n",
        "a = 0\n",
        "b = 1\n",
        "\n",
        "# Set the number of subintervals.\n",
        "n = 100\n",
        "\n",
        "# Calculate the integral.\n",
        "integral = simpson_rule(f, a, b, n)\n",
        "\n",
        "# Print the integral.\n",
        "print(integral)\n"
      ],
      "metadata": {
        "colab": {
          "base_uri": "https://localhost:8080/"
        },
        "id": "muyiSf-YCUi0",
        "outputId": "2ba902a3-a029-48d0-d1d8-e24b7a27b4d8"
      },
      "execution_count": 45,
      "outputs": [
        {
          "output_type": "stream",
          "name": "stdout",
          "text": [
            "1.4626517489269333\n"
          ]
        }
      ]
    },
    {
      "cell_type": "code",
      "source": [
        "# prompt: generate code for simpson 3/8 rule to calculate integral of e**(x**2) from 0 to 1\n",
        "\n",
        "def f(x):\n",
        "  return math.exp(x**2)\n",
        "\n",
        "def simpson_38_rule(f, a, b, n):\n",
        "  \"\"\"\n",
        "  Calculates the integral of a function f on the interval [a, b] using the Simpson's 3/8 rule.\n",
        "\n",
        "  Args:\n",
        "    f: The function to integrate.\n",
        "    a: The lower bound of the interval.\n",
        "    b: The upper bound of the interval.\n",
        "    n: The number of subintervals to use.\n",
        "\n",
        "  Returns:\n",
        "    The integral of the function f on the interval [a, b] using the Simpson's 3/8 rule.\n",
        "  \"\"\"\n",
        "\n",
        "  width = (b - a) / n\n",
        "  sum = 0\n",
        "  for i in range(n + 1):\n",
        "    x_i = a + i * width\n",
        "    if i == 0 or i == n:\n",
        "      weight = 1\n",
        "    elif i % 3 == 1:\n",
        "      weight = 3\n",
        "    elif i % 3 == 2:\n",
        "      weight = 2\n",
        "    else:\n",
        "      weight = 3\n",
        "    sum += weight * f(x_i)\n",
        "\n",
        "  return sum * 3 * width / 8\n",
        "\n",
        "# Set the interval.\n",
        "a = 0\n",
        "b = 1\n",
        "\n",
        "# Set the number of subintervals.\n",
        "n = 100\n",
        "\n",
        "# Calculate the integral.\n",
        "integral = simpson_38_rule(f, a, b, n)\n",
        "\n",
        "# Print the integral.\n",
        "print(integral)\n"
      ],
      "metadata": {
        "colab": {
          "base_uri": "https://localhost:8080/"
        },
        "id": "ksV0hQ56CuBT",
        "outputId": "eee8a0d7-fef7-47ee-a55f-54950f6cae58"
      },
      "execution_count": 46,
      "outputs": [
        {
          "output_type": "stream",
          "name": "stdout",
          "text": [
            "1.4580714648000597\n"
          ]
        }
      ]
    },
    {
      "cell_type": "code",
      "source": [
        "# prompt: generate code for gaussian quadrature to calculate integral of e**(x**2) from 0 to 1. use scipy.integrate.quad function\n",
        "\n",
        "import scipy.integrate\n",
        "\n",
        "def f(x):\n",
        "  return math.exp(x**2)\n",
        "\n",
        "# Define the interval of integration.\n",
        "a = 0\n",
        "b = 1\n",
        "\n",
        "# Use scipy.integrate.quad to calculate the integral.\n",
        "integral, error = scipy.integrate.quad(f, a, b)\n",
        "\n",
        "# Print the integral.\n",
        "print(integral)\n"
      ],
      "metadata": {
        "colab": {
          "base_uri": "https://localhost:8080/"
        },
        "id": "OqyOHB8SFgHg",
        "outputId": "7fcf727e-0d54-4602-80ba-4fe027fe2050"
      },
      "execution_count": 47,
      "outputs": [
        {
          "output_type": "stream",
          "name": "stdout",
          "text": [
            "1.4626517459071815\n"
          ]
        }
      ]
    },
    {
      "cell_type": "code",
      "source": [
        "# prompt: generate code for euler method to solve dy/dx=-2*y with initial condition y(0)=1 to calculate y(0.5). Plot solution\n",
        "\n",
        "import numpy as np\n",
        "import matplotlib.pyplot as plt\n",
        "\n",
        "# Define the function to solve.\n",
        "def f(x, y):\n",
        "  return -2 * y\n",
        "\n",
        "# Set the initial conditions.\n",
        "x0 = 0\n",
        "y0 = 1\n",
        "\n",
        "# Set the step size.\n",
        "h = 0.005\n",
        "\n",
        "# Set the number of steps.\n",
        "n = int((0.5 - x0) / h)\n",
        "\n",
        "# Create an array to store the x-values.\n",
        "x = np.zeros(n + 1)\n",
        "\n",
        "# Create an array to store the y-values.\n",
        "y = np.zeros(n + 1)\n",
        "\n",
        "# Set the initial values.\n",
        "x[0] = x0\n",
        "y[0] = y0\n",
        "\n",
        "# Use the Euler method to solve the differential equation.\n",
        "for i in range(n):\n",
        "  y[i + 1] = y[i] + h * f(x[i], y[i])\n",
        "  x[i + 1] = x[i] + h\n",
        "\n",
        "# Plot the solution.\n",
        "plt.plot(x, y)\n",
        "plt.show()\n"
      ],
      "metadata": {
        "colab": {
          "base_uri": "https://localhost:8080/",
          "height": 430
        },
        "id": "HJfYKcMwGGoj",
        "outputId": "697f5ff5-0882-4a27-9b06-25750486487f"
      },
      "execution_count": 53,
      "outputs": [
        {
          "output_type": "display_data",
          "data": {
            "text/plain": [
              "<Figure size 640x480 with 1 Axes>"
            ],
            "image/png": "[encoded data removed]"
          },
          "metadata": {}
        }
      ]
    },
    {
      "cell_type": "code",
      "source": [
        "# prompt: generate code for modified euler's method to solve dy/dx=-2*y with initial condition y(0)=1 to calculate y(0.5). Plot solution\n",
        "\n",
        "import matplotlib.pyplot as plt\n",
        "import numpy as np\n",
        "# Define the function to solve.\n",
        "def f(x, y):\n",
        "  return -2 * y\n",
        "\n",
        "# Set the initial conditions.\n",
        "x0 = 0\n",
        "y0 = 1\n",
        "\n",
        "# Set the step size.\n",
        "h = 0.005\n",
        "\n",
        "# Set the number of steps.\n",
        "n = int((0.5 - x0) / h)\n",
        "\n",
        "# Create an array to store the x-values.\n",
        "x = np.zeros(n + 1)\n",
        "\n",
        "# Create an array to store the y-values.\n",
        "y = np.zeros(n + 1)\n",
        "\n",
        "# Set the initial values.\n",
        "x[0] = x0\n",
        "y[0] = y0\n",
        "\n",
        "# Use the modified Euler method to solve the differential equation.\n",
        "for i in range(n):\n",
        "  y[i + 1] = y[i] + h * f(x[i], y[i])\n",
        "  x[i + 1] = x[i] + h\n",
        "  y[i + 1] = y[i] + h * f(x[i + 1], y[i + 1]) / 2\n",
        "\n",
        "# Plot the solution.\n",
        "plt.plot(x, y)\n",
        "plt.show()\n"
      ],
      "metadata": {
        "colab": {
          "base_uri": "https://localhost:8080/",
          "height": 430
        },
        "id": "Ji3TV2YkH2aY",
        "outputId": "3f722378-8dd7-422b-876d-0afe8da2f441"
      },
      "execution_count": 54,
      "outputs": [
        {
          "output_type": "display_data",
          "data": {
            "text/plain": [
              "<Figure size 640x480 with 1 Axes>"
            ],
            "image/png": "[encoded data removed]"
          },
          "metadata": {}
        }
      ]
    },
    {
      "cell_type": "code",
      "source": [
        "# prompt: generate code for runge kutta method to solve dy/dx=-2*y with initial condition y(0)=1 to calculate y(0.5). Plot solution\n",
        "\n",
        "import matplotlib.pyplot as plt\n",
        "import numpy as np\n",
        "# Define the function to solve.\n",
        "def f(x, y):\n",
        "  return -2 * y\n",
        "\n",
        "# Set the initial conditions.\n",
        "x0 = 0\n",
        "y0 = 1\n",
        "\n",
        "# Set the step size.\n",
        "h = 0.005\n",
        "\n",
        "# Set the number of steps.\n",
        "n = int((0.5 - x0) / h)\n",
        "\n",
        "# Create an array to store the x-values.\n",
        "x = np.zeros(n + 1)\n",
        "\n",
        "# Create an array to store the y-values.\n",
        "y = np.zeros(n + 1)\n",
        "\n",
        "# Set the initial values.\n",
        "x[0] = x0\n",
        "y[0] = y0\n",
        "\n",
        "# Use the Runge-Kutta method to solve the differential equation.\n",
        "for i in range(n):\n",
        "  k1 = h * f(x[i], y[i])\n",
        "  k2 = h * f(x[i] + h / 2, y[i] + k1 / 2)\n",
        "  k3 = h * f(x[i] + h / 2, y[i] + k2 / 2)\n",
        "  k4 = h * f(x[i] + h, y[i] + k3)\n",
        "  y[i + 1] = y[i] + (k1 + 2 * k2 + 2 * k3 + k4) / 6\n",
        "  x[i + 1] = x[i] + h\n",
        "\n",
        "# Plot the solution.\n",
        "plt.plot(x, y)\n",
        "plt.show()\n"
      ],
      "metadata": {
        "colab": {
          "base_uri": "https://localhost:8080/",
          "height": 430
        },
        "id": "innHH_jKIMyR",
        "outputId": "c7a68d9d-e4cc-4b47-a0a8-42161b5c6554"
      },
      "execution_count": 55,
      "outputs": [
        {
          "output_type": "display_data",
          "data": {
            "text/plain": [
              "<Figure size 640x480 with 1 Axes>"
            ],
            "image/png": "[encoded data removed]"
          },
          "metadata": {}
        }
      ]
    }
  ]
}