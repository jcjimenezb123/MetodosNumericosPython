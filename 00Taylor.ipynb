{
  "nbformat": 4,
  "nbformat_minor": 0,
  "metadata": {
    "colab": {
      "provenance": [],
      "authorship_tag": "ABX9TyMPX21RAxEceNVmbsfMw1PI",
      "include_colab_link": true
    },
    "kernelspec": {
      "name": "python3",
      "display_name": "Python 3"
    },
    "language_info": {
      "name": "python"
    }
  },
  "cells": [
    {
      "cell_type": "markdown",
      "metadata": {
        "id": "view-in-github",
        "colab_type": "text"
      },
      "source": [
        "<a href=\"https://colab.research.google.com/github/jcjimenezb123/MetodosNumericosPython/blob/master/00Taylor.ipynb\" target=\"_parent\"><img src=\"https://colab.research.google.com/assets/colab-badge.svg\" alt=\"Open In Colab\"/></a>"
      ]
    },
    {
      "cell_type": "code",
      "execution_count": 30,
      "metadata": {
        "id": "VGJkJmEGE2Hp"
      },
      "outputs": [],
      "source": [
        "from sympy import Symbol,cos\n",
        "from sympy.plotting import plot"
      ]
    },
    {
      "cell_type": "code",
      "source": [
        "x = Symbol('x')"
      ],
      "metadata": {
        "id": "htYlVqnKE-3g"
      },
      "execution_count": 4,
      "outputs": []
    },
    {
      "cell_type": "code",
      "source": [
        "fx=cos(x)\n",
        "print(fx)"
      ],
      "metadata": {
        "id": "Fh7f60pyFLMY"
      },
      "execution_count": null,
      "outputs": []
    },
    {
      "cell_type": "code",
      "source": [
        "t = fx.series(x,0,7).removeO()\n",
        "print(t)"
      ],
      "metadata": {
        "id": "GQWOAPxrFO6a"
      },
      "execution_count": null,
      "outputs": []
    },
    {
      "cell_type": "code",
      "source": [
        "plot(fx,t,(x,-4,4));"
      ],
      "metadata": {
        "id": "3X6txsMkFpSg"
      },
      "execution_count": null,
      "outputs": []
    }
  ]
}